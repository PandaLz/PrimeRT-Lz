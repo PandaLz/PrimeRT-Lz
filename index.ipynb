{
 "cells": [
  {
   "cell_type": "markdown",
   "metadata": {},
   "source": [
    "# Determine if a number is prime finding factors with help of triangular numbers.\n",
    "\n",
    "Process begins finding a set of values from triangular number formula being as condition the number to test should be odd.\n",
    "\n",
    "Triangular number is obtained by the formula:\n",
    "\n",
    "$$ T_n = \\frac{n \\left( n + 1 \\right)}{2} $$"
   ]
  },
  {
   "cell_type": "code",
   "execution_count": 1,
   "metadata": {},
   "outputs": [],
   "source": [
    "#Import handling cell\n",
    "from IPython.display import HTML, display\n",
    "from util4prime.triangular import *"
   ]
  },
  {
   "cell_type": "code",
   "execution_count": 2,
   "metadata": {},
   "outputs": [
    {
     "data": {
      "text/plain": [
       "int"
      ]
     },
     "execution_count": 2,
     "metadata": {},
     "output_type": "execute_result"
    }
   ],
   "source": [
    "triangular(5)\n",
    "type(triangular(5))"
   ]
  },
  {
   "cell_type": "markdown",
   "metadata": {},
   "source": [
    "For illustrative purposes each step will be showing a set of numbres from 65 to 99:"
   ]
  },
  {
   "cell_type": "code",
   "execution_count": 3,
   "metadata": {
    "scrolled": true
   },
   "outputs": [
    {
     "name": "stdout",
     "output_type": "stream",
     "text": [
      "65 triangular is: 2145\n",
      "67 triangular is: 2278\n",
      "69 triangular is: 2415\n",
      "71 triangular is: 2556\n",
      "73 triangular is: 2701\n",
      "75 triangular is: 2850\n",
      "77 triangular is: 3003\n",
      "79 triangular is: 3160\n",
      "81 triangular is: 3321\n",
      "83 triangular is: 3486\n",
      "85 triangular is: 3655\n",
      "87 triangular is: 3828\n",
      "89 triangular is: 4005\n",
      "91 triangular is: 4186\n",
      "93 triangular is: 4371\n",
      "95 triangular is: 4560\n",
      "97 triangular is: 4753\n",
      "99 triangular is: 4950\n"
     ]
    }
   ],
   "source": [
    "for x in range(65, 100, 2):\n",
    "    print(\"{} triangular is: {}\".format(x, triangular(x)))"
   ]
  },
  {
   "cell_type": "markdown",
   "metadata": {},
   "source": [
    "By decomposing the triangular number formula the following is obtained:\n",
    "\n",
    "$$ T_n = n \\left(\\frac{\\left( n + 1 \\right)}{2}\\right) $$"
   ]
  },
  {
   "cell_type": "markdown",
   "metadata": {},
   "source": [
    "Where left part will be called in this document as \"partial trinagular\" by applying to the specified range reads like this:"
   ]
  },
  {
   "cell_type": "code",
   "execution_count": 4,
   "metadata": {},
   "outputs": [
    {
     "name": "stdout",
     "output_type": "stream",
     "text": [
      "65 triangular: 2145 partial triangular: 33\n",
      "67 triangular: 2278 partial triangular: 34\n",
      "69 triangular: 2415 partial triangular: 35\n",
      "71 triangular: 2556 partial triangular: 36\n",
      "73 triangular: 2701 partial triangular: 37\n",
      "75 triangular: 2850 partial triangular: 38\n",
      "77 triangular: 3003 partial triangular: 39\n",
      "79 triangular: 3160 partial triangular: 40\n",
      "81 triangular: 3321 partial triangular: 41\n",
      "83 triangular: 3486 partial triangular: 42\n",
      "85 triangular: 3655 partial triangular: 43\n",
      "87 triangular: 3828 partial triangular: 44\n",
      "89 triangular: 4005 partial triangular: 45\n",
      "91 triangular: 4186 partial triangular: 46\n",
      "93 triangular: 4371 partial triangular: 47\n",
      "95 triangular: 4560 partial triangular: 48\n",
      "97 triangular: 4753 partial triangular: 49\n",
      "99 triangular: 4950 partial triangular: 50\n"
     ]
    }
   ],
   "source": [
    "for x in range(65, 100, 2):\n",
    "    print(\"{} triangular: {} partial triangular: {}\".format(x, triangular(x), partial_triangular(x)))"
   ]
  },
  {
   "cell_type": "markdown",
   "metadata": {},
   "source": [
    "Having in count partial triangular value 2 sets of sequences can be generated until the triangular value is reached calling each odd number in sequence p:"
   ]
  },
  {
   "cell_type": "code",
   "execution_count": 5,
   "metadata": {
    "scrolled": false
   },
   "outputs": [
    {
     "name": "stdout",
     "output_type": "stream",
     "text": [
      "When p = 65 triangular = 2145 and partial triangular = 33\n"
     ]
    },
    {
     "data": {
      "text/html": [
       "<table><tr><td>2</td><td>2</td><td>3</td><td>3</td><td>4</td><td>4</td><td>5</td><td>5</td><td>6</td><td>6</td><td>7</td><td>7</td><td>8</td><td>8</td><td>9</td><td>9</td><td>10</td><td>10</td><td>11</td><td>11</td><td>12</td><td>12</td><td>13</td><td>13</td><td>14</td><td>14</td><td>15</td><td>15</td><td>16</td><td>16</td><td>17</td><td>17</td><td>18</td><td>18</td><td>19</td><td>19</td><td>20</td><td>20</td><td>21</td><td>21</td><td>22</td><td>22</td><td>23</td><td>23</td><td>24</td><td>24</td><td>25</td><td>25</td><td>26</td><td>26</td><td>27</td><td>27</td><td>28</td><td>28</td><td>29</td><td>29</td><td>30</td><td>30</td><td>31</td><td>31</td><td>32</td><td>32</td><td>33</td><td>33</td></tr><tr><td>130</td><td>130</td><td>195</td><td>195</td><td>260</td><td>260</td><td>325</td><td>325</td><td>390</td><td>390</td><td>455</td><td>455</td><td>520</td><td>520</td><td>585</td><td>585</td><td>650</td><td>650</td><td>715</td><td>715</td><td>780</td><td>780</td><td>845</td><td>845</td><td>910</td><td>910</td><td>975</td><td>975</td><td>1040</td><td>1040</td><td>1105</td><td>1105</td><td>1170</td><td>1170</td><td>1235</td><td>1235</td><td>1300</td><td>1300</td><td>1365</td><td>1365</td><td>1430</td><td>1430</td><td>1495</td><td>1495</td><td>1560</td><td>1560</td><td>1625</td><td>1625</td><td>1690</td><td>1690</td><td>1755</td><td>1755</td><td>1820</td><td>1820</td><td>1885</td><td>1885</td><td>1950</td><td>1950</td><td>2015</td><td>2015</td><td>2080</td><td>2080</td><td>2145</td><td>2145</td></tr><tr><td>2</td><td>3</td><td>4</td><td>5</td><td>6</td><td>7</td><td>8</td><td>9</td><td>10</td><td>11</td><td>12</td><td>13</td><td>14</td><td>15</td><td>16</td><td>17</td><td>18</td><td>19</td><td>20</td><td>21</td><td>22</td><td>23</td><td>24</td><td>25</td><td>26</td><td>27</td><td>28</td><td>29</td><td>30</td><td>31</td><td>32</td><td>33</td><td>34</td><td>35</td><td>36</td><td>37</td><td>38</td><td>39</td><td>40</td><td>41</td><td>42</td><td>43</td><td>44</td><td>45</td><td>46</td><td>47</td><td>48</td><td>49</td><td>50</td><td>51</td><td>52</td><td>53</td><td>54</td><td>55</td><td>56</td><td>57</td><td>58</td><td>59</td><td>60</td><td>61</td><td>62</td><td>63</td><td>64</td><td>65</td></tr><tr><td>66</td><td>99</td><td>132</td><td>165</td><td>198</td><td>231</td><td>264</td><td>297</td><td>330</td><td>363</td><td>396</td><td>429</td><td>462</td><td>495</td><td>528</td><td>561</td><td>594</td><td>627</td><td>660</td><td>693</td><td>726</td><td>759</td><td>792</td><td>825</td><td>858</td><td>891</td><td>924</td><td>957</td><td>990</td><td>1023</td><td>1056</td><td>1089</td><td>1122</td><td>1155</td><td>1188</td><td>1221</td><td>1254</td><td>1287</td><td>1320</td><td>1353</td><td>1386</td><td>1419</td><td>1452</td><td>1485</td><td>1518</td><td>1551</td><td>1584</td><td>1617</td><td>1650</td><td>1683</td><td>1716</td><td>1749</td><td>1782</td><td>1815</td><td>1848</td><td>1881</td><td>1914</td><td>1947</td><td>1980</td><td>2013</td><td>2046</td><td>2079</td><td>2112</td><td>2145</td></tr></table>"
      ],
      "text/plain": [
       "<IPython.core.display.HTML object>"
      ]
     },
     "metadata": {},
     "output_type": "display_data"
    },
    {
     "name": "stdout",
     "output_type": "stream",
     "text": [
      "When p = 67 triangular = 2278 and partial triangular = 34\n"
     ]
    },
    {
     "data": {
      "text/html": [
       "<table><tr><td>2</td><td>2</td><td>3</td><td>3</td><td>4</td><td>4</td><td>5</td><td>5</td><td>6</td><td>6</td><td>7</td><td>7</td><td>8</td><td>8</td><td>9</td><td>9</td><td>10</td><td>10</td><td>11</td><td>11</td><td>12</td><td>12</td><td>13</td><td>13</td><td>14</td><td>14</td><td>15</td><td>15</td><td>16</td><td>16</td><td>17</td><td>17</td><td>18</td><td>18</td><td>19</td><td>19</td><td>20</td><td>20</td><td>21</td><td>21</td><td>22</td><td>22</td><td>23</td><td>23</td><td>24</td><td>24</td><td>25</td><td>25</td><td>26</td><td>26</td><td>27</td><td>27</td><td>28</td><td>28</td><td>29</td><td>29</td><td>30</td><td>30</td><td>31</td><td>31</td><td>32</td><td>32</td><td>33</td><td>33</td><td>34</td><td>34</td></tr><tr><td>134</td><td>134</td><td>201</td><td>201</td><td>268</td><td>268</td><td>335</td><td>335</td><td>402</td><td>402</td><td>469</td><td>469</td><td>536</td><td>536</td><td>603</td><td>603</td><td>670</td><td>670</td><td>737</td><td>737</td><td>804</td><td>804</td><td>871</td><td>871</td><td>938</td><td>938</td><td>1005</td><td>1005</td><td>1072</td><td>1072</td><td>1139</td><td>1139</td><td>1206</td><td>1206</td><td>1273</td><td>1273</td><td>1340</td><td>1340</td><td>1407</td><td>1407</td><td>1474</td><td>1474</td><td>1541</td><td>1541</td><td>1608</td><td>1608</td><td>1675</td><td>1675</td><td>1742</td><td>1742</td><td>1809</td><td>1809</td><td>1876</td><td>1876</td><td>1943</td><td>1943</td><td>2010</td><td>2010</td><td>2077</td><td>2077</td><td>2144</td><td>2144</td><td>2211</td><td>2211</td><td>2278</td><td>2278</td></tr><tr><td>2</td><td>3</td><td>4</td><td>5</td><td>6</td><td>7</td><td>8</td><td>9</td><td>10</td><td>11</td><td>12</td><td>13</td><td>14</td><td>15</td><td>16</td><td>17</td><td>18</td><td>19</td><td>20</td><td>21</td><td>22</td><td>23</td><td>24</td><td>25</td><td>26</td><td>27</td><td>28</td><td>29</td><td>30</td><td>31</td><td>32</td><td>33</td><td>34</td><td>35</td><td>36</td><td>37</td><td>38</td><td>39</td><td>40</td><td>41</td><td>42</td><td>43</td><td>44</td><td>45</td><td>46</td><td>47</td><td>48</td><td>49</td><td>50</td><td>51</td><td>52</td><td>53</td><td>54</td><td>55</td><td>56</td><td>57</td><td>58</td><td>59</td><td>60</td><td>61</td><td>62</td><td>63</td><td>64</td><td>65</td><td>66</td><td>67</td></tr><tr><td>68</td><td>102</td><td>136</td><td>170</td><td>204</td><td>238</td><td>272</td><td>306</td><td>340</td><td>374</td><td>408</td><td>442</td><td>476</td><td>510</td><td>544</td><td>578</td><td>612</td><td>646</td><td>680</td><td>714</td><td>748</td><td>782</td><td>816</td><td>850</td><td>884</td><td>918</td><td>952</td><td>986</td><td>1020</td><td>1054</td><td>1088</td><td>1122</td><td>1156</td><td>1190</td><td>1224</td><td>1258</td><td>1292</td><td>1326</td><td>1360</td><td>1394</td><td>1428</td><td>1462</td><td>1496</td><td>1530</td><td>1564</td><td>1598</td><td>1632</td><td>1666</td><td>1700</td><td>1734</td><td>1768</td><td>1802</td><td>1836</td><td>1870</td><td>1904</td><td>1938</td><td>1972</td><td>2006</td><td>2040</td><td>2074</td><td>2108</td><td>2142</td><td>2176</td><td>2210</td><td>2244</td><td>2278</td></tr></table>"
      ],
      "text/plain": [
       "<IPython.core.display.HTML object>"
      ]
     },
     "metadata": {},
     "output_type": "display_data"
    },
    {
     "name": "stdout",
     "output_type": "stream",
     "text": [
      "When p = 69 triangular = 2415 and partial triangular = 35\n"
     ]
    },
    {
     "data": {
      "text/html": [
       "<table><tr><td>2</td><td>2</td><td>3</td><td>3</td><td>4</td><td>4</td><td>5</td><td>5</td><td>6</td><td>6</td><td>7</td><td>7</td><td>8</td><td>8</td><td>9</td><td>9</td><td>10</td><td>10</td><td>11</td><td>11</td><td>12</td><td>12</td><td>13</td><td>13</td><td>14</td><td>14</td><td>15</td><td>15</td><td>16</td><td>16</td><td>17</td><td>17</td><td>18</td><td>18</td><td>19</td><td>19</td><td>20</td><td>20</td><td>21</td><td>21</td><td>22</td><td>22</td><td>23</td><td>23</td><td>24</td><td>24</td><td>25</td><td>25</td><td>26</td><td>26</td><td>27</td><td>27</td><td>28</td><td>28</td><td>29</td><td>29</td><td>30</td><td>30</td><td>31</td><td>31</td><td>32</td><td>32</td><td>33</td><td>33</td><td>34</td><td>34</td><td>35</td><td>35</td></tr><tr><td>138</td><td>138</td><td>207</td><td>207</td><td>276</td><td>276</td><td>345</td><td>345</td><td>414</td><td>414</td><td>483</td><td>483</td><td>552</td><td>552</td><td>621</td><td>621</td><td>690</td><td>690</td><td>759</td><td>759</td><td>828</td><td>828</td><td>897</td><td>897</td><td>966</td><td>966</td><td>1035</td><td>1035</td><td>1104</td><td>1104</td><td>1173</td><td>1173</td><td>1242</td><td>1242</td><td>1311</td><td>1311</td><td>1380</td><td>1380</td><td>1449</td><td>1449</td><td>1518</td><td>1518</td><td>1587</td><td>1587</td><td>1656</td><td>1656</td><td>1725</td><td>1725</td><td>1794</td><td>1794</td><td>1863</td><td>1863</td><td>1932</td><td>1932</td><td>2001</td><td>2001</td><td>2070</td><td>2070</td><td>2139</td><td>2139</td><td>2208</td><td>2208</td><td>2277</td><td>2277</td><td>2346</td><td>2346</td><td>2415</td><td>2415</td></tr><tr><td>2</td><td>3</td><td>4</td><td>5</td><td>6</td><td>7</td><td>8</td><td>9</td><td>10</td><td>11</td><td>12</td><td>13</td><td>14</td><td>15</td><td>16</td><td>17</td><td>18</td><td>19</td><td>20</td><td>21</td><td>22</td><td>23</td><td>24</td><td>25</td><td>26</td><td>27</td><td>28</td><td>29</td><td>30</td><td>31</td><td>32</td><td>33</td><td>34</td><td>35</td><td>36</td><td>37</td><td>38</td><td>39</td><td>40</td><td>41</td><td>42</td><td>43</td><td>44</td><td>45</td><td>46</td><td>47</td><td>48</td><td>49</td><td>50</td><td>51</td><td>52</td><td>53</td><td>54</td><td>55</td><td>56</td><td>57</td><td>58</td><td>59</td><td>60</td><td>61</td><td>62</td><td>63</td><td>64</td><td>65</td><td>66</td><td>67</td><td>68</td><td>69</td></tr><tr><td>70</td><td>105</td><td>140</td><td>175</td><td>210</td><td>245</td><td>280</td><td>315</td><td>350</td><td>385</td><td>420</td><td>455</td><td>490</td><td>525</td><td>560</td><td>595</td><td>630</td><td>665</td><td>700</td><td>735</td><td>770</td><td>805</td><td>840</td><td>875</td><td>910</td><td>945</td><td>980</td><td>1015</td><td>1050</td><td>1085</td><td>1120</td><td>1155</td><td>1190</td><td>1225</td><td>1260</td><td>1295</td><td>1330</td><td>1365</td><td>1400</td><td>1435</td><td>1470</td><td>1505</td><td>1540</td><td>1575</td><td>1610</td><td>1645</td><td>1680</td><td>1715</td><td>1750</td><td>1785</td><td>1820</td><td>1855</td><td>1890</td><td>1925</td><td>1960</td><td>1995</td><td>2030</td><td>2065</td><td>2100</td><td>2135</td><td>2170</td><td>2205</td><td>2240</td><td>2275</td><td>2310</td><td>2345</td><td>2380</td><td>2415</td></tr></table>"
      ],
      "text/plain": [
       "<IPython.core.display.HTML object>"
      ]
     },
     "metadata": {},
     "output_type": "display_data"
    },
    {
     "name": "stdout",
     "output_type": "stream",
     "text": [
      "When p = 71 triangular = 2556 and partial triangular = 36\n"
     ]
    },
    {
     "data": {
      "text/html": [
       "<table><tr><td>2</td><td>2</td><td>3</td><td>3</td><td>4</td><td>4</td><td>5</td><td>5</td><td>6</td><td>6</td><td>7</td><td>7</td><td>8</td><td>8</td><td>9</td><td>9</td><td>10</td><td>10</td><td>11</td><td>11</td><td>12</td><td>12</td><td>13</td><td>13</td><td>14</td><td>14</td><td>15</td><td>15</td><td>16</td><td>16</td><td>17</td><td>17</td><td>18</td><td>18</td><td>19</td><td>19</td><td>20</td><td>20</td><td>21</td><td>21</td><td>22</td><td>22</td><td>23</td><td>23</td><td>24</td><td>24</td><td>25</td><td>25</td><td>26</td><td>26</td><td>27</td><td>27</td><td>28</td><td>28</td><td>29</td><td>29</td><td>30</td><td>30</td><td>31</td><td>31</td><td>32</td><td>32</td><td>33</td><td>33</td><td>34</td><td>34</td><td>35</td><td>35</td><td>36</td><td>36</td></tr><tr><td>142</td><td>142</td><td>213</td><td>213</td><td>284</td><td>284</td><td>355</td><td>355</td><td>426</td><td>426</td><td>497</td><td>497</td><td>568</td><td>568</td><td>639</td><td>639</td><td>710</td><td>710</td><td>781</td><td>781</td><td>852</td><td>852</td><td>923</td><td>923</td><td>994</td><td>994</td><td>1065</td><td>1065</td><td>1136</td><td>1136</td><td>1207</td><td>1207</td><td>1278</td><td>1278</td><td>1349</td><td>1349</td><td>1420</td><td>1420</td><td>1491</td><td>1491</td><td>1562</td><td>1562</td><td>1633</td><td>1633</td><td>1704</td><td>1704</td><td>1775</td><td>1775</td><td>1846</td><td>1846</td><td>1917</td><td>1917</td><td>1988</td><td>1988</td><td>2059</td><td>2059</td><td>2130</td><td>2130</td><td>2201</td><td>2201</td><td>2272</td><td>2272</td><td>2343</td><td>2343</td><td>2414</td><td>2414</td><td>2485</td><td>2485</td><td>2556</td><td>2556</td></tr><tr><td>2</td><td>3</td><td>4</td><td>5</td><td>6</td><td>7</td><td>8</td><td>9</td><td>10</td><td>11</td><td>12</td><td>13</td><td>14</td><td>15</td><td>16</td><td>17</td><td>18</td><td>19</td><td>20</td><td>21</td><td>22</td><td>23</td><td>24</td><td>25</td><td>26</td><td>27</td><td>28</td><td>29</td><td>30</td><td>31</td><td>32</td><td>33</td><td>34</td><td>35</td><td>36</td><td>37</td><td>38</td><td>39</td><td>40</td><td>41</td><td>42</td><td>43</td><td>44</td><td>45</td><td>46</td><td>47</td><td>48</td><td>49</td><td>50</td><td>51</td><td>52</td><td>53</td><td>54</td><td>55</td><td>56</td><td>57</td><td>58</td><td>59</td><td>60</td><td>61</td><td>62</td><td>63</td><td>64</td><td>65</td><td>66</td><td>67</td><td>68</td><td>69</td><td>70</td><td>71</td></tr><tr><td>72</td><td>108</td><td>144</td><td>180</td><td>216</td><td>252</td><td>288</td><td>324</td><td>360</td><td>396</td><td>432</td><td>468</td><td>504</td><td>540</td><td>576</td><td>612</td><td>648</td><td>684</td><td>720</td><td>756</td><td>792</td><td>828</td><td>864</td><td>900</td><td>936</td><td>972</td><td>1008</td><td>1044</td><td>1080</td><td>1116</td><td>1152</td><td>1188</td><td>1224</td><td>1260</td><td>1296</td><td>1332</td><td>1368</td><td>1404</td><td>1440</td><td>1476</td><td>1512</td><td>1548</td><td>1584</td><td>1620</td><td>1656</td><td>1692</td><td>1728</td><td>1764</td><td>1800</td><td>1836</td><td>1872</td><td>1908</td><td>1944</td><td>1980</td><td>2016</td><td>2052</td><td>2088</td><td>2124</td><td>2160</td><td>2196</td><td>2232</td><td>2268</td><td>2304</td><td>2340</td><td>2376</td><td>2412</td><td>2448</td><td>2484</td><td>2520</td><td>2556</td></tr></table>"
      ],
      "text/plain": [
       "<IPython.core.display.HTML object>"
      ]
     },
     "metadata": {},
     "output_type": "display_data"
    },
    {
     "name": "stdout",
     "output_type": "stream",
     "text": [
      "When p = 73 triangular = 2701 and partial triangular = 37\n"
     ]
    },
    {
     "data": {
      "text/html": [
       "<table><tr><td>2</td><td>2</td><td>3</td><td>3</td><td>4</td><td>4</td><td>5</td><td>5</td><td>6</td><td>6</td><td>7</td><td>7</td><td>8</td><td>8</td><td>9</td><td>9</td><td>10</td><td>10</td><td>11</td><td>11</td><td>12</td><td>12</td><td>13</td><td>13</td><td>14</td><td>14</td><td>15</td><td>15</td><td>16</td><td>16</td><td>17</td><td>17</td><td>18</td><td>18</td><td>19</td><td>19</td><td>20</td><td>20</td><td>21</td><td>21</td><td>22</td><td>22</td><td>23</td><td>23</td><td>24</td><td>24</td><td>25</td><td>25</td><td>26</td><td>26</td><td>27</td><td>27</td><td>28</td><td>28</td><td>29</td><td>29</td><td>30</td><td>30</td><td>31</td><td>31</td><td>32</td><td>32</td><td>33</td><td>33</td><td>34</td><td>34</td><td>35</td><td>35</td><td>36</td><td>36</td><td>37</td><td>37</td></tr><tr><td>146</td><td>146</td><td>219</td><td>219</td><td>292</td><td>292</td><td>365</td><td>365</td><td>438</td><td>438</td><td>511</td><td>511</td><td>584</td><td>584</td><td>657</td><td>657</td><td>730</td><td>730</td><td>803</td><td>803</td><td>876</td><td>876</td><td>949</td><td>949</td><td>1022</td><td>1022</td><td>1095</td><td>1095</td><td>1168</td><td>1168</td><td>1241</td><td>1241</td><td>1314</td><td>1314</td><td>1387</td><td>1387</td><td>1460</td><td>1460</td><td>1533</td><td>1533</td><td>1606</td><td>1606</td><td>1679</td><td>1679</td><td>1752</td><td>1752</td><td>1825</td><td>1825</td><td>1898</td><td>1898</td><td>1971</td><td>1971</td><td>2044</td><td>2044</td><td>2117</td><td>2117</td><td>2190</td><td>2190</td><td>2263</td><td>2263</td><td>2336</td><td>2336</td><td>2409</td><td>2409</td><td>2482</td><td>2482</td><td>2555</td><td>2555</td><td>2628</td><td>2628</td><td>2701</td><td>2701</td></tr><tr><td>2</td><td>3</td><td>4</td><td>5</td><td>6</td><td>7</td><td>8</td><td>9</td><td>10</td><td>11</td><td>12</td><td>13</td><td>14</td><td>15</td><td>16</td><td>17</td><td>18</td><td>19</td><td>20</td><td>21</td><td>22</td><td>23</td><td>24</td><td>25</td><td>26</td><td>27</td><td>28</td><td>29</td><td>30</td><td>31</td><td>32</td><td>33</td><td>34</td><td>35</td><td>36</td><td>37</td><td>38</td><td>39</td><td>40</td><td>41</td><td>42</td><td>43</td><td>44</td><td>45</td><td>46</td><td>47</td><td>48</td><td>49</td><td>50</td><td>51</td><td>52</td><td>53</td><td>54</td><td>55</td><td>56</td><td>57</td><td>58</td><td>59</td><td>60</td><td>61</td><td>62</td><td>63</td><td>64</td><td>65</td><td>66</td><td>67</td><td>68</td><td>69</td><td>70</td><td>71</td><td>72</td><td>73</td></tr><tr><td>74</td><td>111</td><td>148</td><td>185</td><td>222</td><td>259</td><td>296</td><td>333</td><td>370</td><td>407</td><td>444</td><td>481</td><td>518</td><td>555</td><td>592</td><td>629</td><td>666</td><td>703</td><td>740</td><td>777</td><td>814</td><td>851</td><td>888</td><td>925</td><td>962</td><td>999</td><td>1036</td><td>1073</td><td>1110</td><td>1147</td><td>1184</td><td>1221</td><td>1258</td><td>1295</td><td>1332</td><td>1369</td><td>1406</td><td>1443</td><td>1480</td><td>1517</td><td>1554</td><td>1591</td><td>1628</td><td>1665</td><td>1702</td><td>1739</td><td>1776</td><td>1813</td><td>1850</td><td>1887</td><td>1924</td><td>1961</td><td>1998</td><td>2035</td><td>2072</td><td>2109</td><td>2146</td><td>2183</td><td>2220</td><td>2257</td><td>2294</td><td>2331</td><td>2368</td><td>2405</td><td>2442</td><td>2479</td><td>2516</td><td>2553</td><td>2590</td><td>2627</td><td>2664</td><td>2701</td></tr></table>"
      ],
      "text/plain": [
       "<IPython.core.display.HTML object>"
      ]
     },
     "metadata": {},
     "output_type": "display_data"
    },
    {
     "name": "stdout",
     "output_type": "stream",
     "text": [
      "When p = 75 triangular = 2850 and partial triangular = 38\n"
     ]
    },
    {
     "data": {
      "text/html": [
       "<table><tr><td>2</td><td>2</td><td>3</td><td>3</td><td>4</td><td>4</td><td>5</td><td>5</td><td>6</td><td>6</td><td>7</td><td>7</td><td>8</td><td>8</td><td>9</td><td>9</td><td>10</td><td>10</td><td>11</td><td>11</td><td>12</td><td>12</td><td>13</td><td>13</td><td>14</td><td>14</td><td>15</td><td>15</td><td>16</td><td>16</td><td>17</td><td>17</td><td>18</td><td>18</td><td>19</td><td>19</td><td>20</td><td>20</td><td>21</td><td>21</td><td>22</td><td>22</td><td>23</td><td>23</td><td>24</td><td>24</td><td>25</td><td>25</td><td>26</td><td>26</td><td>27</td><td>27</td><td>28</td><td>28</td><td>29</td><td>29</td><td>30</td><td>30</td><td>31</td><td>31</td><td>32</td><td>32</td><td>33</td><td>33</td><td>34</td><td>34</td><td>35</td><td>35</td><td>36</td><td>36</td><td>37</td><td>37</td><td>38</td><td>38</td></tr><tr><td>150</td><td>150</td><td>225</td><td>225</td><td>300</td><td>300</td><td>375</td><td>375</td><td>450</td><td>450</td><td>525</td><td>525</td><td>600</td><td>600</td><td>675</td><td>675</td><td>750</td><td>750</td><td>825</td><td>825</td><td>900</td><td>900</td><td>975</td><td>975</td><td>1050</td><td>1050</td><td>1125</td><td>1125</td><td>1200</td><td>1200</td><td>1275</td><td>1275</td><td>1350</td><td>1350</td><td>1425</td><td>1425</td><td>1500</td><td>1500</td><td>1575</td><td>1575</td><td>1650</td><td>1650</td><td>1725</td><td>1725</td><td>1800</td><td>1800</td><td>1875</td><td>1875</td><td>1950</td><td>1950</td><td>2025</td><td>2025</td><td>2100</td><td>2100</td><td>2175</td><td>2175</td><td>2250</td><td>2250</td><td>2325</td><td>2325</td><td>2400</td><td>2400</td><td>2475</td><td>2475</td><td>2550</td><td>2550</td><td>2625</td><td>2625</td><td>2700</td><td>2700</td><td>2775</td><td>2775</td><td>2850</td><td>2850</td></tr><tr><td>2</td><td>3</td><td>4</td><td>5</td><td>6</td><td>7</td><td>8</td><td>9</td><td>10</td><td>11</td><td>12</td><td>13</td><td>14</td><td>15</td><td>16</td><td>17</td><td>18</td><td>19</td><td>20</td><td>21</td><td>22</td><td>23</td><td>24</td><td>25</td><td>26</td><td>27</td><td>28</td><td>29</td><td>30</td><td>31</td><td>32</td><td>33</td><td>34</td><td>35</td><td>36</td><td>37</td><td>38</td><td>39</td><td>40</td><td>41</td><td>42</td><td>43</td><td>44</td><td>45</td><td>46</td><td>47</td><td>48</td><td>49</td><td>50</td><td>51</td><td>52</td><td>53</td><td>54</td><td>55</td><td>56</td><td>57</td><td>58</td><td>59</td><td>60</td><td>61</td><td>62</td><td>63</td><td>64</td><td>65</td><td>66</td><td>67</td><td>68</td><td>69</td><td>70</td><td>71</td><td>72</td><td>73</td><td>74</td><td>75</td></tr><tr><td>76</td><td>114</td><td>152</td><td>190</td><td>228</td><td>266</td><td>304</td><td>342</td><td>380</td><td>418</td><td>456</td><td>494</td><td>532</td><td>570</td><td>608</td><td>646</td><td>684</td><td>722</td><td>760</td><td>798</td><td>836</td><td>874</td><td>912</td><td>950</td><td>988</td><td>1026</td><td>1064</td><td>1102</td><td>1140</td><td>1178</td><td>1216</td><td>1254</td><td>1292</td><td>1330</td><td>1368</td><td>1406</td><td>1444</td><td>1482</td><td>1520</td><td>1558</td><td>1596</td><td>1634</td><td>1672</td><td>1710</td><td>1748</td><td>1786</td><td>1824</td><td>1862</td><td>1900</td><td>1938</td><td>1976</td><td>2014</td><td>2052</td><td>2090</td><td>2128</td><td>2166</td><td>2204</td><td>2242</td><td>2280</td><td>2318</td><td>2356</td><td>2394</td><td>2432</td><td>2470</td><td>2508</td><td>2546</td><td>2584</td><td>2622</td><td>2660</td><td>2698</td><td>2736</td><td>2774</td><td>2812</td><td>2850</td></tr></table>"
      ],
      "text/plain": [
       "<IPython.core.display.HTML object>"
      ]
     },
     "metadata": {},
     "output_type": "display_data"
    },
    {
     "name": "stdout",
     "output_type": "stream",
     "text": [
      "When p = 77 triangular = 3003 and partial triangular = 39\n"
     ]
    },
    {
     "data": {
      "text/html": [
       "<table><tr><td>2</td><td>2</td><td>3</td><td>3</td><td>4</td><td>4</td><td>5</td><td>5</td><td>6</td><td>6</td><td>7</td><td>7</td><td>8</td><td>8</td><td>9</td><td>9</td><td>10</td><td>10</td><td>11</td><td>11</td><td>12</td><td>12</td><td>13</td><td>13</td><td>14</td><td>14</td><td>15</td><td>15</td><td>16</td><td>16</td><td>17</td><td>17</td><td>18</td><td>18</td><td>19</td><td>19</td><td>20</td><td>20</td><td>21</td><td>21</td><td>22</td><td>22</td><td>23</td><td>23</td><td>24</td><td>24</td><td>25</td><td>25</td><td>26</td><td>26</td><td>27</td><td>27</td><td>28</td><td>28</td><td>29</td><td>29</td><td>30</td><td>30</td><td>31</td><td>31</td><td>32</td><td>32</td><td>33</td><td>33</td><td>34</td><td>34</td><td>35</td><td>35</td><td>36</td><td>36</td><td>37</td><td>37</td><td>38</td><td>38</td><td>39</td><td>39</td></tr><tr><td>154</td><td>154</td><td>231</td><td>231</td><td>308</td><td>308</td><td>385</td><td>385</td><td>462</td><td>462</td><td>539</td><td>539</td><td>616</td><td>616</td><td>693</td><td>693</td><td>770</td><td>770</td><td>847</td><td>847</td><td>924</td><td>924</td><td>1001</td><td>1001</td><td>1078</td><td>1078</td><td>1155</td><td>1155</td><td>1232</td><td>1232</td><td>1309</td><td>1309</td><td>1386</td><td>1386</td><td>1463</td><td>1463</td><td>1540</td><td>1540</td><td>1617</td><td>1617</td><td>1694</td><td>1694</td><td>1771</td><td>1771</td><td>1848</td><td>1848</td><td>1925</td><td>1925</td><td>2002</td><td>2002</td><td>2079</td><td>2079</td><td>2156</td><td>2156</td><td>2233</td><td>2233</td><td>2310</td><td>2310</td><td>2387</td><td>2387</td><td>2464</td><td>2464</td><td>2541</td><td>2541</td><td>2618</td><td>2618</td><td>2695</td><td>2695</td><td>2772</td><td>2772</td><td>2849</td><td>2849</td><td>2926</td><td>2926</td><td>3003</td><td>3003</td></tr><tr><td>2</td><td>3</td><td>4</td><td>5</td><td>6</td><td>7</td><td>8</td><td>9</td><td>10</td><td>11</td><td>12</td><td>13</td><td>14</td><td>15</td><td>16</td><td>17</td><td>18</td><td>19</td><td>20</td><td>21</td><td>22</td><td>23</td><td>24</td><td>25</td><td>26</td><td>27</td><td>28</td><td>29</td><td>30</td><td>31</td><td>32</td><td>33</td><td>34</td><td>35</td><td>36</td><td>37</td><td>38</td><td>39</td><td>40</td><td>41</td><td>42</td><td>43</td><td>44</td><td>45</td><td>46</td><td>47</td><td>48</td><td>49</td><td>50</td><td>51</td><td>52</td><td>53</td><td>54</td><td>55</td><td>56</td><td>57</td><td>58</td><td>59</td><td>60</td><td>61</td><td>62</td><td>63</td><td>64</td><td>65</td><td>66</td><td>67</td><td>68</td><td>69</td><td>70</td><td>71</td><td>72</td><td>73</td><td>74</td><td>75</td><td>76</td><td>77</td></tr><tr><td>78</td><td>117</td><td>156</td><td>195</td><td>234</td><td>273</td><td>312</td><td>351</td><td>390</td><td>429</td><td>468</td><td>507</td><td>546</td><td>585</td><td>624</td><td>663</td><td>702</td><td>741</td><td>780</td><td>819</td><td>858</td><td>897</td><td>936</td><td>975</td><td>1014</td><td>1053</td><td>1092</td><td>1131</td><td>1170</td><td>1209</td><td>1248</td><td>1287</td><td>1326</td><td>1365</td><td>1404</td><td>1443</td><td>1482</td><td>1521</td><td>1560</td><td>1599</td><td>1638</td><td>1677</td><td>1716</td><td>1755</td><td>1794</td><td>1833</td><td>1872</td><td>1911</td><td>1950</td><td>1989</td><td>2028</td><td>2067</td><td>2106</td><td>2145</td><td>2184</td><td>2223</td><td>2262</td><td>2301</td><td>2340</td><td>2379</td><td>2418</td><td>2457</td><td>2496</td><td>2535</td><td>2574</td><td>2613</td><td>2652</td><td>2691</td><td>2730</td><td>2769</td><td>2808</td><td>2847</td><td>2886</td><td>2925</td><td>2964</td><td>3003</td></tr></table>"
      ],
      "text/plain": [
       "<IPython.core.display.HTML object>"
      ]
     },
     "metadata": {},
     "output_type": "display_data"
    },
    {
     "name": "stdout",
     "output_type": "stream",
     "text": [
      "When p = 79 triangular = 3160 and partial triangular = 40\n"
     ]
    },
    {
     "data": {
      "text/html": [
       "<table><tr><td>2</td><td>2</td><td>3</td><td>3</td><td>4</td><td>4</td><td>5</td><td>5</td><td>6</td><td>6</td><td>7</td><td>7</td><td>8</td><td>8</td><td>9</td><td>9</td><td>10</td><td>10</td><td>11</td><td>11</td><td>12</td><td>12</td><td>13</td><td>13</td><td>14</td><td>14</td><td>15</td><td>15</td><td>16</td><td>16</td><td>17</td><td>17</td><td>18</td><td>18</td><td>19</td><td>19</td><td>20</td><td>20</td><td>21</td><td>21</td><td>22</td><td>22</td><td>23</td><td>23</td><td>24</td><td>24</td><td>25</td><td>25</td><td>26</td><td>26</td><td>27</td><td>27</td><td>28</td><td>28</td><td>29</td><td>29</td><td>30</td><td>30</td><td>31</td><td>31</td><td>32</td><td>32</td><td>33</td><td>33</td><td>34</td><td>34</td><td>35</td><td>35</td><td>36</td><td>36</td><td>37</td><td>37</td><td>38</td><td>38</td><td>39</td><td>39</td><td>40</td><td>40</td></tr><tr><td>158</td><td>158</td><td>237</td><td>237</td><td>316</td><td>316</td><td>395</td><td>395</td><td>474</td><td>474</td><td>553</td><td>553</td><td>632</td><td>632</td><td>711</td><td>711</td><td>790</td><td>790</td><td>869</td><td>869</td><td>948</td><td>948</td><td>1027</td><td>1027</td><td>1106</td><td>1106</td><td>1185</td><td>1185</td><td>1264</td><td>1264</td><td>1343</td><td>1343</td><td>1422</td><td>1422</td><td>1501</td><td>1501</td><td>1580</td><td>1580</td><td>1659</td><td>1659</td><td>1738</td><td>1738</td><td>1817</td><td>1817</td><td>1896</td><td>1896</td><td>1975</td><td>1975</td><td>2054</td><td>2054</td><td>2133</td><td>2133</td><td>2212</td><td>2212</td><td>2291</td><td>2291</td><td>2370</td><td>2370</td><td>2449</td><td>2449</td><td>2528</td><td>2528</td><td>2607</td><td>2607</td><td>2686</td><td>2686</td><td>2765</td><td>2765</td><td>2844</td><td>2844</td><td>2923</td><td>2923</td><td>3002</td><td>3002</td><td>3081</td><td>3081</td><td>3160</td><td>3160</td></tr><tr><td>2</td><td>3</td><td>4</td><td>5</td><td>6</td><td>7</td><td>8</td><td>9</td><td>10</td><td>11</td><td>12</td><td>13</td><td>14</td><td>15</td><td>16</td><td>17</td><td>18</td><td>19</td><td>20</td><td>21</td><td>22</td><td>23</td><td>24</td><td>25</td><td>26</td><td>27</td><td>28</td><td>29</td><td>30</td><td>31</td><td>32</td><td>33</td><td>34</td><td>35</td><td>36</td><td>37</td><td>38</td><td>39</td><td>40</td><td>41</td><td>42</td><td>43</td><td>44</td><td>45</td><td>46</td><td>47</td><td>48</td><td>49</td><td>50</td><td>51</td><td>52</td><td>53</td><td>54</td><td>55</td><td>56</td><td>57</td><td>58</td><td>59</td><td>60</td><td>61</td><td>62</td><td>63</td><td>64</td><td>65</td><td>66</td><td>67</td><td>68</td><td>69</td><td>70</td><td>71</td><td>72</td><td>73</td><td>74</td><td>75</td><td>76</td><td>77</td><td>78</td><td>79</td></tr><tr><td>80</td><td>120</td><td>160</td><td>200</td><td>240</td><td>280</td><td>320</td><td>360</td><td>400</td><td>440</td><td>480</td><td>520</td><td>560</td><td>600</td><td>640</td><td>680</td><td>720</td><td>760</td><td>800</td><td>840</td><td>880</td><td>920</td><td>960</td><td>1000</td><td>1040</td><td>1080</td><td>1120</td><td>1160</td><td>1200</td><td>1240</td><td>1280</td><td>1320</td><td>1360</td><td>1400</td><td>1440</td><td>1480</td><td>1520</td><td>1560</td><td>1600</td><td>1640</td><td>1680</td><td>1720</td><td>1760</td><td>1800</td><td>1840</td><td>1880</td><td>1920</td><td>1960</td><td>2000</td><td>2040</td><td>2080</td><td>2120</td><td>2160</td><td>2200</td><td>2240</td><td>2280</td><td>2320</td><td>2360</td><td>2400</td><td>2440</td><td>2480</td><td>2520</td><td>2560</td><td>2600</td><td>2640</td><td>2680</td><td>2720</td><td>2760</td><td>2800</td><td>2840</td><td>2880</td><td>2920</td><td>2960</td><td>3000</td><td>3040</td><td>3080</td><td>3120</td><td>3160</td></tr></table>"
      ],
      "text/plain": [
       "<IPython.core.display.HTML object>"
      ]
     },
     "metadata": {},
     "output_type": "display_data"
    },
    {
     "name": "stdout",
     "output_type": "stream",
     "text": [
      "When p = 81 triangular = 3321 and partial triangular = 41\n"
     ]
    },
    {
     "data": {
      "text/html": [
       "<table><tr><td>2</td><td>2</td><td>3</td><td>3</td><td>4</td><td>4</td><td>5</td><td>5</td><td>6</td><td>6</td><td>7</td><td>7</td><td>8</td><td>8</td><td>9</td><td>9</td><td>10</td><td>10</td><td>11</td><td>11</td><td>12</td><td>12</td><td>13</td><td>13</td><td>14</td><td>14</td><td>15</td><td>15</td><td>16</td><td>16</td><td>17</td><td>17</td><td>18</td><td>18</td><td>19</td><td>19</td><td>20</td><td>20</td><td>21</td><td>21</td><td>22</td><td>22</td><td>23</td><td>23</td><td>24</td><td>24</td><td>25</td><td>25</td><td>26</td><td>26</td><td>27</td><td>27</td><td>28</td><td>28</td><td>29</td><td>29</td><td>30</td><td>30</td><td>31</td><td>31</td><td>32</td><td>32</td><td>33</td><td>33</td><td>34</td><td>34</td><td>35</td><td>35</td><td>36</td><td>36</td><td>37</td><td>37</td><td>38</td><td>38</td><td>39</td><td>39</td><td>40</td><td>40</td><td>41</td><td>41</td></tr><tr><td>162</td><td>162</td><td>243</td><td>243</td><td>324</td><td>324</td><td>405</td><td>405</td><td>486</td><td>486</td><td>567</td><td>567</td><td>648</td><td>648</td><td>729</td><td>729</td><td>810</td><td>810</td><td>891</td><td>891</td><td>972</td><td>972</td><td>1053</td><td>1053</td><td>1134</td><td>1134</td><td>1215</td><td>1215</td><td>1296</td><td>1296</td><td>1377</td><td>1377</td><td>1458</td><td>1458</td><td>1539</td><td>1539</td><td>1620</td><td>1620</td><td>1701</td><td>1701</td><td>1782</td><td>1782</td><td>1863</td><td>1863</td><td>1944</td><td>1944</td><td>2025</td><td>2025</td><td>2106</td><td>2106</td><td>2187</td><td>2187</td><td>2268</td><td>2268</td><td>2349</td><td>2349</td><td>2430</td><td>2430</td><td>2511</td><td>2511</td><td>2592</td><td>2592</td><td>2673</td><td>2673</td><td>2754</td><td>2754</td><td>2835</td><td>2835</td><td>2916</td><td>2916</td><td>2997</td><td>2997</td><td>3078</td><td>3078</td><td>3159</td><td>3159</td><td>3240</td><td>3240</td><td>3321</td><td>3321</td></tr><tr><td>2</td><td>3</td><td>4</td><td>5</td><td>6</td><td>7</td><td>8</td><td>9</td><td>10</td><td>11</td><td>12</td><td>13</td><td>14</td><td>15</td><td>16</td><td>17</td><td>18</td><td>19</td><td>20</td><td>21</td><td>22</td><td>23</td><td>24</td><td>25</td><td>26</td><td>27</td><td>28</td><td>29</td><td>30</td><td>31</td><td>32</td><td>33</td><td>34</td><td>35</td><td>36</td><td>37</td><td>38</td><td>39</td><td>40</td><td>41</td><td>42</td><td>43</td><td>44</td><td>45</td><td>46</td><td>47</td><td>48</td><td>49</td><td>50</td><td>51</td><td>52</td><td>53</td><td>54</td><td>55</td><td>56</td><td>57</td><td>58</td><td>59</td><td>60</td><td>61</td><td>62</td><td>63</td><td>64</td><td>65</td><td>66</td><td>67</td><td>68</td><td>69</td><td>70</td><td>71</td><td>72</td><td>73</td><td>74</td><td>75</td><td>76</td><td>77</td><td>78</td><td>79</td><td>80</td><td>81</td></tr><tr><td>82</td><td>123</td><td>164</td><td>205</td><td>246</td><td>287</td><td>328</td><td>369</td><td>410</td><td>451</td><td>492</td><td>533</td><td>574</td><td>615</td><td>656</td><td>697</td><td>738</td><td>779</td><td>820</td><td>861</td><td>902</td><td>943</td><td>984</td><td>1025</td><td>1066</td><td>1107</td><td>1148</td><td>1189</td><td>1230</td><td>1271</td><td>1312</td><td>1353</td><td>1394</td><td>1435</td><td>1476</td><td>1517</td><td>1558</td><td>1599</td><td>1640</td><td>1681</td><td>1722</td><td>1763</td><td>1804</td><td>1845</td><td>1886</td><td>1927</td><td>1968</td><td>2009</td><td>2050</td><td>2091</td><td>2132</td><td>2173</td><td>2214</td><td>2255</td><td>2296</td><td>2337</td><td>2378</td><td>2419</td><td>2460</td><td>2501</td><td>2542</td><td>2583</td><td>2624</td><td>2665</td><td>2706</td><td>2747</td><td>2788</td><td>2829</td><td>2870</td><td>2911</td><td>2952</td><td>2993</td><td>3034</td><td>3075</td><td>3116</td><td>3157</td><td>3198</td><td>3239</td><td>3280</td><td>3321</td></tr></table>"
      ],
      "text/plain": [
       "<IPython.core.display.HTML object>"
      ]
     },
     "metadata": {},
     "output_type": "display_data"
    },
    {
     "name": "stdout",
     "output_type": "stream",
     "text": [
      "When p = 83 triangular = 3486 and partial triangular = 42\n"
     ]
    },
    {
     "data": {
      "text/html": [
       "<table><tr><td>2</td><td>2</td><td>3</td><td>3</td><td>4</td><td>4</td><td>5</td><td>5</td><td>6</td><td>6</td><td>7</td><td>7</td><td>8</td><td>8</td><td>9</td><td>9</td><td>10</td><td>10</td><td>11</td><td>11</td><td>12</td><td>12</td><td>13</td><td>13</td><td>14</td><td>14</td><td>15</td><td>15</td><td>16</td><td>16</td><td>17</td><td>17</td><td>18</td><td>18</td><td>19</td><td>19</td><td>20</td><td>20</td><td>21</td><td>21</td><td>22</td><td>22</td><td>23</td><td>23</td><td>24</td><td>24</td><td>25</td><td>25</td><td>26</td><td>26</td><td>27</td><td>27</td><td>28</td><td>28</td><td>29</td><td>29</td><td>30</td><td>30</td><td>31</td><td>31</td><td>32</td><td>32</td><td>33</td><td>33</td><td>34</td><td>34</td><td>35</td><td>35</td><td>36</td><td>36</td><td>37</td><td>37</td><td>38</td><td>38</td><td>39</td><td>39</td><td>40</td><td>40</td><td>41</td><td>41</td><td>42</td><td>42</td></tr><tr><td>166</td><td>166</td><td>249</td><td>249</td><td>332</td><td>332</td><td>415</td><td>415</td><td>498</td><td>498</td><td>581</td><td>581</td><td>664</td><td>664</td><td>747</td><td>747</td><td>830</td><td>830</td><td>913</td><td>913</td><td>996</td><td>996</td><td>1079</td><td>1079</td><td>1162</td><td>1162</td><td>1245</td><td>1245</td><td>1328</td><td>1328</td><td>1411</td><td>1411</td><td>1494</td><td>1494</td><td>1577</td><td>1577</td><td>1660</td><td>1660</td><td>1743</td><td>1743</td><td>1826</td><td>1826</td><td>1909</td><td>1909</td><td>1992</td><td>1992</td><td>2075</td><td>2075</td><td>2158</td><td>2158</td><td>2241</td><td>2241</td><td>2324</td><td>2324</td><td>2407</td><td>2407</td><td>2490</td><td>2490</td><td>2573</td><td>2573</td><td>2656</td><td>2656</td><td>2739</td><td>2739</td><td>2822</td><td>2822</td><td>2905</td><td>2905</td><td>2988</td><td>2988</td><td>3071</td><td>3071</td><td>3154</td><td>3154</td><td>3237</td><td>3237</td><td>3320</td><td>3320</td><td>3403</td><td>3403</td><td>3486</td><td>3486</td></tr><tr><td>2</td><td>3</td><td>4</td><td>5</td><td>6</td><td>7</td><td>8</td><td>9</td><td>10</td><td>11</td><td>12</td><td>13</td><td>14</td><td>15</td><td>16</td><td>17</td><td>18</td><td>19</td><td>20</td><td>21</td><td>22</td><td>23</td><td>24</td><td>25</td><td>26</td><td>27</td><td>28</td><td>29</td><td>30</td><td>31</td><td>32</td><td>33</td><td>34</td><td>35</td><td>36</td><td>37</td><td>38</td><td>39</td><td>40</td><td>41</td><td>42</td><td>43</td><td>44</td><td>45</td><td>46</td><td>47</td><td>48</td><td>49</td><td>50</td><td>51</td><td>52</td><td>53</td><td>54</td><td>55</td><td>56</td><td>57</td><td>58</td><td>59</td><td>60</td><td>61</td><td>62</td><td>63</td><td>64</td><td>65</td><td>66</td><td>67</td><td>68</td><td>69</td><td>70</td><td>71</td><td>72</td><td>73</td><td>74</td><td>75</td><td>76</td><td>77</td><td>78</td><td>79</td><td>80</td><td>81</td><td>82</td><td>83</td></tr><tr><td>84</td><td>126</td><td>168</td><td>210</td><td>252</td><td>294</td><td>336</td><td>378</td><td>420</td><td>462</td><td>504</td><td>546</td><td>588</td><td>630</td><td>672</td><td>714</td><td>756</td><td>798</td><td>840</td><td>882</td><td>924</td><td>966</td><td>1008</td><td>1050</td><td>1092</td><td>1134</td><td>1176</td><td>1218</td><td>1260</td><td>1302</td><td>1344</td><td>1386</td><td>1428</td><td>1470</td><td>1512</td><td>1554</td><td>1596</td><td>1638</td><td>1680</td><td>1722</td><td>1764</td><td>1806</td><td>1848</td><td>1890</td><td>1932</td><td>1974</td><td>2016</td><td>2058</td><td>2100</td><td>2142</td><td>2184</td><td>2226</td><td>2268</td><td>2310</td><td>2352</td><td>2394</td><td>2436</td><td>2478</td><td>2520</td><td>2562</td><td>2604</td><td>2646</td><td>2688</td><td>2730</td><td>2772</td><td>2814</td><td>2856</td><td>2898</td><td>2940</td><td>2982</td><td>3024</td><td>3066</td><td>3108</td><td>3150</td><td>3192</td><td>3234</td><td>3276</td><td>3318</td><td>3360</td><td>3402</td><td>3444</td><td>3486</td></tr></table>"
      ],
      "text/plain": [
       "<IPython.core.display.HTML object>"
      ]
     },
     "metadata": {},
     "output_type": "display_data"
    },
    {
     "name": "stdout",
     "output_type": "stream",
     "text": [
      "When p = 85 triangular = 3655 and partial triangular = 43\n"
     ]
    },
    {
     "data": {
      "text/html": [
       "<table><tr><td>2</td><td>2</td><td>3</td><td>3</td><td>4</td><td>4</td><td>5</td><td>5</td><td>6</td><td>6</td><td>7</td><td>7</td><td>8</td><td>8</td><td>9</td><td>9</td><td>10</td><td>10</td><td>11</td><td>11</td><td>12</td><td>12</td><td>13</td><td>13</td><td>14</td><td>14</td><td>15</td><td>15</td><td>16</td><td>16</td><td>17</td><td>17</td><td>18</td><td>18</td><td>19</td><td>19</td><td>20</td><td>20</td><td>21</td><td>21</td><td>22</td><td>22</td><td>23</td><td>23</td><td>24</td><td>24</td><td>25</td><td>25</td><td>26</td><td>26</td><td>27</td><td>27</td><td>28</td><td>28</td><td>29</td><td>29</td><td>30</td><td>30</td><td>31</td><td>31</td><td>32</td><td>32</td><td>33</td><td>33</td><td>34</td><td>34</td><td>35</td><td>35</td><td>36</td><td>36</td><td>37</td><td>37</td><td>38</td><td>38</td><td>39</td><td>39</td><td>40</td><td>40</td><td>41</td><td>41</td><td>42</td><td>42</td><td>43</td><td>43</td></tr><tr><td>170</td><td>170</td><td>255</td><td>255</td><td>340</td><td>340</td><td>425</td><td>425</td><td>510</td><td>510</td><td>595</td><td>595</td><td>680</td><td>680</td><td>765</td><td>765</td><td>850</td><td>850</td><td>935</td><td>935</td><td>1020</td><td>1020</td><td>1105</td><td>1105</td><td>1190</td><td>1190</td><td>1275</td><td>1275</td><td>1360</td><td>1360</td><td>1445</td><td>1445</td><td>1530</td><td>1530</td><td>1615</td><td>1615</td><td>1700</td><td>1700</td><td>1785</td><td>1785</td><td>1870</td><td>1870</td><td>1955</td><td>1955</td><td>2040</td><td>2040</td><td>2125</td><td>2125</td><td>2210</td><td>2210</td><td>2295</td><td>2295</td><td>2380</td><td>2380</td><td>2465</td><td>2465</td><td>2550</td><td>2550</td><td>2635</td><td>2635</td><td>2720</td><td>2720</td><td>2805</td><td>2805</td><td>2890</td><td>2890</td><td>2975</td><td>2975</td><td>3060</td><td>3060</td><td>3145</td><td>3145</td><td>3230</td><td>3230</td><td>3315</td><td>3315</td><td>3400</td><td>3400</td><td>3485</td><td>3485</td><td>3570</td><td>3570</td><td>3655</td><td>3655</td></tr><tr><td>2</td><td>3</td><td>4</td><td>5</td><td>6</td><td>7</td><td>8</td><td>9</td><td>10</td><td>11</td><td>12</td><td>13</td><td>14</td><td>15</td><td>16</td><td>17</td><td>18</td><td>19</td><td>20</td><td>21</td><td>22</td><td>23</td><td>24</td><td>25</td><td>26</td><td>27</td><td>28</td><td>29</td><td>30</td><td>31</td><td>32</td><td>33</td><td>34</td><td>35</td><td>36</td><td>37</td><td>38</td><td>39</td><td>40</td><td>41</td><td>42</td><td>43</td><td>44</td><td>45</td><td>46</td><td>47</td><td>48</td><td>49</td><td>50</td><td>51</td><td>52</td><td>53</td><td>54</td><td>55</td><td>56</td><td>57</td><td>58</td><td>59</td><td>60</td><td>61</td><td>62</td><td>63</td><td>64</td><td>65</td><td>66</td><td>67</td><td>68</td><td>69</td><td>70</td><td>71</td><td>72</td><td>73</td><td>74</td><td>75</td><td>76</td><td>77</td><td>78</td><td>79</td><td>80</td><td>81</td><td>82</td><td>83</td><td>84</td><td>85</td></tr><tr><td>86</td><td>129</td><td>172</td><td>215</td><td>258</td><td>301</td><td>344</td><td>387</td><td>430</td><td>473</td><td>516</td><td>559</td><td>602</td><td>645</td><td>688</td><td>731</td><td>774</td><td>817</td><td>860</td><td>903</td><td>946</td><td>989</td><td>1032</td><td>1075</td><td>1118</td><td>1161</td><td>1204</td><td>1247</td><td>1290</td><td>1333</td><td>1376</td><td>1419</td><td>1462</td><td>1505</td><td>1548</td><td>1591</td><td>1634</td><td>1677</td><td>1720</td><td>1763</td><td>1806</td><td>1849</td><td>1892</td><td>1935</td><td>1978</td><td>2021</td><td>2064</td><td>2107</td><td>2150</td><td>2193</td><td>2236</td><td>2279</td><td>2322</td><td>2365</td><td>2408</td><td>2451</td><td>2494</td><td>2537</td><td>2580</td><td>2623</td><td>2666</td><td>2709</td><td>2752</td><td>2795</td><td>2838</td><td>2881</td><td>2924</td><td>2967</td><td>3010</td><td>3053</td><td>3096</td><td>3139</td><td>3182</td><td>3225</td><td>3268</td><td>3311</td><td>3354</td><td>3397</td><td>3440</td><td>3483</td><td>3526</td><td>3569</td><td>3612</td><td>3655</td></tr></table>"
      ],
      "text/plain": [
       "<IPython.core.display.HTML object>"
      ]
     },
     "metadata": {},
     "output_type": "display_data"
    },
    {
     "name": "stdout",
     "output_type": "stream",
     "text": [
      "When p = 87 triangular = 3828 and partial triangular = 44\n"
     ]
    },
    {
     "data": {
      "text/html": [
       "<table><tr><td>2</td><td>2</td><td>3</td><td>3</td><td>4</td><td>4</td><td>5</td><td>5</td><td>6</td><td>6</td><td>7</td><td>7</td><td>8</td><td>8</td><td>9</td><td>9</td><td>10</td><td>10</td><td>11</td><td>11</td><td>12</td><td>12</td><td>13</td><td>13</td><td>14</td><td>14</td><td>15</td><td>15</td><td>16</td><td>16</td><td>17</td><td>17</td><td>18</td><td>18</td><td>19</td><td>19</td><td>20</td><td>20</td><td>21</td><td>21</td><td>22</td><td>22</td><td>23</td><td>23</td><td>24</td><td>24</td><td>25</td><td>25</td><td>26</td><td>26</td><td>27</td><td>27</td><td>28</td><td>28</td><td>29</td><td>29</td><td>30</td><td>30</td><td>31</td><td>31</td><td>32</td><td>32</td><td>33</td><td>33</td><td>34</td><td>34</td><td>35</td><td>35</td><td>36</td><td>36</td><td>37</td><td>37</td><td>38</td><td>38</td><td>39</td><td>39</td><td>40</td><td>40</td><td>41</td><td>41</td><td>42</td><td>42</td><td>43</td><td>43</td><td>44</td><td>44</td></tr><tr><td>174</td><td>174</td><td>261</td><td>261</td><td>348</td><td>348</td><td>435</td><td>435</td><td>522</td><td>522</td><td>609</td><td>609</td><td>696</td><td>696</td><td>783</td><td>783</td><td>870</td><td>870</td><td>957</td><td>957</td><td>1044</td><td>1044</td><td>1131</td><td>1131</td><td>1218</td><td>1218</td><td>1305</td><td>1305</td><td>1392</td><td>1392</td><td>1479</td><td>1479</td><td>1566</td><td>1566</td><td>1653</td><td>1653</td><td>1740</td><td>1740</td><td>1827</td><td>1827</td><td>1914</td><td>1914</td><td>2001</td><td>2001</td><td>2088</td><td>2088</td><td>2175</td><td>2175</td><td>2262</td><td>2262</td><td>2349</td><td>2349</td><td>2436</td><td>2436</td><td>2523</td><td>2523</td><td>2610</td><td>2610</td><td>2697</td><td>2697</td><td>2784</td><td>2784</td><td>2871</td><td>2871</td><td>2958</td><td>2958</td><td>3045</td><td>3045</td><td>3132</td><td>3132</td><td>3219</td><td>3219</td><td>3306</td><td>3306</td><td>3393</td><td>3393</td><td>3480</td><td>3480</td><td>3567</td><td>3567</td><td>3654</td><td>3654</td><td>3741</td><td>3741</td><td>3828</td><td>3828</td></tr><tr><td>2</td><td>3</td><td>4</td><td>5</td><td>6</td><td>7</td><td>8</td><td>9</td><td>10</td><td>11</td><td>12</td><td>13</td><td>14</td><td>15</td><td>16</td><td>17</td><td>18</td><td>19</td><td>20</td><td>21</td><td>22</td><td>23</td><td>24</td><td>25</td><td>26</td><td>27</td><td>28</td><td>29</td><td>30</td><td>31</td><td>32</td><td>33</td><td>34</td><td>35</td><td>36</td><td>37</td><td>38</td><td>39</td><td>40</td><td>41</td><td>42</td><td>43</td><td>44</td><td>45</td><td>46</td><td>47</td><td>48</td><td>49</td><td>50</td><td>51</td><td>52</td><td>53</td><td>54</td><td>55</td><td>56</td><td>57</td><td>58</td><td>59</td><td>60</td><td>61</td><td>62</td><td>63</td><td>64</td><td>65</td><td>66</td><td>67</td><td>68</td><td>69</td><td>70</td><td>71</td><td>72</td><td>73</td><td>74</td><td>75</td><td>76</td><td>77</td><td>78</td><td>79</td><td>80</td><td>81</td><td>82</td><td>83</td><td>84</td><td>85</td><td>86</td><td>87</td></tr><tr><td>88</td><td>132</td><td>176</td><td>220</td><td>264</td><td>308</td><td>352</td><td>396</td><td>440</td><td>484</td><td>528</td><td>572</td><td>616</td><td>660</td><td>704</td><td>748</td><td>792</td><td>836</td><td>880</td><td>924</td><td>968</td><td>1012</td><td>1056</td><td>1100</td><td>1144</td><td>1188</td><td>1232</td><td>1276</td><td>1320</td><td>1364</td><td>1408</td><td>1452</td><td>1496</td><td>1540</td><td>1584</td><td>1628</td><td>1672</td><td>1716</td><td>1760</td><td>1804</td><td>1848</td><td>1892</td><td>1936</td><td>1980</td><td>2024</td><td>2068</td><td>2112</td><td>2156</td><td>2200</td><td>2244</td><td>2288</td><td>2332</td><td>2376</td><td>2420</td><td>2464</td><td>2508</td><td>2552</td><td>2596</td><td>2640</td><td>2684</td><td>2728</td><td>2772</td><td>2816</td><td>2860</td><td>2904</td><td>2948</td><td>2992</td><td>3036</td><td>3080</td><td>3124</td><td>3168</td><td>3212</td><td>3256</td><td>3300</td><td>3344</td><td>3388</td><td>3432</td><td>3476</td><td>3520</td><td>3564</td><td>3608</td><td>3652</td><td>3696</td><td>3740</td><td>3784</td><td>3828</td></tr></table>"
      ],
      "text/plain": [
       "<IPython.core.display.HTML object>"
      ]
     },
     "metadata": {},
     "output_type": "display_data"
    },
    {
     "name": "stdout",
     "output_type": "stream",
     "text": [
      "When p = 89 triangular = 4005 and partial triangular = 45\n"
     ]
    },
    {
     "data": {
      "text/html": [
       "<table><tr><td>2</td><td>2</td><td>3</td><td>3</td><td>4</td><td>4</td><td>5</td><td>5</td><td>6</td><td>6</td><td>7</td><td>7</td><td>8</td><td>8</td><td>9</td><td>9</td><td>10</td><td>10</td><td>11</td><td>11</td><td>12</td><td>12</td><td>13</td><td>13</td><td>14</td><td>14</td><td>15</td><td>15</td><td>16</td><td>16</td><td>17</td><td>17</td><td>18</td><td>18</td><td>19</td><td>19</td><td>20</td><td>20</td><td>21</td><td>21</td><td>22</td><td>22</td><td>23</td><td>23</td><td>24</td><td>24</td><td>25</td><td>25</td><td>26</td><td>26</td><td>27</td><td>27</td><td>28</td><td>28</td><td>29</td><td>29</td><td>30</td><td>30</td><td>31</td><td>31</td><td>32</td><td>32</td><td>33</td><td>33</td><td>34</td><td>34</td><td>35</td><td>35</td><td>36</td><td>36</td><td>37</td><td>37</td><td>38</td><td>38</td><td>39</td><td>39</td><td>40</td><td>40</td><td>41</td><td>41</td><td>42</td><td>42</td><td>43</td><td>43</td><td>44</td><td>44</td><td>45</td><td>45</td></tr><tr><td>178</td><td>178</td><td>267</td><td>267</td><td>356</td><td>356</td><td>445</td><td>445</td><td>534</td><td>534</td><td>623</td><td>623</td><td>712</td><td>712</td><td>801</td><td>801</td><td>890</td><td>890</td><td>979</td><td>979</td><td>1068</td><td>1068</td><td>1157</td><td>1157</td><td>1246</td><td>1246</td><td>1335</td><td>1335</td><td>1424</td><td>1424</td><td>1513</td><td>1513</td><td>1602</td><td>1602</td><td>1691</td><td>1691</td><td>1780</td><td>1780</td><td>1869</td><td>1869</td><td>1958</td><td>1958</td><td>2047</td><td>2047</td><td>2136</td><td>2136</td><td>2225</td><td>2225</td><td>2314</td><td>2314</td><td>2403</td><td>2403</td><td>2492</td><td>2492</td><td>2581</td><td>2581</td><td>2670</td><td>2670</td><td>2759</td><td>2759</td><td>2848</td><td>2848</td><td>2937</td><td>2937</td><td>3026</td><td>3026</td><td>3115</td><td>3115</td><td>3204</td><td>3204</td><td>3293</td><td>3293</td><td>3382</td><td>3382</td><td>3471</td><td>3471</td><td>3560</td><td>3560</td><td>3649</td><td>3649</td><td>3738</td><td>3738</td><td>3827</td><td>3827</td><td>3916</td><td>3916</td><td>4005</td><td>4005</td></tr><tr><td>2</td><td>3</td><td>4</td><td>5</td><td>6</td><td>7</td><td>8</td><td>9</td><td>10</td><td>11</td><td>12</td><td>13</td><td>14</td><td>15</td><td>16</td><td>17</td><td>18</td><td>19</td><td>20</td><td>21</td><td>22</td><td>23</td><td>24</td><td>25</td><td>26</td><td>27</td><td>28</td><td>29</td><td>30</td><td>31</td><td>32</td><td>33</td><td>34</td><td>35</td><td>36</td><td>37</td><td>38</td><td>39</td><td>40</td><td>41</td><td>42</td><td>43</td><td>44</td><td>45</td><td>46</td><td>47</td><td>48</td><td>49</td><td>50</td><td>51</td><td>52</td><td>53</td><td>54</td><td>55</td><td>56</td><td>57</td><td>58</td><td>59</td><td>60</td><td>61</td><td>62</td><td>63</td><td>64</td><td>65</td><td>66</td><td>67</td><td>68</td><td>69</td><td>70</td><td>71</td><td>72</td><td>73</td><td>74</td><td>75</td><td>76</td><td>77</td><td>78</td><td>79</td><td>80</td><td>81</td><td>82</td><td>83</td><td>84</td><td>85</td><td>86</td><td>87</td><td>88</td><td>89</td></tr><tr><td>90</td><td>135</td><td>180</td><td>225</td><td>270</td><td>315</td><td>360</td><td>405</td><td>450</td><td>495</td><td>540</td><td>585</td><td>630</td><td>675</td><td>720</td><td>765</td><td>810</td><td>855</td><td>900</td><td>945</td><td>990</td><td>1035</td><td>1080</td><td>1125</td><td>1170</td><td>1215</td><td>1260</td><td>1305</td><td>1350</td><td>1395</td><td>1440</td><td>1485</td><td>1530</td><td>1575</td><td>1620</td><td>1665</td><td>1710</td><td>1755</td><td>1800</td><td>1845</td><td>1890</td><td>1935</td><td>1980</td><td>2025</td><td>2070</td><td>2115</td><td>2160</td><td>2205</td><td>2250</td><td>2295</td><td>2340</td><td>2385</td><td>2430</td><td>2475</td><td>2520</td><td>2565</td><td>2610</td><td>2655</td><td>2700</td><td>2745</td><td>2790</td><td>2835</td><td>2880</td><td>2925</td><td>2970</td><td>3015</td><td>3060</td><td>3105</td><td>3150</td><td>3195</td><td>3240</td><td>3285</td><td>3330</td><td>3375</td><td>3420</td><td>3465</td><td>3510</td><td>3555</td><td>3600</td><td>3645</td><td>3690</td><td>3735</td><td>3780</td><td>3825</td><td>3870</td><td>3915</td><td>3960</td><td>4005</td></tr></table>"
      ],
      "text/plain": [
       "<IPython.core.display.HTML object>"
      ]
     },
     "metadata": {},
     "output_type": "display_data"
    },
    {
     "name": "stdout",
     "output_type": "stream",
     "text": [
      "When p = 91 triangular = 4186 and partial triangular = 46\n"
     ]
    },
    {
     "data": {
      "text/html": [
       "<table><tr><td>2</td><td>2</td><td>3</td><td>3</td><td>4</td><td>4</td><td>5</td><td>5</td><td>6</td><td>6</td><td>7</td><td>7</td><td>8</td><td>8</td><td>9</td><td>9</td><td>10</td><td>10</td><td>11</td><td>11</td><td>12</td><td>12</td><td>13</td><td>13</td><td>14</td><td>14</td><td>15</td><td>15</td><td>16</td><td>16</td><td>17</td><td>17</td><td>18</td><td>18</td><td>19</td><td>19</td><td>20</td><td>20</td><td>21</td><td>21</td><td>22</td><td>22</td><td>23</td><td>23</td><td>24</td><td>24</td><td>25</td><td>25</td><td>26</td><td>26</td><td>27</td><td>27</td><td>28</td><td>28</td><td>29</td><td>29</td><td>30</td><td>30</td><td>31</td><td>31</td><td>32</td><td>32</td><td>33</td><td>33</td><td>34</td><td>34</td><td>35</td><td>35</td><td>36</td><td>36</td><td>37</td><td>37</td><td>38</td><td>38</td><td>39</td><td>39</td><td>40</td><td>40</td><td>41</td><td>41</td><td>42</td><td>42</td><td>43</td><td>43</td><td>44</td><td>44</td><td>45</td><td>45</td><td>46</td><td>46</td></tr><tr><td>182</td><td>182</td><td>273</td><td>273</td><td>364</td><td>364</td><td>455</td><td>455</td><td>546</td><td>546</td><td>637</td><td>637</td><td>728</td><td>728</td><td>819</td><td>819</td><td>910</td><td>910</td><td>1001</td><td>1001</td><td>1092</td><td>1092</td><td>1183</td><td>1183</td><td>1274</td><td>1274</td><td>1365</td><td>1365</td><td>1456</td><td>1456</td><td>1547</td><td>1547</td><td>1638</td><td>1638</td><td>1729</td><td>1729</td><td>1820</td><td>1820</td><td>1911</td><td>1911</td><td>2002</td><td>2002</td><td>2093</td><td>2093</td><td>2184</td><td>2184</td><td>2275</td><td>2275</td><td>2366</td><td>2366</td><td>2457</td><td>2457</td><td>2548</td><td>2548</td><td>2639</td><td>2639</td><td>2730</td><td>2730</td><td>2821</td><td>2821</td><td>2912</td><td>2912</td><td>3003</td><td>3003</td><td>3094</td><td>3094</td><td>3185</td><td>3185</td><td>3276</td><td>3276</td><td>3367</td><td>3367</td><td>3458</td><td>3458</td><td>3549</td><td>3549</td><td>3640</td><td>3640</td><td>3731</td><td>3731</td><td>3822</td><td>3822</td><td>3913</td><td>3913</td><td>4004</td><td>4004</td><td>4095</td><td>4095</td><td>4186</td><td>4186</td></tr><tr><td>2</td><td>3</td><td>4</td><td>5</td><td>6</td><td>7</td><td>8</td><td>9</td><td>10</td><td>11</td><td>12</td><td>13</td><td>14</td><td>15</td><td>16</td><td>17</td><td>18</td><td>19</td><td>20</td><td>21</td><td>22</td><td>23</td><td>24</td><td>25</td><td>26</td><td>27</td><td>28</td><td>29</td><td>30</td><td>31</td><td>32</td><td>33</td><td>34</td><td>35</td><td>36</td><td>37</td><td>38</td><td>39</td><td>40</td><td>41</td><td>42</td><td>43</td><td>44</td><td>45</td><td>46</td><td>47</td><td>48</td><td>49</td><td>50</td><td>51</td><td>52</td><td>53</td><td>54</td><td>55</td><td>56</td><td>57</td><td>58</td><td>59</td><td>60</td><td>61</td><td>62</td><td>63</td><td>64</td><td>65</td><td>66</td><td>67</td><td>68</td><td>69</td><td>70</td><td>71</td><td>72</td><td>73</td><td>74</td><td>75</td><td>76</td><td>77</td><td>78</td><td>79</td><td>80</td><td>81</td><td>82</td><td>83</td><td>84</td><td>85</td><td>86</td><td>87</td><td>88</td><td>89</td><td>90</td><td>91</td></tr><tr><td>92</td><td>138</td><td>184</td><td>230</td><td>276</td><td>322</td><td>368</td><td>414</td><td>460</td><td>506</td><td>552</td><td>598</td><td>644</td><td>690</td><td>736</td><td>782</td><td>828</td><td>874</td><td>920</td><td>966</td><td>1012</td><td>1058</td><td>1104</td><td>1150</td><td>1196</td><td>1242</td><td>1288</td><td>1334</td><td>1380</td><td>1426</td><td>1472</td><td>1518</td><td>1564</td><td>1610</td><td>1656</td><td>1702</td><td>1748</td><td>1794</td><td>1840</td><td>1886</td><td>1932</td><td>1978</td><td>2024</td><td>2070</td><td>2116</td><td>2162</td><td>2208</td><td>2254</td><td>2300</td><td>2346</td><td>2392</td><td>2438</td><td>2484</td><td>2530</td><td>2576</td><td>2622</td><td>2668</td><td>2714</td><td>2760</td><td>2806</td><td>2852</td><td>2898</td><td>2944</td><td>2990</td><td>3036</td><td>3082</td><td>3128</td><td>3174</td><td>3220</td><td>3266</td><td>3312</td><td>3358</td><td>3404</td><td>3450</td><td>3496</td><td>3542</td><td>3588</td><td>3634</td><td>3680</td><td>3726</td><td>3772</td><td>3818</td><td>3864</td><td>3910</td><td>3956</td><td>4002</td><td>4048</td><td>4094</td><td>4140</td><td>4186</td></tr></table>"
      ],
      "text/plain": [
       "<IPython.core.display.HTML object>"
      ]
     },
     "metadata": {},
     "output_type": "display_data"
    },
    {
     "name": "stdout",
     "output_type": "stream",
     "text": [
      "When p = 93 triangular = 4371 and partial triangular = 47\n"
     ]
    },
    {
     "data": {
      "text/html": [
       "<table><tr><td>2</td><td>2</td><td>3</td><td>3</td><td>4</td><td>4</td><td>5</td><td>5</td><td>6</td><td>6</td><td>7</td><td>7</td><td>8</td><td>8</td><td>9</td><td>9</td><td>10</td><td>10</td><td>11</td><td>11</td><td>12</td><td>12</td><td>13</td><td>13</td><td>14</td><td>14</td><td>15</td><td>15</td><td>16</td><td>16</td><td>17</td><td>17</td><td>18</td><td>18</td><td>19</td><td>19</td><td>20</td><td>20</td><td>21</td><td>21</td><td>22</td><td>22</td><td>23</td><td>23</td><td>24</td><td>24</td><td>25</td><td>25</td><td>26</td><td>26</td><td>27</td><td>27</td><td>28</td><td>28</td><td>29</td><td>29</td><td>30</td><td>30</td><td>31</td><td>31</td><td>32</td><td>32</td><td>33</td><td>33</td><td>34</td><td>34</td><td>35</td><td>35</td><td>36</td><td>36</td><td>37</td><td>37</td><td>38</td><td>38</td><td>39</td><td>39</td><td>40</td><td>40</td><td>41</td><td>41</td><td>42</td><td>42</td><td>43</td><td>43</td><td>44</td><td>44</td><td>45</td><td>45</td><td>46</td><td>46</td><td>47</td><td>47</td></tr><tr><td>186</td><td>186</td><td>279</td><td>279</td><td>372</td><td>372</td><td>465</td><td>465</td><td>558</td><td>558</td><td>651</td><td>651</td><td>744</td><td>744</td><td>837</td><td>837</td><td>930</td><td>930</td><td>1023</td><td>1023</td><td>1116</td><td>1116</td><td>1209</td><td>1209</td><td>1302</td><td>1302</td><td>1395</td><td>1395</td><td>1488</td><td>1488</td><td>1581</td><td>1581</td><td>1674</td><td>1674</td><td>1767</td><td>1767</td><td>1860</td><td>1860</td><td>1953</td><td>1953</td><td>2046</td><td>2046</td><td>2139</td><td>2139</td><td>2232</td><td>2232</td><td>2325</td><td>2325</td><td>2418</td><td>2418</td><td>2511</td><td>2511</td><td>2604</td><td>2604</td><td>2697</td><td>2697</td><td>2790</td><td>2790</td><td>2883</td><td>2883</td><td>2976</td><td>2976</td><td>3069</td><td>3069</td><td>3162</td><td>3162</td><td>3255</td><td>3255</td><td>3348</td><td>3348</td><td>3441</td><td>3441</td><td>3534</td><td>3534</td><td>3627</td><td>3627</td><td>3720</td><td>3720</td><td>3813</td><td>3813</td><td>3906</td><td>3906</td><td>3999</td><td>3999</td><td>4092</td><td>4092</td><td>4185</td><td>4185</td><td>4278</td><td>4278</td><td>4371</td><td>4371</td></tr><tr><td>2</td><td>3</td><td>4</td><td>5</td><td>6</td><td>7</td><td>8</td><td>9</td><td>10</td><td>11</td><td>12</td><td>13</td><td>14</td><td>15</td><td>16</td><td>17</td><td>18</td><td>19</td><td>20</td><td>21</td><td>22</td><td>23</td><td>24</td><td>25</td><td>26</td><td>27</td><td>28</td><td>29</td><td>30</td><td>31</td><td>32</td><td>33</td><td>34</td><td>35</td><td>36</td><td>37</td><td>38</td><td>39</td><td>40</td><td>41</td><td>42</td><td>43</td><td>44</td><td>45</td><td>46</td><td>47</td><td>48</td><td>49</td><td>50</td><td>51</td><td>52</td><td>53</td><td>54</td><td>55</td><td>56</td><td>57</td><td>58</td><td>59</td><td>60</td><td>61</td><td>62</td><td>63</td><td>64</td><td>65</td><td>66</td><td>67</td><td>68</td><td>69</td><td>70</td><td>71</td><td>72</td><td>73</td><td>74</td><td>75</td><td>76</td><td>77</td><td>78</td><td>79</td><td>80</td><td>81</td><td>82</td><td>83</td><td>84</td><td>85</td><td>86</td><td>87</td><td>88</td><td>89</td><td>90</td><td>91</td><td>92</td><td>93</td></tr><tr><td>94</td><td>141</td><td>188</td><td>235</td><td>282</td><td>329</td><td>376</td><td>423</td><td>470</td><td>517</td><td>564</td><td>611</td><td>658</td><td>705</td><td>752</td><td>799</td><td>846</td><td>893</td><td>940</td><td>987</td><td>1034</td><td>1081</td><td>1128</td><td>1175</td><td>1222</td><td>1269</td><td>1316</td><td>1363</td><td>1410</td><td>1457</td><td>1504</td><td>1551</td><td>1598</td><td>1645</td><td>1692</td><td>1739</td><td>1786</td><td>1833</td><td>1880</td><td>1927</td><td>1974</td><td>2021</td><td>2068</td><td>2115</td><td>2162</td><td>2209</td><td>2256</td><td>2303</td><td>2350</td><td>2397</td><td>2444</td><td>2491</td><td>2538</td><td>2585</td><td>2632</td><td>2679</td><td>2726</td><td>2773</td><td>2820</td><td>2867</td><td>2914</td><td>2961</td><td>3008</td><td>3055</td><td>3102</td><td>3149</td><td>3196</td><td>3243</td><td>3290</td><td>3337</td><td>3384</td><td>3431</td><td>3478</td><td>3525</td><td>3572</td><td>3619</td><td>3666</td><td>3713</td><td>3760</td><td>3807</td><td>3854</td><td>3901</td><td>3948</td><td>3995</td><td>4042</td><td>4089</td><td>4136</td><td>4183</td><td>4230</td><td>4277</td><td>4324</td><td>4371</td></tr></table>"
      ],
      "text/plain": [
       "<IPython.core.display.HTML object>"
      ]
     },
     "metadata": {},
     "output_type": "display_data"
    },
    {
     "name": "stdout",
     "output_type": "stream",
     "text": [
      "When p = 95 triangular = 4560 and partial triangular = 48\n"
     ]
    },
    {
     "data": {
      "text/html": [
       "<table><tr><td>2</td><td>2</td><td>3</td><td>3</td><td>4</td><td>4</td><td>5</td><td>5</td><td>6</td><td>6</td><td>7</td><td>7</td><td>8</td><td>8</td><td>9</td><td>9</td><td>10</td><td>10</td><td>11</td><td>11</td><td>12</td><td>12</td><td>13</td><td>13</td><td>14</td><td>14</td><td>15</td><td>15</td><td>16</td><td>16</td><td>17</td><td>17</td><td>18</td><td>18</td><td>19</td><td>19</td><td>20</td><td>20</td><td>21</td><td>21</td><td>22</td><td>22</td><td>23</td><td>23</td><td>24</td><td>24</td><td>25</td><td>25</td><td>26</td><td>26</td><td>27</td><td>27</td><td>28</td><td>28</td><td>29</td><td>29</td><td>30</td><td>30</td><td>31</td><td>31</td><td>32</td><td>32</td><td>33</td><td>33</td><td>34</td><td>34</td><td>35</td><td>35</td><td>36</td><td>36</td><td>37</td><td>37</td><td>38</td><td>38</td><td>39</td><td>39</td><td>40</td><td>40</td><td>41</td><td>41</td><td>42</td><td>42</td><td>43</td><td>43</td><td>44</td><td>44</td><td>45</td><td>45</td><td>46</td><td>46</td><td>47</td><td>47</td><td>48</td><td>48</td></tr><tr><td>190</td><td>190</td><td>285</td><td>285</td><td>380</td><td>380</td><td>475</td><td>475</td><td>570</td><td>570</td><td>665</td><td>665</td><td>760</td><td>760</td><td>855</td><td>855</td><td>950</td><td>950</td><td>1045</td><td>1045</td><td>1140</td><td>1140</td><td>1235</td><td>1235</td><td>1330</td><td>1330</td><td>1425</td><td>1425</td><td>1520</td><td>1520</td><td>1615</td><td>1615</td><td>1710</td><td>1710</td><td>1805</td><td>1805</td><td>1900</td><td>1900</td><td>1995</td><td>1995</td><td>2090</td><td>2090</td><td>2185</td><td>2185</td><td>2280</td><td>2280</td><td>2375</td><td>2375</td><td>2470</td><td>2470</td><td>2565</td><td>2565</td><td>2660</td><td>2660</td><td>2755</td><td>2755</td><td>2850</td><td>2850</td><td>2945</td><td>2945</td><td>3040</td><td>3040</td><td>3135</td><td>3135</td><td>3230</td><td>3230</td><td>3325</td><td>3325</td><td>3420</td><td>3420</td><td>3515</td><td>3515</td><td>3610</td><td>3610</td><td>3705</td><td>3705</td><td>3800</td><td>3800</td><td>3895</td><td>3895</td><td>3990</td><td>3990</td><td>4085</td><td>4085</td><td>4180</td><td>4180</td><td>4275</td><td>4275</td><td>4370</td><td>4370</td><td>4465</td><td>4465</td><td>4560</td><td>4560</td></tr><tr><td>2</td><td>3</td><td>4</td><td>5</td><td>6</td><td>7</td><td>8</td><td>9</td><td>10</td><td>11</td><td>12</td><td>13</td><td>14</td><td>15</td><td>16</td><td>17</td><td>18</td><td>19</td><td>20</td><td>21</td><td>22</td><td>23</td><td>24</td><td>25</td><td>26</td><td>27</td><td>28</td><td>29</td><td>30</td><td>31</td><td>32</td><td>33</td><td>34</td><td>35</td><td>36</td><td>37</td><td>38</td><td>39</td><td>40</td><td>41</td><td>42</td><td>43</td><td>44</td><td>45</td><td>46</td><td>47</td><td>48</td><td>49</td><td>50</td><td>51</td><td>52</td><td>53</td><td>54</td><td>55</td><td>56</td><td>57</td><td>58</td><td>59</td><td>60</td><td>61</td><td>62</td><td>63</td><td>64</td><td>65</td><td>66</td><td>67</td><td>68</td><td>69</td><td>70</td><td>71</td><td>72</td><td>73</td><td>74</td><td>75</td><td>76</td><td>77</td><td>78</td><td>79</td><td>80</td><td>81</td><td>82</td><td>83</td><td>84</td><td>85</td><td>86</td><td>87</td><td>88</td><td>89</td><td>90</td><td>91</td><td>92</td><td>93</td><td>94</td><td>95</td></tr><tr><td>96</td><td>144</td><td>192</td><td>240</td><td>288</td><td>336</td><td>384</td><td>432</td><td>480</td><td>528</td><td>576</td><td>624</td><td>672</td><td>720</td><td>768</td><td>816</td><td>864</td><td>912</td><td>960</td><td>1008</td><td>1056</td><td>1104</td><td>1152</td><td>1200</td><td>1248</td><td>1296</td><td>1344</td><td>1392</td><td>1440</td><td>1488</td><td>1536</td><td>1584</td><td>1632</td><td>1680</td><td>1728</td><td>1776</td><td>1824</td><td>1872</td><td>1920</td><td>1968</td><td>2016</td><td>2064</td><td>2112</td><td>2160</td><td>2208</td><td>2256</td><td>2304</td><td>2352</td><td>2400</td><td>2448</td><td>2496</td><td>2544</td><td>2592</td><td>2640</td><td>2688</td><td>2736</td><td>2784</td><td>2832</td><td>2880</td><td>2928</td><td>2976</td><td>3024</td><td>3072</td><td>3120</td><td>3168</td><td>3216</td><td>3264</td><td>3312</td><td>3360</td><td>3408</td><td>3456</td><td>3504</td><td>3552</td><td>3600</td><td>3648</td><td>3696</td><td>3744</td><td>3792</td><td>3840</td><td>3888</td><td>3936</td><td>3984</td><td>4032</td><td>4080</td><td>4128</td><td>4176</td><td>4224</td><td>4272</td><td>4320</td><td>4368</td><td>4416</td><td>4464</td><td>4512</td><td>4560</td></tr></table>"
      ],
      "text/plain": [
       "<IPython.core.display.HTML object>"
      ]
     },
     "metadata": {},
     "output_type": "display_data"
    },
    {
     "name": "stdout",
     "output_type": "stream",
     "text": [
      "When p = 97 triangular = 4753 and partial triangular = 49\n"
     ]
    },
    {
     "data": {
      "text/html": [
       "<table><tr><td>2</td><td>2</td><td>3</td><td>3</td><td>4</td><td>4</td><td>5</td><td>5</td><td>6</td><td>6</td><td>7</td><td>7</td><td>8</td><td>8</td><td>9</td><td>9</td><td>10</td><td>10</td><td>11</td><td>11</td><td>12</td><td>12</td><td>13</td><td>13</td><td>14</td><td>14</td><td>15</td><td>15</td><td>16</td><td>16</td><td>17</td><td>17</td><td>18</td><td>18</td><td>19</td><td>19</td><td>20</td><td>20</td><td>21</td><td>21</td><td>22</td><td>22</td><td>23</td><td>23</td><td>24</td><td>24</td><td>25</td><td>25</td><td>26</td><td>26</td><td>27</td><td>27</td><td>28</td><td>28</td><td>29</td><td>29</td><td>30</td><td>30</td><td>31</td><td>31</td><td>32</td><td>32</td><td>33</td><td>33</td><td>34</td><td>34</td><td>35</td><td>35</td><td>36</td><td>36</td><td>37</td><td>37</td><td>38</td><td>38</td><td>39</td><td>39</td><td>40</td><td>40</td><td>41</td><td>41</td><td>42</td><td>42</td><td>43</td><td>43</td><td>44</td><td>44</td><td>45</td><td>45</td><td>46</td><td>46</td><td>47</td><td>47</td><td>48</td><td>48</td><td>49</td><td>49</td></tr><tr><td>194</td><td>194</td><td>291</td><td>291</td><td>388</td><td>388</td><td>485</td><td>485</td><td>582</td><td>582</td><td>679</td><td>679</td><td>776</td><td>776</td><td>873</td><td>873</td><td>970</td><td>970</td><td>1067</td><td>1067</td><td>1164</td><td>1164</td><td>1261</td><td>1261</td><td>1358</td><td>1358</td><td>1455</td><td>1455</td><td>1552</td><td>1552</td><td>1649</td><td>1649</td><td>1746</td><td>1746</td><td>1843</td><td>1843</td><td>1940</td><td>1940</td><td>2037</td><td>2037</td><td>2134</td><td>2134</td><td>2231</td><td>2231</td><td>2328</td><td>2328</td><td>2425</td><td>2425</td><td>2522</td><td>2522</td><td>2619</td><td>2619</td><td>2716</td><td>2716</td><td>2813</td><td>2813</td><td>2910</td><td>2910</td><td>3007</td><td>3007</td><td>3104</td><td>3104</td><td>3201</td><td>3201</td><td>3298</td><td>3298</td><td>3395</td><td>3395</td><td>3492</td><td>3492</td><td>3589</td><td>3589</td><td>3686</td><td>3686</td><td>3783</td><td>3783</td><td>3880</td><td>3880</td><td>3977</td><td>3977</td><td>4074</td><td>4074</td><td>4171</td><td>4171</td><td>4268</td><td>4268</td><td>4365</td><td>4365</td><td>4462</td><td>4462</td><td>4559</td><td>4559</td><td>4656</td><td>4656</td><td>4753</td><td>4753</td></tr><tr><td>2</td><td>3</td><td>4</td><td>5</td><td>6</td><td>7</td><td>8</td><td>9</td><td>10</td><td>11</td><td>12</td><td>13</td><td>14</td><td>15</td><td>16</td><td>17</td><td>18</td><td>19</td><td>20</td><td>21</td><td>22</td><td>23</td><td>24</td><td>25</td><td>26</td><td>27</td><td>28</td><td>29</td><td>30</td><td>31</td><td>32</td><td>33</td><td>34</td><td>35</td><td>36</td><td>37</td><td>38</td><td>39</td><td>40</td><td>41</td><td>42</td><td>43</td><td>44</td><td>45</td><td>46</td><td>47</td><td>48</td><td>49</td><td>50</td><td>51</td><td>52</td><td>53</td><td>54</td><td>55</td><td>56</td><td>57</td><td>58</td><td>59</td><td>60</td><td>61</td><td>62</td><td>63</td><td>64</td><td>65</td><td>66</td><td>67</td><td>68</td><td>69</td><td>70</td><td>71</td><td>72</td><td>73</td><td>74</td><td>75</td><td>76</td><td>77</td><td>78</td><td>79</td><td>80</td><td>81</td><td>82</td><td>83</td><td>84</td><td>85</td><td>86</td><td>87</td><td>88</td><td>89</td><td>90</td><td>91</td><td>92</td><td>93</td><td>94</td><td>95</td><td>96</td><td>97</td></tr><tr><td>98</td><td>147</td><td>196</td><td>245</td><td>294</td><td>343</td><td>392</td><td>441</td><td>490</td><td>539</td><td>588</td><td>637</td><td>686</td><td>735</td><td>784</td><td>833</td><td>882</td><td>931</td><td>980</td><td>1029</td><td>1078</td><td>1127</td><td>1176</td><td>1225</td><td>1274</td><td>1323</td><td>1372</td><td>1421</td><td>1470</td><td>1519</td><td>1568</td><td>1617</td><td>1666</td><td>1715</td><td>1764</td><td>1813</td><td>1862</td><td>1911</td><td>1960</td><td>2009</td><td>2058</td><td>2107</td><td>2156</td><td>2205</td><td>2254</td><td>2303</td><td>2352</td><td>2401</td><td>2450</td><td>2499</td><td>2548</td><td>2597</td><td>2646</td><td>2695</td><td>2744</td><td>2793</td><td>2842</td><td>2891</td><td>2940</td><td>2989</td><td>3038</td><td>3087</td><td>3136</td><td>3185</td><td>3234</td><td>3283</td><td>3332</td><td>3381</td><td>3430</td><td>3479</td><td>3528</td><td>3577</td><td>3626</td><td>3675</td><td>3724</td><td>3773</td><td>3822</td><td>3871</td><td>3920</td><td>3969</td><td>4018</td><td>4067</td><td>4116</td><td>4165</td><td>4214</td><td>4263</td><td>4312</td><td>4361</td><td>4410</td><td>4459</td><td>4508</td><td>4557</td><td>4606</td><td>4655</td><td>4704</td><td>4753</td></tr></table>"
      ],
      "text/plain": [
       "<IPython.core.display.HTML object>"
      ]
     },
     "metadata": {},
     "output_type": "display_data"
    },
    {
     "name": "stdout",
     "output_type": "stream",
     "text": [
      "When p = 99 triangular = 4950 and partial triangular = 50\n"
     ]
    },
    {
     "data": {
      "text/html": [
       "<table><tr><td>2</td><td>2</td><td>3</td><td>3</td><td>4</td><td>4</td><td>5</td><td>5</td><td>6</td><td>6</td><td>7</td><td>7</td><td>8</td><td>8</td><td>9</td><td>9</td><td>10</td><td>10</td><td>11</td><td>11</td><td>12</td><td>12</td><td>13</td><td>13</td><td>14</td><td>14</td><td>15</td><td>15</td><td>16</td><td>16</td><td>17</td><td>17</td><td>18</td><td>18</td><td>19</td><td>19</td><td>20</td><td>20</td><td>21</td><td>21</td><td>22</td><td>22</td><td>23</td><td>23</td><td>24</td><td>24</td><td>25</td><td>25</td><td>26</td><td>26</td><td>27</td><td>27</td><td>28</td><td>28</td><td>29</td><td>29</td><td>30</td><td>30</td><td>31</td><td>31</td><td>32</td><td>32</td><td>33</td><td>33</td><td>34</td><td>34</td><td>35</td><td>35</td><td>36</td><td>36</td><td>37</td><td>37</td><td>38</td><td>38</td><td>39</td><td>39</td><td>40</td><td>40</td><td>41</td><td>41</td><td>42</td><td>42</td><td>43</td><td>43</td><td>44</td><td>44</td><td>45</td><td>45</td><td>46</td><td>46</td><td>47</td><td>47</td><td>48</td><td>48</td><td>49</td><td>49</td><td>50</td><td>50</td></tr><tr><td>198</td><td>198</td><td>297</td><td>297</td><td>396</td><td>396</td><td>495</td><td>495</td><td>594</td><td>594</td><td>693</td><td>693</td><td>792</td><td>792</td><td>891</td><td>891</td><td>990</td><td>990</td><td>1089</td><td>1089</td><td>1188</td><td>1188</td><td>1287</td><td>1287</td><td>1386</td><td>1386</td><td>1485</td><td>1485</td><td>1584</td><td>1584</td><td>1683</td><td>1683</td><td>1782</td><td>1782</td><td>1881</td><td>1881</td><td>1980</td><td>1980</td><td>2079</td><td>2079</td><td>2178</td><td>2178</td><td>2277</td><td>2277</td><td>2376</td><td>2376</td><td>2475</td><td>2475</td><td>2574</td><td>2574</td><td>2673</td><td>2673</td><td>2772</td><td>2772</td><td>2871</td><td>2871</td><td>2970</td><td>2970</td><td>3069</td><td>3069</td><td>3168</td><td>3168</td><td>3267</td><td>3267</td><td>3366</td><td>3366</td><td>3465</td><td>3465</td><td>3564</td><td>3564</td><td>3663</td><td>3663</td><td>3762</td><td>3762</td><td>3861</td><td>3861</td><td>3960</td><td>3960</td><td>4059</td><td>4059</td><td>4158</td><td>4158</td><td>4257</td><td>4257</td><td>4356</td><td>4356</td><td>4455</td><td>4455</td><td>4554</td><td>4554</td><td>4653</td><td>4653</td><td>4752</td><td>4752</td><td>4851</td><td>4851</td><td>4950</td><td>4950</td></tr><tr><td>2</td><td>3</td><td>4</td><td>5</td><td>6</td><td>7</td><td>8</td><td>9</td><td>10</td><td>11</td><td>12</td><td>13</td><td>14</td><td>15</td><td>16</td><td>17</td><td>18</td><td>19</td><td>20</td><td>21</td><td>22</td><td>23</td><td>24</td><td>25</td><td>26</td><td>27</td><td>28</td><td>29</td><td>30</td><td>31</td><td>32</td><td>33</td><td>34</td><td>35</td><td>36</td><td>37</td><td>38</td><td>39</td><td>40</td><td>41</td><td>42</td><td>43</td><td>44</td><td>45</td><td>46</td><td>47</td><td>48</td><td>49</td><td>50</td><td>51</td><td>52</td><td>53</td><td>54</td><td>55</td><td>56</td><td>57</td><td>58</td><td>59</td><td>60</td><td>61</td><td>62</td><td>63</td><td>64</td><td>65</td><td>66</td><td>67</td><td>68</td><td>69</td><td>70</td><td>71</td><td>72</td><td>73</td><td>74</td><td>75</td><td>76</td><td>77</td><td>78</td><td>79</td><td>80</td><td>81</td><td>82</td><td>83</td><td>84</td><td>85</td><td>86</td><td>87</td><td>88</td><td>89</td><td>90</td><td>91</td><td>92</td><td>93</td><td>94</td><td>95</td><td>96</td><td>97</td><td>98</td><td>99</td></tr><tr><td>100</td><td>150</td><td>200</td><td>250</td><td>300</td><td>350</td><td>400</td><td>450</td><td>500</td><td>550</td><td>600</td><td>650</td><td>700</td><td>750</td><td>800</td><td>850</td><td>900</td><td>950</td><td>1000</td><td>1050</td><td>1100</td><td>1150</td><td>1200</td><td>1250</td><td>1300</td><td>1350</td><td>1400</td><td>1450</td><td>1500</td><td>1550</td><td>1600</td><td>1650</td><td>1700</td><td>1750</td><td>1800</td><td>1850</td><td>1900</td><td>1950</td><td>2000</td><td>2050</td><td>2100</td><td>2150</td><td>2200</td><td>2250</td><td>2300</td><td>2350</td><td>2400</td><td>2450</td><td>2500</td><td>2550</td><td>2600</td><td>2650</td><td>2700</td><td>2750</td><td>2800</td><td>2850</td><td>2900</td><td>2950</td><td>3000</td><td>3050</td><td>3100</td><td>3150</td><td>3200</td><td>3250</td><td>3300</td><td>3350</td><td>3400</td><td>3450</td><td>3500</td><td>3550</td><td>3600</td><td>3650</td><td>3700</td><td>3750</td><td>3800</td><td>3850</td><td>3900</td><td>3950</td><td>4000</td><td>4050</td><td>4100</td><td>4150</td><td>4200</td><td>4250</td><td>4300</td><td>4350</td><td>4400</td><td>4450</td><td>4500</td><td>4550</td><td>4600</td><td>4650</td><td>4700</td><td>4750</td><td>4800</td><td>4850</td><td>4900</td><td>4950</td></tr></table>"
      ],
      "text/plain": [
       "<IPython.core.display.HTML object>"
      ]
     },
     "metadata": {},
     "output_type": "display_data"
    }
   ],
   "source": [
    "for p in range(65, 100, 2):\n",
    "    t = triangular(p)\n",
    "    partialt = partial_triangular(p)\n",
    "    \n",
    "    sequences = [[],[],[],[]]\n",
    "    \n",
    "    for x1 in range (2, partialt + 1):\n",
    "        sequences[0].append(x1)\n",
    "        #for sake of matching with second sequence will append x1 twice\n",
    "        sequences[0].append(x1)\n",
    "    for x2 in sequences[0]:\n",
    "        sequences[1].append(p * x2)\n",
    "    for x3 in range (2, p +1):\n",
    "        sequences[2].append(x3)\n",
    "    for x4 in sequences[2]:\n",
    "        sequences[3].append(x4 * partialt)\n",
    "    \n",
    "    print(\"When p = {} triangular = {} and partial triangular = {}\".format(p, t, partialt))\n",
    "    \n",
    "    display(HTML(\n",
    "        '<table><tr>{}</tr></table>'.format(\n",
    "            '</tr><tr>'.join(\n",
    "                '<td>{}</td>'.format('</td><td>'.join(str(_) for _ in row)) for row in sequences)\n",
    "            )\n",
    "     ))"
   ]
  },
  {
   "cell_type": "markdown",
   "metadata": {},
   "source": [
    "Observe the increments on both sets of sequences being the first incrementing p by partial triangular and the second partial triangular incemented by p until both converge at triangular value of p, to loof for a relationship between the values modulo between both sequences is applied:"
   ]
  },
  {
   "cell_type": "code",
   "execution_count": 6,
   "metadata": {},
   "outputs": [
    {
     "name": "stdout",
     "output_type": "stream",
     "text": [
      "When p = 65 triangular = 2145 and partial triangular = 33\n"
     ]
    },
    {
     "data": {
      "text/html": [
       "<table><tr><td>2</td><td>2</td><td>3</td><td>3</td><td>4</td><td>4</td><td>5</td><td>5</td><td>6</td><td>6</td><td>7</td><td>7</td><td>8</td><td>8</td><td>9</td><td>9</td><td>10</td><td>10</td><td>11</td><td>11</td><td>12</td><td>12</td><td>13</td><td>13</td><td>14</td><td>14</td><td>15</td><td>15</td><td>16</td><td>16</td><td>17</td><td>17</td><td>18</td><td>18</td><td>19</td><td>19</td><td>20</td><td>20</td><td>21</td><td>21</td><td>22</td><td>22</td><td>23</td><td>23</td><td>24</td><td>24</td><td>25</td><td>25</td><td>26</td><td>26</td><td>27</td><td>27</td><td>28</td><td>28</td><td>29</td><td>29</td><td>30</td><td>30</td><td>31</td><td>31</td><td>32</td><td>32</td><td>33</td><td>33</td></tr><tr><td>130</td><td>130</td><td>195</td><td>195</td><td>260</td><td>260</td><td>325</td><td>325</td><td>390</td><td>390</td><td>455</td><td>455</td><td>520</td><td>520</td><td>585</td><td>585</td><td>650</td><td>650</td><td>715</td><td>715</td><td>780</td><td>780</td><td>845</td><td>845</td><td>910</td><td>910</td><td>975</td><td>975</td><td>1040</td><td>1040</td><td>1105</td><td>1105</td><td>1170</td><td>1170</td><td>1235</td><td>1235</td><td>1300</td><td>1300</td><td>1365</td><td>1365</td><td>1430</td><td>1430</td><td>1495</td><td>1495</td><td>1560</td><td>1560</td><td>1625</td><td>1625</td><td>1690</td><td>1690</td><td>1755</td><td>1755</td><td>1820</td><td>1820</td><td>1885</td><td>1885</td><td>1950</td><td>1950</td><td>2015</td><td>2015</td><td>2080</td><td>2080</td><td>2145</td><td>2145</td></tr><tr><td>2</td><td>3</td><td>4</td><td>5</td><td>6</td><td>7</td><td>8</td><td>9</td><td>10</td><td>11</td><td>12</td><td>13</td><td>14</td><td>15</td><td>16</td><td>17</td><td>18</td><td>19</td><td>20</td><td>21</td><td>22</td><td>23</td><td>24</td><td>25</td><td>26</td><td>27</td><td>28</td><td>29</td><td>30</td><td>31</td><td>32</td><td>33</td><td>34</td><td>35</td><td>36</td><td>37</td><td>38</td><td>39</td><td>40</td><td>41</td><td>42</td><td>43</td><td>44</td><td>45</td><td>46</td><td>47</td><td>48</td><td>49</td><td>50</td><td>51</td><td>52</td><td>53</td><td>54</td><td>55</td><td>56</td><td>57</td><td>58</td><td>59</td><td>60</td><td>61</td><td>62</td><td>63</td><td>64</td><td>65</td></tr><tr><td>66</td><td>99</td><td>132</td><td>165</td><td>198</td><td>231</td><td>264</td><td>297</td><td>330</td><td>363</td><td>396</td><td>429</td><td>462</td><td>495</td><td>528</td><td>561</td><td>594</td><td>627</td><td>660</td><td>693</td><td>726</td><td>759</td><td>792</td><td>825</td><td>858</td><td>891</td><td>924</td><td>957</td><td>990</td><td>1023</td><td>1056</td><td>1089</td><td>1122</td><td>1155</td><td>1188</td><td>1221</td><td>1254</td><td>1287</td><td>1320</td><td>1353</td><td>1386</td><td>1419</td><td>1452</td><td>1485</td><td>1518</td><td>1551</td><td>1584</td><td>1617</td><td>1650</td><td>1683</td><td>1716</td><td>1749</td><td>1782</td><td>1815</td><td>1848</td><td>1881</td><td>1914</td><td>1947</td><td>1980</td><td>2013</td><td>2046</td><td>2079</td><td>2112</td><td>2145</td></tr><tr><td>64</td><td>31</td><td>63</td><td>30</td><td>62</td><td>29</td><td>61</td><td>28</td><td>60</td><td>27</td><td>59</td><td>26</td><td>58</td><td>25</td><td>57</td><td>24</td><td>56</td><td>23</td><td>55</td><td>22</td><td>54</td><td>21</td><td>53</td><td>20</td><td>52</td><td>19</td><td>51</td><td>18</td><td>50</td><td>17</td><td>49</td><td>16</td><td>48</td><td>15</td><td>47</td><td>14</td><td>46</td><td>13</td><td>45</td><td>12</td><td>44</td><td>11</td><td>43</td><td>10</td><td>42</td><td>9</td><td>41</td><td>8</td><td>40</td><td>7</td><td>39</td><td>6</td><td>38</td><td>5</td><td>37</td><td>4</td><td>36</td><td>3</td><td>35</td><td>2</td><td>34</td><td>1</td><td>33</td><td>0</td></tr></table>"
      ],
      "text/plain": [
       "<IPython.core.display.HTML object>"
      ]
     },
     "metadata": {},
     "output_type": "display_data"
    },
    {
     "name": "stdout",
     "output_type": "stream",
     "text": [
      "When p = 67 triangular = 2278 and partial triangular = 34\n"
     ]
    },
    {
     "data": {
      "text/html": [
       "<table><tr><td>2</td><td>2</td><td>3</td><td>3</td><td>4</td><td>4</td><td>5</td><td>5</td><td>6</td><td>6</td><td>7</td><td>7</td><td>8</td><td>8</td><td>9</td><td>9</td><td>10</td><td>10</td><td>11</td><td>11</td><td>12</td><td>12</td><td>13</td><td>13</td><td>14</td><td>14</td><td>15</td><td>15</td><td>16</td><td>16</td><td>17</td><td>17</td><td>18</td><td>18</td><td>19</td><td>19</td><td>20</td><td>20</td><td>21</td><td>21</td><td>22</td><td>22</td><td>23</td><td>23</td><td>24</td><td>24</td><td>25</td><td>25</td><td>26</td><td>26</td><td>27</td><td>27</td><td>28</td><td>28</td><td>29</td><td>29</td><td>30</td><td>30</td><td>31</td><td>31</td><td>32</td><td>32</td><td>33</td><td>33</td><td>34</td><td>34</td></tr><tr><td>134</td><td>134</td><td>201</td><td>201</td><td>268</td><td>268</td><td>335</td><td>335</td><td>402</td><td>402</td><td>469</td><td>469</td><td>536</td><td>536</td><td>603</td><td>603</td><td>670</td><td>670</td><td>737</td><td>737</td><td>804</td><td>804</td><td>871</td><td>871</td><td>938</td><td>938</td><td>1005</td><td>1005</td><td>1072</td><td>1072</td><td>1139</td><td>1139</td><td>1206</td><td>1206</td><td>1273</td><td>1273</td><td>1340</td><td>1340</td><td>1407</td><td>1407</td><td>1474</td><td>1474</td><td>1541</td><td>1541</td><td>1608</td><td>1608</td><td>1675</td><td>1675</td><td>1742</td><td>1742</td><td>1809</td><td>1809</td><td>1876</td><td>1876</td><td>1943</td><td>1943</td><td>2010</td><td>2010</td><td>2077</td><td>2077</td><td>2144</td><td>2144</td><td>2211</td><td>2211</td><td>2278</td><td>2278</td></tr><tr><td>2</td><td>3</td><td>4</td><td>5</td><td>6</td><td>7</td><td>8</td><td>9</td><td>10</td><td>11</td><td>12</td><td>13</td><td>14</td><td>15</td><td>16</td><td>17</td><td>18</td><td>19</td><td>20</td><td>21</td><td>22</td><td>23</td><td>24</td><td>25</td><td>26</td><td>27</td><td>28</td><td>29</td><td>30</td><td>31</td><td>32</td><td>33</td><td>34</td><td>35</td><td>36</td><td>37</td><td>38</td><td>39</td><td>40</td><td>41</td><td>42</td><td>43</td><td>44</td><td>45</td><td>46</td><td>47</td><td>48</td><td>49</td><td>50</td><td>51</td><td>52</td><td>53</td><td>54</td><td>55</td><td>56</td><td>57</td><td>58</td><td>59</td><td>60</td><td>61</td><td>62</td><td>63</td><td>64</td><td>65</td><td>66</td><td>67</td></tr><tr><td>68</td><td>102</td><td>136</td><td>170</td><td>204</td><td>238</td><td>272</td><td>306</td><td>340</td><td>374</td><td>408</td><td>442</td><td>476</td><td>510</td><td>544</td><td>578</td><td>612</td><td>646</td><td>680</td><td>714</td><td>748</td><td>782</td><td>816</td><td>850</td><td>884</td><td>918</td><td>952</td><td>986</td><td>1020</td><td>1054</td><td>1088</td><td>1122</td><td>1156</td><td>1190</td><td>1224</td><td>1258</td><td>1292</td><td>1326</td><td>1360</td><td>1394</td><td>1428</td><td>1462</td><td>1496</td><td>1530</td><td>1564</td><td>1598</td><td>1632</td><td>1666</td><td>1700</td><td>1734</td><td>1768</td><td>1802</td><td>1836</td><td>1870</td><td>1904</td><td>1938</td><td>1972</td><td>2006</td><td>2040</td><td>2074</td><td>2108</td><td>2142</td><td>2176</td><td>2210</td><td>2244</td><td>2278</td></tr><tr><td>66</td><td>32</td><td>65</td><td>31</td><td>64</td><td>30</td><td>63</td><td>29</td><td>62</td><td>28</td><td>61</td><td>27</td><td>60</td><td>26</td><td>59</td><td>25</td><td>58</td><td>24</td><td>57</td><td>23</td><td>56</td><td>22</td><td>55</td><td>21</td><td>54</td><td>20</td><td>53</td><td>19</td><td>52</td><td>18</td><td>51</td><td>17</td><td>50</td><td>16</td><td>49</td><td>15</td><td>48</td><td>14</td><td>47</td><td>13</td><td>46</td><td>12</td><td>45</td><td>11</td><td>44</td><td>10</td><td>43</td><td>9</td><td>42</td><td>8</td><td>41</td><td>7</td><td>40</td><td>6</td><td>39</td><td>5</td><td>38</td><td>4</td><td>37</td><td>3</td><td>36</td><td>2</td><td>35</td><td>1</td><td>34</td><td>0</td></tr></table>"
      ],
      "text/plain": [
       "<IPython.core.display.HTML object>"
      ]
     },
     "metadata": {},
     "output_type": "display_data"
    },
    {
     "name": "stdout",
     "output_type": "stream",
     "text": [
      "When p = 69 triangular = 2415 and partial triangular = 35\n"
     ]
    },
    {
     "data": {
      "text/html": [
       "<table><tr><td>2</td><td>2</td><td>3</td><td>3</td><td>4</td><td>4</td><td>5</td><td>5</td><td>6</td><td>6</td><td>7</td><td>7</td><td>8</td><td>8</td><td>9</td><td>9</td><td>10</td><td>10</td><td>11</td><td>11</td><td>12</td><td>12</td><td>13</td><td>13</td><td>14</td><td>14</td><td>15</td><td>15</td><td>16</td><td>16</td><td>17</td><td>17</td><td>18</td><td>18</td><td>19</td><td>19</td><td>20</td><td>20</td><td>21</td><td>21</td><td>22</td><td>22</td><td>23</td><td>23</td><td>24</td><td>24</td><td>25</td><td>25</td><td>26</td><td>26</td><td>27</td><td>27</td><td>28</td><td>28</td><td>29</td><td>29</td><td>30</td><td>30</td><td>31</td><td>31</td><td>32</td><td>32</td><td>33</td><td>33</td><td>34</td><td>34</td><td>35</td><td>35</td></tr><tr><td>138</td><td>138</td><td>207</td><td>207</td><td>276</td><td>276</td><td>345</td><td>345</td><td>414</td><td>414</td><td>483</td><td>483</td><td>552</td><td>552</td><td>621</td><td>621</td><td>690</td><td>690</td><td>759</td><td>759</td><td>828</td><td>828</td><td>897</td><td>897</td><td>966</td><td>966</td><td>1035</td><td>1035</td><td>1104</td><td>1104</td><td>1173</td><td>1173</td><td>1242</td><td>1242</td><td>1311</td><td>1311</td><td>1380</td><td>1380</td><td>1449</td><td>1449</td><td>1518</td><td>1518</td><td>1587</td><td>1587</td><td>1656</td><td>1656</td><td>1725</td><td>1725</td><td>1794</td><td>1794</td><td>1863</td><td>1863</td><td>1932</td><td>1932</td><td>2001</td><td>2001</td><td>2070</td><td>2070</td><td>2139</td><td>2139</td><td>2208</td><td>2208</td><td>2277</td><td>2277</td><td>2346</td><td>2346</td><td>2415</td><td>2415</td></tr><tr><td>2</td><td>3</td><td>4</td><td>5</td><td>6</td><td>7</td><td>8</td><td>9</td><td>10</td><td>11</td><td>12</td><td>13</td><td>14</td><td>15</td><td>16</td><td>17</td><td>18</td><td>19</td><td>20</td><td>21</td><td>22</td><td>23</td><td>24</td><td>25</td><td>26</td><td>27</td><td>28</td><td>29</td><td>30</td><td>31</td><td>32</td><td>33</td><td>34</td><td>35</td><td>36</td><td>37</td><td>38</td><td>39</td><td>40</td><td>41</td><td>42</td><td>43</td><td>44</td><td>45</td><td>46</td><td>47</td><td>48</td><td>49</td><td>50</td><td>51</td><td>52</td><td>53</td><td>54</td><td>55</td><td>56</td><td>57</td><td>58</td><td>59</td><td>60</td><td>61</td><td>62</td><td>63</td><td>64</td><td>65</td><td>66</td><td>67</td><td>68</td><td>69</td></tr><tr><td>70</td><td>105</td><td>140</td><td>175</td><td>210</td><td>245</td><td>280</td><td>315</td><td>350</td><td>385</td><td>420</td><td>455</td><td>490</td><td>525</td><td>560</td><td>595</td><td>630</td><td>665</td><td>700</td><td>735</td><td>770</td><td>805</td><td>840</td><td>875</td><td>910</td><td>945</td><td>980</td><td>1015</td><td>1050</td><td>1085</td><td>1120</td><td>1155</td><td>1190</td><td>1225</td><td>1260</td><td>1295</td><td>1330</td><td>1365</td><td>1400</td><td>1435</td><td>1470</td><td>1505</td><td>1540</td><td>1575</td><td>1610</td><td>1645</td><td>1680</td><td>1715</td><td>1750</td><td>1785</td><td>1820</td><td>1855</td><td>1890</td><td>1925</td><td>1960</td><td>1995</td><td>2030</td><td>2065</td><td>2100</td><td>2135</td><td>2170</td><td>2205</td><td>2240</td><td>2275</td><td>2310</td><td>2345</td><td>2380</td><td>2415</td></tr><tr><td>68</td><td>33</td><td>67</td><td>32</td><td>66</td><td>31</td><td>65</td><td>30</td><td>64</td><td>29</td><td>63</td><td>28</td><td>62</td><td>27</td><td>61</td><td>26</td><td>60</td><td>25</td><td>59</td><td>24</td><td>58</td><td>23</td><td>57</td><td>22</td><td>56</td><td>21</td><td>55</td><td>20</td><td>54</td><td>19</td><td>53</td><td>18</td><td>52</td><td>17</td><td>51</td><td>16</td><td>50</td><td>15</td><td>49</td><td>14</td><td>48</td><td>13</td><td>47</td><td>12</td><td>46</td><td>11</td><td>45</td><td>10</td><td>44</td><td>9</td><td>43</td><td>8</td><td>42</td><td>7</td><td>41</td><td>6</td><td>40</td><td>5</td><td>39</td><td>4</td><td>38</td><td>3</td><td>37</td><td>2</td><td>36</td><td>1</td><td>35</td><td>0</td></tr></table>"
      ],
      "text/plain": [
       "<IPython.core.display.HTML object>"
      ]
     },
     "metadata": {},
     "output_type": "display_data"
    },
    {
     "name": "stdout",
     "output_type": "stream",
     "text": [
      "When p = 71 triangular = 2556 and partial triangular = 36\n"
     ]
    },
    {
     "data": {
      "text/html": [
       "<table><tr><td>2</td><td>2</td><td>3</td><td>3</td><td>4</td><td>4</td><td>5</td><td>5</td><td>6</td><td>6</td><td>7</td><td>7</td><td>8</td><td>8</td><td>9</td><td>9</td><td>10</td><td>10</td><td>11</td><td>11</td><td>12</td><td>12</td><td>13</td><td>13</td><td>14</td><td>14</td><td>15</td><td>15</td><td>16</td><td>16</td><td>17</td><td>17</td><td>18</td><td>18</td><td>19</td><td>19</td><td>20</td><td>20</td><td>21</td><td>21</td><td>22</td><td>22</td><td>23</td><td>23</td><td>24</td><td>24</td><td>25</td><td>25</td><td>26</td><td>26</td><td>27</td><td>27</td><td>28</td><td>28</td><td>29</td><td>29</td><td>30</td><td>30</td><td>31</td><td>31</td><td>32</td><td>32</td><td>33</td><td>33</td><td>34</td><td>34</td><td>35</td><td>35</td><td>36</td><td>36</td></tr><tr><td>142</td><td>142</td><td>213</td><td>213</td><td>284</td><td>284</td><td>355</td><td>355</td><td>426</td><td>426</td><td>497</td><td>497</td><td>568</td><td>568</td><td>639</td><td>639</td><td>710</td><td>710</td><td>781</td><td>781</td><td>852</td><td>852</td><td>923</td><td>923</td><td>994</td><td>994</td><td>1065</td><td>1065</td><td>1136</td><td>1136</td><td>1207</td><td>1207</td><td>1278</td><td>1278</td><td>1349</td><td>1349</td><td>1420</td><td>1420</td><td>1491</td><td>1491</td><td>1562</td><td>1562</td><td>1633</td><td>1633</td><td>1704</td><td>1704</td><td>1775</td><td>1775</td><td>1846</td><td>1846</td><td>1917</td><td>1917</td><td>1988</td><td>1988</td><td>2059</td><td>2059</td><td>2130</td><td>2130</td><td>2201</td><td>2201</td><td>2272</td><td>2272</td><td>2343</td><td>2343</td><td>2414</td><td>2414</td><td>2485</td><td>2485</td><td>2556</td><td>2556</td></tr><tr><td>2</td><td>3</td><td>4</td><td>5</td><td>6</td><td>7</td><td>8</td><td>9</td><td>10</td><td>11</td><td>12</td><td>13</td><td>14</td><td>15</td><td>16</td><td>17</td><td>18</td><td>19</td><td>20</td><td>21</td><td>22</td><td>23</td><td>24</td><td>25</td><td>26</td><td>27</td><td>28</td><td>29</td><td>30</td><td>31</td><td>32</td><td>33</td><td>34</td><td>35</td><td>36</td><td>37</td><td>38</td><td>39</td><td>40</td><td>41</td><td>42</td><td>43</td><td>44</td><td>45</td><td>46</td><td>47</td><td>48</td><td>49</td><td>50</td><td>51</td><td>52</td><td>53</td><td>54</td><td>55</td><td>56</td><td>57</td><td>58</td><td>59</td><td>60</td><td>61</td><td>62</td><td>63</td><td>64</td><td>65</td><td>66</td><td>67</td><td>68</td><td>69</td><td>70</td><td>71</td></tr><tr><td>72</td><td>108</td><td>144</td><td>180</td><td>216</td><td>252</td><td>288</td><td>324</td><td>360</td><td>396</td><td>432</td><td>468</td><td>504</td><td>540</td><td>576</td><td>612</td><td>648</td><td>684</td><td>720</td><td>756</td><td>792</td><td>828</td><td>864</td><td>900</td><td>936</td><td>972</td><td>1008</td><td>1044</td><td>1080</td><td>1116</td><td>1152</td><td>1188</td><td>1224</td><td>1260</td><td>1296</td><td>1332</td><td>1368</td><td>1404</td><td>1440</td><td>1476</td><td>1512</td><td>1548</td><td>1584</td><td>1620</td><td>1656</td><td>1692</td><td>1728</td><td>1764</td><td>1800</td><td>1836</td><td>1872</td><td>1908</td><td>1944</td><td>1980</td><td>2016</td><td>2052</td><td>2088</td><td>2124</td><td>2160</td><td>2196</td><td>2232</td><td>2268</td><td>2304</td><td>2340</td><td>2376</td><td>2412</td><td>2448</td><td>2484</td><td>2520</td><td>2556</td></tr><tr><td>70</td><td>34</td><td>69</td><td>33</td><td>68</td><td>32</td><td>67</td><td>31</td><td>66</td><td>30</td><td>65</td><td>29</td><td>64</td><td>28</td><td>63</td><td>27</td><td>62</td><td>26</td><td>61</td><td>25</td><td>60</td><td>24</td><td>59</td><td>23</td><td>58</td><td>22</td><td>57</td><td>21</td><td>56</td><td>20</td><td>55</td><td>19</td><td>54</td><td>18</td><td>53</td><td>17</td><td>52</td><td>16</td><td>51</td><td>15</td><td>50</td><td>14</td><td>49</td><td>13</td><td>48</td><td>12</td><td>47</td><td>11</td><td>46</td><td>10</td><td>45</td><td>9</td><td>44</td><td>8</td><td>43</td><td>7</td><td>42</td><td>6</td><td>41</td><td>5</td><td>40</td><td>4</td><td>39</td><td>3</td><td>38</td><td>2</td><td>37</td><td>1</td><td>36</td><td>0</td></tr></table>"
      ],
      "text/plain": [
       "<IPython.core.display.HTML object>"
      ]
     },
     "metadata": {},
     "output_type": "display_data"
    },
    {
     "name": "stdout",
     "output_type": "stream",
     "text": [
      "When p = 73 triangular = 2701 and partial triangular = 37\n"
     ]
    },
    {
     "data": {
      "text/html": [
       "<table><tr><td>2</td><td>2</td><td>3</td><td>3</td><td>4</td><td>4</td><td>5</td><td>5</td><td>6</td><td>6</td><td>7</td><td>7</td><td>8</td><td>8</td><td>9</td><td>9</td><td>10</td><td>10</td><td>11</td><td>11</td><td>12</td><td>12</td><td>13</td><td>13</td><td>14</td><td>14</td><td>15</td><td>15</td><td>16</td><td>16</td><td>17</td><td>17</td><td>18</td><td>18</td><td>19</td><td>19</td><td>20</td><td>20</td><td>21</td><td>21</td><td>22</td><td>22</td><td>23</td><td>23</td><td>24</td><td>24</td><td>25</td><td>25</td><td>26</td><td>26</td><td>27</td><td>27</td><td>28</td><td>28</td><td>29</td><td>29</td><td>30</td><td>30</td><td>31</td><td>31</td><td>32</td><td>32</td><td>33</td><td>33</td><td>34</td><td>34</td><td>35</td><td>35</td><td>36</td><td>36</td><td>37</td><td>37</td></tr><tr><td>146</td><td>146</td><td>219</td><td>219</td><td>292</td><td>292</td><td>365</td><td>365</td><td>438</td><td>438</td><td>511</td><td>511</td><td>584</td><td>584</td><td>657</td><td>657</td><td>730</td><td>730</td><td>803</td><td>803</td><td>876</td><td>876</td><td>949</td><td>949</td><td>1022</td><td>1022</td><td>1095</td><td>1095</td><td>1168</td><td>1168</td><td>1241</td><td>1241</td><td>1314</td><td>1314</td><td>1387</td><td>1387</td><td>1460</td><td>1460</td><td>1533</td><td>1533</td><td>1606</td><td>1606</td><td>1679</td><td>1679</td><td>1752</td><td>1752</td><td>1825</td><td>1825</td><td>1898</td><td>1898</td><td>1971</td><td>1971</td><td>2044</td><td>2044</td><td>2117</td><td>2117</td><td>2190</td><td>2190</td><td>2263</td><td>2263</td><td>2336</td><td>2336</td><td>2409</td><td>2409</td><td>2482</td><td>2482</td><td>2555</td><td>2555</td><td>2628</td><td>2628</td><td>2701</td><td>2701</td></tr><tr><td>2</td><td>3</td><td>4</td><td>5</td><td>6</td><td>7</td><td>8</td><td>9</td><td>10</td><td>11</td><td>12</td><td>13</td><td>14</td><td>15</td><td>16</td><td>17</td><td>18</td><td>19</td><td>20</td><td>21</td><td>22</td><td>23</td><td>24</td><td>25</td><td>26</td><td>27</td><td>28</td><td>29</td><td>30</td><td>31</td><td>32</td><td>33</td><td>34</td><td>35</td><td>36</td><td>37</td><td>38</td><td>39</td><td>40</td><td>41</td><td>42</td><td>43</td><td>44</td><td>45</td><td>46</td><td>47</td><td>48</td><td>49</td><td>50</td><td>51</td><td>52</td><td>53</td><td>54</td><td>55</td><td>56</td><td>57</td><td>58</td><td>59</td><td>60</td><td>61</td><td>62</td><td>63</td><td>64</td><td>65</td><td>66</td><td>67</td><td>68</td><td>69</td><td>70</td><td>71</td><td>72</td><td>73</td></tr><tr><td>74</td><td>111</td><td>148</td><td>185</td><td>222</td><td>259</td><td>296</td><td>333</td><td>370</td><td>407</td><td>444</td><td>481</td><td>518</td><td>555</td><td>592</td><td>629</td><td>666</td><td>703</td><td>740</td><td>777</td><td>814</td><td>851</td><td>888</td><td>925</td><td>962</td><td>999</td><td>1036</td><td>1073</td><td>1110</td><td>1147</td><td>1184</td><td>1221</td><td>1258</td><td>1295</td><td>1332</td><td>1369</td><td>1406</td><td>1443</td><td>1480</td><td>1517</td><td>1554</td><td>1591</td><td>1628</td><td>1665</td><td>1702</td><td>1739</td><td>1776</td><td>1813</td><td>1850</td><td>1887</td><td>1924</td><td>1961</td><td>1998</td><td>2035</td><td>2072</td><td>2109</td><td>2146</td><td>2183</td><td>2220</td><td>2257</td><td>2294</td><td>2331</td><td>2368</td><td>2405</td><td>2442</td><td>2479</td><td>2516</td><td>2553</td><td>2590</td><td>2627</td><td>2664</td><td>2701</td></tr><tr><td>72</td><td>35</td><td>71</td><td>34</td><td>70</td><td>33</td><td>69</td><td>32</td><td>68</td><td>31</td><td>67</td><td>30</td><td>66</td><td>29</td><td>65</td><td>28</td><td>64</td><td>27</td><td>63</td><td>26</td><td>62</td><td>25</td><td>61</td><td>24</td><td>60</td><td>23</td><td>59</td><td>22</td><td>58</td><td>21</td><td>57</td><td>20</td><td>56</td><td>19</td><td>55</td><td>18</td><td>54</td><td>17</td><td>53</td><td>16</td><td>52</td><td>15</td><td>51</td><td>14</td><td>50</td><td>13</td><td>49</td><td>12</td><td>48</td><td>11</td><td>47</td><td>10</td><td>46</td><td>9</td><td>45</td><td>8</td><td>44</td><td>7</td><td>43</td><td>6</td><td>42</td><td>5</td><td>41</td><td>4</td><td>40</td><td>3</td><td>39</td><td>2</td><td>38</td><td>1</td><td>37</td><td>0</td></tr></table>"
      ],
      "text/plain": [
       "<IPython.core.display.HTML object>"
      ]
     },
     "metadata": {},
     "output_type": "display_data"
    },
    {
     "name": "stdout",
     "output_type": "stream",
     "text": [
      "When p = 75 triangular = 2850 and partial triangular = 38\n"
     ]
    },
    {
     "data": {
      "text/html": [
       "<table><tr><td>2</td><td>2</td><td>3</td><td>3</td><td>4</td><td>4</td><td>5</td><td>5</td><td>6</td><td>6</td><td>7</td><td>7</td><td>8</td><td>8</td><td>9</td><td>9</td><td>10</td><td>10</td><td>11</td><td>11</td><td>12</td><td>12</td><td>13</td><td>13</td><td>14</td><td>14</td><td>15</td><td>15</td><td>16</td><td>16</td><td>17</td><td>17</td><td>18</td><td>18</td><td>19</td><td>19</td><td>20</td><td>20</td><td>21</td><td>21</td><td>22</td><td>22</td><td>23</td><td>23</td><td>24</td><td>24</td><td>25</td><td>25</td><td>26</td><td>26</td><td>27</td><td>27</td><td>28</td><td>28</td><td>29</td><td>29</td><td>30</td><td>30</td><td>31</td><td>31</td><td>32</td><td>32</td><td>33</td><td>33</td><td>34</td><td>34</td><td>35</td><td>35</td><td>36</td><td>36</td><td>37</td><td>37</td><td>38</td><td>38</td></tr><tr><td>150</td><td>150</td><td>225</td><td>225</td><td>300</td><td>300</td><td>375</td><td>375</td><td>450</td><td>450</td><td>525</td><td>525</td><td>600</td><td>600</td><td>675</td><td>675</td><td>750</td><td>750</td><td>825</td><td>825</td><td>900</td><td>900</td><td>975</td><td>975</td><td>1050</td><td>1050</td><td>1125</td><td>1125</td><td>1200</td><td>1200</td><td>1275</td><td>1275</td><td>1350</td><td>1350</td><td>1425</td><td>1425</td><td>1500</td><td>1500</td><td>1575</td><td>1575</td><td>1650</td><td>1650</td><td>1725</td><td>1725</td><td>1800</td><td>1800</td><td>1875</td><td>1875</td><td>1950</td><td>1950</td><td>2025</td><td>2025</td><td>2100</td><td>2100</td><td>2175</td><td>2175</td><td>2250</td><td>2250</td><td>2325</td><td>2325</td><td>2400</td><td>2400</td><td>2475</td><td>2475</td><td>2550</td><td>2550</td><td>2625</td><td>2625</td><td>2700</td><td>2700</td><td>2775</td><td>2775</td><td>2850</td><td>2850</td></tr><tr><td>2</td><td>3</td><td>4</td><td>5</td><td>6</td><td>7</td><td>8</td><td>9</td><td>10</td><td>11</td><td>12</td><td>13</td><td>14</td><td>15</td><td>16</td><td>17</td><td>18</td><td>19</td><td>20</td><td>21</td><td>22</td><td>23</td><td>24</td><td>25</td><td>26</td><td>27</td><td>28</td><td>29</td><td>30</td><td>31</td><td>32</td><td>33</td><td>34</td><td>35</td><td>36</td><td>37</td><td>38</td><td>39</td><td>40</td><td>41</td><td>42</td><td>43</td><td>44</td><td>45</td><td>46</td><td>47</td><td>48</td><td>49</td><td>50</td><td>51</td><td>52</td><td>53</td><td>54</td><td>55</td><td>56</td><td>57</td><td>58</td><td>59</td><td>60</td><td>61</td><td>62</td><td>63</td><td>64</td><td>65</td><td>66</td><td>67</td><td>68</td><td>69</td><td>70</td><td>71</td><td>72</td><td>73</td><td>74</td><td>75</td></tr><tr><td>76</td><td>114</td><td>152</td><td>190</td><td>228</td><td>266</td><td>304</td><td>342</td><td>380</td><td>418</td><td>456</td><td>494</td><td>532</td><td>570</td><td>608</td><td>646</td><td>684</td><td>722</td><td>760</td><td>798</td><td>836</td><td>874</td><td>912</td><td>950</td><td>988</td><td>1026</td><td>1064</td><td>1102</td><td>1140</td><td>1178</td><td>1216</td><td>1254</td><td>1292</td><td>1330</td><td>1368</td><td>1406</td><td>1444</td><td>1482</td><td>1520</td><td>1558</td><td>1596</td><td>1634</td><td>1672</td><td>1710</td><td>1748</td><td>1786</td><td>1824</td><td>1862</td><td>1900</td><td>1938</td><td>1976</td><td>2014</td><td>2052</td><td>2090</td><td>2128</td><td>2166</td><td>2204</td><td>2242</td><td>2280</td><td>2318</td><td>2356</td><td>2394</td><td>2432</td><td>2470</td><td>2508</td><td>2546</td><td>2584</td><td>2622</td><td>2660</td><td>2698</td><td>2736</td><td>2774</td><td>2812</td><td>2850</td></tr><tr><td>74</td><td>36</td><td>73</td><td>35</td><td>72</td><td>34</td><td>71</td><td>33</td><td>70</td><td>32</td><td>69</td><td>31</td><td>68</td><td>30</td><td>67</td><td>29</td><td>66</td><td>28</td><td>65</td><td>27</td><td>64</td><td>26</td><td>63</td><td>25</td><td>62</td><td>24</td><td>61</td><td>23</td><td>60</td><td>22</td><td>59</td><td>21</td><td>58</td><td>20</td><td>57</td><td>19</td><td>56</td><td>18</td><td>55</td><td>17</td><td>54</td><td>16</td><td>53</td><td>15</td><td>52</td><td>14</td><td>51</td><td>13</td><td>50</td><td>12</td><td>49</td><td>11</td><td>48</td><td>10</td><td>47</td><td>9</td><td>46</td><td>8</td><td>45</td><td>7</td><td>44</td><td>6</td><td>43</td><td>5</td><td>42</td><td>4</td><td>41</td><td>3</td><td>40</td><td>2</td><td>39</td><td>1</td><td>38</td><td>0</td></tr></table>"
      ],
      "text/plain": [
       "<IPython.core.display.HTML object>"
      ]
     },
     "metadata": {},
     "output_type": "display_data"
    },
    {
     "name": "stdout",
     "output_type": "stream",
     "text": [
      "When p = 77 triangular = 3003 and partial triangular = 39\n"
     ]
    },
    {
     "data": {
      "text/html": [
       "<table><tr><td>2</td><td>2</td><td>3</td><td>3</td><td>4</td><td>4</td><td>5</td><td>5</td><td>6</td><td>6</td><td>7</td><td>7</td><td>8</td><td>8</td><td>9</td><td>9</td><td>10</td><td>10</td><td>11</td><td>11</td><td>12</td><td>12</td><td>13</td><td>13</td><td>14</td><td>14</td><td>15</td><td>15</td><td>16</td><td>16</td><td>17</td><td>17</td><td>18</td><td>18</td><td>19</td><td>19</td><td>20</td><td>20</td><td>21</td><td>21</td><td>22</td><td>22</td><td>23</td><td>23</td><td>24</td><td>24</td><td>25</td><td>25</td><td>26</td><td>26</td><td>27</td><td>27</td><td>28</td><td>28</td><td>29</td><td>29</td><td>30</td><td>30</td><td>31</td><td>31</td><td>32</td><td>32</td><td>33</td><td>33</td><td>34</td><td>34</td><td>35</td><td>35</td><td>36</td><td>36</td><td>37</td><td>37</td><td>38</td><td>38</td><td>39</td><td>39</td></tr><tr><td>154</td><td>154</td><td>231</td><td>231</td><td>308</td><td>308</td><td>385</td><td>385</td><td>462</td><td>462</td><td>539</td><td>539</td><td>616</td><td>616</td><td>693</td><td>693</td><td>770</td><td>770</td><td>847</td><td>847</td><td>924</td><td>924</td><td>1001</td><td>1001</td><td>1078</td><td>1078</td><td>1155</td><td>1155</td><td>1232</td><td>1232</td><td>1309</td><td>1309</td><td>1386</td><td>1386</td><td>1463</td><td>1463</td><td>1540</td><td>1540</td><td>1617</td><td>1617</td><td>1694</td><td>1694</td><td>1771</td><td>1771</td><td>1848</td><td>1848</td><td>1925</td><td>1925</td><td>2002</td><td>2002</td><td>2079</td><td>2079</td><td>2156</td><td>2156</td><td>2233</td><td>2233</td><td>2310</td><td>2310</td><td>2387</td><td>2387</td><td>2464</td><td>2464</td><td>2541</td><td>2541</td><td>2618</td><td>2618</td><td>2695</td><td>2695</td><td>2772</td><td>2772</td><td>2849</td><td>2849</td><td>2926</td><td>2926</td><td>3003</td><td>3003</td></tr><tr><td>2</td><td>3</td><td>4</td><td>5</td><td>6</td><td>7</td><td>8</td><td>9</td><td>10</td><td>11</td><td>12</td><td>13</td><td>14</td><td>15</td><td>16</td><td>17</td><td>18</td><td>19</td><td>20</td><td>21</td><td>22</td><td>23</td><td>24</td><td>25</td><td>26</td><td>27</td><td>28</td><td>29</td><td>30</td><td>31</td><td>32</td><td>33</td><td>34</td><td>35</td><td>36</td><td>37</td><td>38</td><td>39</td><td>40</td><td>41</td><td>42</td><td>43</td><td>44</td><td>45</td><td>46</td><td>47</td><td>48</td><td>49</td><td>50</td><td>51</td><td>52</td><td>53</td><td>54</td><td>55</td><td>56</td><td>57</td><td>58</td><td>59</td><td>60</td><td>61</td><td>62</td><td>63</td><td>64</td><td>65</td><td>66</td><td>67</td><td>68</td><td>69</td><td>70</td><td>71</td><td>72</td><td>73</td><td>74</td><td>75</td><td>76</td><td>77</td></tr><tr><td>78</td><td>117</td><td>156</td><td>195</td><td>234</td><td>273</td><td>312</td><td>351</td><td>390</td><td>429</td><td>468</td><td>507</td><td>546</td><td>585</td><td>624</td><td>663</td><td>702</td><td>741</td><td>780</td><td>819</td><td>858</td><td>897</td><td>936</td><td>975</td><td>1014</td><td>1053</td><td>1092</td><td>1131</td><td>1170</td><td>1209</td><td>1248</td><td>1287</td><td>1326</td><td>1365</td><td>1404</td><td>1443</td><td>1482</td><td>1521</td><td>1560</td><td>1599</td><td>1638</td><td>1677</td><td>1716</td><td>1755</td><td>1794</td><td>1833</td><td>1872</td><td>1911</td><td>1950</td><td>1989</td><td>2028</td><td>2067</td><td>2106</td><td>2145</td><td>2184</td><td>2223</td><td>2262</td><td>2301</td><td>2340</td><td>2379</td><td>2418</td><td>2457</td><td>2496</td><td>2535</td><td>2574</td><td>2613</td><td>2652</td><td>2691</td><td>2730</td><td>2769</td><td>2808</td><td>2847</td><td>2886</td><td>2925</td><td>2964</td><td>3003</td></tr><tr><td>76</td><td>37</td><td>75</td><td>36</td><td>74</td><td>35</td><td>73</td><td>34</td><td>72</td><td>33</td><td>71</td><td>32</td><td>70</td><td>31</td><td>69</td><td>30</td><td>68</td><td>29</td><td>67</td><td>28</td><td>66</td><td>27</td><td>65</td><td>26</td><td>64</td><td>25</td><td>63</td><td>24</td><td>62</td><td>23</td><td>61</td><td>22</td><td>60</td><td>21</td><td>59</td><td>20</td><td>58</td><td>19</td><td>57</td><td>18</td><td>56</td><td>17</td><td>55</td><td>16</td><td>54</td><td>15</td><td>53</td><td>14</td><td>52</td><td>13</td><td>51</td><td>12</td><td>50</td><td>11</td><td>49</td><td>10</td><td>48</td><td>9</td><td>47</td><td>8</td><td>46</td><td>7</td><td>45</td><td>6</td><td>44</td><td>5</td><td>43</td><td>4</td><td>42</td><td>3</td><td>41</td><td>2</td><td>40</td><td>1</td><td>39</td><td>0</td></tr></table>"
      ],
      "text/plain": [
       "<IPython.core.display.HTML object>"
      ]
     },
     "metadata": {},
     "output_type": "display_data"
    },
    {
     "name": "stdout",
     "output_type": "stream",
     "text": [
      "When p = 79 triangular = 3160 and partial triangular = 40\n"
     ]
    },
    {
     "data": {
      "text/html": [
       "<table><tr><td>2</td><td>2</td><td>3</td><td>3</td><td>4</td><td>4</td><td>5</td><td>5</td><td>6</td><td>6</td><td>7</td><td>7</td><td>8</td><td>8</td><td>9</td><td>9</td><td>10</td><td>10</td><td>11</td><td>11</td><td>12</td><td>12</td><td>13</td><td>13</td><td>14</td><td>14</td><td>15</td><td>15</td><td>16</td><td>16</td><td>17</td><td>17</td><td>18</td><td>18</td><td>19</td><td>19</td><td>20</td><td>20</td><td>21</td><td>21</td><td>22</td><td>22</td><td>23</td><td>23</td><td>24</td><td>24</td><td>25</td><td>25</td><td>26</td><td>26</td><td>27</td><td>27</td><td>28</td><td>28</td><td>29</td><td>29</td><td>30</td><td>30</td><td>31</td><td>31</td><td>32</td><td>32</td><td>33</td><td>33</td><td>34</td><td>34</td><td>35</td><td>35</td><td>36</td><td>36</td><td>37</td><td>37</td><td>38</td><td>38</td><td>39</td><td>39</td><td>40</td><td>40</td></tr><tr><td>158</td><td>158</td><td>237</td><td>237</td><td>316</td><td>316</td><td>395</td><td>395</td><td>474</td><td>474</td><td>553</td><td>553</td><td>632</td><td>632</td><td>711</td><td>711</td><td>790</td><td>790</td><td>869</td><td>869</td><td>948</td><td>948</td><td>1027</td><td>1027</td><td>1106</td><td>1106</td><td>1185</td><td>1185</td><td>1264</td><td>1264</td><td>1343</td><td>1343</td><td>1422</td><td>1422</td><td>1501</td><td>1501</td><td>1580</td><td>1580</td><td>1659</td><td>1659</td><td>1738</td><td>1738</td><td>1817</td><td>1817</td><td>1896</td><td>1896</td><td>1975</td><td>1975</td><td>2054</td><td>2054</td><td>2133</td><td>2133</td><td>2212</td><td>2212</td><td>2291</td><td>2291</td><td>2370</td><td>2370</td><td>2449</td><td>2449</td><td>2528</td><td>2528</td><td>2607</td><td>2607</td><td>2686</td><td>2686</td><td>2765</td><td>2765</td><td>2844</td><td>2844</td><td>2923</td><td>2923</td><td>3002</td><td>3002</td><td>3081</td><td>3081</td><td>3160</td><td>3160</td></tr><tr><td>2</td><td>3</td><td>4</td><td>5</td><td>6</td><td>7</td><td>8</td><td>9</td><td>10</td><td>11</td><td>12</td><td>13</td><td>14</td><td>15</td><td>16</td><td>17</td><td>18</td><td>19</td><td>20</td><td>21</td><td>22</td><td>23</td><td>24</td><td>25</td><td>26</td><td>27</td><td>28</td><td>29</td><td>30</td><td>31</td><td>32</td><td>33</td><td>34</td><td>35</td><td>36</td><td>37</td><td>38</td><td>39</td><td>40</td><td>41</td><td>42</td><td>43</td><td>44</td><td>45</td><td>46</td><td>47</td><td>48</td><td>49</td><td>50</td><td>51</td><td>52</td><td>53</td><td>54</td><td>55</td><td>56</td><td>57</td><td>58</td><td>59</td><td>60</td><td>61</td><td>62</td><td>63</td><td>64</td><td>65</td><td>66</td><td>67</td><td>68</td><td>69</td><td>70</td><td>71</td><td>72</td><td>73</td><td>74</td><td>75</td><td>76</td><td>77</td><td>78</td><td>79</td></tr><tr><td>80</td><td>120</td><td>160</td><td>200</td><td>240</td><td>280</td><td>320</td><td>360</td><td>400</td><td>440</td><td>480</td><td>520</td><td>560</td><td>600</td><td>640</td><td>680</td><td>720</td><td>760</td><td>800</td><td>840</td><td>880</td><td>920</td><td>960</td><td>1000</td><td>1040</td><td>1080</td><td>1120</td><td>1160</td><td>1200</td><td>1240</td><td>1280</td><td>1320</td><td>1360</td><td>1400</td><td>1440</td><td>1480</td><td>1520</td><td>1560</td><td>1600</td><td>1640</td><td>1680</td><td>1720</td><td>1760</td><td>1800</td><td>1840</td><td>1880</td><td>1920</td><td>1960</td><td>2000</td><td>2040</td><td>2080</td><td>2120</td><td>2160</td><td>2200</td><td>2240</td><td>2280</td><td>2320</td><td>2360</td><td>2400</td><td>2440</td><td>2480</td><td>2520</td><td>2560</td><td>2600</td><td>2640</td><td>2680</td><td>2720</td><td>2760</td><td>2800</td><td>2840</td><td>2880</td><td>2920</td><td>2960</td><td>3000</td><td>3040</td><td>3080</td><td>3120</td><td>3160</td></tr><tr><td>78</td><td>38</td><td>77</td><td>37</td><td>76</td><td>36</td><td>75</td><td>35</td><td>74</td><td>34</td><td>73</td><td>33</td><td>72</td><td>32</td><td>71</td><td>31</td><td>70</td><td>30</td><td>69</td><td>29</td><td>68</td><td>28</td><td>67</td><td>27</td><td>66</td><td>26</td><td>65</td><td>25</td><td>64</td><td>24</td><td>63</td><td>23</td><td>62</td><td>22</td><td>61</td><td>21</td><td>60</td><td>20</td><td>59</td><td>19</td><td>58</td><td>18</td><td>57</td><td>17</td><td>56</td><td>16</td><td>55</td><td>15</td><td>54</td><td>14</td><td>53</td><td>13</td><td>52</td><td>12</td><td>51</td><td>11</td><td>50</td><td>10</td><td>49</td><td>9</td><td>48</td><td>8</td><td>47</td><td>7</td><td>46</td><td>6</td><td>45</td><td>5</td><td>44</td><td>4</td><td>43</td><td>3</td><td>42</td><td>2</td><td>41</td><td>1</td><td>40</td><td>0</td></tr></table>"
      ],
      "text/plain": [
       "<IPython.core.display.HTML object>"
      ]
     },
     "metadata": {},
     "output_type": "display_data"
    },
    {
     "name": "stdout",
     "output_type": "stream",
     "text": [
      "When p = 81 triangular = 3321 and partial triangular = 41\n"
     ]
    },
    {
     "data": {
      "text/html": [
       "<table><tr><td>2</td><td>2</td><td>3</td><td>3</td><td>4</td><td>4</td><td>5</td><td>5</td><td>6</td><td>6</td><td>7</td><td>7</td><td>8</td><td>8</td><td>9</td><td>9</td><td>10</td><td>10</td><td>11</td><td>11</td><td>12</td><td>12</td><td>13</td><td>13</td><td>14</td><td>14</td><td>15</td><td>15</td><td>16</td><td>16</td><td>17</td><td>17</td><td>18</td><td>18</td><td>19</td><td>19</td><td>20</td><td>20</td><td>21</td><td>21</td><td>22</td><td>22</td><td>23</td><td>23</td><td>24</td><td>24</td><td>25</td><td>25</td><td>26</td><td>26</td><td>27</td><td>27</td><td>28</td><td>28</td><td>29</td><td>29</td><td>30</td><td>30</td><td>31</td><td>31</td><td>32</td><td>32</td><td>33</td><td>33</td><td>34</td><td>34</td><td>35</td><td>35</td><td>36</td><td>36</td><td>37</td><td>37</td><td>38</td><td>38</td><td>39</td><td>39</td><td>40</td><td>40</td><td>41</td><td>41</td></tr><tr><td>162</td><td>162</td><td>243</td><td>243</td><td>324</td><td>324</td><td>405</td><td>405</td><td>486</td><td>486</td><td>567</td><td>567</td><td>648</td><td>648</td><td>729</td><td>729</td><td>810</td><td>810</td><td>891</td><td>891</td><td>972</td><td>972</td><td>1053</td><td>1053</td><td>1134</td><td>1134</td><td>1215</td><td>1215</td><td>1296</td><td>1296</td><td>1377</td><td>1377</td><td>1458</td><td>1458</td><td>1539</td><td>1539</td><td>1620</td><td>1620</td><td>1701</td><td>1701</td><td>1782</td><td>1782</td><td>1863</td><td>1863</td><td>1944</td><td>1944</td><td>2025</td><td>2025</td><td>2106</td><td>2106</td><td>2187</td><td>2187</td><td>2268</td><td>2268</td><td>2349</td><td>2349</td><td>2430</td><td>2430</td><td>2511</td><td>2511</td><td>2592</td><td>2592</td><td>2673</td><td>2673</td><td>2754</td><td>2754</td><td>2835</td><td>2835</td><td>2916</td><td>2916</td><td>2997</td><td>2997</td><td>3078</td><td>3078</td><td>3159</td><td>3159</td><td>3240</td><td>3240</td><td>3321</td><td>3321</td></tr><tr><td>2</td><td>3</td><td>4</td><td>5</td><td>6</td><td>7</td><td>8</td><td>9</td><td>10</td><td>11</td><td>12</td><td>13</td><td>14</td><td>15</td><td>16</td><td>17</td><td>18</td><td>19</td><td>20</td><td>21</td><td>22</td><td>23</td><td>24</td><td>25</td><td>26</td><td>27</td><td>28</td><td>29</td><td>30</td><td>31</td><td>32</td><td>33</td><td>34</td><td>35</td><td>36</td><td>37</td><td>38</td><td>39</td><td>40</td><td>41</td><td>42</td><td>43</td><td>44</td><td>45</td><td>46</td><td>47</td><td>48</td><td>49</td><td>50</td><td>51</td><td>52</td><td>53</td><td>54</td><td>55</td><td>56</td><td>57</td><td>58</td><td>59</td><td>60</td><td>61</td><td>62</td><td>63</td><td>64</td><td>65</td><td>66</td><td>67</td><td>68</td><td>69</td><td>70</td><td>71</td><td>72</td><td>73</td><td>74</td><td>75</td><td>76</td><td>77</td><td>78</td><td>79</td><td>80</td><td>81</td></tr><tr><td>82</td><td>123</td><td>164</td><td>205</td><td>246</td><td>287</td><td>328</td><td>369</td><td>410</td><td>451</td><td>492</td><td>533</td><td>574</td><td>615</td><td>656</td><td>697</td><td>738</td><td>779</td><td>820</td><td>861</td><td>902</td><td>943</td><td>984</td><td>1025</td><td>1066</td><td>1107</td><td>1148</td><td>1189</td><td>1230</td><td>1271</td><td>1312</td><td>1353</td><td>1394</td><td>1435</td><td>1476</td><td>1517</td><td>1558</td><td>1599</td><td>1640</td><td>1681</td><td>1722</td><td>1763</td><td>1804</td><td>1845</td><td>1886</td><td>1927</td><td>1968</td><td>2009</td><td>2050</td><td>2091</td><td>2132</td><td>2173</td><td>2214</td><td>2255</td><td>2296</td><td>2337</td><td>2378</td><td>2419</td><td>2460</td><td>2501</td><td>2542</td><td>2583</td><td>2624</td><td>2665</td><td>2706</td><td>2747</td><td>2788</td><td>2829</td><td>2870</td><td>2911</td><td>2952</td><td>2993</td><td>3034</td><td>3075</td><td>3116</td><td>3157</td><td>3198</td><td>3239</td><td>3280</td><td>3321</td></tr><tr><td>80</td><td>39</td><td>79</td><td>38</td><td>78</td><td>37</td><td>77</td><td>36</td><td>76</td><td>35</td><td>75</td><td>34</td><td>74</td><td>33</td><td>73</td><td>32</td><td>72</td><td>31</td><td>71</td><td>30</td><td>70</td><td>29</td><td>69</td><td>28</td><td>68</td><td>27</td><td>67</td><td>26</td><td>66</td><td>25</td><td>65</td><td>24</td><td>64</td><td>23</td><td>63</td><td>22</td><td>62</td><td>21</td><td>61</td><td>20</td><td>60</td><td>19</td><td>59</td><td>18</td><td>58</td><td>17</td><td>57</td><td>16</td><td>56</td><td>15</td><td>55</td><td>14</td><td>54</td><td>13</td><td>53</td><td>12</td><td>52</td><td>11</td><td>51</td><td>10</td><td>50</td><td>9</td><td>49</td><td>8</td><td>48</td><td>7</td><td>47</td><td>6</td><td>46</td><td>5</td><td>45</td><td>4</td><td>44</td><td>3</td><td>43</td><td>2</td><td>42</td><td>1</td><td>41</td><td>0</td></tr></table>"
      ],
      "text/plain": [
       "<IPython.core.display.HTML object>"
      ]
     },
     "metadata": {},
     "output_type": "display_data"
    },
    {
     "name": "stdout",
     "output_type": "stream",
     "text": [
      "When p = 83 triangular = 3486 and partial triangular = 42\n"
     ]
    },
    {
     "data": {
      "text/html": [
       "<table><tr><td>2</td><td>2</td><td>3</td><td>3</td><td>4</td><td>4</td><td>5</td><td>5</td><td>6</td><td>6</td><td>7</td><td>7</td><td>8</td><td>8</td><td>9</td><td>9</td><td>10</td><td>10</td><td>11</td><td>11</td><td>12</td><td>12</td><td>13</td><td>13</td><td>14</td><td>14</td><td>15</td><td>15</td><td>16</td><td>16</td><td>17</td><td>17</td><td>18</td><td>18</td><td>19</td><td>19</td><td>20</td><td>20</td><td>21</td><td>21</td><td>22</td><td>22</td><td>23</td><td>23</td><td>24</td><td>24</td><td>25</td><td>25</td><td>26</td><td>26</td><td>27</td><td>27</td><td>28</td><td>28</td><td>29</td><td>29</td><td>30</td><td>30</td><td>31</td><td>31</td><td>32</td><td>32</td><td>33</td><td>33</td><td>34</td><td>34</td><td>35</td><td>35</td><td>36</td><td>36</td><td>37</td><td>37</td><td>38</td><td>38</td><td>39</td><td>39</td><td>40</td><td>40</td><td>41</td><td>41</td><td>42</td><td>42</td></tr><tr><td>166</td><td>166</td><td>249</td><td>249</td><td>332</td><td>332</td><td>415</td><td>415</td><td>498</td><td>498</td><td>581</td><td>581</td><td>664</td><td>664</td><td>747</td><td>747</td><td>830</td><td>830</td><td>913</td><td>913</td><td>996</td><td>996</td><td>1079</td><td>1079</td><td>1162</td><td>1162</td><td>1245</td><td>1245</td><td>1328</td><td>1328</td><td>1411</td><td>1411</td><td>1494</td><td>1494</td><td>1577</td><td>1577</td><td>1660</td><td>1660</td><td>1743</td><td>1743</td><td>1826</td><td>1826</td><td>1909</td><td>1909</td><td>1992</td><td>1992</td><td>2075</td><td>2075</td><td>2158</td><td>2158</td><td>2241</td><td>2241</td><td>2324</td><td>2324</td><td>2407</td><td>2407</td><td>2490</td><td>2490</td><td>2573</td><td>2573</td><td>2656</td><td>2656</td><td>2739</td><td>2739</td><td>2822</td><td>2822</td><td>2905</td><td>2905</td><td>2988</td><td>2988</td><td>3071</td><td>3071</td><td>3154</td><td>3154</td><td>3237</td><td>3237</td><td>3320</td><td>3320</td><td>3403</td><td>3403</td><td>3486</td><td>3486</td></tr><tr><td>2</td><td>3</td><td>4</td><td>5</td><td>6</td><td>7</td><td>8</td><td>9</td><td>10</td><td>11</td><td>12</td><td>13</td><td>14</td><td>15</td><td>16</td><td>17</td><td>18</td><td>19</td><td>20</td><td>21</td><td>22</td><td>23</td><td>24</td><td>25</td><td>26</td><td>27</td><td>28</td><td>29</td><td>30</td><td>31</td><td>32</td><td>33</td><td>34</td><td>35</td><td>36</td><td>37</td><td>38</td><td>39</td><td>40</td><td>41</td><td>42</td><td>43</td><td>44</td><td>45</td><td>46</td><td>47</td><td>48</td><td>49</td><td>50</td><td>51</td><td>52</td><td>53</td><td>54</td><td>55</td><td>56</td><td>57</td><td>58</td><td>59</td><td>60</td><td>61</td><td>62</td><td>63</td><td>64</td><td>65</td><td>66</td><td>67</td><td>68</td><td>69</td><td>70</td><td>71</td><td>72</td><td>73</td><td>74</td><td>75</td><td>76</td><td>77</td><td>78</td><td>79</td><td>80</td><td>81</td><td>82</td><td>83</td></tr><tr><td>84</td><td>126</td><td>168</td><td>210</td><td>252</td><td>294</td><td>336</td><td>378</td><td>420</td><td>462</td><td>504</td><td>546</td><td>588</td><td>630</td><td>672</td><td>714</td><td>756</td><td>798</td><td>840</td><td>882</td><td>924</td><td>966</td><td>1008</td><td>1050</td><td>1092</td><td>1134</td><td>1176</td><td>1218</td><td>1260</td><td>1302</td><td>1344</td><td>1386</td><td>1428</td><td>1470</td><td>1512</td><td>1554</td><td>1596</td><td>1638</td><td>1680</td><td>1722</td><td>1764</td><td>1806</td><td>1848</td><td>1890</td><td>1932</td><td>1974</td><td>2016</td><td>2058</td><td>2100</td><td>2142</td><td>2184</td><td>2226</td><td>2268</td><td>2310</td><td>2352</td><td>2394</td><td>2436</td><td>2478</td><td>2520</td><td>2562</td><td>2604</td><td>2646</td><td>2688</td><td>2730</td><td>2772</td><td>2814</td><td>2856</td><td>2898</td><td>2940</td><td>2982</td><td>3024</td><td>3066</td><td>3108</td><td>3150</td><td>3192</td><td>3234</td><td>3276</td><td>3318</td><td>3360</td><td>3402</td><td>3444</td><td>3486</td></tr><tr><td>82</td><td>40</td><td>81</td><td>39</td><td>80</td><td>38</td><td>79</td><td>37</td><td>78</td><td>36</td><td>77</td><td>35</td><td>76</td><td>34</td><td>75</td><td>33</td><td>74</td><td>32</td><td>73</td><td>31</td><td>72</td><td>30</td><td>71</td><td>29</td><td>70</td><td>28</td><td>69</td><td>27</td><td>68</td><td>26</td><td>67</td><td>25</td><td>66</td><td>24</td><td>65</td><td>23</td><td>64</td><td>22</td><td>63</td><td>21</td><td>62</td><td>20</td><td>61</td><td>19</td><td>60</td><td>18</td><td>59</td><td>17</td><td>58</td><td>16</td><td>57</td><td>15</td><td>56</td><td>14</td><td>55</td><td>13</td><td>54</td><td>12</td><td>53</td><td>11</td><td>52</td><td>10</td><td>51</td><td>9</td><td>50</td><td>8</td><td>49</td><td>7</td><td>48</td><td>6</td><td>47</td><td>5</td><td>46</td><td>4</td><td>45</td><td>3</td><td>44</td><td>2</td><td>43</td><td>1</td><td>42</td><td>0</td></tr></table>"
      ],
      "text/plain": [
       "<IPython.core.display.HTML object>"
      ]
     },
     "metadata": {},
     "output_type": "display_data"
    },
    {
     "name": "stdout",
     "output_type": "stream",
     "text": [
      "When p = 85 triangular = 3655 and partial triangular = 43\n"
     ]
    },
    {
     "data": {
      "text/html": [
       "<table><tr><td>2</td><td>2</td><td>3</td><td>3</td><td>4</td><td>4</td><td>5</td><td>5</td><td>6</td><td>6</td><td>7</td><td>7</td><td>8</td><td>8</td><td>9</td><td>9</td><td>10</td><td>10</td><td>11</td><td>11</td><td>12</td><td>12</td><td>13</td><td>13</td><td>14</td><td>14</td><td>15</td><td>15</td><td>16</td><td>16</td><td>17</td><td>17</td><td>18</td><td>18</td><td>19</td><td>19</td><td>20</td><td>20</td><td>21</td><td>21</td><td>22</td><td>22</td><td>23</td><td>23</td><td>24</td><td>24</td><td>25</td><td>25</td><td>26</td><td>26</td><td>27</td><td>27</td><td>28</td><td>28</td><td>29</td><td>29</td><td>30</td><td>30</td><td>31</td><td>31</td><td>32</td><td>32</td><td>33</td><td>33</td><td>34</td><td>34</td><td>35</td><td>35</td><td>36</td><td>36</td><td>37</td><td>37</td><td>38</td><td>38</td><td>39</td><td>39</td><td>40</td><td>40</td><td>41</td><td>41</td><td>42</td><td>42</td><td>43</td><td>43</td></tr><tr><td>170</td><td>170</td><td>255</td><td>255</td><td>340</td><td>340</td><td>425</td><td>425</td><td>510</td><td>510</td><td>595</td><td>595</td><td>680</td><td>680</td><td>765</td><td>765</td><td>850</td><td>850</td><td>935</td><td>935</td><td>1020</td><td>1020</td><td>1105</td><td>1105</td><td>1190</td><td>1190</td><td>1275</td><td>1275</td><td>1360</td><td>1360</td><td>1445</td><td>1445</td><td>1530</td><td>1530</td><td>1615</td><td>1615</td><td>1700</td><td>1700</td><td>1785</td><td>1785</td><td>1870</td><td>1870</td><td>1955</td><td>1955</td><td>2040</td><td>2040</td><td>2125</td><td>2125</td><td>2210</td><td>2210</td><td>2295</td><td>2295</td><td>2380</td><td>2380</td><td>2465</td><td>2465</td><td>2550</td><td>2550</td><td>2635</td><td>2635</td><td>2720</td><td>2720</td><td>2805</td><td>2805</td><td>2890</td><td>2890</td><td>2975</td><td>2975</td><td>3060</td><td>3060</td><td>3145</td><td>3145</td><td>3230</td><td>3230</td><td>3315</td><td>3315</td><td>3400</td><td>3400</td><td>3485</td><td>3485</td><td>3570</td><td>3570</td><td>3655</td><td>3655</td></tr><tr><td>2</td><td>3</td><td>4</td><td>5</td><td>6</td><td>7</td><td>8</td><td>9</td><td>10</td><td>11</td><td>12</td><td>13</td><td>14</td><td>15</td><td>16</td><td>17</td><td>18</td><td>19</td><td>20</td><td>21</td><td>22</td><td>23</td><td>24</td><td>25</td><td>26</td><td>27</td><td>28</td><td>29</td><td>30</td><td>31</td><td>32</td><td>33</td><td>34</td><td>35</td><td>36</td><td>37</td><td>38</td><td>39</td><td>40</td><td>41</td><td>42</td><td>43</td><td>44</td><td>45</td><td>46</td><td>47</td><td>48</td><td>49</td><td>50</td><td>51</td><td>52</td><td>53</td><td>54</td><td>55</td><td>56</td><td>57</td><td>58</td><td>59</td><td>60</td><td>61</td><td>62</td><td>63</td><td>64</td><td>65</td><td>66</td><td>67</td><td>68</td><td>69</td><td>70</td><td>71</td><td>72</td><td>73</td><td>74</td><td>75</td><td>76</td><td>77</td><td>78</td><td>79</td><td>80</td><td>81</td><td>82</td><td>83</td><td>84</td><td>85</td></tr><tr><td>86</td><td>129</td><td>172</td><td>215</td><td>258</td><td>301</td><td>344</td><td>387</td><td>430</td><td>473</td><td>516</td><td>559</td><td>602</td><td>645</td><td>688</td><td>731</td><td>774</td><td>817</td><td>860</td><td>903</td><td>946</td><td>989</td><td>1032</td><td>1075</td><td>1118</td><td>1161</td><td>1204</td><td>1247</td><td>1290</td><td>1333</td><td>1376</td><td>1419</td><td>1462</td><td>1505</td><td>1548</td><td>1591</td><td>1634</td><td>1677</td><td>1720</td><td>1763</td><td>1806</td><td>1849</td><td>1892</td><td>1935</td><td>1978</td><td>2021</td><td>2064</td><td>2107</td><td>2150</td><td>2193</td><td>2236</td><td>2279</td><td>2322</td><td>2365</td><td>2408</td><td>2451</td><td>2494</td><td>2537</td><td>2580</td><td>2623</td><td>2666</td><td>2709</td><td>2752</td><td>2795</td><td>2838</td><td>2881</td><td>2924</td><td>2967</td><td>3010</td><td>3053</td><td>3096</td><td>3139</td><td>3182</td><td>3225</td><td>3268</td><td>3311</td><td>3354</td><td>3397</td><td>3440</td><td>3483</td><td>3526</td><td>3569</td><td>3612</td><td>3655</td></tr><tr><td>84</td><td>41</td><td>83</td><td>40</td><td>82</td><td>39</td><td>81</td><td>38</td><td>80</td><td>37</td><td>79</td><td>36</td><td>78</td><td>35</td><td>77</td><td>34</td><td>76</td><td>33</td><td>75</td><td>32</td><td>74</td><td>31</td><td>73</td><td>30</td><td>72</td><td>29</td><td>71</td><td>28</td><td>70</td><td>27</td><td>69</td><td>26</td><td>68</td><td>25</td><td>67</td><td>24</td><td>66</td><td>23</td><td>65</td><td>22</td><td>64</td><td>21</td><td>63</td><td>20</td><td>62</td><td>19</td><td>61</td><td>18</td><td>60</td><td>17</td><td>59</td><td>16</td><td>58</td><td>15</td><td>57</td><td>14</td><td>56</td><td>13</td><td>55</td><td>12</td><td>54</td><td>11</td><td>53</td><td>10</td><td>52</td><td>9</td><td>51</td><td>8</td><td>50</td><td>7</td><td>49</td><td>6</td><td>48</td><td>5</td><td>47</td><td>4</td><td>46</td><td>3</td><td>45</td><td>2</td><td>44</td><td>1</td><td>43</td><td>0</td></tr></table>"
      ],
      "text/plain": [
       "<IPython.core.display.HTML object>"
      ]
     },
     "metadata": {},
     "output_type": "display_data"
    },
    {
     "name": "stdout",
     "output_type": "stream",
     "text": [
      "When p = 87 triangular = 3828 and partial triangular = 44\n"
     ]
    },
    {
     "data": {
      "text/html": [
       "<table><tr><td>2</td><td>2</td><td>3</td><td>3</td><td>4</td><td>4</td><td>5</td><td>5</td><td>6</td><td>6</td><td>7</td><td>7</td><td>8</td><td>8</td><td>9</td><td>9</td><td>10</td><td>10</td><td>11</td><td>11</td><td>12</td><td>12</td><td>13</td><td>13</td><td>14</td><td>14</td><td>15</td><td>15</td><td>16</td><td>16</td><td>17</td><td>17</td><td>18</td><td>18</td><td>19</td><td>19</td><td>20</td><td>20</td><td>21</td><td>21</td><td>22</td><td>22</td><td>23</td><td>23</td><td>24</td><td>24</td><td>25</td><td>25</td><td>26</td><td>26</td><td>27</td><td>27</td><td>28</td><td>28</td><td>29</td><td>29</td><td>30</td><td>30</td><td>31</td><td>31</td><td>32</td><td>32</td><td>33</td><td>33</td><td>34</td><td>34</td><td>35</td><td>35</td><td>36</td><td>36</td><td>37</td><td>37</td><td>38</td><td>38</td><td>39</td><td>39</td><td>40</td><td>40</td><td>41</td><td>41</td><td>42</td><td>42</td><td>43</td><td>43</td><td>44</td><td>44</td></tr><tr><td>174</td><td>174</td><td>261</td><td>261</td><td>348</td><td>348</td><td>435</td><td>435</td><td>522</td><td>522</td><td>609</td><td>609</td><td>696</td><td>696</td><td>783</td><td>783</td><td>870</td><td>870</td><td>957</td><td>957</td><td>1044</td><td>1044</td><td>1131</td><td>1131</td><td>1218</td><td>1218</td><td>1305</td><td>1305</td><td>1392</td><td>1392</td><td>1479</td><td>1479</td><td>1566</td><td>1566</td><td>1653</td><td>1653</td><td>1740</td><td>1740</td><td>1827</td><td>1827</td><td>1914</td><td>1914</td><td>2001</td><td>2001</td><td>2088</td><td>2088</td><td>2175</td><td>2175</td><td>2262</td><td>2262</td><td>2349</td><td>2349</td><td>2436</td><td>2436</td><td>2523</td><td>2523</td><td>2610</td><td>2610</td><td>2697</td><td>2697</td><td>2784</td><td>2784</td><td>2871</td><td>2871</td><td>2958</td><td>2958</td><td>3045</td><td>3045</td><td>3132</td><td>3132</td><td>3219</td><td>3219</td><td>3306</td><td>3306</td><td>3393</td><td>3393</td><td>3480</td><td>3480</td><td>3567</td><td>3567</td><td>3654</td><td>3654</td><td>3741</td><td>3741</td><td>3828</td><td>3828</td></tr><tr><td>2</td><td>3</td><td>4</td><td>5</td><td>6</td><td>7</td><td>8</td><td>9</td><td>10</td><td>11</td><td>12</td><td>13</td><td>14</td><td>15</td><td>16</td><td>17</td><td>18</td><td>19</td><td>20</td><td>21</td><td>22</td><td>23</td><td>24</td><td>25</td><td>26</td><td>27</td><td>28</td><td>29</td><td>30</td><td>31</td><td>32</td><td>33</td><td>34</td><td>35</td><td>36</td><td>37</td><td>38</td><td>39</td><td>40</td><td>41</td><td>42</td><td>43</td><td>44</td><td>45</td><td>46</td><td>47</td><td>48</td><td>49</td><td>50</td><td>51</td><td>52</td><td>53</td><td>54</td><td>55</td><td>56</td><td>57</td><td>58</td><td>59</td><td>60</td><td>61</td><td>62</td><td>63</td><td>64</td><td>65</td><td>66</td><td>67</td><td>68</td><td>69</td><td>70</td><td>71</td><td>72</td><td>73</td><td>74</td><td>75</td><td>76</td><td>77</td><td>78</td><td>79</td><td>80</td><td>81</td><td>82</td><td>83</td><td>84</td><td>85</td><td>86</td><td>87</td></tr><tr><td>88</td><td>132</td><td>176</td><td>220</td><td>264</td><td>308</td><td>352</td><td>396</td><td>440</td><td>484</td><td>528</td><td>572</td><td>616</td><td>660</td><td>704</td><td>748</td><td>792</td><td>836</td><td>880</td><td>924</td><td>968</td><td>1012</td><td>1056</td><td>1100</td><td>1144</td><td>1188</td><td>1232</td><td>1276</td><td>1320</td><td>1364</td><td>1408</td><td>1452</td><td>1496</td><td>1540</td><td>1584</td><td>1628</td><td>1672</td><td>1716</td><td>1760</td><td>1804</td><td>1848</td><td>1892</td><td>1936</td><td>1980</td><td>2024</td><td>2068</td><td>2112</td><td>2156</td><td>2200</td><td>2244</td><td>2288</td><td>2332</td><td>2376</td><td>2420</td><td>2464</td><td>2508</td><td>2552</td><td>2596</td><td>2640</td><td>2684</td><td>2728</td><td>2772</td><td>2816</td><td>2860</td><td>2904</td><td>2948</td><td>2992</td><td>3036</td><td>3080</td><td>3124</td><td>3168</td><td>3212</td><td>3256</td><td>3300</td><td>3344</td><td>3388</td><td>3432</td><td>3476</td><td>3520</td><td>3564</td><td>3608</td><td>3652</td><td>3696</td><td>3740</td><td>3784</td><td>3828</td></tr><tr><td>86</td><td>42</td><td>85</td><td>41</td><td>84</td><td>40</td><td>83</td><td>39</td><td>82</td><td>38</td><td>81</td><td>37</td><td>80</td><td>36</td><td>79</td><td>35</td><td>78</td><td>34</td><td>77</td><td>33</td><td>76</td><td>32</td><td>75</td><td>31</td><td>74</td><td>30</td><td>73</td><td>29</td><td>72</td><td>28</td><td>71</td><td>27</td><td>70</td><td>26</td><td>69</td><td>25</td><td>68</td><td>24</td><td>67</td><td>23</td><td>66</td><td>22</td><td>65</td><td>21</td><td>64</td><td>20</td><td>63</td><td>19</td><td>62</td><td>18</td><td>61</td><td>17</td><td>60</td><td>16</td><td>59</td><td>15</td><td>58</td><td>14</td><td>57</td><td>13</td><td>56</td><td>12</td><td>55</td><td>11</td><td>54</td><td>10</td><td>53</td><td>9</td><td>52</td><td>8</td><td>51</td><td>7</td><td>50</td><td>6</td><td>49</td><td>5</td><td>48</td><td>4</td><td>47</td><td>3</td><td>46</td><td>2</td><td>45</td><td>1</td><td>44</td><td>0</td></tr></table>"
      ],
      "text/plain": [
       "<IPython.core.display.HTML object>"
      ]
     },
     "metadata": {},
     "output_type": "display_data"
    },
    {
     "name": "stdout",
     "output_type": "stream",
     "text": [
      "When p = 89 triangular = 4005 and partial triangular = 45\n"
     ]
    },
    {
     "data": {
      "text/html": [
       "<table><tr><td>2</td><td>2</td><td>3</td><td>3</td><td>4</td><td>4</td><td>5</td><td>5</td><td>6</td><td>6</td><td>7</td><td>7</td><td>8</td><td>8</td><td>9</td><td>9</td><td>10</td><td>10</td><td>11</td><td>11</td><td>12</td><td>12</td><td>13</td><td>13</td><td>14</td><td>14</td><td>15</td><td>15</td><td>16</td><td>16</td><td>17</td><td>17</td><td>18</td><td>18</td><td>19</td><td>19</td><td>20</td><td>20</td><td>21</td><td>21</td><td>22</td><td>22</td><td>23</td><td>23</td><td>24</td><td>24</td><td>25</td><td>25</td><td>26</td><td>26</td><td>27</td><td>27</td><td>28</td><td>28</td><td>29</td><td>29</td><td>30</td><td>30</td><td>31</td><td>31</td><td>32</td><td>32</td><td>33</td><td>33</td><td>34</td><td>34</td><td>35</td><td>35</td><td>36</td><td>36</td><td>37</td><td>37</td><td>38</td><td>38</td><td>39</td><td>39</td><td>40</td><td>40</td><td>41</td><td>41</td><td>42</td><td>42</td><td>43</td><td>43</td><td>44</td><td>44</td><td>45</td><td>45</td></tr><tr><td>178</td><td>178</td><td>267</td><td>267</td><td>356</td><td>356</td><td>445</td><td>445</td><td>534</td><td>534</td><td>623</td><td>623</td><td>712</td><td>712</td><td>801</td><td>801</td><td>890</td><td>890</td><td>979</td><td>979</td><td>1068</td><td>1068</td><td>1157</td><td>1157</td><td>1246</td><td>1246</td><td>1335</td><td>1335</td><td>1424</td><td>1424</td><td>1513</td><td>1513</td><td>1602</td><td>1602</td><td>1691</td><td>1691</td><td>1780</td><td>1780</td><td>1869</td><td>1869</td><td>1958</td><td>1958</td><td>2047</td><td>2047</td><td>2136</td><td>2136</td><td>2225</td><td>2225</td><td>2314</td><td>2314</td><td>2403</td><td>2403</td><td>2492</td><td>2492</td><td>2581</td><td>2581</td><td>2670</td><td>2670</td><td>2759</td><td>2759</td><td>2848</td><td>2848</td><td>2937</td><td>2937</td><td>3026</td><td>3026</td><td>3115</td><td>3115</td><td>3204</td><td>3204</td><td>3293</td><td>3293</td><td>3382</td><td>3382</td><td>3471</td><td>3471</td><td>3560</td><td>3560</td><td>3649</td><td>3649</td><td>3738</td><td>3738</td><td>3827</td><td>3827</td><td>3916</td><td>3916</td><td>4005</td><td>4005</td></tr><tr><td>2</td><td>3</td><td>4</td><td>5</td><td>6</td><td>7</td><td>8</td><td>9</td><td>10</td><td>11</td><td>12</td><td>13</td><td>14</td><td>15</td><td>16</td><td>17</td><td>18</td><td>19</td><td>20</td><td>21</td><td>22</td><td>23</td><td>24</td><td>25</td><td>26</td><td>27</td><td>28</td><td>29</td><td>30</td><td>31</td><td>32</td><td>33</td><td>34</td><td>35</td><td>36</td><td>37</td><td>38</td><td>39</td><td>40</td><td>41</td><td>42</td><td>43</td><td>44</td><td>45</td><td>46</td><td>47</td><td>48</td><td>49</td><td>50</td><td>51</td><td>52</td><td>53</td><td>54</td><td>55</td><td>56</td><td>57</td><td>58</td><td>59</td><td>60</td><td>61</td><td>62</td><td>63</td><td>64</td><td>65</td><td>66</td><td>67</td><td>68</td><td>69</td><td>70</td><td>71</td><td>72</td><td>73</td><td>74</td><td>75</td><td>76</td><td>77</td><td>78</td><td>79</td><td>80</td><td>81</td><td>82</td><td>83</td><td>84</td><td>85</td><td>86</td><td>87</td><td>88</td><td>89</td></tr><tr><td>90</td><td>135</td><td>180</td><td>225</td><td>270</td><td>315</td><td>360</td><td>405</td><td>450</td><td>495</td><td>540</td><td>585</td><td>630</td><td>675</td><td>720</td><td>765</td><td>810</td><td>855</td><td>900</td><td>945</td><td>990</td><td>1035</td><td>1080</td><td>1125</td><td>1170</td><td>1215</td><td>1260</td><td>1305</td><td>1350</td><td>1395</td><td>1440</td><td>1485</td><td>1530</td><td>1575</td><td>1620</td><td>1665</td><td>1710</td><td>1755</td><td>1800</td><td>1845</td><td>1890</td><td>1935</td><td>1980</td><td>2025</td><td>2070</td><td>2115</td><td>2160</td><td>2205</td><td>2250</td><td>2295</td><td>2340</td><td>2385</td><td>2430</td><td>2475</td><td>2520</td><td>2565</td><td>2610</td><td>2655</td><td>2700</td><td>2745</td><td>2790</td><td>2835</td><td>2880</td><td>2925</td><td>2970</td><td>3015</td><td>3060</td><td>3105</td><td>3150</td><td>3195</td><td>3240</td><td>3285</td><td>3330</td><td>3375</td><td>3420</td><td>3465</td><td>3510</td><td>3555</td><td>3600</td><td>3645</td><td>3690</td><td>3735</td><td>3780</td><td>3825</td><td>3870</td><td>3915</td><td>3960</td><td>4005</td></tr><tr><td>88</td><td>43</td><td>87</td><td>42</td><td>86</td><td>41</td><td>85</td><td>40</td><td>84</td><td>39</td><td>83</td><td>38</td><td>82</td><td>37</td><td>81</td><td>36</td><td>80</td><td>35</td><td>79</td><td>34</td><td>78</td><td>33</td><td>77</td><td>32</td><td>76</td><td>31</td><td>75</td><td>30</td><td>74</td><td>29</td><td>73</td><td>28</td><td>72</td><td>27</td><td>71</td><td>26</td><td>70</td><td>25</td><td>69</td><td>24</td><td>68</td><td>23</td><td>67</td><td>22</td><td>66</td><td>21</td><td>65</td><td>20</td><td>64</td><td>19</td><td>63</td><td>18</td><td>62</td><td>17</td><td>61</td><td>16</td><td>60</td><td>15</td><td>59</td><td>14</td><td>58</td><td>13</td><td>57</td><td>12</td><td>56</td><td>11</td><td>55</td><td>10</td><td>54</td><td>9</td><td>53</td><td>8</td><td>52</td><td>7</td><td>51</td><td>6</td><td>50</td><td>5</td><td>49</td><td>4</td><td>48</td><td>3</td><td>47</td><td>2</td><td>46</td><td>1</td><td>45</td><td>0</td></tr></table>"
      ],
      "text/plain": [
       "<IPython.core.display.HTML object>"
      ]
     },
     "metadata": {},
     "output_type": "display_data"
    },
    {
     "name": "stdout",
     "output_type": "stream",
     "text": [
      "When p = 91 triangular = 4186 and partial triangular = 46\n"
     ]
    },
    {
     "data": {
      "text/html": [
       "<table><tr><td>2</td><td>2</td><td>3</td><td>3</td><td>4</td><td>4</td><td>5</td><td>5</td><td>6</td><td>6</td><td>7</td><td>7</td><td>8</td><td>8</td><td>9</td><td>9</td><td>10</td><td>10</td><td>11</td><td>11</td><td>12</td><td>12</td><td>13</td><td>13</td><td>14</td><td>14</td><td>15</td><td>15</td><td>16</td><td>16</td><td>17</td><td>17</td><td>18</td><td>18</td><td>19</td><td>19</td><td>20</td><td>20</td><td>21</td><td>21</td><td>22</td><td>22</td><td>23</td><td>23</td><td>24</td><td>24</td><td>25</td><td>25</td><td>26</td><td>26</td><td>27</td><td>27</td><td>28</td><td>28</td><td>29</td><td>29</td><td>30</td><td>30</td><td>31</td><td>31</td><td>32</td><td>32</td><td>33</td><td>33</td><td>34</td><td>34</td><td>35</td><td>35</td><td>36</td><td>36</td><td>37</td><td>37</td><td>38</td><td>38</td><td>39</td><td>39</td><td>40</td><td>40</td><td>41</td><td>41</td><td>42</td><td>42</td><td>43</td><td>43</td><td>44</td><td>44</td><td>45</td><td>45</td><td>46</td><td>46</td></tr><tr><td>182</td><td>182</td><td>273</td><td>273</td><td>364</td><td>364</td><td>455</td><td>455</td><td>546</td><td>546</td><td>637</td><td>637</td><td>728</td><td>728</td><td>819</td><td>819</td><td>910</td><td>910</td><td>1001</td><td>1001</td><td>1092</td><td>1092</td><td>1183</td><td>1183</td><td>1274</td><td>1274</td><td>1365</td><td>1365</td><td>1456</td><td>1456</td><td>1547</td><td>1547</td><td>1638</td><td>1638</td><td>1729</td><td>1729</td><td>1820</td><td>1820</td><td>1911</td><td>1911</td><td>2002</td><td>2002</td><td>2093</td><td>2093</td><td>2184</td><td>2184</td><td>2275</td><td>2275</td><td>2366</td><td>2366</td><td>2457</td><td>2457</td><td>2548</td><td>2548</td><td>2639</td><td>2639</td><td>2730</td><td>2730</td><td>2821</td><td>2821</td><td>2912</td><td>2912</td><td>3003</td><td>3003</td><td>3094</td><td>3094</td><td>3185</td><td>3185</td><td>3276</td><td>3276</td><td>3367</td><td>3367</td><td>3458</td><td>3458</td><td>3549</td><td>3549</td><td>3640</td><td>3640</td><td>3731</td><td>3731</td><td>3822</td><td>3822</td><td>3913</td><td>3913</td><td>4004</td><td>4004</td><td>4095</td><td>4095</td><td>4186</td><td>4186</td></tr><tr><td>2</td><td>3</td><td>4</td><td>5</td><td>6</td><td>7</td><td>8</td><td>9</td><td>10</td><td>11</td><td>12</td><td>13</td><td>14</td><td>15</td><td>16</td><td>17</td><td>18</td><td>19</td><td>20</td><td>21</td><td>22</td><td>23</td><td>24</td><td>25</td><td>26</td><td>27</td><td>28</td><td>29</td><td>30</td><td>31</td><td>32</td><td>33</td><td>34</td><td>35</td><td>36</td><td>37</td><td>38</td><td>39</td><td>40</td><td>41</td><td>42</td><td>43</td><td>44</td><td>45</td><td>46</td><td>47</td><td>48</td><td>49</td><td>50</td><td>51</td><td>52</td><td>53</td><td>54</td><td>55</td><td>56</td><td>57</td><td>58</td><td>59</td><td>60</td><td>61</td><td>62</td><td>63</td><td>64</td><td>65</td><td>66</td><td>67</td><td>68</td><td>69</td><td>70</td><td>71</td><td>72</td><td>73</td><td>74</td><td>75</td><td>76</td><td>77</td><td>78</td><td>79</td><td>80</td><td>81</td><td>82</td><td>83</td><td>84</td><td>85</td><td>86</td><td>87</td><td>88</td><td>89</td><td>90</td><td>91</td></tr><tr><td>92</td><td>138</td><td>184</td><td>230</td><td>276</td><td>322</td><td>368</td><td>414</td><td>460</td><td>506</td><td>552</td><td>598</td><td>644</td><td>690</td><td>736</td><td>782</td><td>828</td><td>874</td><td>920</td><td>966</td><td>1012</td><td>1058</td><td>1104</td><td>1150</td><td>1196</td><td>1242</td><td>1288</td><td>1334</td><td>1380</td><td>1426</td><td>1472</td><td>1518</td><td>1564</td><td>1610</td><td>1656</td><td>1702</td><td>1748</td><td>1794</td><td>1840</td><td>1886</td><td>1932</td><td>1978</td><td>2024</td><td>2070</td><td>2116</td><td>2162</td><td>2208</td><td>2254</td><td>2300</td><td>2346</td><td>2392</td><td>2438</td><td>2484</td><td>2530</td><td>2576</td><td>2622</td><td>2668</td><td>2714</td><td>2760</td><td>2806</td><td>2852</td><td>2898</td><td>2944</td><td>2990</td><td>3036</td><td>3082</td><td>3128</td><td>3174</td><td>3220</td><td>3266</td><td>3312</td><td>3358</td><td>3404</td><td>3450</td><td>3496</td><td>3542</td><td>3588</td><td>3634</td><td>3680</td><td>3726</td><td>3772</td><td>3818</td><td>3864</td><td>3910</td><td>3956</td><td>4002</td><td>4048</td><td>4094</td><td>4140</td><td>4186</td></tr><tr><td>90</td><td>44</td><td>89</td><td>43</td><td>88</td><td>42</td><td>87</td><td>41</td><td>86</td><td>40</td><td>85</td><td>39</td><td>84</td><td>38</td><td>83</td><td>37</td><td>82</td><td>36</td><td>81</td><td>35</td><td>80</td><td>34</td><td>79</td><td>33</td><td>78</td><td>32</td><td>77</td><td>31</td><td>76</td><td>30</td><td>75</td><td>29</td><td>74</td><td>28</td><td>73</td><td>27</td><td>72</td><td>26</td><td>71</td><td>25</td><td>70</td><td>24</td><td>69</td><td>23</td><td>68</td><td>22</td><td>67</td><td>21</td><td>66</td><td>20</td><td>65</td><td>19</td><td>64</td><td>18</td><td>63</td><td>17</td><td>62</td><td>16</td><td>61</td><td>15</td><td>60</td><td>14</td><td>59</td><td>13</td><td>58</td><td>12</td><td>57</td><td>11</td><td>56</td><td>10</td><td>55</td><td>9</td><td>54</td><td>8</td><td>53</td><td>7</td><td>52</td><td>6</td><td>51</td><td>5</td><td>50</td><td>4</td><td>49</td><td>3</td><td>48</td><td>2</td><td>47</td><td>1</td><td>46</td><td>0</td></tr></table>"
      ],
      "text/plain": [
       "<IPython.core.display.HTML object>"
      ]
     },
     "metadata": {},
     "output_type": "display_data"
    },
    {
     "name": "stdout",
     "output_type": "stream",
     "text": [
      "When p = 93 triangular = 4371 and partial triangular = 47\n"
     ]
    },
    {
     "data": {
      "text/html": [
       "<table><tr><td>2</td><td>2</td><td>3</td><td>3</td><td>4</td><td>4</td><td>5</td><td>5</td><td>6</td><td>6</td><td>7</td><td>7</td><td>8</td><td>8</td><td>9</td><td>9</td><td>10</td><td>10</td><td>11</td><td>11</td><td>12</td><td>12</td><td>13</td><td>13</td><td>14</td><td>14</td><td>15</td><td>15</td><td>16</td><td>16</td><td>17</td><td>17</td><td>18</td><td>18</td><td>19</td><td>19</td><td>20</td><td>20</td><td>21</td><td>21</td><td>22</td><td>22</td><td>23</td><td>23</td><td>24</td><td>24</td><td>25</td><td>25</td><td>26</td><td>26</td><td>27</td><td>27</td><td>28</td><td>28</td><td>29</td><td>29</td><td>30</td><td>30</td><td>31</td><td>31</td><td>32</td><td>32</td><td>33</td><td>33</td><td>34</td><td>34</td><td>35</td><td>35</td><td>36</td><td>36</td><td>37</td><td>37</td><td>38</td><td>38</td><td>39</td><td>39</td><td>40</td><td>40</td><td>41</td><td>41</td><td>42</td><td>42</td><td>43</td><td>43</td><td>44</td><td>44</td><td>45</td><td>45</td><td>46</td><td>46</td><td>47</td><td>47</td></tr><tr><td>186</td><td>186</td><td>279</td><td>279</td><td>372</td><td>372</td><td>465</td><td>465</td><td>558</td><td>558</td><td>651</td><td>651</td><td>744</td><td>744</td><td>837</td><td>837</td><td>930</td><td>930</td><td>1023</td><td>1023</td><td>1116</td><td>1116</td><td>1209</td><td>1209</td><td>1302</td><td>1302</td><td>1395</td><td>1395</td><td>1488</td><td>1488</td><td>1581</td><td>1581</td><td>1674</td><td>1674</td><td>1767</td><td>1767</td><td>1860</td><td>1860</td><td>1953</td><td>1953</td><td>2046</td><td>2046</td><td>2139</td><td>2139</td><td>2232</td><td>2232</td><td>2325</td><td>2325</td><td>2418</td><td>2418</td><td>2511</td><td>2511</td><td>2604</td><td>2604</td><td>2697</td><td>2697</td><td>2790</td><td>2790</td><td>2883</td><td>2883</td><td>2976</td><td>2976</td><td>3069</td><td>3069</td><td>3162</td><td>3162</td><td>3255</td><td>3255</td><td>3348</td><td>3348</td><td>3441</td><td>3441</td><td>3534</td><td>3534</td><td>3627</td><td>3627</td><td>3720</td><td>3720</td><td>3813</td><td>3813</td><td>3906</td><td>3906</td><td>3999</td><td>3999</td><td>4092</td><td>4092</td><td>4185</td><td>4185</td><td>4278</td><td>4278</td><td>4371</td><td>4371</td></tr><tr><td>2</td><td>3</td><td>4</td><td>5</td><td>6</td><td>7</td><td>8</td><td>9</td><td>10</td><td>11</td><td>12</td><td>13</td><td>14</td><td>15</td><td>16</td><td>17</td><td>18</td><td>19</td><td>20</td><td>21</td><td>22</td><td>23</td><td>24</td><td>25</td><td>26</td><td>27</td><td>28</td><td>29</td><td>30</td><td>31</td><td>32</td><td>33</td><td>34</td><td>35</td><td>36</td><td>37</td><td>38</td><td>39</td><td>40</td><td>41</td><td>42</td><td>43</td><td>44</td><td>45</td><td>46</td><td>47</td><td>48</td><td>49</td><td>50</td><td>51</td><td>52</td><td>53</td><td>54</td><td>55</td><td>56</td><td>57</td><td>58</td><td>59</td><td>60</td><td>61</td><td>62</td><td>63</td><td>64</td><td>65</td><td>66</td><td>67</td><td>68</td><td>69</td><td>70</td><td>71</td><td>72</td><td>73</td><td>74</td><td>75</td><td>76</td><td>77</td><td>78</td><td>79</td><td>80</td><td>81</td><td>82</td><td>83</td><td>84</td><td>85</td><td>86</td><td>87</td><td>88</td><td>89</td><td>90</td><td>91</td><td>92</td><td>93</td></tr><tr><td>94</td><td>141</td><td>188</td><td>235</td><td>282</td><td>329</td><td>376</td><td>423</td><td>470</td><td>517</td><td>564</td><td>611</td><td>658</td><td>705</td><td>752</td><td>799</td><td>846</td><td>893</td><td>940</td><td>987</td><td>1034</td><td>1081</td><td>1128</td><td>1175</td><td>1222</td><td>1269</td><td>1316</td><td>1363</td><td>1410</td><td>1457</td><td>1504</td><td>1551</td><td>1598</td><td>1645</td><td>1692</td><td>1739</td><td>1786</td><td>1833</td><td>1880</td><td>1927</td><td>1974</td><td>2021</td><td>2068</td><td>2115</td><td>2162</td><td>2209</td><td>2256</td><td>2303</td><td>2350</td><td>2397</td><td>2444</td><td>2491</td><td>2538</td><td>2585</td><td>2632</td><td>2679</td><td>2726</td><td>2773</td><td>2820</td><td>2867</td><td>2914</td><td>2961</td><td>3008</td><td>3055</td><td>3102</td><td>3149</td><td>3196</td><td>3243</td><td>3290</td><td>3337</td><td>3384</td><td>3431</td><td>3478</td><td>3525</td><td>3572</td><td>3619</td><td>3666</td><td>3713</td><td>3760</td><td>3807</td><td>3854</td><td>3901</td><td>3948</td><td>3995</td><td>4042</td><td>4089</td><td>4136</td><td>4183</td><td>4230</td><td>4277</td><td>4324</td><td>4371</td></tr><tr><td>92</td><td>45</td><td>91</td><td>44</td><td>90</td><td>43</td><td>89</td><td>42</td><td>88</td><td>41</td><td>87</td><td>40</td><td>86</td><td>39</td><td>85</td><td>38</td><td>84</td><td>37</td><td>83</td><td>36</td><td>82</td><td>35</td><td>81</td><td>34</td><td>80</td><td>33</td><td>79</td><td>32</td><td>78</td><td>31</td><td>77</td><td>30</td><td>76</td><td>29</td><td>75</td><td>28</td><td>74</td><td>27</td><td>73</td><td>26</td><td>72</td><td>25</td><td>71</td><td>24</td><td>70</td><td>23</td><td>69</td><td>22</td><td>68</td><td>21</td><td>67</td><td>20</td><td>66</td><td>19</td><td>65</td><td>18</td><td>64</td><td>17</td><td>63</td><td>16</td><td>62</td><td>15</td><td>61</td><td>14</td><td>60</td><td>13</td><td>59</td><td>12</td><td>58</td><td>11</td><td>57</td><td>10</td><td>56</td><td>9</td><td>55</td><td>8</td><td>54</td><td>7</td><td>53</td><td>6</td><td>52</td><td>5</td><td>51</td><td>4</td><td>50</td><td>3</td><td>49</td><td>2</td><td>48</td><td>1</td><td>47</td><td>0</td></tr></table>"
      ],
      "text/plain": [
       "<IPython.core.display.HTML object>"
      ]
     },
     "metadata": {},
     "output_type": "display_data"
    },
    {
     "name": "stdout",
     "output_type": "stream",
     "text": [
      "When p = 95 triangular = 4560 and partial triangular = 48\n"
     ]
    },
    {
     "data": {
      "text/html": [
       "<table><tr><td>2</td><td>2</td><td>3</td><td>3</td><td>4</td><td>4</td><td>5</td><td>5</td><td>6</td><td>6</td><td>7</td><td>7</td><td>8</td><td>8</td><td>9</td><td>9</td><td>10</td><td>10</td><td>11</td><td>11</td><td>12</td><td>12</td><td>13</td><td>13</td><td>14</td><td>14</td><td>15</td><td>15</td><td>16</td><td>16</td><td>17</td><td>17</td><td>18</td><td>18</td><td>19</td><td>19</td><td>20</td><td>20</td><td>21</td><td>21</td><td>22</td><td>22</td><td>23</td><td>23</td><td>24</td><td>24</td><td>25</td><td>25</td><td>26</td><td>26</td><td>27</td><td>27</td><td>28</td><td>28</td><td>29</td><td>29</td><td>30</td><td>30</td><td>31</td><td>31</td><td>32</td><td>32</td><td>33</td><td>33</td><td>34</td><td>34</td><td>35</td><td>35</td><td>36</td><td>36</td><td>37</td><td>37</td><td>38</td><td>38</td><td>39</td><td>39</td><td>40</td><td>40</td><td>41</td><td>41</td><td>42</td><td>42</td><td>43</td><td>43</td><td>44</td><td>44</td><td>45</td><td>45</td><td>46</td><td>46</td><td>47</td><td>47</td><td>48</td><td>48</td></tr><tr><td>190</td><td>190</td><td>285</td><td>285</td><td>380</td><td>380</td><td>475</td><td>475</td><td>570</td><td>570</td><td>665</td><td>665</td><td>760</td><td>760</td><td>855</td><td>855</td><td>950</td><td>950</td><td>1045</td><td>1045</td><td>1140</td><td>1140</td><td>1235</td><td>1235</td><td>1330</td><td>1330</td><td>1425</td><td>1425</td><td>1520</td><td>1520</td><td>1615</td><td>1615</td><td>1710</td><td>1710</td><td>1805</td><td>1805</td><td>1900</td><td>1900</td><td>1995</td><td>1995</td><td>2090</td><td>2090</td><td>2185</td><td>2185</td><td>2280</td><td>2280</td><td>2375</td><td>2375</td><td>2470</td><td>2470</td><td>2565</td><td>2565</td><td>2660</td><td>2660</td><td>2755</td><td>2755</td><td>2850</td><td>2850</td><td>2945</td><td>2945</td><td>3040</td><td>3040</td><td>3135</td><td>3135</td><td>3230</td><td>3230</td><td>3325</td><td>3325</td><td>3420</td><td>3420</td><td>3515</td><td>3515</td><td>3610</td><td>3610</td><td>3705</td><td>3705</td><td>3800</td><td>3800</td><td>3895</td><td>3895</td><td>3990</td><td>3990</td><td>4085</td><td>4085</td><td>4180</td><td>4180</td><td>4275</td><td>4275</td><td>4370</td><td>4370</td><td>4465</td><td>4465</td><td>4560</td><td>4560</td></tr><tr><td>2</td><td>3</td><td>4</td><td>5</td><td>6</td><td>7</td><td>8</td><td>9</td><td>10</td><td>11</td><td>12</td><td>13</td><td>14</td><td>15</td><td>16</td><td>17</td><td>18</td><td>19</td><td>20</td><td>21</td><td>22</td><td>23</td><td>24</td><td>25</td><td>26</td><td>27</td><td>28</td><td>29</td><td>30</td><td>31</td><td>32</td><td>33</td><td>34</td><td>35</td><td>36</td><td>37</td><td>38</td><td>39</td><td>40</td><td>41</td><td>42</td><td>43</td><td>44</td><td>45</td><td>46</td><td>47</td><td>48</td><td>49</td><td>50</td><td>51</td><td>52</td><td>53</td><td>54</td><td>55</td><td>56</td><td>57</td><td>58</td><td>59</td><td>60</td><td>61</td><td>62</td><td>63</td><td>64</td><td>65</td><td>66</td><td>67</td><td>68</td><td>69</td><td>70</td><td>71</td><td>72</td><td>73</td><td>74</td><td>75</td><td>76</td><td>77</td><td>78</td><td>79</td><td>80</td><td>81</td><td>82</td><td>83</td><td>84</td><td>85</td><td>86</td><td>87</td><td>88</td><td>89</td><td>90</td><td>91</td><td>92</td><td>93</td><td>94</td><td>95</td></tr><tr><td>96</td><td>144</td><td>192</td><td>240</td><td>288</td><td>336</td><td>384</td><td>432</td><td>480</td><td>528</td><td>576</td><td>624</td><td>672</td><td>720</td><td>768</td><td>816</td><td>864</td><td>912</td><td>960</td><td>1008</td><td>1056</td><td>1104</td><td>1152</td><td>1200</td><td>1248</td><td>1296</td><td>1344</td><td>1392</td><td>1440</td><td>1488</td><td>1536</td><td>1584</td><td>1632</td><td>1680</td><td>1728</td><td>1776</td><td>1824</td><td>1872</td><td>1920</td><td>1968</td><td>2016</td><td>2064</td><td>2112</td><td>2160</td><td>2208</td><td>2256</td><td>2304</td><td>2352</td><td>2400</td><td>2448</td><td>2496</td><td>2544</td><td>2592</td><td>2640</td><td>2688</td><td>2736</td><td>2784</td><td>2832</td><td>2880</td><td>2928</td><td>2976</td><td>3024</td><td>3072</td><td>3120</td><td>3168</td><td>3216</td><td>3264</td><td>3312</td><td>3360</td><td>3408</td><td>3456</td><td>3504</td><td>3552</td><td>3600</td><td>3648</td><td>3696</td><td>3744</td><td>3792</td><td>3840</td><td>3888</td><td>3936</td><td>3984</td><td>4032</td><td>4080</td><td>4128</td><td>4176</td><td>4224</td><td>4272</td><td>4320</td><td>4368</td><td>4416</td><td>4464</td><td>4512</td><td>4560</td></tr><tr><td>94</td><td>46</td><td>93</td><td>45</td><td>92</td><td>44</td><td>91</td><td>43</td><td>90</td><td>42</td><td>89</td><td>41</td><td>88</td><td>40</td><td>87</td><td>39</td><td>86</td><td>38</td><td>85</td><td>37</td><td>84</td><td>36</td><td>83</td><td>35</td><td>82</td><td>34</td><td>81</td><td>33</td><td>80</td><td>32</td><td>79</td><td>31</td><td>78</td><td>30</td><td>77</td><td>29</td><td>76</td><td>28</td><td>75</td><td>27</td><td>74</td><td>26</td><td>73</td><td>25</td><td>72</td><td>24</td><td>71</td><td>23</td><td>70</td><td>22</td><td>69</td><td>21</td><td>68</td><td>20</td><td>67</td><td>19</td><td>66</td><td>18</td><td>65</td><td>17</td><td>64</td><td>16</td><td>63</td><td>15</td><td>62</td><td>14</td><td>61</td><td>13</td><td>60</td><td>12</td><td>59</td><td>11</td><td>58</td><td>10</td><td>57</td><td>9</td><td>56</td><td>8</td><td>55</td><td>7</td><td>54</td><td>6</td><td>53</td><td>5</td><td>52</td><td>4</td><td>51</td><td>3</td><td>50</td><td>2</td><td>49</td><td>1</td><td>48</td><td>0</td></tr></table>"
      ],
      "text/plain": [
       "<IPython.core.display.HTML object>"
      ]
     },
     "metadata": {},
     "output_type": "display_data"
    },
    {
     "name": "stdout",
     "output_type": "stream",
     "text": [
      "When p = 97 triangular = 4753 and partial triangular = 49\n"
     ]
    },
    {
     "data": {
      "text/html": [
       "<table><tr><td>2</td><td>2</td><td>3</td><td>3</td><td>4</td><td>4</td><td>5</td><td>5</td><td>6</td><td>6</td><td>7</td><td>7</td><td>8</td><td>8</td><td>9</td><td>9</td><td>10</td><td>10</td><td>11</td><td>11</td><td>12</td><td>12</td><td>13</td><td>13</td><td>14</td><td>14</td><td>15</td><td>15</td><td>16</td><td>16</td><td>17</td><td>17</td><td>18</td><td>18</td><td>19</td><td>19</td><td>20</td><td>20</td><td>21</td><td>21</td><td>22</td><td>22</td><td>23</td><td>23</td><td>24</td><td>24</td><td>25</td><td>25</td><td>26</td><td>26</td><td>27</td><td>27</td><td>28</td><td>28</td><td>29</td><td>29</td><td>30</td><td>30</td><td>31</td><td>31</td><td>32</td><td>32</td><td>33</td><td>33</td><td>34</td><td>34</td><td>35</td><td>35</td><td>36</td><td>36</td><td>37</td><td>37</td><td>38</td><td>38</td><td>39</td><td>39</td><td>40</td><td>40</td><td>41</td><td>41</td><td>42</td><td>42</td><td>43</td><td>43</td><td>44</td><td>44</td><td>45</td><td>45</td><td>46</td><td>46</td><td>47</td><td>47</td><td>48</td><td>48</td><td>49</td><td>49</td></tr><tr><td>194</td><td>194</td><td>291</td><td>291</td><td>388</td><td>388</td><td>485</td><td>485</td><td>582</td><td>582</td><td>679</td><td>679</td><td>776</td><td>776</td><td>873</td><td>873</td><td>970</td><td>970</td><td>1067</td><td>1067</td><td>1164</td><td>1164</td><td>1261</td><td>1261</td><td>1358</td><td>1358</td><td>1455</td><td>1455</td><td>1552</td><td>1552</td><td>1649</td><td>1649</td><td>1746</td><td>1746</td><td>1843</td><td>1843</td><td>1940</td><td>1940</td><td>2037</td><td>2037</td><td>2134</td><td>2134</td><td>2231</td><td>2231</td><td>2328</td><td>2328</td><td>2425</td><td>2425</td><td>2522</td><td>2522</td><td>2619</td><td>2619</td><td>2716</td><td>2716</td><td>2813</td><td>2813</td><td>2910</td><td>2910</td><td>3007</td><td>3007</td><td>3104</td><td>3104</td><td>3201</td><td>3201</td><td>3298</td><td>3298</td><td>3395</td><td>3395</td><td>3492</td><td>3492</td><td>3589</td><td>3589</td><td>3686</td><td>3686</td><td>3783</td><td>3783</td><td>3880</td><td>3880</td><td>3977</td><td>3977</td><td>4074</td><td>4074</td><td>4171</td><td>4171</td><td>4268</td><td>4268</td><td>4365</td><td>4365</td><td>4462</td><td>4462</td><td>4559</td><td>4559</td><td>4656</td><td>4656</td><td>4753</td><td>4753</td></tr><tr><td>2</td><td>3</td><td>4</td><td>5</td><td>6</td><td>7</td><td>8</td><td>9</td><td>10</td><td>11</td><td>12</td><td>13</td><td>14</td><td>15</td><td>16</td><td>17</td><td>18</td><td>19</td><td>20</td><td>21</td><td>22</td><td>23</td><td>24</td><td>25</td><td>26</td><td>27</td><td>28</td><td>29</td><td>30</td><td>31</td><td>32</td><td>33</td><td>34</td><td>35</td><td>36</td><td>37</td><td>38</td><td>39</td><td>40</td><td>41</td><td>42</td><td>43</td><td>44</td><td>45</td><td>46</td><td>47</td><td>48</td><td>49</td><td>50</td><td>51</td><td>52</td><td>53</td><td>54</td><td>55</td><td>56</td><td>57</td><td>58</td><td>59</td><td>60</td><td>61</td><td>62</td><td>63</td><td>64</td><td>65</td><td>66</td><td>67</td><td>68</td><td>69</td><td>70</td><td>71</td><td>72</td><td>73</td><td>74</td><td>75</td><td>76</td><td>77</td><td>78</td><td>79</td><td>80</td><td>81</td><td>82</td><td>83</td><td>84</td><td>85</td><td>86</td><td>87</td><td>88</td><td>89</td><td>90</td><td>91</td><td>92</td><td>93</td><td>94</td><td>95</td><td>96</td><td>97</td></tr><tr><td>98</td><td>147</td><td>196</td><td>245</td><td>294</td><td>343</td><td>392</td><td>441</td><td>490</td><td>539</td><td>588</td><td>637</td><td>686</td><td>735</td><td>784</td><td>833</td><td>882</td><td>931</td><td>980</td><td>1029</td><td>1078</td><td>1127</td><td>1176</td><td>1225</td><td>1274</td><td>1323</td><td>1372</td><td>1421</td><td>1470</td><td>1519</td><td>1568</td><td>1617</td><td>1666</td><td>1715</td><td>1764</td><td>1813</td><td>1862</td><td>1911</td><td>1960</td><td>2009</td><td>2058</td><td>2107</td><td>2156</td><td>2205</td><td>2254</td><td>2303</td><td>2352</td><td>2401</td><td>2450</td><td>2499</td><td>2548</td><td>2597</td><td>2646</td><td>2695</td><td>2744</td><td>2793</td><td>2842</td><td>2891</td><td>2940</td><td>2989</td><td>3038</td><td>3087</td><td>3136</td><td>3185</td><td>3234</td><td>3283</td><td>3332</td><td>3381</td><td>3430</td><td>3479</td><td>3528</td><td>3577</td><td>3626</td><td>3675</td><td>3724</td><td>3773</td><td>3822</td><td>3871</td><td>3920</td><td>3969</td><td>4018</td><td>4067</td><td>4116</td><td>4165</td><td>4214</td><td>4263</td><td>4312</td><td>4361</td><td>4410</td><td>4459</td><td>4508</td><td>4557</td><td>4606</td><td>4655</td><td>4704</td><td>4753</td></tr><tr><td>96</td><td>47</td><td>95</td><td>46</td><td>94</td><td>45</td><td>93</td><td>44</td><td>92</td><td>43</td><td>91</td><td>42</td><td>90</td><td>41</td><td>89</td><td>40</td><td>88</td><td>39</td><td>87</td><td>38</td><td>86</td><td>37</td><td>85</td><td>36</td><td>84</td><td>35</td><td>83</td><td>34</td><td>82</td><td>33</td><td>81</td><td>32</td><td>80</td><td>31</td><td>79</td><td>30</td><td>78</td><td>29</td><td>77</td><td>28</td><td>76</td><td>27</td><td>75</td><td>26</td><td>74</td><td>25</td><td>73</td><td>24</td><td>72</td><td>23</td><td>71</td><td>22</td><td>70</td><td>21</td><td>69</td><td>20</td><td>68</td><td>19</td><td>67</td><td>18</td><td>66</td><td>17</td><td>65</td><td>16</td><td>64</td><td>15</td><td>63</td><td>14</td><td>62</td><td>13</td><td>61</td><td>12</td><td>60</td><td>11</td><td>59</td><td>10</td><td>58</td><td>9</td><td>57</td><td>8</td><td>56</td><td>7</td><td>55</td><td>6</td><td>54</td><td>5</td><td>53</td><td>4</td><td>52</td><td>3</td><td>51</td><td>2</td><td>50</td><td>1</td><td>49</td><td>0</td></tr></table>"
      ],
      "text/plain": [
       "<IPython.core.display.HTML object>"
      ]
     },
     "metadata": {},
     "output_type": "display_data"
    },
    {
     "name": "stdout",
     "output_type": "stream",
     "text": [
      "When p = 99 triangular = 4950 and partial triangular = 50\n"
     ]
    },
    {
     "data": {
      "text/html": [
       "<table><tr><td>2</td><td>2</td><td>3</td><td>3</td><td>4</td><td>4</td><td>5</td><td>5</td><td>6</td><td>6</td><td>7</td><td>7</td><td>8</td><td>8</td><td>9</td><td>9</td><td>10</td><td>10</td><td>11</td><td>11</td><td>12</td><td>12</td><td>13</td><td>13</td><td>14</td><td>14</td><td>15</td><td>15</td><td>16</td><td>16</td><td>17</td><td>17</td><td>18</td><td>18</td><td>19</td><td>19</td><td>20</td><td>20</td><td>21</td><td>21</td><td>22</td><td>22</td><td>23</td><td>23</td><td>24</td><td>24</td><td>25</td><td>25</td><td>26</td><td>26</td><td>27</td><td>27</td><td>28</td><td>28</td><td>29</td><td>29</td><td>30</td><td>30</td><td>31</td><td>31</td><td>32</td><td>32</td><td>33</td><td>33</td><td>34</td><td>34</td><td>35</td><td>35</td><td>36</td><td>36</td><td>37</td><td>37</td><td>38</td><td>38</td><td>39</td><td>39</td><td>40</td><td>40</td><td>41</td><td>41</td><td>42</td><td>42</td><td>43</td><td>43</td><td>44</td><td>44</td><td>45</td><td>45</td><td>46</td><td>46</td><td>47</td><td>47</td><td>48</td><td>48</td><td>49</td><td>49</td><td>50</td><td>50</td></tr><tr><td>198</td><td>198</td><td>297</td><td>297</td><td>396</td><td>396</td><td>495</td><td>495</td><td>594</td><td>594</td><td>693</td><td>693</td><td>792</td><td>792</td><td>891</td><td>891</td><td>990</td><td>990</td><td>1089</td><td>1089</td><td>1188</td><td>1188</td><td>1287</td><td>1287</td><td>1386</td><td>1386</td><td>1485</td><td>1485</td><td>1584</td><td>1584</td><td>1683</td><td>1683</td><td>1782</td><td>1782</td><td>1881</td><td>1881</td><td>1980</td><td>1980</td><td>2079</td><td>2079</td><td>2178</td><td>2178</td><td>2277</td><td>2277</td><td>2376</td><td>2376</td><td>2475</td><td>2475</td><td>2574</td><td>2574</td><td>2673</td><td>2673</td><td>2772</td><td>2772</td><td>2871</td><td>2871</td><td>2970</td><td>2970</td><td>3069</td><td>3069</td><td>3168</td><td>3168</td><td>3267</td><td>3267</td><td>3366</td><td>3366</td><td>3465</td><td>3465</td><td>3564</td><td>3564</td><td>3663</td><td>3663</td><td>3762</td><td>3762</td><td>3861</td><td>3861</td><td>3960</td><td>3960</td><td>4059</td><td>4059</td><td>4158</td><td>4158</td><td>4257</td><td>4257</td><td>4356</td><td>4356</td><td>4455</td><td>4455</td><td>4554</td><td>4554</td><td>4653</td><td>4653</td><td>4752</td><td>4752</td><td>4851</td><td>4851</td><td>4950</td><td>4950</td></tr><tr><td>2</td><td>3</td><td>4</td><td>5</td><td>6</td><td>7</td><td>8</td><td>9</td><td>10</td><td>11</td><td>12</td><td>13</td><td>14</td><td>15</td><td>16</td><td>17</td><td>18</td><td>19</td><td>20</td><td>21</td><td>22</td><td>23</td><td>24</td><td>25</td><td>26</td><td>27</td><td>28</td><td>29</td><td>30</td><td>31</td><td>32</td><td>33</td><td>34</td><td>35</td><td>36</td><td>37</td><td>38</td><td>39</td><td>40</td><td>41</td><td>42</td><td>43</td><td>44</td><td>45</td><td>46</td><td>47</td><td>48</td><td>49</td><td>50</td><td>51</td><td>52</td><td>53</td><td>54</td><td>55</td><td>56</td><td>57</td><td>58</td><td>59</td><td>60</td><td>61</td><td>62</td><td>63</td><td>64</td><td>65</td><td>66</td><td>67</td><td>68</td><td>69</td><td>70</td><td>71</td><td>72</td><td>73</td><td>74</td><td>75</td><td>76</td><td>77</td><td>78</td><td>79</td><td>80</td><td>81</td><td>82</td><td>83</td><td>84</td><td>85</td><td>86</td><td>87</td><td>88</td><td>89</td><td>90</td><td>91</td><td>92</td><td>93</td><td>94</td><td>95</td><td>96</td><td>97</td><td>98</td><td>99</td></tr><tr><td>100</td><td>150</td><td>200</td><td>250</td><td>300</td><td>350</td><td>400</td><td>450</td><td>500</td><td>550</td><td>600</td><td>650</td><td>700</td><td>750</td><td>800</td><td>850</td><td>900</td><td>950</td><td>1000</td><td>1050</td><td>1100</td><td>1150</td><td>1200</td><td>1250</td><td>1300</td><td>1350</td><td>1400</td><td>1450</td><td>1500</td><td>1550</td><td>1600</td><td>1650</td><td>1700</td><td>1750</td><td>1800</td><td>1850</td><td>1900</td><td>1950</td><td>2000</td><td>2050</td><td>2100</td><td>2150</td><td>2200</td><td>2250</td><td>2300</td><td>2350</td><td>2400</td><td>2450</td><td>2500</td><td>2550</td><td>2600</td><td>2650</td><td>2700</td><td>2750</td><td>2800</td><td>2850</td><td>2900</td><td>2950</td><td>3000</td><td>3050</td><td>3100</td><td>3150</td><td>3200</td><td>3250</td><td>3300</td><td>3350</td><td>3400</td><td>3450</td><td>3500</td><td>3550</td><td>3600</td><td>3650</td><td>3700</td><td>3750</td><td>3800</td><td>3850</td><td>3900</td><td>3950</td><td>4000</td><td>4050</td><td>4100</td><td>4150</td><td>4200</td><td>4250</td><td>4300</td><td>4350</td><td>4400</td><td>4450</td><td>4500</td><td>4550</td><td>4600</td><td>4650</td><td>4700</td><td>4750</td><td>4800</td><td>4850</td><td>4900</td><td>4950</td></tr><tr><td>98</td><td>48</td><td>97</td><td>47</td><td>96</td><td>46</td><td>95</td><td>45</td><td>94</td><td>44</td><td>93</td><td>43</td><td>92</td><td>42</td><td>91</td><td>41</td><td>90</td><td>40</td><td>89</td><td>39</td><td>88</td><td>38</td><td>87</td><td>37</td><td>86</td><td>36</td><td>85</td><td>35</td><td>84</td><td>34</td><td>83</td><td>33</td><td>82</td><td>32</td><td>81</td><td>31</td><td>80</td><td>30</td><td>79</td><td>29</td><td>78</td><td>28</td><td>77</td><td>27</td><td>76</td><td>26</td><td>75</td><td>25</td><td>74</td><td>24</td><td>73</td><td>23</td><td>72</td><td>22</td><td>71</td><td>21</td><td>70</td><td>20</td><td>69</td><td>19</td><td>68</td><td>18</td><td>67</td><td>17</td><td>66</td><td>16</td><td>65</td><td>15</td><td>64</td><td>14</td><td>63</td><td>13</td><td>62</td><td>12</td><td>61</td><td>11</td><td>60</td><td>10</td><td>59</td><td>9</td><td>58</td><td>8</td><td>57</td><td>7</td><td>56</td><td>6</td><td>55</td><td>5</td><td>54</td><td>4</td><td>53</td><td>3</td><td>52</td><td>2</td><td>51</td><td>1</td><td>50</td><td>0</td></tr></table>"
      ],
      "text/plain": [
       "<IPython.core.display.HTML object>"
      ]
     },
     "metadata": {},
     "output_type": "display_data"
    }
   ],
   "source": [
    "for p in range(65, 100, 2):\n",
    "    t = triangular(p)\n",
    "    partialt = partial_triangular(p)\n",
    "    \n",
    "    sequences = [[],[],[],[],[]]\n",
    "    \n",
    "    for x1 in range (2, partialt + 1):\n",
    "        sequences[0].append(x1)\n",
    "        #for sake of matching with second sequence will append x1 twice\n",
    "        sequences[0].append(x1)\n",
    "    for x2 in sequences[0]:\n",
    "        sequences[1].append(p * x2)\n",
    "    for x3 in range (2, p +1):\n",
    "        sequences[2].append(x3)\n",
    "    for x4 in sequences[2]:\n",
    "        sequences[3].append(x4 * partialt)\n",
    "    for x5 in range(0, len(sequences[0])):\n",
    "        sequences[4].append(sequences[1][x5] % sequences[3][x5])\n",
    "    \n",
    "    print(\"When p = {} triangular = {} and partial triangular = {}\".format(p, t, partialt))\n",
    "    \n",
    "    display(HTML(\n",
    "        '<table><tr>{}</tr></table>'.format(\n",
    "            '</tr><tr>'.join(\n",
    "                '<td>{}</td>'.format('</td><td>'.join(str(_) for _ in row)) for row in sequences)\n",
    "            )\n",
    "     ))"
   ]
  },
  {
   "cell_type": "markdown",
   "metadata": {},
   "source": [
    "Observe that the modulo row is composed by 2 parts, where partial triangular row is pair the first modulo of the sequence is equal to p-1 and keep up decrementing by 1 until it reach partial triangular value at the end of the table.\n",
    "\n",
    "Where partial triangular row is odd the first modulo of the sequence is equal to pt - 2 and keeps decrementing by 1 until reach 0 at the end of the table.\n",
    "\n",
    "For the scope of this particular document will only focus on the odd part of the sequence which will also reduce greately the complexity of generating the sequence, so next table will only include the partial triangular row when value is odd and the modulo sequence row."
   ]
  },
  {
   "cell_type": "code",
   "execution_count": 7,
   "metadata": {},
   "outputs": [
    {
     "name": "stdout",
     "output_type": "stream",
     "text": [
      "When p = 65 triangular = 4950 and partial triangular = 33\n"
     ]
    },
    {
     "data": {
      "text/html": [
       "<table><tr><td>3</td><td>5</td><td>7</td><td>9</td><td>11</td><td>13</td><td>15</td><td>17</td><td>19</td><td>21</td><td>23</td><td>25</td><td>27</td><td>29</td><td>31</td><td>33</td><td>35</td><td>37</td><td>39</td><td>41</td><td>43</td><td>45</td><td>47</td><td>49</td><td>51</td><td>53</td><td>55</td><td>57</td><td>59</td><td>61</td><td>63</td><td>65</td></tr><tr><td>31</td><td>30</td><td>29</td><td>28</td><td>27</td><td>26</td><td>25</td><td>24</td><td>23</td><td>22</td><td>21</td><td>20</td><td>19</td><td>18</td><td>17</td><td>16</td><td>15</td><td>14</td><td>13</td><td>12</td><td>11</td><td>10</td><td>9</td><td>8</td><td>7</td><td>6</td><td>5</td><td>4</td><td>3</td><td>2</td><td>1</td><td>0</td></tr></table>"
      ],
      "text/plain": [
       "<IPython.core.display.HTML object>"
      ]
     },
     "metadata": {},
     "output_type": "display_data"
    },
    {
     "name": "stdout",
     "output_type": "stream",
     "text": [
      "When p = 67 triangular = 4950 and partial triangular = 34\n"
     ]
    },
    {
     "data": {
      "text/html": [
       "<table><tr><td>3</td><td>5</td><td>7</td><td>9</td><td>11</td><td>13</td><td>15</td><td>17</td><td>19</td><td>21</td><td>23</td><td>25</td><td>27</td><td>29</td><td>31</td><td>33</td><td>35</td><td>37</td><td>39</td><td>41</td><td>43</td><td>45</td><td>47</td><td>49</td><td>51</td><td>53</td><td>55</td><td>57</td><td>59</td><td>61</td><td>63</td><td>65</td><td>67</td></tr><tr><td>32</td><td>31</td><td>30</td><td>29</td><td>28</td><td>27</td><td>26</td><td>25</td><td>24</td><td>23</td><td>22</td><td>21</td><td>20</td><td>19</td><td>18</td><td>17</td><td>16</td><td>15</td><td>14</td><td>13</td><td>12</td><td>11</td><td>10</td><td>9</td><td>8</td><td>7</td><td>6</td><td>5</td><td>4</td><td>3</td><td>2</td><td>1</td><td>0</td></tr></table>"
      ],
      "text/plain": [
       "<IPython.core.display.HTML object>"
      ]
     },
     "metadata": {},
     "output_type": "display_data"
    },
    {
     "name": "stdout",
     "output_type": "stream",
     "text": [
      "When p = 69 triangular = 4950 and partial triangular = 35\n"
     ]
    },
    {
     "data": {
      "text/html": [
       "<table><tr><td>3</td><td>5</td><td>7</td><td>9</td><td>11</td><td>13</td><td>15</td><td>17</td><td>19</td><td>21</td><td>23</td><td>25</td><td>27</td><td>29</td><td>31</td><td>33</td><td>35</td><td>37</td><td>39</td><td>41</td><td>43</td><td>45</td><td>47</td><td>49</td><td>51</td><td>53</td><td>55</td><td>57</td><td>59</td><td>61</td><td>63</td><td>65</td><td>67</td><td>69</td></tr><tr><td>33</td><td>32</td><td>31</td><td>30</td><td>29</td><td>28</td><td>27</td><td>26</td><td>25</td><td>24</td><td>23</td><td>22</td><td>21</td><td>20</td><td>19</td><td>18</td><td>17</td><td>16</td><td>15</td><td>14</td><td>13</td><td>12</td><td>11</td><td>10</td><td>9</td><td>8</td><td>7</td><td>6</td><td>5</td><td>4</td><td>3</td><td>2</td><td>1</td><td>0</td></tr></table>"
      ],
      "text/plain": [
       "<IPython.core.display.HTML object>"
      ]
     },
     "metadata": {},
     "output_type": "display_data"
    },
    {
     "name": "stdout",
     "output_type": "stream",
     "text": [
      "When p = 71 triangular = 4950 and partial triangular = 36\n"
     ]
    },
    {
     "data": {
      "text/html": [
       "<table><tr><td>3</td><td>5</td><td>7</td><td>9</td><td>11</td><td>13</td><td>15</td><td>17</td><td>19</td><td>21</td><td>23</td><td>25</td><td>27</td><td>29</td><td>31</td><td>33</td><td>35</td><td>37</td><td>39</td><td>41</td><td>43</td><td>45</td><td>47</td><td>49</td><td>51</td><td>53</td><td>55</td><td>57</td><td>59</td><td>61</td><td>63</td><td>65</td><td>67</td><td>69</td><td>71</td></tr><tr><td>34</td><td>33</td><td>32</td><td>31</td><td>30</td><td>29</td><td>28</td><td>27</td><td>26</td><td>25</td><td>24</td><td>23</td><td>22</td><td>21</td><td>20</td><td>19</td><td>18</td><td>17</td><td>16</td><td>15</td><td>14</td><td>13</td><td>12</td><td>11</td><td>10</td><td>9</td><td>8</td><td>7</td><td>6</td><td>5</td><td>4</td><td>3</td><td>2</td><td>1</td><td>0</td></tr></table>"
      ],
      "text/plain": [
       "<IPython.core.display.HTML object>"
      ]
     },
     "metadata": {},
     "output_type": "display_data"
    },
    {
     "name": "stdout",
     "output_type": "stream",
     "text": [
      "When p = 73 triangular = 4950 and partial triangular = 37\n"
     ]
    },
    {
     "data": {
      "text/html": [
       "<table><tr><td>3</td><td>5</td><td>7</td><td>9</td><td>11</td><td>13</td><td>15</td><td>17</td><td>19</td><td>21</td><td>23</td><td>25</td><td>27</td><td>29</td><td>31</td><td>33</td><td>35</td><td>37</td><td>39</td><td>41</td><td>43</td><td>45</td><td>47</td><td>49</td><td>51</td><td>53</td><td>55</td><td>57</td><td>59</td><td>61</td><td>63</td><td>65</td><td>67</td><td>69</td><td>71</td><td>73</td></tr><tr><td>35</td><td>34</td><td>33</td><td>32</td><td>31</td><td>30</td><td>29</td><td>28</td><td>27</td><td>26</td><td>25</td><td>24</td><td>23</td><td>22</td><td>21</td><td>20</td><td>19</td><td>18</td><td>17</td><td>16</td><td>15</td><td>14</td><td>13</td><td>12</td><td>11</td><td>10</td><td>9</td><td>8</td><td>7</td><td>6</td><td>5</td><td>4</td><td>3</td><td>2</td><td>1</td><td>0</td></tr></table>"
      ],
      "text/plain": [
       "<IPython.core.display.HTML object>"
      ]
     },
     "metadata": {},
     "output_type": "display_data"
    },
    {
     "name": "stdout",
     "output_type": "stream",
     "text": [
      "When p = 75 triangular = 4950 and partial triangular = 38\n"
     ]
    },
    {
     "data": {
      "text/html": [
       "<table><tr><td>3</td><td>5</td><td>7</td><td>9</td><td>11</td><td>13</td><td>15</td><td>17</td><td>19</td><td>21</td><td>23</td><td>25</td><td>27</td><td>29</td><td>31</td><td>33</td><td>35</td><td>37</td><td>39</td><td>41</td><td>43</td><td>45</td><td>47</td><td>49</td><td>51</td><td>53</td><td>55</td><td>57</td><td>59</td><td>61</td><td>63</td><td>65</td><td>67</td><td>69</td><td>71</td><td>73</td><td>75</td></tr><tr><td>36</td><td>35</td><td>34</td><td>33</td><td>32</td><td>31</td><td>30</td><td>29</td><td>28</td><td>27</td><td>26</td><td>25</td><td>24</td><td>23</td><td>22</td><td>21</td><td>20</td><td>19</td><td>18</td><td>17</td><td>16</td><td>15</td><td>14</td><td>13</td><td>12</td><td>11</td><td>10</td><td>9</td><td>8</td><td>7</td><td>6</td><td>5</td><td>4</td><td>3</td><td>2</td><td>1</td><td>0</td></tr></table>"
      ],
      "text/plain": [
       "<IPython.core.display.HTML object>"
      ]
     },
     "metadata": {},
     "output_type": "display_data"
    },
    {
     "name": "stdout",
     "output_type": "stream",
     "text": [
      "When p = 77 triangular = 4950 and partial triangular = 39\n"
     ]
    },
    {
     "data": {
      "text/html": [
       "<table><tr><td>3</td><td>5</td><td>7</td><td>9</td><td>11</td><td>13</td><td>15</td><td>17</td><td>19</td><td>21</td><td>23</td><td>25</td><td>27</td><td>29</td><td>31</td><td>33</td><td>35</td><td>37</td><td>39</td><td>41</td><td>43</td><td>45</td><td>47</td><td>49</td><td>51</td><td>53</td><td>55</td><td>57</td><td>59</td><td>61</td><td>63</td><td>65</td><td>67</td><td>69</td><td>71</td><td>73</td><td>75</td><td>77</td></tr><tr><td>37</td><td>36</td><td>35</td><td>34</td><td>33</td><td>32</td><td>31</td><td>30</td><td>29</td><td>28</td><td>27</td><td>26</td><td>25</td><td>24</td><td>23</td><td>22</td><td>21</td><td>20</td><td>19</td><td>18</td><td>17</td><td>16</td><td>15</td><td>14</td><td>13</td><td>12</td><td>11</td><td>10</td><td>9</td><td>8</td><td>7</td><td>6</td><td>5</td><td>4</td><td>3</td><td>2</td><td>1</td><td>0</td></tr></table>"
      ],
      "text/plain": [
       "<IPython.core.display.HTML object>"
      ]
     },
     "metadata": {},
     "output_type": "display_data"
    },
    {
     "name": "stdout",
     "output_type": "stream",
     "text": [
      "When p = 79 triangular = 4950 and partial triangular = 40\n"
     ]
    },
    {
     "data": {
      "text/html": [
       "<table><tr><td>3</td><td>5</td><td>7</td><td>9</td><td>11</td><td>13</td><td>15</td><td>17</td><td>19</td><td>21</td><td>23</td><td>25</td><td>27</td><td>29</td><td>31</td><td>33</td><td>35</td><td>37</td><td>39</td><td>41</td><td>43</td><td>45</td><td>47</td><td>49</td><td>51</td><td>53</td><td>55</td><td>57</td><td>59</td><td>61</td><td>63</td><td>65</td><td>67</td><td>69</td><td>71</td><td>73</td><td>75</td><td>77</td><td>79</td></tr><tr><td>38</td><td>37</td><td>36</td><td>35</td><td>34</td><td>33</td><td>32</td><td>31</td><td>30</td><td>29</td><td>28</td><td>27</td><td>26</td><td>25</td><td>24</td><td>23</td><td>22</td><td>21</td><td>20</td><td>19</td><td>18</td><td>17</td><td>16</td><td>15</td><td>14</td><td>13</td><td>12</td><td>11</td><td>10</td><td>9</td><td>8</td><td>7</td><td>6</td><td>5</td><td>4</td><td>3</td><td>2</td><td>1</td><td>0</td></tr></table>"
      ],
      "text/plain": [
       "<IPython.core.display.HTML object>"
      ]
     },
     "metadata": {},
     "output_type": "display_data"
    },
    {
     "name": "stdout",
     "output_type": "stream",
     "text": [
      "When p = 81 triangular = 4950 and partial triangular = 41\n"
     ]
    },
    {
     "data": {
      "text/html": [
       "<table><tr><td>3</td><td>5</td><td>7</td><td>9</td><td>11</td><td>13</td><td>15</td><td>17</td><td>19</td><td>21</td><td>23</td><td>25</td><td>27</td><td>29</td><td>31</td><td>33</td><td>35</td><td>37</td><td>39</td><td>41</td><td>43</td><td>45</td><td>47</td><td>49</td><td>51</td><td>53</td><td>55</td><td>57</td><td>59</td><td>61</td><td>63</td><td>65</td><td>67</td><td>69</td><td>71</td><td>73</td><td>75</td><td>77</td><td>79</td><td>81</td></tr><tr><td>39</td><td>38</td><td>37</td><td>36</td><td>35</td><td>34</td><td>33</td><td>32</td><td>31</td><td>30</td><td>29</td><td>28</td><td>27</td><td>26</td><td>25</td><td>24</td><td>23</td><td>22</td><td>21</td><td>20</td><td>19</td><td>18</td><td>17</td><td>16</td><td>15</td><td>14</td><td>13</td><td>12</td><td>11</td><td>10</td><td>9</td><td>8</td><td>7</td><td>6</td><td>5</td><td>4</td><td>3</td><td>2</td><td>1</td><td>0</td></tr></table>"
      ],
      "text/plain": [
       "<IPython.core.display.HTML object>"
      ]
     },
     "metadata": {},
     "output_type": "display_data"
    },
    {
     "name": "stdout",
     "output_type": "stream",
     "text": [
      "When p = 83 triangular = 4950 and partial triangular = 42\n"
     ]
    },
    {
     "data": {
      "text/html": [
       "<table><tr><td>3</td><td>5</td><td>7</td><td>9</td><td>11</td><td>13</td><td>15</td><td>17</td><td>19</td><td>21</td><td>23</td><td>25</td><td>27</td><td>29</td><td>31</td><td>33</td><td>35</td><td>37</td><td>39</td><td>41</td><td>43</td><td>45</td><td>47</td><td>49</td><td>51</td><td>53</td><td>55</td><td>57</td><td>59</td><td>61</td><td>63</td><td>65</td><td>67</td><td>69</td><td>71</td><td>73</td><td>75</td><td>77</td><td>79</td><td>81</td><td>83</td></tr><tr><td>40</td><td>39</td><td>38</td><td>37</td><td>36</td><td>35</td><td>34</td><td>33</td><td>32</td><td>31</td><td>30</td><td>29</td><td>28</td><td>27</td><td>26</td><td>25</td><td>24</td><td>23</td><td>22</td><td>21</td><td>20</td><td>19</td><td>18</td><td>17</td><td>16</td><td>15</td><td>14</td><td>13</td><td>12</td><td>11</td><td>10</td><td>9</td><td>8</td><td>7</td><td>6</td><td>5</td><td>4</td><td>3</td><td>2</td><td>1</td><td>0</td></tr></table>"
      ],
      "text/plain": [
       "<IPython.core.display.HTML object>"
      ]
     },
     "metadata": {},
     "output_type": "display_data"
    },
    {
     "name": "stdout",
     "output_type": "stream",
     "text": [
      "When p = 85 triangular = 4950 and partial triangular = 43\n"
     ]
    },
    {
     "data": {
      "text/html": [
       "<table><tr><td>3</td><td>5</td><td>7</td><td>9</td><td>11</td><td>13</td><td>15</td><td>17</td><td>19</td><td>21</td><td>23</td><td>25</td><td>27</td><td>29</td><td>31</td><td>33</td><td>35</td><td>37</td><td>39</td><td>41</td><td>43</td><td>45</td><td>47</td><td>49</td><td>51</td><td>53</td><td>55</td><td>57</td><td>59</td><td>61</td><td>63</td><td>65</td><td>67</td><td>69</td><td>71</td><td>73</td><td>75</td><td>77</td><td>79</td><td>81</td><td>83</td><td>85</td></tr><tr><td>41</td><td>40</td><td>39</td><td>38</td><td>37</td><td>36</td><td>35</td><td>34</td><td>33</td><td>32</td><td>31</td><td>30</td><td>29</td><td>28</td><td>27</td><td>26</td><td>25</td><td>24</td><td>23</td><td>22</td><td>21</td><td>20</td><td>19</td><td>18</td><td>17</td><td>16</td><td>15</td><td>14</td><td>13</td><td>12</td><td>11</td><td>10</td><td>9</td><td>8</td><td>7</td><td>6</td><td>5</td><td>4</td><td>3</td><td>2</td><td>1</td><td>0</td></tr></table>"
      ],
      "text/plain": [
       "<IPython.core.display.HTML object>"
      ]
     },
     "metadata": {},
     "output_type": "display_data"
    },
    {
     "name": "stdout",
     "output_type": "stream",
     "text": [
      "When p = 87 triangular = 4950 and partial triangular = 44\n"
     ]
    },
    {
     "data": {
      "text/html": [
       "<table><tr><td>3</td><td>5</td><td>7</td><td>9</td><td>11</td><td>13</td><td>15</td><td>17</td><td>19</td><td>21</td><td>23</td><td>25</td><td>27</td><td>29</td><td>31</td><td>33</td><td>35</td><td>37</td><td>39</td><td>41</td><td>43</td><td>45</td><td>47</td><td>49</td><td>51</td><td>53</td><td>55</td><td>57</td><td>59</td><td>61</td><td>63</td><td>65</td><td>67</td><td>69</td><td>71</td><td>73</td><td>75</td><td>77</td><td>79</td><td>81</td><td>83</td><td>85</td><td>87</td></tr><tr><td>42</td><td>41</td><td>40</td><td>39</td><td>38</td><td>37</td><td>36</td><td>35</td><td>34</td><td>33</td><td>32</td><td>31</td><td>30</td><td>29</td><td>28</td><td>27</td><td>26</td><td>25</td><td>24</td><td>23</td><td>22</td><td>21</td><td>20</td><td>19</td><td>18</td><td>17</td><td>16</td><td>15</td><td>14</td><td>13</td><td>12</td><td>11</td><td>10</td><td>9</td><td>8</td><td>7</td><td>6</td><td>5</td><td>4</td><td>3</td><td>2</td><td>1</td><td>0</td></tr></table>"
      ],
      "text/plain": [
       "<IPython.core.display.HTML object>"
      ]
     },
     "metadata": {},
     "output_type": "display_data"
    },
    {
     "name": "stdout",
     "output_type": "stream",
     "text": [
      "When p = 89 triangular = 4950 and partial triangular = 45\n"
     ]
    },
    {
     "data": {
      "text/html": [
       "<table><tr><td>3</td><td>5</td><td>7</td><td>9</td><td>11</td><td>13</td><td>15</td><td>17</td><td>19</td><td>21</td><td>23</td><td>25</td><td>27</td><td>29</td><td>31</td><td>33</td><td>35</td><td>37</td><td>39</td><td>41</td><td>43</td><td>45</td><td>47</td><td>49</td><td>51</td><td>53</td><td>55</td><td>57</td><td>59</td><td>61</td><td>63</td><td>65</td><td>67</td><td>69</td><td>71</td><td>73</td><td>75</td><td>77</td><td>79</td><td>81</td><td>83</td><td>85</td><td>87</td><td>89</td></tr><tr><td>43</td><td>42</td><td>41</td><td>40</td><td>39</td><td>38</td><td>37</td><td>36</td><td>35</td><td>34</td><td>33</td><td>32</td><td>31</td><td>30</td><td>29</td><td>28</td><td>27</td><td>26</td><td>25</td><td>24</td><td>23</td><td>22</td><td>21</td><td>20</td><td>19</td><td>18</td><td>17</td><td>16</td><td>15</td><td>14</td><td>13</td><td>12</td><td>11</td><td>10</td><td>9</td><td>8</td><td>7</td><td>6</td><td>5</td><td>4</td><td>3</td><td>2</td><td>1</td><td>0</td></tr></table>"
      ],
      "text/plain": [
       "<IPython.core.display.HTML object>"
      ]
     },
     "metadata": {},
     "output_type": "display_data"
    },
    {
     "name": "stdout",
     "output_type": "stream",
     "text": [
      "When p = 91 triangular = 4950 and partial triangular = 46\n"
     ]
    },
    {
     "data": {
      "text/html": [
       "<table><tr><td>3</td><td>5</td><td>7</td><td>9</td><td>11</td><td>13</td><td>15</td><td>17</td><td>19</td><td>21</td><td>23</td><td>25</td><td>27</td><td>29</td><td>31</td><td>33</td><td>35</td><td>37</td><td>39</td><td>41</td><td>43</td><td>45</td><td>47</td><td>49</td><td>51</td><td>53</td><td>55</td><td>57</td><td>59</td><td>61</td><td>63</td><td>65</td><td>67</td><td>69</td><td>71</td><td>73</td><td>75</td><td>77</td><td>79</td><td>81</td><td>83</td><td>85</td><td>87</td><td>89</td><td>91</td></tr><tr><td>44</td><td>43</td><td>42</td><td>41</td><td>40</td><td>39</td><td>38</td><td>37</td><td>36</td><td>35</td><td>34</td><td>33</td><td>32</td><td>31</td><td>30</td><td>29</td><td>28</td><td>27</td><td>26</td><td>25</td><td>24</td><td>23</td><td>22</td><td>21</td><td>20</td><td>19</td><td>18</td><td>17</td><td>16</td><td>15</td><td>14</td><td>13</td><td>12</td><td>11</td><td>10</td><td>9</td><td>8</td><td>7</td><td>6</td><td>5</td><td>4</td><td>3</td><td>2</td><td>1</td><td>0</td></tr></table>"
      ],
      "text/plain": [
       "<IPython.core.display.HTML object>"
      ]
     },
     "metadata": {},
     "output_type": "display_data"
    },
    {
     "name": "stdout",
     "output_type": "stream",
     "text": [
      "When p = 93 triangular = 4950 and partial triangular = 47\n"
     ]
    },
    {
     "data": {
      "text/html": [
       "<table><tr><td>3</td><td>5</td><td>7</td><td>9</td><td>11</td><td>13</td><td>15</td><td>17</td><td>19</td><td>21</td><td>23</td><td>25</td><td>27</td><td>29</td><td>31</td><td>33</td><td>35</td><td>37</td><td>39</td><td>41</td><td>43</td><td>45</td><td>47</td><td>49</td><td>51</td><td>53</td><td>55</td><td>57</td><td>59</td><td>61</td><td>63</td><td>65</td><td>67</td><td>69</td><td>71</td><td>73</td><td>75</td><td>77</td><td>79</td><td>81</td><td>83</td><td>85</td><td>87</td><td>89</td><td>91</td><td>93</td></tr><tr><td>45</td><td>44</td><td>43</td><td>42</td><td>41</td><td>40</td><td>39</td><td>38</td><td>37</td><td>36</td><td>35</td><td>34</td><td>33</td><td>32</td><td>31</td><td>30</td><td>29</td><td>28</td><td>27</td><td>26</td><td>25</td><td>24</td><td>23</td><td>22</td><td>21</td><td>20</td><td>19</td><td>18</td><td>17</td><td>16</td><td>15</td><td>14</td><td>13</td><td>12</td><td>11</td><td>10</td><td>9</td><td>8</td><td>7</td><td>6</td><td>5</td><td>4</td><td>3</td><td>2</td><td>1</td><td>0</td></tr></table>"
      ],
      "text/plain": [
       "<IPython.core.display.HTML object>"
      ]
     },
     "metadata": {},
     "output_type": "display_data"
    },
    {
     "name": "stdout",
     "output_type": "stream",
     "text": [
      "When p = 95 triangular = 4950 and partial triangular = 48\n"
     ]
    },
    {
     "data": {
      "text/html": [
       "<table><tr><td>3</td><td>5</td><td>7</td><td>9</td><td>11</td><td>13</td><td>15</td><td>17</td><td>19</td><td>21</td><td>23</td><td>25</td><td>27</td><td>29</td><td>31</td><td>33</td><td>35</td><td>37</td><td>39</td><td>41</td><td>43</td><td>45</td><td>47</td><td>49</td><td>51</td><td>53</td><td>55</td><td>57</td><td>59</td><td>61</td><td>63</td><td>65</td><td>67</td><td>69</td><td>71</td><td>73</td><td>75</td><td>77</td><td>79</td><td>81</td><td>83</td><td>85</td><td>87</td><td>89</td><td>91</td><td>93</td><td>95</td></tr><tr><td>46</td><td>45</td><td>44</td><td>43</td><td>42</td><td>41</td><td>40</td><td>39</td><td>38</td><td>37</td><td>36</td><td>35</td><td>34</td><td>33</td><td>32</td><td>31</td><td>30</td><td>29</td><td>28</td><td>27</td><td>26</td><td>25</td><td>24</td><td>23</td><td>22</td><td>21</td><td>20</td><td>19</td><td>18</td><td>17</td><td>16</td><td>15</td><td>14</td><td>13</td><td>12</td><td>11</td><td>10</td><td>9</td><td>8</td><td>7</td><td>6</td><td>5</td><td>4</td><td>3</td><td>2</td><td>1</td><td>0</td></tr></table>"
      ],
      "text/plain": [
       "<IPython.core.display.HTML object>"
      ]
     },
     "metadata": {},
     "output_type": "display_data"
    },
    {
     "name": "stdout",
     "output_type": "stream",
     "text": [
      "When p = 97 triangular = 4950 and partial triangular = 49\n"
     ]
    },
    {
     "data": {
      "text/html": [
       "<table><tr><td>3</td><td>5</td><td>7</td><td>9</td><td>11</td><td>13</td><td>15</td><td>17</td><td>19</td><td>21</td><td>23</td><td>25</td><td>27</td><td>29</td><td>31</td><td>33</td><td>35</td><td>37</td><td>39</td><td>41</td><td>43</td><td>45</td><td>47</td><td>49</td><td>51</td><td>53</td><td>55</td><td>57</td><td>59</td><td>61</td><td>63</td><td>65</td><td>67</td><td>69</td><td>71</td><td>73</td><td>75</td><td>77</td><td>79</td><td>81</td><td>83</td><td>85</td><td>87</td><td>89</td><td>91</td><td>93</td><td>95</td><td>97</td></tr><tr><td>47</td><td>46</td><td>45</td><td>44</td><td>43</td><td>42</td><td>41</td><td>40</td><td>39</td><td>38</td><td>37</td><td>36</td><td>35</td><td>34</td><td>33</td><td>32</td><td>31</td><td>30</td><td>29</td><td>28</td><td>27</td><td>26</td><td>25</td><td>24</td><td>23</td><td>22</td><td>21</td><td>20</td><td>19</td><td>18</td><td>17</td><td>16</td><td>15</td><td>14</td><td>13</td><td>12</td><td>11</td><td>10</td><td>9</td><td>8</td><td>7</td><td>6</td><td>5</td><td>4</td><td>3</td><td>2</td><td>1</td><td>0</td></tr></table>"
      ],
      "text/plain": [
       "<IPython.core.display.HTML object>"
      ]
     },
     "metadata": {},
     "output_type": "display_data"
    },
    {
     "name": "stdout",
     "output_type": "stream",
     "text": [
      "When p = 99 triangular = 4950 and partial triangular = 50\n"
     ]
    },
    {
     "data": {
      "text/html": [
       "<table><tr><td>3</td><td>5</td><td>7</td><td>9</td><td>11</td><td>13</td><td>15</td><td>17</td><td>19</td><td>21</td><td>23</td><td>25</td><td>27</td><td>29</td><td>31</td><td>33</td><td>35</td><td>37</td><td>39</td><td>41</td><td>43</td><td>45</td><td>47</td><td>49</td><td>51</td><td>53</td><td>55</td><td>57</td><td>59</td><td>61</td><td>63</td><td>65</td><td>67</td><td>69</td><td>71</td><td>73</td><td>75</td><td>77</td><td>79</td><td>81</td><td>83</td><td>85</td><td>87</td><td>89</td><td>91</td><td>93</td><td>95</td><td>97</td><td>99</td></tr><tr><td>48</td><td>47</td><td>46</td><td>45</td><td>44</td><td>43</td><td>42</td><td>41</td><td>40</td><td>39</td><td>38</td><td>37</td><td>36</td><td>35</td><td>34</td><td>33</td><td>32</td><td>31</td><td>30</td><td>29</td><td>28</td><td>27</td><td>26</td><td>25</td><td>24</td><td>23</td><td>22</td><td>21</td><td>20</td><td>19</td><td>18</td><td>17</td><td>16</td><td>15</td><td>14</td><td>13</td><td>12</td><td>11</td><td>10</td><td>9</td><td>8</td><td>7</td><td>6</td><td>5</td><td>4</td><td>3</td><td>2</td><td>1</td><td>0</td></tr></table>"
      ],
      "text/plain": [
       "<IPython.core.display.HTML object>"
      ]
     },
     "metadata": {},
     "output_type": "display_data"
    }
   ],
   "source": [
    "for p in range(65, 100, 2):\n",
    "    partialt = partial_triangular(p)\n",
    "    \n",
    "    sequences = [[],[]]\n",
    "    \n",
    "    for x1 in range (3, p + 1, 2):\n",
    "        sequences[0].append(x1)\n",
    "    for x2 in range (partialt - 2, -1, -1):\n",
    "        sequences[1].append(x2)\n",
    "    \n",
    "    print(\"When p = {} triangular = {} and partial triangular = {}\".format(p, t, partialt))\n",
    "    \n",
    "    display(HTML(\n",
    "        '<table><tr>{}</tr></table>'.format(\n",
    "            '</tr><tr>'.join(\n",
    "                '<td>{}</td>'.format('</td><td>'.join(str(_) for _ in row)) for row in sequences)\n",
    "            )\n",
    "     ))"
   ]
  },
  {
   "cell_type": "markdown",
   "metadata": {},
   "source": [
    "Having this 2 set of values now is possible to find if number p have divisors and determine if is prime.\n",
    "\n",
    "Notice that top row is ascending until reach p and bottom row desend from pt - 2 to 0 there's a point where they intersect."
   ]
  },
  {
   "cell_type": "code",
   "execution_count": 12,
   "metadata": {},
   "outputs": [
    {
     "name": "stdout",
     "output_type": "stream",
     "text": [
      "When p = 65 triangular = 4950 and partial triangular = 33\n"
     ]
    },
    {
     "data": {
      "text/html": [
       "<table><tr><td>3</td><td>5</td><td>7</td><td>9</td><td>11</td><td>13</td><td>15</td><td>17</td><td>19</td><td>21</td></tr><tr><td>31</td><td>30</td><td>29</td><td>28</td><td>27</td><td>26</td><td>25</td><td>24</td><td>23</td><td>22</td></tr></table>"
      ],
      "text/plain": [
       "<IPython.core.display.HTML object>"
      ]
     },
     "metadata": {},
     "output_type": "display_data"
    },
    {
     "name": "stdout",
     "output_type": "stream",
     "text": [
      "When p = 67 triangular = 4950 and partial triangular = 34\n"
     ]
    },
    {
     "data": {
      "text/html": [
       "<table><tr><td>3</td><td>5</td><td>7</td><td>9</td><td>11</td><td>13</td><td>15</td><td>17</td><td>19</td><td>21</td></tr><tr><td>32</td><td>31</td><td>30</td><td>29</td><td>28</td><td>27</td><td>26</td><td>25</td><td>24</td><td>23</td></tr></table>"
      ],
      "text/plain": [
       "<IPython.core.display.HTML object>"
      ]
     },
     "metadata": {},
     "output_type": "display_data"
    },
    {
     "name": "stdout",
     "output_type": "stream",
     "text": [
      "When p = 69 triangular = 4950 and partial triangular = 35\n"
     ]
    },
    {
     "data": {
      "text/html": [
       "<table><tr><td>3</td><td>5</td><td>7</td><td>9</td><td>11</td><td>13</td><td>15</td><td>17</td><td>19</td><td>21</td><td>23</td></tr><tr><td>33</td><td>32</td><td>31</td><td>30</td><td>29</td><td>28</td><td>27</td><td>26</td><td>25</td><td>24</td><td>23</td></tr></table>"
      ],
      "text/plain": [
       "<IPython.core.display.HTML object>"
      ]
     },
     "metadata": {},
     "output_type": "display_data"
    },
    {
     "name": "stdout",
     "output_type": "stream",
     "text": [
      "When p = 71 triangular = 4950 and partial triangular = 36\n"
     ]
    },
    {
     "data": {
      "text/html": [
       "<table><tr><td>3</td><td>5</td><td>7</td><td>9</td><td>11</td><td>13</td><td>15</td><td>17</td><td>19</td><td>21</td><td>23</td></tr><tr><td>34</td><td>33</td><td>32</td><td>31</td><td>30</td><td>29</td><td>28</td><td>27</td><td>26</td><td>25</td><td>24</td></tr></table>"
      ],
      "text/plain": [
       "<IPython.core.display.HTML object>"
      ]
     },
     "metadata": {},
     "output_type": "display_data"
    },
    {
     "name": "stdout",
     "output_type": "stream",
     "text": [
      "When p = 73 triangular = 4950 and partial triangular = 37\n"
     ]
    },
    {
     "data": {
      "text/html": [
       "<table><tr><td>3</td><td>5</td><td>7</td><td>9</td><td>11</td><td>13</td><td>15</td><td>17</td><td>19</td><td>21</td><td>23</td></tr><tr><td>35</td><td>34</td><td>33</td><td>32</td><td>31</td><td>30</td><td>29</td><td>28</td><td>27</td><td>26</td><td>25</td></tr></table>"
      ],
      "text/plain": [
       "<IPython.core.display.HTML object>"
      ]
     },
     "metadata": {},
     "output_type": "display_data"
    },
    {
     "name": "stdout",
     "output_type": "stream",
     "text": [
      "When p = 75 triangular = 4950 and partial triangular = 38\n"
     ]
    },
    {
     "data": {
      "text/html": [
       "<table><tr><td>3</td><td>5</td><td>7</td><td>9</td><td>11</td><td>13</td><td>15</td><td>17</td><td>19</td><td>21</td><td>23</td><td>25</td></tr><tr><td>36</td><td>35</td><td>34</td><td>33</td><td>32</td><td>31</td><td>30</td><td>29</td><td>28</td><td>27</td><td>26</td><td>25</td></tr></table>"
      ],
      "text/plain": [
       "<IPython.core.display.HTML object>"
      ]
     },
     "metadata": {},
     "output_type": "display_data"
    },
    {
     "name": "stdout",
     "output_type": "stream",
     "text": [
      "When p = 77 triangular = 4950 and partial triangular = 39\n"
     ]
    },
    {
     "data": {
      "text/html": [
       "<table><tr><td>3</td><td>5</td><td>7</td><td>9</td><td>11</td><td>13</td><td>15</td><td>17</td><td>19</td><td>21</td><td>23</td><td>25</td></tr><tr><td>37</td><td>36</td><td>35</td><td>34</td><td>33</td><td>32</td><td>31</td><td>30</td><td>29</td><td>28</td><td>27</td><td>26</td></tr></table>"
      ],
      "text/plain": [
       "<IPython.core.display.HTML object>"
      ]
     },
     "metadata": {},
     "output_type": "display_data"
    },
    {
     "name": "stdout",
     "output_type": "stream",
     "text": [
      "When p = 79 triangular = 4950 and partial triangular = 40\n"
     ]
    },
    {
     "data": {
      "text/html": [
       "<table><tr><td>3</td><td>5</td><td>7</td><td>9</td><td>11</td><td>13</td><td>15</td><td>17</td><td>19</td><td>21</td><td>23</td><td>25</td></tr><tr><td>38</td><td>37</td><td>36</td><td>35</td><td>34</td><td>33</td><td>32</td><td>31</td><td>30</td><td>29</td><td>28</td><td>27</td></tr></table>"
      ],
      "text/plain": [
       "<IPython.core.display.HTML object>"
      ]
     },
     "metadata": {},
     "output_type": "display_data"
    },
    {
     "name": "stdout",
     "output_type": "stream",
     "text": [
      "When p = 81 triangular = 4950 and partial triangular = 41\n"
     ]
    },
    {
     "data": {
      "text/html": [
       "<table><tr><td>3</td><td>5</td><td>7</td><td>9</td><td>11</td><td>13</td><td>15</td><td>17</td><td>19</td><td>21</td><td>23</td><td>25</td><td>27</td></tr><tr><td>39</td><td>38</td><td>37</td><td>36</td><td>35</td><td>34</td><td>33</td><td>32</td><td>31</td><td>30</td><td>29</td><td>28</td><td>27</td></tr></table>"
      ],
      "text/plain": [
       "<IPython.core.display.HTML object>"
      ]
     },
     "metadata": {},
     "output_type": "display_data"
    },
    {
     "name": "stdout",
     "output_type": "stream",
     "text": [
      "When p = 83 triangular = 4950 and partial triangular = 42\n"
     ]
    },
    {
     "data": {
      "text/html": [
       "<table><tr><td>3</td><td>5</td><td>7</td><td>9</td><td>11</td><td>13</td><td>15</td><td>17</td><td>19</td><td>21</td><td>23</td><td>25</td><td>27</td></tr><tr><td>40</td><td>39</td><td>38</td><td>37</td><td>36</td><td>35</td><td>34</td><td>33</td><td>32</td><td>31</td><td>30</td><td>29</td><td>28</td></tr></table>"
      ],
      "text/plain": [
       "<IPython.core.display.HTML object>"
      ]
     },
     "metadata": {},
     "output_type": "display_data"
    },
    {
     "name": "stdout",
     "output_type": "stream",
     "text": [
      "When p = 85 triangular = 4950 and partial triangular = 43\n"
     ]
    },
    {
     "data": {
      "text/html": [
       "<table><tr><td>3</td><td>5</td><td>7</td><td>9</td><td>11</td><td>13</td><td>15</td><td>17</td><td>19</td><td>21</td><td>23</td><td>25</td><td>27</td></tr><tr><td>41</td><td>40</td><td>39</td><td>38</td><td>37</td><td>36</td><td>35</td><td>34</td><td>33</td><td>32</td><td>31</td><td>30</td><td>29</td></tr></table>"
      ],
      "text/plain": [
       "<IPython.core.display.HTML object>"
      ]
     },
     "metadata": {},
     "output_type": "display_data"
    },
    {
     "name": "stdout",
     "output_type": "stream",
     "text": [
      "When p = 87 triangular = 4950 and partial triangular = 44\n"
     ]
    },
    {
     "data": {
      "text/html": [
       "<table><tr><td>3</td><td>5</td><td>7</td><td>9</td><td>11</td><td>13</td><td>15</td><td>17</td><td>19</td><td>21</td><td>23</td><td>25</td><td>27</td><td>29</td></tr><tr><td>42</td><td>41</td><td>40</td><td>39</td><td>38</td><td>37</td><td>36</td><td>35</td><td>34</td><td>33</td><td>32</td><td>31</td><td>30</td><td>29</td></tr></table>"
      ],
      "text/plain": [
       "<IPython.core.display.HTML object>"
      ]
     },
     "metadata": {},
     "output_type": "display_data"
    },
    {
     "name": "stdout",
     "output_type": "stream",
     "text": [
      "When p = 89 triangular = 4950 and partial triangular = 45\n"
     ]
    },
    {
     "data": {
      "text/html": [
       "<table><tr><td>3</td><td>5</td><td>7</td><td>9</td><td>11</td><td>13</td><td>15</td><td>17</td><td>19</td><td>21</td><td>23</td><td>25</td><td>27</td><td>29</td></tr><tr><td>43</td><td>42</td><td>41</td><td>40</td><td>39</td><td>38</td><td>37</td><td>36</td><td>35</td><td>34</td><td>33</td><td>32</td><td>31</td><td>30</td></tr></table>"
      ],
      "text/plain": [
       "<IPython.core.display.HTML object>"
      ]
     },
     "metadata": {},
     "output_type": "display_data"
    },
    {
     "name": "stdout",
     "output_type": "stream",
     "text": [
      "When p = 91 triangular = 4950 and partial triangular = 46\n"
     ]
    },
    {
     "data": {
      "text/html": [
       "<table><tr><td>3</td><td>5</td><td>7</td><td>9</td><td>11</td><td>13</td><td>15</td><td>17</td><td>19</td><td>21</td><td>23</td><td>25</td><td>27</td><td>29</td></tr><tr><td>44</td><td>43</td><td>42</td><td>41</td><td>40</td><td>39</td><td>38</td><td>37</td><td>36</td><td>35</td><td>34</td><td>33</td><td>32</td><td>31</td></tr></table>"
      ],
      "text/plain": [
       "<IPython.core.display.HTML object>"
      ]
     },
     "metadata": {},
     "output_type": "display_data"
    },
    {
     "name": "stdout",
     "output_type": "stream",
     "text": [
      "When p = 93 triangular = 4950 and partial triangular = 47\n"
     ]
    },
    {
     "data": {
      "text/html": [
       "<table><tr><td>3</td><td>5</td><td>7</td><td>9</td><td>11</td><td>13</td><td>15</td><td>17</td><td>19</td><td>21</td><td>23</td><td>25</td><td>27</td><td>29</td><td>31</td></tr><tr><td>45</td><td>44</td><td>43</td><td>42</td><td>41</td><td>40</td><td>39</td><td>38</td><td>37</td><td>36</td><td>35</td><td>34</td><td>33</td><td>32</td><td>31</td></tr></table>"
      ],
      "text/plain": [
       "<IPython.core.display.HTML object>"
      ]
     },
     "metadata": {},
     "output_type": "display_data"
    },
    {
     "name": "stdout",
     "output_type": "stream",
     "text": [
      "When p = 95 triangular = 4950 and partial triangular = 48\n"
     ]
    },
    {
     "data": {
      "text/html": [
       "<table><tr><td>3</td><td>5</td><td>7</td><td>9</td><td>11</td><td>13</td><td>15</td><td>17</td><td>19</td><td>21</td><td>23</td><td>25</td><td>27</td><td>29</td><td>31</td></tr><tr><td>46</td><td>45</td><td>44</td><td>43</td><td>42</td><td>41</td><td>40</td><td>39</td><td>38</td><td>37</td><td>36</td><td>35</td><td>34</td><td>33</td><td>32</td></tr></table>"
      ],
      "text/plain": [
       "<IPython.core.display.HTML object>"
      ]
     },
     "metadata": {},
     "output_type": "display_data"
    },
    {
     "name": "stdout",
     "output_type": "stream",
     "text": [
      "When p = 97 triangular = 4950 and partial triangular = 49\n"
     ]
    },
    {
     "data": {
      "text/html": [
       "<table><tr><td>3</td><td>5</td><td>7</td><td>9</td><td>11</td><td>13</td><td>15</td><td>17</td><td>19</td><td>21</td><td>23</td><td>25</td><td>27</td><td>29</td><td>31</td></tr><tr><td>47</td><td>46</td><td>45</td><td>44</td><td>43</td><td>42</td><td>41</td><td>40</td><td>39</td><td>38</td><td>37</td><td>36</td><td>35</td><td>34</td><td>33</td></tr></table>"
      ],
      "text/plain": [
       "<IPython.core.display.HTML object>"
      ]
     },
     "metadata": {},
     "output_type": "display_data"
    },
    {
     "name": "stdout",
     "output_type": "stream",
     "text": [
      "When p = 99 triangular = 4950 and partial triangular = 50\n"
     ]
    },
    {
     "data": {
      "text/html": [
       "<table><tr><td>3</td><td>5</td><td>7</td><td>9</td><td>11</td><td>13</td><td>15</td><td>17</td><td>19</td><td>21</td><td>23</td><td>25</td><td>27</td><td>29</td><td>31</td><td>33</td></tr><tr><td>48</td><td>47</td><td>46</td><td>45</td><td>44</td><td>43</td><td>42</td><td>41</td><td>40</td><td>39</td><td>38</td><td>37</td><td>36</td><td>35</td><td>34</td><td>33</td></tr></table>"
      ],
      "text/plain": [
       "<IPython.core.display.HTML object>"
      ]
     },
     "metadata": {},
     "output_type": "display_data"
    }
   ],
   "source": [
    "for p in range(65, 100, 2):\n",
    "    partialt = partial_triangular(p)\n",
    "    #temporal variable to generate the secuence value\n",
    "    partialt_temp = partialt - 1\n",
    "    \n",
    "    sequences = [[],[]]\n",
    "    \n",
    "    for x1 in range (3, int(p / 3 + 1), 2):\n",
    "        sequences[0].append(x1)\n",
    "    #   sequences[1].append(partialt_temp - 1)\n",
    "    for x2 in sequences[0]:\n",
    "        partialt_temp = partialt_temp -1\n",
    "        sequences[1].append(partialt_temp)\n",
    "    \n",
    "    print(\"When p = {} triangular = {} and partial triangular = {}\".format(p, t, partialt))\n",
    "    \n",
    "    display(HTML(\n",
    "        '<table><tr>{}</tr></table>'.format(\n",
    "            '</tr><tr>'.join(\n",
    "                '<td>{}</td>'.format('</td><td>'.join(str(_) for _ in row)) for row in sequences)\n",
    "            )\n",
    "     ))"
   ]
  },
  {
   "cell_type": "markdown",
   "metadata": {},
   "source": [
    "Being shortened the sequence is easier to notice that there's a relationship between both rows, where both sequences perfectly matches p is divisible by 3 and so the first colum of the sequence, now will apply modulo operator to see it clearly."
   ]
  },
  {
   "cell_type": "code",
   "execution_count": 19,
   "metadata": {},
   "outputs": [
    {
     "name": "stdout",
     "output_type": "stream",
     "text": [
      "When p = 65 triangular = 4950 and partial triangular = 33 Is it prime? = False\n"
     ]
    },
    {
     "data": {
      "text/html": [
       "<table><tr><td>3</td><td>5</td><td>7</td><td>9</td><td>11</td><td>13</td><td>15</td><td>17</td><td>19</td><td>21</td></tr><tr><td>31</td><td>30</td><td>29</td><td>28</td><td>27</td><td>26</td><td>25</td><td>24</td><td>23</td><td>22</td></tr><tr><td>1</td><td>0</td><td>1</td><td>1</td><td>5</td><td>0</td><td>10</td><td>7</td><td>4</td><td>1</td></tr></table>"
      ],
      "text/plain": [
       "<IPython.core.display.HTML object>"
      ]
     },
     "metadata": {},
     "output_type": "display_data"
    },
    {
     "name": "stdout",
     "output_type": "stream",
     "text": [
      "When p = 67 triangular = 4950 and partial triangular = 34 Is it prime? = True\n"
     ]
    },
    {
     "data": {
      "text/html": [
       "<table><tr><td>3</td><td>5</td><td>7</td><td>9</td><td>11</td><td>13</td><td>15</td><td>17</td><td>19</td><td>21</td></tr><tr><td>32</td><td>31</td><td>30</td><td>29</td><td>28</td><td>27</td><td>26</td><td>25</td><td>24</td><td>23</td></tr><tr><td>2</td><td>1</td><td>2</td><td>2</td><td>6</td><td>1</td><td>11</td><td>8</td><td>5</td><td>2</td></tr></table>"
      ],
      "text/plain": [
       "<IPython.core.display.HTML object>"
      ]
     },
     "metadata": {},
     "output_type": "display_data"
    },
    {
     "name": "stdout",
     "output_type": "stream",
     "text": [
      "When p = 69 triangular = 4950 and partial triangular = 35 Is it prime? = False\n"
     ]
    },
    {
     "data": {
      "text/html": [
       "<table><tr><td>3</td><td>5</td><td>7</td><td>9</td><td>11</td><td>13</td><td>15</td><td>17</td><td>19</td><td>21</td><td>23</td></tr><tr><td>33</td><td>32</td><td>31</td><td>30</td><td>29</td><td>28</td><td>27</td><td>26</td><td>25</td><td>24</td><td>23</td></tr><tr><td>0</td><td>2</td><td>3</td><td>3</td><td>7</td><td>2</td><td>12</td><td>9</td><td>6</td><td>3</td><td>0</td></tr></table>"
      ],
      "text/plain": [
       "<IPython.core.display.HTML object>"
      ]
     },
     "metadata": {},
     "output_type": "display_data"
    },
    {
     "name": "stdout",
     "output_type": "stream",
     "text": [
      "When p = 71 triangular = 4950 and partial triangular = 36 Is it prime? = True\n"
     ]
    },
    {
     "data": {
      "text/html": [
       "<table><tr><td>3</td><td>5</td><td>7</td><td>9</td><td>11</td><td>13</td><td>15</td><td>17</td><td>19</td><td>21</td><td>23</td></tr><tr><td>34</td><td>33</td><td>32</td><td>31</td><td>30</td><td>29</td><td>28</td><td>27</td><td>26</td><td>25</td><td>24</td></tr><tr><td>1</td><td>3</td><td>4</td><td>4</td><td>8</td><td>3</td><td>13</td><td>10</td><td>7</td><td>4</td><td>1</td></tr></table>"
      ],
      "text/plain": [
       "<IPython.core.display.HTML object>"
      ]
     },
     "metadata": {},
     "output_type": "display_data"
    },
    {
     "name": "stdout",
     "output_type": "stream",
     "text": [
      "When p = 73 triangular = 4950 and partial triangular = 37 Is it prime? = True\n"
     ]
    },
    {
     "data": {
      "text/html": [
       "<table><tr><td>3</td><td>5</td><td>7</td><td>9</td><td>11</td><td>13</td><td>15</td><td>17</td><td>19</td><td>21</td><td>23</td></tr><tr><td>35</td><td>34</td><td>33</td><td>32</td><td>31</td><td>30</td><td>29</td><td>28</td><td>27</td><td>26</td><td>25</td></tr><tr><td>2</td><td>4</td><td>5</td><td>5</td><td>9</td><td>4</td><td>14</td><td>11</td><td>8</td><td>5</td><td>2</td></tr></table>"
      ],
      "text/plain": [
       "<IPython.core.display.HTML object>"
      ]
     },
     "metadata": {},
     "output_type": "display_data"
    },
    {
     "name": "stdout",
     "output_type": "stream",
     "text": [
      "When p = 75 triangular = 4950 and partial triangular = 38 Is it prime? = False\n"
     ]
    },
    {
     "data": {
      "text/html": [
       "<table><tr><td>3</td><td>5</td><td>7</td><td>9</td><td>11</td><td>13</td><td>15</td><td>17</td><td>19</td><td>21</td><td>23</td><td>25</td></tr><tr><td>36</td><td>35</td><td>34</td><td>33</td><td>32</td><td>31</td><td>30</td><td>29</td><td>28</td><td>27</td><td>26</td><td>25</td></tr><tr><td>0</td><td>0</td><td>6</td><td>6</td><td>10</td><td>5</td><td>0</td><td>12</td><td>9</td><td>6</td><td>3</td><td>0</td></tr></table>"
      ],
      "text/plain": [
       "<IPython.core.display.HTML object>"
      ]
     },
     "metadata": {},
     "output_type": "display_data"
    },
    {
     "name": "stdout",
     "output_type": "stream",
     "text": [
      "When p = 77 triangular = 4950 and partial triangular = 39 Is it prime? = False\n"
     ]
    },
    {
     "data": {
      "text/html": [
       "<table><tr><td>3</td><td>5</td><td>7</td><td>9</td><td>11</td><td>13</td><td>15</td><td>17</td><td>19</td><td>21</td><td>23</td><td>25</td></tr><tr><td>37</td><td>36</td><td>35</td><td>34</td><td>33</td><td>32</td><td>31</td><td>30</td><td>29</td><td>28</td><td>27</td><td>26</td></tr><tr><td>1</td><td>1</td><td>0</td><td>7</td><td>0</td><td>6</td><td>1</td><td>13</td><td>10</td><td>7</td><td>4</td><td>1</td></tr></table>"
      ],
      "text/plain": [
       "<IPython.core.display.HTML object>"
      ]
     },
     "metadata": {},
     "output_type": "display_data"
    },
    {
     "name": "stdout",
     "output_type": "stream",
     "text": [
      "When p = 79 triangular = 4950 and partial triangular = 40 Is it prime? = True\n"
     ]
    },
    {
     "data": {
      "text/html": [
       "<table><tr><td>3</td><td>5</td><td>7</td><td>9</td><td>11</td><td>13</td><td>15</td><td>17</td><td>19</td><td>21</td><td>23</td><td>25</td></tr><tr><td>38</td><td>37</td><td>36</td><td>35</td><td>34</td><td>33</td><td>32</td><td>31</td><td>30</td><td>29</td><td>28</td><td>27</td></tr><tr><td>2</td><td>2</td><td>1</td><td>8</td><td>1</td><td>7</td><td>2</td><td>14</td><td>11</td><td>8</td><td>5</td><td>2</td></tr></table>"
      ],
      "text/plain": [
       "<IPython.core.display.HTML object>"
      ]
     },
     "metadata": {},
     "output_type": "display_data"
    },
    {
     "name": "stdout",
     "output_type": "stream",
     "text": [
      "When p = 81 triangular = 4950 and partial triangular = 41 Is it prime? = False\n"
     ]
    },
    {
     "data": {
      "text/html": [
       "<table><tr><td>3</td><td>5</td><td>7</td><td>9</td><td>11</td><td>13</td><td>15</td><td>17</td><td>19</td><td>21</td><td>23</td><td>25</td><td>27</td></tr><tr><td>39</td><td>38</td><td>37</td><td>36</td><td>35</td><td>34</td><td>33</td><td>32</td><td>31</td><td>30</td><td>29</td><td>28</td><td>27</td></tr><tr><td>0</td><td>3</td><td>2</td><td>0</td><td>2</td><td>8</td><td>3</td><td>15</td><td>12</td><td>9</td><td>6</td><td>3</td><td>0</td></tr></table>"
      ],
      "text/plain": [
       "<IPython.core.display.HTML object>"
      ]
     },
     "metadata": {},
     "output_type": "display_data"
    },
    {
     "name": "stdout",
     "output_type": "stream",
     "text": [
      "When p = 83 triangular = 4950 and partial triangular = 42 Is it prime? = True\n"
     ]
    },
    {
     "data": {
      "text/html": [
       "<table><tr><td>3</td><td>5</td><td>7</td><td>9</td><td>11</td><td>13</td><td>15</td><td>17</td><td>19</td><td>21</td><td>23</td><td>25</td><td>27</td></tr><tr><td>40</td><td>39</td><td>38</td><td>37</td><td>36</td><td>35</td><td>34</td><td>33</td><td>32</td><td>31</td><td>30</td><td>29</td><td>28</td></tr><tr><td>1</td><td>4</td><td>3</td><td>1</td><td>3</td><td>9</td><td>4</td><td>16</td><td>13</td><td>10</td><td>7</td><td>4</td><td>1</td></tr></table>"
      ],
      "text/plain": [
       "<IPython.core.display.HTML object>"
      ]
     },
     "metadata": {},
     "output_type": "display_data"
    },
    {
     "name": "stdout",
     "output_type": "stream",
     "text": [
      "When p = 85 triangular = 4950 and partial triangular = 43 Is it prime? = False\n"
     ]
    },
    {
     "data": {
      "text/html": [
       "<table><tr><td>3</td><td>5</td><td>7</td><td>9</td><td>11</td><td>13</td><td>15</td><td>17</td><td>19</td><td>21</td><td>23</td><td>25</td><td>27</td></tr><tr><td>41</td><td>40</td><td>39</td><td>38</td><td>37</td><td>36</td><td>35</td><td>34</td><td>33</td><td>32</td><td>31</td><td>30</td><td>29</td></tr><tr><td>2</td><td>0</td><td>4</td><td>2</td><td>4</td><td>10</td><td>5</td><td>0</td><td>14</td><td>11</td><td>8</td><td>5</td><td>2</td></tr></table>"
      ],
      "text/plain": [
       "<IPython.core.display.HTML object>"
      ]
     },
     "metadata": {},
     "output_type": "display_data"
    },
    {
     "name": "stdout",
     "output_type": "stream",
     "text": [
      "When p = 87 triangular = 4950 and partial triangular = 44 Is it prime? = False\n"
     ]
    },
    {
     "data": {
      "text/html": [
       "<table><tr><td>3</td><td>5</td><td>7</td><td>9</td><td>11</td><td>13</td><td>15</td><td>17</td><td>19</td><td>21</td><td>23</td><td>25</td><td>27</td><td>29</td></tr><tr><td>42</td><td>41</td><td>40</td><td>39</td><td>38</td><td>37</td><td>36</td><td>35</td><td>34</td><td>33</td><td>32</td><td>31</td><td>30</td><td>29</td></tr><tr><td>0</td><td>1</td><td>5</td><td>3</td><td>5</td><td>11</td><td>6</td><td>1</td><td>15</td><td>12</td><td>9</td><td>6</td><td>3</td><td>0</td></tr></table>"
      ],
      "text/plain": [
       "<IPython.core.display.HTML object>"
      ]
     },
     "metadata": {},
     "output_type": "display_data"
    },
    {
     "name": "stdout",
     "output_type": "stream",
     "text": [
      "When p = 89 triangular = 4950 and partial triangular = 45 Is it prime? = True\n"
     ]
    },
    {
     "data": {
      "text/html": [
       "<table><tr><td>3</td><td>5</td><td>7</td><td>9</td><td>11</td><td>13</td><td>15</td><td>17</td><td>19</td><td>21</td><td>23</td><td>25</td><td>27</td><td>29</td></tr><tr><td>43</td><td>42</td><td>41</td><td>40</td><td>39</td><td>38</td><td>37</td><td>36</td><td>35</td><td>34</td><td>33</td><td>32</td><td>31</td><td>30</td></tr><tr><td>1</td><td>2</td><td>6</td><td>4</td><td>6</td><td>12</td><td>7</td><td>2</td><td>16</td><td>13</td><td>10</td><td>7</td><td>4</td><td>1</td></tr></table>"
      ],
      "text/plain": [
       "<IPython.core.display.HTML object>"
      ]
     },
     "metadata": {},
     "output_type": "display_data"
    },
    {
     "name": "stdout",
     "output_type": "stream",
     "text": [
      "When p = 91 triangular = 4950 and partial triangular = 46 Is it prime? = False\n"
     ]
    },
    {
     "data": {
      "text/html": [
       "<table><tr><td>3</td><td>5</td><td>7</td><td>9</td><td>11</td><td>13</td><td>15</td><td>17</td><td>19</td><td>21</td><td>23</td><td>25</td><td>27</td><td>29</td></tr><tr><td>44</td><td>43</td><td>42</td><td>41</td><td>40</td><td>39</td><td>38</td><td>37</td><td>36</td><td>35</td><td>34</td><td>33</td><td>32</td><td>31</td></tr><tr><td>2</td><td>3</td><td>0</td><td>5</td><td>7</td><td>0</td><td>8</td><td>3</td><td>17</td><td>14</td><td>11</td><td>8</td><td>5</td><td>2</td></tr></table>"
      ],
      "text/plain": [
       "<IPython.core.display.HTML object>"
      ]
     },
     "metadata": {},
     "output_type": "display_data"
    },
    {
     "name": "stdout",
     "output_type": "stream",
     "text": [
      "When p = 93 triangular = 4950 and partial triangular = 47 Is it prime? = False\n"
     ]
    },
    {
     "data": {
      "text/html": [
       "<table><tr><td>3</td><td>5</td><td>7</td><td>9</td><td>11</td><td>13</td><td>15</td><td>17</td><td>19</td><td>21</td><td>23</td><td>25</td><td>27</td><td>29</td><td>31</td></tr><tr><td>45</td><td>44</td><td>43</td><td>42</td><td>41</td><td>40</td><td>39</td><td>38</td><td>37</td><td>36</td><td>35</td><td>34</td><td>33</td><td>32</td><td>31</td></tr><tr><td>0</td><td>4</td><td>1</td><td>6</td><td>8</td><td>1</td><td>9</td><td>4</td><td>18</td><td>15</td><td>12</td><td>9</td><td>6</td><td>3</td><td>0</td></tr></table>"
      ],
      "text/plain": [
       "<IPython.core.display.HTML object>"
      ]
     },
     "metadata": {},
     "output_type": "display_data"
    },
    {
     "name": "stdout",
     "output_type": "stream",
     "text": [
      "When p = 95 triangular = 4950 and partial triangular = 48 Is it prime? = False\n"
     ]
    },
    {
     "data": {
      "text/html": [
       "<table><tr><td>3</td><td>5</td><td>7</td><td>9</td><td>11</td><td>13</td><td>15</td><td>17</td><td>19</td><td>21</td><td>23</td><td>25</td><td>27</td><td>29</td><td>31</td></tr><tr><td>46</td><td>45</td><td>44</td><td>43</td><td>42</td><td>41</td><td>40</td><td>39</td><td>38</td><td>37</td><td>36</td><td>35</td><td>34</td><td>33</td><td>32</td></tr><tr><td>1</td><td>0</td><td>2</td><td>7</td><td>9</td><td>2</td><td>10</td><td>5</td><td>0</td><td>16</td><td>13</td><td>10</td><td>7</td><td>4</td><td>1</td></tr></table>"
      ],
      "text/plain": [
       "<IPython.core.display.HTML object>"
      ]
     },
     "metadata": {},
     "output_type": "display_data"
    },
    {
     "name": "stdout",
     "output_type": "stream",
     "text": [
      "When p = 97 triangular = 4950 and partial triangular = 49 Is it prime? = True\n"
     ]
    },
    {
     "data": {
      "text/html": [
       "<table><tr><td>3</td><td>5</td><td>7</td><td>9</td><td>11</td><td>13</td><td>15</td><td>17</td><td>19</td><td>21</td><td>23</td><td>25</td><td>27</td><td>29</td><td>31</td></tr><tr><td>47</td><td>46</td><td>45</td><td>44</td><td>43</td><td>42</td><td>41</td><td>40</td><td>39</td><td>38</td><td>37</td><td>36</td><td>35</td><td>34</td><td>33</td></tr><tr><td>2</td><td>1</td><td>3</td><td>8</td><td>10</td><td>3</td><td>11</td><td>6</td><td>1</td><td>17</td><td>14</td><td>11</td><td>8</td><td>5</td><td>2</td></tr></table>"
      ],
      "text/plain": [
       "<IPython.core.display.HTML object>"
      ]
     },
     "metadata": {},
     "output_type": "display_data"
    },
    {
     "name": "stdout",
     "output_type": "stream",
     "text": [
      "When p = 99 triangular = 4950 and partial triangular = 50 Is it prime? = False\n"
     ]
    },
    {
     "data": {
      "text/html": [
       "<table><tr><td>3</td><td>5</td><td>7</td><td>9</td><td>11</td><td>13</td><td>15</td><td>17</td><td>19</td><td>21</td><td>23</td><td>25</td><td>27</td><td>29</td><td>31</td><td>33</td></tr><tr><td>48</td><td>47</td><td>46</td><td>45</td><td>44</td><td>43</td><td>42</td><td>41</td><td>40</td><td>39</td><td>38</td><td>37</td><td>36</td><td>35</td><td>34</td><td>33</td></tr><tr><td>0</td><td>2</td><td>4</td><td>0</td><td>0</td><td>4</td><td>12</td><td>7</td><td>2</td><td>18</td><td>15</td><td>12</td><td>9</td><td>6</td><td>3</td><td>0</td></tr></table>"
      ],
      "text/plain": [
       "<IPython.core.display.HTML object>"
      ]
     },
     "metadata": {},
     "output_type": "display_data"
    }
   ],
   "source": [
    "for p in range(65, 100, 2):\n",
    "    partialt = partial_triangular(p)\n",
    "    #temporal variable to generate the secuence value\n",
    "    partialt_temp = partialt - 1\n",
    "    \n",
    "    sequences = [[],[],[]]\n",
    "    \n",
    "    for x1 in range (3, int(p / 3 + 1), 2):\n",
    "        sequences[0].append(x1)\n",
    "    #   sequences[1].append(partialt_temp - 1)\n",
    "    for x2 in sequences[0]:\n",
    "        partialt_temp = partialt_temp -1\n",
    "        sequences[1].append(partialt_temp)\n",
    "    for i in range(len(sequences[0])):\n",
    "        sequences[2].append(sequences[1][i] % sequences[0][i])\n",
    "    \n",
    "    prime = True\n",
    "    if 0 in sequences[2]:\n",
    "        prime = False\n",
    "    \n",
    "    print(\"When p = {} triangular = {} and partial triangular = {} Is it prime? = {}\".format(p, t, partialt, prime))\n",
    "    \n",
    "    display(HTML(\n",
    "        '<table><tr>{}</tr></table>'.format(\n",
    "            '</tr><tr>'.join(\n",
    "                '<td>{}</td>'.format('</td><td>'.join(str(_) for _ in row)) for row in sequences)\n",
    "            )\n",
    "     ))"
   ]
  },
  {
   "cell_type": "markdown",
   "metadata": {},
   "source": [
    "After apply modulo operator notice that not only first and last column are related, within a range of columns generated from p and it's triangular using this method, divisors of p can be found anywhere if the last row have a 0 the number in ascending row is a divisor of p, so if no 0 is found in the modulo row means p is a prime"
   ]
  }
 ],
 "metadata": {
  "kernelspec": {
   "display_name": "Python 3",
   "language": "python",
   "name": "python3"
  },
  "language_info": {
   "codemirror_mode": {
    "name": "ipython",
    "version": 3
   },
   "file_extension": ".py",
   "mimetype": "text/x-python",
   "name": "python",
   "nbconvert_exporter": "python",
   "pygments_lexer": "ipython3",
   "version": "3.6.5"
  }
 },
 "nbformat": 4,
 "nbformat_minor": 2
}
