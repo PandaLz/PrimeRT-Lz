{
 "cells": [
  {
   "cell_type": "markdown",
   "metadata": {},
   "source": [
    "# Determine if a number is prime finding factors with help of triangular numbers.\n",
    "\n",
    "Process begins finding a set of values from triangular number formula being as condition the number to test should be odd.\n",
    "\n",
    "Triangular number is obtained by the formula:\n",
    "\n",
    "$$ T_n = \\frac{n \\left( n + 1 \\right)}{2} $$"
   ]
  },
  {
   "cell_type": "code",
   "execution_count": 1,
   "metadata": {},
   "outputs": [],
   "source": [
    "#Import handling cell\n",
    "from util4prime.triangular import *"
   ]
  },
  {
   "cell_type": "code",
   "execution_count": 2,
   "metadata": {},
   "outputs": [
    {
     "data": {
      "text/plain": [
       "int"
      ]
     },
     "execution_count": 2,
     "metadata": {},
     "output_type": "execute_result"
    }
   ],
   "source": [
    "triangular(5)\n",
    "type(triangular(5))"
   ]
  },
  {
   "cell_type": "markdown",
   "metadata": {},
   "source": [
    "For illustrative purposes each step will be showing a set of numbres from 65 to 99:"
   ]
  },
  {
   "cell_type": "code",
   "execution_count": 3,
   "metadata": {
    "scrolled": true
   },
   "outputs": [
    {
     "name": "stdout",
     "output_type": "stream",
     "text": [
      "65 triangular is: 2145\n",
      "67 triangular is: 2278\n",
      "69 triangular is: 2415\n",
      "71 triangular is: 2556\n",
      "73 triangular is: 2701\n",
      "75 triangular is: 2850\n",
      "77 triangular is: 3003\n",
      "79 triangular is: 3160\n",
      "81 triangular is: 3321\n",
      "83 triangular is: 3486\n",
      "85 triangular is: 3655\n",
      "87 triangular is: 3828\n",
      "89 triangular is: 4005\n",
      "91 triangular is: 4186\n",
      "93 triangular is: 4371\n",
      "95 triangular is: 4560\n",
      "97 triangular is: 4753\n",
      "99 triangular is: 4950\n"
     ]
    }
   ],
   "source": [
    "for x in range(65, 100, 2):\n",
    "    print(\"{} triangular is: {}\".format(x, triangular(x)))"
   ]
  },
  {
   "cell_type": "markdown",
   "metadata": {},
   "source": [
    "By decomposing the triangular number formula the following is obtained:\n",
    "\n",
    "$$ T_n = n \\left(\\frac{\\left( n + 1 \\right)}{2}\\right) $$"
   ]
  },
  {
   "cell_type": "markdown",
   "metadata": {},
   "source": [
    "Where left part will be called in this document as \"partial trinagular\" by applying to the specified range reads like this:"
   ]
  },
  {
   "cell_type": "code",
   "execution_count": 4,
   "metadata": {},
   "outputs": [
    {
     "name": "stdout",
     "output_type": "stream",
     "text": [
      "65 triangular: 2145 partial triangular: 33\n",
      "67 triangular: 2278 partial triangular: 34\n",
      "69 triangular: 2415 partial triangular: 35\n",
      "71 triangular: 2556 partial triangular: 36\n",
      "73 triangular: 2701 partial triangular: 37\n",
      "75 triangular: 2850 partial triangular: 38\n",
      "77 triangular: 3003 partial triangular: 39\n",
      "79 triangular: 3160 partial triangular: 40\n",
      "81 triangular: 3321 partial triangular: 41\n",
      "83 triangular: 3486 partial triangular: 42\n",
      "85 triangular: 3655 partial triangular: 43\n",
      "87 triangular: 3828 partial triangular: 44\n",
      "89 triangular: 4005 partial triangular: 45\n",
      "91 triangular: 4186 partial triangular: 46\n",
      "93 triangular: 4371 partial triangular: 47\n",
      "95 triangular: 4560 partial triangular: 48\n",
      "97 triangular: 4753 partial triangular: 49\n",
      "99 triangular: 4950 partial triangular: 50\n"
     ]
    }
   ],
   "source": [
    "for x in range(65, 100, 2):\n",
    "    print(\"{} triangular: {} partial triangular: {}\".format(x, triangular(x), partial_triangular(x)))"
   ]
  },
  {
   "cell_type": "markdown",
   "metadata": {},
   "source": [
    "Having in count partial triangular value a sequence of values can be generated until the triangular value is reached:"
   ]
  },
  {
   "cell_type": "code",
   "execution_count": null,
   "metadata": {},
   "outputs": [],
   "source": []
  }
 ],
 "metadata": {
  "kernelspec": {
   "display_name": "Python 3",
   "language": "python",
   "name": "python3"
  },
  "language_info": {
   "codemirror_mode": {
    "name": "ipython",
    "version": 3
   },
   "file_extension": ".py",
   "mimetype": "text/x-python",
   "name": "python",
   "nbconvert_exporter": "python",
   "pygments_lexer": "ipython3",
   "version": "3.6.5"
  }
 },
 "nbformat": 4,
 "nbformat_minor": 2
}
