{
 "cells": [
  {
   "cell_type": "markdown",
   "metadata": {},
   "source": [
    "https://github.com/PandaLz/PrimeRT-Lz\n",
    "\n",
    "# Determine if a number is prime finding factors with help of triangular numbers and prime generation of a square of a given seed.\n",
    "\n",
    "Process begins finding a set of values from triangular number formula being as condition the number to test should be odd.\n",
    "\n",
    "Triangular number is obtained by the formula:\n",
    "\n",
    "$$ T_n = \\frac{n \\left( n + 1 \\right)}{2} $$"
   ]
  },
  {
   "cell_type": "code",
   "execution_count": 1,
   "metadata": {},
   "outputs": [],
   "source": [
    "#Import handling cell\n",
    "from math import sqrt\n",
    "from IPython.display import HTML, display\n",
    "from util4prime.triangular import *\n",
    "from util4prime.generator import *"
   ]
  },
  {
   "cell_type": "markdown",
   "metadata": {},
   "source": [
    "For illustrative purposes each step will be showing a set of numbres from 145 to 195:"
   ]
  },
  {
   "cell_type": "code",
   "execution_count": 2,
   "metadata": {
    "scrolled": true
   },
   "outputs": [
    {
     "name": "stdout",
     "output_type": "stream",
     "text": [
      "145 triangular is: 10585\n",
      "147 triangular is: 10878\n",
      "149 triangular is: 11175\n",
      "151 triangular is: 11476\n",
      "153 triangular is: 11781\n",
      "155 triangular is: 12090\n",
      "157 triangular is: 12403\n",
      "159 triangular is: 12720\n",
      "161 triangular is: 13041\n",
      "163 triangular is: 13366\n",
      "165 triangular is: 13695\n",
      "167 triangular is: 14028\n",
      "169 triangular is: 14365\n",
      "171 triangular is: 14706\n",
      "173 triangular is: 15051\n",
      "175 triangular is: 15400\n",
      "177 triangular is: 15753\n",
      "179 triangular is: 16110\n",
      "181 triangular is: 16471\n",
      "183 triangular is: 16836\n",
      "185 triangular is: 17205\n",
      "187 triangular is: 17578\n",
      "189 triangular is: 17955\n",
      "191 triangular is: 18336\n",
      "193 triangular is: 18721\n",
      "195 triangular is: 19110\n"
     ]
    }
   ],
   "source": [
    "for x in range(145, 196, 2):\n",
    "    print(\"{} triangular is: {}\".format(x, triangular(x)))"
   ]
  },
  {
   "cell_type": "markdown",
   "metadata": {},
   "source": [
    "By decomposing the triangular number formula the following is obtained:\n",
    "\n",
    "$$ T_n = n \\left(\\frac{\\left( n + 1 \\right)}{2}\\right) $$"
   ]
  },
  {
   "cell_type": "markdown",
   "metadata": {},
   "source": [
    "Where left part will be called in this document as \"partial trinagular\" by applying to the specified range reads like this:"
   ]
  },
  {
   "cell_type": "code",
   "execution_count": 3,
   "metadata": {},
   "outputs": [
    {
     "name": "stdout",
     "output_type": "stream",
     "text": [
      "145 triangular: 10585 partial triangular: 73\n",
      "147 triangular: 10878 partial triangular: 74\n",
      "149 triangular: 11175 partial triangular: 75\n",
      "151 triangular: 11476 partial triangular: 76\n",
      "153 triangular: 11781 partial triangular: 77\n",
      "155 triangular: 12090 partial triangular: 78\n",
      "157 triangular: 12403 partial triangular: 79\n",
      "159 triangular: 12720 partial triangular: 80\n",
      "161 triangular: 13041 partial triangular: 81\n",
      "163 triangular: 13366 partial triangular: 82\n",
      "165 triangular: 13695 partial triangular: 83\n",
      "167 triangular: 14028 partial triangular: 84\n",
      "169 triangular: 14365 partial triangular: 85\n",
      "171 triangular: 14706 partial triangular: 86\n",
      "173 triangular: 15051 partial triangular: 87\n",
      "175 triangular: 15400 partial triangular: 88\n",
      "177 triangular: 15753 partial triangular: 89\n",
      "179 triangular: 16110 partial triangular: 90\n",
      "181 triangular: 16471 partial triangular: 91\n",
      "183 triangular: 16836 partial triangular: 92\n",
      "185 triangular: 17205 partial triangular: 93\n",
      "187 triangular: 17578 partial triangular: 94\n",
      "189 triangular: 17955 partial triangular: 95\n",
      "191 triangular: 18336 partial triangular: 96\n",
      "193 triangular: 18721 partial triangular: 97\n",
      "195 triangular: 19110 partial triangular: 98\n"
     ]
    }
   ],
   "source": [
    "for x in range(145, 196, 2):\n",
    "    print(\"{} triangular: {} partial triangular: {}\".format(x, triangular(x), partial_triangular(x)))"
   ]
  },
  {
   "cell_type": "markdown",
   "metadata": {},
   "source": [
    "Having in count partial triangular value 2 sets of sequences can be generated until the triangular value is reached calling each odd number in sequence p:"
   ]
  },
  {
   "cell_type": "code",
   "execution_count": 4,
   "metadata": {
    "scrolled": false
   },
   "outputs": [
    {
     "name": "stdout",
     "output_type": "stream",
     "text": [
      "When p = 145 triangular = 10585 and partial triangular = 73\n"
     ]
    },
    {
     "data": {
      "text/html": [
       "<table><tr><td>2</td><td>2</td><td>3</td><td>3</td><td>4</td><td>4</td><td>5</td><td>5</td><td>6</td><td>6</td><td>7</td><td>7</td><td>8</td><td>8</td><td>9</td><td>9</td><td>10</td><td>10</td><td>11</td><td>11</td><td>12</td><td>12</td><td>13</td><td>13</td><td>14</td><td>14</td><td>15</td><td>15</td><td>16</td><td>16</td><td>17</td><td>17</td><td>18</td><td>18</td><td>19</td><td>19</td><td>20</td><td>20</td><td>21</td><td>21</td><td>22</td><td>22</td><td>23</td><td>23</td><td>24</td><td>24</td><td>25</td><td>25</td><td>26</td><td>26</td><td>27</td><td>27</td><td>28</td><td>28</td><td>29</td><td>29</td><td>30</td><td>30</td><td>31</td><td>31</td><td>32</td><td>32</td><td>33</td><td>33</td><td>34</td><td>34</td><td>35</td><td>35</td><td>36</td><td>36</td><td>37</td><td>37</td><td>38</td><td>38</td><td>39</td><td>39</td><td>40</td><td>40</td><td>41</td><td>41</td><td>42</td><td>42</td><td>43</td><td>43</td><td>44</td><td>44</td><td>45</td><td>45</td><td>46</td><td>46</td><td>47</td><td>47</td><td>48</td><td>48</td><td>49</td><td>49</td><td>50</td><td>50</td><td>51</td><td>51</td><td>52</td><td>52</td><td>53</td><td>53</td><td>54</td><td>54</td><td>55</td><td>55</td><td>56</td><td>56</td><td>57</td><td>57</td><td>58</td><td>58</td><td>59</td><td>59</td><td>60</td><td>60</td><td>61</td><td>61</td><td>62</td><td>62</td><td>63</td><td>63</td><td>64</td><td>64</td><td>65</td><td>65</td><td>66</td><td>66</td><td>67</td><td>67</td><td>68</td><td>68</td><td>69</td><td>69</td><td>70</td><td>70</td><td>71</td><td>71</td><td>72</td><td>72</td><td>73</td><td>73</td></tr><tr><td>290</td><td>290</td><td>435</td><td>435</td><td>580</td><td>580</td><td>725</td><td>725</td><td>870</td><td>870</td><td>1015</td><td>1015</td><td>1160</td><td>1160</td><td>1305</td><td>1305</td><td>1450</td><td>1450</td><td>1595</td><td>1595</td><td>1740</td><td>1740</td><td>1885</td><td>1885</td><td>2030</td><td>2030</td><td>2175</td><td>2175</td><td>2320</td><td>2320</td><td>2465</td><td>2465</td><td>2610</td><td>2610</td><td>2755</td><td>2755</td><td>2900</td><td>2900</td><td>3045</td><td>3045</td><td>3190</td><td>3190</td><td>3335</td><td>3335</td><td>3480</td><td>3480</td><td>3625</td><td>3625</td><td>3770</td><td>3770</td><td>3915</td><td>3915</td><td>4060</td><td>4060</td><td>4205</td><td>4205</td><td>4350</td><td>4350</td><td>4495</td><td>4495</td><td>4640</td><td>4640</td><td>4785</td><td>4785</td><td>4930</td><td>4930</td><td>5075</td><td>5075</td><td>5220</td><td>5220</td><td>5365</td><td>5365</td><td>5510</td><td>5510</td><td>5655</td><td>5655</td><td>5800</td><td>5800</td><td>5945</td><td>5945</td><td>6090</td><td>6090</td><td>6235</td><td>6235</td><td>6380</td><td>6380</td><td>6525</td><td>6525</td><td>6670</td><td>6670</td><td>6815</td><td>6815</td><td>6960</td><td>6960</td><td>7105</td><td>7105</td><td>7250</td><td>7250</td><td>7395</td><td>7395</td><td>7540</td><td>7540</td><td>7685</td><td>7685</td><td>7830</td><td>7830</td><td>7975</td><td>7975</td><td>8120</td><td>8120</td><td>8265</td><td>8265</td><td>8410</td><td>8410</td><td>8555</td><td>8555</td><td>8700</td><td>8700</td><td>8845</td><td>8845</td><td>8990</td><td>8990</td><td>9135</td><td>9135</td><td>9280</td><td>9280</td><td>9425</td><td>9425</td><td>9570</td><td>9570</td><td>9715</td><td>9715</td><td>9860</td><td>9860</td><td>10005</td><td>10005</td><td>10150</td><td>10150</td><td>10295</td><td>10295</td><td>10440</td><td>10440</td><td>10585</td><td>10585</td></tr><tr><td>2</td><td>3</td><td>4</td><td>5</td><td>6</td><td>7</td><td>8</td><td>9</td><td>10</td><td>11</td><td>12</td><td>13</td><td>14</td><td>15</td><td>16</td><td>17</td><td>18</td><td>19</td><td>20</td><td>21</td><td>22</td><td>23</td><td>24</td><td>25</td><td>26</td><td>27</td><td>28</td><td>29</td><td>30</td><td>31</td><td>32</td><td>33</td><td>34</td><td>35</td><td>36</td><td>37</td><td>38</td><td>39</td><td>40</td><td>41</td><td>42</td><td>43</td><td>44</td><td>45</td><td>46</td><td>47</td><td>48</td><td>49</td><td>50</td><td>51</td><td>52</td><td>53</td><td>54</td><td>55</td><td>56</td><td>57</td><td>58</td><td>59</td><td>60</td><td>61</td><td>62</td><td>63</td><td>64</td><td>65</td><td>66</td><td>67</td><td>68</td><td>69</td><td>70</td><td>71</td><td>72</td><td>73</td><td>74</td><td>75</td><td>76</td><td>77</td><td>78</td><td>79</td><td>80</td><td>81</td><td>82</td><td>83</td><td>84</td><td>85</td><td>86</td><td>87</td><td>88</td><td>89</td><td>90</td><td>91</td><td>92</td><td>93</td><td>94</td><td>95</td><td>96</td><td>97</td><td>98</td><td>99</td><td>100</td><td>101</td><td>102</td><td>103</td><td>104</td><td>105</td><td>106</td><td>107</td><td>108</td><td>109</td><td>110</td><td>111</td><td>112</td><td>113</td><td>114</td><td>115</td><td>116</td><td>117</td><td>118</td><td>119</td><td>120</td><td>121</td><td>122</td><td>123</td><td>124</td><td>125</td><td>126</td><td>127</td><td>128</td><td>129</td><td>130</td><td>131</td><td>132</td><td>133</td><td>134</td><td>135</td><td>136</td><td>137</td><td>138</td><td>139</td><td>140</td><td>141</td><td>142</td><td>143</td><td>144</td><td>145</td></tr><tr><td>146</td><td>219</td><td>292</td><td>365</td><td>438</td><td>511</td><td>584</td><td>657</td><td>730</td><td>803</td><td>876</td><td>949</td><td>1022</td><td>1095</td><td>1168</td><td>1241</td><td>1314</td><td>1387</td><td>1460</td><td>1533</td><td>1606</td><td>1679</td><td>1752</td><td>1825</td><td>1898</td><td>1971</td><td>2044</td><td>2117</td><td>2190</td><td>2263</td><td>2336</td><td>2409</td><td>2482</td><td>2555</td><td>2628</td><td>2701</td><td>2774</td><td>2847</td><td>2920</td><td>2993</td><td>3066</td><td>3139</td><td>3212</td><td>3285</td><td>3358</td><td>3431</td><td>3504</td><td>3577</td><td>3650</td><td>3723</td><td>3796</td><td>3869</td><td>3942</td><td>4015</td><td>4088</td><td>4161</td><td>4234</td><td>4307</td><td>4380</td><td>4453</td><td>4526</td><td>4599</td><td>4672</td><td>4745</td><td>4818</td><td>4891</td><td>4964</td><td>5037</td><td>5110</td><td>5183</td><td>5256</td><td>5329</td><td>5402</td><td>5475</td><td>5548</td><td>5621</td><td>5694</td><td>5767</td><td>5840</td><td>5913</td><td>5986</td><td>6059</td><td>6132</td><td>6205</td><td>6278</td><td>6351</td><td>6424</td><td>6497</td><td>6570</td><td>6643</td><td>6716</td><td>6789</td><td>6862</td><td>6935</td><td>7008</td><td>7081</td><td>7154</td><td>7227</td><td>7300</td><td>7373</td><td>7446</td><td>7519</td><td>7592</td><td>7665</td><td>7738</td><td>7811</td><td>7884</td><td>7957</td><td>8030</td><td>8103</td><td>8176</td><td>8249</td><td>8322</td><td>8395</td><td>8468</td><td>8541</td><td>8614</td><td>8687</td><td>8760</td><td>8833</td><td>8906</td><td>8979</td><td>9052</td><td>9125</td><td>9198</td><td>9271</td><td>9344</td><td>9417</td><td>9490</td><td>9563</td><td>9636</td><td>9709</td><td>9782</td><td>9855</td><td>9928</td><td>10001</td><td>10074</td><td>10147</td><td>10220</td><td>10293</td><td>10366</td><td>10439</td><td>10512</td><td>10585</td></tr></table>"
      ],
      "text/plain": [
       "<IPython.core.display.HTML object>"
      ]
     },
     "metadata": {},
     "output_type": "display_data"
    },
    {
     "name": "stdout",
     "output_type": "stream",
     "text": [
      "When p = 147 triangular = 10878 and partial triangular = 74\n"
     ]
    },
    {
     "data": {
      "text/html": [
       "<table><tr><td>2</td><td>2</td><td>3</td><td>3</td><td>4</td><td>4</td><td>5</td><td>5</td><td>6</td><td>6</td><td>7</td><td>7</td><td>8</td><td>8</td><td>9</td><td>9</td><td>10</td><td>10</td><td>11</td><td>11</td><td>12</td><td>12</td><td>13</td><td>13</td><td>14</td><td>14</td><td>15</td><td>15</td><td>16</td><td>16</td><td>17</td><td>17</td><td>18</td><td>18</td><td>19</td><td>19</td><td>20</td><td>20</td><td>21</td><td>21</td><td>22</td><td>22</td><td>23</td><td>23</td><td>24</td><td>24</td><td>25</td><td>25</td><td>26</td><td>26</td><td>27</td><td>27</td><td>28</td><td>28</td><td>29</td><td>29</td><td>30</td><td>30</td><td>31</td><td>31</td><td>32</td><td>32</td><td>33</td><td>33</td><td>34</td><td>34</td><td>35</td><td>35</td><td>36</td><td>36</td><td>37</td><td>37</td><td>38</td><td>38</td><td>39</td><td>39</td><td>40</td><td>40</td><td>41</td><td>41</td><td>42</td><td>42</td><td>43</td><td>43</td><td>44</td><td>44</td><td>45</td><td>45</td><td>46</td><td>46</td><td>47</td><td>47</td><td>48</td><td>48</td><td>49</td><td>49</td><td>50</td><td>50</td><td>51</td><td>51</td><td>52</td><td>52</td><td>53</td><td>53</td><td>54</td><td>54</td><td>55</td><td>55</td><td>56</td><td>56</td><td>57</td><td>57</td><td>58</td><td>58</td><td>59</td><td>59</td><td>60</td><td>60</td><td>61</td><td>61</td><td>62</td><td>62</td><td>63</td><td>63</td><td>64</td><td>64</td><td>65</td><td>65</td><td>66</td><td>66</td><td>67</td><td>67</td><td>68</td><td>68</td><td>69</td><td>69</td><td>70</td><td>70</td><td>71</td><td>71</td><td>72</td><td>72</td><td>73</td><td>73</td><td>74</td><td>74</td></tr><tr><td>294</td><td>294</td><td>441</td><td>441</td><td>588</td><td>588</td><td>735</td><td>735</td><td>882</td><td>882</td><td>1029</td><td>1029</td><td>1176</td><td>1176</td><td>1323</td><td>1323</td><td>1470</td><td>1470</td><td>1617</td><td>1617</td><td>1764</td><td>1764</td><td>1911</td><td>1911</td><td>2058</td><td>2058</td><td>2205</td><td>2205</td><td>2352</td><td>2352</td><td>2499</td><td>2499</td><td>2646</td><td>2646</td><td>2793</td><td>2793</td><td>2940</td><td>2940</td><td>3087</td><td>3087</td><td>3234</td><td>3234</td><td>3381</td><td>3381</td><td>3528</td><td>3528</td><td>3675</td><td>3675</td><td>3822</td><td>3822</td><td>3969</td><td>3969</td><td>4116</td><td>4116</td><td>4263</td><td>4263</td><td>4410</td><td>4410</td><td>4557</td><td>4557</td><td>4704</td><td>4704</td><td>4851</td><td>4851</td><td>4998</td><td>4998</td><td>5145</td><td>5145</td><td>5292</td><td>5292</td><td>5439</td><td>5439</td><td>5586</td><td>5586</td><td>5733</td><td>5733</td><td>5880</td><td>5880</td><td>6027</td><td>6027</td><td>6174</td><td>6174</td><td>6321</td><td>6321</td><td>6468</td><td>6468</td><td>6615</td><td>6615</td><td>6762</td><td>6762</td><td>6909</td><td>6909</td><td>7056</td><td>7056</td><td>7203</td><td>7203</td><td>7350</td><td>7350</td><td>7497</td><td>7497</td><td>7644</td><td>7644</td><td>7791</td><td>7791</td><td>7938</td><td>7938</td><td>8085</td><td>8085</td><td>8232</td><td>8232</td><td>8379</td><td>8379</td><td>8526</td><td>8526</td><td>8673</td><td>8673</td><td>8820</td><td>8820</td><td>8967</td><td>8967</td><td>9114</td><td>9114</td><td>9261</td><td>9261</td><td>9408</td><td>9408</td><td>9555</td><td>9555</td><td>9702</td><td>9702</td><td>9849</td><td>9849</td><td>9996</td><td>9996</td><td>10143</td><td>10143</td><td>10290</td><td>10290</td><td>10437</td><td>10437</td><td>10584</td><td>10584</td><td>10731</td><td>10731</td><td>10878</td><td>10878</td></tr><tr><td>2</td><td>3</td><td>4</td><td>5</td><td>6</td><td>7</td><td>8</td><td>9</td><td>10</td><td>11</td><td>12</td><td>13</td><td>14</td><td>15</td><td>16</td><td>17</td><td>18</td><td>19</td><td>20</td><td>21</td><td>22</td><td>23</td><td>24</td><td>25</td><td>26</td><td>27</td><td>28</td><td>29</td><td>30</td><td>31</td><td>32</td><td>33</td><td>34</td><td>35</td><td>36</td><td>37</td><td>38</td><td>39</td><td>40</td><td>41</td><td>42</td><td>43</td><td>44</td><td>45</td><td>46</td><td>47</td><td>48</td><td>49</td><td>50</td><td>51</td><td>52</td><td>53</td><td>54</td><td>55</td><td>56</td><td>57</td><td>58</td><td>59</td><td>60</td><td>61</td><td>62</td><td>63</td><td>64</td><td>65</td><td>66</td><td>67</td><td>68</td><td>69</td><td>70</td><td>71</td><td>72</td><td>73</td><td>74</td><td>75</td><td>76</td><td>77</td><td>78</td><td>79</td><td>80</td><td>81</td><td>82</td><td>83</td><td>84</td><td>85</td><td>86</td><td>87</td><td>88</td><td>89</td><td>90</td><td>91</td><td>92</td><td>93</td><td>94</td><td>95</td><td>96</td><td>97</td><td>98</td><td>99</td><td>100</td><td>101</td><td>102</td><td>103</td><td>104</td><td>105</td><td>106</td><td>107</td><td>108</td><td>109</td><td>110</td><td>111</td><td>112</td><td>113</td><td>114</td><td>115</td><td>116</td><td>117</td><td>118</td><td>119</td><td>120</td><td>121</td><td>122</td><td>123</td><td>124</td><td>125</td><td>126</td><td>127</td><td>128</td><td>129</td><td>130</td><td>131</td><td>132</td><td>133</td><td>134</td><td>135</td><td>136</td><td>137</td><td>138</td><td>139</td><td>140</td><td>141</td><td>142</td><td>143</td><td>144</td><td>145</td><td>146</td><td>147</td></tr><tr><td>148</td><td>222</td><td>296</td><td>370</td><td>444</td><td>518</td><td>592</td><td>666</td><td>740</td><td>814</td><td>888</td><td>962</td><td>1036</td><td>1110</td><td>1184</td><td>1258</td><td>1332</td><td>1406</td><td>1480</td><td>1554</td><td>1628</td><td>1702</td><td>1776</td><td>1850</td><td>1924</td><td>1998</td><td>2072</td><td>2146</td><td>2220</td><td>2294</td><td>2368</td><td>2442</td><td>2516</td><td>2590</td><td>2664</td><td>2738</td><td>2812</td><td>2886</td><td>2960</td><td>3034</td><td>3108</td><td>3182</td><td>3256</td><td>3330</td><td>3404</td><td>3478</td><td>3552</td><td>3626</td><td>3700</td><td>3774</td><td>3848</td><td>3922</td><td>3996</td><td>4070</td><td>4144</td><td>4218</td><td>4292</td><td>4366</td><td>4440</td><td>4514</td><td>4588</td><td>4662</td><td>4736</td><td>4810</td><td>4884</td><td>4958</td><td>5032</td><td>5106</td><td>5180</td><td>5254</td><td>5328</td><td>5402</td><td>5476</td><td>5550</td><td>5624</td><td>5698</td><td>5772</td><td>5846</td><td>5920</td><td>5994</td><td>6068</td><td>6142</td><td>6216</td><td>6290</td><td>6364</td><td>6438</td><td>6512</td><td>6586</td><td>6660</td><td>6734</td><td>6808</td><td>6882</td><td>6956</td><td>7030</td><td>7104</td><td>7178</td><td>7252</td><td>7326</td><td>7400</td><td>7474</td><td>7548</td><td>7622</td><td>7696</td><td>7770</td><td>7844</td><td>7918</td><td>7992</td><td>8066</td><td>8140</td><td>8214</td><td>8288</td><td>8362</td><td>8436</td><td>8510</td><td>8584</td><td>8658</td><td>8732</td><td>8806</td><td>8880</td><td>8954</td><td>9028</td><td>9102</td><td>9176</td><td>9250</td><td>9324</td><td>9398</td><td>9472</td><td>9546</td><td>9620</td><td>9694</td><td>9768</td><td>9842</td><td>9916</td><td>9990</td><td>10064</td><td>10138</td><td>10212</td><td>10286</td><td>10360</td><td>10434</td><td>10508</td><td>10582</td><td>10656</td><td>10730</td><td>10804</td><td>10878</td></tr></table>"
      ],
      "text/plain": [
       "<IPython.core.display.HTML object>"
      ]
     },
     "metadata": {},
     "output_type": "display_data"
    },
    {
     "name": "stdout",
     "output_type": "stream",
     "text": [
      "When p = 149 triangular = 11175 and partial triangular = 75\n"
     ]
    },
    {
     "data": {
      "text/html": [
       "<table><tr><td>2</td><td>2</td><td>3</td><td>3</td><td>4</td><td>4</td><td>5</td><td>5</td><td>6</td><td>6</td><td>7</td><td>7</td><td>8</td><td>8</td><td>9</td><td>9</td><td>10</td><td>10</td><td>11</td><td>11</td><td>12</td><td>12</td><td>13</td><td>13</td><td>14</td><td>14</td><td>15</td><td>15</td><td>16</td><td>16</td><td>17</td><td>17</td><td>18</td><td>18</td><td>19</td><td>19</td><td>20</td><td>20</td><td>21</td><td>21</td><td>22</td><td>22</td><td>23</td><td>23</td><td>24</td><td>24</td><td>25</td><td>25</td><td>26</td><td>26</td><td>27</td><td>27</td><td>28</td><td>28</td><td>29</td><td>29</td><td>30</td><td>30</td><td>31</td><td>31</td><td>32</td><td>32</td><td>33</td><td>33</td><td>34</td><td>34</td><td>35</td><td>35</td><td>36</td><td>36</td><td>37</td><td>37</td><td>38</td><td>38</td><td>39</td><td>39</td><td>40</td><td>40</td><td>41</td><td>41</td><td>42</td><td>42</td><td>43</td><td>43</td><td>44</td><td>44</td><td>45</td><td>45</td><td>46</td><td>46</td><td>47</td><td>47</td><td>48</td><td>48</td><td>49</td><td>49</td><td>50</td><td>50</td><td>51</td><td>51</td><td>52</td><td>52</td><td>53</td><td>53</td><td>54</td><td>54</td><td>55</td><td>55</td><td>56</td><td>56</td><td>57</td><td>57</td><td>58</td><td>58</td><td>59</td><td>59</td><td>60</td><td>60</td><td>61</td><td>61</td><td>62</td><td>62</td><td>63</td><td>63</td><td>64</td><td>64</td><td>65</td><td>65</td><td>66</td><td>66</td><td>67</td><td>67</td><td>68</td><td>68</td><td>69</td><td>69</td><td>70</td><td>70</td><td>71</td><td>71</td><td>72</td><td>72</td><td>73</td><td>73</td><td>74</td><td>74</td><td>75</td><td>75</td></tr><tr><td>298</td><td>298</td><td>447</td><td>447</td><td>596</td><td>596</td><td>745</td><td>745</td><td>894</td><td>894</td><td>1043</td><td>1043</td><td>1192</td><td>1192</td><td>1341</td><td>1341</td><td>1490</td><td>1490</td><td>1639</td><td>1639</td><td>1788</td><td>1788</td><td>1937</td><td>1937</td><td>2086</td><td>2086</td><td>2235</td><td>2235</td><td>2384</td><td>2384</td><td>2533</td><td>2533</td><td>2682</td><td>2682</td><td>2831</td><td>2831</td><td>2980</td><td>2980</td><td>3129</td><td>3129</td><td>3278</td><td>3278</td><td>3427</td><td>3427</td><td>3576</td><td>3576</td><td>3725</td><td>3725</td><td>3874</td><td>3874</td><td>4023</td><td>4023</td><td>4172</td><td>4172</td><td>4321</td><td>4321</td><td>4470</td><td>4470</td><td>4619</td><td>4619</td><td>4768</td><td>4768</td><td>4917</td><td>4917</td><td>5066</td><td>5066</td><td>5215</td><td>5215</td><td>5364</td><td>5364</td><td>5513</td><td>5513</td><td>5662</td><td>5662</td><td>5811</td><td>5811</td><td>5960</td><td>5960</td><td>6109</td><td>6109</td><td>6258</td><td>6258</td><td>6407</td><td>6407</td><td>6556</td><td>6556</td><td>6705</td><td>6705</td><td>6854</td><td>6854</td><td>7003</td><td>7003</td><td>7152</td><td>7152</td><td>7301</td><td>7301</td><td>7450</td><td>7450</td><td>7599</td><td>7599</td><td>7748</td><td>7748</td><td>7897</td><td>7897</td><td>8046</td><td>8046</td><td>8195</td><td>8195</td><td>8344</td><td>8344</td><td>8493</td><td>8493</td><td>8642</td><td>8642</td><td>8791</td><td>8791</td><td>8940</td><td>8940</td><td>9089</td><td>9089</td><td>9238</td><td>9238</td><td>9387</td><td>9387</td><td>9536</td><td>9536</td><td>9685</td><td>9685</td><td>9834</td><td>9834</td><td>9983</td><td>9983</td><td>10132</td><td>10132</td><td>10281</td><td>10281</td><td>10430</td><td>10430</td><td>10579</td><td>10579</td><td>10728</td><td>10728</td><td>10877</td><td>10877</td><td>11026</td><td>11026</td><td>11175</td><td>11175</td></tr><tr><td>2</td><td>3</td><td>4</td><td>5</td><td>6</td><td>7</td><td>8</td><td>9</td><td>10</td><td>11</td><td>12</td><td>13</td><td>14</td><td>15</td><td>16</td><td>17</td><td>18</td><td>19</td><td>20</td><td>21</td><td>22</td><td>23</td><td>24</td><td>25</td><td>26</td><td>27</td><td>28</td><td>29</td><td>30</td><td>31</td><td>32</td><td>33</td><td>34</td><td>35</td><td>36</td><td>37</td><td>38</td><td>39</td><td>40</td><td>41</td><td>42</td><td>43</td><td>44</td><td>45</td><td>46</td><td>47</td><td>48</td><td>49</td><td>50</td><td>51</td><td>52</td><td>53</td><td>54</td><td>55</td><td>56</td><td>57</td><td>58</td><td>59</td><td>60</td><td>61</td><td>62</td><td>63</td><td>64</td><td>65</td><td>66</td><td>67</td><td>68</td><td>69</td><td>70</td><td>71</td><td>72</td><td>73</td><td>74</td><td>75</td><td>76</td><td>77</td><td>78</td><td>79</td><td>80</td><td>81</td><td>82</td><td>83</td><td>84</td><td>85</td><td>86</td><td>87</td><td>88</td><td>89</td><td>90</td><td>91</td><td>92</td><td>93</td><td>94</td><td>95</td><td>96</td><td>97</td><td>98</td><td>99</td><td>100</td><td>101</td><td>102</td><td>103</td><td>104</td><td>105</td><td>106</td><td>107</td><td>108</td><td>109</td><td>110</td><td>111</td><td>112</td><td>113</td><td>114</td><td>115</td><td>116</td><td>117</td><td>118</td><td>119</td><td>120</td><td>121</td><td>122</td><td>123</td><td>124</td><td>125</td><td>126</td><td>127</td><td>128</td><td>129</td><td>130</td><td>131</td><td>132</td><td>133</td><td>134</td><td>135</td><td>136</td><td>137</td><td>138</td><td>139</td><td>140</td><td>141</td><td>142</td><td>143</td><td>144</td><td>145</td><td>146</td><td>147</td><td>148</td><td>149</td></tr><tr><td>150</td><td>225</td><td>300</td><td>375</td><td>450</td><td>525</td><td>600</td><td>675</td><td>750</td><td>825</td><td>900</td><td>975</td><td>1050</td><td>1125</td><td>1200</td><td>1275</td><td>1350</td><td>1425</td><td>1500</td><td>1575</td><td>1650</td><td>1725</td><td>1800</td><td>1875</td><td>1950</td><td>2025</td><td>2100</td><td>2175</td><td>2250</td><td>2325</td><td>2400</td><td>2475</td><td>2550</td><td>2625</td><td>2700</td><td>2775</td><td>2850</td><td>2925</td><td>3000</td><td>3075</td><td>3150</td><td>3225</td><td>3300</td><td>3375</td><td>3450</td><td>3525</td><td>3600</td><td>3675</td><td>3750</td><td>3825</td><td>3900</td><td>3975</td><td>4050</td><td>4125</td><td>4200</td><td>4275</td><td>4350</td><td>4425</td><td>4500</td><td>4575</td><td>4650</td><td>4725</td><td>4800</td><td>4875</td><td>4950</td><td>5025</td><td>5100</td><td>5175</td><td>5250</td><td>5325</td><td>5400</td><td>5475</td><td>5550</td><td>5625</td><td>5700</td><td>5775</td><td>5850</td><td>5925</td><td>6000</td><td>6075</td><td>6150</td><td>6225</td><td>6300</td><td>6375</td><td>6450</td><td>6525</td><td>6600</td><td>6675</td><td>6750</td><td>6825</td><td>6900</td><td>6975</td><td>7050</td><td>7125</td><td>7200</td><td>7275</td><td>7350</td><td>7425</td><td>7500</td><td>7575</td><td>7650</td><td>7725</td><td>7800</td><td>7875</td><td>7950</td><td>8025</td><td>8100</td><td>8175</td><td>8250</td><td>8325</td><td>8400</td><td>8475</td><td>8550</td><td>8625</td><td>8700</td><td>8775</td><td>8850</td><td>8925</td><td>9000</td><td>9075</td><td>9150</td><td>9225</td><td>9300</td><td>9375</td><td>9450</td><td>9525</td><td>9600</td><td>9675</td><td>9750</td><td>9825</td><td>9900</td><td>9975</td><td>10050</td><td>10125</td><td>10200</td><td>10275</td><td>10350</td><td>10425</td><td>10500</td><td>10575</td><td>10650</td><td>10725</td><td>10800</td><td>10875</td><td>10950</td><td>11025</td><td>11100</td><td>11175</td></tr></table>"
      ],
      "text/plain": [
       "<IPython.core.display.HTML object>"
      ]
     },
     "metadata": {},
     "output_type": "display_data"
    },
    {
     "name": "stdout",
     "output_type": "stream",
     "text": [
      "When p = 151 triangular = 11476 and partial triangular = 76\n"
     ]
    },
    {
     "data": {
      "text/html": [
       "<table><tr><td>2</td><td>2</td><td>3</td><td>3</td><td>4</td><td>4</td><td>5</td><td>5</td><td>6</td><td>6</td><td>7</td><td>7</td><td>8</td><td>8</td><td>9</td><td>9</td><td>10</td><td>10</td><td>11</td><td>11</td><td>12</td><td>12</td><td>13</td><td>13</td><td>14</td><td>14</td><td>15</td><td>15</td><td>16</td><td>16</td><td>17</td><td>17</td><td>18</td><td>18</td><td>19</td><td>19</td><td>20</td><td>20</td><td>21</td><td>21</td><td>22</td><td>22</td><td>23</td><td>23</td><td>24</td><td>24</td><td>25</td><td>25</td><td>26</td><td>26</td><td>27</td><td>27</td><td>28</td><td>28</td><td>29</td><td>29</td><td>30</td><td>30</td><td>31</td><td>31</td><td>32</td><td>32</td><td>33</td><td>33</td><td>34</td><td>34</td><td>35</td><td>35</td><td>36</td><td>36</td><td>37</td><td>37</td><td>38</td><td>38</td><td>39</td><td>39</td><td>40</td><td>40</td><td>41</td><td>41</td><td>42</td><td>42</td><td>43</td><td>43</td><td>44</td><td>44</td><td>45</td><td>45</td><td>46</td><td>46</td><td>47</td><td>47</td><td>48</td><td>48</td><td>49</td><td>49</td><td>50</td><td>50</td><td>51</td><td>51</td><td>52</td><td>52</td><td>53</td><td>53</td><td>54</td><td>54</td><td>55</td><td>55</td><td>56</td><td>56</td><td>57</td><td>57</td><td>58</td><td>58</td><td>59</td><td>59</td><td>60</td><td>60</td><td>61</td><td>61</td><td>62</td><td>62</td><td>63</td><td>63</td><td>64</td><td>64</td><td>65</td><td>65</td><td>66</td><td>66</td><td>67</td><td>67</td><td>68</td><td>68</td><td>69</td><td>69</td><td>70</td><td>70</td><td>71</td><td>71</td><td>72</td><td>72</td><td>73</td><td>73</td><td>74</td><td>74</td><td>75</td><td>75</td><td>76</td><td>76</td></tr><tr><td>302</td><td>302</td><td>453</td><td>453</td><td>604</td><td>604</td><td>755</td><td>755</td><td>906</td><td>906</td><td>1057</td><td>1057</td><td>1208</td><td>1208</td><td>1359</td><td>1359</td><td>1510</td><td>1510</td><td>1661</td><td>1661</td><td>1812</td><td>1812</td><td>1963</td><td>1963</td><td>2114</td><td>2114</td><td>2265</td><td>2265</td><td>2416</td><td>2416</td><td>2567</td><td>2567</td><td>2718</td><td>2718</td><td>2869</td><td>2869</td><td>3020</td><td>3020</td><td>3171</td><td>3171</td><td>3322</td><td>3322</td><td>3473</td><td>3473</td><td>3624</td><td>3624</td><td>3775</td><td>3775</td><td>3926</td><td>3926</td><td>4077</td><td>4077</td><td>4228</td><td>4228</td><td>4379</td><td>4379</td><td>4530</td><td>4530</td><td>4681</td><td>4681</td><td>4832</td><td>4832</td><td>4983</td><td>4983</td><td>5134</td><td>5134</td><td>5285</td><td>5285</td><td>5436</td><td>5436</td><td>5587</td><td>5587</td><td>5738</td><td>5738</td><td>5889</td><td>5889</td><td>6040</td><td>6040</td><td>6191</td><td>6191</td><td>6342</td><td>6342</td><td>6493</td><td>6493</td><td>6644</td><td>6644</td><td>6795</td><td>6795</td><td>6946</td><td>6946</td><td>7097</td><td>7097</td><td>7248</td><td>7248</td><td>7399</td><td>7399</td><td>7550</td><td>7550</td><td>7701</td><td>7701</td><td>7852</td><td>7852</td><td>8003</td><td>8003</td><td>8154</td><td>8154</td><td>8305</td><td>8305</td><td>8456</td><td>8456</td><td>8607</td><td>8607</td><td>8758</td><td>8758</td><td>8909</td><td>8909</td><td>9060</td><td>9060</td><td>9211</td><td>9211</td><td>9362</td><td>9362</td><td>9513</td><td>9513</td><td>9664</td><td>9664</td><td>9815</td><td>9815</td><td>9966</td><td>9966</td><td>10117</td><td>10117</td><td>10268</td><td>10268</td><td>10419</td><td>10419</td><td>10570</td><td>10570</td><td>10721</td><td>10721</td><td>10872</td><td>10872</td><td>11023</td><td>11023</td><td>11174</td><td>11174</td><td>11325</td><td>11325</td><td>11476</td><td>11476</td></tr><tr><td>2</td><td>3</td><td>4</td><td>5</td><td>6</td><td>7</td><td>8</td><td>9</td><td>10</td><td>11</td><td>12</td><td>13</td><td>14</td><td>15</td><td>16</td><td>17</td><td>18</td><td>19</td><td>20</td><td>21</td><td>22</td><td>23</td><td>24</td><td>25</td><td>26</td><td>27</td><td>28</td><td>29</td><td>30</td><td>31</td><td>32</td><td>33</td><td>34</td><td>35</td><td>36</td><td>37</td><td>38</td><td>39</td><td>40</td><td>41</td><td>42</td><td>43</td><td>44</td><td>45</td><td>46</td><td>47</td><td>48</td><td>49</td><td>50</td><td>51</td><td>52</td><td>53</td><td>54</td><td>55</td><td>56</td><td>57</td><td>58</td><td>59</td><td>60</td><td>61</td><td>62</td><td>63</td><td>64</td><td>65</td><td>66</td><td>67</td><td>68</td><td>69</td><td>70</td><td>71</td><td>72</td><td>73</td><td>74</td><td>75</td><td>76</td><td>77</td><td>78</td><td>79</td><td>80</td><td>81</td><td>82</td><td>83</td><td>84</td><td>85</td><td>86</td><td>87</td><td>88</td><td>89</td><td>90</td><td>91</td><td>92</td><td>93</td><td>94</td><td>95</td><td>96</td><td>97</td><td>98</td><td>99</td><td>100</td><td>101</td><td>102</td><td>103</td><td>104</td><td>105</td><td>106</td><td>107</td><td>108</td><td>109</td><td>110</td><td>111</td><td>112</td><td>113</td><td>114</td><td>115</td><td>116</td><td>117</td><td>118</td><td>119</td><td>120</td><td>121</td><td>122</td><td>123</td><td>124</td><td>125</td><td>126</td><td>127</td><td>128</td><td>129</td><td>130</td><td>131</td><td>132</td><td>133</td><td>134</td><td>135</td><td>136</td><td>137</td><td>138</td><td>139</td><td>140</td><td>141</td><td>142</td><td>143</td><td>144</td><td>145</td><td>146</td><td>147</td><td>148</td><td>149</td><td>150</td><td>151</td></tr><tr><td>152</td><td>228</td><td>304</td><td>380</td><td>456</td><td>532</td><td>608</td><td>684</td><td>760</td><td>836</td><td>912</td><td>988</td><td>1064</td><td>1140</td><td>1216</td><td>1292</td><td>1368</td><td>1444</td><td>1520</td><td>1596</td><td>1672</td><td>1748</td><td>1824</td><td>1900</td><td>1976</td><td>2052</td><td>2128</td><td>2204</td><td>2280</td><td>2356</td><td>2432</td><td>2508</td><td>2584</td><td>2660</td><td>2736</td><td>2812</td><td>2888</td><td>2964</td><td>3040</td><td>3116</td><td>3192</td><td>3268</td><td>3344</td><td>3420</td><td>3496</td><td>3572</td><td>3648</td><td>3724</td><td>3800</td><td>3876</td><td>3952</td><td>4028</td><td>4104</td><td>4180</td><td>4256</td><td>4332</td><td>4408</td><td>4484</td><td>4560</td><td>4636</td><td>4712</td><td>4788</td><td>4864</td><td>4940</td><td>5016</td><td>5092</td><td>5168</td><td>5244</td><td>5320</td><td>5396</td><td>5472</td><td>5548</td><td>5624</td><td>5700</td><td>5776</td><td>5852</td><td>5928</td><td>6004</td><td>6080</td><td>6156</td><td>6232</td><td>6308</td><td>6384</td><td>6460</td><td>6536</td><td>6612</td><td>6688</td><td>6764</td><td>6840</td><td>6916</td><td>6992</td><td>7068</td><td>7144</td><td>7220</td><td>7296</td><td>7372</td><td>7448</td><td>7524</td><td>7600</td><td>7676</td><td>7752</td><td>7828</td><td>7904</td><td>7980</td><td>8056</td><td>8132</td><td>8208</td><td>8284</td><td>8360</td><td>8436</td><td>8512</td><td>8588</td><td>8664</td><td>8740</td><td>8816</td><td>8892</td><td>8968</td><td>9044</td><td>9120</td><td>9196</td><td>9272</td><td>9348</td><td>9424</td><td>9500</td><td>9576</td><td>9652</td><td>9728</td><td>9804</td><td>9880</td><td>9956</td><td>10032</td><td>10108</td><td>10184</td><td>10260</td><td>10336</td><td>10412</td><td>10488</td><td>10564</td><td>10640</td><td>10716</td><td>10792</td><td>10868</td><td>10944</td><td>11020</td><td>11096</td><td>11172</td><td>11248</td><td>11324</td><td>11400</td><td>11476</td></tr></table>"
      ],
      "text/plain": [
       "<IPython.core.display.HTML object>"
      ]
     },
     "metadata": {},
     "output_type": "display_data"
    },
    {
     "name": "stdout",
     "output_type": "stream",
     "text": [
      "When p = 153 triangular = 11781 and partial triangular = 77\n"
     ]
    },
    {
     "data": {
      "text/html": [
       "<table><tr><td>2</td><td>2</td><td>3</td><td>3</td><td>4</td><td>4</td><td>5</td><td>5</td><td>6</td><td>6</td><td>7</td><td>7</td><td>8</td><td>8</td><td>9</td><td>9</td><td>10</td><td>10</td><td>11</td><td>11</td><td>12</td><td>12</td><td>13</td><td>13</td><td>14</td><td>14</td><td>15</td><td>15</td><td>16</td><td>16</td><td>17</td><td>17</td><td>18</td><td>18</td><td>19</td><td>19</td><td>20</td><td>20</td><td>21</td><td>21</td><td>22</td><td>22</td><td>23</td><td>23</td><td>24</td><td>24</td><td>25</td><td>25</td><td>26</td><td>26</td><td>27</td><td>27</td><td>28</td><td>28</td><td>29</td><td>29</td><td>30</td><td>30</td><td>31</td><td>31</td><td>32</td><td>32</td><td>33</td><td>33</td><td>34</td><td>34</td><td>35</td><td>35</td><td>36</td><td>36</td><td>37</td><td>37</td><td>38</td><td>38</td><td>39</td><td>39</td><td>40</td><td>40</td><td>41</td><td>41</td><td>42</td><td>42</td><td>43</td><td>43</td><td>44</td><td>44</td><td>45</td><td>45</td><td>46</td><td>46</td><td>47</td><td>47</td><td>48</td><td>48</td><td>49</td><td>49</td><td>50</td><td>50</td><td>51</td><td>51</td><td>52</td><td>52</td><td>53</td><td>53</td><td>54</td><td>54</td><td>55</td><td>55</td><td>56</td><td>56</td><td>57</td><td>57</td><td>58</td><td>58</td><td>59</td><td>59</td><td>60</td><td>60</td><td>61</td><td>61</td><td>62</td><td>62</td><td>63</td><td>63</td><td>64</td><td>64</td><td>65</td><td>65</td><td>66</td><td>66</td><td>67</td><td>67</td><td>68</td><td>68</td><td>69</td><td>69</td><td>70</td><td>70</td><td>71</td><td>71</td><td>72</td><td>72</td><td>73</td><td>73</td><td>74</td><td>74</td><td>75</td><td>75</td><td>76</td><td>76</td><td>77</td><td>77</td></tr><tr><td>306</td><td>306</td><td>459</td><td>459</td><td>612</td><td>612</td><td>765</td><td>765</td><td>918</td><td>918</td><td>1071</td><td>1071</td><td>1224</td><td>1224</td><td>1377</td><td>1377</td><td>1530</td><td>1530</td><td>1683</td><td>1683</td><td>1836</td><td>1836</td><td>1989</td><td>1989</td><td>2142</td><td>2142</td><td>2295</td><td>2295</td><td>2448</td><td>2448</td><td>2601</td><td>2601</td><td>2754</td><td>2754</td><td>2907</td><td>2907</td><td>3060</td><td>3060</td><td>3213</td><td>3213</td><td>3366</td><td>3366</td><td>3519</td><td>3519</td><td>3672</td><td>3672</td><td>3825</td><td>3825</td><td>3978</td><td>3978</td><td>4131</td><td>4131</td><td>4284</td><td>4284</td><td>4437</td><td>4437</td><td>4590</td><td>4590</td><td>4743</td><td>4743</td><td>4896</td><td>4896</td><td>5049</td><td>5049</td><td>5202</td><td>5202</td><td>5355</td><td>5355</td><td>5508</td><td>5508</td><td>5661</td><td>5661</td><td>5814</td><td>5814</td><td>5967</td><td>5967</td><td>6120</td><td>6120</td><td>6273</td><td>6273</td><td>6426</td><td>6426</td><td>6579</td><td>6579</td><td>6732</td><td>6732</td><td>6885</td><td>6885</td><td>7038</td><td>7038</td><td>7191</td><td>7191</td><td>7344</td><td>7344</td><td>7497</td><td>7497</td><td>7650</td><td>7650</td><td>7803</td><td>7803</td><td>7956</td><td>7956</td><td>8109</td><td>8109</td><td>8262</td><td>8262</td><td>8415</td><td>8415</td><td>8568</td><td>8568</td><td>8721</td><td>8721</td><td>8874</td><td>8874</td><td>9027</td><td>9027</td><td>9180</td><td>9180</td><td>9333</td><td>9333</td><td>9486</td><td>9486</td><td>9639</td><td>9639</td><td>9792</td><td>9792</td><td>9945</td><td>9945</td><td>10098</td><td>10098</td><td>10251</td><td>10251</td><td>10404</td><td>10404</td><td>10557</td><td>10557</td><td>10710</td><td>10710</td><td>10863</td><td>10863</td><td>11016</td><td>11016</td><td>11169</td><td>11169</td><td>11322</td><td>11322</td><td>11475</td><td>11475</td><td>11628</td><td>11628</td><td>11781</td><td>11781</td></tr><tr><td>2</td><td>3</td><td>4</td><td>5</td><td>6</td><td>7</td><td>8</td><td>9</td><td>10</td><td>11</td><td>12</td><td>13</td><td>14</td><td>15</td><td>16</td><td>17</td><td>18</td><td>19</td><td>20</td><td>21</td><td>22</td><td>23</td><td>24</td><td>25</td><td>26</td><td>27</td><td>28</td><td>29</td><td>30</td><td>31</td><td>32</td><td>33</td><td>34</td><td>35</td><td>36</td><td>37</td><td>38</td><td>39</td><td>40</td><td>41</td><td>42</td><td>43</td><td>44</td><td>45</td><td>46</td><td>47</td><td>48</td><td>49</td><td>50</td><td>51</td><td>52</td><td>53</td><td>54</td><td>55</td><td>56</td><td>57</td><td>58</td><td>59</td><td>60</td><td>61</td><td>62</td><td>63</td><td>64</td><td>65</td><td>66</td><td>67</td><td>68</td><td>69</td><td>70</td><td>71</td><td>72</td><td>73</td><td>74</td><td>75</td><td>76</td><td>77</td><td>78</td><td>79</td><td>80</td><td>81</td><td>82</td><td>83</td><td>84</td><td>85</td><td>86</td><td>87</td><td>88</td><td>89</td><td>90</td><td>91</td><td>92</td><td>93</td><td>94</td><td>95</td><td>96</td><td>97</td><td>98</td><td>99</td><td>100</td><td>101</td><td>102</td><td>103</td><td>104</td><td>105</td><td>106</td><td>107</td><td>108</td><td>109</td><td>110</td><td>111</td><td>112</td><td>113</td><td>114</td><td>115</td><td>116</td><td>117</td><td>118</td><td>119</td><td>120</td><td>121</td><td>122</td><td>123</td><td>124</td><td>125</td><td>126</td><td>127</td><td>128</td><td>129</td><td>130</td><td>131</td><td>132</td><td>133</td><td>134</td><td>135</td><td>136</td><td>137</td><td>138</td><td>139</td><td>140</td><td>141</td><td>142</td><td>143</td><td>144</td><td>145</td><td>146</td><td>147</td><td>148</td><td>149</td><td>150</td><td>151</td><td>152</td><td>153</td></tr><tr><td>154</td><td>231</td><td>308</td><td>385</td><td>462</td><td>539</td><td>616</td><td>693</td><td>770</td><td>847</td><td>924</td><td>1001</td><td>1078</td><td>1155</td><td>1232</td><td>1309</td><td>1386</td><td>1463</td><td>1540</td><td>1617</td><td>1694</td><td>1771</td><td>1848</td><td>1925</td><td>2002</td><td>2079</td><td>2156</td><td>2233</td><td>2310</td><td>2387</td><td>2464</td><td>2541</td><td>2618</td><td>2695</td><td>2772</td><td>2849</td><td>2926</td><td>3003</td><td>3080</td><td>3157</td><td>3234</td><td>3311</td><td>3388</td><td>3465</td><td>3542</td><td>3619</td><td>3696</td><td>3773</td><td>3850</td><td>3927</td><td>4004</td><td>4081</td><td>4158</td><td>4235</td><td>4312</td><td>4389</td><td>4466</td><td>4543</td><td>4620</td><td>4697</td><td>4774</td><td>4851</td><td>4928</td><td>5005</td><td>5082</td><td>5159</td><td>5236</td><td>5313</td><td>5390</td><td>5467</td><td>5544</td><td>5621</td><td>5698</td><td>5775</td><td>5852</td><td>5929</td><td>6006</td><td>6083</td><td>6160</td><td>6237</td><td>6314</td><td>6391</td><td>6468</td><td>6545</td><td>6622</td><td>6699</td><td>6776</td><td>6853</td><td>6930</td><td>7007</td><td>7084</td><td>7161</td><td>7238</td><td>7315</td><td>7392</td><td>7469</td><td>7546</td><td>7623</td><td>7700</td><td>7777</td><td>7854</td><td>7931</td><td>8008</td><td>8085</td><td>8162</td><td>8239</td><td>8316</td><td>8393</td><td>8470</td><td>8547</td><td>8624</td><td>8701</td><td>8778</td><td>8855</td><td>8932</td><td>9009</td><td>9086</td><td>9163</td><td>9240</td><td>9317</td><td>9394</td><td>9471</td><td>9548</td><td>9625</td><td>9702</td><td>9779</td><td>9856</td><td>9933</td><td>10010</td><td>10087</td><td>10164</td><td>10241</td><td>10318</td><td>10395</td><td>10472</td><td>10549</td><td>10626</td><td>10703</td><td>10780</td><td>10857</td><td>10934</td><td>11011</td><td>11088</td><td>11165</td><td>11242</td><td>11319</td><td>11396</td><td>11473</td><td>11550</td><td>11627</td><td>11704</td><td>11781</td></tr></table>"
      ],
      "text/plain": [
       "<IPython.core.display.HTML object>"
      ]
     },
     "metadata": {},
     "output_type": "display_data"
    },
    {
     "name": "stdout",
     "output_type": "stream",
     "text": [
      "When p = 155 triangular = 12090 and partial triangular = 78\n"
     ]
    },
    {
     "data": {
      "text/html": [
       "<table><tr><td>2</td><td>2</td><td>3</td><td>3</td><td>4</td><td>4</td><td>5</td><td>5</td><td>6</td><td>6</td><td>7</td><td>7</td><td>8</td><td>8</td><td>9</td><td>9</td><td>10</td><td>10</td><td>11</td><td>11</td><td>12</td><td>12</td><td>13</td><td>13</td><td>14</td><td>14</td><td>15</td><td>15</td><td>16</td><td>16</td><td>17</td><td>17</td><td>18</td><td>18</td><td>19</td><td>19</td><td>20</td><td>20</td><td>21</td><td>21</td><td>22</td><td>22</td><td>23</td><td>23</td><td>24</td><td>24</td><td>25</td><td>25</td><td>26</td><td>26</td><td>27</td><td>27</td><td>28</td><td>28</td><td>29</td><td>29</td><td>30</td><td>30</td><td>31</td><td>31</td><td>32</td><td>32</td><td>33</td><td>33</td><td>34</td><td>34</td><td>35</td><td>35</td><td>36</td><td>36</td><td>37</td><td>37</td><td>38</td><td>38</td><td>39</td><td>39</td><td>40</td><td>40</td><td>41</td><td>41</td><td>42</td><td>42</td><td>43</td><td>43</td><td>44</td><td>44</td><td>45</td><td>45</td><td>46</td><td>46</td><td>47</td><td>47</td><td>48</td><td>48</td><td>49</td><td>49</td><td>50</td><td>50</td><td>51</td><td>51</td><td>52</td><td>52</td><td>53</td><td>53</td><td>54</td><td>54</td><td>55</td><td>55</td><td>56</td><td>56</td><td>57</td><td>57</td><td>58</td><td>58</td><td>59</td><td>59</td><td>60</td><td>60</td><td>61</td><td>61</td><td>62</td><td>62</td><td>63</td><td>63</td><td>64</td><td>64</td><td>65</td><td>65</td><td>66</td><td>66</td><td>67</td><td>67</td><td>68</td><td>68</td><td>69</td><td>69</td><td>70</td><td>70</td><td>71</td><td>71</td><td>72</td><td>72</td><td>73</td><td>73</td><td>74</td><td>74</td><td>75</td><td>75</td><td>76</td><td>76</td><td>77</td><td>77</td><td>78</td><td>78</td></tr><tr><td>310</td><td>310</td><td>465</td><td>465</td><td>620</td><td>620</td><td>775</td><td>775</td><td>930</td><td>930</td><td>1085</td><td>1085</td><td>1240</td><td>1240</td><td>1395</td><td>1395</td><td>1550</td><td>1550</td><td>1705</td><td>1705</td><td>1860</td><td>1860</td><td>2015</td><td>2015</td><td>2170</td><td>2170</td><td>2325</td><td>2325</td><td>2480</td><td>2480</td><td>2635</td><td>2635</td><td>2790</td><td>2790</td><td>2945</td><td>2945</td><td>3100</td><td>3100</td><td>3255</td><td>3255</td><td>3410</td><td>3410</td><td>3565</td><td>3565</td><td>3720</td><td>3720</td><td>3875</td><td>3875</td><td>4030</td><td>4030</td><td>4185</td><td>4185</td><td>4340</td><td>4340</td><td>4495</td><td>4495</td><td>4650</td><td>4650</td><td>4805</td><td>4805</td><td>4960</td><td>4960</td><td>5115</td><td>5115</td><td>5270</td><td>5270</td><td>5425</td><td>5425</td><td>5580</td><td>5580</td><td>5735</td><td>5735</td><td>5890</td><td>5890</td><td>6045</td><td>6045</td><td>6200</td><td>6200</td><td>6355</td><td>6355</td><td>6510</td><td>6510</td><td>6665</td><td>6665</td><td>6820</td><td>6820</td><td>6975</td><td>6975</td><td>7130</td><td>7130</td><td>7285</td><td>7285</td><td>7440</td><td>7440</td><td>7595</td><td>7595</td><td>7750</td><td>7750</td><td>7905</td><td>7905</td><td>8060</td><td>8060</td><td>8215</td><td>8215</td><td>8370</td><td>8370</td><td>8525</td><td>8525</td><td>8680</td><td>8680</td><td>8835</td><td>8835</td><td>8990</td><td>8990</td><td>9145</td><td>9145</td><td>9300</td><td>9300</td><td>9455</td><td>9455</td><td>9610</td><td>9610</td><td>9765</td><td>9765</td><td>9920</td><td>9920</td><td>10075</td><td>10075</td><td>10230</td><td>10230</td><td>10385</td><td>10385</td><td>10540</td><td>10540</td><td>10695</td><td>10695</td><td>10850</td><td>10850</td><td>11005</td><td>11005</td><td>11160</td><td>11160</td><td>11315</td><td>11315</td><td>11470</td><td>11470</td><td>11625</td><td>11625</td><td>11780</td><td>11780</td><td>11935</td><td>11935</td><td>12090</td><td>12090</td></tr><tr><td>2</td><td>3</td><td>4</td><td>5</td><td>6</td><td>7</td><td>8</td><td>9</td><td>10</td><td>11</td><td>12</td><td>13</td><td>14</td><td>15</td><td>16</td><td>17</td><td>18</td><td>19</td><td>20</td><td>21</td><td>22</td><td>23</td><td>24</td><td>25</td><td>26</td><td>27</td><td>28</td><td>29</td><td>30</td><td>31</td><td>32</td><td>33</td><td>34</td><td>35</td><td>36</td><td>37</td><td>38</td><td>39</td><td>40</td><td>41</td><td>42</td><td>43</td><td>44</td><td>45</td><td>46</td><td>47</td><td>48</td><td>49</td><td>50</td><td>51</td><td>52</td><td>53</td><td>54</td><td>55</td><td>56</td><td>57</td><td>58</td><td>59</td><td>60</td><td>61</td><td>62</td><td>63</td><td>64</td><td>65</td><td>66</td><td>67</td><td>68</td><td>69</td><td>70</td><td>71</td><td>72</td><td>73</td><td>74</td><td>75</td><td>76</td><td>77</td><td>78</td><td>79</td><td>80</td><td>81</td><td>82</td><td>83</td><td>84</td><td>85</td><td>86</td><td>87</td><td>88</td><td>89</td><td>90</td><td>91</td><td>92</td><td>93</td><td>94</td><td>95</td><td>96</td><td>97</td><td>98</td><td>99</td><td>100</td><td>101</td><td>102</td><td>103</td><td>104</td><td>105</td><td>106</td><td>107</td><td>108</td><td>109</td><td>110</td><td>111</td><td>112</td><td>113</td><td>114</td><td>115</td><td>116</td><td>117</td><td>118</td><td>119</td><td>120</td><td>121</td><td>122</td><td>123</td><td>124</td><td>125</td><td>126</td><td>127</td><td>128</td><td>129</td><td>130</td><td>131</td><td>132</td><td>133</td><td>134</td><td>135</td><td>136</td><td>137</td><td>138</td><td>139</td><td>140</td><td>141</td><td>142</td><td>143</td><td>144</td><td>145</td><td>146</td><td>147</td><td>148</td><td>149</td><td>150</td><td>151</td><td>152</td><td>153</td><td>154</td><td>155</td></tr><tr><td>156</td><td>234</td><td>312</td><td>390</td><td>468</td><td>546</td><td>624</td><td>702</td><td>780</td><td>858</td><td>936</td><td>1014</td><td>1092</td><td>1170</td><td>1248</td><td>1326</td><td>1404</td><td>1482</td><td>1560</td><td>1638</td><td>1716</td><td>1794</td><td>1872</td><td>1950</td><td>2028</td><td>2106</td><td>2184</td><td>2262</td><td>2340</td><td>2418</td><td>2496</td><td>2574</td><td>2652</td><td>2730</td><td>2808</td><td>2886</td><td>2964</td><td>3042</td><td>3120</td><td>3198</td><td>3276</td><td>3354</td><td>3432</td><td>3510</td><td>3588</td><td>3666</td><td>3744</td><td>3822</td><td>3900</td><td>3978</td><td>4056</td><td>4134</td><td>4212</td><td>4290</td><td>4368</td><td>4446</td><td>4524</td><td>4602</td><td>4680</td><td>4758</td><td>4836</td><td>4914</td><td>4992</td><td>5070</td><td>5148</td><td>5226</td><td>5304</td><td>5382</td><td>5460</td><td>5538</td><td>5616</td><td>5694</td><td>5772</td><td>5850</td><td>5928</td><td>6006</td><td>6084</td><td>6162</td><td>6240</td><td>6318</td><td>6396</td><td>6474</td><td>6552</td><td>6630</td><td>6708</td><td>6786</td><td>6864</td><td>6942</td><td>7020</td><td>7098</td><td>7176</td><td>7254</td><td>7332</td><td>7410</td><td>7488</td><td>7566</td><td>7644</td><td>7722</td><td>7800</td><td>7878</td><td>7956</td><td>8034</td><td>8112</td><td>8190</td><td>8268</td><td>8346</td><td>8424</td><td>8502</td><td>8580</td><td>8658</td><td>8736</td><td>8814</td><td>8892</td><td>8970</td><td>9048</td><td>9126</td><td>9204</td><td>9282</td><td>9360</td><td>9438</td><td>9516</td><td>9594</td><td>9672</td><td>9750</td><td>9828</td><td>9906</td><td>9984</td><td>10062</td><td>10140</td><td>10218</td><td>10296</td><td>10374</td><td>10452</td><td>10530</td><td>10608</td><td>10686</td><td>10764</td><td>10842</td><td>10920</td><td>10998</td><td>11076</td><td>11154</td><td>11232</td><td>11310</td><td>11388</td><td>11466</td><td>11544</td><td>11622</td><td>11700</td><td>11778</td><td>11856</td><td>11934</td><td>12012</td><td>12090</td></tr></table>"
      ],
      "text/plain": [
       "<IPython.core.display.HTML object>"
      ]
     },
     "metadata": {},
     "output_type": "display_data"
    },
    {
     "name": "stdout",
     "output_type": "stream",
     "text": [
      "When p = 157 triangular = 12403 and partial triangular = 79\n"
     ]
    },
    {
     "data": {
      "text/html": [
       "<table><tr><td>2</td><td>2</td><td>3</td><td>3</td><td>4</td><td>4</td><td>5</td><td>5</td><td>6</td><td>6</td><td>7</td><td>7</td><td>8</td><td>8</td><td>9</td><td>9</td><td>10</td><td>10</td><td>11</td><td>11</td><td>12</td><td>12</td><td>13</td><td>13</td><td>14</td><td>14</td><td>15</td><td>15</td><td>16</td><td>16</td><td>17</td><td>17</td><td>18</td><td>18</td><td>19</td><td>19</td><td>20</td><td>20</td><td>21</td><td>21</td><td>22</td><td>22</td><td>23</td><td>23</td><td>24</td><td>24</td><td>25</td><td>25</td><td>26</td><td>26</td><td>27</td><td>27</td><td>28</td><td>28</td><td>29</td><td>29</td><td>30</td><td>30</td><td>31</td><td>31</td><td>32</td><td>32</td><td>33</td><td>33</td><td>34</td><td>34</td><td>35</td><td>35</td><td>36</td><td>36</td><td>37</td><td>37</td><td>38</td><td>38</td><td>39</td><td>39</td><td>40</td><td>40</td><td>41</td><td>41</td><td>42</td><td>42</td><td>43</td><td>43</td><td>44</td><td>44</td><td>45</td><td>45</td><td>46</td><td>46</td><td>47</td><td>47</td><td>48</td><td>48</td><td>49</td><td>49</td><td>50</td><td>50</td><td>51</td><td>51</td><td>52</td><td>52</td><td>53</td><td>53</td><td>54</td><td>54</td><td>55</td><td>55</td><td>56</td><td>56</td><td>57</td><td>57</td><td>58</td><td>58</td><td>59</td><td>59</td><td>60</td><td>60</td><td>61</td><td>61</td><td>62</td><td>62</td><td>63</td><td>63</td><td>64</td><td>64</td><td>65</td><td>65</td><td>66</td><td>66</td><td>67</td><td>67</td><td>68</td><td>68</td><td>69</td><td>69</td><td>70</td><td>70</td><td>71</td><td>71</td><td>72</td><td>72</td><td>73</td><td>73</td><td>74</td><td>74</td><td>75</td><td>75</td><td>76</td><td>76</td><td>77</td><td>77</td><td>78</td><td>78</td><td>79</td><td>79</td></tr><tr><td>314</td><td>314</td><td>471</td><td>471</td><td>628</td><td>628</td><td>785</td><td>785</td><td>942</td><td>942</td><td>1099</td><td>1099</td><td>1256</td><td>1256</td><td>1413</td><td>1413</td><td>1570</td><td>1570</td><td>1727</td><td>1727</td><td>1884</td><td>1884</td><td>2041</td><td>2041</td><td>2198</td><td>2198</td><td>2355</td><td>2355</td><td>2512</td><td>2512</td><td>2669</td><td>2669</td><td>2826</td><td>2826</td><td>2983</td><td>2983</td><td>3140</td><td>3140</td><td>3297</td><td>3297</td><td>3454</td><td>3454</td><td>3611</td><td>3611</td><td>3768</td><td>3768</td><td>3925</td><td>3925</td><td>4082</td><td>4082</td><td>4239</td><td>4239</td><td>4396</td><td>4396</td><td>4553</td><td>4553</td><td>4710</td><td>4710</td><td>4867</td><td>4867</td><td>5024</td><td>5024</td><td>5181</td><td>5181</td><td>5338</td><td>5338</td><td>5495</td><td>5495</td><td>5652</td><td>5652</td><td>5809</td><td>5809</td><td>5966</td><td>5966</td><td>6123</td><td>6123</td><td>6280</td><td>6280</td><td>6437</td><td>6437</td><td>6594</td><td>6594</td><td>6751</td><td>6751</td><td>6908</td><td>6908</td><td>7065</td><td>7065</td><td>7222</td><td>7222</td><td>7379</td><td>7379</td><td>7536</td><td>7536</td><td>7693</td><td>7693</td><td>7850</td><td>7850</td><td>8007</td><td>8007</td><td>8164</td><td>8164</td><td>8321</td><td>8321</td><td>8478</td><td>8478</td><td>8635</td><td>8635</td><td>8792</td><td>8792</td><td>8949</td><td>8949</td><td>9106</td><td>9106</td><td>9263</td><td>9263</td><td>9420</td><td>9420</td><td>9577</td><td>9577</td><td>9734</td><td>9734</td><td>9891</td><td>9891</td><td>10048</td><td>10048</td><td>10205</td><td>10205</td><td>10362</td><td>10362</td><td>10519</td><td>10519</td><td>10676</td><td>10676</td><td>10833</td><td>10833</td><td>10990</td><td>10990</td><td>11147</td><td>11147</td><td>11304</td><td>11304</td><td>11461</td><td>11461</td><td>11618</td><td>11618</td><td>11775</td><td>11775</td><td>11932</td><td>11932</td><td>12089</td><td>12089</td><td>12246</td><td>12246</td><td>12403</td><td>12403</td></tr><tr><td>2</td><td>3</td><td>4</td><td>5</td><td>6</td><td>7</td><td>8</td><td>9</td><td>10</td><td>11</td><td>12</td><td>13</td><td>14</td><td>15</td><td>16</td><td>17</td><td>18</td><td>19</td><td>20</td><td>21</td><td>22</td><td>23</td><td>24</td><td>25</td><td>26</td><td>27</td><td>28</td><td>29</td><td>30</td><td>31</td><td>32</td><td>33</td><td>34</td><td>35</td><td>36</td><td>37</td><td>38</td><td>39</td><td>40</td><td>41</td><td>42</td><td>43</td><td>44</td><td>45</td><td>46</td><td>47</td><td>48</td><td>49</td><td>50</td><td>51</td><td>52</td><td>53</td><td>54</td><td>55</td><td>56</td><td>57</td><td>58</td><td>59</td><td>60</td><td>61</td><td>62</td><td>63</td><td>64</td><td>65</td><td>66</td><td>67</td><td>68</td><td>69</td><td>70</td><td>71</td><td>72</td><td>73</td><td>74</td><td>75</td><td>76</td><td>77</td><td>78</td><td>79</td><td>80</td><td>81</td><td>82</td><td>83</td><td>84</td><td>85</td><td>86</td><td>87</td><td>88</td><td>89</td><td>90</td><td>91</td><td>92</td><td>93</td><td>94</td><td>95</td><td>96</td><td>97</td><td>98</td><td>99</td><td>100</td><td>101</td><td>102</td><td>103</td><td>104</td><td>105</td><td>106</td><td>107</td><td>108</td><td>109</td><td>110</td><td>111</td><td>112</td><td>113</td><td>114</td><td>115</td><td>116</td><td>117</td><td>118</td><td>119</td><td>120</td><td>121</td><td>122</td><td>123</td><td>124</td><td>125</td><td>126</td><td>127</td><td>128</td><td>129</td><td>130</td><td>131</td><td>132</td><td>133</td><td>134</td><td>135</td><td>136</td><td>137</td><td>138</td><td>139</td><td>140</td><td>141</td><td>142</td><td>143</td><td>144</td><td>145</td><td>146</td><td>147</td><td>148</td><td>149</td><td>150</td><td>151</td><td>152</td><td>153</td><td>154</td><td>155</td><td>156</td><td>157</td></tr><tr><td>158</td><td>237</td><td>316</td><td>395</td><td>474</td><td>553</td><td>632</td><td>711</td><td>790</td><td>869</td><td>948</td><td>1027</td><td>1106</td><td>1185</td><td>1264</td><td>1343</td><td>1422</td><td>1501</td><td>1580</td><td>1659</td><td>1738</td><td>1817</td><td>1896</td><td>1975</td><td>2054</td><td>2133</td><td>2212</td><td>2291</td><td>2370</td><td>2449</td><td>2528</td><td>2607</td><td>2686</td><td>2765</td><td>2844</td><td>2923</td><td>3002</td><td>3081</td><td>3160</td><td>3239</td><td>3318</td><td>3397</td><td>3476</td><td>3555</td><td>3634</td><td>3713</td><td>3792</td><td>3871</td><td>3950</td><td>4029</td><td>4108</td><td>4187</td><td>4266</td><td>4345</td><td>4424</td><td>4503</td><td>4582</td><td>4661</td><td>4740</td><td>4819</td><td>4898</td><td>4977</td><td>5056</td><td>5135</td><td>5214</td><td>5293</td><td>5372</td><td>5451</td><td>5530</td><td>5609</td><td>5688</td><td>5767</td><td>5846</td><td>5925</td><td>6004</td><td>6083</td><td>6162</td><td>6241</td><td>6320</td><td>6399</td><td>6478</td><td>6557</td><td>6636</td><td>6715</td><td>6794</td><td>6873</td><td>6952</td><td>7031</td><td>7110</td><td>7189</td><td>7268</td><td>7347</td><td>7426</td><td>7505</td><td>7584</td><td>7663</td><td>7742</td><td>7821</td><td>7900</td><td>7979</td><td>8058</td><td>8137</td><td>8216</td><td>8295</td><td>8374</td><td>8453</td><td>8532</td><td>8611</td><td>8690</td><td>8769</td><td>8848</td><td>8927</td><td>9006</td><td>9085</td><td>9164</td><td>9243</td><td>9322</td><td>9401</td><td>9480</td><td>9559</td><td>9638</td><td>9717</td><td>9796</td><td>9875</td><td>9954</td><td>10033</td><td>10112</td><td>10191</td><td>10270</td><td>10349</td><td>10428</td><td>10507</td><td>10586</td><td>10665</td><td>10744</td><td>10823</td><td>10902</td><td>10981</td><td>11060</td><td>11139</td><td>11218</td><td>11297</td><td>11376</td><td>11455</td><td>11534</td><td>11613</td><td>11692</td><td>11771</td><td>11850</td><td>11929</td><td>12008</td><td>12087</td><td>12166</td><td>12245</td><td>12324</td><td>12403</td></tr></table>"
      ],
      "text/plain": [
       "<IPython.core.display.HTML object>"
      ]
     },
     "metadata": {},
     "output_type": "display_data"
    },
    {
     "name": "stdout",
     "output_type": "stream",
     "text": [
      "When p = 159 triangular = 12720 and partial triangular = 80\n"
     ]
    },
    {
     "data": {
      "text/html": [
       "<table><tr><td>2</td><td>2</td><td>3</td><td>3</td><td>4</td><td>4</td><td>5</td><td>5</td><td>6</td><td>6</td><td>7</td><td>7</td><td>8</td><td>8</td><td>9</td><td>9</td><td>10</td><td>10</td><td>11</td><td>11</td><td>12</td><td>12</td><td>13</td><td>13</td><td>14</td><td>14</td><td>15</td><td>15</td><td>16</td><td>16</td><td>17</td><td>17</td><td>18</td><td>18</td><td>19</td><td>19</td><td>20</td><td>20</td><td>21</td><td>21</td><td>22</td><td>22</td><td>23</td><td>23</td><td>24</td><td>24</td><td>25</td><td>25</td><td>26</td><td>26</td><td>27</td><td>27</td><td>28</td><td>28</td><td>29</td><td>29</td><td>30</td><td>30</td><td>31</td><td>31</td><td>32</td><td>32</td><td>33</td><td>33</td><td>34</td><td>34</td><td>35</td><td>35</td><td>36</td><td>36</td><td>37</td><td>37</td><td>38</td><td>38</td><td>39</td><td>39</td><td>40</td><td>40</td><td>41</td><td>41</td><td>42</td><td>42</td><td>43</td><td>43</td><td>44</td><td>44</td><td>45</td><td>45</td><td>46</td><td>46</td><td>47</td><td>47</td><td>48</td><td>48</td><td>49</td><td>49</td><td>50</td><td>50</td><td>51</td><td>51</td><td>52</td><td>52</td><td>53</td><td>53</td><td>54</td><td>54</td><td>55</td><td>55</td><td>56</td><td>56</td><td>57</td><td>57</td><td>58</td><td>58</td><td>59</td><td>59</td><td>60</td><td>60</td><td>61</td><td>61</td><td>62</td><td>62</td><td>63</td><td>63</td><td>64</td><td>64</td><td>65</td><td>65</td><td>66</td><td>66</td><td>67</td><td>67</td><td>68</td><td>68</td><td>69</td><td>69</td><td>70</td><td>70</td><td>71</td><td>71</td><td>72</td><td>72</td><td>73</td><td>73</td><td>74</td><td>74</td><td>75</td><td>75</td><td>76</td><td>76</td><td>77</td><td>77</td><td>78</td><td>78</td><td>79</td><td>79</td><td>80</td><td>80</td></tr><tr><td>318</td><td>318</td><td>477</td><td>477</td><td>636</td><td>636</td><td>795</td><td>795</td><td>954</td><td>954</td><td>1113</td><td>1113</td><td>1272</td><td>1272</td><td>1431</td><td>1431</td><td>1590</td><td>1590</td><td>1749</td><td>1749</td><td>1908</td><td>1908</td><td>2067</td><td>2067</td><td>2226</td><td>2226</td><td>2385</td><td>2385</td><td>2544</td><td>2544</td><td>2703</td><td>2703</td><td>2862</td><td>2862</td><td>3021</td><td>3021</td><td>3180</td><td>3180</td><td>3339</td><td>3339</td><td>3498</td><td>3498</td><td>3657</td><td>3657</td><td>3816</td><td>3816</td><td>3975</td><td>3975</td><td>4134</td><td>4134</td><td>4293</td><td>4293</td><td>4452</td><td>4452</td><td>4611</td><td>4611</td><td>4770</td><td>4770</td><td>4929</td><td>4929</td><td>5088</td><td>5088</td><td>5247</td><td>5247</td><td>5406</td><td>5406</td><td>5565</td><td>5565</td><td>5724</td><td>5724</td><td>5883</td><td>5883</td><td>6042</td><td>6042</td><td>6201</td><td>6201</td><td>6360</td><td>6360</td><td>6519</td><td>6519</td><td>6678</td><td>6678</td><td>6837</td><td>6837</td><td>6996</td><td>6996</td><td>7155</td><td>7155</td><td>7314</td><td>7314</td><td>7473</td><td>7473</td><td>7632</td><td>7632</td><td>7791</td><td>7791</td><td>7950</td><td>7950</td><td>8109</td><td>8109</td><td>8268</td><td>8268</td><td>8427</td><td>8427</td><td>8586</td><td>8586</td><td>8745</td><td>8745</td><td>8904</td><td>8904</td><td>9063</td><td>9063</td><td>9222</td><td>9222</td><td>9381</td><td>9381</td><td>9540</td><td>9540</td><td>9699</td><td>9699</td><td>9858</td><td>9858</td><td>10017</td><td>10017</td><td>10176</td><td>10176</td><td>10335</td><td>10335</td><td>10494</td><td>10494</td><td>10653</td><td>10653</td><td>10812</td><td>10812</td><td>10971</td><td>10971</td><td>11130</td><td>11130</td><td>11289</td><td>11289</td><td>11448</td><td>11448</td><td>11607</td><td>11607</td><td>11766</td><td>11766</td><td>11925</td><td>11925</td><td>12084</td><td>12084</td><td>12243</td><td>12243</td><td>12402</td><td>12402</td><td>12561</td><td>12561</td><td>12720</td><td>12720</td></tr><tr><td>2</td><td>3</td><td>4</td><td>5</td><td>6</td><td>7</td><td>8</td><td>9</td><td>10</td><td>11</td><td>12</td><td>13</td><td>14</td><td>15</td><td>16</td><td>17</td><td>18</td><td>19</td><td>20</td><td>21</td><td>22</td><td>23</td><td>24</td><td>25</td><td>26</td><td>27</td><td>28</td><td>29</td><td>30</td><td>31</td><td>32</td><td>33</td><td>34</td><td>35</td><td>36</td><td>37</td><td>38</td><td>39</td><td>40</td><td>41</td><td>42</td><td>43</td><td>44</td><td>45</td><td>46</td><td>47</td><td>48</td><td>49</td><td>50</td><td>51</td><td>52</td><td>53</td><td>54</td><td>55</td><td>56</td><td>57</td><td>58</td><td>59</td><td>60</td><td>61</td><td>62</td><td>63</td><td>64</td><td>65</td><td>66</td><td>67</td><td>68</td><td>69</td><td>70</td><td>71</td><td>72</td><td>73</td><td>74</td><td>75</td><td>76</td><td>77</td><td>78</td><td>79</td><td>80</td><td>81</td><td>82</td><td>83</td><td>84</td><td>85</td><td>86</td><td>87</td><td>88</td><td>89</td><td>90</td><td>91</td><td>92</td><td>93</td><td>94</td><td>95</td><td>96</td><td>97</td><td>98</td><td>99</td><td>100</td><td>101</td><td>102</td><td>103</td><td>104</td><td>105</td><td>106</td><td>107</td><td>108</td><td>109</td><td>110</td><td>111</td><td>112</td><td>113</td><td>114</td><td>115</td><td>116</td><td>117</td><td>118</td><td>119</td><td>120</td><td>121</td><td>122</td><td>123</td><td>124</td><td>125</td><td>126</td><td>127</td><td>128</td><td>129</td><td>130</td><td>131</td><td>132</td><td>133</td><td>134</td><td>135</td><td>136</td><td>137</td><td>138</td><td>139</td><td>140</td><td>141</td><td>142</td><td>143</td><td>144</td><td>145</td><td>146</td><td>147</td><td>148</td><td>149</td><td>150</td><td>151</td><td>152</td><td>153</td><td>154</td><td>155</td><td>156</td><td>157</td><td>158</td><td>159</td></tr><tr><td>160</td><td>240</td><td>320</td><td>400</td><td>480</td><td>560</td><td>640</td><td>720</td><td>800</td><td>880</td><td>960</td><td>1040</td><td>1120</td><td>1200</td><td>1280</td><td>1360</td><td>1440</td><td>1520</td><td>1600</td><td>1680</td><td>1760</td><td>1840</td><td>1920</td><td>2000</td><td>2080</td><td>2160</td><td>2240</td><td>2320</td><td>2400</td><td>2480</td><td>2560</td><td>2640</td><td>2720</td><td>2800</td><td>2880</td><td>2960</td><td>3040</td><td>3120</td><td>3200</td><td>3280</td><td>3360</td><td>3440</td><td>3520</td><td>3600</td><td>3680</td><td>3760</td><td>3840</td><td>3920</td><td>4000</td><td>4080</td><td>4160</td><td>4240</td><td>4320</td><td>4400</td><td>4480</td><td>4560</td><td>4640</td><td>4720</td><td>4800</td><td>4880</td><td>4960</td><td>5040</td><td>5120</td><td>5200</td><td>5280</td><td>5360</td><td>5440</td><td>5520</td><td>5600</td><td>5680</td><td>5760</td><td>5840</td><td>5920</td><td>6000</td><td>6080</td><td>6160</td><td>6240</td><td>6320</td><td>6400</td><td>6480</td><td>6560</td><td>6640</td><td>6720</td><td>6800</td><td>6880</td><td>6960</td><td>7040</td><td>7120</td><td>7200</td><td>7280</td><td>7360</td><td>7440</td><td>7520</td><td>7600</td><td>7680</td><td>7760</td><td>7840</td><td>7920</td><td>8000</td><td>8080</td><td>8160</td><td>8240</td><td>8320</td><td>8400</td><td>8480</td><td>8560</td><td>8640</td><td>8720</td><td>8800</td><td>8880</td><td>8960</td><td>9040</td><td>9120</td><td>9200</td><td>9280</td><td>9360</td><td>9440</td><td>9520</td><td>9600</td><td>9680</td><td>9760</td><td>9840</td><td>9920</td><td>10000</td><td>10080</td><td>10160</td><td>10240</td><td>10320</td><td>10400</td><td>10480</td><td>10560</td><td>10640</td><td>10720</td><td>10800</td><td>10880</td><td>10960</td><td>11040</td><td>11120</td><td>11200</td><td>11280</td><td>11360</td><td>11440</td><td>11520</td><td>11600</td><td>11680</td><td>11760</td><td>11840</td><td>11920</td><td>12000</td><td>12080</td><td>12160</td><td>12240</td><td>12320</td><td>12400</td><td>12480</td><td>12560</td><td>12640</td><td>12720</td></tr></table>"
      ],
      "text/plain": [
       "<IPython.core.display.HTML object>"
      ]
     },
     "metadata": {},
     "output_type": "display_data"
    },
    {
     "name": "stdout",
     "output_type": "stream",
     "text": [
      "When p = 161 triangular = 13041 and partial triangular = 81\n"
     ]
    },
    {
     "data": {
      "text/html": [
       "<table><tr><td>2</td><td>2</td><td>3</td><td>3</td><td>4</td><td>4</td><td>5</td><td>5</td><td>6</td><td>6</td><td>7</td><td>7</td><td>8</td><td>8</td><td>9</td><td>9</td><td>10</td><td>10</td><td>11</td><td>11</td><td>12</td><td>12</td><td>13</td><td>13</td><td>14</td><td>14</td><td>15</td><td>15</td><td>16</td><td>16</td><td>17</td><td>17</td><td>18</td><td>18</td><td>19</td><td>19</td><td>20</td><td>20</td><td>21</td><td>21</td><td>22</td><td>22</td><td>23</td><td>23</td><td>24</td><td>24</td><td>25</td><td>25</td><td>26</td><td>26</td><td>27</td><td>27</td><td>28</td><td>28</td><td>29</td><td>29</td><td>30</td><td>30</td><td>31</td><td>31</td><td>32</td><td>32</td><td>33</td><td>33</td><td>34</td><td>34</td><td>35</td><td>35</td><td>36</td><td>36</td><td>37</td><td>37</td><td>38</td><td>38</td><td>39</td><td>39</td><td>40</td><td>40</td><td>41</td><td>41</td><td>42</td><td>42</td><td>43</td><td>43</td><td>44</td><td>44</td><td>45</td><td>45</td><td>46</td><td>46</td><td>47</td><td>47</td><td>48</td><td>48</td><td>49</td><td>49</td><td>50</td><td>50</td><td>51</td><td>51</td><td>52</td><td>52</td><td>53</td><td>53</td><td>54</td><td>54</td><td>55</td><td>55</td><td>56</td><td>56</td><td>57</td><td>57</td><td>58</td><td>58</td><td>59</td><td>59</td><td>60</td><td>60</td><td>61</td><td>61</td><td>62</td><td>62</td><td>63</td><td>63</td><td>64</td><td>64</td><td>65</td><td>65</td><td>66</td><td>66</td><td>67</td><td>67</td><td>68</td><td>68</td><td>69</td><td>69</td><td>70</td><td>70</td><td>71</td><td>71</td><td>72</td><td>72</td><td>73</td><td>73</td><td>74</td><td>74</td><td>75</td><td>75</td><td>76</td><td>76</td><td>77</td><td>77</td><td>78</td><td>78</td><td>79</td><td>79</td><td>80</td><td>80</td><td>81</td><td>81</td></tr><tr><td>322</td><td>322</td><td>483</td><td>483</td><td>644</td><td>644</td><td>805</td><td>805</td><td>966</td><td>966</td><td>1127</td><td>1127</td><td>1288</td><td>1288</td><td>1449</td><td>1449</td><td>1610</td><td>1610</td><td>1771</td><td>1771</td><td>1932</td><td>1932</td><td>2093</td><td>2093</td><td>2254</td><td>2254</td><td>2415</td><td>2415</td><td>2576</td><td>2576</td><td>2737</td><td>2737</td><td>2898</td><td>2898</td><td>3059</td><td>3059</td><td>3220</td><td>3220</td><td>3381</td><td>3381</td><td>3542</td><td>3542</td><td>3703</td><td>3703</td><td>3864</td><td>3864</td><td>4025</td><td>4025</td><td>4186</td><td>4186</td><td>4347</td><td>4347</td><td>4508</td><td>4508</td><td>4669</td><td>4669</td><td>4830</td><td>4830</td><td>4991</td><td>4991</td><td>5152</td><td>5152</td><td>5313</td><td>5313</td><td>5474</td><td>5474</td><td>5635</td><td>5635</td><td>5796</td><td>5796</td><td>5957</td><td>5957</td><td>6118</td><td>6118</td><td>6279</td><td>6279</td><td>6440</td><td>6440</td><td>6601</td><td>6601</td><td>6762</td><td>6762</td><td>6923</td><td>6923</td><td>7084</td><td>7084</td><td>7245</td><td>7245</td><td>7406</td><td>7406</td><td>7567</td><td>7567</td><td>7728</td><td>7728</td><td>7889</td><td>7889</td><td>8050</td><td>8050</td><td>8211</td><td>8211</td><td>8372</td><td>8372</td><td>8533</td><td>8533</td><td>8694</td><td>8694</td><td>8855</td><td>8855</td><td>9016</td><td>9016</td><td>9177</td><td>9177</td><td>9338</td><td>9338</td><td>9499</td><td>9499</td><td>9660</td><td>9660</td><td>9821</td><td>9821</td><td>9982</td><td>9982</td><td>10143</td><td>10143</td><td>10304</td><td>10304</td><td>10465</td><td>10465</td><td>10626</td><td>10626</td><td>10787</td><td>10787</td><td>10948</td><td>10948</td><td>11109</td><td>11109</td><td>11270</td><td>11270</td><td>11431</td><td>11431</td><td>11592</td><td>11592</td><td>11753</td><td>11753</td><td>11914</td><td>11914</td><td>12075</td><td>12075</td><td>12236</td><td>12236</td><td>12397</td><td>12397</td><td>12558</td><td>12558</td><td>12719</td><td>12719</td><td>12880</td><td>12880</td><td>13041</td><td>13041</td></tr><tr><td>2</td><td>3</td><td>4</td><td>5</td><td>6</td><td>7</td><td>8</td><td>9</td><td>10</td><td>11</td><td>12</td><td>13</td><td>14</td><td>15</td><td>16</td><td>17</td><td>18</td><td>19</td><td>20</td><td>21</td><td>22</td><td>23</td><td>24</td><td>25</td><td>26</td><td>27</td><td>28</td><td>29</td><td>30</td><td>31</td><td>32</td><td>33</td><td>34</td><td>35</td><td>36</td><td>37</td><td>38</td><td>39</td><td>40</td><td>41</td><td>42</td><td>43</td><td>44</td><td>45</td><td>46</td><td>47</td><td>48</td><td>49</td><td>50</td><td>51</td><td>52</td><td>53</td><td>54</td><td>55</td><td>56</td><td>57</td><td>58</td><td>59</td><td>60</td><td>61</td><td>62</td><td>63</td><td>64</td><td>65</td><td>66</td><td>67</td><td>68</td><td>69</td><td>70</td><td>71</td><td>72</td><td>73</td><td>74</td><td>75</td><td>76</td><td>77</td><td>78</td><td>79</td><td>80</td><td>81</td><td>82</td><td>83</td><td>84</td><td>85</td><td>86</td><td>87</td><td>88</td><td>89</td><td>90</td><td>91</td><td>92</td><td>93</td><td>94</td><td>95</td><td>96</td><td>97</td><td>98</td><td>99</td><td>100</td><td>101</td><td>102</td><td>103</td><td>104</td><td>105</td><td>106</td><td>107</td><td>108</td><td>109</td><td>110</td><td>111</td><td>112</td><td>113</td><td>114</td><td>115</td><td>116</td><td>117</td><td>118</td><td>119</td><td>120</td><td>121</td><td>122</td><td>123</td><td>124</td><td>125</td><td>126</td><td>127</td><td>128</td><td>129</td><td>130</td><td>131</td><td>132</td><td>133</td><td>134</td><td>135</td><td>136</td><td>137</td><td>138</td><td>139</td><td>140</td><td>141</td><td>142</td><td>143</td><td>144</td><td>145</td><td>146</td><td>147</td><td>148</td><td>149</td><td>150</td><td>151</td><td>152</td><td>153</td><td>154</td><td>155</td><td>156</td><td>157</td><td>158</td><td>159</td><td>160</td><td>161</td></tr><tr><td>162</td><td>243</td><td>324</td><td>405</td><td>486</td><td>567</td><td>648</td><td>729</td><td>810</td><td>891</td><td>972</td><td>1053</td><td>1134</td><td>1215</td><td>1296</td><td>1377</td><td>1458</td><td>1539</td><td>1620</td><td>1701</td><td>1782</td><td>1863</td><td>1944</td><td>2025</td><td>2106</td><td>2187</td><td>2268</td><td>2349</td><td>2430</td><td>2511</td><td>2592</td><td>2673</td><td>2754</td><td>2835</td><td>2916</td><td>2997</td><td>3078</td><td>3159</td><td>3240</td><td>3321</td><td>3402</td><td>3483</td><td>3564</td><td>3645</td><td>3726</td><td>3807</td><td>3888</td><td>3969</td><td>4050</td><td>4131</td><td>4212</td><td>4293</td><td>4374</td><td>4455</td><td>4536</td><td>4617</td><td>4698</td><td>4779</td><td>4860</td><td>4941</td><td>5022</td><td>5103</td><td>5184</td><td>5265</td><td>5346</td><td>5427</td><td>5508</td><td>5589</td><td>5670</td><td>5751</td><td>5832</td><td>5913</td><td>5994</td><td>6075</td><td>6156</td><td>6237</td><td>6318</td><td>6399</td><td>6480</td><td>6561</td><td>6642</td><td>6723</td><td>6804</td><td>6885</td><td>6966</td><td>7047</td><td>7128</td><td>7209</td><td>7290</td><td>7371</td><td>7452</td><td>7533</td><td>7614</td><td>7695</td><td>7776</td><td>7857</td><td>7938</td><td>8019</td><td>8100</td><td>8181</td><td>8262</td><td>8343</td><td>8424</td><td>8505</td><td>8586</td><td>8667</td><td>8748</td><td>8829</td><td>8910</td><td>8991</td><td>9072</td><td>9153</td><td>9234</td><td>9315</td><td>9396</td><td>9477</td><td>9558</td><td>9639</td><td>9720</td><td>9801</td><td>9882</td><td>9963</td><td>10044</td><td>10125</td><td>10206</td><td>10287</td><td>10368</td><td>10449</td><td>10530</td><td>10611</td><td>10692</td><td>10773</td><td>10854</td><td>10935</td><td>11016</td><td>11097</td><td>11178</td><td>11259</td><td>11340</td><td>11421</td><td>11502</td><td>11583</td><td>11664</td><td>11745</td><td>11826</td><td>11907</td><td>11988</td><td>12069</td><td>12150</td><td>12231</td><td>12312</td><td>12393</td><td>12474</td><td>12555</td><td>12636</td><td>12717</td><td>12798</td><td>12879</td><td>12960</td><td>13041</td></tr></table>"
      ],
      "text/plain": [
       "<IPython.core.display.HTML object>"
      ]
     },
     "metadata": {},
     "output_type": "display_data"
    },
    {
     "name": "stdout",
     "output_type": "stream",
     "text": [
      "When p = 163 triangular = 13366 and partial triangular = 82\n"
     ]
    },
    {
     "data": {
      "text/html": [
       "<table><tr><td>2</td><td>2</td><td>3</td><td>3</td><td>4</td><td>4</td><td>5</td><td>5</td><td>6</td><td>6</td><td>7</td><td>7</td><td>8</td><td>8</td><td>9</td><td>9</td><td>10</td><td>10</td><td>11</td><td>11</td><td>12</td><td>12</td><td>13</td><td>13</td><td>14</td><td>14</td><td>15</td><td>15</td><td>16</td><td>16</td><td>17</td><td>17</td><td>18</td><td>18</td><td>19</td><td>19</td><td>20</td><td>20</td><td>21</td><td>21</td><td>22</td><td>22</td><td>23</td><td>23</td><td>24</td><td>24</td><td>25</td><td>25</td><td>26</td><td>26</td><td>27</td><td>27</td><td>28</td><td>28</td><td>29</td><td>29</td><td>30</td><td>30</td><td>31</td><td>31</td><td>32</td><td>32</td><td>33</td><td>33</td><td>34</td><td>34</td><td>35</td><td>35</td><td>36</td><td>36</td><td>37</td><td>37</td><td>38</td><td>38</td><td>39</td><td>39</td><td>40</td><td>40</td><td>41</td><td>41</td><td>42</td><td>42</td><td>43</td><td>43</td><td>44</td><td>44</td><td>45</td><td>45</td><td>46</td><td>46</td><td>47</td><td>47</td><td>48</td><td>48</td><td>49</td><td>49</td><td>50</td><td>50</td><td>51</td><td>51</td><td>52</td><td>52</td><td>53</td><td>53</td><td>54</td><td>54</td><td>55</td><td>55</td><td>56</td><td>56</td><td>57</td><td>57</td><td>58</td><td>58</td><td>59</td><td>59</td><td>60</td><td>60</td><td>61</td><td>61</td><td>62</td><td>62</td><td>63</td><td>63</td><td>64</td><td>64</td><td>65</td><td>65</td><td>66</td><td>66</td><td>67</td><td>67</td><td>68</td><td>68</td><td>69</td><td>69</td><td>70</td><td>70</td><td>71</td><td>71</td><td>72</td><td>72</td><td>73</td><td>73</td><td>74</td><td>74</td><td>75</td><td>75</td><td>76</td><td>76</td><td>77</td><td>77</td><td>78</td><td>78</td><td>79</td><td>79</td><td>80</td><td>80</td><td>81</td><td>81</td><td>82</td><td>82</td></tr><tr><td>326</td><td>326</td><td>489</td><td>489</td><td>652</td><td>652</td><td>815</td><td>815</td><td>978</td><td>978</td><td>1141</td><td>1141</td><td>1304</td><td>1304</td><td>1467</td><td>1467</td><td>1630</td><td>1630</td><td>1793</td><td>1793</td><td>1956</td><td>1956</td><td>2119</td><td>2119</td><td>2282</td><td>2282</td><td>2445</td><td>2445</td><td>2608</td><td>2608</td><td>2771</td><td>2771</td><td>2934</td><td>2934</td><td>3097</td><td>3097</td><td>3260</td><td>3260</td><td>3423</td><td>3423</td><td>3586</td><td>3586</td><td>3749</td><td>3749</td><td>3912</td><td>3912</td><td>4075</td><td>4075</td><td>4238</td><td>4238</td><td>4401</td><td>4401</td><td>4564</td><td>4564</td><td>4727</td><td>4727</td><td>4890</td><td>4890</td><td>5053</td><td>5053</td><td>5216</td><td>5216</td><td>5379</td><td>5379</td><td>5542</td><td>5542</td><td>5705</td><td>5705</td><td>5868</td><td>5868</td><td>6031</td><td>6031</td><td>6194</td><td>6194</td><td>6357</td><td>6357</td><td>6520</td><td>6520</td><td>6683</td><td>6683</td><td>6846</td><td>6846</td><td>7009</td><td>7009</td><td>7172</td><td>7172</td><td>7335</td><td>7335</td><td>7498</td><td>7498</td><td>7661</td><td>7661</td><td>7824</td><td>7824</td><td>7987</td><td>7987</td><td>8150</td><td>8150</td><td>8313</td><td>8313</td><td>8476</td><td>8476</td><td>8639</td><td>8639</td><td>8802</td><td>8802</td><td>8965</td><td>8965</td><td>9128</td><td>9128</td><td>9291</td><td>9291</td><td>9454</td><td>9454</td><td>9617</td><td>9617</td><td>9780</td><td>9780</td><td>9943</td><td>9943</td><td>10106</td><td>10106</td><td>10269</td><td>10269</td><td>10432</td><td>10432</td><td>10595</td><td>10595</td><td>10758</td><td>10758</td><td>10921</td><td>10921</td><td>11084</td><td>11084</td><td>11247</td><td>11247</td><td>11410</td><td>11410</td><td>11573</td><td>11573</td><td>11736</td><td>11736</td><td>11899</td><td>11899</td><td>12062</td><td>12062</td><td>12225</td><td>12225</td><td>12388</td><td>12388</td><td>12551</td><td>12551</td><td>12714</td><td>12714</td><td>12877</td><td>12877</td><td>13040</td><td>13040</td><td>13203</td><td>13203</td><td>13366</td><td>13366</td></tr><tr><td>2</td><td>3</td><td>4</td><td>5</td><td>6</td><td>7</td><td>8</td><td>9</td><td>10</td><td>11</td><td>12</td><td>13</td><td>14</td><td>15</td><td>16</td><td>17</td><td>18</td><td>19</td><td>20</td><td>21</td><td>22</td><td>23</td><td>24</td><td>25</td><td>26</td><td>27</td><td>28</td><td>29</td><td>30</td><td>31</td><td>32</td><td>33</td><td>34</td><td>35</td><td>36</td><td>37</td><td>38</td><td>39</td><td>40</td><td>41</td><td>42</td><td>43</td><td>44</td><td>45</td><td>46</td><td>47</td><td>48</td><td>49</td><td>50</td><td>51</td><td>52</td><td>53</td><td>54</td><td>55</td><td>56</td><td>57</td><td>58</td><td>59</td><td>60</td><td>61</td><td>62</td><td>63</td><td>64</td><td>65</td><td>66</td><td>67</td><td>68</td><td>69</td><td>70</td><td>71</td><td>72</td><td>73</td><td>74</td><td>75</td><td>76</td><td>77</td><td>78</td><td>79</td><td>80</td><td>81</td><td>82</td><td>83</td><td>84</td><td>85</td><td>86</td><td>87</td><td>88</td><td>89</td><td>90</td><td>91</td><td>92</td><td>93</td><td>94</td><td>95</td><td>96</td><td>97</td><td>98</td><td>99</td><td>100</td><td>101</td><td>102</td><td>103</td><td>104</td><td>105</td><td>106</td><td>107</td><td>108</td><td>109</td><td>110</td><td>111</td><td>112</td><td>113</td><td>114</td><td>115</td><td>116</td><td>117</td><td>118</td><td>119</td><td>120</td><td>121</td><td>122</td><td>123</td><td>124</td><td>125</td><td>126</td><td>127</td><td>128</td><td>129</td><td>130</td><td>131</td><td>132</td><td>133</td><td>134</td><td>135</td><td>136</td><td>137</td><td>138</td><td>139</td><td>140</td><td>141</td><td>142</td><td>143</td><td>144</td><td>145</td><td>146</td><td>147</td><td>148</td><td>149</td><td>150</td><td>151</td><td>152</td><td>153</td><td>154</td><td>155</td><td>156</td><td>157</td><td>158</td><td>159</td><td>160</td><td>161</td><td>162</td><td>163</td></tr><tr><td>164</td><td>246</td><td>328</td><td>410</td><td>492</td><td>574</td><td>656</td><td>738</td><td>820</td><td>902</td><td>984</td><td>1066</td><td>1148</td><td>1230</td><td>1312</td><td>1394</td><td>1476</td><td>1558</td><td>1640</td><td>1722</td><td>1804</td><td>1886</td><td>1968</td><td>2050</td><td>2132</td><td>2214</td><td>2296</td><td>2378</td><td>2460</td><td>2542</td><td>2624</td><td>2706</td><td>2788</td><td>2870</td><td>2952</td><td>3034</td><td>3116</td><td>3198</td><td>3280</td><td>3362</td><td>3444</td><td>3526</td><td>3608</td><td>3690</td><td>3772</td><td>3854</td><td>3936</td><td>4018</td><td>4100</td><td>4182</td><td>4264</td><td>4346</td><td>4428</td><td>4510</td><td>4592</td><td>4674</td><td>4756</td><td>4838</td><td>4920</td><td>5002</td><td>5084</td><td>5166</td><td>5248</td><td>5330</td><td>5412</td><td>5494</td><td>5576</td><td>5658</td><td>5740</td><td>5822</td><td>5904</td><td>5986</td><td>6068</td><td>6150</td><td>6232</td><td>6314</td><td>6396</td><td>6478</td><td>6560</td><td>6642</td><td>6724</td><td>6806</td><td>6888</td><td>6970</td><td>7052</td><td>7134</td><td>7216</td><td>7298</td><td>7380</td><td>7462</td><td>7544</td><td>7626</td><td>7708</td><td>7790</td><td>7872</td><td>7954</td><td>8036</td><td>8118</td><td>8200</td><td>8282</td><td>8364</td><td>8446</td><td>8528</td><td>8610</td><td>8692</td><td>8774</td><td>8856</td><td>8938</td><td>9020</td><td>9102</td><td>9184</td><td>9266</td><td>9348</td><td>9430</td><td>9512</td><td>9594</td><td>9676</td><td>9758</td><td>9840</td><td>9922</td><td>10004</td><td>10086</td><td>10168</td><td>10250</td><td>10332</td><td>10414</td><td>10496</td><td>10578</td><td>10660</td><td>10742</td><td>10824</td><td>10906</td><td>10988</td><td>11070</td><td>11152</td><td>11234</td><td>11316</td><td>11398</td><td>11480</td><td>11562</td><td>11644</td><td>11726</td><td>11808</td><td>11890</td><td>11972</td><td>12054</td><td>12136</td><td>12218</td><td>12300</td><td>12382</td><td>12464</td><td>12546</td><td>12628</td><td>12710</td><td>12792</td><td>12874</td><td>12956</td><td>13038</td><td>13120</td><td>13202</td><td>13284</td><td>13366</td></tr></table>"
      ],
      "text/plain": [
       "<IPython.core.display.HTML object>"
      ]
     },
     "metadata": {},
     "output_type": "display_data"
    },
    {
     "name": "stdout",
     "output_type": "stream",
     "text": [
      "When p = 165 triangular = 13695 and partial triangular = 83\n"
     ]
    },
    {
     "data": {
      "text/html": [
       "<table><tr><td>2</td><td>2</td><td>3</td><td>3</td><td>4</td><td>4</td><td>5</td><td>5</td><td>6</td><td>6</td><td>7</td><td>7</td><td>8</td><td>8</td><td>9</td><td>9</td><td>10</td><td>10</td><td>11</td><td>11</td><td>12</td><td>12</td><td>13</td><td>13</td><td>14</td><td>14</td><td>15</td><td>15</td><td>16</td><td>16</td><td>17</td><td>17</td><td>18</td><td>18</td><td>19</td><td>19</td><td>20</td><td>20</td><td>21</td><td>21</td><td>22</td><td>22</td><td>23</td><td>23</td><td>24</td><td>24</td><td>25</td><td>25</td><td>26</td><td>26</td><td>27</td><td>27</td><td>28</td><td>28</td><td>29</td><td>29</td><td>30</td><td>30</td><td>31</td><td>31</td><td>32</td><td>32</td><td>33</td><td>33</td><td>34</td><td>34</td><td>35</td><td>35</td><td>36</td><td>36</td><td>37</td><td>37</td><td>38</td><td>38</td><td>39</td><td>39</td><td>40</td><td>40</td><td>41</td><td>41</td><td>42</td><td>42</td><td>43</td><td>43</td><td>44</td><td>44</td><td>45</td><td>45</td><td>46</td><td>46</td><td>47</td><td>47</td><td>48</td><td>48</td><td>49</td><td>49</td><td>50</td><td>50</td><td>51</td><td>51</td><td>52</td><td>52</td><td>53</td><td>53</td><td>54</td><td>54</td><td>55</td><td>55</td><td>56</td><td>56</td><td>57</td><td>57</td><td>58</td><td>58</td><td>59</td><td>59</td><td>60</td><td>60</td><td>61</td><td>61</td><td>62</td><td>62</td><td>63</td><td>63</td><td>64</td><td>64</td><td>65</td><td>65</td><td>66</td><td>66</td><td>67</td><td>67</td><td>68</td><td>68</td><td>69</td><td>69</td><td>70</td><td>70</td><td>71</td><td>71</td><td>72</td><td>72</td><td>73</td><td>73</td><td>74</td><td>74</td><td>75</td><td>75</td><td>76</td><td>76</td><td>77</td><td>77</td><td>78</td><td>78</td><td>79</td><td>79</td><td>80</td><td>80</td><td>81</td><td>81</td><td>82</td><td>82</td><td>83</td><td>83</td></tr><tr><td>330</td><td>330</td><td>495</td><td>495</td><td>660</td><td>660</td><td>825</td><td>825</td><td>990</td><td>990</td><td>1155</td><td>1155</td><td>1320</td><td>1320</td><td>1485</td><td>1485</td><td>1650</td><td>1650</td><td>1815</td><td>1815</td><td>1980</td><td>1980</td><td>2145</td><td>2145</td><td>2310</td><td>2310</td><td>2475</td><td>2475</td><td>2640</td><td>2640</td><td>2805</td><td>2805</td><td>2970</td><td>2970</td><td>3135</td><td>3135</td><td>3300</td><td>3300</td><td>3465</td><td>3465</td><td>3630</td><td>3630</td><td>3795</td><td>3795</td><td>3960</td><td>3960</td><td>4125</td><td>4125</td><td>4290</td><td>4290</td><td>4455</td><td>4455</td><td>4620</td><td>4620</td><td>4785</td><td>4785</td><td>4950</td><td>4950</td><td>5115</td><td>5115</td><td>5280</td><td>5280</td><td>5445</td><td>5445</td><td>5610</td><td>5610</td><td>5775</td><td>5775</td><td>5940</td><td>5940</td><td>6105</td><td>6105</td><td>6270</td><td>6270</td><td>6435</td><td>6435</td><td>6600</td><td>6600</td><td>6765</td><td>6765</td><td>6930</td><td>6930</td><td>7095</td><td>7095</td><td>7260</td><td>7260</td><td>7425</td><td>7425</td><td>7590</td><td>7590</td><td>7755</td><td>7755</td><td>7920</td><td>7920</td><td>8085</td><td>8085</td><td>8250</td><td>8250</td><td>8415</td><td>8415</td><td>8580</td><td>8580</td><td>8745</td><td>8745</td><td>8910</td><td>8910</td><td>9075</td><td>9075</td><td>9240</td><td>9240</td><td>9405</td><td>9405</td><td>9570</td><td>9570</td><td>9735</td><td>9735</td><td>9900</td><td>9900</td><td>10065</td><td>10065</td><td>10230</td><td>10230</td><td>10395</td><td>10395</td><td>10560</td><td>10560</td><td>10725</td><td>10725</td><td>10890</td><td>10890</td><td>11055</td><td>11055</td><td>11220</td><td>11220</td><td>11385</td><td>11385</td><td>11550</td><td>11550</td><td>11715</td><td>11715</td><td>11880</td><td>11880</td><td>12045</td><td>12045</td><td>12210</td><td>12210</td><td>12375</td><td>12375</td><td>12540</td><td>12540</td><td>12705</td><td>12705</td><td>12870</td><td>12870</td><td>13035</td><td>13035</td><td>13200</td><td>13200</td><td>13365</td><td>13365</td><td>13530</td><td>13530</td><td>13695</td><td>13695</td></tr><tr><td>2</td><td>3</td><td>4</td><td>5</td><td>6</td><td>7</td><td>8</td><td>9</td><td>10</td><td>11</td><td>12</td><td>13</td><td>14</td><td>15</td><td>16</td><td>17</td><td>18</td><td>19</td><td>20</td><td>21</td><td>22</td><td>23</td><td>24</td><td>25</td><td>26</td><td>27</td><td>28</td><td>29</td><td>30</td><td>31</td><td>32</td><td>33</td><td>34</td><td>35</td><td>36</td><td>37</td><td>38</td><td>39</td><td>40</td><td>41</td><td>42</td><td>43</td><td>44</td><td>45</td><td>46</td><td>47</td><td>48</td><td>49</td><td>50</td><td>51</td><td>52</td><td>53</td><td>54</td><td>55</td><td>56</td><td>57</td><td>58</td><td>59</td><td>60</td><td>61</td><td>62</td><td>63</td><td>64</td><td>65</td><td>66</td><td>67</td><td>68</td><td>69</td><td>70</td><td>71</td><td>72</td><td>73</td><td>74</td><td>75</td><td>76</td><td>77</td><td>78</td><td>79</td><td>80</td><td>81</td><td>82</td><td>83</td><td>84</td><td>85</td><td>86</td><td>87</td><td>88</td><td>89</td><td>90</td><td>91</td><td>92</td><td>93</td><td>94</td><td>95</td><td>96</td><td>97</td><td>98</td><td>99</td><td>100</td><td>101</td><td>102</td><td>103</td><td>104</td><td>105</td><td>106</td><td>107</td><td>108</td><td>109</td><td>110</td><td>111</td><td>112</td><td>113</td><td>114</td><td>115</td><td>116</td><td>117</td><td>118</td><td>119</td><td>120</td><td>121</td><td>122</td><td>123</td><td>124</td><td>125</td><td>126</td><td>127</td><td>128</td><td>129</td><td>130</td><td>131</td><td>132</td><td>133</td><td>134</td><td>135</td><td>136</td><td>137</td><td>138</td><td>139</td><td>140</td><td>141</td><td>142</td><td>143</td><td>144</td><td>145</td><td>146</td><td>147</td><td>148</td><td>149</td><td>150</td><td>151</td><td>152</td><td>153</td><td>154</td><td>155</td><td>156</td><td>157</td><td>158</td><td>159</td><td>160</td><td>161</td><td>162</td><td>163</td><td>164</td><td>165</td></tr><tr><td>166</td><td>249</td><td>332</td><td>415</td><td>498</td><td>581</td><td>664</td><td>747</td><td>830</td><td>913</td><td>996</td><td>1079</td><td>1162</td><td>1245</td><td>1328</td><td>1411</td><td>1494</td><td>1577</td><td>1660</td><td>1743</td><td>1826</td><td>1909</td><td>1992</td><td>2075</td><td>2158</td><td>2241</td><td>2324</td><td>2407</td><td>2490</td><td>2573</td><td>2656</td><td>2739</td><td>2822</td><td>2905</td><td>2988</td><td>3071</td><td>3154</td><td>3237</td><td>3320</td><td>3403</td><td>3486</td><td>3569</td><td>3652</td><td>3735</td><td>3818</td><td>3901</td><td>3984</td><td>4067</td><td>4150</td><td>4233</td><td>4316</td><td>4399</td><td>4482</td><td>4565</td><td>4648</td><td>4731</td><td>4814</td><td>4897</td><td>4980</td><td>5063</td><td>5146</td><td>5229</td><td>5312</td><td>5395</td><td>5478</td><td>5561</td><td>5644</td><td>5727</td><td>5810</td><td>5893</td><td>5976</td><td>6059</td><td>6142</td><td>6225</td><td>6308</td><td>6391</td><td>6474</td><td>6557</td><td>6640</td><td>6723</td><td>6806</td><td>6889</td><td>6972</td><td>7055</td><td>7138</td><td>7221</td><td>7304</td><td>7387</td><td>7470</td><td>7553</td><td>7636</td><td>7719</td><td>7802</td><td>7885</td><td>7968</td><td>8051</td><td>8134</td><td>8217</td><td>8300</td><td>8383</td><td>8466</td><td>8549</td><td>8632</td><td>8715</td><td>8798</td><td>8881</td><td>8964</td><td>9047</td><td>9130</td><td>9213</td><td>9296</td><td>9379</td><td>9462</td><td>9545</td><td>9628</td><td>9711</td><td>9794</td><td>9877</td><td>9960</td><td>10043</td><td>10126</td><td>10209</td><td>10292</td><td>10375</td><td>10458</td><td>10541</td><td>10624</td><td>10707</td><td>10790</td><td>10873</td><td>10956</td><td>11039</td><td>11122</td><td>11205</td><td>11288</td><td>11371</td><td>11454</td><td>11537</td><td>11620</td><td>11703</td><td>11786</td><td>11869</td><td>11952</td><td>12035</td><td>12118</td><td>12201</td><td>12284</td><td>12367</td><td>12450</td><td>12533</td><td>12616</td><td>12699</td><td>12782</td><td>12865</td><td>12948</td><td>13031</td><td>13114</td><td>13197</td><td>13280</td><td>13363</td><td>13446</td><td>13529</td><td>13612</td><td>13695</td></tr></table>"
      ],
      "text/plain": [
       "<IPython.core.display.HTML object>"
      ]
     },
     "metadata": {},
     "output_type": "display_data"
    },
    {
     "name": "stdout",
     "output_type": "stream",
     "text": [
      "When p = 167 triangular = 14028 and partial triangular = 84\n"
     ]
    },
    {
     "data": {
      "text/html": [
       "<table><tr><td>2</td><td>2</td><td>3</td><td>3</td><td>4</td><td>4</td><td>5</td><td>5</td><td>6</td><td>6</td><td>7</td><td>7</td><td>8</td><td>8</td><td>9</td><td>9</td><td>10</td><td>10</td><td>11</td><td>11</td><td>12</td><td>12</td><td>13</td><td>13</td><td>14</td><td>14</td><td>15</td><td>15</td><td>16</td><td>16</td><td>17</td><td>17</td><td>18</td><td>18</td><td>19</td><td>19</td><td>20</td><td>20</td><td>21</td><td>21</td><td>22</td><td>22</td><td>23</td><td>23</td><td>24</td><td>24</td><td>25</td><td>25</td><td>26</td><td>26</td><td>27</td><td>27</td><td>28</td><td>28</td><td>29</td><td>29</td><td>30</td><td>30</td><td>31</td><td>31</td><td>32</td><td>32</td><td>33</td><td>33</td><td>34</td><td>34</td><td>35</td><td>35</td><td>36</td><td>36</td><td>37</td><td>37</td><td>38</td><td>38</td><td>39</td><td>39</td><td>40</td><td>40</td><td>41</td><td>41</td><td>42</td><td>42</td><td>43</td><td>43</td><td>44</td><td>44</td><td>45</td><td>45</td><td>46</td><td>46</td><td>47</td><td>47</td><td>48</td><td>48</td><td>49</td><td>49</td><td>50</td><td>50</td><td>51</td><td>51</td><td>52</td><td>52</td><td>53</td><td>53</td><td>54</td><td>54</td><td>55</td><td>55</td><td>56</td><td>56</td><td>57</td><td>57</td><td>58</td><td>58</td><td>59</td><td>59</td><td>60</td><td>60</td><td>61</td><td>61</td><td>62</td><td>62</td><td>63</td><td>63</td><td>64</td><td>64</td><td>65</td><td>65</td><td>66</td><td>66</td><td>67</td><td>67</td><td>68</td><td>68</td><td>69</td><td>69</td><td>70</td><td>70</td><td>71</td><td>71</td><td>72</td><td>72</td><td>73</td><td>73</td><td>74</td><td>74</td><td>75</td><td>75</td><td>76</td><td>76</td><td>77</td><td>77</td><td>78</td><td>78</td><td>79</td><td>79</td><td>80</td><td>80</td><td>81</td><td>81</td><td>82</td><td>82</td><td>83</td><td>83</td><td>84</td><td>84</td></tr><tr><td>334</td><td>334</td><td>501</td><td>501</td><td>668</td><td>668</td><td>835</td><td>835</td><td>1002</td><td>1002</td><td>1169</td><td>1169</td><td>1336</td><td>1336</td><td>1503</td><td>1503</td><td>1670</td><td>1670</td><td>1837</td><td>1837</td><td>2004</td><td>2004</td><td>2171</td><td>2171</td><td>2338</td><td>2338</td><td>2505</td><td>2505</td><td>2672</td><td>2672</td><td>2839</td><td>2839</td><td>3006</td><td>3006</td><td>3173</td><td>3173</td><td>3340</td><td>3340</td><td>3507</td><td>3507</td><td>3674</td><td>3674</td><td>3841</td><td>3841</td><td>4008</td><td>4008</td><td>4175</td><td>4175</td><td>4342</td><td>4342</td><td>4509</td><td>4509</td><td>4676</td><td>4676</td><td>4843</td><td>4843</td><td>5010</td><td>5010</td><td>5177</td><td>5177</td><td>5344</td><td>5344</td><td>5511</td><td>5511</td><td>5678</td><td>5678</td><td>5845</td><td>5845</td><td>6012</td><td>6012</td><td>6179</td><td>6179</td><td>6346</td><td>6346</td><td>6513</td><td>6513</td><td>6680</td><td>6680</td><td>6847</td><td>6847</td><td>7014</td><td>7014</td><td>7181</td><td>7181</td><td>7348</td><td>7348</td><td>7515</td><td>7515</td><td>7682</td><td>7682</td><td>7849</td><td>7849</td><td>8016</td><td>8016</td><td>8183</td><td>8183</td><td>8350</td><td>8350</td><td>8517</td><td>8517</td><td>8684</td><td>8684</td><td>8851</td><td>8851</td><td>9018</td><td>9018</td><td>9185</td><td>9185</td><td>9352</td><td>9352</td><td>9519</td><td>9519</td><td>9686</td><td>9686</td><td>9853</td><td>9853</td><td>10020</td><td>10020</td><td>10187</td><td>10187</td><td>10354</td><td>10354</td><td>10521</td><td>10521</td><td>10688</td><td>10688</td><td>10855</td><td>10855</td><td>11022</td><td>11022</td><td>11189</td><td>11189</td><td>11356</td><td>11356</td><td>11523</td><td>11523</td><td>11690</td><td>11690</td><td>11857</td><td>11857</td><td>12024</td><td>12024</td><td>12191</td><td>12191</td><td>12358</td><td>12358</td><td>12525</td><td>12525</td><td>12692</td><td>12692</td><td>12859</td><td>12859</td><td>13026</td><td>13026</td><td>13193</td><td>13193</td><td>13360</td><td>13360</td><td>13527</td><td>13527</td><td>13694</td><td>13694</td><td>13861</td><td>13861</td><td>14028</td><td>14028</td></tr><tr><td>2</td><td>3</td><td>4</td><td>5</td><td>6</td><td>7</td><td>8</td><td>9</td><td>10</td><td>11</td><td>12</td><td>13</td><td>14</td><td>15</td><td>16</td><td>17</td><td>18</td><td>19</td><td>20</td><td>21</td><td>22</td><td>23</td><td>24</td><td>25</td><td>26</td><td>27</td><td>28</td><td>29</td><td>30</td><td>31</td><td>32</td><td>33</td><td>34</td><td>35</td><td>36</td><td>37</td><td>38</td><td>39</td><td>40</td><td>41</td><td>42</td><td>43</td><td>44</td><td>45</td><td>46</td><td>47</td><td>48</td><td>49</td><td>50</td><td>51</td><td>52</td><td>53</td><td>54</td><td>55</td><td>56</td><td>57</td><td>58</td><td>59</td><td>60</td><td>61</td><td>62</td><td>63</td><td>64</td><td>65</td><td>66</td><td>67</td><td>68</td><td>69</td><td>70</td><td>71</td><td>72</td><td>73</td><td>74</td><td>75</td><td>76</td><td>77</td><td>78</td><td>79</td><td>80</td><td>81</td><td>82</td><td>83</td><td>84</td><td>85</td><td>86</td><td>87</td><td>88</td><td>89</td><td>90</td><td>91</td><td>92</td><td>93</td><td>94</td><td>95</td><td>96</td><td>97</td><td>98</td><td>99</td><td>100</td><td>101</td><td>102</td><td>103</td><td>104</td><td>105</td><td>106</td><td>107</td><td>108</td><td>109</td><td>110</td><td>111</td><td>112</td><td>113</td><td>114</td><td>115</td><td>116</td><td>117</td><td>118</td><td>119</td><td>120</td><td>121</td><td>122</td><td>123</td><td>124</td><td>125</td><td>126</td><td>127</td><td>128</td><td>129</td><td>130</td><td>131</td><td>132</td><td>133</td><td>134</td><td>135</td><td>136</td><td>137</td><td>138</td><td>139</td><td>140</td><td>141</td><td>142</td><td>143</td><td>144</td><td>145</td><td>146</td><td>147</td><td>148</td><td>149</td><td>150</td><td>151</td><td>152</td><td>153</td><td>154</td><td>155</td><td>156</td><td>157</td><td>158</td><td>159</td><td>160</td><td>161</td><td>162</td><td>163</td><td>164</td><td>165</td><td>166</td><td>167</td></tr><tr><td>168</td><td>252</td><td>336</td><td>420</td><td>504</td><td>588</td><td>672</td><td>756</td><td>840</td><td>924</td><td>1008</td><td>1092</td><td>1176</td><td>1260</td><td>1344</td><td>1428</td><td>1512</td><td>1596</td><td>1680</td><td>1764</td><td>1848</td><td>1932</td><td>2016</td><td>2100</td><td>2184</td><td>2268</td><td>2352</td><td>2436</td><td>2520</td><td>2604</td><td>2688</td><td>2772</td><td>2856</td><td>2940</td><td>3024</td><td>3108</td><td>3192</td><td>3276</td><td>3360</td><td>3444</td><td>3528</td><td>3612</td><td>3696</td><td>3780</td><td>3864</td><td>3948</td><td>4032</td><td>4116</td><td>4200</td><td>4284</td><td>4368</td><td>4452</td><td>4536</td><td>4620</td><td>4704</td><td>4788</td><td>4872</td><td>4956</td><td>5040</td><td>5124</td><td>5208</td><td>5292</td><td>5376</td><td>5460</td><td>5544</td><td>5628</td><td>5712</td><td>5796</td><td>5880</td><td>5964</td><td>6048</td><td>6132</td><td>6216</td><td>6300</td><td>6384</td><td>6468</td><td>6552</td><td>6636</td><td>6720</td><td>6804</td><td>6888</td><td>6972</td><td>7056</td><td>7140</td><td>7224</td><td>7308</td><td>7392</td><td>7476</td><td>7560</td><td>7644</td><td>7728</td><td>7812</td><td>7896</td><td>7980</td><td>8064</td><td>8148</td><td>8232</td><td>8316</td><td>8400</td><td>8484</td><td>8568</td><td>8652</td><td>8736</td><td>8820</td><td>8904</td><td>8988</td><td>9072</td><td>9156</td><td>9240</td><td>9324</td><td>9408</td><td>9492</td><td>9576</td><td>9660</td><td>9744</td><td>9828</td><td>9912</td><td>9996</td><td>10080</td><td>10164</td><td>10248</td><td>10332</td><td>10416</td><td>10500</td><td>10584</td><td>10668</td><td>10752</td><td>10836</td><td>10920</td><td>11004</td><td>11088</td><td>11172</td><td>11256</td><td>11340</td><td>11424</td><td>11508</td><td>11592</td><td>11676</td><td>11760</td><td>11844</td><td>11928</td><td>12012</td><td>12096</td><td>12180</td><td>12264</td><td>12348</td><td>12432</td><td>12516</td><td>12600</td><td>12684</td><td>12768</td><td>12852</td><td>12936</td><td>13020</td><td>13104</td><td>13188</td><td>13272</td><td>13356</td><td>13440</td><td>13524</td><td>13608</td><td>13692</td><td>13776</td><td>13860</td><td>13944</td><td>14028</td></tr></table>"
      ],
      "text/plain": [
       "<IPython.core.display.HTML object>"
      ]
     },
     "metadata": {},
     "output_type": "display_data"
    },
    {
     "name": "stdout",
     "output_type": "stream",
     "text": [
      "When p = 169 triangular = 14365 and partial triangular = 85\n"
     ]
    },
    {
     "data": {
      "text/html": [
       "<table><tr><td>2</td><td>2</td><td>3</td><td>3</td><td>4</td><td>4</td><td>5</td><td>5</td><td>6</td><td>6</td><td>7</td><td>7</td><td>8</td><td>8</td><td>9</td><td>9</td><td>10</td><td>10</td><td>11</td><td>11</td><td>12</td><td>12</td><td>13</td><td>13</td><td>14</td><td>14</td><td>15</td><td>15</td><td>16</td><td>16</td><td>17</td><td>17</td><td>18</td><td>18</td><td>19</td><td>19</td><td>20</td><td>20</td><td>21</td><td>21</td><td>22</td><td>22</td><td>23</td><td>23</td><td>24</td><td>24</td><td>25</td><td>25</td><td>26</td><td>26</td><td>27</td><td>27</td><td>28</td><td>28</td><td>29</td><td>29</td><td>30</td><td>30</td><td>31</td><td>31</td><td>32</td><td>32</td><td>33</td><td>33</td><td>34</td><td>34</td><td>35</td><td>35</td><td>36</td><td>36</td><td>37</td><td>37</td><td>38</td><td>38</td><td>39</td><td>39</td><td>40</td><td>40</td><td>41</td><td>41</td><td>42</td><td>42</td><td>43</td><td>43</td><td>44</td><td>44</td><td>45</td><td>45</td><td>46</td><td>46</td><td>47</td><td>47</td><td>48</td><td>48</td><td>49</td><td>49</td><td>50</td><td>50</td><td>51</td><td>51</td><td>52</td><td>52</td><td>53</td><td>53</td><td>54</td><td>54</td><td>55</td><td>55</td><td>56</td><td>56</td><td>57</td><td>57</td><td>58</td><td>58</td><td>59</td><td>59</td><td>60</td><td>60</td><td>61</td><td>61</td><td>62</td><td>62</td><td>63</td><td>63</td><td>64</td><td>64</td><td>65</td><td>65</td><td>66</td><td>66</td><td>67</td><td>67</td><td>68</td><td>68</td><td>69</td><td>69</td><td>70</td><td>70</td><td>71</td><td>71</td><td>72</td><td>72</td><td>73</td><td>73</td><td>74</td><td>74</td><td>75</td><td>75</td><td>76</td><td>76</td><td>77</td><td>77</td><td>78</td><td>78</td><td>79</td><td>79</td><td>80</td><td>80</td><td>81</td><td>81</td><td>82</td><td>82</td><td>83</td><td>83</td><td>84</td><td>84</td><td>85</td><td>85</td></tr><tr><td>338</td><td>338</td><td>507</td><td>507</td><td>676</td><td>676</td><td>845</td><td>845</td><td>1014</td><td>1014</td><td>1183</td><td>1183</td><td>1352</td><td>1352</td><td>1521</td><td>1521</td><td>1690</td><td>1690</td><td>1859</td><td>1859</td><td>2028</td><td>2028</td><td>2197</td><td>2197</td><td>2366</td><td>2366</td><td>2535</td><td>2535</td><td>2704</td><td>2704</td><td>2873</td><td>2873</td><td>3042</td><td>3042</td><td>3211</td><td>3211</td><td>3380</td><td>3380</td><td>3549</td><td>3549</td><td>3718</td><td>3718</td><td>3887</td><td>3887</td><td>4056</td><td>4056</td><td>4225</td><td>4225</td><td>4394</td><td>4394</td><td>4563</td><td>4563</td><td>4732</td><td>4732</td><td>4901</td><td>4901</td><td>5070</td><td>5070</td><td>5239</td><td>5239</td><td>5408</td><td>5408</td><td>5577</td><td>5577</td><td>5746</td><td>5746</td><td>5915</td><td>5915</td><td>6084</td><td>6084</td><td>6253</td><td>6253</td><td>6422</td><td>6422</td><td>6591</td><td>6591</td><td>6760</td><td>6760</td><td>6929</td><td>6929</td><td>7098</td><td>7098</td><td>7267</td><td>7267</td><td>7436</td><td>7436</td><td>7605</td><td>7605</td><td>7774</td><td>7774</td><td>7943</td><td>7943</td><td>8112</td><td>8112</td><td>8281</td><td>8281</td><td>8450</td><td>8450</td><td>8619</td><td>8619</td><td>8788</td><td>8788</td><td>8957</td><td>8957</td><td>9126</td><td>9126</td><td>9295</td><td>9295</td><td>9464</td><td>9464</td><td>9633</td><td>9633</td><td>9802</td><td>9802</td><td>9971</td><td>9971</td><td>10140</td><td>10140</td><td>10309</td><td>10309</td><td>10478</td><td>10478</td><td>10647</td><td>10647</td><td>10816</td><td>10816</td><td>10985</td><td>10985</td><td>11154</td><td>11154</td><td>11323</td><td>11323</td><td>11492</td><td>11492</td><td>11661</td><td>11661</td><td>11830</td><td>11830</td><td>11999</td><td>11999</td><td>12168</td><td>12168</td><td>12337</td><td>12337</td><td>12506</td><td>12506</td><td>12675</td><td>12675</td><td>12844</td><td>12844</td><td>13013</td><td>13013</td><td>13182</td><td>13182</td><td>13351</td><td>13351</td><td>13520</td><td>13520</td><td>13689</td><td>13689</td><td>13858</td><td>13858</td><td>14027</td><td>14027</td><td>14196</td><td>14196</td><td>14365</td><td>14365</td></tr><tr><td>2</td><td>3</td><td>4</td><td>5</td><td>6</td><td>7</td><td>8</td><td>9</td><td>10</td><td>11</td><td>12</td><td>13</td><td>14</td><td>15</td><td>16</td><td>17</td><td>18</td><td>19</td><td>20</td><td>21</td><td>22</td><td>23</td><td>24</td><td>25</td><td>26</td><td>27</td><td>28</td><td>29</td><td>30</td><td>31</td><td>32</td><td>33</td><td>34</td><td>35</td><td>36</td><td>37</td><td>38</td><td>39</td><td>40</td><td>41</td><td>42</td><td>43</td><td>44</td><td>45</td><td>46</td><td>47</td><td>48</td><td>49</td><td>50</td><td>51</td><td>52</td><td>53</td><td>54</td><td>55</td><td>56</td><td>57</td><td>58</td><td>59</td><td>60</td><td>61</td><td>62</td><td>63</td><td>64</td><td>65</td><td>66</td><td>67</td><td>68</td><td>69</td><td>70</td><td>71</td><td>72</td><td>73</td><td>74</td><td>75</td><td>76</td><td>77</td><td>78</td><td>79</td><td>80</td><td>81</td><td>82</td><td>83</td><td>84</td><td>85</td><td>86</td><td>87</td><td>88</td><td>89</td><td>90</td><td>91</td><td>92</td><td>93</td><td>94</td><td>95</td><td>96</td><td>97</td><td>98</td><td>99</td><td>100</td><td>101</td><td>102</td><td>103</td><td>104</td><td>105</td><td>106</td><td>107</td><td>108</td><td>109</td><td>110</td><td>111</td><td>112</td><td>113</td><td>114</td><td>115</td><td>116</td><td>117</td><td>118</td><td>119</td><td>120</td><td>121</td><td>122</td><td>123</td><td>124</td><td>125</td><td>126</td><td>127</td><td>128</td><td>129</td><td>130</td><td>131</td><td>132</td><td>133</td><td>134</td><td>135</td><td>136</td><td>137</td><td>138</td><td>139</td><td>140</td><td>141</td><td>142</td><td>143</td><td>144</td><td>145</td><td>146</td><td>147</td><td>148</td><td>149</td><td>150</td><td>151</td><td>152</td><td>153</td><td>154</td><td>155</td><td>156</td><td>157</td><td>158</td><td>159</td><td>160</td><td>161</td><td>162</td><td>163</td><td>164</td><td>165</td><td>166</td><td>167</td><td>168</td><td>169</td></tr><tr><td>170</td><td>255</td><td>340</td><td>425</td><td>510</td><td>595</td><td>680</td><td>765</td><td>850</td><td>935</td><td>1020</td><td>1105</td><td>1190</td><td>1275</td><td>1360</td><td>1445</td><td>1530</td><td>1615</td><td>1700</td><td>1785</td><td>1870</td><td>1955</td><td>2040</td><td>2125</td><td>2210</td><td>2295</td><td>2380</td><td>2465</td><td>2550</td><td>2635</td><td>2720</td><td>2805</td><td>2890</td><td>2975</td><td>3060</td><td>3145</td><td>3230</td><td>3315</td><td>3400</td><td>3485</td><td>3570</td><td>3655</td><td>3740</td><td>3825</td><td>3910</td><td>3995</td><td>4080</td><td>4165</td><td>4250</td><td>4335</td><td>4420</td><td>4505</td><td>4590</td><td>4675</td><td>4760</td><td>4845</td><td>4930</td><td>5015</td><td>5100</td><td>5185</td><td>5270</td><td>5355</td><td>5440</td><td>5525</td><td>5610</td><td>5695</td><td>5780</td><td>5865</td><td>5950</td><td>6035</td><td>6120</td><td>6205</td><td>6290</td><td>6375</td><td>6460</td><td>6545</td><td>6630</td><td>6715</td><td>6800</td><td>6885</td><td>6970</td><td>7055</td><td>7140</td><td>7225</td><td>7310</td><td>7395</td><td>7480</td><td>7565</td><td>7650</td><td>7735</td><td>7820</td><td>7905</td><td>7990</td><td>8075</td><td>8160</td><td>8245</td><td>8330</td><td>8415</td><td>8500</td><td>8585</td><td>8670</td><td>8755</td><td>8840</td><td>8925</td><td>9010</td><td>9095</td><td>9180</td><td>9265</td><td>9350</td><td>9435</td><td>9520</td><td>9605</td><td>9690</td><td>9775</td><td>9860</td><td>9945</td><td>10030</td><td>10115</td><td>10200</td><td>10285</td><td>10370</td><td>10455</td><td>10540</td><td>10625</td><td>10710</td><td>10795</td><td>10880</td><td>10965</td><td>11050</td><td>11135</td><td>11220</td><td>11305</td><td>11390</td><td>11475</td><td>11560</td><td>11645</td><td>11730</td><td>11815</td><td>11900</td><td>11985</td><td>12070</td><td>12155</td><td>12240</td><td>12325</td><td>12410</td><td>12495</td><td>12580</td><td>12665</td><td>12750</td><td>12835</td><td>12920</td><td>13005</td><td>13090</td><td>13175</td><td>13260</td><td>13345</td><td>13430</td><td>13515</td><td>13600</td><td>13685</td><td>13770</td><td>13855</td><td>13940</td><td>14025</td><td>14110</td><td>14195</td><td>14280</td><td>14365</td></tr></table>"
      ],
      "text/plain": [
       "<IPython.core.display.HTML object>"
      ]
     },
     "metadata": {},
     "output_type": "display_data"
    },
    {
     "name": "stdout",
     "output_type": "stream",
     "text": [
      "When p = 171 triangular = 14706 and partial triangular = 86\n"
     ]
    },
    {
     "data": {
      "text/html": [
       "<table><tr><td>2</td><td>2</td><td>3</td><td>3</td><td>4</td><td>4</td><td>5</td><td>5</td><td>6</td><td>6</td><td>7</td><td>7</td><td>8</td><td>8</td><td>9</td><td>9</td><td>10</td><td>10</td><td>11</td><td>11</td><td>12</td><td>12</td><td>13</td><td>13</td><td>14</td><td>14</td><td>15</td><td>15</td><td>16</td><td>16</td><td>17</td><td>17</td><td>18</td><td>18</td><td>19</td><td>19</td><td>20</td><td>20</td><td>21</td><td>21</td><td>22</td><td>22</td><td>23</td><td>23</td><td>24</td><td>24</td><td>25</td><td>25</td><td>26</td><td>26</td><td>27</td><td>27</td><td>28</td><td>28</td><td>29</td><td>29</td><td>30</td><td>30</td><td>31</td><td>31</td><td>32</td><td>32</td><td>33</td><td>33</td><td>34</td><td>34</td><td>35</td><td>35</td><td>36</td><td>36</td><td>37</td><td>37</td><td>38</td><td>38</td><td>39</td><td>39</td><td>40</td><td>40</td><td>41</td><td>41</td><td>42</td><td>42</td><td>43</td><td>43</td><td>44</td><td>44</td><td>45</td><td>45</td><td>46</td><td>46</td><td>47</td><td>47</td><td>48</td><td>48</td><td>49</td><td>49</td><td>50</td><td>50</td><td>51</td><td>51</td><td>52</td><td>52</td><td>53</td><td>53</td><td>54</td><td>54</td><td>55</td><td>55</td><td>56</td><td>56</td><td>57</td><td>57</td><td>58</td><td>58</td><td>59</td><td>59</td><td>60</td><td>60</td><td>61</td><td>61</td><td>62</td><td>62</td><td>63</td><td>63</td><td>64</td><td>64</td><td>65</td><td>65</td><td>66</td><td>66</td><td>67</td><td>67</td><td>68</td><td>68</td><td>69</td><td>69</td><td>70</td><td>70</td><td>71</td><td>71</td><td>72</td><td>72</td><td>73</td><td>73</td><td>74</td><td>74</td><td>75</td><td>75</td><td>76</td><td>76</td><td>77</td><td>77</td><td>78</td><td>78</td><td>79</td><td>79</td><td>80</td><td>80</td><td>81</td><td>81</td><td>82</td><td>82</td><td>83</td><td>83</td><td>84</td><td>84</td><td>85</td><td>85</td><td>86</td><td>86</td></tr><tr><td>342</td><td>342</td><td>513</td><td>513</td><td>684</td><td>684</td><td>855</td><td>855</td><td>1026</td><td>1026</td><td>1197</td><td>1197</td><td>1368</td><td>1368</td><td>1539</td><td>1539</td><td>1710</td><td>1710</td><td>1881</td><td>1881</td><td>2052</td><td>2052</td><td>2223</td><td>2223</td><td>2394</td><td>2394</td><td>2565</td><td>2565</td><td>2736</td><td>2736</td><td>2907</td><td>2907</td><td>3078</td><td>3078</td><td>3249</td><td>3249</td><td>3420</td><td>3420</td><td>3591</td><td>3591</td><td>3762</td><td>3762</td><td>3933</td><td>3933</td><td>4104</td><td>4104</td><td>4275</td><td>4275</td><td>4446</td><td>4446</td><td>4617</td><td>4617</td><td>4788</td><td>4788</td><td>4959</td><td>4959</td><td>5130</td><td>5130</td><td>5301</td><td>5301</td><td>5472</td><td>5472</td><td>5643</td><td>5643</td><td>5814</td><td>5814</td><td>5985</td><td>5985</td><td>6156</td><td>6156</td><td>6327</td><td>6327</td><td>6498</td><td>6498</td><td>6669</td><td>6669</td><td>6840</td><td>6840</td><td>7011</td><td>7011</td><td>7182</td><td>7182</td><td>7353</td><td>7353</td><td>7524</td><td>7524</td><td>7695</td><td>7695</td><td>7866</td><td>7866</td><td>8037</td><td>8037</td><td>8208</td><td>8208</td><td>8379</td><td>8379</td><td>8550</td><td>8550</td><td>8721</td><td>8721</td><td>8892</td><td>8892</td><td>9063</td><td>9063</td><td>9234</td><td>9234</td><td>9405</td><td>9405</td><td>9576</td><td>9576</td><td>9747</td><td>9747</td><td>9918</td><td>9918</td><td>10089</td><td>10089</td><td>10260</td><td>10260</td><td>10431</td><td>10431</td><td>10602</td><td>10602</td><td>10773</td><td>10773</td><td>10944</td><td>10944</td><td>11115</td><td>11115</td><td>11286</td><td>11286</td><td>11457</td><td>11457</td><td>11628</td><td>11628</td><td>11799</td><td>11799</td><td>11970</td><td>11970</td><td>12141</td><td>12141</td><td>12312</td><td>12312</td><td>12483</td><td>12483</td><td>12654</td><td>12654</td><td>12825</td><td>12825</td><td>12996</td><td>12996</td><td>13167</td><td>13167</td><td>13338</td><td>13338</td><td>13509</td><td>13509</td><td>13680</td><td>13680</td><td>13851</td><td>13851</td><td>14022</td><td>14022</td><td>14193</td><td>14193</td><td>14364</td><td>14364</td><td>14535</td><td>14535</td><td>14706</td><td>14706</td></tr><tr><td>2</td><td>3</td><td>4</td><td>5</td><td>6</td><td>7</td><td>8</td><td>9</td><td>10</td><td>11</td><td>12</td><td>13</td><td>14</td><td>15</td><td>16</td><td>17</td><td>18</td><td>19</td><td>20</td><td>21</td><td>22</td><td>23</td><td>24</td><td>25</td><td>26</td><td>27</td><td>28</td><td>29</td><td>30</td><td>31</td><td>32</td><td>33</td><td>34</td><td>35</td><td>36</td><td>37</td><td>38</td><td>39</td><td>40</td><td>41</td><td>42</td><td>43</td><td>44</td><td>45</td><td>46</td><td>47</td><td>48</td><td>49</td><td>50</td><td>51</td><td>52</td><td>53</td><td>54</td><td>55</td><td>56</td><td>57</td><td>58</td><td>59</td><td>60</td><td>61</td><td>62</td><td>63</td><td>64</td><td>65</td><td>66</td><td>67</td><td>68</td><td>69</td><td>70</td><td>71</td><td>72</td><td>73</td><td>74</td><td>75</td><td>76</td><td>77</td><td>78</td><td>79</td><td>80</td><td>81</td><td>82</td><td>83</td><td>84</td><td>85</td><td>86</td><td>87</td><td>88</td><td>89</td><td>90</td><td>91</td><td>92</td><td>93</td><td>94</td><td>95</td><td>96</td><td>97</td><td>98</td><td>99</td><td>100</td><td>101</td><td>102</td><td>103</td><td>104</td><td>105</td><td>106</td><td>107</td><td>108</td><td>109</td><td>110</td><td>111</td><td>112</td><td>113</td><td>114</td><td>115</td><td>116</td><td>117</td><td>118</td><td>119</td><td>120</td><td>121</td><td>122</td><td>123</td><td>124</td><td>125</td><td>126</td><td>127</td><td>128</td><td>129</td><td>130</td><td>131</td><td>132</td><td>133</td><td>134</td><td>135</td><td>136</td><td>137</td><td>138</td><td>139</td><td>140</td><td>141</td><td>142</td><td>143</td><td>144</td><td>145</td><td>146</td><td>147</td><td>148</td><td>149</td><td>150</td><td>151</td><td>152</td><td>153</td><td>154</td><td>155</td><td>156</td><td>157</td><td>158</td><td>159</td><td>160</td><td>161</td><td>162</td><td>163</td><td>164</td><td>165</td><td>166</td><td>167</td><td>168</td><td>169</td><td>170</td><td>171</td></tr><tr><td>172</td><td>258</td><td>344</td><td>430</td><td>516</td><td>602</td><td>688</td><td>774</td><td>860</td><td>946</td><td>1032</td><td>1118</td><td>1204</td><td>1290</td><td>1376</td><td>1462</td><td>1548</td><td>1634</td><td>1720</td><td>1806</td><td>1892</td><td>1978</td><td>2064</td><td>2150</td><td>2236</td><td>2322</td><td>2408</td><td>2494</td><td>2580</td><td>2666</td><td>2752</td><td>2838</td><td>2924</td><td>3010</td><td>3096</td><td>3182</td><td>3268</td><td>3354</td><td>3440</td><td>3526</td><td>3612</td><td>3698</td><td>3784</td><td>3870</td><td>3956</td><td>4042</td><td>4128</td><td>4214</td><td>4300</td><td>4386</td><td>4472</td><td>4558</td><td>4644</td><td>4730</td><td>4816</td><td>4902</td><td>4988</td><td>5074</td><td>5160</td><td>5246</td><td>5332</td><td>5418</td><td>5504</td><td>5590</td><td>5676</td><td>5762</td><td>5848</td><td>5934</td><td>6020</td><td>6106</td><td>6192</td><td>6278</td><td>6364</td><td>6450</td><td>6536</td><td>6622</td><td>6708</td><td>6794</td><td>6880</td><td>6966</td><td>7052</td><td>7138</td><td>7224</td><td>7310</td><td>7396</td><td>7482</td><td>7568</td><td>7654</td><td>7740</td><td>7826</td><td>7912</td><td>7998</td><td>8084</td><td>8170</td><td>8256</td><td>8342</td><td>8428</td><td>8514</td><td>8600</td><td>8686</td><td>8772</td><td>8858</td><td>8944</td><td>9030</td><td>9116</td><td>9202</td><td>9288</td><td>9374</td><td>9460</td><td>9546</td><td>9632</td><td>9718</td><td>9804</td><td>9890</td><td>9976</td><td>10062</td><td>10148</td><td>10234</td><td>10320</td><td>10406</td><td>10492</td><td>10578</td><td>10664</td><td>10750</td><td>10836</td><td>10922</td><td>11008</td><td>11094</td><td>11180</td><td>11266</td><td>11352</td><td>11438</td><td>11524</td><td>11610</td><td>11696</td><td>11782</td><td>11868</td><td>11954</td><td>12040</td><td>12126</td><td>12212</td><td>12298</td><td>12384</td><td>12470</td><td>12556</td><td>12642</td><td>12728</td><td>12814</td><td>12900</td><td>12986</td><td>13072</td><td>13158</td><td>13244</td><td>13330</td><td>13416</td><td>13502</td><td>13588</td><td>13674</td><td>13760</td><td>13846</td><td>13932</td><td>14018</td><td>14104</td><td>14190</td><td>14276</td><td>14362</td><td>14448</td><td>14534</td><td>14620</td><td>14706</td></tr></table>"
      ],
      "text/plain": [
       "<IPython.core.display.HTML object>"
      ]
     },
     "metadata": {},
     "output_type": "display_data"
    },
    {
     "name": "stdout",
     "output_type": "stream",
     "text": [
      "When p = 173 triangular = 15051 and partial triangular = 87\n"
     ]
    },
    {
     "data": {
      "text/html": [
       "<table><tr><td>2</td><td>2</td><td>3</td><td>3</td><td>4</td><td>4</td><td>5</td><td>5</td><td>6</td><td>6</td><td>7</td><td>7</td><td>8</td><td>8</td><td>9</td><td>9</td><td>10</td><td>10</td><td>11</td><td>11</td><td>12</td><td>12</td><td>13</td><td>13</td><td>14</td><td>14</td><td>15</td><td>15</td><td>16</td><td>16</td><td>17</td><td>17</td><td>18</td><td>18</td><td>19</td><td>19</td><td>20</td><td>20</td><td>21</td><td>21</td><td>22</td><td>22</td><td>23</td><td>23</td><td>24</td><td>24</td><td>25</td><td>25</td><td>26</td><td>26</td><td>27</td><td>27</td><td>28</td><td>28</td><td>29</td><td>29</td><td>30</td><td>30</td><td>31</td><td>31</td><td>32</td><td>32</td><td>33</td><td>33</td><td>34</td><td>34</td><td>35</td><td>35</td><td>36</td><td>36</td><td>37</td><td>37</td><td>38</td><td>38</td><td>39</td><td>39</td><td>40</td><td>40</td><td>41</td><td>41</td><td>42</td><td>42</td><td>43</td><td>43</td><td>44</td><td>44</td><td>45</td><td>45</td><td>46</td><td>46</td><td>47</td><td>47</td><td>48</td><td>48</td><td>49</td><td>49</td><td>50</td><td>50</td><td>51</td><td>51</td><td>52</td><td>52</td><td>53</td><td>53</td><td>54</td><td>54</td><td>55</td><td>55</td><td>56</td><td>56</td><td>57</td><td>57</td><td>58</td><td>58</td><td>59</td><td>59</td><td>60</td><td>60</td><td>61</td><td>61</td><td>62</td><td>62</td><td>63</td><td>63</td><td>64</td><td>64</td><td>65</td><td>65</td><td>66</td><td>66</td><td>67</td><td>67</td><td>68</td><td>68</td><td>69</td><td>69</td><td>70</td><td>70</td><td>71</td><td>71</td><td>72</td><td>72</td><td>73</td><td>73</td><td>74</td><td>74</td><td>75</td><td>75</td><td>76</td><td>76</td><td>77</td><td>77</td><td>78</td><td>78</td><td>79</td><td>79</td><td>80</td><td>80</td><td>81</td><td>81</td><td>82</td><td>82</td><td>83</td><td>83</td><td>84</td><td>84</td><td>85</td><td>85</td><td>86</td><td>86</td><td>87</td><td>87</td></tr><tr><td>346</td><td>346</td><td>519</td><td>519</td><td>692</td><td>692</td><td>865</td><td>865</td><td>1038</td><td>1038</td><td>1211</td><td>1211</td><td>1384</td><td>1384</td><td>1557</td><td>1557</td><td>1730</td><td>1730</td><td>1903</td><td>1903</td><td>2076</td><td>2076</td><td>2249</td><td>2249</td><td>2422</td><td>2422</td><td>2595</td><td>2595</td><td>2768</td><td>2768</td><td>2941</td><td>2941</td><td>3114</td><td>3114</td><td>3287</td><td>3287</td><td>3460</td><td>3460</td><td>3633</td><td>3633</td><td>3806</td><td>3806</td><td>3979</td><td>3979</td><td>4152</td><td>4152</td><td>4325</td><td>4325</td><td>4498</td><td>4498</td><td>4671</td><td>4671</td><td>4844</td><td>4844</td><td>5017</td><td>5017</td><td>5190</td><td>5190</td><td>5363</td><td>5363</td><td>5536</td><td>5536</td><td>5709</td><td>5709</td><td>5882</td><td>5882</td><td>6055</td><td>6055</td><td>6228</td><td>6228</td><td>6401</td><td>6401</td><td>6574</td><td>6574</td><td>6747</td><td>6747</td><td>6920</td><td>6920</td><td>7093</td><td>7093</td><td>7266</td><td>7266</td><td>7439</td><td>7439</td><td>7612</td><td>7612</td><td>7785</td><td>7785</td><td>7958</td><td>7958</td><td>8131</td><td>8131</td><td>8304</td><td>8304</td><td>8477</td><td>8477</td><td>8650</td><td>8650</td><td>8823</td><td>8823</td><td>8996</td><td>8996</td><td>9169</td><td>9169</td><td>9342</td><td>9342</td><td>9515</td><td>9515</td><td>9688</td><td>9688</td><td>9861</td><td>9861</td><td>10034</td><td>10034</td><td>10207</td><td>10207</td><td>10380</td><td>10380</td><td>10553</td><td>10553</td><td>10726</td><td>10726</td><td>10899</td><td>10899</td><td>11072</td><td>11072</td><td>11245</td><td>11245</td><td>11418</td><td>11418</td><td>11591</td><td>11591</td><td>11764</td><td>11764</td><td>11937</td><td>11937</td><td>12110</td><td>12110</td><td>12283</td><td>12283</td><td>12456</td><td>12456</td><td>12629</td><td>12629</td><td>12802</td><td>12802</td><td>12975</td><td>12975</td><td>13148</td><td>13148</td><td>13321</td><td>13321</td><td>13494</td><td>13494</td><td>13667</td><td>13667</td><td>13840</td><td>13840</td><td>14013</td><td>14013</td><td>14186</td><td>14186</td><td>14359</td><td>14359</td><td>14532</td><td>14532</td><td>14705</td><td>14705</td><td>14878</td><td>14878</td><td>15051</td><td>15051</td></tr><tr><td>2</td><td>3</td><td>4</td><td>5</td><td>6</td><td>7</td><td>8</td><td>9</td><td>10</td><td>11</td><td>12</td><td>13</td><td>14</td><td>15</td><td>16</td><td>17</td><td>18</td><td>19</td><td>20</td><td>21</td><td>22</td><td>23</td><td>24</td><td>25</td><td>26</td><td>27</td><td>28</td><td>29</td><td>30</td><td>31</td><td>32</td><td>33</td><td>34</td><td>35</td><td>36</td><td>37</td><td>38</td><td>39</td><td>40</td><td>41</td><td>42</td><td>43</td><td>44</td><td>45</td><td>46</td><td>47</td><td>48</td><td>49</td><td>50</td><td>51</td><td>52</td><td>53</td><td>54</td><td>55</td><td>56</td><td>57</td><td>58</td><td>59</td><td>60</td><td>61</td><td>62</td><td>63</td><td>64</td><td>65</td><td>66</td><td>67</td><td>68</td><td>69</td><td>70</td><td>71</td><td>72</td><td>73</td><td>74</td><td>75</td><td>76</td><td>77</td><td>78</td><td>79</td><td>80</td><td>81</td><td>82</td><td>83</td><td>84</td><td>85</td><td>86</td><td>87</td><td>88</td><td>89</td><td>90</td><td>91</td><td>92</td><td>93</td><td>94</td><td>95</td><td>96</td><td>97</td><td>98</td><td>99</td><td>100</td><td>101</td><td>102</td><td>103</td><td>104</td><td>105</td><td>106</td><td>107</td><td>108</td><td>109</td><td>110</td><td>111</td><td>112</td><td>113</td><td>114</td><td>115</td><td>116</td><td>117</td><td>118</td><td>119</td><td>120</td><td>121</td><td>122</td><td>123</td><td>124</td><td>125</td><td>126</td><td>127</td><td>128</td><td>129</td><td>130</td><td>131</td><td>132</td><td>133</td><td>134</td><td>135</td><td>136</td><td>137</td><td>138</td><td>139</td><td>140</td><td>141</td><td>142</td><td>143</td><td>144</td><td>145</td><td>146</td><td>147</td><td>148</td><td>149</td><td>150</td><td>151</td><td>152</td><td>153</td><td>154</td><td>155</td><td>156</td><td>157</td><td>158</td><td>159</td><td>160</td><td>161</td><td>162</td><td>163</td><td>164</td><td>165</td><td>166</td><td>167</td><td>168</td><td>169</td><td>170</td><td>171</td><td>172</td><td>173</td></tr><tr><td>174</td><td>261</td><td>348</td><td>435</td><td>522</td><td>609</td><td>696</td><td>783</td><td>870</td><td>957</td><td>1044</td><td>1131</td><td>1218</td><td>1305</td><td>1392</td><td>1479</td><td>1566</td><td>1653</td><td>1740</td><td>1827</td><td>1914</td><td>2001</td><td>2088</td><td>2175</td><td>2262</td><td>2349</td><td>2436</td><td>2523</td><td>2610</td><td>2697</td><td>2784</td><td>2871</td><td>2958</td><td>3045</td><td>3132</td><td>3219</td><td>3306</td><td>3393</td><td>3480</td><td>3567</td><td>3654</td><td>3741</td><td>3828</td><td>3915</td><td>4002</td><td>4089</td><td>4176</td><td>4263</td><td>4350</td><td>4437</td><td>4524</td><td>4611</td><td>4698</td><td>4785</td><td>4872</td><td>4959</td><td>5046</td><td>5133</td><td>5220</td><td>5307</td><td>5394</td><td>5481</td><td>5568</td><td>5655</td><td>5742</td><td>5829</td><td>5916</td><td>6003</td><td>6090</td><td>6177</td><td>6264</td><td>6351</td><td>6438</td><td>6525</td><td>6612</td><td>6699</td><td>6786</td><td>6873</td><td>6960</td><td>7047</td><td>7134</td><td>7221</td><td>7308</td><td>7395</td><td>7482</td><td>7569</td><td>7656</td><td>7743</td><td>7830</td><td>7917</td><td>8004</td><td>8091</td><td>8178</td><td>8265</td><td>8352</td><td>8439</td><td>8526</td><td>8613</td><td>8700</td><td>8787</td><td>8874</td><td>8961</td><td>9048</td><td>9135</td><td>9222</td><td>9309</td><td>9396</td><td>9483</td><td>9570</td><td>9657</td><td>9744</td><td>9831</td><td>9918</td><td>10005</td><td>10092</td><td>10179</td><td>10266</td><td>10353</td><td>10440</td><td>10527</td><td>10614</td><td>10701</td><td>10788</td><td>10875</td><td>10962</td><td>11049</td><td>11136</td><td>11223</td><td>11310</td><td>11397</td><td>11484</td><td>11571</td><td>11658</td><td>11745</td><td>11832</td><td>11919</td><td>12006</td><td>12093</td><td>12180</td><td>12267</td><td>12354</td><td>12441</td><td>12528</td><td>12615</td><td>12702</td><td>12789</td><td>12876</td><td>12963</td><td>13050</td><td>13137</td><td>13224</td><td>13311</td><td>13398</td><td>13485</td><td>13572</td><td>13659</td><td>13746</td><td>13833</td><td>13920</td><td>14007</td><td>14094</td><td>14181</td><td>14268</td><td>14355</td><td>14442</td><td>14529</td><td>14616</td><td>14703</td><td>14790</td><td>14877</td><td>14964</td><td>15051</td></tr></table>"
      ],
      "text/plain": [
       "<IPython.core.display.HTML object>"
      ]
     },
     "metadata": {},
     "output_type": "display_data"
    },
    {
     "name": "stdout",
     "output_type": "stream",
     "text": [
      "When p = 175 triangular = 15400 and partial triangular = 88\n"
     ]
    },
    {
     "data": {
      "text/html": [
       "<table><tr><td>2</td><td>2</td><td>3</td><td>3</td><td>4</td><td>4</td><td>5</td><td>5</td><td>6</td><td>6</td><td>7</td><td>7</td><td>8</td><td>8</td><td>9</td><td>9</td><td>10</td><td>10</td><td>11</td><td>11</td><td>12</td><td>12</td><td>13</td><td>13</td><td>14</td><td>14</td><td>15</td><td>15</td><td>16</td><td>16</td><td>17</td><td>17</td><td>18</td><td>18</td><td>19</td><td>19</td><td>20</td><td>20</td><td>21</td><td>21</td><td>22</td><td>22</td><td>23</td><td>23</td><td>24</td><td>24</td><td>25</td><td>25</td><td>26</td><td>26</td><td>27</td><td>27</td><td>28</td><td>28</td><td>29</td><td>29</td><td>30</td><td>30</td><td>31</td><td>31</td><td>32</td><td>32</td><td>33</td><td>33</td><td>34</td><td>34</td><td>35</td><td>35</td><td>36</td><td>36</td><td>37</td><td>37</td><td>38</td><td>38</td><td>39</td><td>39</td><td>40</td><td>40</td><td>41</td><td>41</td><td>42</td><td>42</td><td>43</td><td>43</td><td>44</td><td>44</td><td>45</td><td>45</td><td>46</td><td>46</td><td>47</td><td>47</td><td>48</td><td>48</td><td>49</td><td>49</td><td>50</td><td>50</td><td>51</td><td>51</td><td>52</td><td>52</td><td>53</td><td>53</td><td>54</td><td>54</td><td>55</td><td>55</td><td>56</td><td>56</td><td>57</td><td>57</td><td>58</td><td>58</td><td>59</td><td>59</td><td>60</td><td>60</td><td>61</td><td>61</td><td>62</td><td>62</td><td>63</td><td>63</td><td>64</td><td>64</td><td>65</td><td>65</td><td>66</td><td>66</td><td>67</td><td>67</td><td>68</td><td>68</td><td>69</td><td>69</td><td>70</td><td>70</td><td>71</td><td>71</td><td>72</td><td>72</td><td>73</td><td>73</td><td>74</td><td>74</td><td>75</td><td>75</td><td>76</td><td>76</td><td>77</td><td>77</td><td>78</td><td>78</td><td>79</td><td>79</td><td>80</td><td>80</td><td>81</td><td>81</td><td>82</td><td>82</td><td>83</td><td>83</td><td>84</td><td>84</td><td>85</td><td>85</td><td>86</td><td>86</td><td>87</td><td>87</td><td>88</td><td>88</td></tr><tr><td>350</td><td>350</td><td>525</td><td>525</td><td>700</td><td>700</td><td>875</td><td>875</td><td>1050</td><td>1050</td><td>1225</td><td>1225</td><td>1400</td><td>1400</td><td>1575</td><td>1575</td><td>1750</td><td>1750</td><td>1925</td><td>1925</td><td>2100</td><td>2100</td><td>2275</td><td>2275</td><td>2450</td><td>2450</td><td>2625</td><td>2625</td><td>2800</td><td>2800</td><td>2975</td><td>2975</td><td>3150</td><td>3150</td><td>3325</td><td>3325</td><td>3500</td><td>3500</td><td>3675</td><td>3675</td><td>3850</td><td>3850</td><td>4025</td><td>4025</td><td>4200</td><td>4200</td><td>4375</td><td>4375</td><td>4550</td><td>4550</td><td>4725</td><td>4725</td><td>4900</td><td>4900</td><td>5075</td><td>5075</td><td>5250</td><td>5250</td><td>5425</td><td>5425</td><td>5600</td><td>5600</td><td>5775</td><td>5775</td><td>5950</td><td>5950</td><td>6125</td><td>6125</td><td>6300</td><td>6300</td><td>6475</td><td>6475</td><td>6650</td><td>6650</td><td>6825</td><td>6825</td><td>7000</td><td>7000</td><td>7175</td><td>7175</td><td>7350</td><td>7350</td><td>7525</td><td>7525</td><td>7700</td><td>7700</td><td>7875</td><td>7875</td><td>8050</td><td>8050</td><td>8225</td><td>8225</td><td>8400</td><td>8400</td><td>8575</td><td>8575</td><td>8750</td><td>8750</td><td>8925</td><td>8925</td><td>9100</td><td>9100</td><td>9275</td><td>9275</td><td>9450</td><td>9450</td><td>9625</td><td>9625</td><td>9800</td><td>9800</td><td>9975</td><td>9975</td><td>10150</td><td>10150</td><td>10325</td><td>10325</td><td>10500</td><td>10500</td><td>10675</td><td>10675</td><td>10850</td><td>10850</td><td>11025</td><td>11025</td><td>11200</td><td>11200</td><td>11375</td><td>11375</td><td>11550</td><td>11550</td><td>11725</td><td>11725</td><td>11900</td><td>11900</td><td>12075</td><td>12075</td><td>12250</td><td>12250</td><td>12425</td><td>12425</td><td>12600</td><td>12600</td><td>12775</td><td>12775</td><td>12950</td><td>12950</td><td>13125</td><td>13125</td><td>13300</td><td>13300</td><td>13475</td><td>13475</td><td>13650</td><td>13650</td><td>13825</td><td>13825</td><td>14000</td><td>14000</td><td>14175</td><td>14175</td><td>14350</td><td>14350</td><td>14525</td><td>14525</td><td>14700</td><td>14700</td><td>14875</td><td>14875</td><td>15050</td><td>15050</td><td>15225</td><td>15225</td><td>15400</td><td>15400</td></tr><tr><td>2</td><td>3</td><td>4</td><td>5</td><td>6</td><td>7</td><td>8</td><td>9</td><td>10</td><td>11</td><td>12</td><td>13</td><td>14</td><td>15</td><td>16</td><td>17</td><td>18</td><td>19</td><td>20</td><td>21</td><td>22</td><td>23</td><td>24</td><td>25</td><td>26</td><td>27</td><td>28</td><td>29</td><td>30</td><td>31</td><td>32</td><td>33</td><td>34</td><td>35</td><td>36</td><td>37</td><td>38</td><td>39</td><td>40</td><td>41</td><td>42</td><td>43</td><td>44</td><td>45</td><td>46</td><td>47</td><td>48</td><td>49</td><td>50</td><td>51</td><td>52</td><td>53</td><td>54</td><td>55</td><td>56</td><td>57</td><td>58</td><td>59</td><td>60</td><td>61</td><td>62</td><td>63</td><td>64</td><td>65</td><td>66</td><td>67</td><td>68</td><td>69</td><td>70</td><td>71</td><td>72</td><td>73</td><td>74</td><td>75</td><td>76</td><td>77</td><td>78</td><td>79</td><td>80</td><td>81</td><td>82</td><td>83</td><td>84</td><td>85</td><td>86</td><td>87</td><td>88</td><td>89</td><td>90</td><td>91</td><td>92</td><td>93</td><td>94</td><td>95</td><td>96</td><td>97</td><td>98</td><td>99</td><td>100</td><td>101</td><td>102</td><td>103</td><td>104</td><td>105</td><td>106</td><td>107</td><td>108</td><td>109</td><td>110</td><td>111</td><td>112</td><td>113</td><td>114</td><td>115</td><td>116</td><td>117</td><td>118</td><td>119</td><td>120</td><td>121</td><td>122</td><td>123</td><td>124</td><td>125</td><td>126</td><td>127</td><td>128</td><td>129</td><td>130</td><td>131</td><td>132</td><td>133</td><td>134</td><td>135</td><td>136</td><td>137</td><td>138</td><td>139</td><td>140</td><td>141</td><td>142</td><td>143</td><td>144</td><td>145</td><td>146</td><td>147</td><td>148</td><td>149</td><td>150</td><td>151</td><td>152</td><td>153</td><td>154</td><td>155</td><td>156</td><td>157</td><td>158</td><td>159</td><td>160</td><td>161</td><td>162</td><td>163</td><td>164</td><td>165</td><td>166</td><td>167</td><td>168</td><td>169</td><td>170</td><td>171</td><td>172</td><td>173</td><td>174</td><td>175</td></tr><tr><td>176</td><td>264</td><td>352</td><td>440</td><td>528</td><td>616</td><td>704</td><td>792</td><td>880</td><td>968</td><td>1056</td><td>1144</td><td>1232</td><td>1320</td><td>1408</td><td>1496</td><td>1584</td><td>1672</td><td>1760</td><td>1848</td><td>1936</td><td>2024</td><td>2112</td><td>2200</td><td>2288</td><td>2376</td><td>2464</td><td>2552</td><td>2640</td><td>2728</td><td>2816</td><td>2904</td><td>2992</td><td>3080</td><td>3168</td><td>3256</td><td>3344</td><td>3432</td><td>3520</td><td>3608</td><td>3696</td><td>3784</td><td>3872</td><td>3960</td><td>4048</td><td>4136</td><td>4224</td><td>4312</td><td>4400</td><td>4488</td><td>4576</td><td>4664</td><td>4752</td><td>4840</td><td>4928</td><td>5016</td><td>5104</td><td>5192</td><td>5280</td><td>5368</td><td>5456</td><td>5544</td><td>5632</td><td>5720</td><td>5808</td><td>5896</td><td>5984</td><td>6072</td><td>6160</td><td>6248</td><td>6336</td><td>6424</td><td>6512</td><td>6600</td><td>6688</td><td>6776</td><td>6864</td><td>6952</td><td>7040</td><td>7128</td><td>7216</td><td>7304</td><td>7392</td><td>7480</td><td>7568</td><td>7656</td><td>7744</td><td>7832</td><td>7920</td><td>8008</td><td>8096</td><td>8184</td><td>8272</td><td>8360</td><td>8448</td><td>8536</td><td>8624</td><td>8712</td><td>8800</td><td>8888</td><td>8976</td><td>9064</td><td>9152</td><td>9240</td><td>9328</td><td>9416</td><td>9504</td><td>9592</td><td>9680</td><td>9768</td><td>9856</td><td>9944</td><td>10032</td><td>10120</td><td>10208</td><td>10296</td><td>10384</td><td>10472</td><td>10560</td><td>10648</td><td>10736</td><td>10824</td><td>10912</td><td>11000</td><td>11088</td><td>11176</td><td>11264</td><td>11352</td><td>11440</td><td>11528</td><td>11616</td><td>11704</td><td>11792</td><td>11880</td><td>11968</td><td>12056</td><td>12144</td><td>12232</td><td>12320</td><td>12408</td><td>12496</td><td>12584</td><td>12672</td><td>12760</td><td>12848</td><td>12936</td><td>13024</td><td>13112</td><td>13200</td><td>13288</td><td>13376</td><td>13464</td><td>13552</td><td>13640</td><td>13728</td><td>13816</td><td>13904</td><td>13992</td><td>14080</td><td>14168</td><td>14256</td><td>14344</td><td>14432</td><td>14520</td><td>14608</td><td>14696</td><td>14784</td><td>14872</td><td>14960</td><td>15048</td><td>15136</td><td>15224</td><td>15312</td><td>15400</td></tr></table>"
      ],
      "text/plain": [
       "<IPython.core.display.HTML object>"
      ]
     },
     "metadata": {},
     "output_type": "display_data"
    },
    {
     "name": "stdout",
     "output_type": "stream",
     "text": [
      "When p = 177 triangular = 15753 and partial triangular = 89\n"
     ]
    },
    {
     "data": {
      "text/html": [
       "<table><tr><td>2</td><td>2</td><td>3</td><td>3</td><td>4</td><td>4</td><td>5</td><td>5</td><td>6</td><td>6</td><td>7</td><td>7</td><td>8</td><td>8</td><td>9</td><td>9</td><td>10</td><td>10</td><td>11</td><td>11</td><td>12</td><td>12</td><td>13</td><td>13</td><td>14</td><td>14</td><td>15</td><td>15</td><td>16</td><td>16</td><td>17</td><td>17</td><td>18</td><td>18</td><td>19</td><td>19</td><td>20</td><td>20</td><td>21</td><td>21</td><td>22</td><td>22</td><td>23</td><td>23</td><td>24</td><td>24</td><td>25</td><td>25</td><td>26</td><td>26</td><td>27</td><td>27</td><td>28</td><td>28</td><td>29</td><td>29</td><td>30</td><td>30</td><td>31</td><td>31</td><td>32</td><td>32</td><td>33</td><td>33</td><td>34</td><td>34</td><td>35</td><td>35</td><td>36</td><td>36</td><td>37</td><td>37</td><td>38</td><td>38</td><td>39</td><td>39</td><td>40</td><td>40</td><td>41</td><td>41</td><td>42</td><td>42</td><td>43</td><td>43</td><td>44</td><td>44</td><td>45</td><td>45</td><td>46</td><td>46</td><td>47</td><td>47</td><td>48</td><td>48</td><td>49</td><td>49</td><td>50</td><td>50</td><td>51</td><td>51</td><td>52</td><td>52</td><td>53</td><td>53</td><td>54</td><td>54</td><td>55</td><td>55</td><td>56</td><td>56</td><td>57</td><td>57</td><td>58</td><td>58</td><td>59</td><td>59</td><td>60</td><td>60</td><td>61</td><td>61</td><td>62</td><td>62</td><td>63</td><td>63</td><td>64</td><td>64</td><td>65</td><td>65</td><td>66</td><td>66</td><td>67</td><td>67</td><td>68</td><td>68</td><td>69</td><td>69</td><td>70</td><td>70</td><td>71</td><td>71</td><td>72</td><td>72</td><td>73</td><td>73</td><td>74</td><td>74</td><td>75</td><td>75</td><td>76</td><td>76</td><td>77</td><td>77</td><td>78</td><td>78</td><td>79</td><td>79</td><td>80</td><td>80</td><td>81</td><td>81</td><td>82</td><td>82</td><td>83</td><td>83</td><td>84</td><td>84</td><td>85</td><td>85</td><td>86</td><td>86</td><td>87</td><td>87</td><td>88</td><td>88</td><td>89</td><td>89</td></tr><tr><td>354</td><td>354</td><td>531</td><td>531</td><td>708</td><td>708</td><td>885</td><td>885</td><td>1062</td><td>1062</td><td>1239</td><td>1239</td><td>1416</td><td>1416</td><td>1593</td><td>1593</td><td>1770</td><td>1770</td><td>1947</td><td>1947</td><td>2124</td><td>2124</td><td>2301</td><td>2301</td><td>2478</td><td>2478</td><td>2655</td><td>2655</td><td>2832</td><td>2832</td><td>3009</td><td>3009</td><td>3186</td><td>3186</td><td>3363</td><td>3363</td><td>3540</td><td>3540</td><td>3717</td><td>3717</td><td>3894</td><td>3894</td><td>4071</td><td>4071</td><td>4248</td><td>4248</td><td>4425</td><td>4425</td><td>4602</td><td>4602</td><td>4779</td><td>4779</td><td>4956</td><td>4956</td><td>5133</td><td>5133</td><td>5310</td><td>5310</td><td>5487</td><td>5487</td><td>5664</td><td>5664</td><td>5841</td><td>5841</td><td>6018</td><td>6018</td><td>6195</td><td>6195</td><td>6372</td><td>6372</td><td>6549</td><td>6549</td><td>6726</td><td>6726</td><td>6903</td><td>6903</td><td>7080</td><td>7080</td><td>7257</td><td>7257</td><td>7434</td><td>7434</td><td>7611</td><td>7611</td><td>7788</td><td>7788</td><td>7965</td><td>7965</td><td>8142</td><td>8142</td><td>8319</td><td>8319</td><td>8496</td><td>8496</td><td>8673</td><td>8673</td><td>8850</td><td>8850</td><td>9027</td><td>9027</td><td>9204</td><td>9204</td><td>9381</td><td>9381</td><td>9558</td><td>9558</td><td>9735</td><td>9735</td><td>9912</td><td>9912</td><td>10089</td><td>10089</td><td>10266</td><td>10266</td><td>10443</td><td>10443</td><td>10620</td><td>10620</td><td>10797</td><td>10797</td><td>10974</td><td>10974</td><td>11151</td><td>11151</td><td>11328</td><td>11328</td><td>11505</td><td>11505</td><td>11682</td><td>11682</td><td>11859</td><td>11859</td><td>12036</td><td>12036</td><td>12213</td><td>12213</td><td>12390</td><td>12390</td><td>12567</td><td>12567</td><td>12744</td><td>12744</td><td>12921</td><td>12921</td><td>13098</td><td>13098</td><td>13275</td><td>13275</td><td>13452</td><td>13452</td><td>13629</td><td>13629</td><td>13806</td><td>13806</td><td>13983</td><td>13983</td><td>14160</td><td>14160</td><td>14337</td><td>14337</td><td>14514</td><td>14514</td><td>14691</td><td>14691</td><td>14868</td><td>14868</td><td>15045</td><td>15045</td><td>15222</td><td>15222</td><td>15399</td><td>15399</td><td>15576</td><td>15576</td><td>15753</td><td>15753</td></tr><tr><td>2</td><td>3</td><td>4</td><td>5</td><td>6</td><td>7</td><td>8</td><td>9</td><td>10</td><td>11</td><td>12</td><td>13</td><td>14</td><td>15</td><td>16</td><td>17</td><td>18</td><td>19</td><td>20</td><td>21</td><td>22</td><td>23</td><td>24</td><td>25</td><td>26</td><td>27</td><td>28</td><td>29</td><td>30</td><td>31</td><td>32</td><td>33</td><td>34</td><td>35</td><td>36</td><td>37</td><td>38</td><td>39</td><td>40</td><td>41</td><td>42</td><td>43</td><td>44</td><td>45</td><td>46</td><td>47</td><td>48</td><td>49</td><td>50</td><td>51</td><td>52</td><td>53</td><td>54</td><td>55</td><td>56</td><td>57</td><td>58</td><td>59</td><td>60</td><td>61</td><td>62</td><td>63</td><td>64</td><td>65</td><td>66</td><td>67</td><td>68</td><td>69</td><td>70</td><td>71</td><td>72</td><td>73</td><td>74</td><td>75</td><td>76</td><td>77</td><td>78</td><td>79</td><td>80</td><td>81</td><td>82</td><td>83</td><td>84</td><td>85</td><td>86</td><td>87</td><td>88</td><td>89</td><td>90</td><td>91</td><td>92</td><td>93</td><td>94</td><td>95</td><td>96</td><td>97</td><td>98</td><td>99</td><td>100</td><td>101</td><td>102</td><td>103</td><td>104</td><td>105</td><td>106</td><td>107</td><td>108</td><td>109</td><td>110</td><td>111</td><td>112</td><td>113</td><td>114</td><td>115</td><td>116</td><td>117</td><td>118</td><td>119</td><td>120</td><td>121</td><td>122</td><td>123</td><td>124</td><td>125</td><td>126</td><td>127</td><td>128</td><td>129</td><td>130</td><td>131</td><td>132</td><td>133</td><td>134</td><td>135</td><td>136</td><td>137</td><td>138</td><td>139</td><td>140</td><td>141</td><td>142</td><td>143</td><td>144</td><td>145</td><td>146</td><td>147</td><td>148</td><td>149</td><td>150</td><td>151</td><td>152</td><td>153</td><td>154</td><td>155</td><td>156</td><td>157</td><td>158</td><td>159</td><td>160</td><td>161</td><td>162</td><td>163</td><td>164</td><td>165</td><td>166</td><td>167</td><td>168</td><td>169</td><td>170</td><td>171</td><td>172</td><td>173</td><td>174</td><td>175</td><td>176</td><td>177</td></tr><tr><td>178</td><td>267</td><td>356</td><td>445</td><td>534</td><td>623</td><td>712</td><td>801</td><td>890</td><td>979</td><td>1068</td><td>1157</td><td>1246</td><td>1335</td><td>1424</td><td>1513</td><td>1602</td><td>1691</td><td>1780</td><td>1869</td><td>1958</td><td>2047</td><td>2136</td><td>2225</td><td>2314</td><td>2403</td><td>2492</td><td>2581</td><td>2670</td><td>2759</td><td>2848</td><td>2937</td><td>3026</td><td>3115</td><td>3204</td><td>3293</td><td>3382</td><td>3471</td><td>3560</td><td>3649</td><td>3738</td><td>3827</td><td>3916</td><td>4005</td><td>4094</td><td>4183</td><td>4272</td><td>4361</td><td>4450</td><td>4539</td><td>4628</td><td>4717</td><td>4806</td><td>4895</td><td>4984</td><td>5073</td><td>5162</td><td>5251</td><td>5340</td><td>5429</td><td>5518</td><td>5607</td><td>5696</td><td>5785</td><td>5874</td><td>5963</td><td>6052</td><td>6141</td><td>6230</td><td>6319</td><td>6408</td><td>6497</td><td>6586</td><td>6675</td><td>6764</td><td>6853</td><td>6942</td><td>7031</td><td>7120</td><td>7209</td><td>7298</td><td>7387</td><td>7476</td><td>7565</td><td>7654</td><td>7743</td><td>7832</td><td>7921</td><td>8010</td><td>8099</td><td>8188</td><td>8277</td><td>8366</td><td>8455</td><td>8544</td><td>8633</td><td>8722</td><td>8811</td><td>8900</td><td>8989</td><td>9078</td><td>9167</td><td>9256</td><td>9345</td><td>9434</td><td>9523</td><td>9612</td><td>9701</td><td>9790</td><td>9879</td><td>9968</td><td>10057</td><td>10146</td><td>10235</td><td>10324</td><td>10413</td><td>10502</td><td>10591</td><td>10680</td><td>10769</td><td>10858</td><td>10947</td><td>11036</td><td>11125</td><td>11214</td><td>11303</td><td>11392</td><td>11481</td><td>11570</td><td>11659</td><td>11748</td><td>11837</td><td>11926</td><td>12015</td><td>12104</td><td>12193</td><td>12282</td><td>12371</td><td>12460</td><td>12549</td><td>12638</td><td>12727</td><td>12816</td><td>12905</td><td>12994</td><td>13083</td><td>13172</td><td>13261</td><td>13350</td><td>13439</td><td>13528</td><td>13617</td><td>13706</td><td>13795</td><td>13884</td><td>13973</td><td>14062</td><td>14151</td><td>14240</td><td>14329</td><td>14418</td><td>14507</td><td>14596</td><td>14685</td><td>14774</td><td>14863</td><td>14952</td><td>15041</td><td>15130</td><td>15219</td><td>15308</td><td>15397</td><td>15486</td><td>15575</td><td>15664</td><td>15753</td></tr></table>"
      ],
      "text/plain": [
       "<IPython.core.display.HTML object>"
      ]
     },
     "metadata": {},
     "output_type": "display_data"
    },
    {
     "name": "stdout",
     "output_type": "stream",
     "text": [
      "When p = 179 triangular = 16110 and partial triangular = 90\n"
     ]
    },
    {
     "data": {
      "text/html": [
       "<table><tr><td>2</td><td>2</td><td>3</td><td>3</td><td>4</td><td>4</td><td>5</td><td>5</td><td>6</td><td>6</td><td>7</td><td>7</td><td>8</td><td>8</td><td>9</td><td>9</td><td>10</td><td>10</td><td>11</td><td>11</td><td>12</td><td>12</td><td>13</td><td>13</td><td>14</td><td>14</td><td>15</td><td>15</td><td>16</td><td>16</td><td>17</td><td>17</td><td>18</td><td>18</td><td>19</td><td>19</td><td>20</td><td>20</td><td>21</td><td>21</td><td>22</td><td>22</td><td>23</td><td>23</td><td>24</td><td>24</td><td>25</td><td>25</td><td>26</td><td>26</td><td>27</td><td>27</td><td>28</td><td>28</td><td>29</td><td>29</td><td>30</td><td>30</td><td>31</td><td>31</td><td>32</td><td>32</td><td>33</td><td>33</td><td>34</td><td>34</td><td>35</td><td>35</td><td>36</td><td>36</td><td>37</td><td>37</td><td>38</td><td>38</td><td>39</td><td>39</td><td>40</td><td>40</td><td>41</td><td>41</td><td>42</td><td>42</td><td>43</td><td>43</td><td>44</td><td>44</td><td>45</td><td>45</td><td>46</td><td>46</td><td>47</td><td>47</td><td>48</td><td>48</td><td>49</td><td>49</td><td>50</td><td>50</td><td>51</td><td>51</td><td>52</td><td>52</td><td>53</td><td>53</td><td>54</td><td>54</td><td>55</td><td>55</td><td>56</td><td>56</td><td>57</td><td>57</td><td>58</td><td>58</td><td>59</td><td>59</td><td>60</td><td>60</td><td>61</td><td>61</td><td>62</td><td>62</td><td>63</td><td>63</td><td>64</td><td>64</td><td>65</td><td>65</td><td>66</td><td>66</td><td>67</td><td>67</td><td>68</td><td>68</td><td>69</td><td>69</td><td>70</td><td>70</td><td>71</td><td>71</td><td>72</td><td>72</td><td>73</td><td>73</td><td>74</td><td>74</td><td>75</td><td>75</td><td>76</td><td>76</td><td>77</td><td>77</td><td>78</td><td>78</td><td>79</td><td>79</td><td>80</td><td>80</td><td>81</td><td>81</td><td>82</td><td>82</td><td>83</td><td>83</td><td>84</td><td>84</td><td>85</td><td>85</td><td>86</td><td>86</td><td>87</td><td>87</td><td>88</td><td>88</td><td>89</td><td>89</td><td>90</td><td>90</td></tr><tr><td>358</td><td>358</td><td>537</td><td>537</td><td>716</td><td>716</td><td>895</td><td>895</td><td>1074</td><td>1074</td><td>1253</td><td>1253</td><td>1432</td><td>1432</td><td>1611</td><td>1611</td><td>1790</td><td>1790</td><td>1969</td><td>1969</td><td>2148</td><td>2148</td><td>2327</td><td>2327</td><td>2506</td><td>2506</td><td>2685</td><td>2685</td><td>2864</td><td>2864</td><td>3043</td><td>3043</td><td>3222</td><td>3222</td><td>3401</td><td>3401</td><td>3580</td><td>3580</td><td>3759</td><td>3759</td><td>3938</td><td>3938</td><td>4117</td><td>4117</td><td>4296</td><td>4296</td><td>4475</td><td>4475</td><td>4654</td><td>4654</td><td>4833</td><td>4833</td><td>5012</td><td>5012</td><td>5191</td><td>5191</td><td>5370</td><td>5370</td><td>5549</td><td>5549</td><td>5728</td><td>5728</td><td>5907</td><td>5907</td><td>6086</td><td>6086</td><td>6265</td><td>6265</td><td>6444</td><td>6444</td><td>6623</td><td>6623</td><td>6802</td><td>6802</td><td>6981</td><td>6981</td><td>7160</td><td>7160</td><td>7339</td><td>7339</td><td>7518</td><td>7518</td><td>7697</td><td>7697</td><td>7876</td><td>7876</td><td>8055</td><td>8055</td><td>8234</td><td>8234</td><td>8413</td><td>8413</td><td>8592</td><td>8592</td><td>8771</td><td>8771</td><td>8950</td><td>8950</td><td>9129</td><td>9129</td><td>9308</td><td>9308</td><td>9487</td><td>9487</td><td>9666</td><td>9666</td><td>9845</td><td>9845</td><td>10024</td><td>10024</td><td>10203</td><td>10203</td><td>10382</td><td>10382</td><td>10561</td><td>10561</td><td>10740</td><td>10740</td><td>10919</td><td>10919</td><td>11098</td><td>11098</td><td>11277</td><td>11277</td><td>11456</td><td>11456</td><td>11635</td><td>11635</td><td>11814</td><td>11814</td><td>11993</td><td>11993</td><td>12172</td><td>12172</td><td>12351</td><td>12351</td><td>12530</td><td>12530</td><td>12709</td><td>12709</td><td>12888</td><td>12888</td><td>13067</td><td>13067</td><td>13246</td><td>13246</td><td>13425</td><td>13425</td><td>13604</td><td>13604</td><td>13783</td><td>13783</td><td>13962</td><td>13962</td><td>14141</td><td>14141</td><td>14320</td><td>14320</td><td>14499</td><td>14499</td><td>14678</td><td>14678</td><td>14857</td><td>14857</td><td>15036</td><td>15036</td><td>15215</td><td>15215</td><td>15394</td><td>15394</td><td>15573</td><td>15573</td><td>15752</td><td>15752</td><td>15931</td><td>15931</td><td>16110</td><td>16110</td></tr><tr><td>2</td><td>3</td><td>4</td><td>5</td><td>6</td><td>7</td><td>8</td><td>9</td><td>10</td><td>11</td><td>12</td><td>13</td><td>14</td><td>15</td><td>16</td><td>17</td><td>18</td><td>19</td><td>20</td><td>21</td><td>22</td><td>23</td><td>24</td><td>25</td><td>26</td><td>27</td><td>28</td><td>29</td><td>30</td><td>31</td><td>32</td><td>33</td><td>34</td><td>35</td><td>36</td><td>37</td><td>38</td><td>39</td><td>40</td><td>41</td><td>42</td><td>43</td><td>44</td><td>45</td><td>46</td><td>47</td><td>48</td><td>49</td><td>50</td><td>51</td><td>52</td><td>53</td><td>54</td><td>55</td><td>56</td><td>57</td><td>58</td><td>59</td><td>60</td><td>61</td><td>62</td><td>63</td><td>64</td><td>65</td><td>66</td><td>67</td><td>68</td><td>69</td><td>70</td><td>71</td><td>72</td><td>73</td><td>74</td><td>75</td><td>76</td><td>77</td><td>78</td><td>79</td><td>80</td><td>81</td><td>82</td><td>83</td><td>84</td><td>85</td><td>86</td><td>87</td><td>88</td><td>89</td><td>90</td><td>91</td><td>92</td><td>93</td><td>94</td><td>95</td><td>96</td><td>97</td><td>98</td><td>99</td><td>100</td><td>101</td><td>102</td><td>103</td><td>104</td><td>105</td><td>106</td><td>107</td><td>108</td><td>109</td><td>110</td><td>111</td><td>112</td><td>113</td><td>114</td><td>115</td><td>116</td><td>117</td><td>118</td><td>119</td><td>120</td><td>121</td><td>122</td><td>123</td><td>124</td><td>125</td><td>126</td><td>127</td><td>128</td><td>129</td><td>130</td><td>131</td><td>132</td><td>133</td><td>134</td><td>135</td><td>136</td><td>137</td><td>138</td><td>139</td><td>140</td><td>141</td><td>142</td><td>143</td><td>144</td><td>145</td><td>146</td><td>147</td><td>148</td><td>149</td><td>150</td><td>151</td><td>152</td><td>153</td><td>154</td><td>155</td><td>156</td><td>157</td><td>158</td><td>159</td><td>160</td><td>161</td><td>162</td><td>163</td><td>164</td><td>165</td><td>166</td><td>167</td><td>168</td><td>169</td><td>170</td><td>171</td><td>172</td><td>173</td><td>174</td><td>175</td><td>176</td><td>177</td><td>178</td><td>179</td></tr><tr><td>180</td><td>270</td><td>360</td><td>450</td><td>540</td><td>630</td><td>720</td><td>810</td><td>900</td><td>990</td><td>1080</td><td>1170</td><td>1260</td><td>1350</td><td>1440</td><td>1530</td><td>1620</td><td>1710</td><td>1800</td><td>1890</td><td>1980</td><td>2070</td><td>2160</td><td>2250</td><td>2340</td><td>2430</td><td>2520</td><td>2610</td><td>2700</td><td>2790</td><td>2880</td><td>2970</td><td>3060</td><td>3150</td><td>3240</td><td>3330</td><td>3420</td><td>3510</td><td>3600</td><td>3690</td><td>3780</td><td>3870</td><td>3960</td><td>4050</td><td>4140</td><td>4230</td><td>4320</td><td>4410</td><td>4500</td><td>4590</td><td>4680</td><td>4770</td><td>4860</td><td>4950</td><td>5040</td><td>5130</td><td>5220</td><td>5310</td><td>5400</td><td>5490</td><td>5580</td><td>5670</td><td>5760</td><td>5850</td><td>5940</td><td>6030</td><td>6120</td><td>6210</td><td>6300</td><td>6390</td><td>6480</td><td>6570</td><td>6660</td><td>6750</td><td>6840</td><td>6930</td><td>7020</td><td>7110</td><td>7200</td><td>7290</td><td>7380</td><td>7470</td><td>7560</td><td>7650</td><td>7740</td><td>7830</td><td>7920</td><td>8010</td><td>8100</td><td>8190</td><td>8280</td><td>8370</td><td>8460</td><td>8550</td><td>8640</td><td>8730</td><td>8820</td><td>8910</td><td>9000</td><td>9090</td><td>9180</td><td>9270</td><td>9360</td><td>9450</td><td>9540</td><td>9630</td><td>9720</td><td>9810</td><td>9900</td><td>9990</td><td>10080</td><td>10170</td><td>10260</td><td>10350</td><td>10440</td><td>10530</td><td>10620</td><td>10710</td><td>10800</td><td>10890</td><td>10980</td><td>11070</td><td>11160</td><td>11250</td><td>11340</td><td>11430</td><td>11520</td><td>11610</td><td>11700</td><td>11790</td><td>11880</td><td>11970</td><td>12060</td><td>12150</td><td>12240</td><td>12330</td><td>12420</td><td>12510</td><td>12600</td><td>12690</td><td>12780</td><td>12870</td><td>12960</td><td>13050</td><td>13140</td><td>13230</td><td>13320</td><td>13410</td><td>13500</td><td>13590</td><td>13680</td><td>13770</td><td>13860</td><td>13950</td><td>14040</td><td>14130</td><td>14220</td><td>14310</td><td>14400</td><td>14490</td><td>14580</td><td>14670</td><td>14760</td><td>14850</td><td>14940</td><td>15030</td><td>15120</td><td>15210</td><td>15300</td><td>15390</td><td>15480</td><td>15570</td><td>15660</td><td>15750</td><td>15840</td><td>15930</td><td>16020</td><td>16110</td></tr></table>"
      ],
      "text/plain": [
       "<IPython.core.display.HTML object>"
      ]
     },
     "metadata": {},
     "output_type": "display_data"
    },
    {
     "name": "stdout",
     "output_type": "stream",
     "text": [
      "When p = 181 triangular = 16471 and partial triangular = 91\n"
     ]
    },
    {
     "data": {
      "text/html": [
       "<table><tr><td>2</td><td>2</td><td>3</td><td>3</td><td>4</td><td>4</td><td>5</td><td>5</td><td>6</td><td>6</td><td>7</td><td>7</td><td>8</td><td>8</td><td>9</td><td>9</td><td>10</td><td>10</td><td>11</td><td>11</td><td>12</td><td>12</td><td>13</td><td>13</td><td>14</td><td>14</td><td>15</td><td>15</td><td>16</td><td>16</td><td>17</td><td>17</td><td>18</td><td>18</td><td>19</td><td>19</td><td>20</td><td>20</td><td>21</td><td>21</td><td>22</td><td>22</td><td>23</td><td>23</td><td>24</td><td>24</td><td>25</td><td>25</td><td>26</td><td>26</td><td>27</td><td>27</td><td>28</td><td>28</td><td>29</td><td>29</td><td>30</td><td>30</td><td>31</td><td>31</td><td>32</td><td>32</td><td>33</td><td>33</td><td>34</td><td>34</td><td>35</td><td>35</td><td>36</td><td>36</td><td>37</td><td>37</td><td>38</td><td>38</td><td>39</td><td>39</td><td>40</td><td>40</td><td>41</td><td>41</td><td>42</td><td>42</td><td>43</td><td>43</td><td>44</td><td>44</td><td>45</td><td>45</td><td>46</td><td>46</td><td>47</td><td>47</td><td>48</td><td>48</td><td>49</td><td>49</td><td>50</td><td>50</td><td>51</td><td>51</td><td>52</td><td>52</td><td>53</td><td>53</td><td>54</td><td>54</td><td>55</td><td>55</td><td>56</td><td>56</td><td>57</td><td>57</td><td>58</td><td>58</td><td>59</td><td>59</td><td>60</td><td>60</td><td>61</td><td>61</td><td>62</td><td>62</td><td>63</td><td>63</td><td>64</td><td>64</td><td>65</td><td>65</td><td>66</td><td>66</td><td>67</td><td>67</td><td>68</td><td>68</td><td>69</td><td>69</td><td>70</td><td>70</td><td>71</td><td>71</td><td>72</td><td>72</td><td>73</td><td>73</td><td>74</td><td>74</td><td>75</td><td>75</td><td>76</td><td>76</td><td>77</td><td>77</td><td>78</td><td>78</td><td>79</td><td>79</td><td>80</td><td>80</td><td>81</td><td>81</td><td>82</td><td>82</td><td>83</td><td>83</td><td>84</td><td>84</td><td>85</td><td>85</td><td>86</td><td>86</td><td>87</td><td>87</td><td>88</td><td>88</td><td>89</td><td>89</td><td>90</td><td>90</td><td>91</td><td>91</td></tr><tr><td>362</td><td>362</td><td>543</td><td>543</td><td>724</td><td>724</td><td>905</td><td>905</td><td>1086</td><td>1086</td><td>1267</td><td>1267</td><td>1448</td><td>1448</td><td>1629</td><td>1629</td><td>1810</td><td>1810</td><td>1991</td><td>1991</td><td>2172</td><td>2172</td><td>2353</td><td>2353</td><td>2534</td><td>2534</td><td>2715</td><td>2715</td><td>2896</td><td>2896</td><td>3077</td><td>3077</td><td>3258</td><td>3258</td><td>3439</td><td>3439</td><td>3620</td><td>3620</td><td>3801</td><td>3801</td><td>3982</td><td>3982</td><td>4163</td><td>4163</td><td>4344</td><td>4344</td><td>4525</td><td>4525</td><td>4706</td><td>4706</td><td>4887</td><td>4887</td><td>5068</td><td>5068</td><td>5249</td><td>5249</td><td>5430</td><td>5430</td><td>5611</td><td>5611</td><td>5792</td><td>5792</td><td>5973</td><td>5973</td><td>6154</td><td>6154</td><td>6335</td><td>6335</td><td>6516</td><td>6516</td><td>6697</td><td>6697</td><td>6878</td><td>6878</td><td>7059</td><td>7059</td><td>7240</td><td>7240</td><td>7421</td><td>7421</td><td>7602</td><td>7602</td><td>7783</td><td>7783</td><td>7964</td><td>7964</td><td>8145</td><td>8145</td><td>8326</td><td>8326</td><td>8507</td><td>8507</td><td>8688</td><td>8688</td><td>8869</td><td>8869</td><td>9050</td><td>9050</td><td>9231</td><td>9231</td><td>9412</td><td>9412</td><td>9593</td><td>9593</td><td>9774</td><td>9774</td><td>9955</td><td>9955</td><td>10136</td><td>10136</td><td>10317</td><td>10317</td><td>10498</td><td>10498</td><td>10679</td><td>10679</td><td>10860</td><td>10860</td><td>11041</td><td>11041</td><td>11222</td><td>11222</td><td>11403</td><td>11403</td><td>11584</td><td>11584</td><td>11765</td><td>11765</td><td>11946</td><td>11946</td><td>12127</td><td>12127</td><td>12308</td><td>12308</td><td>12489</td><td>12489</td><td>12670</td><td>12670</td><td>12851</td><td>12851</td><td>13032</td><td>13032</td><td>13213</td><td>13213</td><td>13394</td><td>13394</td><td>13575</td><td>13575</td><td>13756</td><td>13756</td><td>13937</td><td>13937</td><td>14118</td><td>14118</td><td>14299</td><td>14299</td><td>14480</td><td>14480</td><td>14661</td><td>14661</td><td>14842</td><td>14842</td><td>15023</td><td>15023</td><td>15204</td><td>15204</td><td>15385</td><td>15385</td><td>15566</td><td>15566</td><td>15747</td><td>15747</td><td>15928</td><td>15928</td><td>16109</td><td>16109</td><td>16290</td><td>16290</td><td>16471</td><td>16471</td></tr><tr><td>2</td><td>3</td><td>4</td><td>5</td><td>6</td><td>7</td><td>8</td><td>9</td><td>10</td><td>11</td><td>12</td><td>13</td><td>14</td><td>15</td><td>16</td><td>17</td><td>18</td><td>19</td><td>20</td><td>21</td><td>22</td><td>23</td><td>24</td><td>25</td><td>26</td><td>27</td><td>28</td><td>29</td><td>30</td><td>31</td><td>32</td><td>33</td><td>34</td><td>35</td><td>36</td><td>37</td><td>38</td><td>39</td><td>40</td><td>41</td><td>42</td><td>43</td><td>44</td><td>45</td><td>46</td><td>47</td><td>48</td><td>49</td><td>50</td><td>51</td><td>52</td><td>53</td><td>54</td><td>55</td><td>56</td><td>57</td><td>58</td><td>59</td><td>60</td><td>61</td><td>62</td><td>63</td><td>64</td><td>65</td><td>66</td><td>67</td><td>68</td><td>69</td><td>70</td><td>71</td><td>72</td><td>73</td><td>74</td><td>75</td><td>76</td><td>77</td><td>78</td><td>79</td><td>80</td><td>81</td><td>82</td><td>83</td><td>84</td><td>85</td><td>86</td><td>87</td><td>88</td><td>89</td><td>90</td><td>91</td><td>92</td><td>93</td><td>94</td><td>95</td><td>96</td><td>97</td><td>98</td><td>99</td><td>100</td><td>101</td><td>102</td><td>103</td><td>104</td><td>105</td><td>106</td><td>107</td><td>108</td><td>109</td><td>110</td><td>111</td><td>112</td><td>113</td><td>114</td><td>115</td><td>116</td><td>117</td><td>118</td><td>119</td><td>120</td><td>121</td><td>122</td><td>123</td><td>124</td><td>125</td><td>126</td><td>127</td><td>128</td><td>129</td><td>130</td><td>131</td><td>132</td><td>133</td><td>134</td><td>135</td><td>136</td><td>137</td><td>138</td><td>139</td><td>140</td><td>141</td><td>142</td><td>143</td><td>144</td><td>145</td><td>146</td><td>147</td><td>148</td><td>149</td><td>150</td><td>151</td><td>152</td><td>153</td><td>154</td><td>155</td><td>156</td><td>157</td><td>158</td><td>159</td><td>160</td><td>161</td><td>162</td><td>163</td><td>164</td><td>165</td><td>166</td><td>167</td><td>168</td><td>169</td><td>170</td><td>171</td><td>172</td><td>173</td><td>174</td><td>175</td><td>176</td><td>177</td><td>178</td><td>179</td><td>180</td><td>181</td></tr><tr><td>182</td><td>273</td><td>364</td><td>455</td><td>546</td><td>637</td><td>728</td><td>819</td><td>910</td><td>1001</td><td>1092</td><td>1183</td><td>1274</td><td>1365</td><td>1456</td><td>1547</td><td>1638</td><td>1729</td><td>1820</td><td>1911</td><td>2002</td><td>2093</td><td>2184</td><td>2275</td><td>2366</td><td>2457</td><td>2548</td><td>2639</td><td>2730</td><td>2821</td><td>2912</td><td>3003</td><td>3094</td><td>3185</td><td>3276</td><td>3367</td><td>3458</td><td>3549</td><td>3640</td><td>3731</td><td>3822</td><td>3913</td><td>4004</td><td>4095</td><td>4186</td><td>4277</td><td>4368</td><td>4459</td><td>4550</td><td>4641</td><td>4732</td><td>4823</td><td>4914</td><td>5005</td><td>5096</td><td>5187</td><td>5278</td><td>5369</td><td>5460</td><td>5551</td><td>5642</td><td>5733</td><td>5824</td><td>5915</td><td>6006</td><td>6097</td><td>6188</td><td>6279</td><td>6370</td><td>6461</td><td>6552</td><td>6643</td><td>6734</td><td>6825</td><td>6916</td><td>7007</td><td>7098</td><td>7189</td><td>7280</td><td>7371</td><td>7462</td><td>7553</td><td>7644</td><td>7735</td><td>7826</td><td>7917</td><td>8008</td><td>8099</td><td>8190</td><td>8281</td><td>8372</td><td>8463</td><td>8554</td><td>8645</td><td>8736</td><td>8827</td><td>8918</td><td>9009</td><td>9100</td><td>9191</td><td>9282</td><td>9373</td><td>9464</td><td>9555</td><td>9646</td><td>9737</td><td>9828</td><td>9919</td><td>10010</td><td>10101</td><td>10192</td><td>10283</td><td>10374</td><td>10465</td><td>10556</td><td>10647</td><td>10738</td><td>10829</td><td>10920</td><td>11011</td><td>11102</td><td>11193</td><td>11284</td><td>11375</td><td>11466</td><td>11557</td><td>11648</td><td>11739</td><td>11830</td><td>11921</td><td>12012</td><td>12103</td><td>12194</td><td>12285</td><td>12376</td><td>12467</td><td>12558</td><td>12649</td><td>12740</td><td>12831</td><td>12922</td><td>13013</td><td>13104</td><td>13195</td><td>13286</td><td>13377</td><td>13468</td><td>13559</td><td>13650</td><td>13741</td><td>13832</td><td>13923</td><td>14014</td><td>14105</td><td>14196</td><td>14287</td><td>14378</td><td>14469</td><td>14560</td><td>14651</td><td>14742</td><td>14833</td><td>14924</td><td>15015</td><td>15106</td><td>15197</td><td>15288</td><td>15379</td><td>15470</td><td>15561</td><td>15652</td><td>15743</td><td>15834</td><td>15925</td><td>16016</td><td>16107</td><td>16198</td><td>16289</td><td>16380</td><td>16471</td></tr></table>"
      ],
      "text/plain": [
       "<IPython.core.display.HTML object>"
      ]
     },
     "metadata": {},
     "output_type": "display_data"
    },
    {
     "name": "stdout",
     "output_type": "stream",
     "text": [
      "When p = 183 triangular = 16836 and partial triangular = 92\n"
     ]
    },
    {
     "data": {
      "text/html": [
       "<table><tr><td>2</td><td>2</td><td>3</td><td>3</td><td>4</td><td>4</td><td>5</td><td>5</td><td>6</td><td>6</td><td>7</td><td>7</td><td>8</td><td>8</td><td>9</td><td>9</td><td>10</td><td>10</td><td>11</td><td>11</td><td>12</td><td>12</td><td>13</td><td>13</td><td>14</td><td>14</td><td>15</td><td>15</td><td>16</td><td>16</td><td>17</td><td>17</td><td>18</td><td>18</td><td>19</td><td>19</td><td>20</td><td>20</td><td>21</td><td>21</td><td>22</td><td>22</td><td>23</td><td>23</td><td>24</td><td>24</td><td>25</td><td>25</td><td>26</td><td>26</td><td>27</td><td>27</td><td>28</td><td>28</td><td>29</td><td>29</td><td>30</td><td>30</td><td>31</td><td>31</td><td>32</td><td>32</td><td>33</td><td>33</td><td>34</td><td>34</td><td>35</td><td>35</td><td>36</td><td>36</td><td>37</td><td>37</td><td>38</td><td>38</td><td>39</td><td>39</td><td>40</td><td>40</td><td>41</td><td>41</td><td>42</td><td>42</td><td>43</td><td>43</td><td>44</td><td>44</td><td>45</td><td>45</td><td>46</td><td>46</td><td>47</td><td>47</td><td>48</td><td>48</td><td>49</td><td>49</td><td>50</td><td>50</td><td>51</td><td>51</td><td>52</td><td>52</td><td>53</td><td>53</td><td>54</td><td>54</td><td>55</td><td>55</td><td>56</td><td>56</td><td>57</td><td>57</td><td>58</td><td>58</td><td>59</td><td>59</td><td>60</td><td>60</td><td>61</td><td>61</td><td>62</td><td>62</td><td>63</td><td>63</td><td>64</td><td>64</td><td>65</td><td>65</td><td>66</td><td>66</td><td>67</td><td>67</td><td>68</td><td>68</td><td>69</td><td>69</td><td>70</td><td>70</td><td>71</td><td>71</td><td>72</td><td>72</td><td>73</td><td>73</td><td>74</td><td>74</td><td>75</td><td>75</td><td>76</td><td>76</td><td>77</td><td>77</td><td>78</td><td>78</td><td>79</td><td>79</td><td>80</td><td>80</td><td>81</td><td>81</td><td>82</td><td>82</td><td>83</td><td>83</td><td>84</td><td>84</td><td>85</td><td>85</td><td>86</td><td>86</td><td>87</td><td>87</td><td>88</td><td>88</td><td>89</td><td>89</td><td>90</td><td>90</td><td>91</td><td>91</td><td>92</td><td>92</td></tr><tr><td>366</td><td>366</td><td>549</td><td>549</td><td>732</td><td>732</td><td>915</td><td>915</td><td>1098</td><td>1098</td><td>1281</td><td>1281</td><td>1464</td><td>1464</td><td>1647</td><td>1647</td><td>1830</td><td>1830</td><td>2013</td><td>2013</td><td>2196</td><td>2196</td><td>2379</td><td>2379</td><td>2562</td><td>2562</td><td>2745</td><td>2745</td><td>2928</td><td>2928</td><td>3111</td><td>3111</td><td>3294</td><td>3294</td><td>3477</td><td>3477</td><td>3660</td><td>3660</td><td>3843</td><td>3843</td><td>4026</td><td>4026</td><td>4209</td><td>4209</td><td>4392</td><td>4392</td><td>4575</td><td>4575</td><td>4758</td><td>4758</td><td>4941</td><td>4941</td><td>5124</td><td>5124</td><td>5307</td><td>5307</td><td>5490</td><td>5490</td><td>5673</td><td>5673</td><td>5856</td><td>5856</td><td>6039</td><td>6039</td><td>6222</td><td>6222</td><td>6405</td><td>6405</td><td>6588</td><td>6588</td><td>6771</td><td>6771</td><td>6954</td><td>6954</td><td>7137</td><td>7137</td><td>7320</td><td>7320</td><td>7503</td><td>7503</td><td>7686</td><td>7686</td><td>7869</td><td>7869</td><td>8052</td><td>8052</td><td>8235</td><td>8235</td><td>8418</td><td>8418</td><td>8601</td><td>8601</td><td>8784</td><td>8784</td><td>8967</td><td>8967</td><td>9150</td><td>9150</td><td>9333</td><td>9333</td><td>9516</td><td>9516</td><td>9699</td><td>9699</td><td>9882</td><td>9882</td><td>10065</td><td>10065</td><td>10248</td><td>10248</td><td>10431</td><td>10431</td><td>10614</td><td>10614</td><td>10797</td><td>10797</td><td>10980</td><td>10980</td><td>11163</td><td>11163</td><td>11346</td><td>11346</td><td>11529</td><td>11529</td><td>11712</td><td>11712</td><td>11895</td><td>11895</td><td>12078</td><td>12078</td><td>12261</td><td>12261</td><td>12444</td><td>12444</td><td>12627</td><td>12627</td><td>12810</td><td>12810</td><td>12993</td><td>12993</td><td>13176</td><td>13176</td><td>13359</td><td>13359</td><td>13542</td><td>13542</td><td>13725</td><td>13725</td><td>13908</td><td>13908</td><td>14091</td><td>14091</td><td>14274</td><td>14274</td><td>14457</td><td>14457</td><td>14640</td><td>14640</td><td>14823</td><td>14823</td><td>15006</td><td>15006</td><td>15189</td><td>15189</td><td>15372</td><td>15372</td><td>15555</td><td>15555</td><td>15738</td><td>15738</td><td>15921</td><td>15921</td><td>16104</td><td>16104</td><td>16287</td><td>16287</td><td>16470</td><td>16470</td><td>16653</td><td>16653</td><td>16836</td><td>16836</td></tr><tr><td>2</td><td>3</td><td>4</td><td>5</td><td>6</td><td>7</td><td>8</td><td>9</td><td>10</td><td>11</td><td>12</td><td>13</td><td>14</td><td>15</td><td>16</td><td>17</td><td>18</td><td>19</td><td>20</td><td>21</td><td>22</td><td>23</td><td>24</td><td>25</td><td>26</td><td>27</td><td>28</td><td>29</td><td>30</td><td>31</td><td>32</td><td>33</td><td>34</td><td>35</td><td>36</td><td>37</td><td>38</td><td>39</td><td>40</td><td>41</td><td>42</td><td>43</td><td>44</td><td>45</td><td>46</td><td>47</td><td>48</td><td>49</td><td>50</td><td>51</td><td>52</td><td>53</td><td>54</td><td>55</td><td>56</td><td>57</td><td>58</td><td>59</td><td>60</td><td>61</td><td>62</td><td>63</td><td>64</td><td>65</td><td>66</td><td>67</td><td>68</td><td>69</td><td>70</td><td>71</td><td>72</td><td>73</td><td>74</td><td>75</td><td>76</td><td>77</td><td>78</td><td>79</td><td>80</td><td>81</td><td>82</td><td>83</td><td>84</td><td>85</td><td>86</td><td>87</td><td>88</td><td>89</td><td>90</td><td>91</td><td>92</td><td>93</td><td>94</td><td>95</td><td>96</td><td>97</td><td>98</td><td>99</td><td>100</td><td>101</td><td>102</td><td>103</td><td>104</td><td>105</td><td>106</td><td>107</td><td>108</td><td>109</td><td>110</td><td>111</td><td>112</td><td>113</td><td>114</td><td>115</td><td>116</td><td>117</td><td>118</td><td>119</td><td>120</td><td>121</td><td>122</td><td>123</td><td>124</td><td>125</td><td>126</td><td>127</td><td>128</td><td>129</td><td>130</td><td>131</td><td>132</td><td>133</td><td>134</td><td>135</td><td>136</td><td>137</td><td>138</td><td>139</td><td>140</td><td>141</td><td>142</td><td>143</td><td>144</td><td>145</td><td>146</td><td>147</td><td>148</td><td>149</td><td>150</td><td>151</td><td>152</td><td>153</td><td>154</td><td>155</td><td>156</td><td>157</td><td>158</td><td>159</td><td>160</td><td>161</td><td>162</td><td>163</td><td>164</td><td>165</td><td>166</td><td>167</td><td>168</td><td>169</td><td>170</td><td>171</td><td>172</td><td>173</td><td>174</td><td>175</td><td>176</td><td>177</td><td>178</td><td>179</td><td>180</td><td>181</td><td>182</td><td>183</td></tr><tr><td>184</td><td>276</td><td>368</td><td>460</td><td>552</td><td>644</td><td>736</td><td>828</td><td>920</td><td>1012</td><td>1104</td><td>1196</td><td>1288</td><td>1380</td><td>1472</td><td>1564</td><td>1656</td><td>1748</td><td>1840</td><td>1932</td><td>2024</td><td>2116</td><td>2208</td><td>2300</td><td>2392</td><td>2484</td><td>2576</td><td>2668</td><td>2760</td><td>2852</td><td>2944</td><td>3036</td><td>3128</td><td>3220</td><td>3312</td><td>3404</td><td>3496</td><td>3588</td><td>3680</td><td>3772</td><td>3864</td><td>3956</td><td>4048</td><td>4140</td><td>4232</td><td>4324</td><td>4416</td><td>4508</td><td>4600</td><td>4692</td><td>4784</td><td>4876</td><td>4968</td><td>5060</td><td>5152</td><td>5244</td><td>5336</td><td>5428</td><td>5520</td><td>5612</td><td>5704</td><td>5796</td><td>5888</td><td>5980</td><td>6072</td><td>6164</td><td>6256</td><td>6348</td><td>6440</td><td>6532</td><td>6624</td><td>6716</td><td>6808</td><td>6900</td><td>6992</td><td>7084</td><td>7176</td><td>7268</td><td>7360</td><td>7452</td><td>7544</td><td>7636</td><td>7728</td><td>7820</td><td>7912</td><td>8004</td><td>8096</td><td>8188</td><td>8280</td><td>8372</td><td>8464</td><td>8556</td><td>8648</td><td>8740</td><td>8832</td><td>8924</td><td>9016</td><td>9108</td><td>9200</td><td>9292</td><td>9384</td><td>9476</td><td>9568</td><td>9660</td><td>9752</td><td>9844</td><td>9936</td><td>10028</td><td>10120</td><td>10212</td><td>10304</td><td>10396</td><td>10488</td><td>10580</td><td>10672</td><td>10764</td><td>10856</td><td>10948</td><td>11040</td><td>11132</td><td>11224</td><td>11316</td><td>11408</td><td>11500</td><td>11592</td><td>11684</td><td>11776</td><td>11868</td><td>11960</td><td>12052</td><td>12144</td><td>12236</td><td>12328</td><td>12420</td><td>12512</td><td>12604</td><td>12696</td><td>12788</td><td>12880</td><td>12972</td><td>13064</td><td>13156</td><td>13248</td><td>13340</td><td>13432</td><td>13524</td><td>13616</td><td>13708</td><td>13800</td><td>13892</td><td>13984</td><td>14076</td><td>14168</td><td>14260</td><td>14352</td><td>14444</td><td>14536</td><td>14628</td><td>14720</td><td>14812</td><td>14904</td><td>14996</td><td>15088</td><td>15180</td><td>15272</td><td>15364</td><td>15456</td><td>15548</td><td>15640</td><td>15732</td><td>15824</td><td>15916</td><td>16008</td><td>16100</td><td>16192</td><td>16284</td><td>16376</td><td>16468</td><td>16560</td><td>16652</td><td>16744</td><td>16836</td></tr></table>"
      ],
      "text/plain": [
       "<IPython.core.display.HTML object>"
      ]
     },
     "metadata": {},
     "output_type": "display_data"
    },
    {
     "name": "stdout",
     "output_type": "stream",
     "text": [
      "When p = 185 triangular = 17205 and partial triangular = 93\n"
     ]
    },
    {
     "data": {
      "text/html": [
       "<table><tr><td>2</td><td>2</td><td>3</td><td>3</td><td>4</td><td>4</td><td>5</td><td>5</td><td>6</td><td>6</td><td>7</td><td>7</td><td>8</td><td>8</td><td>9</td><td>9</td><td>10</td><td>10</td><td>11</td><td>11</td><td>12</td><td>12</td><td>13</td><td>13</td><td>14</td><td>14</td><td>15</td><td>15</td><td>16</td><td>16</td><td>17</td><td>17</td><td>18</td><td>18</td><td>19</td><td>19</td><td>20</td><td>20</td><td>21</td><td>21</td><td>22</td><td>22</td><td>23</td><td>23</td><td>24</td><td>24</td><td>25</td><td>25</td><td>26</td><td>26</td><td>27</td><td>27</td><td>28</td><td>28</td><td>29</td><td>29</td><td>30</td><td>30</td><td>31</td><td>31</td><td>32</td><td>32</td><td>33</td><td>33</td><td>34</td><td>34</td><td>35</td><td>35</td><td>36</td><td>36</td><td>37</td><td>37</td><td>38</td><td>38</td><td>39</td><td>39</td><td>40</td><td>40</td><td>41</td><td>41</td><td>42</td><td>42</td><td>43</td><td>43</td><td>44</td><td>44</td><td>45</td><td>45</td><td>46</td><td>46</td><td>47</td><td>47</td><td>48</td><td>48</td><td>49</td><td>49</td><td>50</td><td>50</td><td>51</td><td>51</td><td>52</td><td>52</td><td>53</td><td>53</td><td>54</td><td>54</td><td>55</td><td>55</td><td>56</td><td>56</td><td>57</td><td>57</td><td>58</td><td>58</td><td>59</td><td>59</td><td>60</td><td>60</td><td>61</td><td>61</td><td>62</td><td>62</td><td>63</td><td>63</td><td>64</td><td>64</td><td>65</td><td>65</td><td>66</td><td>66</td><td>67</td><td>67</td><td>68</td><td>68</td><td>69</td><td>69</td><td>70</td><td>70</td><td>71</td><td>71</td><td>72</td><td>72</td><td>73</td><td>73</td><td>74</td><td>74</td><td>75</td><td>75</td><td>76</td><td>76</td><td>77</td><td>77</td><td>78</td><td>78</td><td>79</td><td>79</td><td>80</td><td>80</td><td>81</td><td>81</td><td>82</td><td>82</td><td>83</td><td>83</td><td>84</td><td>84</td><td>85</td><td>85</td><td>86</td><td>86</td><td>87</td><td>87</td><td>88</td><td>88</td><td>89</td><td>89</td><td>90</td><td>90</td><td>91</td><td>91</td><td>92</td><td>92</td><td>93</td><td>93</td></tr><tr><td>370</td><td>370</td><td>555</td><td>555</td><td>740</td><td>740</td><td>925</td><td>925</td><td>1110</td><td>1110</td><td>1295</td><td>1295</td><td>1480</td><td>1480</td><td>1665</td><td>1665</td><td>1850</td><td>1850</td><td>2035</td><td>2035</td><td>2220</td><td>2220</td><td>2405</td><td>2405</td><td>2590</td><td>2590</td><td>2775</td><td>2775</td><td>2960</td><td>2960</td><td>3145</td><td>3145</td><td>3330</td><td>3330</td><td>3515</td><td>3515</td><td>3700</td><td>3700</td><td>3885</td><td>3885</td><td>4070</td><td>4070</td><td>4255</td><td>4255</td><td>4440</td><td>4440</td><td>4625</td><td>4625</td><td>4810</td><td>4810</td><td>4995</td><td>4995</td><td>5180</td><td>5180</td><td>5365</td><td>5365</td><td>5550</td><td>5550</td><td>5735</td><td>5735</td><td>5920</td><td>5920</td><td>6105</td><td>6105</td><td>6290</td><td>6290</td><td>6475</td><td>6475</td><td>6660</td><td>6660</td><td>6845</td><td>6845</td><td>7030</td><td>7030</td><td>7215</td><td>7215</td><td>7400</td><td>7400</td><td>7585</td><td>7585</td><td>7770</td><td>7770</td><td>7955</td><td>7955</td><td>8140</td><td>8140</td><td>8325</td><td>8325</td><td>8510</td><td>8510</td><td>8695</td><td>8695</td><td>8880</td><td>8880</td><td>9065</td><td>9065</td><td>9250</td><td>9250</td><td>9435</td><td>9435</td><td>9620</td><td>9620</td><td>9805</td><td>9805</td><td>9990</td><td>9990</td><td>10175</td><td>10175</td><td>10360</td><td>10360</td><td>10545</td><td>10545</td><td>10730</td><td>10730</td><td>10915</td><td>10915</td><td>11100</td><td>11100</td><td>11285</td><td>11285</td><td>11470</td><td>11470</td><td>11655</td><td>11655</td><td>11840</td><td>11840</td><td>12025</td><td>12025</td><td>12210</td><td>12210</td><td>12395</td><td>12395</td><td>12580</td><td>12580</td><td>12765</td><td>12765</td><td>12950</td><td>12950</td><td>13135</td><td>13135</td><td>13320</td><td>13320</td><td>13505</td><td>13505</td><td>13690</td><td>13690</td><td>13875</td><td>13875</td><td>14060</td><td>14060</td><td>14245</td><td>14245</td><td>14430</td><td>14430</td><td>14615</td><td>14615</td><td>14800</td><td>14800</td><td>14985</td><td>14985</td><td>15170</td><td>15170</td><td>15355</td><td>15355</td><td>15540</td><td>15540</td><td>15725</td><td>15725</td><td>15910</td><td>15910</td><td>16095</td><td>16095</td><td>16280</td><td>16280</td><td>16465</td><td>16465</td><td>16650</td><td>16650</td><td>16835</td><td>16835</td><td>17020</td><td>17020</td><td>17205</td><td>17205</td></tr><tr><td>2</td><td>3</td><td>4</td><td>5</td><td>6</td><td>7</td><td>8</td><td>9</td><td>10</td><td>11</td><td>12</td><td>13</td><td>14</td><td>15</td><td>16</td><td>17</td><td>18</td><td>19</td><td>20</td><td>21</td><td>22</td><td>23</td><td>24</td><td>25</td><td>26</td><td>27</td><td>28</td><td>29</td><td>30</td><td>31</td><td>32</td><td>33</td><td>34</td><td>35</td><td>36</td><td>37</td><td>38</td><td>39</td><td>40</td><td>41</td><td>42</td><td>43</td><td>44</td><td>45</td><td>46</td><td>47</td><td>48</td><td>49</td><td>50</td><td>51</td><td>52</td><td>53</td><td>54</td><td>55</td><td>56</td><td>57</td><td>58</td><td>59</td><td>60</td><td>61</td><td>62</td><td>63</td><td>64</td><td>65</td><td>66</td><td>67</td><td>68</td><td>69</td><td>70</td><td>71</td><td>72</td><td>73</td><td>74</td><td>75</td><td>76</td><td>77</td><td>78</td><td>79</td><td>80</td><td>81</td><td>82</td><td>83</td><td>84</td><td>85</td><td>86</td><td>87</td><td>88</td><td>89</td><td>90</td><td>91</td><td>92</td><td>93</td><td>94</td><td>95</td><td>96</td><td>97</td><td>98</td><td>99</td><td>100</td><td>101</td><td>102</td><td>103</td><td>104</td><td>105</td><td>106</td><td>107</td><td>108</td><td>109</td><td>110</td><td>111</td><td>112</td><td>113</td><td>114</td><td>115</td><td>116</td><td>117</td><td>118</td><td>119</td><td>120</td><td>121</td><td>122</td><td>123</td><td>124</td><td>125</td><td>126</td><td>127</td><td>128</td><td>129</td><td>130</td><td>131</td><td>132</td><td>133</td><td>134</td><td>135</td><td>136</td><td>137</td><td>138</td><td>139</td><td>140</td><td>141</td><td>142</td><td>143</td><td>144</td><td>145</td><td>146</td><td>147</td><td>148</td><td>149</td><td>150</td><td>151</td><td>152</td><td>153</td><td>154</td><td>155</td><td>156</td><td>157</td><td>158</td><td>159</td><td>160</td><td>161</td><td>162</td><td>163</td><td>164</td><td>165</td><td>166</td><td>167</td><td>168</td><td>169</td><td>170</td><td>171</td><td>172</td><td>173</td><td>174</td><td>175</td><td>176</td><td>177</td><td>178</td><td>179</td><td>180</td><td>181</td><td>182</td><td>183</td><td>184</td><td>185</td></tr><tr><td>186</td><td>279</td><td>372</td><td>465</td><td>558</td><td>651</td><td>744</td><td>837</td><td>930</td><td>1023</td><td>1116</td><td>1209</td><td>1302</td><td>1395</td><td>1488</td><td>1581</td><td>1674</td><td>1767</td><td>1860</td><td>1953</td><td>2046</td><td>2139</td><td>2232</td><td>2325</td><td>2418</td><td>2511</td><td>2604</td><td>2697</td><td>2790</td><td>2883</td><td>2976</td><td>3069</td><td>3162</td><td>3255</td><td>3348</td><td>3441</td><td>3534</td><td>3627</td><td>3720</td><td>3813</td><td>3906</td><td>3999</td><td>4092</td><td>4185</td><td>4278</td><td>4371</td><td>4464</td><td>4557</td><td>4650</td><td>4743</td><td>4836</td><td>4929</td><td>5022</td><td>5115</td><td>5208</td><td>5301</td><td>5394</td><td>5487</td><td>5580</td><td>5673</td><td>5766</td><td>5859</td><td>5952</td><td>6045</td><td>6138</td><td>6231</td><td>6324</td><td>6417</td><td>6510</td><td>6603</td><td>6696</td><td>6789</td><td>6882</td><td>6975</td><td>7068</td><td>7161</td><td>7254</td><td>7347</td><td>7440</td><td>7533</td><td>7626</td><td>7719</td><td>7812</td><td>7905</td><td>7998</td><td>8091</td><td>8184</td><td>8277</td><td>8370</td><td>8463</td><td>8556</td><td>8649</td><td>8742</td><td>8835</td><td>8928</td><td>9021</td><td>9114</td><td>9207</td><td>9300</td><td>9393</td><td>9486</td><td>9579</td><td>9672</td><td>9765</td><td>9858</td><td>9951</td><td>10044</td><td>10137</td><td>10230</td><td>10323</td><td>10416</td><td>10509</td><td>10602</td><td>10695</td><td>10788</td><td>10881</td><td>10974</td><td>11067</td><td>11160</td><td>11253</td><td>11346</td><td>11439</td><td>11532</td><td>11625</td><td>11718</td><td>11811</td><td>11904</td><td>11997</td><td>12090</td><td>12183</td><td>12276</td><td>12369</td><td>12462</td><td>12555</td><td>12648</td><td>12741</td><td>12834</td><td>12927</td><td>13020</td><td>13113</td><td>13206</td><td>13299</td><td>13392</td><td>13485</td><td>13578</td><td>13671</td><td>13764</td><td>13857</td><td>13950</td><td>14043</td><td>14136</td><td>14229</td><td>14322</td><td>14415</td><td>14508</td><td>14601</td><td>14694</td><td>14787</td><td>14880</td><td>14973</td><td>15066</td><td>15159</td><td>15252</td><td>15345</td><td>15438</td><td>15531</td><td>15624</td><td>15717</td><td>15810</td><td>15903</td><td>15996</td><td>16089</td><td>16182</td><td>16275</td><td>16368</td><td>16461</td><td>16554</td><td>16647</td><td>16740</td><td>16833</td><td>16926</td><td>17019</td><td>17112</td><td>17205</td></tr></table>"
      ],
      "text/plain": [
       "<IPython.core.display.HTML object>"
      ]
     },
     "metadata": {},
     "output_type": "display_data"
    },
    {
     "name": "stdout",
     "output_type": "stream",
     "text": [
      "When p = 187 triangular = 17578 and partial triangular = 94\n"
     ]
    },
    {
     "data": {
      "text/html": [
       "<table><tr><td>2</td><td>2</td><td>3</td><td>3</td><td>4</td><td>4</td><td>5</td><td>5</td><td>6</td><td>6</td><td>7</td><td>7</td><td>8</td><td>8</td><td>9</td><td>9</td><td>10</td><td>10</td><td>11</td><td>11</td><td>12</td><td>12</td><td>13</td><td>13</td><td>14</td><td>14</td><td>15</td><td>15</td><td>16</td><td>16</td><td>17</td><td>17</td><td>18</td><td>18</td><td>19</td><td>19</td><td>20</td><td>20</td><td>21</td><td>21</td><td>22</td><td>22</td><td>23</td><td>23</td><td>24</td><td>24</td><td>25</td><td>25</td><td>26</td><td>26</td><td>27</td><td>27</td><td>28</td><td>28</td><td>29</td><td>29</td><td>30</td><td>30</td><td>31</td><td>31</td><td>32</td><td>32</td><td>33</td><td>33</td><td>34</td><td>34</td><td>35</td><td>35</td><td>36</td><td>36</td><td>37</td><td>37</td><td>38</td><td>38</td><td>39</td><td>39</td><td>40</td><td>40</td><td>41</td><td>41</td><td>42</td><td>42</td><td>43</td><td>43</td><td>44</td><td>44</td><td>45</td><td>45</td><td>46</td><td>46</td><td>47</td><td>47</td><td>48</td><td>48</td><td>49</td><td>49</td><td>50</td><td>50</td><td>51</td><td>51</td><td>52</td><td>52</td><td>53</td><td>53</td><td>54</td><td>54</td><td>55</td><td>55</td><td>56</td><td>56</td><td>57</td><td>57</td><td>58</td><td>58</td><td>59</td><td>59</td><td>60</td><td>60</td><td>61</td><td>61</td><td>62</td><td>62</td><td>63</td><td>63</td><td>64</td><td>64</td><td>65</td><td>65</td><td>66</td><td>66</td><td>67</td><td>67</td><td>68</td><td>68</td><td>69</td><td>69</td><td>70</td><td>70</td><td>71</td><td>71</td><td>72</td><td>72</td><td>73</td><td>73</td><td>74</td><td>74</td><td>75</td><td>75</td><td>76</td><td>76</td><td>77</td><td>77</td><td>78</td><td>78</td><td>79</td><td>79</td><td>80</td><td>80</td><td>81</td><td>81</td><td>82</td><td>82</td><td>83</td><td>83</td><td>84</td><td>84</td><td>85</td><td>85</td><td>86</td><td>86</td><td>87</td><td>87</td><td>88</td><td>88</td><td>89</td><td>89</td><td>90</td><td>90</td><td>91</td><td>91</td><td>92</td><td>92</td><td>93</td><td>93</td><td>94</td><td>94</td></tr><tr><td>374</td><td>374</td><td>561</td><td>561</td><td>748</td><td>748</td><td>935</td><td>935</td><td>1122</td><td>1122</td><td>1309</td><td>1309</td><td>1496</td><td>1496</td><td>1683</td><td>1683</td><td>1870</td><td>1870</td><td>2057</td><td>2057</td><td>2244</td><td>2244</td><td>2431</td><td>2431</td><td>2618</td><td>2618</td><td>2805</td><td>2805</td><td>2992</td><td>2992</td><td>3179</td><td>3179</td><td>3366</td><td>3366</td><td>3553</td><td>3553</td><td>3740</td><td>3740</td><td>3927</td><td>3927</td><td>4114</td><td>4114</td><td>4301</td><td>4301</td><td>4488</td><td>4488</td><td>4675</td><td>4675</td><td>4862</td><td>4862</td><td>5049</td><td>5049</td><td>5236</td><td>5236</td><td>5423</td><td>5423</td><td>5610</td><td>5610</td><td>5797</td><td>5797</td><td>5984</td><td>5984</td><td>6171</td><td>6171</td><td>6358</td><td>6358</td><td>6545</td><td>6545</td><td>6732</td><td>6732</td><td>6919</td><td>6919</td><td>7106</td><td>7106</td><td>7293</td><td>7293</td><td>7480</td><td>7480</td><td>7667</td><td>7667</td><td>7854</td><td>7854</td><td>8041</td><td>8041</td><td>8228</td><td>8228</td><td>8415</td><td>8415</td><td>8602</td><td>8602</td><td>8789</td><td>8789</td><td>8976</td><td>8976</td><td>9163</td><td>9163</td><td>9350</td><td>9350</td><td>9537</td><td>9537</td><td>9724</td><td>9724</td><td>9911</td><td>9911</td><td>10098</td><td>10098</td><td>10285</td><td>10285</td><td>10472</td><td>10472</td><td>10659</td><td>10659</td><td>10846</td><td>10846</td><td>11033</td><td>11033</td><td>11220</td><td>11220</td><td>11407</td><td>11407</td><td>11594</td><td>11594</td><td>11781</td><td>11781</td><td>11968</td><td>11968</td><td>12155</td><td>12155</td><td>12342</td><td>12342</td><td>12529</td><td>12529</td><td>12716</td><td>12716</td><td>12903</td><td>12903</td><td>13090</td><td>13090</td><td>13277</td><td>13277</td><td>13464</td><td>13464</td><td>13651</td><td>13651</td><td>13838</td><td>13838</td><td>14025</td><td>14025</td><td>14212</td><td>14212</td><td>14399</td><td>14399</td><td>14586</td><td>14586</td><td>14773</td><td>14773</td><td>14960</td><td>14960</td><td>15147</td><td>15147</td><td>15334</td><td>15334</td><td>15521</td><td>15521</td><td>15708</td><td>15708</td><td>15895</td><td>15895</td><td>16082</td><td>16082</td><td>16269</td><td>16269</td><td>16456</td><td>16456</td><td>16643</td><td>16643</td><td>16830</td><td>16830</td><td>17017</td><td>17017</td><td>17204</td><td>17204</td><td>17391</td><td>17391</td><td>17578</td><td>17578</td></tr><tr><td>2</td><td>3</td><td>4</td><td>5</td><td>6</td><td>7</td><td>8</td><td>9</td><td>10</td><td>11</td><td>12</td><td>13</td><td>14</td><td>15</td><td>16</td><td>17</td><td>18</td><td>19</td><td>20</td><td>21</td><td>22</td><td>23</td><td>24</td><td>25</td><td>26</td><td>27</td><td>28</td><td>29</td><td>30</td><td>31</td><td>32</td><td>33</td><td>34</td><td>35</td><td>36</td><td>37</td><td>38</td><td>39</td><td>40</td><td>41</td><td>42</td><td>43</td><td>44</td><td>45</td><td>46</td><td>47</td><td>48</td><td>49</td><td>50</td><td>51</td><td>52</td><td>53</td><td>54</td><td>55</td><td>56</td><td>57</td><td>58</td><td>59</td><td>60</td><td>61</td><td>62</td><td>63</td><td>64</td><td>65</td><td>66</td><td>67</td><td>68</td><td>69</td><td>70</td><td>71</td><td>72</td><td>73</td><td>74</td><td>75</td><td>76</td><td>77</td><td>78</td><td>79</td><td>80</td><td>81</td><td>82</td><td>83</td><td>84</td><td>85</td><td>86</td><td>87</td><td>88</td><td>89</td><td>90</td><td>91</td><td>92</td><td>93</td><td>94</td><td>95</td><td>96</td><td>97</td><td>98</td><td>99</td><td>100</td><td>101</td><td>102</td><td>103</td><td>104</td><td>105</td><td>106</td><td>107</td><td>108</td><td>109</td><td>110</td><td>111</td><td>112</td><td>113</td><td>114</td><td>115</td><td>116</td><td>117</td><td>118</td><td>119</td><td>120</td><td>121</td><td>122</td><td>123</td><td>124</td><td>125</td><td>126</td><td>127</td><td>128</td><td>129</td><td>130</td><td>131</td><td>132</td><td>133</td><td>134</td><td>135</td><td>136</td><td>137</td><td>138</td><td>139</td><td>140</td><td>141</td><td>142</td><td>143</td><td>144</td><td>145</td><td>146</td><td>147</td><td>148</td><td>149</td><td>150</td><td>151</td><td>152</td><td>153</td><td>154</td><td>155</td><td>156</td><td>157</td><td>158</td><td>159</td><td>160</td><td>161</td><td>162</td><td>163</td><td>164</td><td>165</td><td>166</td><td>167</td><td>168</td><td>169</td><td>170</td><td>171</td><td>172</td><td>173</td><td>174</td><td>175</td><td>176</td><td>177</td><td>178</td><td>179</td><td>180</td><td>181</td><td>182</td><td>183</td><td>184</td><td>185</td><td>186</td><td>187</td></tr><tr><td>188</td><td>282</td><td>376</td><td>470</td><td>564</td><td>658</td><td>752</td><td>846</td><td>940</td><td>1034</td><td>1128</td><td>1222</td><td>1316</td><td>1410</td><td>1504</td><td>1598</td><td>1692</td><td>1786</td><td>1880</td><td>1974</td><td>2068</td><td>2162</td><td>2256</td><td>2350</td><td>2444</td><td>2538</td><td>2632</td><td>2726</td><td>2820</td><td>2914</td><td>3008</td><td>3102</td><td>3196</td><td>3290</td><td>3384</td><td>3478</td><td>3572</td><td>3666</td><td>3760</td><td>3854</td><td>3948</td><td>4042</td><td>4136</td><td>4230</td><td>4324</td><td>4418</td><td>4512</td><td>4606</td><td>4700</td><td>4794</td><td>4888</td><td>4982</td><td>5076</td><td>5170</td><td>5264</td><td>5358</td><td>5452</td><td>5546</td><td>5640</td><td>5734</td><td>5828</td><td>5922</td><td>6016</td><td>6110</td><td>6204</td><td>6298</td><td>6392</td><td>6486</td><td>6580</td><td>6674</td><td>6768</td><td>6862</td><td>6956</td><td>7050</td><td>7144</td><td>7238</td><td>7332</td><td>7426</td><td>7520</td><td>7614</td><td>7708</td><td>7802</td><td>7896</td><td>7990</td><td>8084</td><td>8178</td><td>8272</td><td>8366</td><td>8460</td><td>8554</td><td>8648</td><td>8742</td><td>8836</td><td>8930</td><td>9024</td><td>9118</td><td>9212</td><td>9306</td><td>9400</td><td>9494</td><td>9588</td><td>9682</td><td>9776</td><td>9870</td><td>9964</td><td>10058</td><td>10152</td><td>10246</td><td>10340</td><td>10434</td><td>10528</td><td>10622</td><td>10716</td><td>10810</td><td>10904</td><td>10998</td><td>11092</td><td>11186</td><td>11280</td><td>11374</td><td>11468</td><td>11562</td><td>11656</td><td>11750</td><td>11844</td><td>11938</td><td>12032</td><td>12126</td><td>12220</td><td>12314</td><td>12408</td><td>12502</td><td>12596</td><td>12690</td><td>12784</td><td>12878</td><td>12972</td><td>13066</td><td>13160</td><td>13254</td><td>13348</td><td>13442</td><td>13536</td><td>13630</td><td>13724</td><td>13818</td><td>13912</td><td>14006</td><td>14100</td><td>14194</td><td>14288</td><td>14382</td><td>14476</td><td>14570</td><td>14664</td><td>14758</td><td>14852</td><td>14946</td><td>15040</td><td>15134</td><td>15228</td><td>15322</td><td>15416</td><td>15510</td><td>15604</td><td>15698</td><td>15792</td><td>15886</td><td>15980</td><td>16074</td><td>16168</td><td>16262</td><td>16356</td><td>16450</td><td>16544</td><td>16638</td><td>16732</td><td>16826</td><td>16920</td><td>17014</td><td>17108</td><td>17202</td><td>17296</td><td>17390</td><td>17484</td><td>17578</td></tr></table>"
      ],
      "text/plain": [
       "<IPython.core.display.HTML object>"
      ]
     },
     "metadata": {},
     "output_type": "display_data"
    },
    {
     "name": "stdout",
     "output_type": "stream",
     "text": [
      "When p = 189 triangular = 17955 and partial triangular = 95\n"
     ]
    },
    {
     "data": {
      "text/html": [
       "<table><tr><td>2</td><td>2</td><td>3</td><td>3</td><td>4</td><td>4</td><td>5</td><td>5</td><td>6</td><td>6</td><td>7</td><td>7</td><td>8</td><td>8</td><td>9</td><td>9</td><td>10</td><td>10</td><td>11</td><td>11</td><td>12</td><td>12</td><td>13</td><td>13</td><td>14</td><td>14</td><td>15</td><td>15</td><td>16</td><td>16</td><td>17</td><td>17</td><td>18</td><td>18</td><td>19</td><td>19</td><td>20</td><td>20</td><td>21</td><td>21</td><td>22</td><td>22</td><td>23</td><td>23</td><td>24</td><td>24</td><td>25</td><td>25</td><td>26</td><td>26</td><td>27</td><td>27</td><td>28</td><td>28</td><td>29</td><td>29</td><td>30</td><td>30</td><td>31</td><td>31</td><td>32</td><td>32</td><td>33</td><td>33</td><td>34</td><td>34</td><td>35</td><td>35</td><td>36</td><td>36</td><td>37</td><td>37</td><td>38</td><td>38</td><td>39</td><td>39</td><td>40</td><td>40</td><td>41</td><td>41</td><td>42</td><td>42</td><td>43</td><td>43</td><td>44</td><td>44</td><td>45</td><td>45</td><td>46</td><td>46</td><td>47</td><td>47</td><td>48</td><td>48</td><td>49</td><td>49</td><td>50</td><td>50</td><td>51</td><td>51</td><td>52</td><td>52</td><td>53</td><td>53</td><td>54</td><td>54</td><td>55</td><td>55</td><td>56</td><td>56</td><td>57</td><td>57</td><td>58</td><td>58</td><td>59</td><td>59</td><td>60</td><td>60</td><td>61</td><td>61</td><td>62</td><td>62</td><td>63</td><td>63</td><td>64</td><td>64</td><td>65</td><td>65</td><td>66</td><td>66</td><td>67</td><td>67</td><td>68</td><td>68</td><td>69</td><td>69</td><td>70</td><td>70</td><td>71</td><td>71</td><td>72</td><td>72</td><td>73</td><td>73</td><td>74</td><td>74</td><td>75</td><td>75</td><td>76</td><td>76</td><td>77</td><td>77</td><td>78</td><td>78</td><td>79</td><td>79</td><td>80</td><td>80</td><td>81</td><td>81</td><td>82</td><td>82</td><td>83</td><td>83</td><td>84</td><td>84</td><td>85</td><td>85</td><td>86</td><td>86</td><td>87</td><td>87</td><td>88</td><td>88</td><td>89</td><td>89</td><td>90</td><td>90</td><td>91</td><td>91</td><td>92</td><td>92</td><td>93</td><td>93</td><td>94</td><td>94</td><td>95</td><td>95</td></tr><tr><td>378</td><td>378</td><td>567</td><td>567</td><td>756</td><td>756</td><td>945</td><td>945</td><td>1134</td><td>1134</td><td>1323</td><td>1323</td><td>1512</td><td>1512</td><td>1701</td><td>1701</td><td>1890</td><td>1890</td><td>2079</td><td>2079</td><td>2268</td><td>2268</td><td>2457</td><td>2457</td><td>2646</td><td>2646</td><td>2835</td><td>2835</td><td>3024</td><td>3024</td><td>3213</td><td>3213</td><td>3402</td><td>3402</td><td>3591</td><td>3591</td><td>3780</td><td>3780</td><td>3969</td><td>3969</td><td>4158</td><td>4158</td><td>4347</td><td>4347</td><td>4536</td><td>4536</td><td>4725</td><td>4725</td><td>4914</td><td>4914</td><td>5103</td><td>5103</td><td>5292</td><td>5292</td><td>5481</td><td>5481</td><td>5670</td><td>5670</td><td>5859</td><td>5859</td><td>6048</td><td>6048</td><td>6237</td><td>6237</td><td>6426</td><td>6426</td><td>6615</td><td>6615</td><td>6804</td><td>6804</td><td>6993</td><td>6993</td><td>7182</td><td>7182</td><td>7371</td><td>7371</td><td>7560</td><td>7560</td><td>7749</td><td>7749</td><td>7938</td><td>7938</td><td>8127</td><td>8127</td><td>8316</td><td>8316</td><td>8505</td><td>8505</td><td>8694</td><td>8694</td><td>8883</td><td>8883</td><td>9072</td><td>9072</td><td>9261</td><td>9261</td><td>9450</td><td>9450</td><td>9639</td><td>9639</td><td>9828</td><td>9828</td><td>10017</td><td>10017</td><td>10206</td><td>10206</td><td>10395</td><td>10395</td><td>10584</td><td>10584</td><td>10773</td><td>10773</td><td>10962</td><td>10962</td><td>11151</td><td>11151</td><td>11340</td><td>11340</td><td>11529</td><td>11529</td><td>11718</td><td>11718</td><td>11907</td><td>11907</td><td>12096</td><td>12096</td><td>12285</td><td>12285</td><td>12474</td><td>12474</td><td>12663</td><td>12663</td><td>12852</td><td>12852</td><td>13041</td><td>13041</td><td>13230</td><td>13230</td><td>13419</td><td>13419</td><td>13608</td><td>13608</td><td>13797</td><td>13797</td><td>13986</td><td>13986</td><td>14175</td><td>14175</td><td>14364</td><td>14364</td><td>14553</td><td>14553</td><td>14742</td><td>14742</td><td>14931</td><td>14931</td><td>15120</td><td>15120</td><td>15309</td><td>15309</td><td>15498</td><td>15498</td><td>15687</td><td>15687</td><td>15876</td><td>15876</td><td>16065</td><td>16065</td><td>16254</td><td>16254</td><td>16443</td><td>16443</td><td>16632</td><td>16632</td><td>16821</td><td>16821</td><td>17010</td><td>17010</td><td>17199</td><td>17199</td><td>17388</td><td>17388</td><td>17577</td><td>17577</td><td>17766</td><td>17766</td><td>17955</td><td>17955</td></tr><tr><td>2</td><td>3</td><td>4</td><td>5</td><td>6</td><td>7</td><td>8</td><td>9</td><td>10</td><td>11</td><td>12</td><td>13</td><td>14</td><td>15</td><td>16</td><td>17</td><td>18</td><td>19</td><td>20</td><td>21</td><td>22</td><td>23</td><td>24</td><td>25</td><td>26</td><td>27</td><td>28</td><td>29</td><td>30</td><td>31</td><td>32</td><td>33</td><td>34</td><td>35</td><td>36</td><td>37</td><td>38</td><td>39</td><td>40</td><td>41</td><td>42</td><td>43</td><td>44</td><td>45</td><td>46</td><td>47</td><td>48</td><td>49</td><td>50</td><td>51</td><td>52</td><td>53</td><td>54</td><td>55</td><td>56</td><td>57</td><td>58</td><td>59</td><td>60</td><td>61</td><td>62</td><td>63</td><td>64</td><td>65</td><td>66</td><td>67</td><td>68</td><td>69</td><td>70</td><td>71</td><td>72</td><td>73</td><td>74</td><td>75</td><td>76</td><td>77</td><td>78</td><td>79</td><td>80</td><td>81</td><td>82</td><td>83</td><td>84</td><td>85</td><td>86</td><td>87</td><td>88</td><td>89</td><td>90</td><td>91</td><td>92</td><td>93</td><td>94</td><td>95</td><td>96</td><td>97</td><td>98</td><td>99</td><td>100</td><td>101</td><td>102</td><td>103</td><td>104</td><td>105</td><td>106</td><td>107</td><td>108</td><td>109</td><td>110</td><td>111</td><td>112</td><td>113</td><td>114</td><td>115</td><td>116</td><td>117</td><td>118</td><td>119</td><td>120</td><td>121</td><td>122</td><td>123</td><td>124</td><td>125</td><td>126</td><td>127</td><td>128</td><td>129</td><td>130</td><td>131</td><td>132</td><td>133</td><td>134</td><td>135</td><td>136</td><td>137</td><td>138</td><td>139</td><td>140</td><td>141</td><td>142</td><td>143</td><td>144</td><td>145</td><td>146</td><td>147</td><td>148</td><td>149</td><td>150</td><td>151</td><td>152</td><td>153</td><td>154</td><td>155</td><td>156</td><td>157</td><td>158</td><td>159</td><td>160</td><td>161</td><td>162</td><td>163</td><td>164</td><td>165</td><td>166</td><td>167</td><td>168</td><td>169</td><td>170</td><td>171</td><td>172</td><td>173</td><td>174</td><td>175</td><td>176</td><td>177</td><td>178</td><td>179</td><td>180</td><td>181</td><td>182</td><td>183</td><td>184</td><td>185</td><td>186</td><td>187</td><td>188</td><td>189</td></tr><tr><td>190</td><td>285</td><td>380</td><td>475</td><td>570</td><td>665</td><td>760</td><td>855</td><td>950</td><td>1045</td><td>1140</td><td>1235</td><td>1330</td><td>1425</td><td>1520</td><td>1615</td><td>1710</td><td>1805</td><td>1900</td><td>1995</td><td>2090</td><td>2185</td><td>2280</td><td>2375</td><td>2470</td><td>2565</td><td>2660</td><td>2755</td><td>2850</td><td>2945</td><td>3040</td><td>3135</td><td>3230</td><td>3325</td><td>3420</td><td>3515</td><td>3610</td><td>3705</td><td>3800</td><td>3895</td><td>3990</td><td>4085</td><td>4180</td><td>4275</td><td>4370</td><td>4465</td><td>4560</td><td>4655</td><td>4750</td><td>4845</td><td>4940</td><td>5035</td><td>5130</td><td>5225</td><td>5320</td><td>5415</td><td>5510</td><td>5605</td><td>5700</td><td>5795</td><td>5890</td><td>5985</td><td>6080</td><td>6175</td><td>6270</td><td>6365</td><td>6460</td><td>6555</td><td>6650</td><td>6745</td><td>6840</td><td>6935</td><td>7030</td><td>7125</td><td>7220</td><td>7315</td><td>7410</td><td>7505</td><td>7600</td><td>7695</td><td>7790</td><td>7885</td><td>7980</td><td>8075</td><td>8170</td><td>8265</td><td>8360</td><td>8455</td><td>8550</td><td>8645</td><td>8740</td><td>8835</td><td>8930</td><td>9025</td><td>9120</td><td>9215</td><td>9310</td><td>9405</td><td>9500</td><td>9595</td><td>9690</td><td>9785</td><td>9880</td><td>9975</td><td>10070</td><td>10165</td><td>10260</td><td>10355</td><td>10450</td><td>10545</td><td>10640</td><td>10735</td><td>10830</td><td>10925</td><td>11020</td><td>11115</td><td>11210</td><td>11305</td><td>11400</td><td>11495</td><td>11590</td><td>11685</td><td>11780</td><td>11875</td><td>11970</td><td>12065</td><td>12160</td><td>12255</td><td>12350</td><td>12445</td><td>12540</td><td>12635</td><td>12730</td><td>12825</td><td>12920</td><td>13015</td><td>13110</td><td>13205</td><td>13300</td><td>13395</td><td>13490</td><td>13585</td><td>13680</td><td>13775</td><td>13870</td><td>13965</td><td>14060</td><td>14155</td><td>14250</td><td>14345</td><td>14440</td><td>14535</td><td>14630</td><td>14725</td><td>14820</td><td>14915</td><td>15010</td><td>15105</td><td>15200</td><td>15295</td><td>15390</td><td>15485</td><td>15580</td><td>15675</td><td>15770</td><td>15865</td><td>15960</td><td>16055</td><td>16150</td><td>16245</td><td>16340</td><td>16435</td><td>16530</td><td>16625</td><td>16720</td><td>16815</td><td>16910</td><td>17005</td><td>17100</td><td>17195</td><td>17290</td><td>17385</td><td>17480</td><td>17575</td><td>17670</td><td>17765</td><td>17860</td><td>17955</td></tr></table>"
      ],
      "text/plain": [
       "<IPython.core.display.HTML object>"
      ]
     },
     "metadata": {},
     "output_type": "display_data"
    },
    {
     "name": "stdout",
     "output_type": "stream",
     "text": [
      "When p = 191 triangular = 18336 and partial triangular = 96\n"
     ]
    },
    {
     "data": {
      "text/html": [
       "<table><tr><td>2</td><td>2</td><td>3</td><td>3</td><td>4</td><td>4</td><td>5</td><td>5</td><td>6</td><td>6</td><td>7</td><td>7</td><td>8</td><td>8</td><td>9</td><td>9</td><td>10</td><td>10</td><td>11</td><td>11</td><td>12</td><td>12</td><td>13</td><td>13</td><td>14</td><td>14</td><td>15</td><td>15</td><td>16</td><td>16</td><td>17</td><td>17</td><td>18</td><td>18</td><td>19</td><td>19</td><td>20</td><td>20</td><td>21</td><td>21</td><td>22</td><td>22</td><td>23</td><td>23</td><td>24</td><td>24</td><td>25</td><td>25</td><td>26</td><td>26</td><td>27</td><td>27</td><td>28</td><td>28</td><td>29</td><td>29</td><td>30</td><td>30</td><td>31</td><td>31</td><td>32</td><td>32</td><td>33</td><td>33</td><td>34</td><td>34</td><td>35</td><td>35</td><td>36</td><td>36</td><td>37</td><td>37</td><td>38</td><td>38</td><td>39</td><td>39</td><td>40</td><td>40</td><td>41</td><td>41</td><td>42</td><td>42</td><td>43</td><td>43</td><td>44</td><td>44</td><td>45</td><td>45</td><td>46</td><td>46</td><td>47</td><td>47</td><td>48</td><td>48</td><td>49</td><td>49</td><td>50</td><td>50</td><td>51</td><td>51</td><td>52</td><td>52</td><td>53</td><td>53</td><td>54</td><td>54</td><td>55</td><td>55</td><td>56</td><td>56</td><td>57</td><td>57</td><td>58</td><td>58</td><td>59</td><td>59</td><td>60</td><td>60</td><td>61</td><td>61</td><td>62</td><td>62</td><td>63</td><td>63</td><td>64</td><td>64</td><td>65</td><td>65</td><td>66</td><td>66</td><td>67</td><td>67</td><td>68</td><td>68</td><td>69</td><td>69</td><td>70</td><td>70</td><td>71</td><td>71</td><td>72</td><td>72</td><td>73</td><td>73</td><td>74</td><td>74</td><td>75</td><td>75</td><td>76</td><td>76</td><td>77</td><td>77</td><td>78</td><td>78</td><td>79</td><td>79</td><td>80</td><td>80</td><td>81</td><td>81</td><td>82</td><td>82</td><td>83</td><td>83</td><td>84</td><td>84</td><td>85</td><td>85</td><td>86</td><td>86</td><td>87</td><td>87</td><td>88</td><td>88</td><td>89</td><td>89</td><td>90</td><td>90</td><td>91</td><td>91</td><td>92</td><td>92</td><td>93</td><td>93</td><td>94</td><td>94</td><td>95</td><td>95</td><td>96</td><td>96</td></tr><tr><td>382</td><td>382</td><td>573</td><td>573</td><td>764</td><td>764</td><td>955</td><td>955</td><td>1146</td><td>1146</td><td>1337</td><td>1337</td><td>1528</td><td>1528</td><td>1719</td><td>1719</td><td>1910</td><td>1910</td><td>2101</td><td>2101</td><td>2292</td><td>2292</td><td>2483</td><td>2483</td><td>2674</td><td>2674</td><td>2865</td><td>2865</td><td>3056</td><td>3056</td><td>3247</td><td>3247</td><td>3438</td><td>3438</td><td>3629</td><td>3629</td><td>3820</td><td>3820</td><td>4011</td><td>4011</td><td>4202</td><td>4202</td><td>4393</td><td>4393</td><td>4584</td><td>4584</td><td>4775</td><td>4775</td><td>4966</td><td>4966</td><td>5157</td><td>5157</td><td>5348</td><td>5348</td><td>5539</td><td>5539</td><td>5730</td><td>5730</td><td>5921</td><td>5921</td><td>6112</td><td>6112</td><td>6303</td><td>6303</td><td>6494</td><td>6494</td><td>6685</td><td>6685</td><td>6876</td><td>6876</td><td>7067</td><td>7067</td><td>7258</td><td>7258</td><td>7449</td><td>7449</td><td>7640</td><td>7640</td><td>7831</td><td>7831</td><td>8022</td><td>8022</td><td>8213</td><td>8213</td><td>8404</td><td>8404</td><td>8595</td><td>8595</td><td>8786</td><td>8786</td><td>8977</td><td>8977</td><td>9168</td><td>9168</td><td>9359</td><td>9359</td><td>9550</td><td>9550</td><td>9741</td><td>9741</td><td>9932</td><td>9932</td><td>10123</td><td>10123</td><td>10314</td><td>10314</td><td>10505</td><td>10505</td><td>10696</td><td>10696</td><td>10887</td><td>10887</td><td>11078</td><td>11078</td><td>11269</td><td>11269</td><td>11460</td><td>11460</td><td>11651</td><td>11651</td><td>11842</td><td>11842</td><td>12033</td><td>12033</td><td>12224</td><td>12224</td><td>12415</td><td>12415</td><td>12606</td><td>12606</td><td>12797</td><td>12797</td><td>12988</td><td>12988</td><td>13179</td><td>13179</td><td>13370</td><td>13370</td><td>13561</td><td>13561</td><td>13752</td><td>13752</td><td>13943</td><td>13943</td><td>14134</td><td>14134</td><td>14325</td><td>14325</td><td>14516</td><td>14516</td><td>14707</td><td>14707</td><td>14898</td><td>14898</td><td>15089</td><td>15089</td><td>15280</td><td>15280</td><td>15471</td><td>15471</td><td>15662</td><td>15662</td><td>15853</td><td>15853</td><td>16044</td><td>16044</td><td>16235</td><td>16235</td><td>16426</td><td>16426</td><td>16617</td><td>16617</td><td>16808</td><td>16808</td><td>16999</td><td>16999</td><td>17190</td><td>17190</td><td>17381</td><td>17381</td><td>17572</td><td>17572</td><td>17763</td><td>17763</td><td>17954</td><td>17954</td><td>18145</td><td>18145</td><td>18336</td><td>18336</td></tr><tr><td>2</td><td>3</td><td>4</td><td>5</td><td>6</td><td>7</td><td>8</td><td>9</td><td>10</td><td>11</td><td>12</td><td>13</td><td>14</td><td>15</td><td>16</td><td>17</td><td>18</td><td>19</td><td>20</td><td>21</td><td>22</td><td>23</td><td>24</td><td>25</td><td>26</td><td>27</td><td>28</td><td>29</td><td>30</td><td>31</td><td>32</td><td>33</td><td>34</td><td>35</td><td>36</td><td>37</td><td>38</td><td>39</td><td>40</td><td>41</td><td>42</td><td>43</td><td>44</td><td>45</td><td>46</td><td>47</td><td>48</td><td>49</td><td>50</td><td>51</td><td>52</td><td>53</td><td>54</td><td>55</td><td>56</td><td>57</td><td>58</td><td>59</td><td>60</td><td>61</td><td>62</td><td>63</td><td>64</td><td>65</td><td>66</td><td>67</td><td>68</td><td>69</td><td>70</td><td>71</td><td>72</td><td>73</td><td>74</td><td>75</td><td>76</td><td>77</td><td>78</td><td>79</td><td>80</td><td>81</td><td>82</td><td>83</td><td>84</td><td>85</td><td>86</td><td>87</td><td>88</td><td>89</td><td>90</td><td>91</td><td>92</td><td>93</td><td>94</td><td>95</td><td>96</td><td>97</td><td>98</td><td>99</td><td>100</td><td>101</td><td>102</td><td>103</td><td>104</td><td>105</td><td>106</td><td>107</td><td>108</td><td>109</td><td>110</td><td>111</td><td>112</td><td>113</td><td>114</td><td>115</td><td>116</td><td>117</td><td>118</td><td>119</td><td>120</td><td>121</td><td>122</td><td>123</td><td>124</td><td>125</td><td>126</td><td>127</td><td>128</td><td>129</td><td>130</td><td>131</td><td>132</td><td>133</td><td>134</td><td>135</td><td>136</td><td>137</td><td>138</td><td>139</td><td>140</td><td>141</td><td>142</td><td>143</td><td>144</td><td>145</td><td>146</td><td>147</td><td>148</td><td>149</td><td>150</td><td>151</td><td>152</td><td>153</td><td>154</td><td>155</td><td>156</td><td>157</td><td>158</td><td>159</td><td>160</td><td>161</td><td>162</td><td>163</td><td>164</td><td>165</td><td>166</td><td>167</td><td>168</td><td>169</td><td>170</td><td>171</td><td>172</td><td>173</td><td>174</td><td>175</td><td>176</td><td>177</td><td>178</td><td>179</td><td>180</td><td>181</td><td>182</td><td>183</td><td>184</td><td>185</td><td>186</td><td>187</td><td>188</td><td>189</td><td>190</td><td>191</td></tr><tr><td>192</td><td>288</td><td>384</td><td>480</td><td>576</td><td>672</td><td>768</td><td>864</td><td>960</td><td>1056</td><td>1152</td><td>1248</td><td>1344</td><td>1440</td><td>1536</td><td>1632</td><td>1728</td><td>1824</td><td>1920</td><td>2016</td><td>2112</td><td>2208</td><td>2304</td><td>2400</td><td>2496</td><td>2592</td><td>2688</td><td>2784</td><td>2880</td><td>2976</td><td>3072</td><td>3168</td><td>3264</td><td>3360</td><td>3456</td><td>3552</td><td>3648</td><td>3744</td><td>3840</td><td>3936</td><td>4032</td><td>4128</td><td>4224</td><td>4320</td><td>4416</td><td>4512</td><td>4608</td><td>4704</td><td>4800</td><td>4896</td><td>4992</td><td>5088</td><td>5184</td><td>5280</td><td>5376</td><td>5472</td><td>5568</td><td>5664</td><td>5760</td><td>5856</td><td>5952</td><td>6048</td><td>6144</td><td>6240</td><td>6336</td><td>6432</td><td>6528</td><td>6624</td><td>6720</td><td>6816</td><td>6912</td><td>7008</td><td>7104</td><td>7200</td><td>7296</td><td>7392</td><td>7488</td><td>7584</td><td>7680</td><td>7776</td><td>7872</td><td>7968</td><td>8064</td><td>8160</td><td>8256</td><td>8352</td><td>8448</td><td>8544</td><td>8640</td><td>8736</td><td>8832</td><td>8928</td><td>9024</td><td>9120</td><td>9216</td><td>9312</td><td>9408</td><td>9504</td><td>9600</td><td>9696</td><td>9792</td><td>9888</td><td>9984</td><td>10080</td><td>10176</td><td>10272</td><td>10368</td><td>10464</td><td>10560</td><td>10656</td><td>10752</td><td>10848</td><td>10944</td><td>11040</td><td>11136</td><td>11232</td><td>11328</td><td>11424</td><td>11520</td><td>11616</td><td>11712</td><td>11808</td><td>11904</td><td>12000</td><td>12096</td><td>12192</td><td>12288</td><td>12384</td><td>12480</td><td>12576</td><td>12672</td><td>12768</td><td>12864</td><td>12960</td><td>13056</td><td>13152</td><td>13248</td><td>13344</td><td>13440</td><td>13536</td><td>13632</td><td>13728</td><td>13824</td><td>13920</td><td>14016</td><td>14112</td><td>14208</td><td>14304</td><td>14400</td><td>14496</td><td>14592</td><td>14688</td><td>14784</td><td>14880</td><td>14976</td><td>15072</td><td>15168</td><td>15264</td><td>15360</td><td>15456</td><td>15552</td><td>15648</td><td>15744</td><td>15840</td><td>15936</td><td>16032</td><td>16128</td><td>16224</td><td>16320</td><td>16416</td><td>16512</td><td>16608</td><td>16704</td><td>16800</td><td>16896</td><td>16992</td><td>17088</td><td>17184</td><td>17280</td><td>17376</td><td>17472</td><td>17568</td><td>17664</td><td>17760</td><td>17856</td><td>17952</td><td>18048</td><td>18144</td><td>18240</td><td>18336</td></tr></table>"
      ],
      "text/plain": [
       "<IPython.core.display.HTML object>"
      ]
     },
     "metadata": {},
     "output_type": "display_data"
    },
    {
     "name": "stdout",
     "output_type": "stream",
     "text": [
      "When p = 193 triangular = 18721 and partial triangular = 97\n"
     ]
    },
    {
     "data": {
      "text/html": [
       "<table><tr><td>2</td><td>2</td><td>3</td><td>3</td><td>4</td><td>4</td><td>5</td><td>5</td><td>6</td><td>6</td><td>7</td><td>7</td><td>8</td><td>8</td><td>9</td><td>9</td><td>10</td><td>10</td><td>11</td><td>11</td><td>12</td><td>12</td><td>13</td><td>13</td><td>14</td><td>14</td><td>15</td><td>15</td><td>16</td><td>16</td><td>17</td><td>17</td><td>18</td><td>18</td><td>19</td><td>19</td><td>20</td><td>20</td><td>21</td><td>21</td><td>22</td><td>22</td><td>23</td><td>23</td><td>24</td><td>24</td><td>25</td><td>25</td><td>26</td><td>26</td><td>27</td><td>27</td><td>28</td><td>28</td><td>29</td><td>29</td><td>30</td><td>30</td><td>31</td><td>31</td><td>32</td><td>32</td><td>33</td><td>33</td><td>34</td><td>34</td><td>35</td><td>35</td><td>36</td><td>36</td><td>37</td><td>37</td><td>38</td><td>38</td><td>39</td><td>39</td><td>40</td><td>40</td><td>41</td><td>41</td><td>42</td><td>42</td><td>43</td><td>43</td><td>44</td><td>44</td><td>45</td><td>45</td><td>46</td><td>46</td><td>47</td><td>47</td><td>48</td><td>48</td><td>49</td><td>49</td><td>50</td><td>50</td><td>51</td><td>51</td><td>52</td><td>52</td><td>53</td><td>53</td><td>54</td><td>54</td><td>55</td><td>55</td><td>56</td><td>56</td><td>57</td><td>57</td><td>58</td><td>58</td><td>59</td><td>59</td><td>60</td><td>60</td><td>61</td><td>61</td><td>62</td><td>62</td><td>63</td><td>63</td><td>64</td><td>64</td><td>65</td><td>65</td><td>66</td><td>66</td><td>67</td><td>67</td><td>68</td><td>68</td><td>69</td><td>69</td><td>70</td><td>70</td><td>71</td><td>71</td><td>72</td><td>72</td><td>73</td><td>73</td><td>74</td><td>74</td><td>75</td><td>75</td><td>76</td><td>76</td><td>77</td><td>77</td><td>78</td><td>78</td><td>79</td><td>79</td><td>80</td><td>80</td><td>81</td><td>81</td><td>82</td><td>82</td><td>83</td><td>83</td><td>84</td><td>84</td><td>85</td><td>85</td><td>86</td><td>86</td><td>87</td><td>87</td><td>88</td><td>88</td><td>89</td><td>89</td><td>90</td><td>90</td><td>91</td><td>91</td><td>92</td><td>92</td><td>93</td><td>93</td><td>94</td><td>94</td><td>95</td><td>95</td><td>96</td><td>96</td><td>97</td><td>97</td></tr><tr><td>386</td><td>386</td><td>579</td><td>579</td><td>772</td><td>772</td><td>965</td><td>965</td><td>1158</td><td>1158</td><td>1351</td><td>1351</td><td>1544</td><td>1544</td><td>1737</td><td>1737</td><td>1930</td><td>1930</td><td>2123</td><td>2123</td><td>2316</td><td>2316</td><td>2509</td><td>2509</td><td>2702</td><td>2702</td><td>2895</td><td>2895</td><td>3088</td><td>3088</td><td>3281</td><td>3281</td><td>3474</td><td>3474</td><td>3667</td><td>3667</td><td>3860</td><td>3860</td><td>4053</td><td>4053</td><td>4246</td><td>4246</td><td>4439</td><td>4439</td><td>4632</td><td>4632</td><td>4825</td><td>4825</td><td>5018</td><td>5018</td><td>5211</td><td>5211</td><td>5404</td><td>5404</td><td>5597</td><td>5597</td><td>5790</td><td>5790</td><td>5983</td><td>5983</td><td>6176</td><td>6176</td><td>6369</td><td>6369</td><td>6562</td><td>6562</td><td>6755</td><td>6755</td><td>6948</td><td>6948</td><td>7141</td><td>7141</td><td>7334</td><td>7334</td><td>7527</td><td>7527</td><td>7720</td><td>7720</td><td>7913</td><td>7913</td><td>8106</td><td>8106</td><td>8299</td><td>8299</td><td>8492</td><td>8492</td><td>8685</td><td>8685</td><td>8878</td><td>8878</td><td>9071</td><td>9071</td><td>9264</td><td>9264</td><td>9457</td><td>9457</td><td>9650</td><td>9650</td><td>9843</td><td>9843</td><td>10036</td><td>10036</td><td>10229</td><td>10229</td><td>10422</td><td>10422</td><td>10615</td><td>10615</td><td>10808</td><td>10808</td><td>11001</td><td>11001</td><td>11194</td><td>11194</td><td>11387</td><td>11387</td><td>11580</td><td>11580</td><td>11773</td><td>11773</td><td>11966</td><td>11966</td><td>12159</td><td>12159</td><td>12352</td><td>12352</td><td>12545</td><td>12545</td><td>12738</td><td>12738</td><td>12931</td><td>12931</td><td>13124</td><td>13124</td><td>13317</td><td>13317</td><td>13510</td><td>13510</td><td>13703</td><td>13703</td><td>13896</td><td>13896</td><td>14089</td><td>14089</td><td>14282</td><td>14282</td><td>14475</td><td>14475</td><td>14668</td><td>14668</td><td>14861</td><td>14861</td><td>15054</td><td>15054</td><td>15247</td><td>15247</td><td>15440</td><td>15440</td><td>15633</td><td>15633</td><td>15826</td><td>15826</td><td>16019</td><td>16019</td><td>16212</td><td>16212</td><td>16405</td><td>16405</td><td>16598</td><td>16598</td><td>16791</td><td>16791</td><td>16984</td><td>16984</td><td>17177</td><td>17177</td><td>17370</td><td>17370</td><td>17563</td><td>17563</td><td>17756</td><td>17756</td><td>17949</td><td>17949</td><td>18142</td><td>18142</td><td>18335</td><td>18335</td><td>18528</td><td>18528</td><td>18721</td><td>18721</td></tr><tr><td>2</td><td>3</td><td>4</td><td>5</td><td>6</td><td>7</td><td>8</td><td>9</td><td>10</td><td>11</td><td>12</td><td>13</td><td>14</td><td>15</td><td>16</td><td>17</td><td>18</td><td>19</td><td>20</td><td>21</td><td>22</td><td>23</td><td>24</td><td>25</td><td>26</td><td>27</td><td>28</td><td>29</td><td>30</td><td>31</td><td>32</td><td>33</td><td>34</td><td>35</td><td>36</td><td>37</td><td>38</td><td>39</td><td>40</td><td>41</td><td>42</td><td>43</td><td>44</td><td>45</td><td>46</td><td>47</td><td>48</td><td>49</td><td>50</td><td>51</td><td>52</td><td>53</td><td>54</td><td>55</td><td>56</td><td>57</td><td>58</td><td>59</td><td>60</td><td>61</td><td>62</td><td>63</td><td>64</td><td>65</td><td>66</td><td>67</td><td>68</td><td>69</td><td>70</td><td>71</td><td>72</td><td>73</td><td>74</td><td>75</td><td>76</td><td>77</td><td>78</td><td>79</td><td>80</td><td>81</td><td>82</td><td>83</td><td>84</td><td>85</td><td>86</td><td>87</td><td>88</td><td>89</td><td>90</td><td>91</td><td>92</td><td>93</td><td>94</td><td>95</td><td>96</td><td>97</td><td>98</td><td>99</td><td>100</td><td>101</td><td>102</td><td>103</td><td>104</td><td>105</td><td>106</td><td>107</td><td>108</td><td>109</td><td>110</td><td>111</td><td>112</td><td>113</td><td>114</td><td>115</td><td>116</td><td>117</td><td>118</td><td>119</td><td>120</td><td>121</td><td>122</td><td>123</td><td>124</td><td>125</td><td>126</td><td>127</td><td>128</td><td>129</td><td>130</td><td>131</td><td>132</td><td>133</td><td>134</td><td>135</td><td>136</td><td>137</td><td>138</td><td>139</td><td>140</td><td>141</td><td>142</td><td>143</td><td>144</td><td>145</td><td>146</td><td>147</td><td>148</td><td>149</td><td>150</td><td>151</td><td>152</td><td>153</td><td>154</td><td>155</td><td>156</td><td>157</td><td>158</td><td>159</td><td>160</td><td>161</td><td>162</td><td>163</td><td>164</td><td>165</td><td>166</td><td>167</td><td>168</td><td>169</td><td>170</td><td>171</td><td>172</td><td>173</td><td>174</td><td>175</td><td>176</td><td>177</td><td>178</td><td>179</td><td>180</td><td>181</td><td>182</td><td>183</td><td>184</td><td>185</td><td>186</td><td>187</td><td>188</td><td>189</td><td>190</td><td>191</td><td>192</td><td>193</td></tr><tr><td>194</td><td>291</td><td>388</td><td>485</td><td>582</td><td>679</td><td>776</td><td>873</td><td>970</td><td>1067</td><td>1164</td><td>1261</td><td>1358</td><td>1455</td><td>1552</td><td>1649</td><td>1746</td><td>1843</td><td>1940</td><td>2037</td><td>2134</td><td>2231</td><td>2328</td><td>2425</td><td>2522</td><td>2619</td><td>2716</td><td>2813</td><td>2910</td><td>3007</td><td>3104</td><td>3201</td><td>3298</td><td>3395</td><td>3492</td><td>3589</td><td>3686</td><td>3783</td><td>3880</td><td>3977</td><td>4074</td><td>4171</td><td>4268</td><td>4365</td><td>4462</td><td>4559</td><td>4656</td><td>4753</td><td>4850</td><td>4947</td><td>5044</td><td>5141</td><td>5238</td><td>5335</td><td>5432</td><td>5529</td><td>5626</td><td>5723</td><td>5820</td><td>5917</td><td>6014</td><td>6111</td><td>6208</td><td>6305</td><td>6402</td><td>6499</td><td>6596</td><td>6693</td><td>6790</td><td>6887</td><td>6984</td><td>7081</td><td>7178</td><td>7275</td><td>7372</td><td>7469</td><td>7566</td><td>7663</td><td>7760</td><td>7857</td><td>7954</td><td>8051</td><td>8148</td><td>8245</td><td>8342</td><td>8439</td><td>8536</td><td>8633</td><td>8730</td><td>8827</td><td>8924</td><td>9021</td><td>9118</td><td>9215</td><td>9312</td><td>9409</td><td>9506</td><td>9603</td><td>9700</td><td>9797</td><td>9894</td><td>9991</td><td>10088</td><td>10185</td><td>10282</td><td>10379</td><td>10476</td><td>10573</td><td>10670</td><td>10767</td><td>10864</td><td>10961</td><td>11058</td><td>11155</td><td>11252</td><td>11349</td><td>11446</td><td>11543</td><td>11640</td><td>11737</td><td>11834</td><td>11931</td><td>12028</td><td>12125</td><td>12222</td><td>12319</td><td>12416</td><td>12513</td><td>12610</td><td>12707</td><td>12804</td><td>12901</td><td>12998</td><td>13095</td><td>13192</td><td>13289</td><td>13386</td><td>13483</td><td>13580</td><td>13677</td><td>13774</td><td>13871</td><td>13968</td><td>14065</td><td>14162</td><td>14259</td><td>14356</td><td>14453</td><td>14550</td><td>14647</td><td>14744</td><td>14841</td><td>14938</td><td>15035</td><td>15132</td><td>15229</td><td>15326</td><td>15423</td><td>15520</td><td>15617</td><td>15714</td><td>15811</td><td>15908</td><td>16005</td><td>16102</td><td>16199</td><td>16296</td><td>16393</td><td>16490</td><td>16587</td><td>16684</td><td>16781</td><td>16878</td><td>16975</td><td>17072</td><td>17169</td><td>17266</td><td>17363</td><td>17460</td><td>17557</td><td>17654</td><td>17751</td><td>17848</td><td>17945</td><td>18042</td><td>18139</td><td>18236</td><td>18333</td><td>18430</td><td>18527</td><td>18624</td><td>18721</td></tr></table>"
      ],
      "text/plain": [
       "<IPython.core.display.HTML object>"
      ]
     },
     "metadata": {},
     "output_type": "display_data"
    },
    {
     "name": "stdout",
     "output_type": "stream",
     "text": [
      "When p = 195 triangular = 19110 and partial triangular = 98\n"
     ]
    },
    {
     "data": {
      "text/html": [
       "<table><tr><td>2</td><td>2</td><td>3</td><td>3</td><td>4</td><td>4</td><td>5</td><td>5</td><td>6</td><td>6</td><td>7</td><td>7</td><td>8</td><td>8</td><td>9</td><td>9</td><td>10</td><td>10</td><td>11</td><td>11</td><td>12</td><td>12</td><td>13</td><td>13</td><td>14</td><td>14</td><td>15</td><td>15</td><td>16</td><td>16</td><td>17</td><td>17</td><td>18</td><td>18</td><td>19</td><td>19</td><td>20</td><td>20</td><td>21</td><td>21</td><td>22</td><td>22</td><td>23</td><td>23</td><td>24</td><td>24</td><td>25</td><td>25</td><td>26</td><td>26</td><td>27</td><td>27</td><td>28</td><td>28</td><td>29</td><td>29</td><td>30</td><td>30</td><td>31</td><td>31</td><td>32</td><td>32</td><td>33</td><td>33</td><td>34</td><td>34</td><td>35</td><td>35</td><td>36</td><td>36</td><td>37</td><td>37</td><td>38</td><td>38</td><td>39</td><td>39</td><td>40</td><td>40</td><td>41</td><td>41</td><td>42</td><td>42</td><td>43</td><td>43</td><td>44</td><td>44</td><td>45</td><td>45</td><td>46</td><td>46</td><td>47</td><td>47</td><td>48</td><td>48</td><td>49</td><td>49</td><td>50</td><td>50</td><td>51</td><td>51</td><td>52</td><td>52</td><td>53</td><td>53</td><td>54</td><td>54</td><td>55</td><td>55</td><td>56</td><td>56</td><td>57</td><td>57</td><td>58</td><td>58</td><td>59</td><td>59</td><td>60</td><td>60</td><td>61</td><td>61</td><td>62</td><td>62</td><td>63</td><td>63</td><td>64</td><td>64</td><td>65</td><td>65</td><td>66</td><td>66</td><td>67</td><td>67</td><td>68</td><td>68</td><td>69</td><td>69</td><td>70</td><td>70</td><td>71</td><td>71</td><td>72</td><td>72</td><td>73</td><td>73</td><td>74</td><td>74</td><td>75</td><td>75</td><td>76</td><td>76</td><td>77</td><td>77</td><td>78</td><td>78</td><td>79</td><td>79</td><td>80</td><td>80</td><td>81</td><td>81</td><td>82</td><td>82</td><td>83</td><td>83</td><td>84</td><td>84</td><td>85</td><td>85</td><td>86</td><td>86</td><td>87</td><td>87</td><td>88</td><td>88</td><td>89</td><td>89</td><td>90</td><td>90</td><td>91</td><td>91</td><td>92</td><td>92</td><td>93</td><td>93</td><td>94</td><td>94</td><td>95</td><td>95</td><td>96</td><td>96</td><td>97</td><td>97</td><td>98</td><td>98</td></tr><tr><td>390</td><td>390</td><td>585</td><td>585</td><td>780</td><td>780</td><td>975</td><td>975</td><td>1170</td><td>1170</td><td>1365</td><td>1365</td><td>1560</td><td>1560</td><td>1755</td><td>1755</td><td>1950</td><td>1950</td><td>2145</td><td>2145</td><td>2340</td><td>2340</td><td>2535</td><td>2535</td><td>2730</td><td>2730</td><td>2925</td><td>2925</td><td>3120</td><td>3120</td><td>3315</td><td>3315</td><td>3510</td><td>3510</td><td>3705</td><td>3705</td><td>3900</td><td>3900</td><td>4095</td><td>4095</td><td>4290</td><td>4290</td><td>4485</td><td>4485</td><td>4680</td><td>4680</td><td>4875</td><td>4875</td><td>5070</td><td>5070</td><td>5265</td><td>5265</td><td>5460</td><td>5460</td><td>5655</td><td>5655</td><td>5850</td><td>5850</td><td>6045</td><td>6045</td><td>6240</td><td>6240</td><td>6435</td><td>6435</td><td>6630</td><td>6630</td><td>6825</td><td>6825</td><td>7020</td><td>7020</td><td>7215</td><td>7215</td><td>7410</td><td>7410</td><td>7605</td><td>7605</td><td>7800</td><td>7800</td><td>7995</td><td>7995</td><td>8190</td><td>8190</td><td>8385</td><td>8385</td><td>8580</td><td>8580</td><td>8775</td><td>8775</td><td>8970</td><td>8970</td><td>9165</td><td>9165</td><td>9360</td><td>9360</td><td>9555</td><td>9555</td><td>9750</td><td>9750</td><td>9945</td><td>9945</td><td>10140</td><td>10140</td><td>10335</td><td>10335</td><td>10530</td><td>10530</td><td>10725</td><td>10725</td><td>10920</td><td>10920</td><td>11115</td><td>11115</td><td>11310</td><td>11310</td><td>11505</td><td>11505</td><td>11700</td><td>11700</td><td>11895</td><td>11895</td><td>12090</td><td>12090</td><td>12285</td><td>12285</td><td>12480</td><td>12480</td><td>12675</td><td>12675</td><td>12870</td><td>12870</td><td>13065</td><td>13065</td><td>13260</td><td>13260</td><td>13455</td><td>13455</td><td>13650</td><td>13650</td><td>13845</td><td>13845</td><td>14040</td><td>14040</td><td>14235</td><td>14235</td><td>14430</td><td>14430</td><td>14625</td><td>14625</td><td>14820</td><td>14820</td><td>15015</td><td>15015</td><td>15210</td><td>15210</td><td>15405</td><td>15405</td><td>15600</td><td>15600</td><td>15795</td><td>15795</td><td>15990</td><td>15990</td><td>16185</td><td>16185</td><td>16380</td><td>16380</td><td>16575</td><td>16575</td><td>16770</td><td>16770</td><td>16965</td><td>16965</td><td>17160</td><td>17160</td><td>17355</td><td>17355</td><td>17550</td><td>17550</td><td>17745</td><td>17745</td><td>17940</td><td>17940</td><td>18135</td><td>18135</td><td>18330</td><td>18330</td><td>18525</td><td>18525</td><td>18720</td><td>18720</td><td>18915</td><td>18915</td><td>19110</td><td>19110</td></tr><tr><td>2</td><td>3</td><td>4</td><td>5</td><td>6</td><td>7</td><td>8</td><td>9</td><td>10</td><td>11</td><td>12</td><td>13</td><td>14</td><td>15</td><td>16</td><td>17</td><td>18</td><td>19</td><td>20</td><td>21</td><td>22</td><td>23</td><td>24</td><td>25</td><td>26</td><td>27</td><td>28</td><td>29</td><td>30</td><td>31</td><td>32</td><td>33</td><td>34</td><td>35</td><td>36</td><td>37</td><td>38</td><td>39</td><td>40</td><td>41</td><td>42</td><td>43</td><td>44</td><td>45</td><td>46</td><td>47</td><td>48</td><td>49</td><td>50</td><td>51</td><td>52</td><td>53</td><td>54</td><td>55</td><td>56</td><td>57</td><td>58</td><td>59</td><td>60</td><td>61</td><td>62</td><td>63</td><td>64</td><td>65</td><td>66</td><td>67</td><td>68</td><td>69</td><td>70</td><td>71</td><td>72</td><td>73</td><td>74</td><td>75</td><td>76</td><td>77</td><td>78</td><td>79</td><td>80</td><td>81</td><td>82</td><td>83</td><td>84</td><td>85</td><td>86</td><td>87</td><td>88</td><td>89</td><td>90</td><td>91</td><td>92</td><td>93</td><td>94</td><td>95</td><td>96</td><td>97</td><td>98</td><td>99</td><td>100</td><td>101</td><td>102</td><td>103</td><td>104</td><td>105</td><td>106</td><td>107</td><td>108</td><td>109</td><td>110</td><td>111</td><td>112</td><td>113</td><td>114</td><td>115</td><td>116</td><td>117</td><td>118</td><td>119</td><td>120</td><td>121</td><td>122</td><td>123</td><td>124</td><td>125</td><td>126</td><td>127</td><td>128</td><td>129</td><td>130</td><td>131</td><td>132</td><td>133</td><td>134</td><td>135</td><td>136</td><td>137</td><td>138</td><td>139</td><td>140</td><td>141</td><td>142</td><td>143</td><td>144</td><td>145</td><td>146</td><td>147</td><td>148</td><td>149</td><td>150</td><td>151</td><td>152</td><td>153</td><td>154</td><td>155</td><td>156</td><td>157</td><td>158</td><td>159</td><td>160</td><td>161</td><td>162</td><td>163</td><td>164</td><td>165</td><td>166</td><td>167</td><td>168</td><td>169</td><td>170</td><td>171</td><td>172</td><td>173</td><td>174</td><td>175</td><td>176</td><td>177</td><td>178</td><td>179</td><td>180</td><td>181</td><td>182</td><td>183</td><td>184</td><td>185</td><td>186</td><td>187</td><td>188</td><td>189</td><td>190</td><td>191</td><td>192</td><td>193</td><td>194</td><td>195</td></tr><tr><td>196</td><td>294</td><td>392</td><td>490</td><td>588</td><td>686</td><td>784</td><td>882</td><td>980</td><td>1078</td><td>1176</td><td>1274</td><td>1372</td><td>1470</td><td>1568</td><td>1666</td><td>1764</td><td>1862</td><td>1960</td><td>2058</td><td>2156</td><td>2254</td><td>2352</td><td>2450</td><td>2548</td><td>2646</td><td>2744</td><td>2842</td><td>2940</td><td>3038</td><td>3136</td><td>3234</td><td>3332</td><td>3430</td><td>3528</td><td>3626</td><td>3724</td><td>3822</td><td>3920</td><td>4018</td><td>4116</td><td>4214</td><td>4312</td><td>4410</td><td>4508</td><td>4606</td><td>4704</td><td>4802</td><td>4900</td><td>4998</td><td>5096</td><td>5194</td><td>5292</td><td>5390</td><td>5488</td><td>5586</td><td>5684</td><td>5782</td><td>5880</td><td>5978</td><td>6076</td><td>6174</td><td>6272</td><td>6370</td><td>6468</td><td>6566</td><td>6664</td><td>6762</td><td>6860</td><td>6958</td><td>7056</td><td>7154</td><td>7252</td><td>7350</td><td>7448</td><td>7546</td><td>7644</td><td>7742</td><td>7840</td><td>7938</td><td>8036</td><td>8134</td><td>8232</td><td>8330</td><td>8428</td><td>8526</td><td>8624</td><td>8722</td><td>8820</td><td>8918</td><td>9016</td><td>9114</td><td>9212</td><td>9310</td><td>9408</td><td>9506</td><td>9604</td><td>9702</td><td>9800</td><td>9898</td><td>9996</td><td>10094</td><td>10192</td><td>10290</td><td>10388</td><td>10486</td><td>10584</td><td>10682</td><td>10780</td><td>10878</td><td>10976</td><td>11074</td><td>11172</td><td>11270</td><td>11368</td><td>11466</td><td>11564</td><td>11662</td><td>11760</td><td>11858</td><td>11956</td><td>12054</td><td>12152</td><td>12250</td><td>12348</td><td>12446</td><td>12544</td><td>12642</td><td>12740</td><td>12838</td><td>12936</td><td>13034</td><td>13132</td><td>13230</td><td>13328</td><td>13426</td><td>13524</td><td>13622</td><td>13720</td><td>13818</td><td>13916</td><td>14014</td><td>14112</td><td>14210</td><td>14308</td><td>14406</td><td>14504</td><td>14602</td><td>14700</td><td>14798</td><td>14896</td><td>14994</td><td>15092</td><td>15190</td><td>15288</td><td>15386</td><td>15484</td><td>15582</td><td>15680</td><td>15778</td><td>15876</td><td>15974</td><td>16072</td><td>16170</td><td>16268</td><td>16366</td><td>16464</td><td>16562</td><td>16660</td><td>16758</td><td>16856</td><td>16954</td><td>17052</td><td>17150</td><td>17248</td><td>17346</td><td>17444</td><td>17542</td><td>17640</td><td>17738</td><td>17836</td><td>17934</td><td>18032</td><td>18130</td><td>18228</td><td>18326</td><td>18424</td><td>18522</td><td>18620</td><td>18718</td><td>18816</td><td>18914</td><td>19012</td><td>19110</td></tr></table>"
      ],
      "text/plain": [
       "<IPython.core.display.HTML object>"
      ]
     },
     "metadata": {},
     "output_type": "display_data"
    }
   ],
   "source": [
    "for p in range(145, 196, 2):\n",
    "    t = triangular(p)\n",
    "    partialt = partial_triangular(p)\n",
    "    \n",
    "    sequences = [[],[],[],[]]\n",
    "    \n",
    "    for x1 in range (2, partialt + 1):\n",
    "        sequences[0].append(x1)\n",
    "        #for sake of matching with second sequence will append x1 twice\n",
    "        sequences[0].append(x1)\n",
    "    for x2 in sequences[0]:\n",
    "        sequences[1].append(p * x2)\n",
    "    for x3 in range (2, p +1):\n",
    "        sequences[2].append(x3)\n",
    "    for x4 in sequences[2]:\n",
    "        sequences[3].append(x4 * partialt)\n",
    "    \n",
    "    print(\"When p = {} triangular = {} and partial triangular = {}\".format(p, t, partialt))\n",
    "    \n",
    "    display(HTML(\n",
    "        '<table><tr>{}</tr></table>'.format(\n",
    "            '</tr><tr>'.join(\n",
    "                '<td>{}</td>'.format('</td><td>'.join(str(_) for _ in row)) for row in sequences)\n",
    "            )\n",
    "     ))"
   ]
  },
  {
   "cell_type": "markdown",
   "metadata": {},
   "source": [
    "Observe the increments on both sets of sequences being the first incrementing p by partial triangular and the second partial triangular incemented by p until both converge at triangular value of p, to loof for a relationship between the values modulo between both sequences is applied:"
   ]
  },
  {
   "cell_type": "code",
   "execution_count": 5,
   "metadata": {
    "scrolled": false
   },
   "outputs": [
    {
     "name": "stdout",
     "output_type": "stream",
     "text": [
      "When p = 145 triangular = 10585 and partial triangular = 73\n"
     ]
    },
    {
     "data": {
      "text/html": [
       "<table><tr><td>2</td><td>2</td><td>3</td><td>3</td><td>4</td><td>4</td><td>5</td><td>5</td><td>6</td><td>6</td><td>7</td><td>7</td><td>8</td><td>8</td><td>9</td><td>9</td><td>10</td><td>10</td><td>11</td><td>11</td><td>12</td><td>12</td><td>13</td><td>13</td><td>14</td><td>14</td><td>15</td><td>15</td><td>16</td><td>16</td><td>17</td><td>17</td><td>18</td><td>18</td><td>19</td><td>19</td><td>20</td><td>20</td><td>21</td><td>21</td><td>22</td><td>22</td><td>23</td><td>23</td><td>24</td><td>24</td><td>25</td><td>25</td><td>26</td><td>26</td><td>27</td><td>27</td><td>28</td><td>28</td><td>29</td><td>29</td><td>30</td><td>30</td><td>31</td><td>31</td><td>32</td><td>32</td><td>33</td><td>33</td><td>34</td><td>34</td><td>35</td><td>35</td><td>36</td><td>36</td><td>37</td><td>37</td><td>38</td><td>38</td><td>39</td><td>39</td><td>40</td><td>40</td><td>41</td><td>41</td><td>42</td><td>42</td><td>43</td><td>43</td><td>44</td><td>44</td><td>45</td><td>45</td><td>46</td><td>46</td><td>47</td><td>47</td><td>48</td><td>48</td><td>49</td><td>49</td><td>50</td><td>50</td><td>51</td><td>51</td><td>52</td><td>52</td><td>53</td><td>53</td><td>54</td><td>54</td><td>55</td><td>55</td><td>56</td><td>56</td><td>57</td><td>57</td><td>58</td><td>58</td><td>59</td><td>59</td><td>60</td><td>60</td><td>61</td><td>61</td><td>62</td><td>62</td><td>63</td><td>63</td><td>64</td><td>64</td><td>65</td><td>65</td><td>66</td><td>66</td><td>67</td><td>67</td><td>68</td><td>68</td><td>69</td><td>69</td><td>70</td><td>70</td><td>71</td><td>71</td><td>72</td><td>72</td><td>73</td><td>73</td></tr><tr><td>290</td><td>290</td><td>435</td><td>435</td><td>580</td><td>580</td><td>725</td><td>725</td><td>870</td><td>870</td><td>1015</td><td>1015</td><td>1160</td><td>1160</td><td>1305</td><td>1305</td><td>1450</td><td>1450</td><td>1595</td><td>1595</td><td>1740</td><td>1740</td><td>1885</td><td>1885</td><td>2030</td><td>2030</td><td>2175</td><td>2175</td><td>2320</td><td>2320</td><td>2465</td><td>2465</td><td>2610</td><td>2610</td><td>2755</td><td>2755</td><td>2900</td><td>2900</td><td>3045</td><td>3045</td><td>3190</td><td>3190</td><td>3335</td><td>3335</td><td>3480</td><td>3480</td><td>3625</td><td>3625</td><td>3770</td><td>3770</td><td>3915</td><td>3915</td><td>4060</td><td>4060</td><td>4205</td><td>4205</td><td>4350</td><td>4350</td><td>4495</td><td>4495</td><td>4640</td><td>4640</td><td>4785</td><td>4785</td><td>4930</td><td>4930</td><td>5075</td><td>5075</td><td>5220</td><td>5220</td><td>5365</td><td>5365</td><td>5510</td><td>5510</td><td>5655</td><td>5655</td><td>5800</td><td>5800</td><td>5945</td><td>5945</td><td>6090</td><td>6090</td><td>6235</td><td>6235</td><td>6380</td><td>6380</td><td>6525</td><td>6525</td><td>6670</td><td>6670</td><td>6815</td><td>6815</td><td>6960</td><td>6960</td><td>7105</td><td>7105</td><td>7250</td><td>7250</td><td>7395</td><td>7395</td><td>7540</td><td>7540</td><td>7685</td><td>7685</td><td>7830</td><td>7830</td><td>7975</td><td>7975</td><td>8120</td><td>8120</td><td>8265</td><td>8265</td><td>8410</td><td>8410</td><td>8555</td><td>8555</td><td>8700</td><td>8700</td><td>8845</td><td>8845</td><td>8990</td><td>8990</td><td>9135</td><td>9135</td><td>9280</td><td>9280</td><td>9425</td><td>9425</td><td>9570</td><td>9570</td><td>9715</td><td>9715</td><td>9860</td><td>9860</td><td>10005</td><td>10005</td><td>10150</td><td>10150</td><td>10295</td><td>10295</td><td>10440</td><td>10440</td><td>10585</td><td>10585</td></tr><tr><td>2</td><td>3</td><td>4</td><td>5</td><td>6</td><td>7</td><td>8</td><td>9</td><td>10</td><td>11</td><td>12</td><td>13</td><td>14</td><td>15</td><td>16</td><td>17</td><td>18</td><td>19</td><td>20</td><td>21</td><td>22</td><td>23</td><td>24</td><td>25</td><td>26</td><td>27</td><td>28</td><td>29</td><td>30</td><td>31</td><td>32</td><td>33</td><td>34</td><td>35</td><td>36</td><td>37</td><td>38</td><td>39</td><td>40</td><td>41</td><td>42</td><td>43</td><td>44</td><td>45</td><td>46</td><td>47</td><td>48</td><td>49</td><td>50</td><td>51</td><td>52</td><td>53</td><td>54</td><td>55</td><td>56</td><td>57</td><td>58</td><td>59</td><td>60</td><td>61</td><td>62</td><td>63</td><td>64</td><td>65</td><td>66</td><td>67</td><td>68</td><td>69</td><td>70</td><td>71</td><td>72</td><td>73</td><td>74</td><td>75</td><td>76</td><td>77</td><td>78</td><td>79</td><td>80</td><td>81</td><td>82</td><td>83</td><td>84</td><td>85</td><td>86</td><td>87</td><td>88</td><td>89</td><td>90</td><td>91</td><td>92</td><td>93</td><td>94</td><td>95</td><td>96</td><td>97</td><td>98</td><td>99</td><td>100</td><td>101</td><td>102</td><td>103</td><td>104</td><td>105</td><td>106</td><td>107</td><td>108</td><td>109</td><td>110</td><td>111</td><td>112</td><td>113</td><td>114</td><td>115</td><td>116</td><td>117</td><td>118</td><td>119</td><td>120</td><td>121</td><td>122</td><td>123</td><td>124</td><td>125</td><td>126</td><td>127</td><td>128</td><td>129</td><td>130</td><td>131</td><td>132</td><td>133</td><td>134</td><td>135</td><td>136</td><td>137</td><td>138</td><td>139</td><td>140</td><td>141</td><td>142</td><td>143</td><td>144</td><td>145</td></tr><tr><td>146</td><td>219</td><td>292</td><td>365</td><td>438</td><td>511</td><td>584</td><td>657</td><td>730</td><td>803</td><td>876</td><td>949</td><td>1022</td><td>1095</td><td>1168</td><td>1241</td><td>1314</td><td>1387</td><td>1460</td><td>1533</td><td>1606</td><td>1679</td><td>1752</td><td>1825</td><td>1898</td><td>1971</td><td>2044</td><td>2117</td><td>2190</td><td>2263</td><td>2336</td><td>2409</td><td>2482</td><td>2555</td><td>2628</td><td>2701</td><td>2774</td><td>2847</td><td>2920</td><td>2993</td><td>3066</td><td>3139</td><td>3212</td><td>3285</td><td>3358</td><td>3431</td><td>3504</td><td>3577</td><td>3650</td><td>3723</td><td>3796</td><td>3869</td><td>3942</td><td>4015</td><td>4088</td><td>4161</td><td>4234</td><td>4307</td><td>4380</td><td>4453</td><td>4526</td><td>4599</td><td>4672</td><td>4745</td><td>4818</td><td>4891</td><td>4964</td><td>5037</td><td>5110</td><td>5183</td><td>5256</td><td>5329</td><td>5402</td><td>5475</td><td>5548</td><td>5621</td><td>5694</td><td>5767</td><td>5840</td><td>5913</td><td>5986</td><td>6059</td><td>6132</td><td>6205</td><td>6278</td><td>6351</td><td>6424</td><td>6497</td><td>6570</td><td>6643</td><td>6716</td><td>6789</td><td>6862</td><td>6935</td><td>7008</td><td>7081</td><td>7154</td><td>7227</td><td>7300</td><td>7373</td><td>7446</td><td>7519</td><td>7592</td><td>7665</td><td>7738</td><td>7811</td><td>7884</td><td>7957</td><td>8030</td><td>8103</td><td>8176</td><td>8249</td><td>8322</td><td>8395</td><td>8468</td><td>8541</td><td>8614</td><td>8687</td><td>8760</td><td>8833</td><td>8906</td><td>8979</td><td>9052</td><td>9125</td><td>9198</td><td>9271</td><td>9344</td><td>9417</td><td>9490</td><td>9563</td><td>9636</td><td>9709</td><td>9782</td><td>9855</td><td>9928</td><td>10001</td><td>10074</td><td>10147</td><td>10220</td><td>10293</td><td>10366</td><td>10439</td><td>10512</td><td>10585</td></tr><tr><td>144</td><td>71</td><td>143</td><td>70</td><td>142</td><td>69</td><td>141</td><td>68</td><td>140</td><td>67</td><td>139</td><td>66</td><td>138</td><td>65</td><td>137</td><td>64</td><td>136</td><td>63</td><td>135</td><td>62</td><td>134</td><td>61</td><td>133</td><td>60</td><td>132</td><td>59</td><td>131</td><td>58</td><td>130</td><td>57</td><td>129</td><td>56</td><td>128</td><td>55</td><td>127</td><td>54</td><td>126</td><td>53</td><td>125</td><td>52</td><td>124</td><td>51</td><td>123</td><td>50</td><td>122</td><td>49</td><td>121</td><td>48</td><td>120</td><td>47</td><td>119</td><td>46</td><td>118</td><td>45</td><td>117</td><td>44</td><td>116</td><td>43</td><td>115</td><td>42</td><td>114</td><td>41</td><td>113</td><td>40</td><td>112</td><td>39</td><td>111</td><td>38</td><td>110</td><td>37</td><td>109</td><td>36</td><td>108</td><td>35</td><td>107</td><td>34</td><td>106</td><td>33</td><td>105</td><td>32</td><td>104</td><td>31</td><td>103</td><td>30</td><td>102</td><td>29</td><td>101</td><td>28</td><td>100</td><td>27</td><td>99</td><td>26</td><td>98</td><td>25</td><td>97</td><td>24</td><td>96</td><td>23</td><td>95</td><td>22</td><td>94</td><td>21</td><td>93</td><td>20</td><td>92</td><td>19</td><td>91</td><td>18</td><td>90</td><td>17</td><td>89</td><td>16</td><td>88</td><td>15</td><td>87</td><td>14</td><td>86</td><td>13</td><td>85</td><td>12</td><td>84</td><td>11</td><td>83</td><td>10</td><td>82</td><td>9</td><td>81</td><td>8</td><td>80</td><td>7</td><td>79</td><td>6</td><td>78</td><td>5</td><td>77</td><td>4</td><td>76</td><td>3</td><td>75</td><td>2</td><td>74</td><td>1</td><td>73</td><td>0</td></tr></table>"
      ],
      "text/plain": [
       "<IPython.core.display.HTML object>"
      ]
     },
     "metadata": {},
     "output_type": "display_data"
    },
    {
     "name": "stdout",
     "output_type": "stream",
     "text": [
      "When p = 147 triangular = 10878 and partial triangular = 74\n"
     ]
    },
    {
     "data": {
      "text/html": [
       "<table><tr><td>2</td><td>2</td><td>3</td><td>3</td><td>4</td><td>4</td><td>5</td><td>5</td><td>6</td><td>6</td><td>7</td><td>7</td><td>8</td><td>8</td><td>9</td><td>9</td><td>10</td><td>10</td><td>11</td><td>11</td><td>12</td><td>12</td><td>13</td><td>13</td><td>14</td><td>14</td><td>15</td><td>15</td><td>16</td><td>16</td><td>17</td><td>17</td><td>18</td><td>18</td><td>19</td><td>19</td><td>20</td><td>20</td><td>21</td><td>21</td><td>22</td><td>22</td><td>23</td><td>23</td><td>24</td><td>24</td><td>25</td><td>25</td><td>26</td><td>26</td><td>27</td><td>27</td><td>28</td><td>28</td><td>29</td><td>29</td><td>30</td><td>30</td><td>31</td><td>31</td><td>32</td><td>32</td><td>33</td><td>33</td><td>34</td><td>34</td><td>35</td><td>35</td><td>36</td><td>36</td><td>37</td><td>37</td><td>38</td><td>38</td><td>39</td><td>39</td><td>40</td><td>40</td><td>41</td><td>41</td><td>42</td><td>42</td><td>43</td><td>43</td><td>44</td><td>44</td><td>45</td><td>45</td><td>46</td><td>46</td><td>47</td><td>47</td><td>48</td><td>48</td><td>49</td><td>49</td><td>50</td><td>50</td><td>51</td><td>51</td><td>52</td><td>52</td><td>53</td><td>53</td><td>54</td><td>54</td><td>55</td><td>55</td><td>56</td><td>56</td><td>57</td><td>57</td><td>58</td><td>58</td><td>59</td><td>59</td><td>60</td><td>60</td><td>61</td><td>61</td><td>62</td><td>62</td><td>63</td><td>63</td><td>64</td><td>64</td><td>65</td><td>65</td><td>66</td><td>66</td><td>67</td><td>67</td><td>68</td><td>68</td><td>69</td><td>69</td><td>70</td><td>70</td><td>71</td><td>71</td><td>72</td><td>72</td><td>73</td><td>73</td><td>74</td><td>74</td></tr><tr><td>294</td><td>294</td><td>441</td><td>441</td><td>588</td><td>588</td><td>735</td><td>735</td><td>882</td><td>882</td><td>1029</td><td>1029</td><td>1176</td><td>1176</td><td>1323</td><td>1323</td><td>1470</td><td>1470</td><td>1617</td><td>1617</td><td>1764</td><td>1764</td><td>1911</td><td>1911</td><td>2058</td><td>2058</td><td>2205</td><td>2205</td><td>2352</td><td>2352</td><td>2499</td><td>2499</td><td>2646</td><td>2646</td><td>2793</td><td>2793</td><td>2940</td><td>2940</td><td>3087</td><td>3087</td><td>3234</td><td>3234</td><td>3381</td><td>3381</td><td>3528</td><td>3528</td><td>3675</td><td>3675</td><td>3822</td><td>3822</td><td>3969</td><td>3969</td><td>4116</td><td>4116</td><td>4263</td><td>4263</td><td>4410</td><td>4410</td><td>4557</td><td>4557</td><td>4704</td><td>4704</td><td>4851</td><td>4851</td><td>4998</td><td>4998</td><td>5145</td><td>5145</td><td>5292</td><td>5292</td><td>5439</td><td>5439</td><td>5586</td><td>5586</td><td>5733</td><td>5733</td><td>5880</td><td>5880</td><td>6027</td><td>6027</td><td>6174</td><td>6174</td><td>6321</td><td>6321</td><td>6468</td><td>6468</td><td>6615</td><td>6615</td><td>6762</td><td>6762</td><td>6909</td><td>6909</td><td>7056</td><td>7056</td><td>7203</td><td>7203</td><td>7350</td><td>7350</td><td>7497</td><td>7497</td><td>7644</td><td>7644</td><td>7791</td><td>7791</td><td>7938</td><td>7938</td><td>8085</td><td>8085</td><td>8232</td><td>8232</td><td>8379</td><td>8379</td><td>8526</td><td>8526</td><td>8673</td><td>8673</td><td>8820</td><td>8820</td><td>8967</td><td>8967</td><td>9114</td><td>9114</td><td>9261</td><td>9261</td><td>9408</td><td>9408</td><td>9555</td><td>9555</td><td>9702</td><td>9702</td><td>9849</td><td>9849</td><td>9996</td><td>9996</td><td>10143</td><td>10143</td><td>10290</td><td>10290</td><td>10437</td><td>10437</td><td>10584</td><td>10584</td><td>10731</td><td>10731</td><td>10878</td><td>10878</td></tr><tr><td>2</td><td>3</td><td>4</td><td>5</td><td>6</td><td>7</td><td>8</td><td>9</td><td>10</td><td>11</td><td>12</td><td>13</td><td>14</td><td>15</td><td>16</td><td>17</td><td>18</td><td>19</td><td>20</td><td>21</td><td>22</td><td>23</td><td>24</td><td>25</td><td>26</td><td>27</td><td>28</td><td>29</td><td>30</td><td>31</td><td>32</td><td>33</td><td>34</td><td>35</td><td>36</td><td>37</td><td>38</td><td>39</td><td>40</td><td>41</td><td>42</td><td>43</td><td>44</td><td>45</td><td>46</td><td>47</td><td>48</td><td>49</td><td>50</td><td>51</td><td>52</td><td>53</td><td>54</td><td>55</td><td>56</td><td>57</td><td>58</td><td>59</td><td>60</td><td>61</td><td>62</td><td>63</td><td>64</td><td>65</td><td>66</td><td>67</td><td>68</td><td>69</td><td>70</td><td>71</td><td>72</td><td>73</td><td>74</td><td>75</td><td>76</td><td>77</td><td>78</td><td>79</td><td>80</td><td>81</td><td>82</td><td>83</td><td>84</td><td>85</td><td>86</td><td>87</td><td>88</td><td>89</td><td>90</td><td>91</td><td>92</td><td>93</td><td>94</td><td>95</td><td>96</td><td>97</td><td>98</td><td>99</td><td>100</td><td>101</td><td>102</td><td>103</td><td>104</td><td>105</td><td>106</td><td>107</td><td>108</td><td>109</td><td>110</td><td>111</td><td>112</td><td>113</td><td>114</td><td>115</td><td>116</td><td>117</td><td>118</td><td>119</td><td>120</td><td>121</td><td>122</td><td>123</td><td>124</td><td>125</td><td>126</td><td>127</td><td>128</td><td>129</td><td>130</td><td>131</td><td>132</td><td>133</td><td>134</td><td>135</td><td>136</td><td>137</td><td>138</td><td>139</td><td>140</td><td>141</td><td>142</td><td>143</td><td>144</td><td>145</td><td>146</td><td>147</td></tr><tr><td>148</td><td>222</td><td>296</td><td>370</td><td>444</td><td>518</td><td>592</td><td>666</td><td>740</td><td>814</td><td>888</td><td>962</td><td>1036</td><td>1110</td><td>1184</td><td>1258</td><td>1332</td><td>1406</td><td>1480</td><td>1554</td><td>1628</td><td>1702</td><td>1776</td><td>1850</td><td>1924</td><td>1998</td><td>2072</td><td>2146</td><td>2220</td><td>2294</td><td>2368</td><td>2442</td><td>2516</td><td>2590</td><td>2664</td><td>2738</td><td>2812</td><td>2886</td><td>2960</td><td>3034</td><td>3108</td><td>3182</td><td>3256</td><td>3330</td><td>3404</td><td>3478</td><td>3552</td><td>3626</td><td>3700</td><td>3774</td><td>3848</td><td>3922</td><td>3996</td><td>4070</td><td>4144</td><td>4218</td><td>4292</td><td>4366</td><td>4440</td><td>4514</td><td>4588</td><td>4662</td><td>4736</td><td>4810</td><td>4884</td><td>4958</td><td>5032</td><td>5106</td><td>5180</td><td>5254</td><td>5328</td><td>5402</td><td>5476</td><td>5550</td><td>5624</td><td>5698</td><td>5772</td><td>5846</td><td>5920</td><td>5994</td><td>6068</td><td>6142</td><td>6216</td><td>6290</td><td>6364</td><td>6438</td><td>6512</td><td>6586</td><td>6660</td><td>6734</td><td>6808</td><td>6882</td><td>6956</td><td>7030</td><td>7104</td><td>7178</td><td>7252</td><td>7326</td><td>7400</td><td>7474</td><td>7548</td><td>7622</td><td>7696</td><td>7770</td><td>7844</td><td>7918</td><td>7992</td><td>8066</td><td>8140</td><td>8214</td><td>8288</td><td>8362</td><td>8436</td><td>8510</td><td>8584</td><td>8658</td><td>8732</td><td>8806</td><td>8880</td><td>8954</td><td>9028</td><td>9102</td><td>9176</td><td>9250</td><td>9324</td><td>9398</td><td>9472</td><td>9546</td><td>9620</td><td>9694</td><td>9768</td><td>9842</td><td>9916</td><td>9990</td><td>10064</td><td>10138</td><td>10212</td><td>10286</td><td>10360</td><td>10434</td><td>10508</td><td>10582</td><td>10656</td><td>10730</td><td>10804</td><td>10878</td></tr><tr><td>146</td><td>72</td><td>145</td><td>71</td><td>144</td><td>70</td><td>143</td><td>69</td><td>142</td><td>68</td><td>141</td><td>67</td><td>140</td><td>66</td><td>139</td><td>65</td><td>138</td><td>64</td><td>137</td><td>63</td><td>136</td><td>62</td><td>135</td><td>61</td><td>134</td><td>60</td><td>133</td><td>59</td><td>132</td><td>58</td><td>131</td><td>57</td><td>130</td><td>56</td><td>129</td><td>55</td><td>128</td><td>54</td><td>127</td><td>53</td><td>126</td><td>52</td><td>125</td><td>51</td><td>124</td><td>50</td><td>123</td><td>49</td><td>122</td><td>48</td><td>121</td><td>47</td><td>120</td><td>46</td><td>119</td><td>45</td><td>118</td><td>44</td><td>117</td><td>43</td><td>116</td><td>42</td><td>115</td><td>41</td><td>114</td><td>40</td><td>113</td><td>39</td><td>112</td><td>38</td><td>111</td><td>37</td><td>110</td><td>36</td><td>109</td><td>35</td><td>108</td><td>34</td><td>107</td><td>33</td><td>106</td><td>32</td><td>105</td><td>31</td><td>104</td><td>30</td><td>103</td><td>29</td><td>102</td><td>28</td><td>101</td><td>27</td><td>100</td><td>26</td><td>99</td><td>25</td><td>98</td><td>24</td><td>97</td><td>23</td><td>96</td><td>22</td><td>95</td><td>21</td><td>94</td><td>20</td><td>93</td><td>19</td><td>92</td><td>18</td><td>91</td><td>17</td><td>90</td><td>16</td><td>89</td><td>15</td><td>88</td><td>14</td><td>87</td><td>13</td><td>86</td><td>12</td><td>85</td><td>11</td><td>84</td><td>10</td><td>83</td><td>9</td><td>82</td><td>8</td><td>81</td><td>7</td><td>80</td><td>6</td><td>79</td><td>5</td><td>78</td><td>4</td><td>77</td><td>3</td><td>76</td><td>2</td><td>75</td><td>1</td><td>74</td><td>0</td></tr></table>"
      ],
      "text/plain": [
       "<IPython.core.display.HTML object>"
      ]
     },
     "metadata": {},
     "output_type": "display_data"
    },
    {
     "name": "stdout",
     "output_type": "stream",
     "text": [
      "When p = 149 triangular = 11175 and partial triangular = 75\n"
     ]
    },
    {
     "data": {
      "text/html": [
       "<table><tr><td>2</td><td>2</td><td>3</td><td>3</td><td>4</td><td>4</td><td>5</td><td>5</td><td>6</td><td>6</td><td>7</td><td>7</td><td>8</td><td>8</td><td>9</td><td>9</td><td>10</td><td>10</td><td>11</td><td>11</td><td>12</td><td>12</td><td>13</td><td>13</td><td>14</td><td>14</td><td>15</td><td>15</td><td>16</td><td>16</td><td>17</td><td>17</td><td>18</td><td>18</td><td>19</td><td>19</td><td>20</td><td>20</td><td>21</td><td>21</td><td>22</td><td>22</td><td>23</td><td>23</td><td>24</td><td>24</td><td>25</td><td>25</td><td>26</td><td>26</td><td>27</td><td>27</td><td>28</td><td>28</td><td>29</td><td>29</td><td>30</td><td>30</td><td>31</td><td>31</td><td>32</td><td>32</td><td>33</td><td>33</td><td>34</td><td>34</td><td>35</td><td>35</td><td>36</td><td>36</td><td>37</td><td>37</td><td>38</td><td>38</td><td>39</td><td>39</td><td>40</td><td>40</td><td>41</td><td>41</td><td>42</td><td>42</td><td>43</td><td>43</td><td>44</td><td>44</td><td>45</td><td>45</td><td>46</td><td>46</td><td>47</td><td>47</td><td>48</td><td>48</td><td>49</td><td>49</td><td>50</td><td>50</td><td>51</td><td>51</td><td>52</td><td>52</td><td>53</td><td>53</td><td>54</td><td>54</td><td>55</td><td>55</td><td>56</td><td>56</td><td>57</td><td>57</td><td>58</td><td>58</td><td>59</td><td>59</td><td>60</td><td>60</td><td>61</td><td>61</td><td>62</td><td>62</td><td>63</td><td>63</td><td>64</td><td>64</td><td>65</td><td>65</td><td>66</td><td>66</td><td>67</td><td>67</td><td>68</td><td>68</td><td>69</td><td>69</td><td>70</td><td>70</td><td>71</td><td>71</td><td>72</td><td>72</td><td>73</td><td>73</td><td>74</td><td>74</td><td>75</td><td>75</td></tr><tr><td>298</td><td>298</td><td>447</td><td>447</td><td>596</td><td>596</td><td>745</td><td>745</td><td>894</td><td>894</td><td>1043</td><td>1043</td><td>1192</td><td>1192</td><td>1341</td><td>1341</td><td>1490</td><td>1490</td><td>1639</td><td>1639</td><td>1788</td><td>1788</td><td>1937</td><td>1937</td><td>2086</td><td>2086</td><td>2235</td><td>2235</td><td>2384</td><td>2384</td><td>2533</td><td>2533</td><td>2682</td><td>2682</td><td>2831</td><td>2831</td><td>2980</td><td>2980</td><td>3129</td><td>3129</td><td>3278</td><td>3278</td><td>3427</td><td>3427</td><td>3576</td><td>3576</td><td>3725</td><td>3725</td><td>3874</td><td>3874</td><td>4023</td><td>4023</td><td>4172</td><td>4172</td><td>4321</td><td>4321</td><td>4470</td><td>4470</td><td>4619</td><td>4619</td><td>4768</td><td>4768</td><td>4917</td><td>4917</td><td>5066</td><td>5066</td><td>5215</td><td>5215</td><td>5364</td><td>5364</td><td>5513</td><td>5513</td><td>5662</td><td>5662</td><td>5811</td><td>5811</td><td>5960</td><td>5960</td><td>6109</td><td>6109</td><td>6258</td><td>6258</td><td>6407</td><td>6407</td><td>6556</td><td>6556</td><td>6705</td><td>6705</td><td>6854</td><td>6854</td><td>7003</td><td>7003</td><td>7152</td><td>7152</td><td>7301</td><td>7301</td><td>7450</td><td>7450</td><td>7599</td><td>7599</td><td>7748</td><td>7748</td><td>7897</td><td>7897</td><td>8046</td><td>8046</td><td>8195</td><td>8195</td><td>8344</td><td>8344</td><td>8493</td><td>8493</td><td>8642</td><td>8642</td><td>8791</td><td>8791</td><td>8940</td><td>8940</td><td>9089</td><td>9089</td><td>9238</td><td>9238</td><td>9387</td><td>9387</td><td>9536</td><td>9536</td><td>9685</td><td>9685</td><td>9834</td><td>9834</td><td>9983</td><td>9983</td><td>10132</td><td>10132</td><td>10281</td><td>10281</td><td>10430</td><td>10430</td><td>10579</td><td>10579</td><td>10728</td><td>10728</td><td>10877</td><td>10877</td><td>11026</td><td>11026</td><td>11175</td><td>11175</td></tr><tr><td>2</td><td>3</td><td>4</td><td>5</td><td>6</td><td>7</td><td>8</td><td>9</td><td>10</td><td>11</td><td>12</td><td>13</td><td>14</td><td>15</td><td>16</td><td>17</td><td>18</td><td>19</td><td>20</td><td>21</td><td>22</td><td>23</td><td>24</td><td>25</td><td>26</td><td>27</td><td>28</td><td>29</td><td>30</td><td>31</td><td>32</td><td>33</td><td>34</td><td>35</td><td>36</td><td>37</td><td>38</td><td>39</td><td>40</td><td>41</td><td>42</td><td>43</td><td>44</td><td>45</td><td>46</td><td>47</td><td>48</td><td>49</td><td>50</td><td>51</td><td>52</td><td>53</td><td>54</td><td>55</td><td>56</td><td>57</td><td>58</td><td>59</td><td>60</td><td>61</td><td>62</td><td>63</td><td>64</td><td>65</td><td>66</td><td>67</td><td>68</td><td>69</td><td>70</td><td>71</td><td>72</td><td>73</td><td>74</td><td>75</td><td>76</td><td>77</td><td>78</td><td>79</td><td>80</td><td>81</td><td>82</td><td>83</td><td>84</td><td>85</td><td>86</td><td>87</td><td>88</td><td>89</td><td>90</td><td>91</td><td>92</td><td>93</td><td>94</td><td>95</td><td>96</td><td>97</td><td>98</td><td>99</td><td>100</td><td>101</td><td>102</td><td>103</td><td>104</td><td>105</td><td>106</td><td>107</td><td>108</td><td>109</td><td>110</td><td>111</td><td>112</td><td>113</td><td>114</td><td>115</td><td>116</td><td>117</td><td>118</td><td>119</td><td>120</td><td>121</td><td>122</td><td>123</td><td>124</td><td>125</td><td>126</td><td>127</td><td>128</td><td>129</td><td>130</td><td>131</td><td>132</td><td>133</td><td>134</td><td>135</td><td>136</td><td>137</td><td>138</td><td>139</td><td>140</td><td>141</td><td>142</td><td>143</td><td>144</td><td>145</td><td>146</td><td>147</td><td>148</td><td>149</td></tr><tr><td>150</td><td>225</td><td>300</td><td>375</td><td>450</td><td>525</td><td>600</td><td>675</td><td>750</td><td>825</td><td>900</td><td>975</td><td>1050</td><td>1125</td><td>1200</td><td>1275</td><td>1350</td><td>1425</td><td>1500</td><td>1575</td><td>1650</td><td>1725</td><td>1800</td><td>1875</td><td>1950</td><td>2025</td><td>2100</td><td>2175</td><td>2250</td><td>2325</td><td>2400</td><td>2475</td><td>2550</td><td>2625</td><td>2700</td><td>2775</td><td>2850</td><td>2925</td><td>3000</td><td>3075</td><td>3150</td><td>3225</td><td>3300</td><td>3375</td><td>3450</td><td>3525</td><td>3600</td><td>3675</td><td>3750</td><td>3825</td><td>3900</td><td>3975</td><td>4050</td><td>4125</td><td>4200</td><td>4275</td><td>4350</td><td>4425</td><td>4500</td><td>4575</td><td>4650</td><td>4725</td><td>4800</td><td>4875</td><td>4950</td><td>5025</td><td>5100</td><td>5175</td><td>5250</td><td>5325</td><td>5400</td><td>5475</td><td>5550</td><td>5625</td><td>5700</td><td>5775</td><td>5850</td><td>5925</td><td>6000</td><td>6075</td><td>6150</td><td>6225</td><td>6300</td><td>6375</td><td>6450</td><td>6525</td><td>6600</td><td>6675</td><td>6750</td><td>6825</td><td>6900</td><td>6975</td><td>7050</td><td>7125</td><td>7200</td><td>7275</td><td>7350</td><td>7425</td><td>7500</td><td>7575</td><td>7650</td><td>7725</td><td>7800</td><td>7875</td><td>7950</td><td>8025</td><td>8100</td><td>8175</td><td>8250</td><td>8325</td><td>8400</td><td>8475</td><td>8550</td><td>8625</td><td>8700</td><td>8775</td><td>8850</td><td>8925</td><td>9000</td><td>9075</td><td>9150</td><td>9225</td><td>9300</td><td>9375</td><td>9450</td><td>9525</td><td>9600</td><td>9675</td><td>9750</td><td>9825</td><td>9900</td><td>9975</td><td>10050</td><td>10125</td><td>10200</td><td>10275</td><td>10350</td><td>10425</td><td>10500</td><td>10575</td><td>10650</td><td>10725</td><td>10800</td><td>10875</td><td>10950</td><td>11025</td><td>11100</td><td>11175</td></tr><tr><td>148</td><td>73</td><td>147</td><td>72</td><td>146</td><td>71</td><td>145</td><td>70</td><td>144</td><td>69</td><td>143</td><td>68</td><td>142</td><td>67</td><td>141</td><td>66</td><td>140</td><td>65</td><td>139</td><td>64</td><td>138</td><td>63</td><td>137</td><td>62</td><td>136</td><td>61</td><td>135</td><td>60</td><td>134</td><td>59</td><td>133</td><td>58</td><td>132</td><td>57</td><td>131</td><td>56</td><td>130</td><td>55</td><td>129</td><td>54</td><td>128</td><td>53</td><td>127</td><td>52</td><td>126</td><td>51</td><td>125</td><td>50</td><td>124</td><td>49</td><td>123</td><td>48</td><td>122</td><td>47</td><td>121</td><td>46</td><td>120</td><td>45</td><td>119</td><td>44</td><td>118</td><td>43</td><td>117</td><td>42</td><td>116</td><td>41</td><td>115</td><td>40</td><td>114</td><td>39</td><td>113</td><td>38</td><td>112</td><td>37</td><td>111</td><td>36</td><td>110</td><td>35</td><td>109</td><td>34</td><td>108</td><td>33</td><td>107</td><td>32</td><td>106</td><td>31</td><td>105</td><td>30</td><td>104</td><td>29</td><td>103</td><td>28</td><td>102</td><td>27</td><td>101</td><td>26</td><td>100</td><td>25</td><td>99</td><td>24</td><td>98</td><td>23</td><td>97</td><td>22</td><td>96</td><td>21</td><td>95</td><td>20</td><td>94</td><td>19</td><td>93</td><td>18</td><td>92</td><td>17</td><td>91</td><td>16</td><td>90</td><td>15</td><td>89</td><td>14</td><td>88</td><td>13</td><td>87</td><td>12</td><td>86</td><td>11</td><td>85</td><td>10</td><td>84</td><td>9</td><td>83</td><td>8</td><td>82</td><td>7</td><td>81</td><td>6</td><td>80</td><td>5</td><td>79</td><td>4</td><td>78</td><td>3</td><td>77</td><td>2</td><td>76</td><td>1</td><td>75</td><td>0</td></tr></table>"
      ],
      "text/plain": [
       "<IPython.core.display.HTML object>"
      ]
     },
     "metadata": {},
     "output_type": "display_data"
    },
    {
     "name": "stdout",
     "output_type": "stream",
     "text": [
      "When p = 151 triangular = 11476 and partial triangular = 76\n"
     ]
    },
    {
     "data": {
      "text/html": [
       "<table><tr><td>2</td><td>2</td><td>3</td><td>3</td><td>4</td><td>4</td><td>5</td><td>5</td><td>6</td><td>6</td><td>7</td><td>7</td><td>8</td><td>8</td><td>9</td><td>9</td><td>10</td><td>10</td><td>11</td><td>11</td><td>12</td><td>12</td><td>13</td><td>13</td><td>14</td><td>14</td><td>15</td><td>15</td><td>16</td><td>16</td><td>17</td><td>17</td><td>18</td><td>18</td><td>19</td><td>19</td><td>20</td><td>20</td><td>21</td><td>21</td><td>22</td><td>22</td><td>23</td><td>23</td><td>24</td><td>24</td><td>25</td><td>25</td><td>26</td><td>26</td><td>27</td><td>27</td><td>28</td><td>28</td><td>29</td><td>29</td><td>30</td><td>30</td><td>31</td><td>31</td><td>32</td><td>32</td><td>33</td><td>33</td><td>34</td><td>34</td><td>35</td><td>35</td><td>36</td><td>36</td><td>37</td><td>37</td><td>38</td><td>38</td><td>39</td><td>39</td><td>40</td><td>40</td><td>41</td><td>41</td><td>42</td><td>42</td><td>43</td><td>43</td><td>44</td><td>44</td><td>45</td><td>45</td><td>46</td><td>46</td><td>47</td><td>47</td><td>48</td><td>48</td><td>49</td><td>49</td><td>50</td><td>50</td><td>51</td><td>51</td><td>52</td><td>52</td><td>53</td><td>53</td><td>54</td><td>54</td><td>55</td><td>55</td><td>56</td><td>56</td><td>57</td><td>57</td><td>58</td><td>58</td><td>59</td><td>59</td><td>60</td><td>60</td><td>61</td><td>61</td><td>62</td><td>62</td><td>63</td><td>63</td><td>64</td><td>64</td><td>65</td><td>65</td><td>66</td><td>66</td><td>67</td><td>67</td><td>68</td><td>68</td><td>69</td><td>69</td><td>70</td><td>70</td><td>71</td><td>71</td><td>72</td><td>72</td><td>73</td><td>73</td><td>74</td><td>74</td><td>75</td><td>75</td><td>76</td><td>76</td></tr><tr><td>302</td><td>302</td><td>453</td><td>453</td><td>604</td><td>604</td><td>755</td><td>755</td><td>906</td><td>906</td><td>1057</td><td>1057</td><td>1208</td><td>1208</td><td>1359</td><td>1359</td><td>1510</td><td>1510</td><td>1661</td><td>1661</td><td>1812</td><td>1812</td><td>1963</td><td>1963</td><td>2114</td><td>2114</td><td>2265</td><td>2265</td><td>2416</td><td>2416</td><td>2567</td><td>2567</td><td>2718</td><td>2718</td><td>2869</td><td>2869</td><td>3020</td><td>3020</td><td>3171</td><td>3171</td><td>3322</td><td>3322</td><td>3473</td><td>3473</td><td>3624</td><td>3624</td><td>3775</td><td>3775</td><td>3926</td><td>3926</td><td>4077</td><td>4077</td><td>4228</td><td>4228</td><td>4379</td><td>4379</td><td>4530</td><td>4530</td><td>4681</td><td>4681</td><td>4832</td><td>4832</td><td>4983</td><td>4983</td><td>5134</td><td>5134</td><td>5285</td><td>5285</td><td>5436</td><td>5436</td><td>5587</td><td>5587</td><td>5738</td><td>5738</td><td>5889</td><td>5889</td><td>6040</td><td>6040</td><td>6191</td><td>6191</td><td>6342</td><td>6342</td><td>6493</td><td>6493</td><td>6644</td><td>6644</td><td>6795</td><td>6795</td><td>6946</td><td>6946</td><td>7097</td><td>7097</td><td>7248</td><td>7248</td><td>7399</td><td>7399</td><td>7550</td><td>7550</td><td>7701</td><td>7701</td><td>7852</td><td>7852</td><td>8003</td><td>8003</td><td>8154</td><td>8154</td><td>8305</td><td>8305</td><td>8456</td><td>8456</td><td>8607</td><td>8607</td><td>8758</td><td>8758</td><td>8909</td><td>8909</td><td>9060</td><td>9060</td><td>9211</td><td>9211</td><td>9362</td><td>9362</td><td>9513</td><td>9513</td><td>9664</td><td>9664</td><td>9815</td><td>9815</td><td>9966</td><td>9966</td><td>10117</td><td>10117</td><td>10268</td><td>10268</td><td>10419</td><td>10419</td><td>10570</td><td>10570</td><td>10721</td><td>10721</td><td>10872</td><td>10872</td><td>11023</td><td>11023</td><td>11174</td><td>11174</td><td>11325</td><td>11325</td><td>11476</td><td>11476</td></tr><tr><td>2</td><td>3</td><td>4</td><td>5</td><td>6</td><td>7</td><td>8</td><td>9</td><td>10</td><td>11</td><td>12</td><td>13</td><td>14</td><td>15</td><td>16</td><td>17</td><td>18</td><td>19</td><td>20</td><td>21</td><td>22</td><td>23</td><td>24</td><td>25</td><td>26</td><td>27</td><td>28</td><td>29</td><td>30</td><td>31</td><td>32</td><td>33</td><td>34</td><td>35</td><td>36</td><td>37</td><td>38</td><td>39</td><td>40</td><td>41</td><td>42</td><td>43</td><td>44</td><td>45</td><td>46</td><td>47</td><td>48</td><td>49</td><td>50</td><td>51</td><td>52</td><td>53</td><td>54</td><td>55</td><td>56</td><td>57</td><td>58</td><td>59</td><td>60</td><td>61</td><td>62</td><td>63</td><td>64</td><td>65</td><td>66</td><td>67</td><td>68</td><td>69</td><td>70</td><td>71</td><td>72</td><td>73</td><td>74</td><td>75</td><td>76</td><td>77</td><td>78</td><td>79</td><td>80</td><td>81</td><td>82</td><td>83</td><td>84</td><td>85</td><td>86</td><td>87</td><td>88</td><td>89</td><td>90</td><td>91</td><td>92</td><td>93</td><td>94</td><td>95</td><td>96</td><td>97</td><td>98</td><td>99</td><td>100</td><td>101</td><td>102</td><td>103</td><td>104</td><td>105</td><td>106</td><td>107</td><td>108</td><td>109</td><td>110</td><td>111</td><td>112</td><td>113</td><td>114</td><td>115</td><td>116</td><td>117</td><td>118</td><td>119</td><td>120</td><td>121</td><td>122</td><td>123</td><td>124</td><td>125</td><td>126</td><td>127</td><td>128</td><td>129</td><td>130</td><td>131</td><td>132</td><td>133</td><td>134</td><td>135</td><td>136</td><td>137</td><td>138</td><td>139</td><td>140</td><td>141</td><td>142</td><td>143</td><td>144</td><td>145</td><td>146</td><td>147</td><td>148</td><td>149</td><td>150</td><td>151</td></tr><tr><td>152</td><td>228</td><td>304</td><td>380</td><td>456</td><td>532</td><td>608</td><td>684</td><td>760</td><td>836</td><td>912</td><td>988</td><td>1064</td><td>1140</td><td>1216</td><td>1292</td><td>1368</td><td>1444</td><td>1520</td><td>1596</td><td>1672</td><td>1748</td><td>1824</td><td>1900</td><td>1976</td><td>2052</td><td>2128</td><td>2204</td><td>2280</td><td>2356</td><td>2432</td><td>2508</td><td>2584</td><td>2660</td><td>2736</td><td>2812</td><td>2888</td><td>2964</td><td>3040</td><td>3116</td><td>3192</td><td>3268</td><td>3344</td><td>3420</td><td>3496</td><td>3572</td><td>3648</td><td>3724</td><td>3800</td><td>3876</td><td>3952</td><td>4028</td><td>4104</td><td>4180</td><td>4256</td><td>4332</td><td>4408</td><td>4484</td><td>4560</td><td>4636</td><td>4712</td><td>4788</td><td>4864</td><td>4940</td><td>5016</td><td>5092</td><td>5168</td><td>5244</td><td>5320</td><td>5396</td><td>5472</td><td>5548</td><td>5624</td><td>5700</td><td>5776</td><td>5852</td><td>5928</td><td>6004</td><td>6080</td><td>6156</td><td>6232</td><td>6308</td><td>6384</td><td>6460</td><td>6536</td><td>6612</td><td>6688</td><td>6764</td><td>6840</td><td>6916</td><td>6992</td><td>7068</td><td>7144</td><td>7220</td><td>7296</td><td>7372</td><td>7448</td><td>7524</td><td>7600</td><td>7676</td><td>7752</td><td>7828</td><td>7904</td><td>7980</td><td>8056</td><td>8132</td><td>8208</td><td>8284</td><td>8360</td><td>8436</td><td>8512</td><td>8588</td><td>8664</td><td>8740</td><td>8816</td><td>8892</td><td>8968</td><td>9044</td><td>9120</td><td>9196</td><td>9272</td><td>9348</td><td>9424</td><td>9500</td><td>9576</td><td>9652</td><td>9728</td><td>9804</td><td>9880</td><td>9956</td><td>10032</td><td>10108</td><td>10184</td><td>10260</td><td>10336</td><td>10412</td><td>10488</td><td>10564</td><td>10640</td><td>10716</td><td>10792</td><td>10868</td><td>10944</td><td>11020</td><td>11096</td><td>11172</td><td>11248</td><td>11324</td><td>11400</td><td>11476</td></tr><tr><td>150</td><td>74</td><td>149</td><td>73</td><td>148</td><td>72</td><td>147</td><td>71</td><td>146</td><td>70</td><td>145</td><td>69</td><td>144</td><td>68</td><td>143</td><td>67</td><td>142</td><td>66</td><td>141</td><td>65</td><td>140</td><td>64</td><td>139</td><td>63</td><td>138</td><td>62</td><td>137</td><td>61</td><td>136</td><td>60</td><td>135</td><td>59</td><td>134</td><td>58</td><td>133</td><td>57</td><td>132</td><td>56</td><td>131</td><td>55</td><td>130</td><td>54</td><td>129</td><td>53</td><td>128</td><td>52</td><td>127</td><td>51</td><td>126</td><td>50</td><td>125</td><td>49</td><td>124</td><td>48</td><td>123</td><td>47</td><td>122</td><td>46</td><td>121</td><td>45</td><td>120</td><td>44</td><td>119</td><td>43</td><td>118</td><td>42</td><td>117</td><td>41</td><td>116</td><td>40</td><td>115</td><td>39</td><td>114</td><td>38</td><td>113</td><td>37</td><td>112</td><td>36</td><td>111</td><td>35</td><td>110</td><td>34</td><td>109</td><td>33</td><td>108</td><td>32</td><td>107</td><td>31</td><td>106</td><td>30</td><td>105</td><td>29</td><td>104</td><td>28</td><td>103</td><td>27</td><td>102</td><td>26</td><td>101</td><td>25</td><td>100</td><td>24</td><td>99</td><td>23</td><td>98</td><td>22</td><td>97</td><td>21</td><td>96</td><td>20</td><td>95</td><td>19</td><td>94</td><td>18</td><td>93</td><td>17</td><td>92</td><td>16</td><td>91</td><td>15</td><td>90</td><td>14</td><td>89</td><td>13</td><td>88</td><td>12</td><td>87</td><td>11</td><td>86</td><td>10</td><td>85</td><td>9</td><td>84</td><td>8</td><td>83</td><td>7</td><td>82</td><td>6</td><td>81</td><td>5</td><td>80</td><td>4</td><td>79</td><td>3</td><td>78</td><td>2</td><td>77</td><td>1</td><td>76</td><td>0</td></tr></table>"
      ],
      "text/plain": [
       "<IPython.core.display.HTML object>"
      ]
     },
     "metadata": {},
     "output_type": "display_data"
    },
    {
     "name": "stdout",
     "output_type": "stream",
     "text": [
      "When p = 153 triangular = 11781 and partial triangular = 77\n"
     ]
    },
    {
     "data": {
      "text/html": [
       "<table><tr><td>2</td><td>2</td><td>3</td><td>3</td><td>4</td><td>4</td><td>5</td><td>5</td><td>6</td><td>6</td><td>7</td><td>7</td><td>8</td><td>8</td><td>9</td><td>9</td><td>10</td><td>10</td><td>11</td><td>11</td><td>12</td><td>12</td><td>13</td><td>13</td><td>14</td><td>14</td><td>15</td><td>15</td><td>16</td><td>16</td><td>17</td><td>17</td><td>18</td><td>18</td><td>19</td><td>19</td><td>20</td><td>20</td><td>21</td><td>21</td><td>22</td><td>22</td><td>23</td><td>23</td><td>24</td><td>24</td><td>25</td><td>25</td><td>26</td><td>26</td><td>27</td><td>27</td><td>28</td><td>28</td><td>29</td><td>29</td><td>30</td><td>30</td><td>31</td><td>31</td><td>32</td><td>32</td><td>33</td><td>33</td><td>34</td><td>34</td><td>35</td><td>35</td><td>36</td><td>36</td><td>37</td><td>37</td><td>38</td><td>38</td><td>39</td><td>39</td><td>40</td><td>40</td><td>41</td><td>41</td><td>42</td><td>42</td><td>43</td><td>43</td><td>44</td><td>44</td><td>45</td><td>45</td><td>46</td><td>46</td><td>47</td><td>47</td><td>48</td><td>48</td><td>49</td><td>49</td><td>50</td><td>50</td><td>51</td><td>51</td><td>52</td><td>52</td><td>53</td><td>53</td><td>54</td><td>54</td><td>55</td><td>55</td><td>56</td><td>56</td><td>57</td><td>57</td><td>58</td><td>58</td><td>59</td><td>59</td><td>60</td><td>60</td><td>61</td><td>61</td><td>62</td><td>62</td><td>63</td><td>63</td><td>64</td><td>64</td><td>65</td><td>65</td><td>66</td><td>66</td><td>67</td><td>67</td><td>68</td><td>68</td><td>69</td><td>69</td><td>70</td><td>70</td><td>71</td><td>71</td><td>72</td><td>72</td><td>73</td><td>73</td><td>74</td><td>74</td><td>75</td><td>75</td><td>76</td><td>76</td><td>77</td><td>77</td></tr><tr><td>306</td><td>306</td><td>459</td><td>459</td><td>612</td><td>612</td><td>765</td><td>765</td><td>918</td><td>918</td><td>1071</td><td>1071</td><td>1224</td><td>1224</td><td>1377</td><td>1377</td><td>1530</td><td>1530</td><td>1683</td><td>1683</td><td>1836</td><td>1836</td><td>1989</td><td>1989</td><td>2142</td><td>2142</td><td>2295</td><td>2295</td><td>2448</td><td>2448</td><td>2601</td><td>2601</td><td>2754</td><td>2754</td><td>2907</td><td>2907</td><td>3060</td><td>3060</td><td>3213</td><td>3213</td><td>3366</td><td>3366</td><td>3519</td><td>3519</td><td>3672</td><td>3672</td><td>3825</td><td>3825</td><td>3978</td><td>3978</td><td>4131</td><td>4131</td><td>4284</td><td>4284</td><td>4437</td><td>4437</td><td>4590</td><td>4590</td><td>4743</td><td>4743</td><td>4896</td><td>4896</td><td>5049</td><td>5049</td><td>5202</td><td>5202</td><td>5355</td><td>5355</td><td>5508</td><td>5508</td><td>5661</td><td>5661</td><td>5814</td><td>5814</td><td>5967</td><td>5967</td><td>6120</td><td>6120</td><td>6273</td><td>6273</td><td>6426</td><td>6426</td><td>6579</td><td>6579</td><td>6732</td><td>6732</td><td>6885</td><td>6885</td><td>7038</td><td>7038</td><td>7191</td><td>7191</td><td>7344</td><td>7344</td><td>7497</td><td>7497</td><td>7650</td><td>7650</td><td>7803</td><td>7803</td><td>7956</td><td>7956</td><td>8109</td><td>8109</td><td>8262</td><td>8262</td><td>8415</td><td>8415</td><td>8568</td><td>8568</td><td>8721</td><td>8721</td><td>8874</td><td>8874</td><td>9027</td><td>9027</td><td>9180</td><td>9180</td><td>9333</td><td>9333</td><td>9486</td><td>9486</td><td>9639</td><td>9639</td><td>9792</td><td>9792</td><td>9945</td><td>9945</td><td>10098</td><td>10098</td><td>10251</td><td>10251</td><td>10404</td><td>10404</td><td>10557</td><td>10557</td><td>10710</td><td>10710</td><td>10863</td><td>10863</td><td>11016</td><td>11016</td><td>11169</td><td>11169</td><td>11322</td><td>11322</td><td>11475</td><td>11475</td><td>11628</td><td>11628</td><td>11781</td><td>11781</td></tr><tr><td>2</td><td>3</td><td>4</td><td>5</td><td>6</td><td>7</td><td>8</td><td>9</td><td>10</td><td>11</td><td>12</td><td>13</td><td>14</td><td>15</td><td>16</td><td>17</td><td>18</td><td>19</td><td>20</td><td>21</td><td>22</td><td>23</td><td>24</td><td>25</td><td>26</td><td>27</td><td>28</td><td>29</td><td>30</td><td>31</td><td>32</td><td>33</td><td>34</td><td>35</td><td>36</td><td>37</td><td>38</td><td>39</td><td>40</td><td>41</td><td>42</td><td>43</td><td>44</td><td>45</td><td>46</td><td>47</td><td>48</td><td>49</td><td>50</td><td>51</td><td>52</td><td>53</td><td>54</td><td>55</td><td>56</td><td>57</td><td>58</td><td>59</td><td>60</td><td>61</td><td>62</td><td>63</td><td>64</td><td>65</td><td>66</td><td>67</td><td>68</td><td>69</td><td>70</td><td>71</td><td>72</td><td>73</td><td>74</td><td>75</td><td>76</td><td>77</td><td>78</td><td>79</td><td>80</td><td>81</td><td>82</td><td>83</td><td>84</td><td>85</td><td>86</td><td>87</td><td>88</td><td>89</td><td>90</td><td>91</td><td>92</td><td>93</td><td>94</td><td>95</td><td>96</td><td>97</td><td>98</td><td>99</td><td>100</td><td>101</td><td>102</td><td>103</td><td>104</td><td>105</td><td>106</td><td>107</td><td>108</td><td>109</td><td>110</td><td>111</td><td>112</td><td>113</td><td>114</td><td>115</td><td>116</td><td>117</td><td>118</td><td>119</td><td>120</td><td>121</td><td>122</td><td>123</td><td>124</td><td>125</td><td>126</td><td>127</td><td>128</td><td>129</td><td>130</td><td>131</td><td>132</td><td>133</td><td>134</td><td>135</td><td>136</td><td>137</td><td>138</td><td>139</td><td>140</td><td>141</td><td>142</td><td>143</td><td>144</td><td>145</td><td>146</td><td>147</td><td>148</td><td>149</td><td>150</td><td>151</td><td>152</td><td>153</td></tr><tr><td>154</td><td>231</td><td>308</td><td>385</td><td>462</td><td>539</td><td>616</td><td>693</td><td>770</td><td>847</td><td>924</td><td>1001</td><td>1078</td><td>1155</td><td>1232</td><td>1309</td><td>1386</td><td>1463</td><td>1540</td><td>1617</td><td>1694</td><td>1771</td><td>1848</td><td>1925</td><td>2002</td><td>2079</td><td>2156</td><td>2233</td><td>2310</td><td>2387</td><td>2464</td><td>2541</td><td>2618</td><td>2695</td><td>2772</td><td>2849</td><td>2926</td><td>3003</td><td>3080</td><td>3157</td><td>3234</td><td>3311</td><td>3388</td><td>3465</td><td>3542</td><td>3619</td><td>3696</td><td>3773</td><td>3850</td><td>3927</td><td>4004</td><td>4081</td><td>4158</td><td>4235</td><td>4312</td><td>4389</td><td>4466</td><td>4543</td><td>4620</td><td>4697</td><td>4774</td><td>4851</td><td>4928</td><td>5005</td><td>5082</td><td>5159</td><td>5236</td><td>5313</td><td>5390</td><td>5467</td><td>5544</td><td>5621</td><td>5698</td><td>5775</td><td>5852</td><td>5929</td><td>6006</td><td>6083</td><td>6160</td><td>6237</td><td>6314</td><td>6391</td><td>6468</td><td>6545</td><td>6622</td><td>6699</td><td>6776</td><td>6853</td><td>6930</td><td>7007</td><td>7084</td><td>7161</td><td>7238</td><td>7315</td><td>7392</td><td>7469</td><td>7546</td><td>7623</td><td>7700</td><td>7777</td><td>7854</td><td>7931</td><td>8008</td><td>8085</td><td>8162</td><td>8239</td><td>8316</td><td>8393</td><td>8470</td><td>8547</td><td>8624</td><td>8701</td><td>8778</td><td>8855</td><td>8932</td><td>9009</td><td>9086</td><td>9163</td><td>9240</td><td>9317</td><td>9394</td><td>9471</td><td>9548</td><td>9625</td><td>9702</td><td>9779</td><td>9856</td><td>9933</td><td>10010</td><td>10087</td><td>10164</td><td>10241</td><td>10318</td><td>10395</td><td>10472</td><td>10549</td><td>10626</td><td>10703</td><td>10780</td><td>10857</td><td>10934</td><td>11011</td><td>11088</td><td>11165</td><td>11242</td><td>11319</td><td>11396</td><td>11473</td><td>11550</td><td>11627</td><td>11704</td><td>11781</td></tr><tr><td>152</td><td>75</td><td>151</td><td>74</td><td>150</td><td>73</td><td>149</td><td>72</td><td>148</td><td>71</td><td>147</td><td>70</td><td>146</td><td>69</td><td>145</td><td>68</td><td>144</td><td>67</td><td>143</td><td>66</td><td>142</td><td>65</td><td>141</td><td>64</td><td>140</td><td>63</td><td>139</td><td>62</td><td>138</td><td>61</td><td>137</td><td>60</td><td>136</td><td>59</td><td>135</td><td>58</td><td>134</td><td>57</td><td>133</td><td>56</td><td>132</td><td>55</td><td>131</td><td>54</td><td>130</td><td>53</td><td>129</td><td>52</td><td>128</td><td>51</td><td>127</td><td>50</td><td>126</td><td>49</td><td>125</td><td>48</td><td>124</td><td>47</td><td>123</td><td>46</td><td>122</td><td>45</td><td>121</td><td>44</td><td>120</td><td>43</td><td>119</td><td>42</td><td>118</td><td>41</td><td>117</td><td>40</td><td>116</td><td>39</td><td>115</td><td>38</td><td>114</td><td>37</td><td>113</td><td>36</td><td>112</td><td>35</td><td>111</td><td>34</td><td>110</td><td>33</td><td>109</td><td>32</td><td>108</td><td>31</td><td>107</td><td>30</td><td>106</td><td>29</td><td>105</td><td>28</td><td>104</td><td>27</td><td>103</td><td>26</td><td>102</td><td>25</td><td>101</td><td>24</td><td>100</td><td>23</td><td>99</td><td>22</td><td>98</td><td>21</td><td>97</td><td>20</td><td>96</td><td>19</td><td>95</td><td>18</td><td>94</td><td>17</td><td>93</td><td>16</td><td>92</td><td>15</td><td>91</td><td>14</td><td>90</td><td>13</td><td>89</td><td>12</td><td>88</td><td>11</td><td>87</td><td>10</td><td>86</td><td>9</td><td>85</td><td>8</td><td>84</td><td>7</td><td>83</td><td>6</td><td>82</td><td>5</td><td>81</td><td>4</td><td>80</td><td>3</td><td>79</td><td>2</td><td>78</td><td>1</td><td>77</td><td>0</td></tr></table>"
      ],
      "text/plain": [
       "<IPython.core.display.HTML object>"
      ]
     },
     "metadata": {},
     "output_type": "display_data"
    },
    {
     "name": "stdout",
     "output_type": "stream",
     "text": [
      "When p = 155 triangular = 12090 and partial triangular = 78\n"
     ]
    },
    {
     "data": {
      "text/html": [
       "<table><tr><td>2</td><td>2</td><td>3</td><td>3</td><td>4</td><td>4</td><td>5</td><td>5</td><td>6</td><td>6</td><td>7</td><td>7</td><td>8</td><td>8</td><td>9</td><td>9</td><td>10</td><td>10</td><td>11</td><td>11</td><td>12</td><td>12</td><td>13</td><td>13</td><td>14</td><td>14</td><td>15</td><td>15</td><td>16</td><td>16</td><td>17</td><td>17</td><td>18</td><td>18</td><td>19</td><td>19</td><td>20</td><td>20</td><td>21</td><td>21</td><td>22</td><td>22</td><td>23</td><td>23</td><td>24</td><td>24</td><td>25</td><td>25</td><td>26</td><td>26</td><td>27</td><td>27</td><td>28</td><td>28</td><td>29</td><td>29</td><td>30</td><td>30</td><td>31</td><td>31</td><td>32</td><td>32</td><td>33</td><td>33</td><td>34</td><td>34</td><td>35</td><td>35</td><td>36</td><td>36</td><td>37</td><td>37</td><td>38</td><td>38</td><td>39</td><td>39</td><td>40</td><td>40</td><td>41</td><td>41</td><td>42</td><td>42</td><td>43</td><td>43</td><td>44</td><td>44</td><td>45</td><td>45</td><td>46</td><td>46</td><td>47</td><td>47</td><td>48</td><td>48</td><td>49</td><td>49</td><td>50</td><td>50</td><td>51</td><td>51</td><td>52</td><td>52</td><td>53</td><td>53</td><td>54</td><td>54</td><td>55</td><td>55</td><td>56</td><td>56</td><td>57</td><td>57</td><td>58</td><td>58</td><td>59</td><td>59</td><td>60</td><td>60</td><td>61</td><td>61</td><td>62</td><td>62</td><td>63</td><td>63</td><td>64</td><td>64</td><td>65</td><td>65</td><td>66</td><td>66</td><td>67</td><td>67</td><td>68</td><td>68</td><td>69</td><td>69</td><td>70</td><td>70</td><td>71</td><td>71</td><td>72</td><td>72</td><td>73</td><td>73</td><td>74</td><td>74</td><td>75</td><td>75</td><td>76</td><td>76</td><td>77</td><td>77</td><td>78</td><td>78</td></tr><tr><td>310</td><td>310</td><td>465</td><td>465</td><td>620</td><td>620</td><td>775</td><td>775</td><td>930</td><td>930</td><td>1085</td><td>1085</td><td>1240</td><td>1240</td><td>1395</td><td>1395</td><td>1550</td><td>1550</td><td>1705</td><td>1705</td><td>1860</td><td>1860</td><td>2015</td><td>2015</td><td>2170</td><td>2170</td><td>2325</td><td>2325</td><td>2480</td><td>2480</td><td>2635</td><td>2635</td><td>2790</td><td>2790</td><td>2945</td><td>2945</td><td>3100</td><td>3100</td><td>3255</td><td>3255</td><td>3410</td><td>3410</td><td>3565</td><td>3565</td><td>3720</td><td>3720</td><td>3875</td><td>3875</td><td>4030</td><td>4030</td><td>4185</td><td>4185</td><td>4340</td><td>4340</td><td>4495</td><td>4495</td><td>4650</td><td>4650</td><td>4805</td><td>4805</td><td>4960</td><td>4960</td><td>5115</td><td>5115</td><td>5270</td><td>5270</td><td>5425</td><td>5425</td><td>5580</td><td>5580</td><td>5735</td><td>5735</td><td>5890</td><td>5890</td><td>6045</td><td>6045</td><td>6200</td><td>6200</td><td>6355</td><td>6355</td><td>6510</td><td>6510</td><td>6665</td><td>6665</td><td>6820</td><td>6820</td><td>6975</td><td>6975</td><td>7130</td><td>7130</td><td>7285</td><td>7285</td><td>7440</td><td>7440</td><td>7595</td><td>7595</td><td>7750</td><td>7750</td><td>7905</td><td>7905</td><td>8060</td><td>8060</td><td>8215</td><td>8215</td><td>8370</td><td>8370</td><td>8525</td><td>8525</td><td>8680</td><td>8680</td><td>8835</td><td>8835</td><td>8990</td><td>8990</td><td>9145</td><td>9145</td><td>9300</td><td>9300</td><td>9455</td><td>9455</td><td>9610</td><td>9610</td><td>9765</td><td>9765</td><td>9920</td><td>9920</td><td>10075</td><td>10075</td><td>10230</td><td>10230</td><td>10385</td><td>10385</td><td>10540</td><td>10540</td><td>10695</td><td>10695</td><td>10850</td><td>10850</td><td>11005</td><td>11005</td><td>11160</td><td>11160</td><td>11315</td><td>11315</td><td>11470</td><td>11470</td><td>11625</td><td>11625</td><td>11780</td><td>11780</td><td>11935</td><td>11935</td><td>12090</td><td>12090</td></tr><tr><td>2</td><td>3</td><td>4</td><td>5</td><td>6</td><td>7</td><td>8</td><td>9</td><td>10</td><td>11</td><td>12</td><td>13</td><td>14</td><td>15</td><td>16</td><td>17</td><td>18</td><td>19</td><td>20</td><td>21</td><td>22</td><td>23</td><td>24</td><td>25</td><td>26</td><td>27</td><td>28</td><td>29</td><td>30</td><td>31</td><td>32</td><td>33</td><td>34</td><td>35</td><td>36</td><td>37</td><td>38</td><td>39</td><td>40</td><td>41</td><td>42</td><td>43</td><td>44</td><td>45</td><td>46</td><td>47</td><td>48</td><td>49</td><td>50</td><td>51</td><td>52</td><td>53</td><td>54</td><td>55</td><td>56</td><td>57</td><td>58</td><td>59</td><td>60</td><td>61</td><td>62</td><td>63</td><td>64</td><td>65</td><td>66</td><td>67</td><td>68</td><td>69</td><td>70</td><td>71</td><td>72</td><td>73</td><td>74</td><td>75</td><td>76</td><td>77</td><td>78</td><td>79</td><td>80</td><td>81</td><td>82</td><td>83</td><td>84</td><td>85</td><td>86</td><td>87</td><td>88</td><td>89</td><td>90</td><td>91</td><td>92</td><td>93</td><td>94</td><td>95</td><td>96</td><td>97</td><td>98</td><td>99</td><td>100</td><td>101</td><td>102</td><td>103</td><td>104</td><td>105</td><td>106</td><td>107</td><td>108</td><td>109</td><td>110</td><td>111</td><td>112</td><td>113</td><td>114</td><td>115</td><td>116</td><td>117</td><td>118</td><td>119</td><td>120</td><td>121</td><td>122</td><td>123</td><td>124</td><td>125</td><td>126</td><td>127</td><td>128</td><td>129</td><td>130</td><td>131</td><td>132</td><td>133</td><td>134</td><td>135</td><td>136</td><td>137</td><td>138</td><td>139</td><td>140</td><td>141</td><td>142</td><td>143</td><td>144</td><td>145</td><td>146</td><td>147</td><td>148</td><td>149</td><td>150</td><td>151</td><td>152</td><td>153</td><td>154</td><td>155</td></tr><tr><td>156</td><td>234</td><td>312</td><td>390</td><td>468</td><td>546</td><td>624</td><td>702</td><td>780</td><td>858</td><td>936</td><td>1014</td><td>1092</td><td>1170</td><td>1248</td><td>1326</td><td>1404</td><td>1482</td><td>1560</td><td>1638</td><td>1716</td><td>1794</td><td>1872</td><td>1950</td><td>2028</td><td>2106</td><td>2184</td><td>2262</td><td>2340</td><td>2418</td><td>2496</td><td>2574</td><td>2652</td><td>2730</td><td>2808</td><td>2886</td><td>2964</td><td>3042</td><td>3120</td><td>3198</td><td>3276</td><td>3354</td><td>3432</td><td>3510</td><td>3588</td><td>3666</td><td>3744</td><td>3822</td><td>3900</td><td>3978</td><td>4056</td><td>4134</td><td>4212</td><td>4290</td><td>4368</td><td>4446</td><td>4524</td><td>4602</td><td>4680</td><td>4758</td><td>4836</td><td>4914</td><td>4992</td><td>5070</td><td>5148</td><td>5226</td><td>5304</td><td>5382</td><td>5460</td><td>5538</td><td>5616</td><td>5694</td><td>5772</td><td>5850</td><td>5928</td><td>6006</td><td>6084</td><td>6162</td><td>6240</td><td>6318</td><td>6396</td><td>6474</td><td>6552</td><td>6630</td><td>6708</td><td>6786</td><td>6864</td><td>6942</td><td>7020</td><td>7098</td><td>7176</td><td>7254</td><td>7332</td><td>7410</td><td>7488</td><td>7566</td><td>7644</td><td>7722</td><td>7800</td><td>7878</td><td>7956</td><td>8034</td><td>8112</td><td>8190</td><td>8268</td><td>8346</td><td>8424</td><td>8502</td><td>8580</td><td>8658</td><td>8736</td><td>8814</td><td>8892</td><td>8970</td><td>9048</td><td>9126</td><td>9204</td><td>9282</td><td>9360</td><td>9438</td><td>9516</td><td>9594</td><td>9672</td><td>9750</td><td>9828</td><td>9906</td><td>9984</td><td>10062</td><td>10140</td><td>10218</td><td>10296</td><td>10374</td><td>10452</td><td>10530</td><td>10608</td><td>10686</td><td>10764</td><td>10842</td><td>10920</td><td>10998</td><td>11076</td><td>11154</td><td>11232</td><td>11310</td><td>11388</td><td>11466</td><td>11544</td><td>11622</td><td>11700</td><td>11778</td><td>11856</td><td>11934</td><td>12012</td><td>12090</td></tr><tr><td>154</td><td>76</td><td>153</td><td>75</td><td>152</td><td>74</td><td>151</td><td>73</td><td>150</td><td>72</td><td>149</td><td>71</td><td>148</td><td>70</td><td>147</td><td>69</td><td>146</td><td>68</td><td>145</td><td>67</td><td>144</td><td>66</td><td>143</td><td>65</td><td>142</td><td>64</td><td>141</td><td>63</td><td>140</td><td>62</td><td>139</td><td>61</td><td>138</td><td>60</td><td>137</td><td>59</td><td>136</td><td>58</td><td>135</td><td>57</td><td>134</td><td>56</td><td>133</td><td>55</td><td>132</td><td>54</td><td>131</td><td>53</td><td>130</td><td>52</td><td>129</td><td>51</td><td>128</td><td>50</td><td>127</td><td>49</td><td>126</td><td>48</td><td>125</td><td>47</td><td>124</td><td>46</td><td>123</td><td>45</td><td>122</td><td>44</td><td>121</td><td>43</td><td>120</td><td>42</td><td>119</td><td>41</td><td>118</td><td>40</td><td>117</td><td>39</td><td>116</td><td>38</td><td>115</td><td>37</td><td>114</td><td>36</td><td>113</td><td>35</td><td>112</td><td>34</td><td>111</td><td>33</td><td>110</td><td>32</td><td>109</td><td>31</td><td>108</td><td>30</td><td>107</td><td>29</td><td>106</td><td>28</td><td>105</td><td>27</td><td>104</td><td>26</td><td>103</td><td>25</td><td>102</td><td>24</td><td>101</td><td>23</td><td>100</td><td>22</td><td>99</td><td>21</td><td>98</td><td>20</td><td>97</td><td>19</td><td>96</td><td>18</td><td>95</td><td>17</td><td>94</td><td>16</td><td>93</td><td>15</td><td>92</td><td>14</td><td>91</td><td>13</td><td>90</td><td>12</td><td>89</td><td>11</td><td>88</td><td>10</td><td>87</td><td>9</td><td>86</td><td>8</td><td>85</td><td>7</td><td>84</td><td>6</td><td>83</td><td>5</td><td>82</td><td>4</td><td>81</td><td>3</td><td>80</td><td>2</td><td>79</td><td>1</td><td>78</td><td>0</td></tr></table>"
      ],
      "text/plain": [
       "<IPython.core.display.HTML object>"
      ]
     },
     "metadata": {},
     "output_type": "display_data"
    },
    {
     "name": "stdout",
     "output_type": "stream",
     "text": [
      "When p = 157 triangular = 12403 and partial triangular = 79\n"
     ]
    },
    {
     "data": {
      "text/html": [
       "<table><tr><td>2</td><td>2</td><td>3</td><td>3</td><td>4</td><td>4</td><td>5</td><td>5</td><td>6</td><td>6</td><td>7</td><td>7</td><td>8</td><td>8</td><td>9</td><td>9</td><td>10</td><td>10</td><td>11</td><td>11</td><td>12</td><td>12</td><td>13</td><td>13</td><td>14</td><td>14</td><td>15</td><td>15</td><td>16</td><td>16</td><td>17</td><td>17</td><td>18</td><td>18</td><td>19</td><td>19</td><td>20</td><td>20</td><td>21</td><td>21</td><td>22</td><td>22</td><td>23</td><td>23</td><td>24</td><td>24</td><td>25</td><td>25</td><td>26</td><td>26</td><td>27</td><td>27</td><td>28</td><td>28</td><td>29</td><td>29</td><td>30</td><td>30</td><td>31</td><td>31</td><td>32</td><td>32</td><td>33</td><td>33</td><td>34</td><td>34</td><td>35</td><td>35</td><td>36</td><td>36</td><td>37</td><td>37</td><td>38</td><td>38</td><td>39</td><td>39</td><td>40</td><td>40</td><td>41</td><td>41</td><td>42</td><td>42</td><td>43</td><td>43</td><td>44</td><td>44</td><td>45</td><td>45</td><td>46</td><td>46</td><td>47</td><td>47</td><td>48</td><td>48</td><td>49</td><td>49</td><td>50</td><td>50</td><td>51</td><td>51</td><td>52</td><td>52</td><td>53</td><td>53</td><td>54</td><td>54</td><td>55</td><td>55</td><td>56</td><td>56</td><td>57</td><td>57</td><td>58</td><td>58</td><td>59</td><td>59</td><td>60</td><td>60</td><td>61</td><td>61</td><td>62</td><td>62</td><td>63</td><td>63</td><td>64</td><td>64</td><td>65</td><td>65</td><td>66</td><td>66</td><td>67</td><td>67</td><td>68</td><td>68</td><td>69</td><td>69</td><td>70</td><td>70</td><td>71</td><td>71</td><td>72</td><td>72</td><td>73</td><td>73</td><td>74</td><td>74</td><td>75</td><td>75</td><td>76</td><td>76</td><td>77</td><td>77</td><td>78</td><td>78</td><td>79</td><td>79</td></tr><tr><td>314</td><td>314</td><td>471</td><td>471</td><td>628</td><td>628</td><td>785</td><td>785</td><td>942</td><td>942</td><td>1099</td><td>1099</td><td>1256</td><td>1256</td><td>1413</td><td>1413</td><td>1570</td><td>1570</td><td>1727</td><td>1727</td><td>1884</td><td>1884</td><td>2041</td><td>2041</td><td>2198</td><td>2198</td><td>2355</td><td>2355</td><td>2512</td><td>2512</td><td>2669</td><td>2669</td><td>2826</td><td>2826</td><td>2983</td><td>2983</td><td>3140</td><td>3140</td><td>3297</td><td>3297</td><td>3454</td><td>3454</td><td>3611</td><td>3611</td><td>3768</td><td>3768</td><td>3925</td><td>3925</td><td>4082</td><td>4082</td><td>4239</td><td>4239</td><td>4396</td><td>4396</td><td>4553</td><td>4553</td><td>4710</td><td>4710</td><td>4867</td><td>4867</td><td>5024</td><td>5024</td><td>5181</td><td>5181</td><td>5338</td><td>5338</td><td>5495</td><td>5495</td><td>5652</td><td>5652</td><td>5809</td><td>5809</td><td>5966</td><td>5966</td><td>6123</td><td>6123</td><td>6280</td><td>6280</td><td>6437</td><td>6437</td><td>6594</td><td>6594</td><td>6751</td><td>6751</td><td>6908</td><td>6908</td><td>7065</td><td>7065</td><td>7222</td><td>7222</td><td>7379</td><td>7379</td><td>7536</td><td>7536</td><td>7693</td><td>7693</td><td>7850</td><td>7850</td><td>8007</td><td>8007</td><td>8164</td><td>8164</td><td>8321</td><td>8321</td><td>8478</td><td>8478</td><td>8635</td><td>8635</td><td>8792</td><td>8792</td><td>8949</td><td>8949</td><td>9106</td><td>9106</td><td>9263</td><td>9263</td><td>9420</td><td>9420</td><td>9577</td><td>9577</td><td>9734</td><td>9734</td><td>9891</td><td>9891</td><td>10048</td><td>10048</td><td>10205</td><td>10205</td><td>10362</td><td>10362</td><td>10519</td><td>10519</td><td>10676</td><td>10676</td><td>10833</td><td>10833</td><td>10990</td><td>10990</td><td>11147</td><td>11147</td><td>11304</td><td>11304</td><td>11461</td><td>11461</td><td>11618</td><td>11618</td><td>11775</td><td>11775</td><td>11932</td><td>11932</td><td>12089</td><td>12089</td><td>12246</td><td>12246</td><td>12403</td><td>12403</td></tr><tr><td>2</td><td>3</td><td>4</td><td>5</td><td>6</td><td>7</td><td>8</td><td>9</td><td>10</td><td>11</td><td>12</td><td>13</td><td>14</td><td>15</td><td>16</td><td>17</td><td>18</td><td>19</td><td>20</td><td>21</td><td>22</td><td>23</td><td>24</td><td>25</td><td>26</td><td>27</td><td>28</td><td>29</td><td>30</td><td>31</td><td>32</td><td>33</td><td>34</td><td>35</td><td>36</td><td>37</td><td>38</td><td>39</td><td>40</td><td>41</td><td>42</td><td>43</td><td>44</td><td>45</td><td>46</td><td>47</td><td>48</td><td>49</td><td>50</td><td>51</td><td>52</td><td>53</td><td>54</td><td>55</td><td>56</td><td>57</td><td>58</td><td>59</td><td>60</td><td>61</td><td>62</td><td>63</td><td>64</td><td>65</td><td>66</td><td>67</td><td>68</td><td>69</td><td>70</td><td>71</td><td>72</td><td>73</td><td>74</td><td>75</td><td>76</td><td>77</td><td>78</td><td>79</td><td>80</td><td>81</td><td>82</td><td>83</td><td>84</td><td>85</td><td>86</td><td>87</td><td>88</td><td>89</td><td>90</td><td>91</td><td>92</td><td>93</td><td>94</td><td>95</td><td>96</td><td>97</td><td>98</td><td>99</td><td>100</td><td>101</td><td>102</td><td>103</td><td>104</td><td>105</td><td>106</td><td>107</td><td>108</td><td>109</td><td>110</td><td>111</td><td>112</td><td>113</td><td>114</td><td>115</td><td>116</td><td>117</td><td>118</td><td>119</td><td>120</td><td>121</td><td>122</td><td>123</td><td>124</td><td>125</td><td>126</td><td>127</td><td>128</td><td>129</td><td>130</td><td>131</td><td>132</td><td>133</td><td>134</td><td>135</td><td>136</td><td>137</td><td>138</td><td>139</td><td>140</td><td>141</td><td>142</td><td>143</td><td>144</td><td>145</td><td>146</td><td>147</td><td>148</td><td>149</td><td>150</td><td>151</td><td>152</td><td>153</td><td>154</td><td>155</td><td>156</td><td>157</td></tr><tr><td>158</td><td>237</td><td>316</td><td>395</td><td>474</td><td>553</td><td>632</td><td>711</td><td>790</td><td>869</td><td>948</td><td>1027</td><td>1106</td><td>1185</td><td>1264</td><td>1343</td><td>1422</td><td>1501</td><td>1580</td><td>1659</td><td>1738</td><td>1817</td><td>1896</td><td>1975</td><td>2054</td><td>2133</td><td>2212</td><td>2291</td><td>2370</td><td>2449</td><td>2528</td><td>2607</td><td>2686</td><td>2765</td><td>2844</td><td>2923</td><td>3002</td><td>3081</td><td>3160</td><td>3239</td><td>3318</td><td>3397</td><td>3476</td><td>3555</td><td>3634</td><td>3713</td><td>3792</td><td>3871</td><td>3950</td><td>4029</td><td>4108</td><td>4187</td><td>4266</td><td>4345</td><td>4424</td><td>4503</td><td>4582</td><td>4661</td><td>4740</td><td>4819</td><td>4898</td><td>4977</td><td>5056</td><td>5135</td><td>5214</td><td>5293</td><td>5372</td><td>5451</td><td>5530</td><td>5609</td><td>5688</td><td>5767</td><td>5846</td><td>5925</td><td>6004</td><td>6083</td><td>6162</td><td>6241</td><td>6320</td><td>6399</td><td>6478</td><td>6557</td><td>6636</td><td>6715</td><td>6794</td><td>6873</td><td>6952</td><td>7031</td><td>7110</td><td>7189</td><td>7268</td><td>7347</td><td>7426</td><td>7505</td><td>7584</td><td>7663</td><td>7742</td><td>7821</td><td>7900</td><td>7979</td><td>8058</td><td>8137</td><td>8216</td><td>8295</td><td>8374</td><td>8453</td><td>8532</td><td>8611</td><td>8690</td><td>8769</td><td>8848</td><td>8927</td><td>9006</td><td>9085</td><td>9164</td><td>9243</td><td>9322</td><td>9401</td><td>9480</td><td>9559</td><td>9638</td><td>9717</td><td>9796</td><td>9875</td><td>9954</td><td>10033</td><td>10112</td><td>10191</td><td>10270</td><td>10349</td><td>10428</td><td>10507</td><td>10586</td><td>10665</td><td>10744</td><td>10823</td><td>10902</td><td>10981</td><td>11060</td><td>11139</td><td>11218</td><td>11297</td><td>11376</td><td>11455</td><td>11534</td><td>11613</td><td>11692</td><td>11771</td><td>11850</td><td>11929</td><td>12008</td><td>12087</td><td>12166</td><td>12245</td><td>12324</td><td>12403</td></tr><tr><td>156</td><td>77</td><td>155</td><td>76</td><td>154</td><td>75</td><td>153</td><td>74</td><td>152</td><td>73</td><td>151</td><td>72</td><td>150</td><td>71</td><td>149</td><td>70</td><td>148</td><td>69</td><td>147</td><td>68</td><td>146</td><td>67</td><td>145</td><td>66</td><td>144</td><td>65</td><td>143</td><td>64</td><td>142</td><td>63</td><td>141</td><td>62</td><td>140</td><td>61</td><td>139</td><td>60</td><td>138</td><td>59</td><td>137</td><td>58</td><td>136</td><td>57</td><td>135</td><td>56</td><td>134</td><td>55</td><td>133</td><td>54</td><td>132</td><td>53</td><td>131</td><td>52</td><td>130</td><td>51</td><td>129</td><td>50</td><td>128</td><td>49</td><td>127</td><td>48</td><td>126</td><td>47</td><td>125</td><td>46</td><td>124</td><td>45</td><td>123</td><td>44</td><td>122</td><td>43</td><td>121</td><td>42</td><td>120</td><td>41</td><td>119</td><td>40</td><td>118</td><td>39</td><td>117</td><td>38</td><td>116</td><td>37</td><td>115</td><td>36</td><td>114</td><td>35</td><td>113</td><td>34</td><td>112</td><td>33</td><td>111</td><td>32</td><td>110</td><td>31</td><td>109</td><td>30</td><td>108</td><td>29</td><td>107</td><td>28</td><td>106</td><td>27</td><td>105</td><td>26</td><td>104</td><td>25</td><td>103</td><td>24</td><td>102</td><td>23</td><td>101</td><td>22</td><td>100</td><td>21</td><td>99</td><td>20</td><td>98</td><td>19</td><td>97</td><td>18</td><td>96</td><td>17</td><td>95</td><td>16</td><td>94</td><td>15</td><td>93</td><td>14</td><td>92</td><td>13</td><td>91</td><td>12</td><td>90</td><td>11</td><td>89</td><td>10</td><td>88</td><td>9</td><td>87</td><td>8</td><td>86</td><td>7</td><td>85</td><td>6</td><td>84</td><td>5</td><td>83</td><td>4</td><td>82</td><td>3</td><td>81</td><td>2</td><td>80</td><td>1</td><td>79</td><td>0</td></tr></table>"
      ],
      "text/plain": [
       "<IPython.core.display.HTML object>"
      ]
     },
     "metadata": {},
     "output_type": "display_data"
    },
    {
     "name": "stdout",
     "output_type": "stream",
     "text": [
      "When p = 159 triangular = 12720 and partial triangular = 80\n"
     ]
    },
    {
     "data": {
      "text/html": [
       "<table><tr><td>2</td><td>2</td><td>3</td><td>3</td><td>4</td><td>4</td><td>5</td><td>5</td><td>6</td><td>6</td><td>7</td><td>7</td><td>8</td><td>8</td><td>9</td><td>9</td><td>10</td><td>10</td><td>11</td><td>11</td><td>12</td><td>12</td><td>13</td><td>13</td><td>14</td><td>14</td><td>15</td><td>15</td><td>16</td><td>16</td><td>17</td><td>17</td><td>18</td><td>18</td><td>19</td><td>19</td><td>20</td><td>20</td><td>21</td><td>21</td><td>22</td><td>22</td><td>23</td><td>23</td><td>24</td><td>24</td><td>25</td><td>25</td><td>26</td><td>26</td><td>27</td><td>27</td><td>28</td><td>28</td><td>29</td><td>29</td><td>30</td><td>30</td><td>31</td><td>31</td><td>32</td><td>32</td><td>33</td><td>33</td><td>34</td><td>34</td><td>35</td><td>35</td><td>36</td><td>36</td><td>37</td><td>37</td><td>38</td><td>38</td><td>39</td><td>39</td><td>40</td><td>40</td><td>41</td><td>41</td><td>42</td><td>42</td><td>43</td><td>43</td><td>44</td><td>44</td><td>45</td><td>45</td><td>46</td><td>46</td><td>47</td><td>47</td><td>48</td><td>48</td><td>49</td><td>49</td><td>50</td><td>50</td><td>51</td><td>51</td><td>52</td><td>52</td><td>53</td><td>53</td><td>54</td><td>54</td><td>55</td><td>55</td><td>56</td><td>56</td><td>57</td><td>57</td><td>58</td><td>58</td><td>59</td><td>59</td><td>60</td><td>60</td><td>61</td><td>61</td><td>62</td><td>62</td><td>63</td><td>63</td><td>64</td><td>64</td><td>65</td><td>65</td><td>66</td><td>66</td><td>67</td><td>67</td><td>68</td><td>68</td><td>69</td><td>69</td><td>70</td><td>70</td><td>71</td><td>71</td><td>72</td><td>72</td><td>73</td><td>73</td><td>74</td><td>74</td><td>75</td><td>75</td><td>76</td><td>76</td><td>77</td><td>77</td><td>78</td><td>78</td><td>79</td><td>79</td><td>80</td><td>80</td></tr><tr><td>318</td><td>318</td><td>477</td><td>477</td><td>636</td><td>636</td><td>795</td><td>795</td><td>954</td><td>954</td><td>1113</td><td>1113</td><td>1272</td><td>1272</td><td>1431</td><td>1431</td><td>1590</td><td>1590</td><td>1749</td><td>1749</td><td>1908</td><td>1908</td><td>2067</td><td>2067</td><td>2226</td><td>2226</td><td>2385</td><td>2385</td><td>2544</td><td>2544</td><td>2703</td><td>2703</td><td>2862</td><td>2862</td><td>3021</td><td>3021</td><td>3180</td><td>3180</td><td>3339</td><td>3339</td><td>3498</td><td>3498</td><td>3657</td><td>3657</td><td>3816</td><td>3816</td><td>3975</td><td>3975</td><td>4134</td><td>4134</td><td>4293</td><td>4293</td><td>4452</td><td>4452</td><td>4611</td><td>4611</td><td>4770</td><td>4770</td><td>4929</td><td>4929</td><td>5088</td><td>5088</td><td>5247</td><td>5247</td><td>5406</td><td>5406</td><td>5565</td><td>5565</td><td>5724</td><td>5724</td><td>5883</td><td>5883</td><td>6042</td><td>6042</td><td>6201</td><td>6201</td><td>6360</td><td>6360</td><td>6519</td><td>6519</td><td>6678</td><td>6678</td><td>6837</td><td>6837</td><td>6996</td><td>6996</td><td>7155</td><td>7155</td><td>7314</td><td>7314</td><td>7473</td><td>7473</td><td>7632</td><td>7632</td><td>7791</td><td>7791</td><td>7950</td><td>7950</td><td>8109</td><td>8109</td><td>8268</td><td>8268</td><td>8427</td><td>8427</td><td>8586</td><td>8586</td><td>8745</td><td>8745</td><td>8904</td><td>8904</td><td>9063</td><td>9063</td><td>9222</td><td>9222</td><td>9381</td><td>9381</td><td>9540</td><td>9540</td><td>9699</td><td>9699</td><td>9858</td><td>9858</td><td>10017</td><td>10017</td><td>10176</td><td>10176</td><td>10335</td><td>10335</td><td>10494</td><td>10494</td><td>10653</td><td>10653</td><td>10812</td><td>10812</td><td>10971</td><td>10971</td><td>11130</td><td>11130</td><td>11289</td><td>11289</td><td>11448</td><td>11448</td><td>11607</td><td>11607</td><td>11766</td><td>11766</td><td>11925</td><td>11925</td><td>12084</td><td>12084</td><td>12243</td><td>12243</td><td>12402</td><td>12402</td><td>12561</td><td>12561</td><td>12720</td><td>12720</td></tr><tr><td>2</td><td>3</td><td>4</td><td>5</td><td>6</td><td>7</td><td>8</td><td>9</td><td>10</td><td>11</td><td>12</td><td>13</td><td>14</td><td>15</td><td>16</td><td>17</td><td>18</td><td>19</td><td>20</td><td>21</td><td>22</td><td>23</td><td>24</td><td>25</td><td>26</td><td>27</td><td>28</td><td>29</td><td>30</td><td>31</td><td>32</td><td>33</td><td>34</td><td>35</td><td>36</td><td>37</td><td>38</td><td>39</td><td>40</td><td>41</td><td>42</td><td>43</td><td>44</td><td>45</td><td>46</td><td>47</td><td>48</td><td>49</td><td>50</td><td>51</td><td>52</td><td>53</td><td>54</td><td>55</td><td>56</td><td>57</td><td>58</td><td>59</td><td>60</td><td>61</td><td>62</td><td>63</td><td>64</td><td>65</td><td>66</td><td>67</td><td>68</td><td>69</td><td>70</td><td>71</td><td>72</td><td>73</td><td>74</td><td>75</td><td>76</td><td>77</td><td>78</td><td>79</td><td>80</td><td>81</td><td>82</td><td>83</td><td>84</td><td>85</td><td>86</td><td>87</td><td>88</td><td>89</td><td>90</td><td>91</td><td>92</td><td>93</td><td>94</td><td>95</td><td>96</td><td>97</td><td>98</td><td>99</td><td>100</td><td>101</td><td>102</td><td>103</td><td>104</td><td>105</td><td>106</td><td>107</td><td>108</td><td>109</td><td>110</td><td>111</td><td>112</td><td>113</td><td>114</td><td>115</td><td>116</td><td>117</td><td>118</td><td>119</td><td>120</td><td>121</td><td>122</td><td>123</td><td>124</td><td>125</td><td>126</td><td>127</td><td>128</td><td>129</td><td>130</td><td>131</td><td>132</td><td>133</td><td>134</td><td>135</td><td>136</td><td>137</td><td>138</td><td>139</td><td>140</td><td>141</td><td>142</td><td>143</td><td>144</td><td>145</td><td>146</td><td>147</td><td>148</td><td>149</td><td>150</td><td>151</td><td>152</td><td>153</td><td>154</td><td>155</td><td>156</td><td>157</td><td>158</td><td>159</td></tr><tr><td>160</td><td>240</td><td>320</td><td>400</td><td>480</td><td>560</td><td>640</td><td>720</td><td>800</td><td>880</td><td>960</td><td>1040</td><td>1120</td><td>1200</td><td>1280</td><td>1360</td><td>1440</td><td>1520</td><td>1600</td><td>1680</td><td>1760</td><td>1840</td><td>1920</td><td>2000</td><td>2080</td><td>2160</td><td>2240</td><td>2320</td><td>2400</td><td>2480</td><td>2560</td><td>2640</td><td>2720</td><td>2800</td><td>2880</td><td>2960</td><td>3040</td><td>3120</td><td>3200</td><td>3280</td><td>3360</td><td>3440</td><td>3520</td><td>3600</td><td>3680</td><td>3760</td><td>3840</td><td>3920</td><td>4000</td><td>4080</td><td>4160</td><td>4240</td><td>4320</td><td>4400</td><td>4480</td><td>4560</td><td>4640</td><td>4720</td><td>4800</td><td>4880</td><td>4960</td><td>5040</td><td>5120</td><td>5200</td><td>5280</td><td>5360</td><td>5440</td><td>5520</td><td>5600</td><td>5680</td><td>5760</td><td>5840</td><td>5920</td><td>6000</td><td>6080</td><td>6160</td><td>6240</td><td>6320</td><td>6400</td><td>6480</td><td>6560</td><td>6640</td><td>6720</td><td>6800</td><td>6880</td><td>6960</td><td>7040</td><td>7120</td><td>7200</td><td>7280</td><td>7360</td><td>7440</td><td>7520</td><td>7600</td><td>7680</td><td>7760</td><td>7840</td><td>7920</td><td>8000</td><td>8080</td><td>8160</td><td>8240</td><td>8320</td><td>8400</td><td>8480</td><td>8560</td><td>8640</td><td>8720</td><td>8800</td><td>8880</td><td>8960</td><td>9040</td><td>9120</td><td>9200</td><td>9280</td><td>9360</td><td>9440</td><td>9520</td><td>9600</td><td>9680</td><td>9760</td><td>9840</td><td>9920</td><td>10000</td><td>10080</td><td>10160</td><td>10240</td><td>10320</td><td>10400</td><td>10480</td><td>10560</td><td>10640</td><td>10720</td><td>10800</td><td>10880</td><td>10960</td><td>11040</td><td>11120</td><td>11200</td><td>11280</td><td>11360</td><td>11440</td><td>11520</td><td>11600</td><td>11680</td><td>11760</td><td>11840</td><td>11920</td><td>12000</td><td>12080</td><td>12160</td><td>12240</td><td>12320</td><td>12400</td><td>12480</td><td>12560</td><td>12640</td><td>12720</td></tr><tr><td>158</td><td>78</td><td>157</td><td>77</td><td>156</td><td>76</td><td>155</td><td>75</td><td>154</td><td>74</td><td>153</td><td>73</td><td>152</td><td>72</td><td>151</td><td>71</td><td>150</td><td>70</td><td>149</td><td>69</td><td>148</td><td>68</td><td>147</td><td>67</td><td>146</td><td>66</td><td>145</td><td>65</td><td>144</td><td>64</td><td>143</td><td>63</td><td>142</td><td>62</td><td>141</td><td>61</td><td>140</td><td>60</td><td>139</td><td>59</td><td>138</td><td>58</td><td>137</td><td>57</td><td>136</td><td>56</td><td>135</td><td>55</td><td>134</td><td>54</td><td>133</td><td>53</td><td>132</td><td>52</td><td>131</td><td>51</td><td>130</td><td>50</td><td>129</td><td>49</td><td>128</td><td>48</td><td>127</td><td>47</td><td>126</td><td>46</td><td>125</td><td>45</td><td>124</td><td>44</td><td>123</td><td>43</td><td>122</td><td>42</td><td>121</td><td>41</td><td>120</td><td>40</td><td>119</td><td>39</td><td>118</td><td>38</td><td>117</td><td>37</td><td>116</td><td>36</td><td>115</td><td>35</td><td>114</td><td>34</td><td>113</td><td>33</td><td>112</td><td>32</td><td>111</td><td>31</td><td>110</td><td>30</td><td>109</td><td>29</td><td>108</td><td>28</td><td>107</td><td>27</td><td>106</td><td>26</td><td>105</td><td>25</td><td>104</td><td>24</td><td>103</td><td>23</td><td>102</td><td>22</td><td>101</td><td>21</td><td>100</td><td>20</td><td>99</td><td>19</td><td>98</td><td>18</td><td>97</td><td>17</td><td>96</td><td>16</td><td>95</td><td>15</td><td>94</td><td>14</td><td>93</td><td>13</td><td>92</td><td>12</td><td>91</td><td>11</td><td>90</td><td>10</td><td>89</td><td>9</td><td>88</td><td>8</td><td>87</td><td>7</td><td>86</td><td>6</td><td>85</td><td>5</td><td>84</td><td>4</td><td>83</td><td>3</td><td>82</td><td>2</td><td>81</td><td>1</td><td>80</td><td>0</td></tr></table>"
      ],
      "text/plain": [
       "<IPython.core.display.HTML object>"
      ]
     },
     "metadata": {},
     "output_type": "display_data"
    },
    {
     "name": "stdout",
     "output_type": "stream",
     "text": [
      "When p = 161 triangular = 13041 and partial triangular = 81\n"
     ]
    },
    {
     "data": {
      "text/html": [
       "<table><tr><td>2</td><td>2</td><td>3</td><td>3</td><td>4</td><td>4</td><td>5</td><td>5</td><td>6</td><td>6</td><td>7</td><td>7</td><td>8</td><td>8</td><td>9</td><td>9</td><td>10</td><td>10</td><td>11</td><td>11</td><td>12</td><td>12</td><td>13</td><td>13</td><td>14</td><td>14</td><td>15</td><td>15</td><td>16</td><td>16</td><td>17</td><td>17</td><td>18</td><td>18</td><td>19</td><td>19</td><td>20</td><td>20</td><td>21</td><td>21</td><td>22</td><td>22</td><td>23</td><td>23</td><td>24</td><td>24</td><td>25</td><td>25</td><td>26</td><td>26</td><td>27</td><td>27</td><td>28</td><td>28</td><td>29</td><td>29</td><td>30</td><td>30</td><td>31</td><td>31</td><td>32</td><td>32</td><td>33</td><td>33</td><td>34</td><td>34</td><td>35</td><td>35</td><td>36</td><td>36</td><td>37</td><td>37</td><td>38</td><td>38</td><td>39</td><td>39</td><td>40</td><td>40</td><td>41</td><td>41</td><td>42</td><td>42</td><td>43</td><td>43</td><td>44</td><td>44</td><td>45</td><td>45</td><td>46</td><td>46</td><td>47</td><td>47</td><td>48</td><td>48</td><td>49</td><td>49</td><td>50</td><td>50</td><td>51</td><td>51</td><td>52</td><td>52</td><td>53</td><td>53</td><td>54</td><td>54</td><td>55</td><td>55</td><td>56</td><td>56</td><td>57</td><td>57</td><td>58</td><td>58</td><td>59</td><td>59</td><td>60</td><td>60</td><td>61</td><td>61</td><td>62</td><td>62</td><td>63</td><td>63</td><td>64</td><td>64</td><td>65</td><td>65</td><td>66</td><td>66</td><td>67</td><td>67</td><td>68</td><td>68</td><td>69</td><td>69</td><td>70</td><td>70</td><td>71</td><td>71</td><td>72</td><td>72</td><td>73</td><td>73</td><td>74</td><td>74</td><td>75</td><td>75</td><td>76</td><td>76</td><td>77</td><td>77</td><td>78</td><td>78</td><td>79</td><td>79</td><td>80</td><td>80</td><td>81</td><td>81</td></tr><tr><td>322</td><td>322</td><td>483</td><td>483</td><td>644</td><td>644</td><td>805</td><td>805</td><td>966</td><td>966</td><td>1127</td><td>1127</td><td>1288</td><td>1288</td><td>1449</td><td>1449</td><td>1610</td><td>1610</td><td>1771</td><td>1771</td><td>1932</td><td>1932</td><td>2093</td><td>2093</td><td>2254</td><td>2254</td><td>2415</td><td>2415</td><td>2576</td><td>2576</td><td>2737</td><td>2737</td><td>2898</td><td>2898</td><td>3059</td><td>3059</td><td>3220</td><td>3220</td><td>3381</td><td>3381</td><td>3542</td><td>3542</td><td>3703</td><td>3703</td><td>3864</td><td>3864</td><td>4025</td><td>4025</td><td>4186</td><td>4186</td><td>4347</td><td>4347</td><td>4508</td><td>4508</td><td>4669</td><td>4669</td><td>4830</td><td>4830</td><td>4991</td><td>4991</td><td>5152</td><td>5152</td><td>5313</td><td>5313</td><td>5474</td><td>5474</td><td>5635</td><td>5635</td><td>5796</td><td>5796</td><td>5957</td><td>5957</td><td>6118</td><td>6118</td><td>6279</td><td>6279</td><td>6440</td><td>6440</td><td>6601</td><td>6601</td><td>6762</td><td>6762</td><td>6923</td><td>6923</td><td>7084</td><td>7084</td><td>7245</td><td>7245</td><td>7406</td><td>7406</td><td>7567</td><td>7567</td><td>7728</td><td>7728</td><td>7889</td><td>7889</td><td>8050</td><td>8050</td><td>8211</td><td>8211</td><td>8372</td><td>8372</td><td>8533</td><td>8533</td><td>8694</td><td>8694</td><td>8855</td><td>8855</td><td>9016</td><td>9016</td><td>9177</td><td>9177</td><td>9338</td><td>9338</td><td>9499</td><td>9499</td><td>9660</td><td>9660</td><td>9821</td><td>9821</td><td>9982</td><td>9982</td><td>10143</td><td>10143</td><td>10304</td><td>10304</td><td>10465</td><td>10465</td><td>10626</td><td>10626</td><td>10787</td><td>10787</td><td>10948</td><td>10948</td><td>11109</td><td>11109</td><td>11270</td><td>11270</td><td>11431</td><td>11431</td><td>11592</td><td>11592</td><td>11753</td><td>11753</td><td>11914</td><td>11914</td><td>12075</td><td>12075</td><td>12236</td><td>12236</td><td>12397</td><td>12397</td><td>12558</td><td>12558</td><td>12719</td><td>12719</td><td>12880</td><td>12880</td><td>13041</td><td>13041</td></tr><tr><td>2</td><td>3</td><td>4</td><td>5</td><td>6</td><td>7</td><td>8</td><td>9</td><td>10</td><td>11</td><td>12</td><td>13</td><td>14</td><td>15</td><td>16</td><td>17</td><td>18</td><td>19</td><td>20</td><td>21</td><td>22</td><td>23</td><td>24</td><td>25</td><td>26</td><td>27</td><td>28</td><td>29</td><td>30</td><td>31</td><td>32</td><td>33</td><td>34</td><td>35</td><td>36</td><td>37</td><td>38</td><td>39</td><td>40</td><td>41</td><td>42</td><td>43</td><td>44</td><td>45</td><td>46</td><td>47</td><td>48</td><td>49</td><td>50</td><td>51</td><td>52</td><td>53</td><td>54</td><td>55</td><td>56</td><td>57</td><td>58</td><td>59</td><td>60</td><td>61</td><td>62</td><td>63</td><td>64</td><td>65</td><td>66</td><td>67</td><td>68</td><td>69</td><td>70</td><td>71</td><td>72</td><td>73</td><td>74</td><td>75</td><td>76</td><td>77</td><td>78</td><td>79</td><td>80</td><td>81</td><td>82</td><td>83</td><td>84</td><td>85</td><td>86</td><td>87</td><td>88</td><td>89</td><td>90</td><td>91</td><td>92</td><td>93</td><td>94</td><td>95</td><td>96</td><td>97</td><td>98</td><td>99</td><td>100</td><td>101</td><td>102</td><td>103</td><td>104</td><td>105</td><td>106</td><td>107</td><td>108</td><td>109</td><td>110</td><td>111</td><td>112</td><td>113</td><td>114</td><td>115</td><td>116</td><td>117</td><td>118</td><td>119</td><td>120</td><td>121</td><td>122</td><td>123</td><td>124</td><td>125</td><td>126</td><td>127</td><td>128</td><td>129</td><td>130</td><td>131</td><td>132</td><td>133</td><td>134</td><td>135</td><td>136</td><td>137</td><td>138</td><td>139</td><td>140</td><td>141</td><td>142</td><td>143</td><td>144</td><td>145</td><td>146</td><td>147</td><td>148</td><td>149</td><td>150</td><td>151</td><td>152</td><td>153</td><td>154</td><td>155</td><td>156</td><td>157</td><td>158</td><td>159</td><td>160</td><td>161</td></tr><tr><td>162</td><td>243</td><td>324</td><td>405</td><td>486</td><td>567</td><td>648</td><td>729</td><td>810</td><td>891</td><td>972</td><td>1053</td><td>1134</td><td>1215</td><td>1296</td><td>1377</td><td>1458</td><td>1539</td><td>1620</td><td>1701</td><td>1782</td><td>1863</td><td>1944</td><td>2025</td><td>2106</td><td>2187</td><td>2268</td><td>2349</td><td>2430</td><td>2511</td><td>2592</td><td>2673</td><td>2754</td><td>2835</td><td>2916</td><td>2997</td><td>3078</td><td>3159</td><td>3240</td><td>3321</td><td>3402</td><td>3483</td><td>3564</td><td>3645</td><td>3726</td><td>3807</td><td>3888</td><td>3969</td><td>4050</td><td>4131</td><td>4212</td><td>4293</td><td>4374</td><td>4455</td><td>4536</td><td>4617</td><td>4698</td><td>4779</td><td>4860</td><td>4941</td><td>5022</td><td>5103</td><td>5184</td><td>5265</td><td>5346</td><td>5427</td><td>5508</td><td>5589</td><td>5670</td><td>5751</td><td>5832</td><td>5913</td><td>5994</td><td>6075</td><td>6156</td><td>6237</td><td>6318</td><td>6399</td><td>6480</td><td>6561</td><td>6642</td><td>6723</td><td>6804</td><td>6885</td><td>6966</td><td>7047</td><td>7128</td><td>7209</td><td>7290</td><td>7371</td><td>7452</td><td>7533</td><td>7614</td><td>7695</td><td>7776</td><td>7857</td><td>7938</td><td>8019</td><td>8100</td><td>8181</td><td>8262</td><td>8343</td><td>8424</td><td>8505</td><td>8586</td><td>8667</td><td>8748</td><td>8829</td><td>8910</td><td>8991</td><td>9072</td><td>9153</td><td>9234</td><td>9315</td><td>9396</td><td>9477</td><td>9558</td><td>9639</td><td>9720</td><td>9801</td><td>9882</td><td>9963</td><td>10044</td><td>10125</td><td>10206</td><td>10287</td><td>10368</td><td>10449</td><td>10530</td><td>10611</td><td>10692</td><td>10773</td><td>10854</td><td>10935</td><td>11016</td><td>11097</td><td>11178</td><td>11259</td><td>11340</td><td>11421</td><td>11502</td><td>11583</td><td>11664</td><td>11745</td><td>11826</td><td>11907</td><td>11988</td><td>12069</td><td>12150</td><td>12231</td><td>12312</td><td>12393</td><td>12474</td><td>12555</td><td>12636</td><td>12717</td><td>12798</td><td>12879</td><td>12960</td><td>13041</td></tr><tr><td>160</td><td>79</td><td>159</td><td>78</td><td>158</td><td>77</td><td>157</td><td>76</td><td>156</td><td>75</td><td>155</td><td>74</td><td>154</td><td>73</td><td>153</td><td>72</td><td>152</td><td>71</td><td>151</td><td>70</td><td>150</td><td>69</td><td>149</td><td>68</td><td>148</td><td>67</td><td>147</td><td>66</td><td>146</td><td>65</td><td>145</td><td>64</td><td>144</td><td>63</td><td>143</td><td>62</td><td>142</td><td>61</td><td>141</td><td>60</td><td>140</td><td>59</td><td>139</td><td>58</td><td>138</td><td>57</td><td>137</td><td>56</td><td>136</td><td>55</td><td>135</td><td>54</td><td>134</td><td>53</td><td>133</td><td>52</td><td>132</td><td>51</td><td>131</td><td>50</td><td>130</td><td>49</td><td>129</td><td>48</td><td>128</td><td>47</td><td>127</td><td>46</td><td>126</td><td>45</td><td>125</td><td>44</td><td>124</td><td>43</td><td>123</td><td>42</td><td>122</td><td>41</td><td>121</td><td>40</td><td>120</td><td>39</td><td>119</td><td>38</td><td>118</td><td>37</td><td>117</td><td>36</td><td>116</td><td>35</td><td>115</td><td>34</td><td>114</td><td>33</td><td>113</td><td>32</td><td>112</td><td>31</td><td>111</td><td>30</td><td>110</td><td>29</td><td>109</td><td>28</td><td>108</td><td>27</td><td>107</td><td>26</td><td>106</td><td>25</td><td>105</td><td>24</td><td>104</td><td>23</td><td>103</td><td>22</td><td>102</td><td>21</td><td>101</td><td>20</td><td>100</td><td>19</td><td>99</td><td>18</td><td>98</td><td>17</td><td>97</td><td>16</td><td>96</td><td>15</td><td>95</td><td>14</td><td>94</td><td>13</td><td>93</td><td>12</td><td>92</td><td>11</td><td>91</td><td>10</td><td>90</td><td>9</td><td>89</td><td>8</td><td>88</td><td>7</td><td>87</td><td>6</td><td>86</td><td>5</td><td>85</td><td>4</td><td>84</td><td>3</td><td>83</td><td>2</td><td>82</td><td>1</td><td>81</td><td>0</td></tr></table>"
      ],
      "text/plain": [
       "<IPython.core.display.HTML object>"
      ]
     },
     "metadata": {},
     "output_type": "display_data"
    },
    {
     "name": "stdout",
     "output_type": "stream",
     "text": [
      "When p = 163 triangular = 13366 and partial triangular = 82\n"
     ]
    },
    {
     "data": {
      "text/html": [
       "<table><tr><td>2</td><td>2</td><td>3</td><td>3</td><td>4</td><td>4</td><td>5</td><td>5</td><td>6</td><td>6</td><td>7</td><td>7</td><td>8</td><td>8</td><td>9</td><td>9</td><td>10</td><td>10</td><td>11</td><td>11</td><td>12</td><td>12</td><td>13</td><td>13</td><td>14</td><td>14</td><td>15</td><td>15</td><td>16</td><td>16</td><td>17</td><td>17</td><td>18</td><td>18</td><td>19</td><td>19</td><td>20</td><td>20</td><td>21</td><td>21</td><td>22</td><td>22</td><td>23</td><td>23</td><td>24</td><td>24</td><td>25</td><td>25</td><td>26</td><td>26</td><td>27</td><td>27</td><td>28</td><td>28</td><td>29</td><td>29</td><td>30</td><td>30</td><td>31</td><td>31</td><td>32</td><td>32</td><td>33</td><td>33</td><td>34</td><td>34</td><td>35</td><td>35</td><td>36</td><td>36</td><td>37</td><td>37</td><td>38</td><td>38</td><td>39</td><td>39</td><td>40</td><td>40</td><td>41</td><td>41</td><td>42</td><td>42</td><td>43</td><td>43</td><td>44</td><td>44</td><td>45</td><td>45</td><td>46</td><td>46</td><td>47</td><td>47</td><td>48</td><td>48</td><td>49</td><td>49</td><td>50</td><td>50</td><td>51</td><td>51</td><td>52</td><td>52</td><td>53</td><td>53</td><td>54</td><td>54</td><td>55</td><td>55</td><td>56</td><td>56</td><td>57</td><td>57</td><td>58</td><td>58</td><td>59</td><td>59</td><td>60</td><td>60</td><td>61</td><td>61</td><td>62</td><td>62</td><td>63</td><td>63</td><td>64</td><td>64</td><td>65</td><td>65</td><td>66</td><td>66</td><td>67</td><td>67</td><td>68</td><td>68</td><td>69</td><td>69</td><td>70</td><td>70</td><td>71</td><td>71</td><td>72</td><td>72</td><td>73</td><td>73</td><td>74</td><td>74</td><td>75</td><td>75</td><td>76</td><td>76</td><td>77</td><td>77</td><td>78</td><td>78</td><td>79</td><td>79</td><td>80</td><td>80</td><td>81</td><td>81</td><td>82</td><td>82</td></tr><tr><td>326</td><td>326</td><td>489</td><td>489</td><td>652</td><td>652</td><td>815</td><td>815</td><td>978</td><td>978</td><td>1141</td><td>1141</td><td>1304</td><td>1304</td><td>1467</td><td>1467</td><td>1630</td><td>1630</td><td>1793</td><td>1793</td><td>1956</td><td>1956</td><td>2119</td><td>2119</td><td>2282</td><td>2282</td><td>2445</td><td>2445</td><td>2608</td><td>2608</td><td>2771</td><td>2771</td><td>2934</td><td>2934</td><td>3097</td><td>3097</td><td>3260</td><td>3260</td><td>3423</td><td>3423</td><td>3586</td><td>3586</td><td>3749</td><td>3749</td><td>3912</td><td>3912</td><td>4075</td><td>4075</td><td>4238</td><td>4238</td><td>4401</td><td>4401</td><td>4564</td><td>4564</td><td>4727</td><td>4727</td><td>4890</td><td>4890</td><td>5053</td><td>5053</td><td>5216</td><td>5216</td><td>5379</td><td>5379</td><td>5542</td><td>5542</td><td>5705</td><td>5705</td><td>5868</td><td>5868</td><td>6031</td><td>6031</td><td>6194</td><td>6194</td><td>6357</td><td>6357</td><td>6520</td><td>6520</td><td>6683</td><td>6683</td><td>6846</td><td>6846</td><td>7009</td><td>7009</td><td>7172</td><td>7172</td><td>7335</td><td>7335</td><td>7498</td><td>7498</td><td>7661</td><td>7661</td><td>7824</td><td>7824</td><td>7987</td><td>7987</td><td>8150</td><td>8150</td><td>8313</td><td>8313</td><td>8476</td><td>8476</td><td>8639</td><td>8639</td><td>8802</td><td>8802</td><td>8965</td><td>8965</td><td>9128</td><td>9128</td><td>9291</td><td>9291</td><td>9454</td><td>9454</td><td>9617</td><td>9617</td><td>9780</td><td>9780</td><td>9943</td><td>9943</td><td>10106</td><td>10106</td><td>10269</td><td>10269</td><td>10432</td><td>10432</td><td>10595</td><td>10595</td><td>10758</td><td>10758</td><td>10921</td><td>10921</td><td>11084</td><td>11084</td><td>11247</td><td>11247</td><td>11410</td><td>11410</td><td>11573</td><td>11573</td><td>11736</td><td>11736</td><td>11899</td><td>11899</td><td>12062</td><td>12062</td><td>12225</td><td>12225</td><td>12388</td><td>12388</td><td>12551</td><td>12551</td><td>12714</td><td>12714</td><td>12877</td><td>12877</td><td>13040</td><td>13040</td><td>13203</td><td>13203</td><td>13366</td><td>13366</td></tr><tr><td>2</td><td>3</td><td>4</td><td>5</td><td>6</td><td>7</td><td>8</td><td>9</td><td>10</td><td>11</td><td>12</td><td>13</td><td>14</td><td>15</td><td>16</td><td>17</td><td>18</td><td>19</td><td>20</td><td>21</td><td>22</td><td>23</td><td>24</td><td>25</td><td>26</td><td>27</td><td>28</td><td>29</td><td>30</td><td>31</td><td>32</td><td>33</td><td>34</td><td>35</td><td>36</td><td>37</td><td>38</td><td>39</td><td>40</td><td>41</td><td>42</td><td>43</td><td>44</td><td>45</td><td>46</td><td>47</td><td>48</td><td>49</td><td>50</td><td>51</td><td>52</td><td>53</td><td>54</td><td>55</td><td>56</td><td>57</td><td>58</td><td>59</td><td>60</td><td>61</td><td>62</td><td>63</td><td>64</td><td>65</td><td>66</td><td>67</td><td>68</td><td>69</td><td>70</td><td>71</td><td>72</td><td>73</td><td>74</td><td>75</td><td>76</td><td>77</td><td>78</td><td>79</td><td>80</td><td>81</td><td>82</td><td>83</td><td>84</td><td>85</td><td>86</td><td>87</td><td>88</td><td>89</td><td>90</td><td>91</td><td>92</td><td>93</td><td>94</td><td>95</td><td>96</td><td>97</td><td>98</td><td>99</td><td>100</td><td>101</td><td>102</td><td>103</td><td>104</td><td>105</td><td>106</td><td>107</td><td>108</td><td>109</td><td>110</td><td>111</td><td>112</td><td>113</td><td>114</td><td>115</td><td>116</td><td>117</td><td>118</td><td>119</td><td>120</td><td>121</td><td>122</td><td>123</td><td>124</td><td>125</td><td>126</td><td>127</td><td>128</td><td>129</td><td>130</td><td>131</td><td>132</td><td>133</td><td>134</td><td>135</td><td>136</td><td>137</td><td>138</td><td>139</td><td>140</td><td>141</td><td>142</td><td>143</td><td>144</td><td>145</td><td>146</td><td>147</td><td>148</td><td>149</td><td>150</td><td>151</td><td>152</td><td>153</td><td>154</td><td>155</td><td>156</td><td>157</td><td>158</td><td>159</td><td>160</td><td>161</td><td>162</td><td>163</td></tr><tr><td>164</td><td>246</td><td>328</td><td>410</td><td>492</td><td>574</td><td>656</td><td>738</td><td>820</td><td>902</td><td>984</td><td>1066</td><td>1148</td><td>1230</td><td>1312</td><td>1394</td><td>1476</td><td>1558</td><td>1640</td><td>1722</td><td>1804</td><td>1886</td><td>1968</td><td>2050</td><td>2132</td><td>2214</td><td>2296</td><td>2378</td><td>2460</td><td>2542</td><td>2624</td><td>2706</td><td>2788</td><td>2870</td><td>2952</td><td>3034</td><td>3116</td><td>3198</td><td>3280</td><td>3362</td><td>3444</td><td>3526</td><td>3608</td><td>3690</td><td>3772</td><td>3854</td><td>3936</td><td>4018</td><td>4100</td><td>4182</td><td>4264</td><td>4346</td><td>4428</td><td>4510</td><td>4592</td><td>4674</td><td>4756</td><td>4838</td><td>4920</td><td>5002</td><td>5084</td><td>5166</td><td>5248</td><td>5330</td><td>5412</td><td>5494</td><td>5576</td><td>5658</td><td>5740</td><td>5822</td><td>5904</td><td>5986</td><td>6068</td><td>6150</td><td>6232</td><td>6314</td><td>6396</td><td>6478</td><td>6560</td><td>6642</td><td>6724</td><td>6806</td><td>6888</td><td>6970</td><td>7052</td><td>7134</td><td>7216</td><td>7298</td><td>7380</td><td>7462</td><td>7544</td><td>7626</td><td>7708</td><td>7790</td><td>7872</td><td>7954</td><td>8036</td><td>8118</td><td>8200</td><td>8282</td><td>8364</td><td>8446</td><td>8528</td><td>8610</td><td>8692</td><td>8774</td><td>8856</td><td>8938</td><td>9020</td><td>9102</td><td>9184</td><td>9266</td><td>9348</td><td>9430</td><td>9512</td><td>9594</td><td>9676</td><td>9758</td><td>9840</td><td>9922</td><td>10004</td><td>10086</td><td>10168</td><td>10250</td><td>10332</td><td>10414</td><td>10496</td><td>10578</td><td>10660</td><td>10742</td><td>10824</td><td>10906</td><td>10988</td><td>11070</td><td>11152</td><td>11234</td><td>11316</td><td>11398</td><td>11480</td><td>11562</td><td>11644</td><td>11726</td><td>11808</td><td>11890</td><td>11972</td><td>12054</td><td>12136</td><td>12218</td><td>12300</td><td>12382</td><td>12464</td><td>12546</td><td>12628</td><td>12710</td><td>12792</td><td>12874</td><td>12956</td><td>13038</td><td>13120</td><td>13202</td><td>13284</td><td>13366</td></tr><tr><td>162</td><td>80</td><td>161</td><td>79</td><td>160</td><td>78</td><td>159</td><td>77</td><td>158</td><td>76</td><td>157</td><td>75</td><td>156</td><td>74</td><td>155</td><td>73</td><td>154</td><td>72</td><td>153</td><td>71</td><td>152</td><td>70</td><td>151</td><td>69</td><td>150</td><td>68</td><td>149</td><td>67</td><td>148</td><td>66</td><td>147</td><td>65</td><td>146</td><td>64</td><td>145</td><td>63</td><td>144</td><td>62</td><td>143</td><td>61</td><td>142</td><td>60</td><td>141</td><td>59</td><td>140</td><td>58</td><td>139</td><td>57</td><td>138</td><td>56</td><td>137</td><td>55</td><td>136</td><td>54</td><td>135</td><td>53</td><td>134</td><td>52</td><td>133</td><td>51</td><td>132</td><td>50</td><td>131</td><td>49</td><td>130</td><td>48</td><td>129</td><td>47</td><td>128</td><td>46</td><td>127</td><td>45</td><td>126</td><td>44</td><td>125</td><td>43</td><td>124</td><td>42</td><td>123</td><td>41</td><td>122</td><td>40</td><td>121</td><td>39</td><td>120</td><td>38</td><td>119</td><td>37</td><td>118</td><td>36</td><td>117</td><td>35</td><td>116</td><td>34</td><td>115</td><td>33</td><td>114</td><td>32</td><td>113</td><td>31</td><td>112</td><td>30</td><td>111</td><td>29</td><td>110</td><td>28</td><td>109</td><td>27</td><td>108</td><td>26</td><td>107</td><td>25</td><td>106</td><td>24</td><td>105</td><td>23</td><td>104</td><td>22</td><td>103</td><td>21</td><td>102</td><td>20</td><td>101</td><td>19</td><td>100</td><td>18</td><td>99</td><td>17</td><td>98</td><td>16</td><td>97</td><td>15</td><td>96</td><td>14</td><td>95</td><td>13</td><td>94</td><td>12</td><td>93</td><td>11</td><td>92</td><td>10</td><td>91</td><td>9</td><td>90</td><td>8</td><td>89</td><td>7</td><td>88</td><td>6</td><td>87</td><td>5</td><td>86</td><td>4</td><td>85</td><td>3</td><td>84</td><td>2</td><td>83</td><td>1</td><td>82</td><td>0</td></tr></table>"
      ],
      "text/plain": [
       "<IPython.core.display.HTML object>"
      ]
     },
     "metadata": {},
     "output_type": "display_data"
    },
    {
     "name": "stdout",
     "output_type": "stream",
     "text": [
      "When p = 165 triangular = 13695 and partial triangular = 83\n"
     ]
    },
    {
     "data": {
      "text/html": [
       "<table><tr><td>2</td><td>2</td><td>3</td><td>3</td><td>4</td><td>4</td><td>5</td><td>5</td><td>6</td><td>6</td><td>7</td><td>7</td><td>8</td><td>8</td><td>9</td><td>9</td><td>10</td><td>10</td><td>11</td><td>11</td><td>12</td><td>12</td><td>13</td><td>13</td><td>14</td><td>14</td><td>15</td><td>15</td><td>16</td><td>16</td><td>17</td><td>17</td><td>18</td><td>18</td><td>19</td><td>19</td><td>20</td><td>20</td><td>21</td><td>21</td><td>22</td><td>22</td><td>23</td><td>23</td><td>24</td><td>24</td><td>25</td><td>25</td><td>26</td><td>26</td><td>27</td><td>27</td><td>28</td><td>28</td><td>29</td><td>29</td><td>30</td><td>30</td><td>31</td><td>31</td><td>32</td><td>32</td><td>33</td><td>33</td><td>34</td><td>34</td><td>35</td><td>35</td><td>36</td><td>36</td><td>37</td><td>37</td><td>38</td><td>38</td><td>39</td><td>39</td><td>40</td><td>40</td><td>41</td><td>41</td><td>42</td><td>42</td><td>43</td><td>43</td><td>44</td><td>44</td><td>45</td><td>45</td><td>46</td><td>46</td><td>47</td><td>47</td><td>48</td><td>48</td><td>49</td><td>49</td><td>50</td><td>50</td><td>51</td><td>51</td><td>52</td><td>52</td><td>53</td><td>53</td><td>54</td><td>54</td><td>55</td><td>55</td><td>56</td><td>56</td><td>57</td><td>57</td><td>58</td><td>58</td><td>59</td><td>59</td><td>60</td><td>60</td><td>61</td><td>61</td><td>62</td><td>62</td><td>63</td><td>63</td><td>64</td><td>64</td><td>65</td><td>65</td><td>66</td><td>66</td><td>67</td><td>67</td><td>68</td><td>68</td><td>69</td><td>69</td><td>70</td><td>70</td><td>71</td><td>71</td><td>72</td><td>72</td><td>73</td><td>73</td><td>74</td><td>74</td><td>75</td><td>75</td><td>76</td><td>76</td><td>77</td><td>77</td><td>78</td><td>78</td><td>79</td><td>79</td><td>80</td><td>80</td><td>81</td><td>81</td><td>82</td><td>82</td><td>83</td><td>83</td></tr><tr><td>330</td><td>330</td><td>495</td><td>495</td><td>660</td><td>660</td><td>825</td><td>825</td><td>990</td><td>990</td><td>1155</td><td>1155</td><td>1320</td><td>1320</td><td>1485</td><td>1485</td><td>1650</td><td>1650</td><td>1815</td><td>1815</td><td>1980</td><td>1980</td><td>2145</td><td>2145</td><td>2310</td><td>2310</td><td>2475</td><td>2475</td><td>2640</td><td>2640</td><td>2805</td><td>2805</td><td>2970</td><td>2970</td><td>3135</td><td>3135</td><td>3300</td><td>3300</td><td>3465</td><td>3465</td><td>3630</td><td>3630</td><td>3795</td><td>3795</td><td>3960</td><td>3960</td><td>4125</td><td>4125</td><td>4290</td><td>4290</td><td>4455</td><td>4455</td><td>4620</td><td>4620</td><td>4785</td><td>4785</td><td>4950</td><td>4950</td><td>5115</td><td>5115</td><td>5280</td><td>5280</td><td>5445</td><td>5445</td><td>5610</td><td>5610</td><td>5775</td><td>5775</td><td>5940</td><td>5940</td><td>6105</td><td>6105</td><td>6270</td><td>6270</td><td>6435</td><td>6435</td><td>6600</td><td>6600</td><td>6765</td><td>6765</td><td>6930</td><td>6930</td><td>7095</td><td>7095</td><td>7260</td><td>7260</td><td>7425</td><td>7425</td><td>7590</td><td>7590</td><td>7755</td><td>7755</td><td>7920</td><td>7920</td><td>8085</td><td>8085</td><td>8250</td><td>8250</td><td>8415</td><td>8415</td><td>8580</td><td>8580</td><td>8745</td><td>8745</td><td>8910</td><td>8910</td><td>9075</td><td>9075</td><td>9240</td><td>9240</td><td>9405</td><td>9405</td><td>9570</td><td>9570</td><td>9735</td><td>9735</td><td>9900</td><td>9900</td><td>10065</td><td>10065</td><td>10230</td><td>10230</td><td>10395</td><td>10395</td><td>10560</td><td>10560</td><td>10725</td><td>10725</td><td>10890</td><td>10890</td><td>11055</td><td>11055</td><td>11220</td><td>11220</td><td>11385</td><td>11385</td><td>11550</td><td>11550</td><td>11715</td><td>11715</td><td>11880</td><td>11880</td><td>12045</td><td>12045</td><td>12210</td><td>12210</td><td>12375</td><td>12375</td><td>12540</td><td>12540</td><td>12705</td><td>12705</td><td>12870</td><td>12870</td><td>13035</td><td>13035</td><td>13200</td><td>13200</td><td>13365</td><td>13365</td><td>13530</td><td>13530</td><td>13695</td><td>13695</td></tr><tr><td>2</td><td>3</td><td>4</td><td>5</td><td>6</td><td>7</td><td>8</td><td>9</td><td>10</td><td>11</td><td>12</td><td>13</td><td>14</td><td>15</td><td>16</td><td>17</td><td>18</td><td>19</td><td>20</td><td>21</td><td>22</td><td>23</td><td>24</td><td>25</td><td>26</td><td>27</td><td>28</td><td>29</td><td>30</td><td>31</td><td>32</td><td>33</td><td>34</td><td>35</td><td>36</td><td>37</td><td>38</td><td>39</td><td>40</td><td>41</td><td>42</td><td>43</td><td>44</td><td>45</td><td>46</td><td>47</td><td>48</td><td>49</td><td>50</td><td>51</td><td>52</td><td>53</td><td>54</td><td>55</td><td>56</td><td>57</td><td>58</td><td>59</td><td>60</td><td>61</td><td>62</td><td>63</td><td>64</td><td>65</td><td>66</td><td>67</td><td>68</td><td>69</td><td>70</td><td>71</td><td>72</td><td>73</td><td>74</td><td>75</td><td>76</td><td>77</td><td>78</td><td>79</td><td>80</td><td>81</td><td>82</td><td>83</td><td>84</td><td>85</td><td>86</td><td>87</td><td>88</td><td>89</td><td>90</td><td>91</td><td>92</td><td>93</td><td>94</td><td>95</td><td>96</td><td>97</td><td>98</td><td>99</td><td>100</td><td>101</td><td>102</td><td>103</td><td>104</td><td>105</td><td>106</td><td>107</td><td>108</td><td>109</td><td>110</td><td>111</td><td>112</td><td>113</td><td>114</td><td>115</td><td>116</td><td>117</td><td>118</td><td>119</td><td>120</td><td>121</td><td>122</td><td>123</td><td>124</td><td>125</td><td>126</td><td>127</td><td>128</td><td>129</td><td>130</td><td>131</td><td>132</td><td>133</td><td>134</td><td>135</td><td>136</td><td>137</td><td>138</td><td>139</td><td>140</td><td>141</td><td>142</td><td>143</td><td>144</td><td>145</td><td>146</td><td>147</td><td>148</td><td>149</td><td>150</td><td>151</td><td>152</td><td>153</td><td>154</td><td>155</td><td>156</td><td>157</td><td>158</td><td>159</td><td>160</td><td>161</td><td>162</td><td>163</td><td>164</td><td>165</td></tr><tr><td>166</td><td>249</td><td>332</td><td>415</td><td>498</td><td>581</td><td>664</td><td>747</td><td>830</td><td>913</td><td>996</td><td>1079</td><td>1162</td><td>1245</td><td>1328</td><td>1411</td><td>1494</td><td>1577</td><td>1660</td><td>1743</td><td>1826</td><td>1909</td><td>1992</td><td>2075</td><td>2158</td><td>2241</td><td>2324</td><td>2407</td><td>2490</td><td>2573</td><td>2656</td><td>2739</td><td>2822</td><td>2905</td><td>2988</td><td>3071</td><td>3154</td><td>3237</td><td>3320</td><td>3403</td><td>3486</td><td>3569</td><td>3652</td><td>3735</td><td>3818</td><td>3901</td><td>3984</td><td>4067</td><td>4150</td><td>4233</td><td>4316</td><td>4399</td><td>4482</td><td>4565</td><td>4648</td><td>4731</td><td>4814</td><td>4897</td><td>4980</td><td>5063</td><td>5146</td><td>5229</td><td>5312</td><td>5395</td><td>5478</td><td>5561</td><td>5644</td><td>5727</td><td>5810</td><td>5893</td><td>5976</td><td>6059</td><td>6142</td><td>6225</td><td>6308</td><td>6391</td><td>6474</td><td>6557</td><td>6640</td><td>6723</td><td>6806</td><td>6889</td><td>6972</td><td>7055</td><td>7138</td><td>7221</td><td>7304</td><td>7387</td><td>7470</td><td>7553</td><td>7636</td><td>7719</td><td>7802</td><td>7885</td><td>7968</td><td>8051</td><td>8134</td><td>8217</td><td>8300</td><td>8383</td><td>8466</td><td>8549</td><td>8632</td><td>8715</td><td>8798</td><td>8881</td><td>8964</td><td>9047</td><td>9130</td><td>9213</td><td>9296</td><td>9379</td><td>9462</td><td>9545</td><td>9628</td><td>9711</td><td>9794</td><td>9877</td><td>9960</td><td>10043</td><td>10126</td><td>10209</td><td>10292</td><td>10375</td><td>10458</td><td>10541</td><td>10624</td><td>10707</td><td>10790</td><td>10873</td><td>10956</td><td>11039</td><td>11122</td><td>11205</td><td>11288</td><td>11371</td><td>11454</td><td>11537</td><td>11620</td><td>11703</td><td>11786</td><td>11869</td><td>11952</td><td>12035</td><td>12118</td><td>12201</td><td>12284</td><td>12367</td><td>12450</td><td>12533</td><td>12616</td><td>12699</td><td>12782</td><td>12865</td><td>12948</td><td>13031</td><td>13114</td><td>13197</td><td>13280</td><td>13363</td><td>13446</td><td>13529</td><td>13612</td><td>13695</td></tr><tr><td>164</td><td>81</td><td>163</td><td>80</td><td>162</td><td>79</td><td>161</td><td>78</td><td>160</td><td>77</td><td>159</td><td>76</td><td>158</td><td>75</td><td>157</td><td>74</td><td>156</td><td>73</td><td>155</td><td>72</td><td>154</td><td>71</td><td>153</td><td>70</td><td>152</td><td>69</td><td>151</td><td>68</td><td>150</td><td>67</td><td>149</td><td>66</td><td>148</td><td>65</td><td>147</td><td>64</td><td>146</td><td>63</td><td>145</td><td>62</td><td>144</td><td>61</td><td>143</td><td>60</td><td>142</td><td>59</td><td>141</td><td>58</td><td>140</td><td>57</td><td>139</td><td>56</td><td>138</td><td>55</td><td>137</td><td>54</td><td>136</td><td>53</td><td>135</td><td>52</td><td>134</td><td>51</td><td>133</td><td>50</td><td>132</td><td>49</td><td>131</td><td>48</td><td>130</td><td>47</td><td>129</td><td>46</td><td>128</td><td>45</td><td>127</td><td>44</td><td>126</td><td>43</td><td>125</td><td>42</td><td>124</td><td>41</td><td>123</td><td>40</td><td>122</td><td>39</td><td>121</td><td>38</td><td>120</td><td>37</td><td>119</td><td>36</td><td>118</td><td>35</td><td>117</td><td>34</td><td>116</td><td>33</td><td>115</td><td>32</td><td>114</td><td>31</td><td>113</td><td>30</td><td>112</td><td>29</td><td>111</td><td>28</td><td>110</td><td>27</td><td>109</td><td>26</td><td>108</td><td>25</td><td>107</td><td>24</td><td>106</td><td>23</td><td>105</td><td>22</td><td>104</td><td>21</td><td>103</td><td>20</td><td>102</td><td>19</td><td>101</td><td>18</td><td>100</td><td>17</td><td>99</td><td>16</td><td>98</td><td>15</td><td>97</td><td>14</td><td>96</td><td>13</td><td>95</td><td>12</td><td>94</td><td>11</td><td>93</td><td>10</td><td>92</td><td>9</td><td>91</td><td>8</td><td>90</td><td>7</td><td>89</td><td>6</td><td>88</td><td>5</td><td>87</td><td>4</td><td>86</td><td>3</td><td>85</td><td>2</td><td>84</td><td>1</td><td>83</td><td>0</td></tr></table>"
      ],
      "text/plain": [
       "<IPython.core.display.HTML object>"
      ]
     },
     "metadata": {},
     "output_type": "display_data"
    },
    {
     "name": "stdout",
     "output_type": "stream",
     "text": [
      "When p = 167 triangular = 14028 and partial triangular = 84\n"
     ]
    },
    {
     "data": {
      "text/html": [
       "<table><tr><td>2</td><td>2</td><td>3</td><td>3</td><td>4</td><td>4</td><td>5</td><td>5</td><td>6</td><td>6</td><td>7</td><td>7</td><td>8</td><td>8</td><td>9</td><td>9</td><td>10</td><td>10</td><td>11</td><td>11</td><td>12</td><td>12</td><td>13</td><td>13</td><td>14</td><td>14</td><td>15</td><td>15</td><td>16</td><td>16</td><td>17</td><td>17</td><td>18</td><td>18</td><td>19</td><td>19</td><td>20</td><td>20</td><td>21</td><td>21</td><td>22</td><td>22</td><td>23</td><td>23</td><td>24</td><td>24</td><td>25</td><td>25</td><td>26</td><td>26</td><td>27</td><td>27</td><td>28</td><td>28</td><td>29</td><td>29</td><td>30</td><td>30</td><td>31</td><td>31</td><td>32</td><td>32</td><td>33</td><td>33</td><td>34</td><td>34</td><td>35</td><td>35</td><td>36</td><td>36</td><td>37</td><td>37</td><td>38</td><td>38</td><td>39</td><td>39</td><td>40</td><td>40</td><td>41</td><td>41</td><td>42</td><td>42</td><td>43</td><td>43</td><td>44</td><td>44</td><td>45</td><td>45</td><td>46</td><td>46</td><td>47</td><td>47</td><td>48</td><td>48</td><td>49</td><td>49</td><td>50</td><td>50</td><td>51</td><td>51</td><td>52</td><td>52</td><td>53</td><td>53</td><td>54</td><td>54</td><td>55</td><td>55</td><td>56</td><td>56</td><td>57</td><td>57</td><td>58</td><td>58</td><td>59</td><td>59</td><td>60</td><td>60</td><td>61</td><td>61</td><td>62</td><td>62</td><td>63</td><td>63</td><td>64</td><td>64</td><td>65</td><td>65</td><td>66</td><td>66</td><td>67</td><td>67</td><td>68</td><td>68</td><td>69</td><td>69</td><td>70</td><td>70</td><td>71</td><td>71</td><td>72</td><td>72</td><td>73</td><td>73</td><td>74</td><td>74</td><td>75</td><td>75</td><td>76</td><td>76</td><td>77</td><td>77</td><td>78</td><td>78</td><td>79</td><td>79</td><td>80</td><td>80</td><td>81</td><td>81</td><td>82</td><td>82</td><td>83</td><td>83</td><td>84</td><td>84</td></tr><tr><td>334</td><td>334</td><td>501</td><td>501</td><td>668</td><td>668</td><td>835</td><td>835</td><td>1002</td><td>1002</td><td>1169</td><td>1169</td><td>1336</td><td>1336</td><td>1503</td><td>1503</td><td>1670</td><td>1670</td><td>1837</td><td>1837</td><td>2004</td><td>2004</td><td>2171</td><td>2171</td><td>2338</td><td>2338</td><td>2505</td><td>2505</td><td>2672</td><td>2672</td><td>2839</td><td>2839</td><td>3006</td><td>3006</td><td>3173</td><td>3173</td><td>3340</td><td>3340</td><td>3507</td><td>3507</td><td>3674</td><td>3674</td><td>3841</td><td>3841</td><td>4008</td><td>4008</td><td>4175</td><td>4175</td><td>4342</td><td>4342</td><td>4509</td><td>4509</td><td>4676</td><td>4676</td><td>4843</td><td>4843</td><td>5010</td><td>5010</td><td>5177</td><td>5177</td><td>5344</td><td>5344</td><td>5511</td><td>5511</td><td>5678</td><td>5678</td><td>5845</td><td>5845</td><td>6012</td><td>6012</td><td>6179</td><td>6179</td><td>6346</td><td>6346</td><td>6513</td><td>6513</td><td>6680</td><td>6680</td><td>6847</td><td>6847</td><td>7014</td><td>7014</td><td>7181</td><td>7181</td><td>7348</td><td>7348</td><td>7515</td><td>7515</td><td>7682</td><td>7682</td><td>7849</td><td>7849</td><td>8016</td><td>8016</td><td>8183</td><td>8183</td><td>8350</td><td>8350</td><td>8517</td><td>8517</td><td>8684</td><td>8684</td><td>8851</td><td>8851</td><td>9018</td><td>9018</td><td>9185</td><td>9185</td><td>9352</td><td>9352</td><td>9519</td><td>9519</td><td>9686</td><td>9686</td><td>9853</td><td>9853</td><td>10020</td><td>10020</td><td>10187</td><td>10187</td><td>10354</td><td>10354</td><td>10521</td><td>10521</td><td>10688</td><td>10688</td><td>10855</td><td>10855</td><td>11022</td><td>11022</td><td>11189</td><td>11189</td><td>11356</td><td>11356</td><td>11523</td><td>11523</td><td>11690</td><td>11690</td><td>11857</td><td>11857</td><td>12024</td><td>12024</td><td>12191</td><td>12191</td><td>12358</td><td>12358</td><td>12525</td><td>12525</td><td>12692</td><td>12692</td><td>12859</td><td>12859</td><td>13026</td><td>13026</td><td>13193</td><td>13193</td><td>13360</td><td>13360</td><td>13527</td><td>13527</td><td>13694</td><td>13694</td><td>13861</td><td>13861</td><td>14028</td><td>14028</td></tr><tr><td>2</td><td>3</td><td>4</td><td>5</td><td>6</td><td>7</td><td>8</td><td>9</td><td>10</td><td>11</td><td>12</td><td>13</td><td>14</td><td>15</td><td>16</td><td>17</td><td>18</td><td>19</td><td>20</td><td>21</td><td>22</td><td>23</td><td>24</td><td>25</td><td>26</td><td>27</td><td>28</td><td>29</td><td>30</td><td>31</td><td>32</td><td>33</td><td>34</td><td>35</td><td>36</td><td>37</td><td>38</td><td>39</td><td>40</td><td>41</td><td>42</td><td>43</td><td>44</td><td>45</td><td>46</td><td>47</td><td>48</td><td>49</td><td>50</td><td>51</td><td>52</td><td>53</td><td>54</td><td>55</td><td>56</td><td>57</td><td>58</td><td>59</td><td>60</td><td>61</td><td>62</td><td>63</td><td>64</td><td>65</td><td>66</td><td>67</td><td>68</td><td>69</td><td>70</td><td>71</td><td>72</td><td>73</td><td>74</td><td>75</td><td>76</td><td>77</td><td>78</td><td>79</td><td>80</td><td>81</td><td>82</td><td>83</td><td>84</td><td>85</td><td>86</td><td>87</td><td>88</td><td>89</td><td>90</td><td>91</td><td>92</td><td>93</td><td>94</td><td>95</td><td>96</td><td>97</td><td>98</td><td>99</td><td>100</td><td>101</td><td>102</td><td>103</td><td>104</td><td>105</td><td>106</td><td>107</td><td>108</td><td>109</td><td>110</td><td>111</td><td>112</td><td>113</td><td>114</td><td>115</td><td>116</td><td>117</td><td>118</td><td>119</td><td>120</td><td>121</td><td>122</td><td>123</td><td>124</td><td>125</td><td>126</td><td>127</td><td>128</td><td>129</td><td>130</td><td>131</td><td>132</td><td>133</td><td>134</td><td>135</td><td>136</td><td>137</td><td>138</td><td>139</td><td>140</td><td>141</td><td>142</td><td>143</td><td>144</td><td>145</td><td>146</td><td>147</td><td>148</td><td>149</td><td>150</td><td>151</td><td>152</td><td>153</td><td>154</td><td>155</td><td>156</td><td>157</td><td>158</td><td>159</td><td>160</td><td>161</td><td>162</td><td>163</td><td>164</td><td>165</td><td>166</td><td>167</td></tr><tr><td>168</td><td>252</td><td>336</td><td>420</td><td>504</td><td>588</td><td>672</td><td>756</td><td>840</td><td>924</td><td>1008</td><td>1092</td><td>1176</td><td>1260</td><td>1344</td><td>1428</td><td>1512</td><td>1596</td><td>1680</td><td>1764</td><td>1848</td><td>1932</td><td>2016</td><td>2100</td><td>2184</td><td>2268</td><td>2352</td><td>2436</td><td>2520</td><td>2604</td><td>2688</td><td>2772</td><td>2856</td><td>2940</td><td>3024</td><td>3108</td><td>3192</td><td>3276</td><td>3360</td><td>3444</td><td>3528</td><td>3612</td><td>3696</td><td>3780</td><td>3864</td><td>3948</td><td>4032</td><td>4116</td><td>4200</td><td>4284</td><td>4368</td><td>4452</td><td>4536</td><td>4620</td><td>4704</td><td>4788</td><td>4872</td><td>4956</td><td>5040</td><td>5124</td><td>5208</td><td>5292</td><td>5376</td><td>5460</td><td>5544</td><td>5628</td><td>5712</td><td>5796</td><td>5880</td><td>5964</td><td>6048</td><td>6132</td><td>6216</td><td>6300</td><td>6384</td><td>6468</td><td>6552</td><td>6636</td><td>6720</td><td>6804</td><td>6888</td><td>6972</td><td>7056</td><td>7140</td><td>7224</td><td>7308</td><td>7392</td><td>7476</td><td>7560</td><td>7644</td><td>7728</td><td>7812</td><td>7896</td><td>7980</td><td>8064</td><td>8148</td><td>8232</td><td>8316</td><td>8400</td><td>8484</td><td>8568</td><td>8652</td><td>8736</td><td>8820</td><td>8904</td><td>8988</td><td>9072</td><td>9156</td><td>9240</td><td>9324</td><td>9408</td><td>9492</td><td>9576</td><td>9660</td><td>9744</td><td>9828</td><td>9912</td><td>9996</td><td>10080</td><td>10164</td><td>10248</td><td>10332</td><td>10416</td><td>10500</td><td>10584</td><td>10668</td><td>10752</td><td>10836</td><td>10920</td><td>11004</td><td>11088</td><td>11172</td><td>11256</td><td>11340</td><td>11424</td><td>11508</td><td>11592</td><td>11676</td><td>11760</td><td>11844</td><td>11928</td><td>12012</td><td>12096</td><td>12180</td><td>12264</td><td>12348</td><td>12432</td><td>12516</td><td>12600</td><td>12684</td><td>12768</td><td>12852</td><td>12936</td><td>13020</td><td>13104</td><td>13188</td><td>13272</td><td>13356</td><td>13440</td><td>13524</td><td>13608</td><td>13692</td><td>13776</td><td>13860</td><td>13944</td><td>14028</td></tr><tr><td>166</td><td>82</td><td>165</td><td>81</td><td>164</td><td>80</td><td>163</td><td>79</td><td>162</td><td>78</td><td>161</td><td>77</td><td>160</td><td>76</td><td>159</td><td>75</td><td>158</td><td>74</td><td>157</td><td>73</td><td>156</td><td>72</td><td>155</td><td>71</td><td>154</td><td>70</td><td>153</td><td>69</td><td>152</td><td>68</td><td>151</td><td>67</td><td>150</td><td>66</td><td>149</td><td>65</td><td>148</td><td>64</td><td>147</td><td>63</td><td>146</td><td>62</td><td>145</td><td>61</td><td>144</td><td>60</td><td>143</td><td>59</td><td>142</td><td>58</td><td>141</td><td>57</td><td>140</td><td>56</td><td>139</td><td>55</td><td>138</td><td>54</td><td>137</td><td>53</td><td>136</td><td>52</td><td>135</td><td>51</td><td>134</td><td>50</td><td>133</td><td>49</td><td>132</td><td>48</td><td>131</td><td>47</td><td>130</td><td>46</td><td>129</td><td>45</td><td>128</td><td>44</td><td>127</td><td>43</td><td>126</td><td>42</td><td>125</td><td>41</td><td>124</td><td>40</td><td>123</td><td>39</td><td>122</td><td>38</td><td>121</td><td>37</td><td>120</td><td>36</td><td>119</td><td>35</td><td>118</td><td>34</td><td>117</td><td>33</td><td>116</td><td>32</td><td>115</td><td>31</td><td>114</td><td>30</td><td>113</td><td>29</td><td>112</td><td>28</td><td>111</td><td>27</td><td>110</td><td>26</td><td>109</td><td>25</td><td>108</td><td>24</td><td>107</td><td>23</td><td>106</td><td>22</td><td>105</td><td>21</td><td>104</td><td>20</td><td>103</td><td>19</td><td>102</td><td>18</td><td>101</td><td>17</td><td>100</td><td>16</td><td>99</td><td>15</td><td>98</td><td>14</td><td>97</td><td>13</td><td>96</td><td>12</td><td>95</td><td>11</td><td>94</td><td>10</td><td>93</td><td>9</td><td>92</td><td>8</td><td>91</td><td>7</td><td>90</td><td>6</td><td>89</td><td>5</td><td>88</td><td>4</td><td>87</td><td>3</td><td>86</td><td>2</td><td>85</td><td>1</td><td>84</td><td>0</td></tr></table>"
      ],
      "text/plain": [
       "<IPython.core.display.HTML object>"
      ]
     },
     "metadata": {},
     "output_type": "display_data"
    },
    {
     "name": "stdout",
     "output_type": "stream",
     "text": [
      "When p = 169 triangular = 14365 and partial triangular = 85\n"
     ]
    },
    {
     "data": {
      "text/html": [
       "<table><tr><td>2</td><td>2</td><td>3</td><td>3</td><td>4</td><td>4</td><td>5</td><td>5</td><td>6</td><td>6</td><td>7</td><td>7</td><td>8</td><td>8</td><td>9</td><td>9</td><td>10</td><td>10</td><td>11</td><td>11</td><td>12</td><td>12</td><td>13</td><td>13</td><td>14</td><td>14</td><td>15</td><td>15</td><td>16</td><td>16</td><td>17</td><td>17</td><td>18</td><td>18</td><td>19</td><td>19</td><td>20</td><td>20</td><td>21</td><td>21</td><td>22</td><td>22</td><td>23</td><td>23</td><td>24</td><td>24</td><td>25</td><td>25</td><td>26</td><td>26</td><td>27</td><td>27</td><td>28</td><td>28</td><td>29</td><td>29</td><td>30</td><td>30</td><td>31</td><td>31</td><td>32</td><td>32</td><td>33</td><td>33</td><td>34</td><td>34</td><td>35</td><td>35</td><td>36</td><td>36</td><td>37</td><td>37</td><td>38</td><td>38</td><td>39</td><td>39</td><td>40</td><td>40</td><td>41</td><td>41</td><td>42</td><td>42</td><td>43</td><td>43</td><td>44</td><td>44</td><td>45</td><td>45</td><td>46</td><td>46</td><td>47</td><td>47</td><td>48</td><td>48</td><td>49</td><td>49</td><td>50</td><td>50</td><td>51</td><td>51</td><td>52</td><td>52</td><td>53</td><td>53</td><td>54</td><td>54</td><td>55</td><td>55</td><td>56</td><td>56</td><td>57</td><td>57</td><td>58</td><td>58</td><td>59</td><td>59</td><td>60</td><td>60</td><td>61</td><td>61</td><td>62</td><td>62</td><td>63</td><td>63</td><td>64</td><td>64</td><td>65</td><td>65</td><td>66</td><td>66</td><td>67</td><td>67</td><td>68</td><td>68</td><td>69</td><td>69</td><td>70</td><td>70</td><td>71</td><td>71</td><td>72</td><td>72</td><td>73</td><td>73</td><td>74</td><td>74</td><td>75</td><td>75</td><td>76</td><td>76</td><td>77</td><td>77</td><td>78</td><td>78</td><td>79</td><td>79</td><td>80</td><td>80</td><td>81</td><td>81</td><td>82</td><td>82</td><td>83</td><td>83</td><td>84</td><td>84</td><td>85</td><td>85</td></tr><tr><td>338</td><td>338</td><td>507</td><td>507</td><td>676</td><td>676</td><td>845</td><td>845</td><td>1014</td><td>1014</td><td>1183</td><td>1183</td><td>1352</td><td>1352</td><td>1521</td><td>1521</td><td>1690</td><td>1690</td><td>1859</td><td>1859</td><td>2028</td><td>2028</td><td>2197</td><td>2197</td><td>2366</td><td>2366</td><td>2535</td><td>2535</td><td>2704</td><td>2704</td><td>2873</td><td>2873</td><td>3042</td><td>3042</td><td>3211</td><td>3211</td><td>3380</td><td>3380</td><td>3549</td><td>3549</td><td>3718</td><td>3718</td><td>3887</td><td>3887</td><td>4056</td><td>4056</td><td>4225</td><td>4225</td><td>4394</td><td>4394</td><td>4563</td><td>4563</td><td>4732</td><td>4732</td><td>4901</td><td>4901</td><td>5070</td><td>5070</td><td>5239</td><td>5239</td><td>5408</td><td>5408</td><td>5577</td><td>5577</td><td>5746</td><td>5746</td><td>5915</td><td>5915</td><td>6084</td><td>6084</td><td>6253</td><td>6253</td><td>6422</td><td>6422</td><td>6591</td><td>6591</td><td>6760</td><td>6760</td><td>6929</td><td>6929</td><td>7098</td><td>7098</td><td>7267</td><td>7267</td><td>7436</td><td>7436</td><td>7605</td><td>7605</td><td>7774</td><td>7774</td><td>7943</td><td>7943</td><td>8112</td><td>8112</td><td>8281</td><td>8281</td><td>8450</td><td>8450</td><td>8619</td><td>8619</td><td>8788</td><td>8788</td><td>8957</td><td>8957</td><td>9126</td><td>9126</td><td>9295</td><td>9295</td><td>9464</td><td>9464</td><td>9633</td><td>9633</td><td>9802</td><td>9802</td><td>9971</td><td>9971</td><td>10140</td><td>10140</td><td>10309</td><td>10309</td><td>10478</td><td>10478</td><td>10647</td><td>10647</td><td>10816</td><td>10816</td><td>10985</td><td>10985</td><td>11154</td><td>11154</td><td>11323</td><td>11323</td><td>11492</td><td>11492</td><td>11661</td><td>11661</td><td>11830</td><td>11830</td><td>11999</td><td>11999</td><td>12168</td><td>12168</td><td>12337</td><td>12337</td><td>12506</td><td>12506</td><td>12675</td><td>12675</td><td>12844</td><td>12844</td><td>13013</td><td>13013</td><td>13182</td><td>13182</td><td>13351</td><td>13351</td><td>13520</td><td>13520</td><td>13689</td><td>13689</td><td>13858</td><td>13858</td><td>14027</td><td>14027</td><td>14196</td><td>14196</td><td>14365</td><td>14365</td></tr><tr><td>2</td><td>3</td><td>4</td><td>5</td><td>6</td><td>7</td><td>8</td><td>9</td><td>10</td><td>11</td><td>12</td><td>13</td><td>14</td><td>15</td><td>16</td><td>17</td><td>18</td><td>19</td><td>20</td><td>21</td><td>22</td><td>23</td><td>24</td><td>25</td><td>26</td><td>27</td><td>28</td><td>29</td><td>30</td><td>31</td><td>32</td><td>33</td><td>34</td><td>35</td><td>36</td><td>37</td><td>38</td><td>39</td><td>40</td><td>41</td><td>42</td><td>43</td><td>44</td><td>45</td><td>46</td><td>47</td><td>48</td><td>49</td><td>50</td><td>51</td><td>52</td><td>53</td><td>54</td><td>55</td><td>56</td><td>57</td><td>58</td><td>59</td><td>60</td><td>61</td><td>62</td><td>63</td><td>64</td><td>65</td><td>66</td><td>67</td><td>68</td><td>69</td><td>70</td><td>71</td><td>72</td><td>73</td><td>74</td><td>75</td><td>76</td><td>77</td><td>78</td><td>79</td><td>80</td><td>81</td><td>82</td><td>83</td><td>84</td><td>85</td><td>86</td><td>87</td><td>88</td><td>89</td><td>90</td><td>91</td><td>92</td><td>93</td><td>94</td><td>95</td><td>96</td><td>97</td><td>98</td><td>99</td><td>100</td><td>101</td><td>102</td><td>103</td><td>104</td><td>105</td><td>106</td><td>107</td><td>108</td><td>109</td><td>110</td><td>111</td><td>112</td><td>113</td><td>114</td><td>115</td><td>116</td><td>117</td><td>118</td><td>119</td><td>120</td><td>121</td><td>122</td><td>123</td><td>124</td><td>125</td><td>126</td><td>127</td><td>128</td><td>129</td><td>130</td><td>131</td><td>132</td><td>133</td><td>134</td><td>135</td><td>136</td><td>137</td><td>138</td><td>139</td><td>140</td><td>141</td><td>142</td><td>143</td><td>144</td><td>145</td><td>146</td><td>147</td><td>148</td><td>149</td><td>150</td><td>151</td><td>152</td><td>153</td><td>154</td><td>155</td><td>156</td><td>157</td><td>158</td><td>159</td><td>160</td><td>161</td><td>162</td><td>163</td><td>164</td><td>165</td><td>166</td><td>167</td><td>168</td><td>169</td></tr><tr><td>170</td><td>255</td><td>340</td><td>425</td><td>510</td><td>595</td><td>680</td><td>765</td><td>850</td><td>935</td><td>1020</td><td>1105</td><td>1190</td><td>1275</td><td>1360</td><td>1445</td><td>1530</td><td>1615</td><td>1700</td><td>1785</td><td>1870</td><td>1955</td><td>2040</td><td>2125</td><td>2210</td><td>2295</td><td>2380</td><td>2465</td><td>2550</td><td>2635</td><td>2720</td><td>2805</td><td>2890</td><td>2975</td><td>3060</td><td>3145</td><td>3230</td><td>3315</td><td>3400</td><td>3485</td><td>3570</td><td>3655</td><td>3740</td><td>3825</td><td>3910</td><td>3995</td><td>4080</td><td>4165</td><td>4250</td><td>4335</td><td>4420</td><td>4505</td><td>4590</td><td>4675</td><td>4760</td><td>4845</td><td>4930</td><td>5015</td><td>5100</td><td>5185</td><td>5270</td><td>5355</td><td>5440</td><td>5525</td><td>5610</td><td>5695</td><td>5780</td><td>5865</td><td>5950</td><td>6035</td><td>6120</td><td>6205</td><td>6290</td><td>6375</td><td>6460</td><td>6545</td><td>6630</td><td>6715</td><td>6800</td><td>6885</td><td>6970</td><td>7055</td><td>7140</td><td>7225</td><td>7310</td><td>7395</td><td>7480</td><td>7565</td><td>7650</td><td>7735</td><td>7820</td><td>7905</td><td>7990</td><td>8075</td><td>8160</td><td>8245</td><td>8330</td><td>8415</td><td>8500</td><td>8585</td><td>8670</td><td>8755</td><td>8840</td><td>8925</td><td>9010</td><td>9095</td><td>9180</td><td>9265</td><td>9350</td><td>9435</td><td>9520</td><td>9605</td><td>9690</td><td>9775</td><td>9860</td><td>9945</td><td>10030</td><td>10115</td><td>10200</td><td>10285</td><td>10370</td><td>10455</td><td>10540</td><td>10625</td><td>10710</td><td>10795</td><td>10880</td><td>10965</td><td>11050</td><td>11135</td><td>11220</td><td>11305</td><td>11390</td><td>11475</td><td>11560</td><td>11645</td><td>11730</td><td>11815</td><td>11900</td><td>11985</td><td>12070</td><td>12155</td><td>12240</td><td>12325</td><td>12410</td><td>12495</td><td>12580</td><td>12665</td><td>12750</td><td>12835</td><td>12920</td><td>13005</td><td>13090</td><td>13175</td><td>13260</td><td>13345</td><td>13430</td><td>13515</td><td>13600</td><td>13685</td><td>13770</td><td>13855</td><td>13940</td><td>14025</td><td>14110</td><td>14195</td><td>14280</td><td>14365</td></tr><tr><td>168</td><td>83</td><td>167</td><td>82</td><td>166</td><td>81</td><td>165</td><td>80</td><td>164</td><td>79</td><td>163</td><td>78</td><td>162</td><td>77</td><td>161</td><td>76</td><td>160</td><td>75</td><td>159</td><td>74</td><td>158</td><td>73</td><td>157</td><td>72</td><td>156</td><td>71</td><td>155</td><td>70</td><td>154</td><td>69</td><td>153</td><td>68</td><td>152</td><td>67</td><td>151</td><td>66</td><td>150</td><td>65</td><td>149</td><td>64</td><td>148</td><td>63</td><td>147</td><td>62</td><td>146</td><td>61</td><td>145</td><td>60</td><td>144</td><td>59</td><td>143</td><td>58</td><td>142</td><td>57</td><td>141</td><td>56</td><td>140</td><td>55</td><td>139</td><td>54</td><td>138</td><td>53</td><td>137</td><td>52</td><td>136</td><td>51</td><td>135</td><td>50</td><td>134</td><td>49</td><td>133</td><td>48</td><td>132</td><td>47</td><td>131</td><td>46</td><td>130</td><td>45</td><td>129</td><td>44</td><td>128</td><td>43</td><td>127</td><td>42</td><td>126</td><td>41</td><td>125</td><td>40</td><td>124</td><td>39</td><td>123</td><td>38</td><td>122</td><td>37</td><td>121</td><td>36</td><td>120</td><td>35</td><td>119</td><td>34</td><td>118</td><td>33</td><td>117</td><td>32</td><td>116</td><td>31</td><td>115</td><td>30</td><td>114</td><td>29</td><td>113</td><td>28</td><td>112</td><td>27</td><td>111</td><td>26</td><td>110</td><td>25</td><td>109</td><td>24</td><td>108</td><td>23</td><td>107</td><td>22</td><td>106</td><td>21</td><td>105</td><td>20</td><td>104</td><td>19</td><td>103</td><td>18</td><td>102</td><td>17</td><td>101</td><td>16</td><td>100</td><td>15</td><td>99</td><td>14</td><td>98</td><td>13</td><td>97</td><td>12</td><td>96</td><td>11</td><td>95</td><td>10</td><td>94</td><td>9</td><td>93</td><td>8</td><td>92</td><td>7</td><td>91</td><td>6</td><td>90</td><td>5</td><td>89</td><td>4</td><td>88</td><td>3</td><td>87</td><td>2</td><td>86</td><td>1</td><td>85</td><td>0</td></tr></table>"
      ],
      "text/plain": [
       "<IPython.core.display.HTML object>"
      ]
     },
     "metadata": {},
     "output_type": "display_data"
    },
    {
     "name": "stdout",
     "output_type": "stream",
     "text": [
      "When p = 171 triangular = 14706 and partial triangular = 86\n"
     ]
    },
    {
     "data": {
      "text/html": [
       "<table><tr><td>2</td><td>2</td><td>3</td><td>3</td><td>4</td><td>4</td><td>5</td><td>5</td><td>6</td><td>6</td><td>7</td><td>7</td><td>8</td><td>8</td><td>9</td><td>9</td><td>10</td><td>10</td><td>11</td><td>11</td><td>12</td><td>12</td><td>13</td><td>13</td><td>14</td><td>14</td><td>15</td><td>15</td><td>16</td><td>16</td><td>17</td><td>17</td><td>18</td><td>18</td><td>19</td><td>19</td><td>20</td><td>20</td><td>21</td><td>21</td><td>22</td><td>22</td><td>23</td><td>23</td><td>24</td><td>24</td><td>25</td><td>25</td><td>26</td><td>26</td><td>27</td><td>27</td><td>28</td><td>28</td><td>29</td><td>29</td><td>30</td><td>30</td><td>31</td><td>31</td><td>32</td><td>32</td><td>33</td><td>33</td><td>34</td><td>34</td><td>35</td><td>35</td><td>36</td><td>36</td><td>37</td><td>37</td><td>38</td><td>38</td><td>39</td><td>39</td><td>40</td><td>40</td><td>41</td><td>41</td><td>42</td><td>42</td><td>43</td><td>43</td><td>44</td><td>44</td><td>45</td><td>45</td><td>46</td><td>46</td><td>47</td><td>47</td><td>48</td><td>48</td><td>49</td><td>49</td><td>50</td><td>50</td><td>51</td><td>51</td><td>52</td><td>52</td><td>53</td><td>53</td><td>54</td><td>54</td><td>55</td><td>55</td><td>56</td><td>56</td><td>57</td><td>57</td><td>58</td><td>58</td><td>59</td><td>59</td><td>60</td><td>60</td><td>61</td><td>61</td><td>62</td><td>62</td><td>63</td><td>63</td><td>64</td><td>64</td><td>65</td><td>65</td><td>66</td><td>66</td><td>67</td><td>67</td><td>68</td><td>68</td><td>69</td><td>69</td><td>70</td><td>70</td><td>71</td><td>71</td><td>72</td><td>72</td><td>73</td><td>73</td><td>74</td><td>74</td><td>75</td><td>75</td><td>76</td><td>76</td><td>77</td><td>77</td><td>78</td><td>78</td><td>79</td><td>79</td><td>80</td><td>80</td><td>81</td><td>81</td><td>82</td><td>82</td><td>83</td><td>83</td><td>84</td><td>84</td><td>85</td><td>85</td><td>86</td><td>86</td></tr><tr><td>342</td><td>342</td><td>513</td><td>513</td><td>684</td><td>684</td><td>855</td><td>855</td><td>1026</td><td>1026</td><td>1197</td><td>1197</td><td>1368</td><td>1368</td><td>1539</td><td>1539</td><td>1710</td><td>1710</td><td>1881</td><td>1881</td><td>2052</td><td>2052</td><td>2223</td><td>2223</td><td>2394</td><td>2394</td><td>2565</td><td>2565</td><td>2736</td><td>2736</td><td>2907</td><td>2907</td><td>3078</td><td>3078</td><td>3249</td><td>3249</td><td>3420</td><td>3420</td><td>3591</td><td>3591</td><td>3762</td><td>3762</td><td>3933</td><td>3933</td><td>4104</td><td>4104</td><td>4275</td><td>4275</td><td>4446</td><td>4446</td><td>4617</td><td>4617</td><td>4788</td><td>4788</td><td>4959</td><td>4959</td><td>5130</td><td>5130</td><td>5301</td><td>5301</td><td>5472</td><td>5472</td><td>5643</td><td>5643</td><td>5814</td><td>5814</td><td>5985</td><td>5985</td><td>6156</td><td>6156</td><td>6327</td><td>6327</td><td>6498</td><td>6498</td><td>6669</td><td>6669</td><td>6840</td><td>6840</td><td>7011</td><td>7011</td><td>7182</td><td>7182</td><td>7353</td><td>7353</td><td>7524</td><td>7524</td><td>7695</td><td>7695</td><td>7866</td><td>7866</td><td>8037</td><td>8037</td><td>8208</td><td>8208</td><td>8379</td><td>8379</td><td>8550</td><td>8550</td><td>8721</td><td>8721</td><td>8892</td><td>8892</td><td>9063</td><td>9063</td><td>9234</td><td>9234</td><td>9405</td><td>9405</td><td>9576</td><td>9576</td><td>9747</td><td>9747</td><td>9918</td><td>9918</td><td>10089</td><td>10089</td><td>10260</td><td>10260</td><td>10431</td><td>10431</td><td>10602</td><td>10602</td><td>10773</td><td>10773</td><td>10944</td><td>10944</td><td>11115</td><td>11115</td><td>11286</td><td>11286</td><td>11457</td><td>11457</td><td>11628</td><td>11628</td><td>11799</td><td>11799</td><td>11970</td><td>11970</td><td>12141</td><td>12141</td><td>12312</td><td>12312</td><td>12483</td><td>12483</td><td>12654</td><td>12654</td><td>12825</td><td>12825</td><td>12996</td><td>12996</td><td>13167</td><td>13167</td><td>13338</td><td>13338</td><td>13509</td><td>13509</td><td>13680</td><td>13680</td><td>13851</td><td>13851</td><td>14022</td><td>14022</td><td>14193</td><td>14193</td><td>14364</td><td>14364</td><td>14535</td><td>14535</td><td>14706</td><td>14706</td></tr><tr><td>2</td><td>3</td><td>4</td><td>5</td><td>6</td><td>7</td><td>8</td><td>9</td><td>10</td><td>11</td><td>12</td><td>13</td><td>14</td><td>15</td><td>16</td><td>17</td><td>18</td><td>19</td><td>20</td><td>21</td><td>22</td><td>23</td><td>24</td><td>25</td><td>26</td><td>27</td><td>28</td><td>29</td><td>30</td><td>31</td><td>32</td><td>33</td><td>34</td><td>35</td><td>36</td><td>37</td><td>38</td><td>39</td><td>40</td><td>41</td><td>42</td><td>43</td><td>44</td><td>45</td><td>46</td><td>47</td><td>48</td><td>49</td><td>50</td><td>51</td><td>52</td><td>53</td><td>54</td><td>55</td><td>56</td><td>57</td><td>58</td><td>59</td><td>60</td><td>61</td><td>62</td><td>63</td><td>64</td><td>65</td><td>66</td><td>67</td><td>68</td><td>69</td><td>70</td><td>71</td><td>72</td><td>73</td><td>74</td><td>75</td><td>76</td><td>77</td><td>78</td><td>79</td><td>80</td><td>81</td><td>82</td><td>83</td><td>84</td><td>85</td><td>86</td><td>87</td><td>88</td><td>89</td><td>90</td><td>91</td><td>92</td><td>93</td><td>94</td><td>95</td><td>96</td><td>97</td><td>98</td><td>99</td><td>100</td><td>101</td><td>102</td><td>103</td><td>104</td><td>105</td><td>106</td><td>107</td><td>108</td><td>109</td><td>110</td><td>111</td><td>112</td><td>113</td><td>114</td><td>115</td><td>116</td><td>117</td><td>118</td><td>119</td><td>120</td><td>121</td><td>122</td><td>123</td><td>124</td><td>125</td><td>126</td><td>127</td><td>128</td><td>129</td><td>130</td><td>131</td><td>132</td><td>133</td><td>134</td><td>135</td><td>136</td><td>137</td><td>138</td><td>139</td><td>140</td><td>141</td><td>142</td><td>143</td><td>144</td><td>145</td><td>146</td><td>147</td><td>148</td><td>149</td><td>150</td><td>151</td><td>152</td><td>153</td><td>154</td><td>155</td><td>156</td><td>157</td><td>158</td><td>159</td><td>160</td><td>161</td><td>162</td><td>163</td><td>164</td><td>165</td><td>166</td><td>167</td><td>168</td><td>169</td><td>170</td><td>171</td></tr><tr><td>172</td><td>258</td><td>344</td><td>430</td><td>516</td><td>602</td><td>688</td><td>774</td><td>860</td><td>946</td><td>1032</td><td>1118</td><td>1204</td><td>1290</td><td>1376</td><td>1462</td><td>1548</td><td>1634</td><td>1720</td><td>1806</td><td>1892</td><td>1978</td><td>2064</td><td>2150</td><td>2236</td><td>2322</td><td>2408</td><td>2494</td><td>2580</td><td>2666</td><td>2752</td><td>2838</td><td>2924</td><td>3010</td><td>3096</td><td>3182</td><td>3268</td><td>3354</td><td>3440</td><td>3526</td><td>3612</td><td>3698</td><td>3784</td><td>3870</td><td>3956</td><td>4042</td><td>4128</td><td>4214</td><td>4300</td><td>4386</td><td>4472</td><td>4558</td><td>4644</td><td>4730</td><td>4816</td><td>4902</td><td>4988</td><td>5074</td><td>5160</td><td>5246</td><td>5332</td><td>5418</td><td>5504</td><td>5590</td><td>5676</td><td>5762</td><td>5848</td><td>5934</td><td>6020</td><td>6106</td><td>6192</td><td>6278</td><td>6364</td><td>6450</td><td>6536</td><td>6622</td><td>6708</td><td>6794</td><td>6880</td><td>6966</td><td>7052</td><td>7138</td><td>7224</td><td>7310</td><td>7396</td><td>7482</td><td>7568</td><td>7654</td><td>7740</td><td>7826</td><td>7912</td><td>7998</td><td>8084</td><td>8170</td><td>8256</td><td>8342</td><td>8428</td><td>8514</td><td>8600</td><td>8686</td><td>8772</td><td>8858</td><td>8944</td><td>9030</td><td>9116</td><td>9202</td><td>9288</td><td>9374</td><td>9460</td><td>9546</td><td>9632</td><td>9718</td><td>9804</td><td>9890</td><td>9976</td><td>10062</td><td>10148</td><td>10234</td><td>10320</td><td>10406</td><td>10492</td><td>10578</td><td>10664</td><td>10750</td><td>10836</td><td>10922</td><td>11008</td><td>11094</td><td>11180</td><td>11266</td><td>11352</td><td>11438</td><td>11524</td><td>11610</td><td>11696</td><td>11782</td><td>11868</td><td>11954</td><td>12040</td><td>12126</td><td>12212</td><td>12298</td><td>12384</td><td>12470</td><td>12556</td><td>12642</td><td>12728</td><td>12814</td><td>12900</td><td>12986</td><td>13072</td><td>13158</td><td>13244</td><td>13330</td><td>13416</td><td>13502</td><td>13588</td><td>13674</td><td>13760</td><td>13846</td><td>13932</td><td>14018</td><td>14104</td><td>14190</td><td>14276</td><td>14362</td><td>14448</td><td>14534</td><td>14620</td><td>14706</td></tr><tr><td>170</td><td>84</td><td>169</td><td>83</td><td>168</td><td>82</td><td>167</td><td>81</td><td>166</td><td>80</td><td>165</td><td>79</td><td>164</td><td>78</td><td>163</td><td>77</td><td>162</td><td>76</td><td>161</td><td>75</td><td>160</td><td>74</td><td>159</td><td>73</td><td>158</td><td>72</td><td>157</td><td>71</td><td>156</td><td>70</td><td>155</td><td>69</td><td>154</td><td>68</td><td>153</td><td>67</td><td>152</td><td>66</td><td>151</td><td>65</td><td>150</td><td>64</td><td>149</td><td>63</td><td>148</td><td>62</td><td>147</td><td>61</td><td>146</td><td>60</td><td>145</td><td>59</td><td>144</td><td>58</td><td>143</td><td>57</td><td>142</td><td>56</td><td>141</td><td>55</td><td>140</td><td>54</td><td>139</td><td>53</td><td>138</td><td>52</td><td>137</td><td>51</td><td>136</td><td>50</td><td>135</td><td>49</td><td>134</td><td>48</td><td>133</td><td>47</td><td>132</td><td>46</td><td>131</td><td>45</td><td>130</td><td>44</td><td>129</td><td>43</td><td>128</td><td>42</td><td>127</td><td>41</td><td>126</td><td>40</td><td>125</td><td>39</td><td>124</td><td>38</td><td>123</td><td>37</td><td>122</td><td>36</td><td>121</td><td>35</td><td>120</td><td>34</td><td>119</td><td>33</td><td>118</td><td>32</td><td>117</td><td>31</td><td>116</td><td>30</td><td>115</td><td>29</td><td>114</td><td>28</td><td>113</td><td>27</td><td>112</td><td>26</td><td>111</td><td>25</td><td>110</td><td>24</td><td>109</td><td>23</td><td>108</td><td>22</td><td>107</td><td>21</td><td>106</td><td>20</td><td>105</td><td>19</td><td>104</td><td>18</td><td>103</td><td>17</td><td>102</td><td>16</td><td>101</td><td>15</td><td>100</td><td>14</td><td>99</td><td>13</td><td>98</td><td>12</td><td>97</td><td>11</td><td>96</td><td>10</td><td>95</td><td>9</td><td>94</td><td>8</td><td>93</td><td>7</td><td>92</td><td>6</td><td>91</td><td>5</td><td>90</td><td>4</td><td>89</td><td>3</td><td>88</td><td>2</td><td>87</td><td>1</td><td>86</td><td>0</td></tr></table>"
      ],
      "text/plain": [
       "<IPython.core.display.HTML object>"
      ]
     },
     "metadata": {},
     "output_type": "display_data"
    },
    {
     "name": "stdout",
     "output_type": "stream",
     "text": [
      "When p = 173 triangular = 15051 and partial triangular = 87\n"
     ]
    },
    {
     "data": {
      "text/html": [
       "<table><tr><td>2</td><td>2</td><td>3</td><td>3</td><td>4</td><td>4</td><td>5</td><td>5</td><td>6</td><td>6</td><td>7</td><td>7</td><td>8</td><td>8</td><td>9</td><td>9</td><td>10</td><td>10</td><td>11</td><td>11</td><td>12</td><td>12</td><td>13</td><td>13</td><td>14</td><td>14</td><td>15</td><td>15</td><td>16</td><td>16</td><td>17</td><td>17</td><td>18</td><td>18</td><td>19</td><td>19</td><td>20</td><td>20</td><td>21</td><td>21</td><td>22</td><td>22</td><td>23</td><td>23</td><td>24</td><td>24</td><td>25</td><td>25</td><td>26</td><td>26</td><td>27</td><td>27</td><td>28</td><td>28</td><td>29</td><td>29</td><td>30</td><td>30</td><td>31</td><td>31</td><td>32</td><td>32</td><td>33</td><td>33</td><td>34</td><td>34</td><td>35</td><td>35</td><td>36</td><td>36</td><td>37</td><td>37</td><td>38</td><td>38</td><td>39</td><td>39</td><td>40</td><td>40</td><td>41</td><td>41</td><td>42</td><td>42</td><td>43</td><td>43</td><td>44</td><td>44</td><td>45</td><td>45</td><td>46</td><td>46</td><td>47</td><td>47</td><td>48</td><td>48</td><td>49</td><td>49</td><td>50</td><td>50</td><td>51</td><td>51</td><td>52</td><td>52</td><td>53</td><td>53</td><td>54</td><td>54</td><td>55</td><td>55</td><td>56</td><td>56</td><td>57</td><td>57</td><td>58</td><td>58</td><td>59</td><td>59</td><td>60</td><td>60</td><td>61</td><td>61</td><td>62</td><td>62</td><td>63</td><td>63</td><td>64</td><td>64</td><td>65</td><td>65</td><td>66</td><td>66</td><td>67</td><td>67</td><td>68</td><td>68</td><td>69</td><td>69</td><td>70</td><td>70</td><td>71</td><td>71</td><td>72</td><td>72</td><td>73</td><td>73</td><td>74</td><td>74</td><td>75</td><td>75</td><td>76</td><td>76</td><td>77</td><td>77</td><td>78</td><td>78</td><td>79</td><td>79</td><td>80</td><td>80</td><td>81</td><td>81</td><td>82</td><td>82</td><td>83</td><td>83</td><td>84</td><td>84</td><td>85</td><td>85</td><td>86</td><td>86</td><td>87</td><td>87</td></tr><tr><td>346</td><td>346</td><td>519</td><td>519</td><td>692</td><td>692</td><td>865</td><td>865</td><td>1038</td><td>1038</td><td>1211</td><td>1211</td><td>1384</td><td>1384</td><td>1557</td><td>1557</td><td>1730</td><td>1730</td><td>1903</td><td>1903</td><td>2076</td><td>2076</td><td>2249</td><td>2249</td><td>2422</td><td>2422</td><td>2595</td><td>2595</td><td>2768</td><td>2768</td><td>2941</td><td>2941</td><td>3114</td><td>3114</td><td>3287</td><td>3287</td><td>3460</td><td>3460</td><td>3633</td><td>3633</td><td>3806</td><td>3806</td><td>3979</td><td>3979</td><td>4152</td><td>4152</td><td>4325</td><td>4325</td><td>4498</td><td>4498</td><td>4671</td><td>4671</td><td>4844</td><td>4844</td><td>5017</td><td>5017</td><td>5190</td><td>5190</td><td>5363</td><td>5363</td><td>5536</td><td>5536</td><td>5709</td><td>5709</td><td>5882</td><td>5882</td><td>6055</td><td>6055</td><td>6228</td><td>6228</td><td>6401</td><td>6401</td><td>6574</td><td>6574</td><td>6747</td><td>6747</td><td>6920</td><td>6920</td><td>7093</td><td>7093</td><td>7266</td><td>7266</td><td>7439</td><td>7439</td><td>7612</td><td>7612</td><td>7785</td><td>7785</td><td>7958</td><td>7958</td><td>8131</td><td>8131</td><td>8304</td><td>8304</td><td>8477</td><td>8477</td><td>8650</td><td>8650</td><td>8823</td><td>8823</td><td>8996</td><td>8996</td><td>9169</td><td>9169</td><td>9342</td><td>9342</td><td>9515</td><td>9515</td><td>9688</td><td>9688</td><td>9861</td><td>9861</td><td>10034</td><td>10034</td><td>10207</td><td>10207</td><td>10380</td><td>10380</td><td>10553</td><td>10553</td><td>10726</td><td>10726</td><td>10899</td><td>10899</td><td>11072</td><td>11072</td><td>11245</td><td>11245</td><td>11418</td><td>11418</td><td>11591</td><td>11591</td><td>11764</td><td>11764</td><td>11937</td><td>11937</td><td>12110</td><td>12110</td><td>12283</td><td>12283</td><td>12456</td><td>12456</td><td>12629</td><td>12629</td><td>12802</td><td>12802</td><td>12975</td><td>12975</td><td>13148</td><td>13148</td><td>13321</td><td>13321</td><td>13494</td><td>13494</td><td>13667</td><td>13667</td><td>13840</td><td>13840</td><td>14013</td><td>14013</td><td>14186</td><td>14186</td><td>14359</td><td>14359</td><td>14532</td><td>14532</td><td>14705</td><td>14705</td><td>14878</td><td>14878</td><td>15051</td><td>15051</td></tr><tr><td>2</td><td>3</td><td>4</td><td>5</td><td>6</td><td>7</td><td>8</td><td>9</td><td>10</td><td>11</td><td>12</td><td>13</td><td>14</td><td>15</td><td>16</td><td>17</td><td>18</td><td>19</td><td>20</td><td>21</td><td>22</td><td>23</td><td>24</td><td>25</td><td>26</td><td>27</td><td>28</td><td>29</td><td>30</td><td>31</td><td>32</td><td>33</td><td>34</td><td>35</td><td>36</td><td>37</td><td>38</td><td>39</td><td>40</td><td>41</td><td>42</td><td>43</td><td>44</td><td>45</td><td>46</td><td>47</td><td>48</td><td>49</td><td>50</td><td>51</td><td>52</td><td>53</td><td>54</td><td>55</td><td>56</td><td>57</td><td>58</td><td>59</td><td>60</td><td>61</td><td>62</td><td>63</td><td>64</td><td>65</td><td>66</td><td>67</td><td>68</td><td>69</td><td>70</td><td>71</td><td>72</td><td>73</td><td>74</td><td>75</td><td>76</td><td>77</td><td>78</td><td>79</td><td>80</td><td>81</td><td>82</td><td>83</td><td>84</td><td>85</td><td>86</td><td>87</td><td>88</td><td>89</td><td>90</td><td>91</td><td>92</td><td>93</td><td>94</td><td>95</td><td>96</td><td>97</td><td>98</td><td>99</td><td>100</td><td>101</td><td>102</td><td>103</td><td>104</td><td>105</td><td>106</td><td>107</td><td>108</td><td>109</td><td>110</td><td>111</td><td>112</td><td>113</td><td>114</td><td>115</td><td>116</td><td>117</td><td>118</td><td>119</td><td>120</td><td>121</td><td>122</td><td>123</td><td>124</td><td>125</td><td>126</td><td>127</td><td>128</td><td>129</td><td>130</td><td>131</td><td>132</td><td>133</td><td>134</td><td>135</td><td>136</td><td>137</td><td>138</td><td>139</td><td>140</td><td>141</td><td>142</td><td>143</td><td>144</td><td>145</td><td>146</td><td>147</td><td>148</td><td>149</td><td>150</td><td>151</td><td>152</td><td>153</td><td>154</td><td>155</td><td>156</td><td>157</td><td>158</td><td>159</td><td>160</td><td>161</td><td>162</td><td>163</td><td>164</td><td>165</td><td>166</td><td>167</td><td>168</td><td>169</td><td>170</td><td>171</td><td>172</td><td>173</td></tr><tr><td>174</td><td>261</td><td>348</td><td>435</td><td>522</td><td>609</td><td>696</td><td>783</td><td>870</td><td>957</td><td>1044</td><td>1131</td><td>1218</td><td>1305</td><td>1392</td><td>1479</td><td>1566</td><td>1653</td><td>1740</td><td>1827</td><td>1914</td><td>2001</td><td>2088</td><td>2175</td><td>2262</td><td>2349</td><td>2436</td><td>2523</td><td>2610</td><td>2697</td><td>2784</td><td>2871</td><td>2958</td><td>3045</td><td>3132</td><td>3219</td><td>3306</td><td>3393</td><td>3480</td><td>3567</td><td>3654</td><td>3741</td><td>3828</td><td>3915</td><td>4002</td><td>4089</td><td>4176</td><td>4263</td><td>4350</td><td>4437</td><td>4524</td><td>4611</td><td>4698</td><td>4785</td><td>4872</td><td>4959</td><td>5046</td><td>5133</td><td>5220</td><td>5307</td><td>5394</td><td>5481</td><td>5568</td><td>5655</td><td>5742</td><td>5829</td><td>5916</td><td>6003</td><td>6090</td><td>6177</td><td>6264</td><td>6351</td><td>6438</td><td>6525</td><td>6612</td><td>6699</td><td>6786</td><td>6873</td><td>6960</td><td>7047</td><td>7134</td><td>7221</td><td>7308</td><td>7395</td><td>7482</td><td>7569</td><td>7656</td><td>7743</td><td>7830</td><td>7917</td><td>8004</td><td>8091</td><td>8178</td><td>8265</td><td>8352</td><td>8439</td><td>8526</td><td>8613</td><td>8700</td><td>8787</td><td>8874</td><td>8961</td><td>9048</td><td>9135</td><td>9222</td><td>9309</td><td>9396</td><td>9483</td><td>9570</td><td>9657</td><td>9744</td><td>9831</td><td>9918</td><td>10005</td><td>10092</td><td>10179</td><td>10266</td><td>10353</td><td>10440</td><td>10527</td><td>10614</td><td>10701</td><td>10788</td><td>10875</td><td>10962</td><td>11049</td><td>11136</td><td>11223</td><td>11310</td><td>11397</td><td>11484</td><td>11571</td><td>11658</td><td>11745</td><td>11832</td><td>11919</td><td>12006</td><td>12093</td><td>12180</td><td>12267</td><td>12354</td><td>12441</td><td>12528</td><td>12615</td><td>12702</td><td>12789</td><td>12876</td><td>12963</td><td>13050</td><td>13137</td><td>13224</td><td>13311</td><td>13398</td><td>13485</td><td>13572</td><td>13659</td><td>13746</td><td>13833</td><td>13920</td><td>14007</td><td>14094</td><td>14181</td><td>14268</td><td>14355</td><td>14442</td><td>14529</td><td>14616</td><td>14703</td><td>14790</td><td>14877</td><td>14964</td><td>15051</td></tr><tr><td>172</td><td>85</td><td>171</td><td>84</td><td>170</td><td>83</td><td>169</td><td>82</td><td>168</td><td>81</td><td>167</td><td>80</td><td>166</td><td>79</td><td>165</td><td>78</td><td>164</td><td>77</td><td>163</td><td>76</td><td>162</td><td>75</td><td>161</td><td>74</td><td>160</td><td>73</td><td>159</td><td>72</td><td>158</td><td>71</td><td>157</td><td>70</td><td>156</td><td>69</td><td>155</td><td>68</td><td>154</td><td>67</td><td>153</td><td>66</td><td>152</td><td>65</td><td>151</td><td>64</td><td>150</td><td>63</td><td>149</td><td>62</td><td>148</td><td>61</td><td>147</td><td>60</td><td>146</td><td>59</td><td>145</td><td>58</td><td>144</td><td>57</td><td>143</td><td>56</td><td>142</td><td>55</td><td>141</td><td>54</td><td>140</td><td>53</td><td>139</td><td>52</td><td>138</td><td>51</td><td>137</td><td>50</td><td>136</td><td>49</td><td>135</td><td>48</td><td>134</td><td>47</td><td>133</td><td>46</td><td>132</td><td>45</td><td>131</td><td>44</td><td>130</td><td>43</td><td>129</td><td>42</td><td>128</td><td>41</td><td>127</td><td>40</td><td>126</td><td>39</td><td>125</td><td>38</td><td>124</td><td>37</td><td>123</td><td>36</td><td>122</td><td>35</td><td>121</td><td>34</td><td>120</td><td>33</td><td>119</td><td>32</td><td>118</td><td>31</td><td>117</td><td>30</td><td>116</td><td>29</td><td>115</td><td>28</td><td>114</td><td>27</td><td>113</td><td>26</td><td>112</td><td>25</td><td>111</td><td>24</td><td>110</td><td>23</td><td>109</td><td>22</td><td>108</td><td>21</td><td>107</td><td>20</td><td>106</td><td>19</td><td>105</td><td>18</td><td>104</td><td>17</td><td>103</td><td>16</td><td>102</td><td>15</td><td>101</td><td>14</td><td>100</td><td>13</td><td>99</td><td>12</td><td>98</td><td>11</td><td>97</td><td>10</td><td>96</td><td>9</td><td>95</td><td>8</td><td>94</td><td>7</td><td>93</td><td>6</td><td>92</td><td>5</td><td>91</td><td>4</td><td>90</td><td>3</td><td>89</td><td>2</td><td>88</td><td>1</td><td>87</td><td>0</td></tr></table>"
      ],
      "text/plain": [
       "<IPython.core.display.HTML object>"
      ]
     },
     "metadata": {},
     "output_type": "display_data"
    },
    {
     "name": "stdout",
     "output_type": "stream",
     "text": [
      "When p = 175 triangular = 15400 and partial triangular = 88\n"
     ]
    },
    {
     "data": {
      "text/html": [
       "<table><tr><td>2</td><td>2</td><td>3</td><td>3</td><td>4</td><td>4</td><td>5</td><td>5</td><td>6</td><td>6</td><td>7</td><td>7</td><td>8</td><td>8</td><td>9</td><td>9</td><td>10</td><td>10</td><td>11</td><td>11</td><td>12</td><td>12</td><td>13</td><td>13</td><td>14</td><td>14</td><td>15</td><td>15</td><td>16</td><td>16</td><td>17</td><td>17</td><td>18</td><td>18</td><td>19</td><td>19</td><td>20</td><td>20</td><td>21</td><td>21</td><td>22</td><td>22</td><td>23</td><td>23</td><td>24</td><td>24</td><td>25</td><td>25</td><td>26</td><td>26</td><td>27</td><td>27</td><td>28</td><td>28</td><td>29</td><td>29</td><td>30</td><td>30</td><td>31</td><td>31</td><td>32</td><td>32</td><td>33</td><td>33</td><td>34</td><td>34</td><td>35</td><td>35</td><td>36</td><td>36</td><td>37</td><td>37</td><td>38</td><td>38</td><td>39</td><td>39</td><td>40</td><td>40</td><td>41</td><td>41</td><td>42</td><td>42</td><td>43</td><td>43</td><td>44</td><td>44</td><td>45</td><td>45</td><td>46</td><td>46</td><td>47</td><td>47</td><td>48</td><td>48</td><td>49</td><td>49</td><td>50</td><td>50</td><td>51</td><td>51</td><td>52</td><td>52</td><td>53</td><td>53</td><td>54</td><td>54</td><td>55</td><td>55</td><td>56</td><td>56</td><td>57</td><td>57</td><td>58</td><td>58</td><td>59</td><td>59</td><td>60</td><td>60</td><td>61</td><td>61</td><td>62</td><td>62</td><td>63</td><td>63</td><td>64</td><td>64</td><td>65</td><td>65</td><td>66</td><td>66</td><td>67</td><td>67</td><td>68</td><td>68</td><td>69</td><td>69</td><td>70</td><td>70</td><td>71</td><td>71</td><td>72</td><td>72</td><td>73</td><td>73</td><td>74</td><td>74</td><td>75</td><td>75</td><td>76</td><td>76</td><td>77</td><td>77</td><td>78</td><td>78</td><td>79</td><td>79</td><td>80</td><td>80</td><td>81</td><td>81</td><td>82</td><td>82</td><td>83</td><td>83</td><td>84</td><td>84</td><td>85</td><td>85</td><td>86</td><td>86</td><td>87</td><td>87</td><td>88</td><td>88</td></tr><tr><td>350</td><td>350</td><td>525</td><td>525</td><td>700</td><td>700</td><td>875</td><td>875</td><td>1050</td><td>1050</td><td>1225</td><td>1225</td><td>1400</td><td>1400</td><td>1575</td><td>1575</td><td>1750</td><td>1750</td><td>1925</td><td>1925</td><td>2100</td><td>2100</td><td>2275</td><td>2275</td><td>2450</td><td>2450</td><td>2625</td><td>2625</td><td>2800</td><td>2800</td><td>2975</td><td>2975</td><td>3150</td><td>3150</td><td>3325</td><td>3325</td><td>3500</td><td>3500</td><td>3675</td><td>3675</td><td>3850</td><td>3850</td><td>4025</td><td>4025</td><td>4200</td><td>4200</td><td>4375</td><td>4375</td><td>4550</td><td>4550</td><td>4725</td><td>4725</td><td>4900</td><td>4900</td><td>5075</td><td>5075</td><td>5250</td><td>5250</td><td>5425</td><td>5425</td><td>5600</td><td>5600</td><td>5775</td><td>5775</td><td>5950</td><td>5950</td><td>6125</td><td>6125</td><td>6300</td><td>6300</td><td>6475</td><td>6475</td><td>6650</td><td>6650</td><td>6825</td><td>6825</td><td>7000</td><td>7000</td><td>7175</td><td>7175</td><td>7350</td><td>7350</td><td>7525</td><td>7525</td><td>7700</td><td>7700</td><td>7875</td><td>7875</td><td>8050</td><td>8050</td><td>8225</td><td>8225</td><td>8400</td><td>8400</td><td>8575</td><td>8575</td><td>8750</td><td>8750</td><td>8925</td><td>8925</td><td>9100</td><td>9100</td><td>9275</td><td>9275</td><td>9450</td><td>9450</td><td>9625</td><td>9625</td><td>9800</td><td>9800</td><td>9975</td><td>9975</td><td>10150</td><td>10150</td><td>10325</td><td>10325</td><td>10500</td><td>10500</td><td>10675</td><td>10675</td><td>10850</td><td>10850</td><td>11025</td><td>11025</td><td>11200</td><td>11200</td><td>11375</td><td>11375</td><td>11550</td><td>11550</td><td>11725</td><td>11725</td><td>11900</td><td>11900</td><td>12075</td><td>12075</td><td>12250</td><td>12250</td><td>12425</td><td>12425</td><td>12600</td><td>12600</td><td>12775</td><td>12775</td><td>12950</td><td>12950</td><td>13125</td><td>13125</td><td>13300</td><td>13300</td><td>13475</td><td>13475</td><td>13650</td><td>13650</td><td>13825</td><td>13825</td><td>14000</td><td>14000</td><td>14175</td><td>14175</td><td>14350</td><td>14350</td><td>14525</td><td>14525</td><td>14700</td><td>14700</td><td>14875</td><td>14875</td><td>15050</td><td>15050</td><td>15225</td><td>15225</td><td>15400</td><td>15400</td></tr><tr><td>2</td><td>3</td><td>4</td><td>5</td><td>6</td><td>7</td><td>8</td><td>9</td><td>10</td><td>11</td><td>12</td><td>13</td><td>14</td><td>15</td><td>16</td><td>17</td><td>18</td><td>19</td><td>20</td><td>21</td><td>22</td><td>23</td><td>24</td><td>25</td><td>26</td><td>27</td><td>28</td><td>29</td><td>30</td><td>31</td><td>32</td><td>33</td><td>34</td><td>35</td><td>36</td><td>37</td><td>38</td><td>39</td><td>40</td><td>41</td><td>42</td><td>43</td><td>44</td><td>45</td><td>46</td><td>47</td><td>48</td><td>49</td><td>50</td><td>51</td><td>52</td><td>53</td><td>54</td><td>55</td><td>56</td><td>57</td><td>58</td><td>59</td><td>60</td><td>61</td><td>62</td><td>63</td><td>64</td><td>65</td><td>66</td><td>67</td><td>68</td><td>69</td><td>70</td><td>71</td><td>72</td><td>73</td><td>74</td><td>75</td><td>76</td><td>77</td><td>78</td><td>79</td><td>80</td><td>81</td><td>82</td><td>83</td><td>84</td><td>85</td><td>86</td><td>87</td><td>88</td><td>89</td><td>90</td><td>91</td><td>92</td><td>93</td><td>94</td><td>95</td><td>96</td><td>97</td><td>98</td><td>99</td><td>100</td><td>101</td><td>102</td><td>103</td><td>104</td><td>105</td><td>106</td><td>107</td><td>108</td><td>109</td><td>110</td><td>111</td><td>112</td><td>113</td><td>114</td><td>115</td><td>116</td><td>117</td><td>118</td><td>119</td><td>120</td><td>121</td><td>122</td><td>123</td><td>124</td><td>125</td><td>126</td><td>127</td><td>128</td><td>129</td><td>130</td><td>131</td><td>132</td><td>133</td><td>134</td><td>135</td><td>136</td><td>137</td><td>138</td><td>139</td><td>140</td><td>141</td><td>142</td><td>143</td><td>144</td><td>145</td><td>146</td><td>147</td><td>148</td><td>149</td><td>150</td><td>151</td><td>152</td><td>153</td><td>154</td><td>155</td><td>156</td><td>157</td><td>158</td><td>159</td><td>160</td><td>161</td><td>162</td><td>163</td><td>164</td><td>165</td><td>166</td><td>167</td><td>168</td><td>169</td><td>170</td><td>171</td><td>172</td><td>173</td><td>174</td><td>175</td></tr><tr><td>176</td><td>264</td><td>352</td><td>440</td><td>528</td><td>616</td><td>704</td><td>792</td><td>880</td><td>968</td><td>1056</td><td>1144</td><td>1232</td><td>1320</td><td>1408</td><td>1496</td><td>1584</td><td>1672</td><td>1760</td><td>1848</td><td>1936</td><td>2024</td><td>2112</td><td>2200</td><td>2288</td><td>2376</td><td>2464</td><td>2552</td><td>2640</td><td>2728</td><td>2816</td><td>2904</td><td>2992</td><td>3080</td><td>3168</td><td>3256</td><td>3344</td><td>3432</td><td>3520</td><td>3608</td><td>3696</td><td>3784</td><td>3872</td><td>3960</td><td>4048</td><td>4136</td><td>4224</td><td>4312</td><td>4400</td><td>4488</td><td>4576</td><td>4664</td><td>4752</td><td>4840</td><td>4928</td><td>5016</td><td>5104</td><td>5192</td><td>5280</td><td>5368</td><td>5456</td><td>5544</td><td>5632</td><td>5720</td><td>5808</td><td>5896</td><td>5984</td><td>6072</td><td>6160</td><td>6248</td><td>6336</td><td>6424</td><td>6512</td><td>6600</td><td>6688</td><td>6776</td><td>6864</td><td>6952</td><td>7040</td><td>7128</td><td>7216</td><td>7304</td><td>7392</td><td>7480</td><td>7568</td><td>7656</td><td>7744</td><td>7832</td><td>7920</td><td>8008</td><td>8096</td><td>8184</td><td>8272</td><td>8360</td><td>8448</td><td>8536</td><td>8624</td><td>8712</td><td>8800</td><td>8888</td><td>8976</td><td>9064</td><td>9152</td><td>9240</td><td>9328</td><td>9416</td><td>9504</td><td>9592</td><td>9680</td><td>9768</td><td>9856</td><td>9944</td><td>10032</td><td>10120</td><td>10208</td><td>10296</td><td>10384</td><td>10472</td><td>10560</td><td>10648</td><td>10736</td><td>10824</td><td>10912</td><td>11000</td><td>11088</td><td>11176</td><td>11264</td><td>11352</td><td>11440</td><td>11528</td><td>11616</td><td>11704</td><td>11792</td><td>11880</td><td>11968</td><td>12056</td><td>12144</td><td>12232</td><td>12320</td><td>12408</td><td>12496</td><td>12584</td><td>12672</td><td>12760</td><td>12848</td><td>12936</td><td>13024</td><td>13112</td><td>13200</td><td>13288</td><td>13376</td><td>13464</td><td>13552</td><td>13640</td><td>13728</td><td>13816</td><td>13904</td><td>13992</td><td>14080</td><td>14168</td><td>14256</td><td>14344</td><td>14432</td><td>14520</td><td>14608</td><td>14696</td><td>14784</td><td>14872</td><td>14960</td><td>15048</td><td>15136</td><td>15224</td><td>15312</td><td>15400</td></tr><tr><td>174</td><td>86</td><td>173</td><td>85</td><td>172</td><td>84</td><td>171</td><td>83</td><td>170</td><td>82</td><td>169</td><td>81</td><td>168</td><td>80</td><td>167</td><td>79</td><td>166</td><td>78</td><td>165</td><td>77</td><td>164</td><td>76</td><td>163</td><td>75</td><td>162</td><td>74</td><td>161</td><td>73</td><td>160</td><td>72</td><td>159</td><td>71</td><td>158</td><td>70</td><td>157</td><td>69</td><td>156</td><td>68</td><td>155</td><td>67</td><td>154</td><td>66</td><td>153</td><td>65</td><td>152</td><td>64</td><td>151</td><td>63</td><td>150</td><td>62</td><td>149</td><td>61</td><td>148</td><td>60</td><td>147</td><td>59</td><td>146</td><td>58</td><td>145</td><td>57</td><td>144</td><td>56</td><td>143</td><td>55</td><td>142</td><td>54</td><td>141</td><td>53</td><td>140</td><td>52</td><td>139</td><td>51</td><td>138</td><td>50</td><td>137</td><td>49</td><td>136</td><td>48</td><td>135</td><td>47</td><td>134</td><td>46</td><td>133</td><td>45</td><td>132</td><td>44</td><td>131</td><td>43</td><td>130</td><td>42</td><td>129</td><td>41</td><td>128</td><td>40</td><td>127</td><td>39</td><td>126</td><td>38</td><td>125</td><td>37</td><td>124</td><td>36</td><td>123</td><td>35</td><td>122</td><td>34</td><td>121</td><td>33</td><td>120</td><td>32</td><td>119</td><td>31</td><td>118</td><td>30</td><td>117</td><td>29</td><td>116</td><td>28</td><td>115</td><td>27</td><td>114</td><td>26</td><td>113</td><td>25</td><td>112</td><td>24</td><td>111</td><td>23</td><td>110</td><td>22</td><td>109</td><td>21</td><td>108</td><td>20</td><td>107</td><td>19</td><td>106</td><td>18</td><td>105</td><td>17</td><td>104</td><td>16</td><td>103</td><td>15</td><td>102</td><td>14</td><td>101</td><td>13</td><td>100</td><td>12</td><td>99</td><td>11</td><td>98</td><td>10</td><td>97</td><td>9</td><td>96</td><td>8</td><td>95</td><td>7</td><td>94</td><td>6</td><td>93</td><td>5</td><td>92</td><td>4</td><td>91</td><td>3</td><td>90</td><td>2</td><td>89</td><td>1</td><td>88</td><td>0</td></tr></table>"
      ],
      "text/plain": [
       "<IPython.core.display.HTML object>"
      ]
     },
     "metadata": {},
     "output_type": "display_data"
    },
    {
     "name": "stdout",
     "output_type": "stream",
     "text": [
      "When p = 177 triangular = 15753 and partial triangular = 89\n"
     ]
    },
    {
     "data": {
      "text/html": [
       "<table><tr><td>2</td><td>2</td><td>3</td><td>3</td><td>4</td><td>4</td><td>5</td><td>5</td><td>6</td><td>6</td><td>7</td><td>7</td><td>8</td><td>8</td><td>9</td><td>9</td><td>10</td><td>10</td><td>11</td><td>11</td><td>12</td><td>12</td><td>13</td><td>13</td><td>14</td><td>14</td><td>15</td><td>15</td><td>16</td><td>16</td><td>17</td><td>17</td><td>18</td><td>18</td><td>19</td><td>19</td><td>20</td><td>20</td><td>21</td><td>21</td><td>22</td><td>22</td><td>23</td><td>23</td><td>24</td><td>24</td><td>25</td><td>25</td><td>26</td><td>26</td><td>27</td><td>27</td><td>28</td><td>28</td><td>29</td><td>29</td><td>30</td><td>30</td><td>31</td><td>31</td><td>32</td><td>32</td><td>33</td><td>33</td><td>34</td><td>34</td><td>35</td><td>35</td><td>36</td><td>36</td><td>37</td><td>37</td><td>38</td><td>38</td><td>39</td><td>39</td><td>40</td><td>40</td><td>41</td><td>41</td><td>42</td><td>42</td><td>43</td><td>43</td><td>44</td><td>44</td><td>45</td><td>45</td><td>46</td><td>46</td><td>47</td><td>47</td><td>48</td><td>48</td><td>49</td><td>49</td><td>50</td><td>50</td><td>51</td><td>51</td><td>52</td><td>52</td><td>53</td><td>53</td><td>54</td><td>54</td><td>55</td><td>55</td><td>56</td><td>56</td><td>57</td><td>57</td><td>58</td><td>58</td><td>59</td><td>59</td><td>60</td><td>60</td><td>61</td><td>61</td><td>62</td><td>62</td><td>63</td><td>63</td><td>64</td><td>64</td><td>65</td><td>65</td><td>66</td><td>66</td><td>67</td><td>67</td><td>68</td><td>68</td><td>69</td><td>69</td><td>70</td><td>70</td><td>71</td><td>71</td><td>72</td><td>72</td><td>73</td><td>73</td><td>74</td><td>74</td><td>75</td><td>75</td><td>76</td><td>76</td><td>77</td><td>77</td><td>78</td><td>78</td><td>79</td><td>79</td><td>80</td><td>80</td><td>81</td><td>81</td><td>82</td><td>82</td><td>83</td><td>83</td><td>84</td><td>84</td><td>85</td><td>85</td><td>86</td><td>86</td><td>87</td><td>87</td><td>88</td><td>88</td><td>89</td><td>89</td></tr><tr><td>354</td><td>354</td><td>531</td><td>531</td><td>708</td><td>708</td><td>885</td><td>885</td><td>1062</td><td>1062</td><td>1239</td><td>1239</td><td>1416</td><td>1416</td><td>1593</td><td>1593</td><td>1770</td><td>1770</td><td>1947</td><td>1947</td><td>2124</td><td>2124</td><td>2301</td><td>2301</td><td>2478</td><td>2478</td><td>2655</td><td>2655</td><td>2832</td><td>2832</td><td>3009</td><td>3009</td><td>3186</td><td>3186</td><td>3363</td><td>3363</td><td>3540</td><td>3540</td><td>3717</td><td>3717</td><td>3894</td><td>3894</td><td>4071</td><td>4071</td><td>4248</td><td>4248</td><td>4425</td><td>4425</td><td>4602</td><td>4602</td><td>4779</td><td>4779</td><td>4956</td><td>4956</td><td>5133</td><td>5133</td><td>5310</td><td>5310</td><td>5487</td><td>5487</td><td>5664</td><td>5664</td><td>5841</td><td>5841</td><td>6018</td><td>6018</td><td>6195</td><td>6195</td><td>6372</td><td>6372</td><td>6549</td><td>6549</td><td>6726</td><td>6726</td><td>6903</td><td>6903</td><td>7080</td><td>7080</td><td>7257</td><td>7257</td><td>7434</td><td>7434</td><td>7611</td><td>7611</td><td>7788</td><td>7788</td><td>7965</td><td>7965</td><td>8142</td><td>8142</td><td>8319</td><td>8319</td><td>8496</td><td>8496</td><td>8673</td><td>8673</td><td>8850</td><td>8850</td><td>9027</td><td>9027</td><td>9204</td><td>9204</td><td>9381</td><td>9381</td><td>9558</td><td>9558</td><td>9735</td><td>9735</td><td>9912</td><td>9912</td><td>10089</td><td>10089</td><td>10266</td><td>10266</td><td>10443</td><td>10443</td><td>10620</td><td>10620</td><td>10797</td><td>10797</td><td>10974</td><td>10974</td><td>11151</td><td>11151</td><td>11328</td><td>11328</td><td>11505</td><td>11505</td><td>11682</td><td>11682</td><td>11859</td><td>11859</td><td>12036</td><td>12036</td><td>12213</td><td>12213</td><td>12390</td><td>12390</td><td>12567</td><td>12567</td><td>12744</td><td>12744</td><td>12921</td><td>12921</td><td>13098</td><td>13098</td><td>13275</td><td>13275</td><td>13452</td><td>13452</td><td>13629</td><td>13629</td><td>13806</td><td>13806</td><td>13983</td><td>13983</td><td>14160</td><td>14160</td><td>14337</td><td>14337</td><td>14514</td><td>14514</td><td>14691</td><td>14691</td><td>14868</td><td>14868</td><td>15045</td><td>15045</td><td>15222</td><td>15222</td><td>15399</td><td>15399</td><td>15576</td><td>15576</td><td>15753</td><td>15753</td></tr><tr><td>2</td><td>3</td><td>4</td><td>5</td><td>6</td><td>7</td><td>8</td><td>9</td><td>10</td><td>11</td><td>12</td><td>13</td><td>14</td><td>15</td><td>16</td><td>17</td><td>18</td><td>19</td><td>20</td><td>21</td><td>22</td><td>23</td><td>24</td><td>25</td><td>26</td><td>27</td><td>28</td><td>29</td><td>30</td><td>31</td><td>32</td><td>33</td><td>34</td><td>35</td><td>36</td><td>37</td><td>38</td><td>39</td><td>40</td><td>41</td><td>42</td><td>43</td><td>44</td><td>45</td><td>46</td><td>47</td><td>48</td><td>49</td><td>50</td><td>51</td><td>52</td><td>53</td><td>54</td><td>55</td><td>56</td><td>57</td><td>58</td><td>59</td><td>60</td><td>61</td><td>62</td><td>63</td><td>64</td><td>65</td><td>66</td><td>67</td><td>68</td><td>69</td><td>70</td><td>71</td><td>72</td><td>73</td><td>74</td><td>75</td><td>76</td><td>77</td><td>78</td><td>79</td><td>80</td><td>81</td><td>82</td><td>83</td><td>84</td><td>85</td><td>86</td><td>87</td><td>88</td><td>89</td><td>90</td><td>91</td><td>92</td><td>93</td><td>94</td><td>95</td><td>96</td><td>97</td><td>98</td><td>99</td><td>100</td><td>101</td><td>102</td><td>103</td><td>104</td><td>105</td><td>106</td><td>107</td><td>108</td><td>109</td><td>110</td><td>111</td><td>112</td><td>113</td><td>114</td><td>115</td><td>116</td><td>117</td><td>118</td><td>119</td><td>120</td><td>121</td><td>122</td><td>123</td><td>124</td><td>125</td><td>126</td><td>127</td><td>128</td><td>129</td><td>130</td><td>131</td><td>132</td><td>133</td><td>134</td><td>135</td><td>136</td><td>137</td><td>138</td><td>139</td><td>140</td><td>141</td><td>142</td><td>143</td><td>144</td><td>145</td><td>146</td><td>147</td><td>148</td><td>149</td><td>150</td><td>151</td><td>152</td><td>153</td><td>154</td><td>155</td><td>156</td><td>157</td><td>158</td><td>159</td><td>160</td><td>161</td><td>162</td><td>163</td><td>164</td><td>165</td><td>166</td><td>167</td><td>168</td><td>169</td><td>170</td><td>171</td><td>172</td><td>173</td><td>174</td><td>175</td><td>176</td><td>177</td></tr><tr><td>178</td><td>267</td><td>356</td><td>445</td><td>534</td><td>623</td><td>712</td><td>801</td><td>890</td><td>979</td><td>1068</td><td>1157</td><td>1246</td><td>1335</td><td>1424</td><td>1513</td><td>1602</td><td>1691</td><td>1780</td><td>1869</td><td>1958</td><td>2047</td><td>2136</td><td>2225</td><td>2314</td><td>2403</td><td>2492</td><td>2581</td><td>2670</td><td>2759</td><td>2848</td><td>2937</td><td>3026</td><td>3115</td><td>3204</td><td>3293</td><td>3382</td><td>3471</td><td>3560</td><td>3649</td><td>3738</td><td>3827</td><td>3916</td><td>4005</td><td>4094</td><td>4183</td><td>4272</td><td>4361</td><td>4450</td><td>4539</td><td>4628</td><td>4717</td><td>4806</td><td>4895</td><td>4984</td><td>5073</td><td>5162</td><td>5251</td><td>5340</td><td>5429</td><td>5518</td><td>5607</td><td>5696</td><td>5785</td><td>5874</td><td>5963</td><td>6052</td><td>6141</td><td>6230</td><td>6319</td><td>6408</td><td>6497</td><td>6586</td><td>6675</td><td>6764</td><td>6853</td><td>6942</td><td>7031</td><td>7120</td><td>7209</td><td>7298</td><td>7387</td><td>7476</td><td>7565</td><td>7654</td><td>7743</td><td>7832</td><td>7921</td><td>8010</td><td>8099</td><td>8188</td><td>8277</td><td>8366</td><td>8455</td><td>8544</td><td>8633</td><td>8722</td><td>8811</td><td>8900</td><td>8989</td><td>9078</td><td>9167</td><td>9256</td><td>9345</td><td>9434</td><td>9523</td><td>9612</td><td>9701</td><td>9790</td><td>9879</td><td>9968</td><td>10057</td><td>10146</td><td>10235</td><td>10324</td><td>10413</td><td>10502</td><td>10591</td><td>10680</td><td>10769</td><td>10858</td><td>10947</td><td>11036</td><td>11125</td><td>11214</td><td>11303</td><td>11392</td><td>11481</td><td>11570</td><td>11659</td><td>11748</td><td>11837</td><td>11926</td><td>12015</td><td>12104</td><td>12193</td><td>12282</td><td>12371</td><td>12460</td><td>12549</td><td>12638</td><td>12727</td><td>12816</td><td>12905</td><td>12994</td><td>13083</td><td>13172</td><td>13261</td><td>13350</td><td>13439</td><td>13528</td><td>13617</td><td>13706</td><td>13795</td><td>13884</td><td>13973</td><td>14062</td><td>14151</td><td>14240</td><td>14329</td><td>14418</td><td>14507</td><td>14596</td><td>14685</td><td>14774</td><td>14863</td><td>14952</td><td>15041</td><td>15130</td><td>15219</td><td>15308</td><td>15397</td><td>15486</td><td>15575</td><td>15664</td><td>15753</td></tr><tr><td>176</td><td>87</td><td>175</td><td>86</td><td>174</td><td>85</td><td>173</td><td>84</td><td>172</td><td>83</td><td>171</td><td>82</td><td>170</td><td>81</td><td>169</td><td>80</td><td>168</td><td>79</td><td>167</td><td>78</td><td>166</td><td>77</td><td>165</td><td>76</td><td>164</td><td>75</td><td>163</td><td>74</td><td>162</td><td>73</td><td>161</td><td>72</td><td>160</td><td>71</td><td>159</td><td>70</td><td>158</td><td>69</td><td>157</td><td>68</td><td>156</td><td>67</td><td>155</td><td>66</td><td>154</td><td>65</td><td>153</td><td>64</td><td>152</td><td>63</td><td>151</td><td>62</td><td>150</td><td>61</td><td>149</td><td>60</td><td>148</td><td>59</td><td>147</td><td>58</td><td>146</td><td>57</td><td>145</td><td>56</td><td>144</td><td>55</td><td>143</td><td>54</td><td>142</td><td>53</td><td>141</td><td>52</td><td>140</td><td>51</td><td>139</td><td>50</td><td>138</td><td>49</td><td>137</td><td>48</td><td>136</td><td>47</td><td>135</td><td>46</td><td>134</td><td>45</td><td>133</td><td>44</td><td>132</td><td>43</td><td>131</td><td>42</td><td>130</td><td>41</td><td>129</td><td>40</td><td>128</td><td>39</td><td>127</td><td>38</td><td>126</td><td>37</td><td>125</td><td>36</td><td>124</td><td>35</td><td>123</td><td>34</td><td>122</td><td>33</td><td>121</td><td>32</td><td>120</td><td>31</td><td>119</td><td>30</td><td>118</td><td>29</td><td>117</td><td>28</td><td>116</td><td>27</td><td>115</td><td>26</td><td>114</td><td>25</td><td>113</td><td>24</td><td>112</td><td>23</td><td>111</td><td>22</td><td>110</td><td>21</td><td>109</td><td>20</td><td>108</td><td>19</td><td>107</td><td>18</td><td>106</td><td>17</td><td>105</td><td>16</td><td>104</td><td>15</td><td>103</td><td>14</td><td>102</td><td>13</td><td>101</td><td>12</td><td>100</td><td>11</td><td>99</td><td>10</td><td>98</td><td>9</td><td>97</td><td>8</td><td>96</td><td>7</td><td>95</td><td>6</td><td>94</td><td>5</td><td>93</td><td>4</td><td>92</td><td>3</td><td>91</td><td>2</td><td>90</td><td>1</td><td>89</td><td>0</td></tr></table>"
      ],
      "text/plain": [
       "<IPython.core.display.HTML object>"
      ]
     },
     "metadata": {},
     "output_type": "display_data"
    },
    {
     "name": "stdout",
     "output_type": "stream",
     "text": [
      "When p = 179 triangular = 16110 and partial triangular = 90\n"
     ]
    },
    {
     "data": {
      "text/html": [
       "<table><tr><td>2</td><td>2</td><td>3</td><td>3</td><td>4</td><td>4</td><td>5</td><td>5</td><td>6</td><td>6</td><td>7</td><td>7</td><td>8</td><td>8</td><td>9</td><td>9</td><td>10</td><td>10</td><td>11</td><td>11</td><td>12</td><td>12</td><td>13</td><td>13</td><td>14</td><td>14</td><td>15</td><td>15</td><td>16</td><td>16</td><td>17</td><td>17</td><td>18</td><td>18</td><td>19</td><td>19</td><td>20</td><td>20</td><td>21</td><td>21</td><td>22</td><td>22</td><td>23</td><td>23</td><td>24</td><td>24</td><td>25</td><td>25</td><td>26</td><td>26</td><td>27</td><td>27</td><td>28</td><td>28</td><td>29</td><td>29</td><td>30</td><td>30</td><td>31</td><td>31</td><td>32</td><td>32</td><td>33</td><td>33</td><td>34</td><td>34</td><td>35</td><td>35</td><td>36</td><td>36</td><td>37</td><td>37</td><td>38</td><td>38</td><td>39</td><td>39</td><td>40</td><td>40</td><td>41</td><td>41</td><td>42</td><td>42</td><td>43</td><td>43</td><td>44</td><td>44</td><td>45</td><td>45</td><td>46</td><td>46</td><td>47</td><td>47</td><td>48</td><td>48</td><td>49</td><td>49</td><td>50</td><td>50</td><td>51</td><td>51</td><td>52</td><td>52</td><td>53</td><td>53</td><td>54</td><td>54</td><td>55</td><td>55</td><td>56</td><td>56</td><td>57</td><td>57</td><td>58</td><td>58</td><td>59</td><td>59</td><td>60</td><td>60</td><td>61</td><td>61</td><td>62</td><td>62</td><td>63</td><td>63</td><td>64</td><td>64</td><td>65</td><td>65</td><td>66</td><td>66</td><td>67</td><td>67</td><td>68</td><td>68</td><td>69</td><td>69</td><td>70</td><td>70</td><td>71</td><td>71</td><td>72</td><td>72</td><td>73</td><td>73</td><td>74</td><td>74</td><td>75</td><td>75</td><td>76</td><td>76</td><td>77</td><td>77</td><td>78</td><td>78</td><td>79</td><td>79</td><td>80</td><td>80</td><td>81</td><td>81</td><td>82</td><td>82</td><td>83</td><td>83</td><td>84</td><td>84</td><td>85</td><td>85</td><td>86</td><td>86</td><td>87</td><td>87</td><td>88</td><td>88</td><td>89</td><td>89</td><td>90</td><td>90</td></tr><tr><td>358</td><td>358</td><td>537</td><td>537</td><td>716</td><td>716</td><td>895</td><td>895</td><td>1074</td><td>1074</td><td>1253</td><td>1253</td><td>1432</td><td>1432</td><td>1611</td><td>1611</td><td>1790</td><td>1790</td><td>1969</td><td>1969</td><td>2148</td><td>2148</td><td>2327</td><td>2327</td><td>2506</td><td>2506</td><td>2685</td><td>2685</td><td>2864</td><td>2864</td><td>3043</td><td>3043</td><td>3222</td><td>3222</td><td>3401</td><td>3401</td><td>3580</td><td>3580</td><td>3759</td><td>3759</td><td>3938</td><td>3938</td><td>4117</td><td>4117</td><td>4296</td><td>4296</td><td>4475</td><td>4475</td><td>4654</td><td>4654</td><td>4833</td><td>4833</td><td>5012</td><td>5012</td><td>5191</td><td>5191</td><td>5370</td><td>5370</td><td>5549</td><td>5549</td><td>5728</td><td>5728</td><td>5907</td><td>5907</td><td>6086</td><td>6086</td><td>6265</td><td>6265</td><td>6444</td><td>6444</td><td>6623</td><td>6623</td><td>6802</td><td>6802</td><td>6981</td><td>6981</td><td>7160</td><td>7160</td><td>7339</td><td>7339</td><td>7518</td><td>7518</td><td>7697</td><td>7697</td><td>7876</td><td>7876</td><td>8055</td><td>8055</td><td>8234</td><td>8234</td><td>8413</td><td>8413</td><td>8592</td><td>8592</td><td>8771</td><td>8771</td><td>8950</td><td>8950</td><td>9129</td><td>9129</td><td>9308</td><td>9308</td><td>9487</td><td>9487</td><td>9666</td><td>9666</td><td>9845</td><td>9845</td><td>10024</td><td>10024</td><td>10203</td><td>10203</td><td>10382</td><td>10382</td><td>10561</td><td>10561</td><td>10740</td><td>10740</td><td>10919</td><td>10919</td><td>11098</td><td>11098</td><td>11277</td><td>11277</td><td>11456</td><td>11456</td><td>11635</td><td>11635</td><td>11814</td><td>11814</td><td>11993</td><td>11993</td><td>12172</td><td>12172</td><td>12351</td><td>12351</td><td>12530</td><td>12530</td><td>12709</td><td>12709</td><td>12888</td><td>12888</td><td>13067</td><td>13067</td><td>13246</td><td>13246</td><td>13425</td><td>13425</td><td>13604</td><td>13604</td><td>13783</td><td>13783</td><td>13962</td><td>13962</td><td>14141</td><td>14141</td><td>14320</td><td>14320</td><td>14499</td><td>14499</td><td>14678</td><td>14678</td><td>14857</td><td>14857</td><td>15036</td><td>15036</td><td>15215</td><td>15215</td><td>15394</td><td>15394</td><td>15573</td><td>15573</td><td>15752</td><td>15752</td><td>15931</td><td>15931</td><td>16110</td><td>16110</td></tr><tr><td>2</td><td>3</td><td>4</td><td>5</td><td>6</td><td>7</td><td>8</td><td>9</td><td>10</td><td>11</td><td>12</td><td>13</td><td>14</td><td>15</td><td>16</td><td>17</td><td>18</td><td>19</td><td>20</td><td>21</td><td>22</td><td>23</td><td>24</td><td>25</td><td>26</td><td>27</td><td>28</td><td>29</td><td>30</td><td>31</td><td>32</td><td>33</td><td>34</td><td>35</td><td>36</td><td>37</td><td>38</td><td>39</td><td>40</td><td>41</td><td>42</td><td>43</td><td>44</td><td>45</td><td>46</td><td>47</td><td>48</td><td>49</td><td>50</td><td>51</td><td>52</td><td>53</td><td>54</td><td>55</td><td>56</td><td>57</td><td>58</td><td>59</td><td>60</td><td>61</td><td>62</td><td>63</td><td>64</td><td>65</td><td>66</td><td>67</td><td>68</td><td>69</td><td>70</td><td>71</td><td>72</td><td>73</td><td>74</td><td>75</td><td>76</td><td>77</td><td>78</td><td>79</td><td>80</td><td>81</td><td>82</td><td>83</td><td>84</td><td>85</td><td>86</td><td>87</td><td>88</td><td>89</td><td>90</td><td>91</td><td>92</td><td>93</td><td>94</td><td>95</td><td>96</td><td>97</td><td>98</td><td>99</td><td>100</td><td>101</td><td>102</td><td>103</td><td>104</td><td>105</td><td>106</td><td>107</td><td>108</td><td>109</td><td>110</td><td>111</td><td>112</td><td>113</td><td>114</td><td>115</td><td>116</td><td>117</td><td>118</td><td>119</td><td>120</td><td>121</td><td>122</td><td>123</td><td>124</td><td>125</td><td>126</td><td>127</td><td>128</td><td>129</td><td>130</td><td>131</td><td>132</td><td>133</td><td>134</td><td>135</td><td>136</td><td>137</td><td>138</td><td>139</td><td>140</td><td>141</td><td>142</td><td>143</td><td>144</td><td>145</td><td>146</td><td>147</td><td>148</td><td>149</td><td>150</td><td>151</td><td>152</td><td>153</td><td>154</td><td>155</td><td>156</td><td>157</td><td>158</td><td>159</td><td>160</td><td>161</td><td>162</td><td>163</td><td>164</td><td>165</td><td>166</td><td>167</td><td>168</td><td>169</td><td>170</td><td>171</td><td>172</td><td>173</td><td>174</td><td>175</td><td>176</td><td>177</td><td>178</td><td>179</td></tr><tr><td>180</td><td>270</td><td>360</td><td>450</td><td>540</td><td>630</td><td>720</td><td>810</td><td>900</td><td>990</td><td>1080</td><td>1170</td><td>1260</td><td>1350</td><td>1440</td><td>1530</td><td>1620</td><td>1710</td><td>1800</td><td>1890</td><td>1980</td><td>2070</td><td>2160</td><td>2250</td><td>2340</td><td>2430</td><td>2520</td><td>2610</td><td>2700</td><td>2790</td><td>2880</td><td>2970</td><td>3060</td><td>3150</td><td>3240</td><td>3330</td><td>3420</td><td>3510</td><td>3600</td><td>3690</td><td>3780</td><td>3870</td><td>3960</td><td>4050</td><td>4140</td><td>4230</td><td>4320</td><td>4410</td><td>4500</td><td>4590</td><td>4680</td><td>4770</td><td>4860</td><td>4950</td><td>5040</td><td>5130</td><td>5220</td><td>5310</td><td>5400</td><td>5490</td><td>5580</td><td>5670</td><td>5760</td><td>5850</td><td>5940</td><td>6030</td><td>6120</td><td>6210</td><td>6300</td><td>6390</td><td>6480</td><td>6570</td><td>6660</td><td>6750</td><td>6840</td><td>6930</td><td>7020</td><td>7110</td><td>7200</td><td>7290</td><td>7380</td><td>7470</td><td>7560</td><td>7650</td><td>7740</td><td>7830</td><td>7920</td><td>8010</td><td>8100</td><td>8190</td><td>8280</td><td>8370</td><td>8460</td><td>8550</td><td>8640</td><td>8730</td><td>8820</td><td>8910</td><td>9000</td><td>9090</td><td>9180</td><td>9270</td><td>9360</td><td>9450</td><td>9540</td><td>9630</td><td>9720</td><td>9810</td><td>9900</td><td>9990</td><td>10080</td><td>10170</td><td>10260</td><td>10350</td><td>10440</td><td>10530</td><td>10620</td><td>10710</td><td>10800</td><td>10890</td><td>10980</td><td>11070</td><td>11160</td><td>11250</td><td>11340</td><td>11430</td><td>11520</td><td>11610</td><td>11700</td><td>11790</td><td>11880</td><td>11970</td><td>12060</td><td>12150</td><td>12240</td><td>12330</td><td>12420</td><td>12510</td><td>12600</td><td>12690</td><td>12780</td><td>12870</td><td>12960</td><td>13050</td><td>13140</td><td>13230</td><td>13320</td><td>13410</td><td>13500</td><td>13590</td><td>13680</td><td>13770</td><td>13860</td><td>13950</td><td>14040</td><td>14130</td><td>14220</td><td>14310</td><td>14400</td><td>14490</td><td>14580</td><td>14670</td><td>14760</td><td>14850</td><td>14940</td><td>15030</td><td>15120</td><td>15210</td><td>15300</td><td>15390</td><td>15480</td><td>15570</td><td>15660</td><td>15750</td><td>15840</td><td>15930</td><td>16020</td><td>16110</td></tr><tr><td>178</td><td>88</td><td>177</td><td>87</td><td>176</td><td>86</td><td>175</td><td>85</td><td>174</td><td>84</td><td>173</td><td>83</td><td>172</td><td>82</td><td>171</td><td>81</td><td>170</td><td>80</td><td>169</td><td>79</td><td>168</td><td>78</td><td>167</td><td>77</td><td>166</td><td>76</td><td>165</td><td>75</td><td>164</td><td>74</td><td>163</td><td>73</td><td>162</td><td>72</td><td>161</td><td>71</td><td>160</td><td>70</td><td>159</td><td>69</td><td>158</td><td>68</td><td>157</td><td>67</td><td>156</td><td>66</td><td>155</td><td>65</td><td>154</td><td>64</td><td>153</td><td>63</td><td>152</td><td>62</td><td>151</td><td>61</td><td>150</td><td>60</td><td>149</td><td>59</td><td>148</td><td>58</td><td>147</td><td>57</td><td>146</td><td>56</td><td>145</td><td>55</td><td>144</td><td>54</td><td>143</td><td>53</td><td>142</td><td>52</td><td>141</td><td>51</td><td>140</td><td>50</td><td>139</td><td>49</td><td>138</td><td>48</td><td>137</td><td>47</td><td>136</td><td>46</td><td>135</td><td>45</td><td>134</td><td>44</td><td>133</td><td>43</td><td>132</td><td>42</td><td>131</td><td>41</td><td>130</td><td>40</td><td>129</td><td>39</td><td>128</td><td>38</td><td>127</td><td>37</td><td>126</td><td>36</td><td>125</td><td>35</td><td>124</td><td>34</td><td>123</td><td>33</td><td>122</td><td>32</td><td>121</td><td>31</td><td>120</td><td>30</td><td>119</td><td>29</td><td>118</td><td>28</td><td>117</td><td>27</td><td>116</td><td>26</td><td>115</td><td>25</td><td>114</td><td>24</td><td>113</td><td>23</td><td>112</td><td>22</td><td>111</td><td>21</td><td>110</td><td>20</td><td>109</td><td>19</td><td>108</td><td>18</td><td>107</td><td>17</td><td>106</td><td>16</td><td>105</td><td>15</td><td>104</td><td>14</td><td>103</td><td>13</td><td>102</td><td>12</td><td>101</td><td>11</td><td>100</td><td>10</td><td>99</td><td>9</td><td>98</td><td>8</td><td>97</td><td>7</td><td>96</td><td>6</td><td>95</td><td>5</td><td>94</td><td>4</td><td>93</td><td>3</td><td>92</td><td>2</td><td>91</td><td>1</td><td>90</td><td>0</td></tr></table>"
      ],
      "text/plain": [
       "<IPython.core.display.HTML object>"
      ]
     },
     "metadata": {},
     "output_type": "display_data"
    },
    {
     "name": "stdout",
     "output_type": "stream",
     "text": [
      "When p = 181 triangular = 16471 and partial triangular = 91\n"
     ]
    },
    {
     "data": {
      "text/html": [
       "<table><tr><td>2</td><td>2</td><td>3</td><td>3</td><td>4</td><td>4</td><td>5</td><td>5</td><td>6</td><td>6</td><td>7</td><td>7</td><td>8</td><td>8</td><td>9</td><td>9</td><td>10</td><td>10</td><td>11</td><td>11</td><td>12</td><td>12</td><td>13</td><td>13</td><td>14</td><td>14</td><td>15</td><td>15</td><td>16</td><td>16</td><td>17</td><td>17</td><td>18</td><td>18</td><td>19</td><td>19</td><td>20</td><td>20</td><td>21</td><td>21</td><td>22</td><td>22</td><td>23</td><td>23</td><td>24</td><td>24</td><td>25</td><td>25</td><td>26</td><td>26</td><td>27</td><td>27</td><td>28</td><td>28</td><td>29</td><td>29</td><td>30</td><td>30</td><td>31</td><td>31</td><td>32</td><td>32</td><td>33</td><td>33</td><td>34</td><td>34</td><td>35</td><td>35</td><td>36</td><td>36</td><td>37</td><td>37</td><td>38</td><td>38</td><td>39</td><td>39</td><td>40</td><td>40</td><td>41</td><td>41</td><td>42</td><td>42</td><td>43</td><td>43</td><td>44</td><td>44</td><td>45</td><td>45</td><td>46</td><td>46</td><td>47</td><td>47</td><td>48</td><td>48</td><td>49</td><td>49</td><td>50</td><td>50</td><td>51</td><td>51</td><td>52</td><td>52</td><td>53</td><td>53</td><td>54</td><td>54</td><td>55</td><td>55</td><td>56</td><td>56</td><td>57</td><td>57</td><td>58</td><td>58</td><td>59</td><td>59</td><td>60</td><td>60</td><td>61</td><td>61</td><td>62</td><td>62</td><td>63</td><td>63</td><td>64</td><td>64</td><td>65</td><td>65</td><td>66</td><td>66</td><td>67</td><td>67</td><td>68</td><td>68</td><td>69</td><td>69</td><td>70</td><td>70</td><td>71</td><td>71</td><td>72</td><td>72</td><td>73</td><td>73</td><td>74</td><td>74</td><td>75</td><td>75</td><td>76</td><td>76</td><td>77</td><td>77</td><td>78</td><td>78</td><td>79</td><td>79</td><td>80</td><td>80</td><td>81</td><td>81</td><td>82</td><td>82</td><td>83</td><td>83</td><td>84</td><td>84</td><td>85</td><td>85</td><td>86</td><td>86</td><td>87</td><td>87</td><td>88</td><td>88</td><td>89</td><td>89</td><td>90</td><td>90</td><td>91</td><td>91</td></tr><tr><td>362</td><td>362</td><td>543</td><td>543</td><td>724</td><td>724</td><td>905</td><td>905</td><td>1086</td><td>1086</td><td>1267</td><td>1267</td><td>1448</td><td>1448</td><td>1629</td><td>1629</td><td>1810</td><td>1810</td><td>1991</td><td>1991</td><td>2172</td><td>2172</td><td>2353</td><td>2353</td><td>2534</td><td>2534</td><td>2715</td><td>2715</td><td>2896</td><td>2896</td><td>3077</td><td>3077</td><td>3258</td><td>3258</td><td>3439</td><td>3439</td><td>3620</td><td>3620</td><td>3801</td><td>3801</td><td>3982</td><td>3982</td><td>4163</td><td>4163</td><td>4344</td><td>4344</td><td>4525</td><td>4525</td><td>4706</td><td>4706</td><td>4887</td><td>4887</td><td>5068</td><td>5068</td><td>5249</td><td>5249</td><td>5430</td><td>5430</td><td>5611</td><td>5611</td><td>5792</td><td>5792</td><td>5973</td><td>5973</td><td>6154</td><td>6154</td><td>6335</td><td>6335</td><td>6516</td><td>6516</td><td>6697</td><td>6697</td><td>6878</td><td>6878</td><td>7059</td><td>7059</td><td>7240</td><td>7240</td><td>7421</td><td>7421</td><td>7602</td><td>7602</td><td>7783</td><td>7783</td><td>7964</td><td>7964</td><td>8145</td><td>8145</td><td>8326</td><td>8326</td><td>8507</td><td>8507</td><td>8688</td><td>8688</td><td>8869</td><td>8869</td><td>9050</td><td>9050</td><td>9231</td><td>9231</td><td>9412</td><td>9412</td><td>9593</td><td>9593</td><td>9774</td><td>9774</td><td>9955</td><td>9955</td><td>10136</td><td>10136</td><td>10317</td><td>10317</td><td>10498</td><td>10498</td><td>10679</td><td>10679</td><td>10860</td><td>10860</td><td>11041</td><td>11041</td><td>11222</td><td>11222</td><td>11403</td><td>11403</td><td>11584</td><td>11584</td><td>11765</td><td>11765</td><td>11946</td><td>11946</td><td>12127</td><td>12127</td><td>12308</td><td>12308</td><td>12489</td><td>12489</td><td>12670</td><td>12670</td><td>12851</td><td>12851</td><td>13032</td><td>13032</td><td>13213</td><td>13213</td><td>13394</td><td>13394</td><td>13575</td><td>13575</td><td>13756</td><td>13756</td><td>13937</td><td>13937</td><td>14118</td><td>14118</td><td>14299</td><td>14299</td><td>14480</td><td>14480</td><td>14661</td><td>14661</td><td>14842</td><td>14842</td><td>15023</td><td>15023</td><td>15204</td><td>15204</td><td>15385</td><td>15385</td><td>15566</td><td>15566</td><td>15747</td><td>15747</td><td>15928</td><td>15928</td><td>16109</td><td>16109</td><td>16290</td><td>16290</td><td>16471</td><td>16471</td></tr><tr><td>2</td><td>3</td><td>4</td><td>5</td><td>6</td><td>7</td><td>8</td><td>9</td><td>10</td><td>11</td><td>12</td><td>13</td><td>14</td><td>15</td><td>16</td><td>17</td><td>18</td><td>19</td><td>20</td><td>21</td><td>22</td><td>23</td><td>24</td><td>25</td><td>26</td><td>27</td><td>28</td><td>29</td><td>30</td><td>31</td><td>32</td><td>33</td><td>34</td><td>35</td><td>36</td><td>37</td><td>38</td><td>39</td><td>40</td><td>41</td><td>42</td><td>43</td><td>44</td><td>45</td><td>46</td><td>47</td><td>48</td><td>49</td><td>50</td><td>51</td><td>52</td><td>53</td><td>54</td><td>55</td><td>56</td><td>57</td><td>58</td><td>59</td><td>60</td><td>61</td><td>62</td><td>63</td><td>64</td><td>65</td><td>66</td><td>67</td><td>68</td><td>69</td><td>70</td><td>71</td><td>72</td><td>73</td><td>74</td><td>75</td><td>76</td><td>77</td><td>78</td><td>79</td><td>80</td><td>81</td><td>82</td><td>83</td><td>84</td><td>85</td><td>86</td><td>87</td><td>88</td><td>89</td><td>90</td><td>91</td><td>92</td><td>93</td><td>94</td><td>95</td><td>96</td><td>97</td><td>98</td><td>99</td><td>100</td><td>101</td><td>102</td><td>103</td><td>104</td><td>105</td><td>106</td><td>107</td><td>108</td><td>109</td><td>110</td><td>111</td><td>112</td><td>113</td><td>114</td><td>115</td><td>116</td><td>117</td><td>118</td><td>119</td><td>120</td><td>121</td><td>122</td><td>123</td><td>124</td><td>125</td><td>126</td><td>127</td><td>128</td><td>129</td><td>130</td><td>131</td><td>132</td><td>133</td><td>134</td><td>135</td><td>136</td><td>137</td><td>138</td><td>139</td><td>140</td><td>141</td><td>142</td><td>143</td><td>144</td><td>145</td><td>146</td><td>147</td><td>148</td><td>149</td><td>150</td><td>151</td><td>152</td><td>153</td><td>154</td><td>155</td><td>156</td><td>157</td><td>158</td><td>159</td><td>160</td><td>161</td><td>162</td><td>163</td><td>164</td><td>165</td><td>166</td><td>167</td><td>168</td><td>169</td><td>170</td><td>171</td><td>172</td><td>173</td><td>174</td><td>175</td><td>176</td><td>177</td><td>178</td><td>179</td><td>180</td><td>181</td></tr><tr><td>182</td><td>273</td><td>364</td><td>455</td><td>546</td><td>637</td><td>728</td><td>819</td><td>910</td><td>1001</td><td>1092</td><td>1183</td><td>1274</td><td>1365</td><td>1456</td><td>1547</td><td>1638</td><td>1729</td><td>1820</td><td>1911</td><td>2002</td><td>2093</td><td>2184</td><td>2275</td><td>2366</td><td>2457</td><td>2548</td><td>2639</td><td>2730</td><td>2821</td><td>2912</td><td>3003</td><td>3094</td><td>3185</td><td>3276</td><td>3367</td><td>3458</td><td>3549</td><td>3640</td><td>3731</td><td>3822</td><td>3913</td><td>4004</td><td>4095</td><td>4186</td><td>4277</td><td>4368</td><td>4459</td><td>4550</td><td>4641</td><td>4732</td><td>4823</td><td>4914</td><td>5005</td><td>5096</td><td>5187</td><td>5278</td><td>5369</td><td>5460</td><td>5551</td><td>5642</td><td>5733</td><td>5824</td><td>5915</td><td>6006</td><td>6097</td><td>6188</td><td>6279</td><td>6370</td><td>6461</td><td>6552</td><td>6643</td><td>6734</td><td>6825</td><td>6916</td><td>7007</td><td>7098</td><td>7189</td><td>7280</td><td>7371</td><td>7462</td><td>7553</td><td>7644</td><td>7735</td><td>7826</td><td>7917</td><td>8008</td><td>8099</td><td>8190</td><td>8281</td><td>8372</td><td>8463</td><td>8554</td><td>8645</td><td>8736</td><td>8827</td><td>8918</td><td>9009</td><td>9100</td><td>9191</td><td>9282</td><td>9373</td><td>9464</td><td>9555</td><td>9646</td><td>9737</td><td>9828</td><td>9919</td><td>10010</td><td>10101</td><td>10192</td><td>10283</td><td>10374</td><td>10465</td><td>10556</td><td>10647</td><td>10738</td><td>10829</td><td>10920</td><td>11011</td><td>11102</td><td>11193</td><td>11284</td><td>11375</td><td>11466</td><td>11557</td><td>11648</td><td>11739</td><td>11830</td><td>11921</td><td>12012</td><td>12103</td><td>12194</td><td>12285</td><td>12376</td><td>12467</td><td>12558</td><td>12649</td><td>12740</td><td>12831</td><td>12922</td><td>13013</td><td>13104</td><td>13195</td><td>13286</td><td>13377</td><td>13468</td><td>13559</td><td>13650</td><td>13741</td><td>13832</td><td>13923</td><td>14014</td><td>14105</td><td>14196</td><td>14287</td><td>14378</td><td>14469</td><td>14560</td><td>14651</td><td>14742</td><td>14833</td><td>14924</td><td>15015</td><td>15106</td><td>15197</td><td>15288</td><td>15379</td><td>15470</td><td>15561</td><td>15652</td><td>15743</td><td>15834</td><td>15925</td><td>16016</td><td>16107</td><td>16198</td><td>16289</td><td>16380</td><td>16471</td></tr><tr><td>180</td><td>89</td><td>179</td><td>88</td><td>178</td><td>87</td><td>177</td><td>86</td><td>176</td><td>85</td><td>175</td><td>84</td><td>174</td><td>83</td><td>173</td><td>82</td><td>172</td><td>81</td><td>171</td><td>80</td><td>170</td><td>79</td><td>169</td><td>78</td><td>168</td><td>77</td><td>167</td><td>76</td><td>166</td><td>75</td><td>165</td><td>74</td><td>164</td><td>73</td><td>163</td><td>72</td><td>162</td><td>71</td><td>161</td><td>70</td><td>160</td><td>69</td><td>159</td><td>68</td><td>158</td><td>67</td><td>157</td><td>66</td><td>156</td><td>65</td><td>155</td><td>64</td><td>154</td><td>63</td><td>153</td><td>62</td><td>152</td><td>61</td><td>151</td><td>60</td><td>150</td><td>59</td><td>149</td><td>58</td><td>148</td><td>57</td><td>147</td><td>56</td><td>146</td><td>55</td><td>145</td><td>54</td><td>144</td><td>53</td><td>143</td><td>52</td><td>142</td><td>51</td><td>141</td><td>50</td><td>140</td><td>49</td><td>139</td><td>48</td><td>138</td><td>47</td><td>137</td><td>46</td><td>136</td><td>45</td><td>135</td><td>44</td><td>134</td><td>43</td><td>133</td><td>42</td><td>132</td><td>41</td><td>131</td><td>40</td><td>130</td><td>39</td><td>129</td><td>38</td><td>128</td><td>37</td><td>127</td><td>36</td><td>126</td><td>35</td><td>125</td><td>34</td><td>124</td><td>33</td><td>123</td><td>32</td><td>122</td><td>31</td><td>121</td><td>30</td><td>120</td><td>29</td><td>119</td><td>28</td><td>118</td><td>27</td><td>117</td><td>26</td><td>116</td><td>25</td><td>115</td><td>24</td><td>114</td><td>23</td><td>113</td><td>22</td><td>112</td><td>21</td><td>111</td><td>20</td><td>110</td><td>19</td><td>109</td><td>18</td><td>108</td><td>17</td><td>107</td><td>16</td><td>106</td><td>15</td><td>105</td><td>14</td><td>104</td><td>13</td><td>103</td><td>12</td><td>102</td><td>11</td><td>101</td><td>10</td><td>100</td><td>9</td><td>99</td><td>8</td><td>98</td><td>7</td><td>97</td><td>6</td><td>96</td><td>5</td><td>95</td><td>4</td><td>94</td><td>3</td><td>93</td><td>2</td><td>92</td><td>1</td><td>91</td><td>0</td></tr></table>"
      ],
      "text/plain": [
       "<IPython.core.display.HTML object>"
      ]
     },
     "metadata": {},
     "output_type": "display_data"
    },
    {
     "name": "stdout",
     "output_type": "stream",
     "text": [
      "When p = 183 triangular = 16836 and partial triangular = 92\n"
     ]
    },
    {
     "data": {
      "text/html": [
       "<table><tr><td>2</td><td>2</td><td>3</td><td>3</td><td>4</td><td>4</td><td>5</td><td>5</td><td>6</td><td>6</td><td>7</td><td>7</td><td>8</td><td>8</td><td>9</td><td>9</td><td>10</td><td>10</td><td>11</td><td>11</td><td>12</td><td>12</td><td>13</td><td>13</td><td>14</td><td>14</td><td>15</td><td>15</td><td>16</td><td>16</td><td>17</td><td>17</td><td>18</td><td>18</td><td>19</td><td>19</td><td>20</td><td>20</td><td>21</td><td>21</td><td>22</td><td>22</td><td>23</td><td>23</td><td>24</td><td>24</td><td>25</td><td>25</td><td>26</td><td>26</td><td>27</td><td>27</td><td>28</td><td>28</td><td>29</td><td>29</td><td>30</td><td>30</td><td>31</td><td>31</td><td>32</td><td>32</td><td>33</td><td>33</td><td>34</td><td>34</td><td>35</td><td>35</td><td>36</td><td>36</td><td>37</td><td>37</td><td>38</td><td>38</td><td>39</td><td>39</td><td>40</td><td>40</td><td>41</td><td>41</td><td>42</td><td>42</td><td>43</td><td>43</td><td>44</td><td>44</td><td>45</td><td>45</td><td>46</td><td>46</td><td>47</td><td>47</td><td>48</td><td>48</td><td>49</td><td>49</td><td>50</td><td>50</td><td>51</td><td>51</td><td>52</td><td>52</td><td>53</td><td>53</td><td>54</td><td>54</td><td>55</td><td>55</td><td>56</td><td>56</td><td>57</td><td>57</td><td>58</td><td>58</td><td>59</td><td>59</td><td>60</td><td>60</td><td>61</td><td>61</td><td>62</td><td>62</td><td>63</td><td>63</td><td>64</td><td>64</td><td>65</td><td>65</td><td>66</td><td>66</td><td>67</td><td>67</td><td>68</td><td>68</td><td>69</td><td>69</td><td>70</td><td>70</td><td>71</td><td>71</td><td>72</td><td>72</td><td>73</td><td>73</td><td>74</td><td>74</td><td>75</td><td>75</td><td>76</td><td>76</td><td>77</td><td>77</td><td>78</td><td>78</td><td>79</td><td>79</td><td>80</td><td>80</td><td>81</td><td>81</td><td>82</td><td>82</td><td>83</td><td>83</td><td>84</td><td>84</td><td>85</td><td>85</td><td>86</td><td>86</td><td>87</td><td>87</td><td>88</td><td>88</td><td>89</td><td>89</td><td>90</td><td>90</td><td>91</td><td>91</td><td>92</td><td>92</td></tr><tr><td>366</td><td>366</td><td>549</td><td>549</td><td>732</td><td>732</td><td>915</td><td>915</td><td>1098</td><td>1098</td><td>1281</td><td>1281</td><td>1464</td><td>1464</td><td>1647</td><td>1647</td><td>1830</td><td>1830</td><td>2013</td><td>2013</td><td>2196</td><td>2196</td><td>2379</td><td>2379</td><td>2562</td><td>2562</td><td>2745</td><td>2745</td><td>2928</td><td>2928</td><td>3111</td><td>3111</td><td>3294</td><td>3294</td><td>3477</td><td>3477</td><td>3660</td><td>3660</td><td>3843</td><td>3843</td><td>4026</td><td>4026</td><td>4209</td><td>4209</td><td>4392</td><td>4392</td><td>4575</td><td>4575</td><td>4758</td><td>4758</td><td>4941</td><td>4941</td><td>5124</td><td>5124</td><td>5307</td><td>5307</td><td>5490</td><td>5490</td><td>5673</td><td>5673</td><td>5856</td><td>5856</td><td>6039</td><td>6039</td><td>6222</td><td>6222</td><td>6405</td><td>6405</td><td>6588</td><td>6588</td><td>6771</td><td>6771</td><td>6954</td><td>6954</td><td>7137</td><td>7137</td><td>7320</td><td>7320</td><td>7503</td><td>7503</td><td>7686</td><td>7686</td><td>7869</td><td>7869</td><td>8052</td><td>8052</td><td>8235</td><td>8235</td><td>8418</td><td>8418</td><td>8601</td><td>8601</td><td>8784</td><td>8784</td><td>8967</td><td>8967</td><td>9150</td><td>9150</td><td>9333</td><td>9333</td><td>9516</td><td>9516</td><td>9699</td><td>9699</td><td>9882</td><td>9882</td><td>10065</td><td>10065</td><td>10248</td><td>10248</td><td>10431</td><td>10431</td><td>10614</td><td>10614</td><td>10797</td><td>10797</td><td>10980</td><td>10980</td><td>11163</td><td>11163</td><td>11346</td><td>11346</td><td>11529</td><td>11529</td><td>11712</td><td>11712</td><td>11895</td><td>11895</td><td>12078</td><td>12078</td><td>12261</td><td>12261</td><td>12444</td><td>12444</td><td>12627</td><td>12627</td><td>12810</td><td>12810</td><td>12993</td><td>12993</td><td>13176</td><td>13176</td><td>13359</td><td>13359</td><td>13542</td><td>13542</td><td>13725</td><td>13725</td><td>13908</td><td>13908</td><td>14091</td><td>14091</td><td>14274</td><td>14274</td><td>14457</td><td>14457</td><td>14640</td><td>14640</td><td>14823</td><td>14823</td><td>15006</td><td>15006</td><td>15189</td><td>15189</td><td>15372</td><td>15372</td><td>15555</td><td>15555</td><td>15738</td><td>15738</td><td>15921</td><td>15921</td><td>16104</td><td>16104</td><td>16287</td><td>16287</td><td>16470</td><td>16470</td><td>16653</td><td>16653</td><td>16836</td><td>16836</td></tr><tr><td>2</td><td>3</td><td>4</td><td>5</td><td>6</td><td>7</td><td>8</td><td>9</td><td>10</td><td>11</td><td>12</td><td>13</td><td>14</td><td>15</td><td>16</td><td>17</td><td>18</td><td>19</td><td>20</td><td>21</td><td>22</td><td>23</td><td>24</td><td>25</td><td>26</td><td>27</td><td>28</td><td>29</td><td>30</td><td>31</td><td>32</td><td>33</td><td>34</td><td>35</td><td>36</td><td>37</td><td>38</td><td>39</td><td>40</td><td>41</td><td>42</td><td>43</td><td>44</td><td>45</td><td>46</td><td>47</td><td>48</td><td>49</td><td>50</td><td>51</td><td>52</td><td>53</td><td>54</td><td>55</td><td>56</td><td>57</td><td>58</td><td>59</td><td>60</td><td>61</td><td>62</td><td>63</td><td>64</td><td>65</td><td>66</td><td>67</td><td>68</td><td>69</td><td>70</td><td>71</td><td>72</td><td>73</td><td>74</td><td>75</td><td>76</td><td>77</td><td>78</td><td>79</td><td>80</td><td>81</td><td>82</td><td>83</td><td>84</td><td>85</td><td>86</td><td>87</td><td>88</td><td>89</td><td>90</td><td>91</td><td>92</td><td>93</td><td>94</td><td>95</td><td>96</td><td>97</td><td>98</td><td>99</td><td>100</td><td>101</td><td>102</td><td>103</td><td>104</td><td>105</td><td>106</td><td>107</td><td>108</td><td>109</td><td>110</td><td>111</td><td>112</td><td>113</td><td>114</td><td>115</td><td>116</td><td>117</td><td>118</td><td>119</td><td>120</td><td>121</td><td>122</td><td>123</td><td>124</td><td>125</td><td>126</td><td>127</td><td>128</td><td>129</td><td>130</td><td>131</td><td>132</td><td>133</td><td>134</td><td>135</td><td>136</td><td>137</td><td>138</td><td>139</td><td>140</td><td>141</td><td>142</td><td>143</td><td>144</td><td>145</td><td>146</td><td>147</td><td>148</td><td>149</td><td>150</td><td>151</td><td>152</td><td>153</td><td>154</td><td>155</td><td>156</td><td>157</td><td>158</td><td>159</td><td>160</td><td>161</td><td>162</td><td>163</td><td>164</td><td>165</td><td>166</td><td>167</td><td>168</td><td>169</td><td>170</td><td>171</td><td>172</td><td>173</td><td>174</td><td>175</td><td>176</td><td>177</td><td>178</td><td>179</td><td>180</td><td>181</td><td>182</td><td>183</td></tr><tr><td>184</td><td>276</td><td>368</td><td>460</td><td>552</td><td>644</td><td>736</td><td>828</td><td>920</td><td>1012</td><td>1104</td><td>1196</td><td>1288</td><td>1380</td><td>1472</td><td>1564</td><td>1656</td><td>1748</td><td>1840</td><td>1932</td><td>2024</td><td>2116</td><td>2208</td><td>2300</td><td>2392</td><td>2484</td><td>2576</td><td>2668</td><td>2760</td><td>2852</td><td>2944</td><td>3036</td><td>3128</td><td>3220</td><td>3312</td><td>3404</td><td>3496</td><td>3588</td><td>3680</td><td>3772</td><td>3864</td><td>3956</td><td>4048</td><td>4140</td><td>4232</td><td>4324</td><td>4416</td><td>4508</td><td>4600</td><td>4692</td><td>4784</td><td>4876</td><td>4968</td><td>5060</td><td>5152</td><td>5244</td><td>5336</td><td>5428</td><td>5520</td><td>5612</td><td>5704</td><td>5796</td><td>5888</td><td>5980</td><td>6072</td><td>6164</td><td>6256</td><td>6348</td><td>6440</td><td>6532</td><td>6624</td><td>6716</td><td>6808</td><td>6900</td><td>6992</td><td>7084</td><td>7176</td><td>7268</td><td>7360</td><td>7452</td><td>7544</td><td>7636</td><td>7728</td><td>7820</td><td>7912</td><td>8004</td><td>8096</td><td>8188</td><td>8280</td><td>8372</td><td>8464</td><td>8556</td><td>8648</td><td>8740</td><td>8832</td><td>8924</td><td>9016</td><td>9108</td><td>9200</td><td>9292</td><td>9384</td><td>9476</td><td>9568</td><td>9660</td><td>9752</td><td>9844</td><td>9936</td><td>10028</td><td>10120</td><td>10212</td><td>10304</td><td>10396</td><td>10488</td><td>10580</td><td>10672</td><td>10764</td><td>10856</td><td>10948</td><td>11040</td><td>11132</td><td>11224</td><td>11316</td><td>11408</td><td>11500</td><td>11592</td><td>11684</td><td>11776</td><td>11868</td><td>11960</td><td>12052</td><td>12144</td><td>12236</td><td>12328</td><td>12420</td><td>12512</td><td>12604</td><td>12696</td><td>12788</td><td>12880</td><td>12972</td><td>13064</td><td>13156</td><td>13248</td><td>13340</td><td>13432</td><td>13524</td><td>13616</td><td>13708</td><td>13800</td><td>13892</td><td>13984</td><td>14076</td><td>14168</td><td>14260</td><td>14352</td><td>14444</td><td>14536</td><td>14628</td><td>14720</td><td>14812</td><td>14904</td><td>14996</td><td>15088</td><td>15180</td><td>15272</td><td>15364</td><td>15456</td><td>15548</td><td>15640</td><td>15732</td><td>15824</td><td>15916</td><td>16008</td><td>16100</td><td>16192</td><td>16284</td><td>16376</td><td>16468</td><td>16560</td><td>16652</td><td>16744</td><td>16836</td></tr><tr><td>182</td><td>90</td><td>181</td><td>89</td><td>180</td><td>88</td><td>179</td><td>87</td><td>178</td><td>86</td><td>177</td><td>85</td><td>176</td><td>84</td><td>175</td><td>83</td><td>174</td><td>82</td><td>173</td><td>81</td><td>172</td><td>80</td><td>171</td><td>79</td><td>170</td><td>78</td><td>169</td><td>77</td><td>168</td><td>76</td><td>167</td><td>75</td><td>166</td><td>74</td><td>165</td><td>73</td><td>164</td><td>72</td><td>163</td><td>71</td><td>162</td><td>70</td><td>161</td><td>69</td><td>160</td><td>68</td><td>159</td><td>67</td><td>158</td><td>66</td><td>157</td><td>65</td><td>156</td><td>64</td><td>155</td><td>63</td><td>154</td><td>62</td><td>153</td><td>61</td><td>152</td><td>60</td><td>151</td><td>59</td><td>150</td><td>58</td><td>149</td><td>57</td><td>148</td><td>56</td><td>147</td><td>55</td><td>146</td><td>54</td><td>145</td><td>53</td><td>144</td><td>52</td><td>143</td><td>51</td><td>142</td><td>50</td><td>141</td><td>49</td><td>140</td><td>48</td><td>139</td><td>47</td><td>138</td><td>46</td><td>137</td><td>45</td><td>136</td><td>44</td><td>135</td><td>43</td><td>134</td><td>42</td><td>133</td><td>41</td><td>132</td><td>40</td><td>131</td><td>39</td><td>130</td><td>38</td><td>129</td><td>37</td><td>128</td><td>36</td><td>127</td><td>35</td><td>126</td><td>34</td><td>125</td><td>33</td><td>124</td><td>32</td><td>123</td><td>31</td><td>122</td><td>30</td><td>121</td><td>29</td><td>120</td><td>28</td><td>119</td><td>27</td><td>118</td><td>26</td><td>117</td><td>25</td><td>116</td><td>24</td><td>115</td><td>23</td><td>114</td><td>22</td><td>113</td><td>21</td><td>112</td><td>20</td><td>111</td><td>19</td><td>110</td><td>18</td><td>109</td><td>17</td><td>108</td><td>16</td><td>107</td><td>15</td><td>106</td><td>14</td><td>105</td><td>13</td><td>104</td><td>12</td><td>103</td><td>11</td><td>102</td><td>10</td><td>101</td><td>9</td><td>100</td><td>8</td><td>99</td><td>7</td><td>98</td><td>6</td><td>97</td><td>5</td><td>96</td><td>4</td><td>95</td><td>3</td><td>94</td><td>2</td><td>93</td><td>1</td><td>92</td><td>0</td></tr></table>"
      ],
      "text/plain": [
       "<IPython.core.display.HTML object>"
      ]
     },
     "metadata": {},
     "output_type": "display_data"
    },
    {
     "name": "stdout",
     "output_type": "stream",
     "text": [
      "When p = 185 triangular = 17205 and partial triangular = 93\n"
     ]
    },
    {
     "data": {
      "text/html": [
       "<table><tr><td>2</td><td>2</td><td>3</td><td>3</td><td>4</td><td>4</td><td>5</td><td>5</td><td>6</td><td>6</td><td>7</td><td>7</td><td>8</td><td>8</td><td>9</td><td>9</td><td>10</td><td>10</td><td>11</td><td>11</td><td>12</td><td>12</td><td>13</td><td>13</td><td>14</td><td>14</td><td>15</td><td>15</td><td>16</td><td>16</td><td>17</td><td>17</td><td>18</td><td>18</td><td>19</td><td>19</td><td>20</td><td>20</td><td>21</td><td>21</td><td>22</td><td>22</td><td>23</td><td>23</td><td>24</td><td>24</td><td>25</td><td>25</td><td>26</td><td>26</td><td>27</td><td>27</td><td>28</td><td>28</td><td>29</td><td>29</td><td>30</td><td>30</td><td>31</td><td>31</td><td>32</td><td>32</td><td>33</td><td>33</td><td>34</td><td>34</td><td>35</td><td>35</td><td>36</td><td>36</td><td>37</td><td>37</td><td>38</td><td>38</td><td>39</td><td>39</td><td>40</td><td>40</td><td>41</td><td>41</td><td>42</td><td>42</td><td>43</td><td>43</td><td>44</td><td>44</td><td>45</td><td>45</td><td>46</td><td>46</td><td>47</td><td>47</td><td>48</td><td>48</td><td>49</td><td>49</td><td>50</td><td>50</td><td>51</td><td>51</td><td>52</td><td>52</td><td>53</td><td>53</td><td>54</td><td>54</td><td>55</td><td>55</td><td>56</td><td>56</td><td>57</td><td>57</td><td>58</td><td>58</td><td>59</td><td>59</td><td>60</td><td>60</td><td>61</td><td>61</td><td>62</td><td>62</td><td>63</td><td>63</td><td>64</td><td>64</td><td>65</td><td>65</td><td>66</td><td>66</td><td>67</td><td>67</td><td>68</td><td>68</td><td>69</td><td>69</td><td>70</td><td>70</td><td>71</td><td>71</td><td>72</td><td>72</td><td>73</td><td>73</td><td>74</td><td>74</td><td>75</td><td>75</td><td>76</td><td>76</td><td>77</td><td>77</td><td>78</td><td>78</td><td>79</td><td>79</td><td>80</td><td>80</td><td>81</td><td>81</td><td>82</td><td>82</td><td>83</td><td>83</td><td>84</td><td>84</td><td>85</td><td>85</td><td>86</td><td>86</td><td>87</td><td>87</td><td>88</td><td>88</td><td>89</td><td>89</td><td>90</td><td>90</td><td>91</td><td>91</td><td>92</td><td>92</td><td>93</td><td>93</td></tr><tr><td>370</td><td>370</td><td>555</td><td>555</td><td>740</td><td>740</td><td>925</td><td>925</td><td>1110</td><td>1110</td><td>1295</td><td>1295</td><td>1480</td><td>1480</td><td>1665</td><td>1665</td><td>1850</td><td>1850</td><td>2035</td><td>2035</td><td>2220</td><td>2220</td><td>2405</td><td>2405</td><td>2590</td><td>2590</td><td>2775</td><td>2775</td><td>2960</td><td>2960</td><td>3145</td><td>3145</td><td>3330</td><td>3330</td><td>3515</td><td>3515</td><td>3700</td><td>3700</td><td>3885</td><td>3885</td><td>4070</td><td>4070</td><td>4255</td><td>4255</td><td>4440</td><td>4440</td><td>4625</td><td>4625</td><td>4810</td><td>4810</td><td>4995</td><td>4995</td><td>5180</td><td>5180</td><td>5365</td><td>5365</td><td>5550</td><td>5550</td><td>5735</td><td>5735</td><td>5920</td><td>5920</td><td>6105</td><td>6105</td><td>6290</td><td>6290</td><td>6475</td><td>6475</td><td>6660</td><td>6660</td><td>6845</td><td>6845</td><td>7030</td><td>7030</td><td>7215</td><td>7215</td><td>7400</td><td>7400</td><td>7585</td><td>7585</td><td>7770</td><td>7770</td><td>7955</td><td>7955</td><td>8140</td><td>8140</td><td>8325</td><td>8325</td><td>8510</td><td>8510</td><td>8695</td><td>8695</td><td>8880</td><td>8880</td><td>9065</td><td>9065</td><td>9250</td><td>9250</td><td>9435</td><td>9435</td><td>9620</td><td>9620</td><td>9805</td><td>9805</td><td>9990</td><td>9990</td><td>10175</td><td>10175</td><td>10360</td><td>10360</td><td>10545</td><td>10545</td><td>10730</td><td>10730</td><td>10915</td><td>10915</td><td>11100</td><td>11100</td><td>11285</td><td>11285</td><td>11470</td><td>11470</td><td>11655</td><td>11655</td><td>11840</td><td>11840</td><td>12025</td><td>12025</td><td>12210</td><td>12210</td><td>12395</td><td>12395</td><td>12580</td><td>12580</td><td>12765</td><td>12765</td><td>12950</td><td>12950</td><td>13135</td><td>13135</td><td>13320</td><td>13320</td><td>13505</td><td>13505</td><td>13690</td><td>13690</td><td>13875</td><td>13875</td><td>14060</td><td>14060</td><td>14245</td><td>14245</td><td>14430</td><td>14430</td><td>14615</td><td>14615</td><td>14800</td><td>14800</td><td>14985</td><td>14985</td><td>15170</td><td>15170</td><td>15355</td><td>15355</td><td>15540</td><td>15540</td><td>15725</td><td>15725</td><td>15910</td><td>15910</td><td>16095</td><td>16095</td><td>16280</td><td>16280</td><td>16465</td><td>16465</td><td>16650</td><td>16650</td><td>16835</td><td>16835</td><td>17020</td><td>17020</td><td>17205</td><td>17205</td></tr><tr><td>2</td><td>3</td><td>4</td><td>5</td><td>6</td><td>7</td><td>8</td><td>9</td><td>10</td><td>11</td><td>12</td><td>13</td><td>14</td><td>15</td><td>16</td><td>17</td><td>18</td><td>19</td><td>20</td><td>21</td><td>22</td><td>23</td><td>24</td><td>25</td><td>26</td><td>27</td><td>28</td><td>29</td><td>30</td><td>31</td><td>32</td><td>33</td><td>34</td><td>35</td><td>36</td><td>37</td><td>38</td><td>39</td><td>40</td><td>41</td><td>42</td><td>43</td><td>44</td><td>45</td><td>46</td><td>47</td><td>48</td><td>49</td><td>50</td><td>51</td><td>52</td><td>53</td><td>54</td><td>55</td><td>56</td><td>57</td><td>58</td><td>59</td><td>60</td><td>61</td><td>62</td><td>63</td><td>64</td><td>65</td><td>66</td><td>67</td><td>68</td><td>69</td><td>70</td><td>71</td><td>72</td><td>73</td><td>74</td><td>75</td><td>76</td><td>77</td><td>78</td><td>79</td><td>80</td><td>81</td><td>82</td><td>83</td><td>84</td><td>85</td><td>86</td><td>87</td><td>88</td><td>89</td><td>90</td><td>91</td><td>92</td><td>93</td><td>94</td><td>95</td><td>96</td><td>97</td><td>98</td><td>99</td><td>100</td><td>101</td><td>102</td><td>103</td><td>104</td><td>105</td><td>106</td><td>107</td><td>108</td><td>109</td><td>110</td><td>111</td><td>112</td><td>113</td><td>114</td><td>115</td><td>116</td><td>117</td><td>118</td><td>119</td><td>120</td><td>121</td><td>122</td><td>123</td><td>124</td><td>125</td><td>126</td><td>127</td><td>128</td><td>129</td><td>130</td><td>131</td><td>132</td><td>133</td><td>134</td><td>135</td><td>136</td><td>137</td><td>138</td><td>139</td><td>140</td><td>141</td><td>142</td><td>143</td><td>144</td><td>145</td><td>146</td><td>147</td><td>148</td><td>149</td><td>150</td><td>151</td><td>152</td><td>153</td><td>154</td><td>155</td><td>156</td><td>157</td><td>158</td><td>159</td><td>160</td><td>161</td><td>162</td><td>163</td><td>164</td><td>165</td><td>166</td><td>167</td><td>168</td><td>169</td><td>170</td><td>171</td><td>172</td><td>173</td><td>174</td><td>175</td><td>176</td><td>177</td><td>178</td><td>179</td><td>180</td><td>181</td><td>182</td><td>183</td><td>184</td><td>185</td></tr><tr><td>186</td><td>279</td><td>372</td><td>465</td><td>558</td><td>651</td><td>744</td><td>837</td><td>930</td><td>1023</td><td>1116</td><td>1209</td><td>1302</td><td>1395</td><td>1488</td><td>1581</td><td>1674</td><td>1767</td><td>1860</td><td>1953</td><td>2046</td><td>2139</td><td>2232</td><td>2325</td><td>2418</td><td>2511</td><td>2604</td><td>2697</td><td>2790</td><td>2883</td><td>2976</td><td>3069</td><td>3162</td><td>3255</td><td>3348</td><td>3441</td><td>3534</td><td>3627</td><td>3720</td><td>3813</td><td>3906</td><td>3999</td><td>4092</td><td>4185</td><td>4278</td><td>4371</td><td>4464</td><td>4557</td><td>4650</td><td>4743</td><td>4836</td><td>4929</td><td>5022</td><td>5115</td><td>5208</td><td>5301</td><td>5394</td><td>5487</td><td>5580</td><td>5673</td><td>5766</td><td>5859</td><td>5952</td><td>6045</td><td>6138</td><td>6231</td><td>6324</td><td>6417</td><td>6510</td><td>6603</td><td>6696</td><td>6789</td><td>6882</td><td>6975</td><td>7068</td><td>7161</td><td>7254</td><td>7347</td><td>7440</td><td>7533</td><td>7626</td><td>7719</td><td>7812</td><td>7905</td><td>7998</td><td>8091</td><td>8184</td><td>8277</td><td>8370</td><td>8463</td><td>8556</td><td>8649</td><td>8742</td><td>8835</td><td>8928</td><td>9021</td><td>9114</td><td>9207</td><td>9300</td><td>9393</td><td>9486</td><td>9579</td><td>9672</td><td>9765</td><td>9858</td><td>9951</td><td>10044</td><td>10137</td><td>10230</td><td>10323</td><td>10416</td><td>10509</td><td>10602</td><td>10695</td><td>10788</td><td>10881</td><td>10974</td><td>11067</td><td>11160</td><td>11253</td><td>11346</td><td>11439</td><td>11532</td><td>11625</td><td>11718</td><td>11811</td><td>11904</td><td>11997</td><td>12090</td><td>12183</td><td>12276</td><td>12369</td><td>12462</td><td>12555</td><td>12648</td><td>12741</td><td>12834</td><td>12927</td><td>13020</td><td>13113</td><td>13206</td><td>13299</td><td>13392</td><td>13485</td><td>13578</td><td>13671</td><td>13764</td><td>13857</td><td>13950</td><td>14043</td><td>14136</td><td>14229</td><td>14322</td><td>14415</td><td>14508</td><td>14601</td><td>14694</td><td>14787</td><td>14880</td><td>14973</td><td>15066</td><td>15159</td><td>15252</td><td>15345</td><td>15438</td><td>15531</td><td>15624</td><td>15717</td><td>15810</td><td>15903</td><td>15996</td><td>16089</td><td>16182</td><td>16275</td><td>16368</td><td>16461</td><td>16554</td><td>16647</td><td>16740</td><td>16833</td><td>16926</td><td>17019</td><td>17112</td><td>17205</td></tr><tr><td>184</td><td>91</td><td>183</td><td>90</td><td>182</td><td>89</td><td>181</td><td>88</td><td>180</td><td>87</td><td>179</td><td>86</td><td>178</td><td>85</td><td>177</td><td>84</td><td>176</td><td>83</td><td>175</td><td>82</td><td>174</td><td>81</td><td>173</td><td>80</td><td>172</td><td>79</td><td>171</td><td>78</td><td>170</td><td>77</td><td>169</td><td>76</td><td>168</td><td>75</td><td>167</td><td>74</td><td>166</td><td>73</td><td>165</td><td>72</td><td>164</td><td>71</td><td>163</td><td>70</td><td>162</td><td>69</td><td>161</td><td>68</td><td>160</td><td>67</td><td>159</td><td>66</td><td>158</td><td>65</td><td>157</td><td>64</td><td>156</td><td>63</td><td>155</td><td>62</td><td>154</td><td>61</td><td>153</td><td>60</td><td>152</td><td>59</td><td>151</td><td>58</td><td>150</td><td>57</td><td>149</td><td>56</td><td>148</td><td>55</td><td>147</td><td>54</td><td>146</td><td>53</td><td>145</td><td>52</td><td>144</td><td>51</td><td>143</td><td>50</td><td>142</td><td>49</td><td>141</td><td>48</td><td>140</td><td>47</td><td>139</td><td>46</td><td>138</td><td>45</td><td>137</td><td>44</td><td>136</td><td>43</td><td>135</td><td>42</td><td>134</td><td>41</td><td>133</td><td>40</td><td>132</td><td>39</td><td>131</td><td>38</td><td>130</td><td>37</td><td>129</td><td>36</td><td>128</td><td>35</td><td>127</td><td>34</td><td>126</td><td>33</td><td>125</td><td>32</td><td>124</td><td>31</td><td>123</td><td>30</td><td>122</td><td>29</td><td>121</td><td>28</td><td>120</td><td>27</td><td>119</td><td>26</td><td>118</td><td>25</td><td>117</td><td>24</td><td>116</td><td>23</td><td>115</td><td>22</td><td>114</td><td>21</td><td>113</td><td>20</td><td>112</td><td>19</td><td>111</td><td>18</td><td>110</td><td>17</td><td>109</td><td>16</td><td>108</td><td>15</td><td>107</td><td>14</td><td>106</td><td>13</td><td>105</td><td>12</td><td>104</td><td>11</td><td>103</td><td>10</td><td>102</td><td>9</td><td>101</td><td>8</td><td>100</td><td>7</td><td>99</td><td>6</td><td>98</td><td>5</td><td>97</td><td>4</td><td>96</td><td>3</td><td>95</td><td>2</td><td>94</td><td>1</td><td>93</td><td>0</td></tr></table>"
      ],
      "text/plain": [
       "<IPython.core.display.HTML object>"
      ]
     },
     "metadata": {},
     "output_type": "display_data"
    },
    {
     "name": "stdout",
     "output_type": "stream",
     "text": [
      "When p = 187 triangular = 17578 and partial triangular = 94\n"
     ]
    },
    {
     "data": {
      "text/html": [
       "<table><tr><td>2</td><td>2</td><td>3</td><td>3</td><td>4</td><td>4</td><td>5</td><td>5</td><td>6</td><td>6</td><td>7</td><td>7</td><td>8</td><td>8</td><td>9</td><td>9</td><td>10</td><td>10</td><td>11</td><td>11</td><td>12</td><td>12</td><td>13</td><td>13</td><td>14</td><td>14</td><td>15</td><td>15</td><td>16</td><td>16</td><td>17</td><td>17</td><td>18</td><td>18</td><td>19</td><td>19</td><td>20</td><td>20</td><td>21</td><td>21</td><td>22</td><td>22</td><td>23</td><td>23</td><td>24</td><td>24</td><td>25</td><td>25</td><td>26</td><td>26</td><td>27</td><td>27</td><td>28</td><td>28</td><td>29</td><td>29</td><td>30</td><td>30</td><td>31</td><td>31</td><td>32</td><td>32</td><td>33</td><td>33</td><td>34</td><td>34</td><td>35</td><td>35</td><td>36</td><td>36</td><td>37</td><td>37</td><td>38</td><td>38</td><td>39</td><td>39</td><td>40</td><td>40</td><td>41</td><td>41</td><td>42</td><td>42</td><td>43</td><td>43</td><td>44</td><td>44</td><td>45</td><td>45</td><td>46</td><td>46</td><td>47</td><td>47</td><td>48</td><td>48</td><td>49</td><td>49</td><td>50</td><td>50</td><td>51</td><td>51</td><td>52</td><td>52</td><td>53</td><td>53</td><td>54</td><td>54</td><td>55</td><td>55</td><td>56</td><td>56</td><td>57</td><td>57</td><td>58</td><td>58</td><td>59</td><td>59</td><td>60</td><td>60</td><td>61</td><td>61</td><td>62</td><td>62</td><td>63</td><td>63</td><td>64</td><td>64</td><td>65</td><td>65</td><td>66</td><td>66</td><td>67</td><td>67</td><td>68</td><td>68</td><td>69</td><td>69</td><td>70</td><td>70</td><td>71</td><td>71</td><td>72</td><td>72</td><td>73</td><td>73</td><td>74</td><td>74</td><td>75</td><td>75</td><td>76</td><td>76</td><td>77</td><td>77</td><td>78</td><td>78</td><td>79</td><td>79</td><td>80</td><td>80</td><td>81</td><td>81</td><td>82</td><td>82</td><td>83</td><td>83</td><td>84</td><td>84</td><td>85</td><td>85</td><td>86</td><td>86</td><td>87</td><td>87</td><td>88</td><td>88</td><td>89</td><td>89</td><td>90</td><td>90</td><td>91</td><td>91</td><td>92</td><td>92</td><td>93</td><td>93</td><td>94</td><td>94</td></tr><tr><td>374</td><td>374</td><td>561</td><td>561</td><td>748</td><td>748</td><td>935</td><td>935</td><td>1122</td><td>1122</td><td>1309</td><td>1309</td><td>1496</td><td>1496</td><td>1683</td><td>1683</td><td>1870</td><td>1870</td><td>2057</td><td>2057</td><td>2244</td><td>2244</td><td>2431</td><td>2431</td><td>2618</td><td>2618</td><td>2805</td><td>2805</td><td>2992</td><td>2992</td><td>3179</td><td>3179</td><td>3366</td><td>3366</td><td>3553</td><td>3553</td><td>3740</td><td>3740</td><td>3927</td><td>3927</td><td>4114</td><td>4114</td><td>4301</td><td>4301</td><td>4488</td><td>4488</td><td>4675</td><td>4675</td><td>4862</td><td>4862</td><td>5049</td><td>5049</td><td>5236</td><td>5236</td><td>5423</td><td>5423</td><td>5610</td><td>5610</td><td>5797</td><td>5797</td><td>5984</td><td>5984</td><td>6171</td><td>6171</td><td>6358</td><td>6358</td><td>6545</td><td>6545</td><td>6732</td><td>6732</td><td>6919</td><td>6919</td><td>7106</td><td>7106</td><td>7293</td><td>7293</td><td>7480</td><td>7480</td><td>7667</td><td>7667</td><td>7854</td><td>7854</td><td>8041</td><td>8041</td><td>8228</td><td>8228</td><td>8415</td><td>8415</td><td>8602</td><td>8602</td><td>8789</td><td>8789</td><td>8976</td><td>8976</td><td>9163</td><td>9163</td><td>9350</td><td>9350</td><td>9537</td><td>9537</td><td>9724</td><td>9724</td><td>9911</td><td>9911</td><td>10098</td><td>10098</td><td>10285</td><td>10285</td><td>10472</td><td>10472</td><td>10659</td><td>10659</td><td>10846</td><td>10846</td><td>11033</td><td>11033</td><td>11220</td><td>11220</td><td>11407</td><td>11407</td><td>11594</td><td>11594</td><td>11781</td><td>11781</td><td>11968</td><td>11968</td><td>12155</td><td>12155</td><td>12342</td><td>12342</td><td>12529</td><td>12529</td><td>12716</td><td>12716</td><td>12903</td><td>12903</td><td>13090</td><td>13090</td><td>13277</td><td>13277</td><td>13464</td><td>13464</td><td>13651</td><td>13651</td><td>13838</td><td>13838</td><td>14025</td><td>14025</td><td>14212</td><td>14212</td><td>14399</td><td>14399</td><td>14586</td><td>14586</td><td>14773</td><td>14773</td><td>14960</td><td>14960</td><td>15147</td><td>15147</td><td>15334</td><td>15334</td><td>15521</td><td>15521</td><td>15708</td><td>15708</td><td>15895</td><td>15895</td><td>16082</td><td>16082</td><td>16269</td><td>16269</td><td>16456</td><td>16456</td><td>16643</td><td>16643</td><td>16830</td><td>16830</td><td>17017</td><td>17017</td><td>17204</td><td>17204</td><td>17391</td><td>17391</td><td>17578</td><td>17578</td></tr><tr><td>2</td><td>3</td><td>4</td><td>5</td><td>6</td><td>7</td><td>8</td><td>9</td><td>10</td><td>11</td><td>12</td><td>13</td><td>14</td><td>15</td><td>16</td><td>17</td><td>18</td><td>19</td><td>20</td><td>21</td><td>22</td><td>23</td><td>24</td><td>25</td><td>26</td><td>27</td><td>28</td><td>29</td><td>30</td><td>31</td><td>32</td><td>33</td><td>34</td><td>35</td><td>36</td><td>37</td><td>38</td><td>39</td><td>40</td><td>41</td><td>42</td><td>43</td><td>44</td><td>45</td><td>46</td><td>47</td><td>48</td><td>49</td><td>50</td><td>51</td><td>52</td><td>53</td><td>54</td><td>55</td><td>56</td><td>57</td><td>58</td><td>59</td><td>60</td><td>61</td><td>62</td><td>63</td><td>64</td><td>65</td><td>66</td><td>67</td><td>68</td><td>69</td><td>70</td><td>71</td><td>72</td><td>73</td><td>74</td><td>75</td><td>76</td><td>77</td><td>78</td><td>79</td><td>80</td><td>81</td><td>82</td><td>83</td><td>84</td><td>85</td><td>86</td><td>87</td><td>88</td><td>89</td><td>90</td><td>91</td><td>92</td><td>93</td><td>94</td><td>95</td><td>96</td><td>97</td><td>98</td><td>99</td><td>100</td><td>101</td><td>102</td><td>103</td><td>104</td><td>105</td><td>106</td><td>107</td><td>108</td><td>109</td><td>110</td><td>111</td><td>112</td><td>113</td><td>114</td><td>115</td><td>116</td><td>117</td><td>118</td><td>119</td><td>120</td><td>121</td><td>122</td><td>123</td><td>124</td><td>125</td><td>126</td><td>127</td><td>128</td><td>129</td><td>130</td><td>131</td><td>132</td><td>133</td><td>134</td><td>135</td><td>136</td><td>137</td><td>138</td><td>139</td><td>140</td><td>141</td><td>142</td><td>143</td><td>144</td><td>145</td><td>146</td><td>147</td><td>148</td><td>149</td><td>150</td><td>151</td><td>152</td><td>153</td><td>154</td><td>155</td><td>156</td><td>157</td><td>158</td><td>159</td><td>160</td><td>161</td><td>162</td><td>163</td><td>164</td><td>165</td><td>166</td><td>167</td><td>168</td><td>169</td><td>170</td><td>171</td><td>172</td><td>173</td><td>174</td><td>175</td><td>176</td><td>177</td><td>178</td><td>179</td><td>180</td><td>181</td><td>182</td><td>183</td><td>184</td><td>185</td><td>186</td><td>187</td></tr><tr><td>188</td><td>282</td><td>376</td><td>470</td><td>564</td><td>658</td><td>752</td><td>846</td><td>940</td><td>1034</td><td>1128</td><td>1222</td><td>1316</td><td>1410</td><td>1504</td><td>1598</td><td>1692</td><td>1786</td><td>1880</td><td>1974</td><td>2068</td><td>2162</td><td>2256</td><td>2350</td><td>2444</td><td>2538</td><td>2632</td><td>2726</td><td>2820</td><td>2914</td><td>3008</td><td>3102</td><td>3196</td><td>3290</td><td>3384</td><td>3478</td><td>3572</td><td>3666</td><td>3760</td><td>3854</td><td>3948</td><td>4042</td><td>4136</td><td>4230</td><td>4324</td><td>4418</td><td>4512</td><td>4606</td><td>4700</td><td>4794</td><td>4888</td><td>4982</td><td>5076</td><td>5170</td><td>5264</td><td>5358</td><td>5452</td><td>5546</td><td>5640</td><td>5734</td><td>5828</td><td>5922</td><td>6016</td><td>6110</td><td>6204</td><td>6298</td><td>6392</td><td>6486</td><td>6580</td><td>6674</td><td>6768</td><td>6862</td><td>6956</td><td>7050</td><td>7144</td><td>7238</td><td>7332</td><td>7426</td><td>7520</td><td>7614</td><td>7708</td><td>7802</td><td>7896</td><td>7990</td><td>8084</td><td>8178</td><td>8272</td><td>8366</td><td>8460</td><td>8554</td><td>8648</td><td>8742</td><td>8836</td><td>8930</td><td>9024</td><td>9118</td><td>9212</td><td>9306</td><td>9400</td><td>9494</td><td>9588</td><td>9682</td><td>9776</td><td>9870</td><td>9964</td><td>10058</td><td>10152</td><td>10246</td><td>10340</td><td>10434</td><td>10528</td><td>10622</td><td>10716</td><td>10810</td><td>10904</td><td>10998</td><td>11092</td><td>11186</td><td>11280</td><td>11374</td><td>11468</td><td>11562</td><td>11656</td><td>11750</td><td>11844</td><td>11938</td><td>12032</td><td>12126</td><td>12220</td><td>12314</td><td>12408</td><td>12502</td><td>12596</td><td>12690</td><td>12784</td><td>12878</td><td>12972</td><td>13066</td><td>13160</td><td>13254</td><td>13348</td><td>13442</td><td>13536</td><td>13630</td><td>13724</td><td>13818</td><td>13912</td><td>14006</td><td>14100</td><td>14194</td><td>14288</td><td>14382</td><td>14476</td><td>14570</td><td>14664</td><td>14758</td><td>14852</td><td>14946</td><td>15040</td><td>15134</td><td>15228</td><td>15322</td><td>15416</td><td>15510</td><td>15604</td><td>15698</td><td>15792</td><td>15886</td><td>15980</td><td>16074</td><td>16168</td><td>16262</td><td>16356</td><td>16450</td><td>16544</td><td>16638</td><td>16732</td><td>16826</td><td>16920</td><td>17014</td><td>17108</td><td>17202</td><td>17296</td><td>17390</td><td>17484</td><td>17578</td></tr><tr><td>186</td><td>92</td><td>185</td><td>91</td><td>184</td><td>90</td><td>183</td><td>89</td><td>182</td><td>88</td><td>181</td><td>87</td><td>180</td><td>86</td><td>179</td><td>85</td><td>178</td><td>84</td><td>177</td><td>83</td><td>176</td><td>82</td><td>175</td><td>81</td><td>174</td><td>80</td><td>173</td><td>79</td><td>172</td><td>78</td><td>171</td><td>77</td><td>170</td><td>76</td><td>169</td><td>75</td><td>168</td><td>74</td><td>167</td><td>73</td><td>166</td><td>72</td><td>165</td><td>71</td><td>164</td><td>70</td><td>163</td><td>69</td><td>162</td><td>68</td><td>161</td><td>67</td><td>160</td><td>66</td><td>159</td><td>65</td><td>158</td><td>64</td><td>157</td><td>63</td><td>156</td><td>62</td><td>155</td><td>61</td><td>154</td><td>60</td><td>153</td><td>59</td><td>152</td><td>58</td><td>151</td><td>57</td><td>150</td><td>56</td><td>149</td><td>55</td><td>148</td><td>54</td><td>147</td><td>53</td><td>146</td><td>52</td><td>145</td><td>51</td><td>144</td><td>50</td><td>143</td><td>49</td><td>142</td><td>48</td><td>141</td><td>47</td><td>140</td><td>46</td><td>139</td><td>45</td><td>138</td><td>44</td><td>137</td><td>43</td><td>136</td><td>42</td><td>135</td><td>41</td><td>134</td><td>40</td><td>133</td><td>39</td><td>132</td><td>38</td><td>131</td><td>37</td><td>130</td><td>36</td><td>129</td><td>35</td><td>128</td><td>34</td><td>127</td><td>33</td><td>126</td><td>32</td><td>125</td><td>31</td><td>124</td><td>30</td><td>123</td><td>29</td><td>122</td><td>28</td><td>121</td><td>27</td><td>120</td><td>26</td><td>119</td><td>25</td><td>118</td><td>24</td><td>117</td><td>23</td><td>116</td><td>22</td><td>115</td><td>21</td><td>114</td><td>20</td><td>113</td><td>19</td><td>112</td><td>18</td><td>111</td><td>17</td><td>110</td><td>16</td><td>109</td><td>15</td><td>108</td><td>14</td><td>107</td><td>13</td><td>106</td><td>12</td><td>105</td><td>11</td><td>104</td><td>10</td><td>103</td><td>9</td><td>102</td><td>8</td><td>101</td><td>7</td><td>100</td><td>6</td><td>99</td><td>5</td><td>98</td><td>4</td><td>97</td><td>3</td><td>96</td><td>2</td><td>95</td><td>1</td><td>94</td><td>0</td></tr></table>"
      ],
      "text/plain": [
       "<IPython.core.display.HTML object>"
      ]
     },
     "metadata": {},
     "output_type": "display_data"
    },
    {
     "name": "stdout",
     "output_type": "stream",
     "text": [
      "When p = 189 triangular = 17955 and partial triangular = 95\n"
     ]
    },
    {
     "data": {
      "text/html": [
       "<table><tr><td>2</td><td>2</td><td>3</td><td>3</td><td>4</td><td>4</td><td>5</td><td>5</td><td>6</td><td>6</td><td>7</td><td>7</td><td>8</td><td>8</td><td>9</td><td>9</td><td>10</td><td>10</td><td>11</td><td>11</td><td>12</td><td>12</td><td>13</td><td>13</td><td>14</td><td>14</td><td>15</td><td>15</td><td>16</td><td>16</td><td>17</td><td>17</td><td>18</td><td>18</td><td>19</td><td>19</td><td>20</td><td>20</td><td>21</td><td>21</td><td>22</td><td>22</td><td>23</td><td>23</td><td>24</td><td>24</td><td>25</td><td>25</td><td>26</td><td>26</td><td>27</td><td>27</td><td>28</td><td>28</td><td>29</td><td>29</td><td>30</td><td>30</td><td>31</td><td>31</td><td>32</td><td>32</td><td>33</td><td>33</td><td>34</td><td>34</td><td>35</td><td>35</td><td>36</td><td>36</td><td>37</td><td>37</td><td>38</td><td>38</td><td>39</td><td>39</td><td>40</td><td>40</td><td>41</td><td>41</td><td>42</td><td>42</td><td>43</td><td>43</td><td>44</td><td>44</td><td>45</td><td>45</td><td>46</td><td>46</td><td>47</td><td>47</td><td>48</td><td>48</td><td>49</td><td>49</td><td>50</td><td>50</td><td>51</td><td>51</td><td>52</td><td>52</td><td>53</td><td>53</td><td>54</td><td>54</td><td>55</td><td>55</td><td>56</td><td>56</td><td>57</td><td>57</td><td>58</td><td>58</td><td>59</td><td>59</td><td>60</td><td>60</td><td>61</td><td>61</td><td>62</td><td>62</td><td>63</td><td>63</td><td>64</td><td>64</td><td>65</td><td>65</td><td>66</td><td>66</td><td>67</td><td>67</td><td>68</td><td>68</td><td>69</td><td>69</td><td>70</td><td>70</td><td>71</td><td>71</td><td>72</td><td>72</td><td>73</td><td>73</td><td>74</td><td>74</td><td>75</td><td>75</td><td>76</td><td>76</td><td>77</td><td>77</td><td>78</td><td>78</td><td>79</td><td>79</td><td>80</td><td>80</td><td>81</td><td>81</td><td>82</td><td>82</td><td>83</td><td>83</td><td>84</td><td>84</td><td>85</td><td>85</td><td>86</td><td>86</td><td>87</td><td>87</td><td>88</td><td>88</td><td>89</td><td>89</td><td>90</td><td>90</td><td>91</td><td>91</td><td>92</td><td>92</td><td>93</td><td>93</td><td>94</td><td>94</td><td>95</td><td>95</td></tr><tr><td>378</td><td>378</td><td>567</td><td>567</td><td>756</td><td>756</td><td>945</td><td>945</td><td>1134</td><td>1134</td><td>1323</td><td>1323</td><td>1512</td><td>1512</td><td>1701</td><td>1701</td><td>1890</td><td>1890</td><td>2079</td><td>2079</td><td>2268</td><td>2268</td><td>2457</td><td>2457</td><td>2646</td><td>2646</td><td>2835</td><td>2835</td><td>3024</td><td>3024</td><td>3213</td><td>3213</td><td>3402</td><td>3402</td><td>3591</td><td>3591</td><td>3780</td><td>3780</td><td>3969</td><td>3969</td><td>4158</td><td>4158</td><td>4347</td><td>4347</td><td>4536</td><td>4536</td><td>4725</td><td>4725</td><td>4914</td><td>4914</td><td>5103</td><td>5103</td><td>5292</td><td>5292</td><td>5481</td><td>5481</td><td>5670</td><td>5670</td><td>5859</td><td>5859</td><td>6048</td><td>6048</td><td>6237</td><td>6237</td><td>6426</td><td>6426</td><td>6615</td><td>6615</td><td>6804</td><td>6804</td><td>6993</td><td>6993</td><td>7182</td><td>7182</td><td>7371</td><td>7371</td><td>7560</td><td>7560</td><td>7749</td><td>7749</td><td>7938</td><td>7938</td><td>8127</td><td>8127</td><td>8316</td><td>8316</td><td>8505</td><td>8505</td><td>8694</td><td>8694</td><td>8883</td><td>8883</td><td>9072</td><td>9072</td><td>9261</td><td>9261</td><td>9450</td><td>9450</td><td>9639</td><td>9639</td><td>9828</td><td>9828</td><td>10017</td><td>10017</td><td>10206</td><td>10206</td><td>10395</td><td>10395</td><td>10584</td><td>10584</td><td>10773</td><td>10773</td><td>10962</td><td>10962</td><td>11151</td><td>11151</td><td>11340</td><td>11340</td><td>11529</td><td>11529</td><td>11718</td><td>11718</td><td>11907</td><td>11907</td><td>12096</td><td>12096</td><td>12285</td><td>12285</td><td>12474</td><td>12474</td><td>12663</td><td>12663</td><td>12852</td><td>12852</td><td>13041</td><td>13041</td><td>13230</td><td>13230</td><td>13419</td><td>13419</td><td>13608</td><td>13608</td><td>13797</td><td>13797</td><td>13986</td><td>13986</td><td>14175</td><td>14175</td><td>14364</td><td>14364</td><td>14553</td><td>14553</td><td>14742</td><td>14742</td><td>14931</td><td>14931</td><td>15120</td><td>15120</td><td>15309</td><td>15309</td><td>15498</td><td>15498</td><td>15687</td><td>15687</td><td>15876</td><td>15876</td><td>16065</td><td>16065</td><td>16254</td><td>16254</td><td>16443</td><td>16443</td><td>16632</td><td>16632</td><td>16821</td><td>16821</td><td>17010</td><td>17010</td><td>17199</td><td>17199</td><td>17388</td><td>17388</td><td>17577</td><td>17577</td><td>17766</td><td>17766</td><td>17955</td><td>17955</td></tr><tr><td>2</td><td>3</td><td>4</td><td>5</td><td>6</td><td>7</td><td>8</td><td>9</td><td>10</td><td>11</td><td>12</td><td>13</td><td>14</td><td>15</td><td>16</td><td>17</td><td>18</td><td>19</td><td>20</td><td>21</td><td>22</td><td>23</td><td>24</td><td>25</td><td>26</td><td>27</td><td>28</td><td>29</td><td>30</td><td>31</td><td>32</td><td>33</td><td>34</td><td>35</td><td>36</td><td>37</td><td>38</td><td>39</td><td>40</td><td>41</td><td>42</td><td>43</td><td>44</td><td>45</td><td>46</td><td>47</td><td>48</td><td>49</td><td>50</td><td>51</td><td>52</td><td>53</td><td>54</td><td>55</td><td>56</td><td>57</td><td>58</td><td>59</td><td>60</td><td>61</td><td>62</td><td>63</td><td>64</td><td>65</td><td>66</td><td>67</td><td>68</td><td>69</td><td>70</td><td>71</td><td>72</td><td>73</td><td>74</td><td>75</td><td>76</td><td>77</td><td>78</td><td>79</td><td>80</td><td>81</td><td>82</td><td>83</td><td>84</td><td>85</td><td>86</td><td>87</td><td>88</td><td>89</td><td>90</td><td>91</td><td>92</td><td>93</td><td>94</td><td>95</td><td>96</td><td>97</td><td>98</td><td>99</td><td>100</td><td>101</td><td>102</td><td>103</td><td>104</td><td>105</td><td>106</td><td>107</td><td>108</td><td>109</td><td>110</td><td>111</td><td>112</td><td>113</td><td>114</td><td>115</td><td>116</td><td>117</td><td>118</td><td>119</td><td>120</td><td>121</td><td>122</td><td>123</td><td>124</td><td>125</td><td>126</td><td>127</td><td>128</td><td>129</td><td>130</td><td>131</td><td>132</td><td>133</td><td>134</td><td>135</td><td>136</td><td>137</td><td>138</td><td>139</td><td>140</td><td>141</td><td>142</td><td>143</td><td>144</td><td>145</td><td>146</td><td>147</td><td>148</td><td>149</td><td>150</td><td>151</td><td>152</td><td>153</td><td>154</td><td>155</td><td>156</td><td>157</td><td>158</td><td>159</td><td>160</td><td>161</td><td>162</td><td>163</td><td>164</td><td>165</td><td>166</td><td>167</td><td>168</td><td>169</td><td>170</td><td>171</td><td>172</td><td>173</td><td>174</td><td>175</td><td>176</td><td>177</td><td>178</td><td>179</td><td>180</td><td>181</td><td>182</td><td>183</td><td>184</td><td>185</td><td>186</td><td>187</td><td>188</td><td>189</td></tr><tr><td>190</td><td>285</td><td>380</td><td>475</td><td>570</td><td>665</td><td>760</td><td>855</td><td>950</td><td>1045</td><td>1140</td><td>1235</td><td>1330</td><td>1425</td><td>1520</td><td>1615</td><td>1710</td><td>1805</td><td>1900</td><td>1995</td><td>2090</td><td>2185</td><td>2280</td><td>2375</td><td>2470</td><td>2565</td><td>2660</td><td>2755</td><td>2850</td><td>2945</td><td>3040</td><td>3135</td><td>3230</td><td>3325</td><td>3420</td><td>3515</td><td>3610</td><td>3705</td><td>3800</td><td>3895</td><td>3990</td><td>4085</td><td>4180</td><td>4275</td><td>4370</td><td>4465</td><td>4560</td><td>4655</td><td>4750</td><td>4845</td><td>4940</td><td>5035</td><td>5130</td><td>5225</td><td>5320</td><td>5415</td><td>5510</td><td>5605</td><td>5700</td><td>5795</td><td>5890</td><td>5985</td><td>6080</td><td>6175</td><td>6270</td><td>6365</td><td>6460</td><td>6555</td><td>6650</td><td>6745</td><td>6840</td><td>6935</td><td>7030</td><td>7125</td><td>7220</td><td>7315</td><td>7410</td><td>7505</td><td>7600</td><td>7695</td><td>7790</td><td>7885</td><td>7980</td><td>8075</td><td>8170</td><td>8265</td><td>8360</td><td>8455</td><td>8550</td><td>8645</td><td>8740</td><td>8835</td><td>8930</td><td>9025</td><td>9120</td><td>9215</td><td>9310</td><td>9405</td><td>9500</td><td>9595</td><td>9690</td><td>9785</td><td>9880</td><td>9975</td><td>10070</td><td>10165</td><td>10260</td><td>10355</td><td>10450</td><td>10545</td><td>10640</td><td>10735</td><td>10830</td><td>10925</td><td>11020</td><td>11115</td><td>11210</td><td>11305</td><td>11400</td><td>11495</td><td>11590</td><td>11685</td><td>11780</td><td>11875</td><td>11970</td><td>12065</td><td>12160</td><td>12255</td><td>12350</td><td>12445</td><td>12540</td><td>12635</td><td>12730</td><td>12825</td><td>12920</td><td>13015</td><td>13110</td><td>13205</td><td>13300</td><td>13395</td><td>13490</td><td>13585</td><td>13680</td><td>13775</td><td>13870</td><td>13965</td><td>14060</td><td>14155</td><td>14250</td><td>14345</td><td>14440</td><td>14535</td><td>14630</td><td>14725</td><td>14820</td><td>14915</td><td>15010</td><td>15105</td><td>15200</td><td>15295</td><td>15390</td><td>15485</td><td>15580</td><td>15675</td><td>15770</td><td>15865</td><td>15960</td><td>16055</td><td>16150</td><td>16245</td><td>16340</td><td>16435</td><td>16530</td><td>16625</td><td>16720</td><td>16815</td><td>16910</td><td>17005</td><td>17100</td><td>17195</td><td>17290</td><td>17385</td><td>17480</td><td>17575</td><td>17670</td><td>17765</td><td>17860</td><td>17955</td></tr><tr><td>188</td><td>93</td><td>187</td><td>92</td><td>186</td><td>91</td><td>185</td><td>90</td><td>184</td><td>89</td><td>183</td><td>88</td><td>182</td><td>87</td><td>181</td><td>86</td><td>180</td><td>85</td><td>179</td><td>84</td><td>178</td><td>83</td><td>177</td><td>82</td><td>176</td><td>81</td><td>175</td><td>80</td><td>174</td><td>79</td><td>173</td><td>78</td><td>172</td><td>77</td><td>171</td><td>76</td><td>170</td><td>75</td><td>169</td><td>74</td><td>168</td><td>73</td><td>167</td><td>72</td><td>166</td><td>71</td><td>165</td><td>70</td><td>164</td><td>69</td><td>163</td><td>68</td><td>162</td><td>67</td><td>161</td><td>66</td><td>160</td><td>65</td><td>159</td><td>64</td><td>158</td><td>63</td><td>157</td><td>62</td><td>156</td><td>61</td><td>155</td><td>60</td><td>154</td><td>59</td><td>153</td><td>58</td><td>152</td><td>57</td><td>151</td><td>56</td><td>150</td><td>55</td><td>149</td><td>54</td><td>148</td><td>53</td><td>147</td><td>52</td><td>146</td><td>51</td><td>145</td><td>50</td><td>144</td><td>49</td><td>143</td><td>48</td><td>142</td><td>47</td><td>141</td><td>46</td><td>140</td><td>45</td><td>139</td><td>44</td><td>138</td><td>43</td><td>137</td><td>42</td><td>136</td><td>41</td><td>135</td><td>40</td><td>134</td><td>39</td><td>133</td><td>38</td><td>132</td><td>37</td><td>131</td><td>36</td><td>130</td><td>35</td><td>129</td><td>34</td><td>128</td><td>33</td><td>127</td><td>32</td><td>126</td><td>31</td><td>125</td><td>30</td><td>124</td><td>29</td><td>123</td><td>28</td><td>122</td><td>27</td><td>121</td><td>26</td><td>120</td><td>25</td><td>119</td><td>24</td><td>118</td><td>23</td><td>117</td><td>22</td><td>116</td><td>21</td><td>115</td><td>20</td><td>114</td><td>19</td><td>113</td><td>18</td><td>112</td><td>17</td><td>111</td><td>16</td><td>110</td><td>15</td><td>109</td><td>14</td><td>108</td><td>13</td><td>107</td><td>12</td><td>106</td><td>11</td><td>105</td><td>10</td><td>104</td><td>9</td><td>103</td><td>8</td><td>102</td><td>7</td><td>101</td><td>6</td><td>100</td><td>5</td><td>99</td><td>4</td><td>98</td><td>3</td><td>97</td><td>2</td><td>96</td><td>1</td><td>95</td><td>0</td></tr></table>"
      ],
      "text/plain": [
       "<IPython.core.display.HTML object>"
      ]
     },
     "metadata": {},
     "output_type": "display_data"
    },
    {
     "name": "stdout",
     "output_type": "stream",
     "text": [
      "When p = 191 triangular = 18336 and partial triangular = 96\n"
     ]
    },
    {
     "data": {
      "text/html": [
       "<table><tr><td>2</td><td>2</td><td>3</td><td>3</td><td>4</td><td>4</td><td>5</td><td>5</td><td>6</td><td>6</td><td>7</td><td>7</td><td>8</td><td>8</td><td>9</td><td>9</td><td>10</td><td>10</td><td>11</td><td>11</td><td>12</td><td>12</td><td>13</td><td>13</td><td>14</td><td>14</td><td>15</td><td>15</td><td>16</td><td>16</td><td>17</td><td>17</td><td>18</td><td>18</td><td>19</td><td>19</td><td>20</td><td>20</td><td>21</td><td>21</td><td>22</td><td>22</td><td>23</td><td>23</td><td>24</td><td>24</td><td>25</td><td>25</td><td>26</td><td>26</td><td>27</td><td>27</td><td>28</td><td>28</td><td>29</td><td>29</td><td>30</td><td>30</td><td>31</td><td>31</td><td>32</td><td>32</td><td>33</td><td>33</td><td>34</td><td>34</td><td>35</td><td>35</td><td>36</td><td>36</td><td>37</td><td>37</td><td>38</td><td>38</td><td>39</td><td>39</td><td>40</td><td>40</td><td>41</td><td>41</td><td>42</td><td>42</td><td>43</td><td>43</td><td>44</td><td>44</td><td>45</td><td>45</td><td>46</td><td>46</td><td>47</td><td>47</td><td>48</td><td>48</td><td>49</td><td>49</td><td>50</td><td>50</td><td>51</td><td>51</td><td>52</td><td>52</td><td>53</td><td>53</td><td>54</td><td>54</td><td>55</td><td>55</td><td>56</td><td>56</td><td>57</td><td>57</td><td>58</td><td>58</td><td>59</td><td>59</td><td>60</td><td>60</td><td>61</td><td>61</td><td>62</td><td>62</td><td>63</td><td>63</td><td>64</td><td>64</td><td>65</td><td>65</td><td>66</td><td>66</td><td>67</td><td>67</td><td>68</td><td>68</td><td>69</td><td>69</td><td>70</td><td>70</td><td>71</td><td>71</td><td>72</td><td>72</td><td>73</td><td>73</td><td>74</td><td>74</td><td>75</td><td>75</td><td>76</td><td>76</td><td>77</td><td>77</td><td>78</td><td>78</td><td>79</td><td>79</td><td>80</td><td>80</td><td>81</td><td>81</td><td>82</td><td>82</td><td>83</td><td>83</td><td>84</td><td>84</td><td>85</td><td>85</td><td>86</td><td>86</td><td>87</td><td>87</td><td>88</td><td>88</td><td>89</td><td>89</td><td>90</td><td>90</td><td>91</td><td>91</td><td>92</td><td>92</td><td>93</td><td>93</td><td>94</td><td>94</td><td>95</td><td>95</td><td>96</td><td>96</td></tr><tr><td>382</td><td>382</td><td>573</td><td>573</td><td>764</td><td>764</td><td>955</td><td>955</td><td>1146</td><td>1146</td><td>1337</td><td>1337</td><td>1528</td><td>1528</td><td>1719</td><td>1719</td><td>1910</td><td>1910</td><td>2101</td><td>2101</td><td>2292</td><td>2292</td><td>2483</td><td>2483</td><td>2674</td><td>2674</td><td>2865</td><td>2865</td><td>3056</td><td>3056</td><td>3247</td><td>3247</td><td>3438</td><td>3438</td><td>3629</td><td>3629</td><td>3820</td><td>3820</td><td>4011</td><td>4011</td><td>4202</td><td>4202</td><td>4393</td><td>4393</td><td>4584</td><td>4584</td><td>4775</td><td>4775</td><td>4966</td><td>4966</td><td>5157</td><td>5157</td><td>5348</td><td>5348</td><td>5539</td><td>5539</td><td>5730</td><td>5730</td><td>5921</td><td>5921</td><td>6112</td><td>6112</td><td>6303</td><td>6303</td><td>6494</td><td>6494</td><td>6685</td><td>6685</td><td>6876</td><td>6876</td><td>7067</td><td>7067</td><td>7258</td><td>7258</td><td>7449</td><td>7449</td><td>7640</td><td>7640</td><td>7831</td><td>7831</td><td>8022</td><td>8022</td><td>8213</td><td>8213</td><td>8404</td><td>8404</td><td>8595</td><td>8595</td><td>8786</td><td>8786</td><td>8977</td><td>8977</td><td>9168</td><td>9168</td><td>9359</td><td>9359</td><td>9550</td><td>9550</td><td>9741</td><td>9741</td><td>9932</td><td>9932</td><td>10123</td><td>10123</td><td>10314</td><td>10314</td><td>10505</td><td>10505</td><td>10696</td><td>10696</td><td>10887</td><td>10887</td><td>11078</td><td>11078</td><td>11269</td><td>11269</td><td>11460</td><td>11460</td><td>11651</td><td>11651</td><td>11842</td><td>11842</td><td>12033</td><td>12033</td><td>12224</td><td>12224</td><td>12415</td><td>12415</td><td>12606</td><td>12606</td><td>12797</td><td>12797</td><td>12988</td><td>12988</td><td>13179</td><td>13179</td><td>13370</td><td>13370</td><td>13561</td><td>13561</td><td>13752</td><td>13752</td><td>13943</td><td>13943</td><td>14134</td><td>14134</td><td>14325</td><td>14325</td><td>14516</td><td>14516</td><td>14707</td><td>14707</td><td>14898</td><td>14898</td><td>15089</td><td>15089</td><td>15280</td><td>15280</td><td>15471</td><td>15471</td><td>15662</td><td>15662</td><td>15853</td><td>15853</td><td>16044</td><td>16044</td><td>16235</td><td>16235</td><td>16426</td><td>16426</td><td>16617</td><td>16617</td><td>16808</td><td>16808</td><td>16999</td><td>16999</td><td>17190</td><td>17190</td><td>17381</td><td>17381</td><td>17572</td><td>17572</td><td>17763</td><td>17763</td><td>17954</td><td>17954</td><td>18145</td><td>18145</td><td>18336</td><td>18336</td></tr><tr><td>2</td><td>3</td><td>4</td><td>5</td><td>6</td><td>7</td><td>8</td><td>9</td><td>10</td><td>11</td><td>12</td><td>13</td><td>14</td><td>15</td><td>16</td><td>17</td><td>18</td><td>19</td><td>20</td><td>21</td><td>22</td><td>23</td><td>24</td><td>25</td><td>26</td><td>27</td><td>28</td><td>29</td><td>30</td><td>31</td><td>32</td><td>33</td><td>34</td><td>35</td><td>36</td><td>37</td><td>38</td><td>39</td><td>40</td><td>41</td><td>42</td><td>43</td><td>44</td><td>45</td><td>46</td><td>47</td><td>48</td><td>49</td><td>50</td><td>51</td><td>52</td><td>53</td><td>54</td><td>55</td><td>56</td><td>57</td><td>58</td><td>59</td><td>60</td><td>61</td><td>62</td><td>63</td><td>64</td><td>65</td><td>66</td><td>67</td><td>68</td><td>69</td><td>70</td><td>71</td><td>72</td><td>73</td><td>74</td><td>75</td><td>76</td><td>77</td><td>78</td><td>79</td><td>80</td><td>81</td><td>82</td><td>83</td><td>84</td><td>85</td><td>86</td><td>87</td><td>88</td><td>89</td><td>90</td><td>91</td><td>92</td><td>93</td><td>94</td><td>95</td><td>96</td><td>97</td><td>98</td><td>99</td><td>100</td><td>101</td><td>102</td><td>103</td><td>104</td><td>105</td><td>106</td><td>107</td><td>108</td><td>109</td><td>110</td><td>111</td><td>112</td><td>113</td><td>114</td><td>115</td><td>116</td><td>117</td><td>118</td><td>119</td><td>120</td><td>121</td><td>122</td><td>123</td><td>124</td><td>125</td><td>126</td><td>127</td><td>128</td><td>129</td><td>130</td><td>131</td><td>132</td><td>133</td><td>134</td><td>135</td><td>136</td><td>137</td><td>138</td><td>139</td><td>140</td><td>141</td><td>142</td><td>143</td><td>144</td><td>145</td><td>146</td><td>147</td><td>148</td><td>149</td><td>150</td><td>151</td><td>152</td><td>153</td><td>154</td><td>155</td><td>156</td><td>157</td><td>158</td><td>159</td><td>160</td><td>161</td><td>162</td><td>163</td><td>164</td><td>165</td><td>166</td><td>167</td><td>168</td><td>169</td><td>170</td><td>171</td><td>172</td><td>173</td><td>174</td><td>175</td><td>176</td><td>177</td><td>178</td><td>179</td><td>180</td><td>181</td><td>182</td><td>183</td><td>184</td><td>185</td><td>186</td><td>187</td><td>188</td><td>189</td><td>190</td><td>191</td></tr><tr><td>192</td><td>288</td><td>384</td><td>480</td><td>576</td><td>672</td><td>768</td><td>864</td><td>960</td><td>1056</td><td>1152</td><td>1248</td><td>1344</td><td>1440</td><td>1536</td><td>1632</td><td>1728</td><td>1824</td><td>1920</td><td>2016</td><td>2112</td><td>2208</td><td>2304</td><td>2400</td><td>2496</td><td>2592</td><td>2688</td><td>2784</td><td>2880</td><td>2976</td><td>3072</td><td>3168</td><td>3264</td><td>3360</td><td>3456</td><td>3552</td><td>3648</td><td>3744</td><td>3840</td><td>3936</td><td>4032</td><td>4128</td><td>4224</td><td>4320</td><td>4416</td><td>4512</td><td>4608</td><td>4704</td><td>4800</td><td>4896</td><td>4992</td><td>5088</td><td>5184</td><td>5280</td><td>5376</td><td>5472</td><td>5568</td><td>5664</td><td>5760</td><td>5856</td><td>5952</td><td>6048</td><td>6144</td><td>6240</td><td>6336</td><td>6432</td><td>6528</td><td>6624</td><td>6720</td><td>6816</td><td>6912</td><td>7008</td><td>7104</td><td>7200</td><td>7296</td><td>7392</td><td>7488</td><td>7584</td><td>7680</td><td>7776</td><td>7872</td><td>7968</td><td>8064</td><td>8160</td><td>8256</td><td>8352</td><td>8448</td><td>8544</td><td>8640</td><td>8736</td><td>8832</td><td>8928</td><td>9024</td><td>9120</td><td>9216</td><td>9312</td><td>9408</td><td>9504</td><td>9600</td><td>9696</td><td>9792</td><td>9888</td><td>9984</td><td>10080</td><td>10176</td><td>10272</td><td>10368</td><td>10464</td><td>10560</td><td>10656</td><td>10752</td><td>10848</td><td>10944</td><td>11040</td><td>11136</td><td>11232</td><td>11328</td><td>11424</td><td>11520</td><td>11616</td><td>11712</td><td>11808</td><td>11904</td><td>12000</td><td>12096</td><td>12192</td><td>12288</td><td>12384</td><td>12480</td><td>12576</td><td>12672</td><td>12768</td><td>12864</td><td>12960</td><td>13056</td><td>13152</td><td>13248</td><td>13344</td><td>13440</td><td>13536</td><td>13632</td><td>13728</td><td>13824</td><td>13920</td><td>14016</td><td>14112</td><td>14208</td><td>14304</td><td>14400</td><td>14496</td><td>14592</td><td>14688</td><td>14784</td><td>14880</td><td>14976</td><td>15072</td><td>15168</td><td>15264</td><td>15360</td><td>15456</td><td>15552</td><td>15648</td><td>15744</td><td>15840</td><td>15936</td><td>16032</td><td>16128</td><td>16224</td><td>16320</td><td>16416</td><td>16512</td><td>16608</td><td>16704</td><td>16800</td><td>16896</td><td>16992</td><td>17088</td><td>17184</td><td>17280</td><td>17376</td><td>17472</td><td>17568</td><td>17664</td><td>17760</td><td>17856</td><td>17952</td><td>18048</td><td>18144</td><td>18240</td><td>18336</td></tr><tr><td>190</td><td>94</td><td>189</td><td>93</td><td>188</td><td>92</td><td>187</td><td>91</td><td>186</td><td>90</td><td>185</td><td>89</td><td>184</td><td>88</td><td>183</td><td>87</td><td>182</td><td>86</td><td>181</td><td>85</td><td>180</td><td>84</td><td>179</td><td>83</td><td>178</td><td>82</td><td>177</td><td>81</td><td>176</td><td>80</td><td>175</td><td>79</td><td>174</td><td>78</td><td>173</td><td>77</td><td>172</td><td>76</td><td>171</td><td>75</td><td>170</td><td>74</td><td>169</td><td>73</td><td>168</td><td>72</td><td>167</td><td>71</td><td>166</td><td>70</td><td>165</td><td>69</td><td>164</td><td>68</td><td>163</td><td>67</td><td>162</td><td>66</td><td>161</td><td>65</td><td>160</td><td>64</td><td>159</td><td>63</td><td>158</td><td>62</td><td>157</td><td>61</td><td>156</td><td>60</td><td>155</td><td>59</td><td>154</td><td>58</td><td>153</td><td>57</td><td>152</td><td>56</td><td>151</td><td>55</td><td>150</td><td>54</td><td>149</td><td>53</td><td>148</td><td>52</td><td>147</td><td>51</td><td>146</td><td>50</td><td>145</td><td>49</td><td>144</td><td>48</td><td>143</td><td>47</td><td>142</td><td>46</td><td>141</td><td>45</td><td>140</td><td>44</td><td>139</td><td>43</td><td>138</td><td>42</td><td>137</td><td>41</td><td>136</td><td>40</td><td>135</td><td>39</td><td>134</td><td>38</td><td>133</td><td>37</td><td>132</td><td>36</td><td>131</td><td>35</td><td>130</td><td>34</td><td>129</td><td>33</td><td>128</td><td>32</td><td>127</td><td>31</td><td>126</td><td>30</td><td>125</td><td>29</td><td>124</td><td>28</td><td>123</td><td>27</td><td>122</td><td>26</td><td>121</td><td>25</td><td>120</td><td>24</td><td>119</td><td>23</td><td>118</td><td>22</td><td>117</td><td>21</td><td>116</td><td>20</td><td>115</td><td>19</td><td>114</td><td>18</td><td>113</td><td>17</td><td>112</td><td>16</td><td>111</td><td>15</td><td>110</td><td>14</td><td>109</td><td>13</td><td>108</td><td>12</td><td>107</td><td>11</td><td>106</td><td>10</td><td>105</td><td>9</td><td>104</td><td>8</td><td>103</td><td>7</td><td>102</td><td>6</td><td>101</td><td>5</td><td>100</td><td>4</td><td>99</td><td>3</td><td>98</td><td>2</td><td>97</td><td>1</td><td>96</td><td>0</td></tr></table>"
      ],
      "text/plain": [
       "<IPython.core.display.HTML object>"
      ]
     },
     "metadata": {},
     "output_type": "display_data"
    },
    {
     "name": "stdout",
     "output_type": "stream",
     "text": [
      "When p = 193 triangular = 18721 and partial triangular = 97\n"
     ]
    },
    {
     "data": {
      "text/html": [
       "<table><tr><td>2</td><td>2</td><td>3</td><td>3</td><td>4</td><td>4</td><td>5</td><td>5</td><td>6</td><td>6</td><td>7</td><td>7</td><td>8</td><td>8</td><td>9</td><td>9</td><td>10</td><td>10</td><td>11</td><td>11</td><td>12</td><td>12</td><td>13</td><td>13</td><td>14</td><td>14</td><td>15</td><td>15</td><td>16</td><td>16</td><td>17</td><td>17</td><td>18</td><td>18</td><td>19</td><td>19</td><td>20</td><td>20</td><td>21</td><td>21</td><td>22</td><td>22</td><td>23</td><td>23</td><td>24</td><td>24</td><td>25</td><td>25</td><td>26</td><td>26</td><td>27</td><td>27</td><td>28</td><td>28</td><td>29</td><td>29</td><td>30</td><td>30</td><td>31</td><td>31</td><td>32</td><td>32</td><td>33</td><td>33</td><td>34</td><td>34</td><td>35</td><td>35</td><td>36</td><td>36</td><td>37</td><td>37</td><td>38</td><td>38</td><td>39</td><td>39</td><td>40</td><td>40</td><td>41</td><td>41</td><td>42</td><td>42</td><td>43</td><td>43</td><td>44</td><td>44</td><td>45</td><td>45</td><td>46</td><td>46</td><td>47</td><td>47</td><td>48</td><td>48</td><td>49</td><td>49</td><td>50</td><td>50</td><td>51</td><td>51</td><td>52</td><td>52</td><td>53</td><td>53</td><td>54</td><td>54</td><td>55</td><td>55</td><td>56</td><td>56</td><td>57</td><td>57</td><td>58</td><td>58</td><td>59</td><td>59</td><td>60</td><td>60</td><td>61</td><td>61</td><td>62</td><td>62</td><td>63</td><td>63</td><td>64</td><td>64</td><td>65</td><td>65</td><td>66</td><td>66</td><td>67</td><td>67</td><td>68</td><td>68</td><td>69</td><td>69</td><td>70</td><td>70</td><td>71</td><td>71</td><td>72</td><td>72</td><td>73</td><td>73</td><td>74</td><td>74</td><td>75</td><td>75</td><td>76</td><td>76</td><td>77</td><td>77</td><td>78</td><td>78</td><td>79</td><td>79</td><td>80</td><td>80</td><td>81</td><td>81</td><td>82</td><td>82</td><td>83</td><td>83</td><td>84</td><td>84</td><td>85</td><td>85</td><td>86</td><td>86</td><td>87</td><td>87</td><td>88</td><td>88</td><td>89</td><td>89</td><td>90</td><td>90</td><td>91</td><td>91</td><td>92</td><td>92</td><td>93</td><td>93</td><td>94</td><td>94</td><td>95</td><td>95</td><td>96</td><td>96</td><td>97</td><td>97</td></tr><tr><td>386</td><td>386</td><td>579</td><td>579</td><td>772</td><td>772</td><td>965</td><td>965</td><td>1158</td><td>1158</td><td>1351</td><td>1351</td><td>1544</td><td>1544</td><td>1737</td><td>1737</td><td>1930</td><td>1930</td><td>2123</td><td>2123</td><td>2316</td><td>2316</td><td>2509</td><td>2509</td><td>2702</td><td>2702</td><td>2895</td><td>2895</td><td>3088</td><td>3088</td><td>3281</td><td>3281</td><td>3474</td><td>3474</td><td>3667</td><td>3667</td><td>3860</td><td>3860</td><td>4053</td><td>4053</td><td>4246</td><td>4246</td><td>4439</td><td>4439</td><td>4632</td><td>4632</td><td>4825</td><td>4825</td><td>5018</td><td>5018</td><td>5211</td><td>5211</td><td>5404</td><td>5404</td><td>5597</td><td>5597</td><td>5790</td><td>5790</td><td>5983</td><td>5983</td><td>6176</td><td>6176</td><td>6369</td><td>6369</td><td>6562</td><td>6562</td><td>6755</td><td>6755</td><td>6948</td><td>6948</td><td>7141</td><td>7141</td><td>7334</td><td>7334</td><td>7527</td><td>7527</td><td>7720</td><td>7720</td><td>7913</td><td>7913</td><td>8106</td><td>8106</td><td>8299</td><td>8299</td><td>8492</td><td>8492</td><td>8685</td><td>8685</td><td>8878</td><td>8878</td><td>9071</td><td>9071</td><td>9264</td><td>9264</td><td>9457</td><td>9457</td><td>9650</td><td>9650</td><td>9843</td><td>9843</td><td>10036</td><td>10036</td><td>10229</td><td>10229</td><td>10422</td><td>10422</td><td>10615</td><td>10615</td><td>10808</td><td>10808</td><td>11001</td><td>11001</td><td>11194</td><td>11194</td><td>11387</td><td>11387</td><td>11580</td><td>11580</td><td>11773</td><td>11773</td><td>11966</td><td>11966</td><td>12159</td><td>12159</td><td>12352</td><td>12352</td><td>12545</td><td>12545</td><td>12738</td><td>12738</td><td>12931</td><td>12931</td><td>13124</td><td>13124</td><td>13317</td><td>13317</td><td>13510</td><td>13510</td><td>13703</td><td>13703</td><td>13896</td><td>13896</td><td>14089</td><td>14089</td><td>14282</td><td>14282</td><td>14475</td><td>14475</td><td>14668</td><td>14668</td><td>14861</td><td>14861</td><td>15054</td><td>15054</td><td>15247</td><td>15247</td><td>15440</td><td>15440</td><td>15633</td><td>15633</td><td>15826</td><td>15826</td><td>16019</td><td>16019</td><td>16212</td><td>16212</td><td>16405</td><td>16405</td><td>16598</td><td>16598</td><td>16791</td><td>16791</td><td>16984</td><td>16984</td><td>17177</td><td>17177</td><td>17370</td><td>17370</td><td>17563</td><td>17563</td><td>17756</td><td>17756</td><td>17949</td><td>17949</td><td>18142</td><td>18142</td><td>18335</td><td>18335</td><td>18528</td><td>18528</td><td>18721</td><td>18721</td></tr><tr><td>2</td><td>3</td><td>4</td><td>5</td><td>6</td><td>7</td><td>8</td><td>9</td><td>10</td><td>11</td><td>12</td><td>13</td><td>14</td><td>15</td><td>16</td><td>17</td><td>18</td><td>19</td><td>20</td><td>21</td><td>22</td><td>23</td><td>24</td><td>25</td><td>26</td><td>27</td><td>28</td><td>29</td><td>30</td><td>31</td><td>32</td><td>33</td><td>34</td><td>35</td><td>36</td><td>37</td><td>38</td><td>39</td><td>40</td><td>41</td><td>42</td><td>43</td><td>44</td><td>45</td><td>46</td><td>47</td><td>48</td><td>49</td><td>50</td><td>51</td><td>52</td><td>53</td><td>54</td><td>55</td><td>56</td><td>57</td><td>58</td><td>59</td><td>60</td><td>61</td><td>62</td><td>63</td><td>64</td><td>65</td><td>66</td><td>67</td><td>68</td><td>69</td><td>70</td><td>71</td><td>72</td><td>73</td><td>74</td><td>75</td><td>76</td><td>77</td><td>78</td><td>79</td><td>80</td><td>81</td><td>82</td><td>83</td><td>84</td><td>85</td><td>86</td><td>87</td><td>88</td><td>89</td><td>90</td><td>91</td><td>92</td><td>93</td><td>94</td><td>95</td><td>96</td><td>97</td><td>98</td><td>99</td><td>100</td><td>101</td><td>102</td><td>103</td><td>104</td><td>105</td><td>106</td><td>107</td><td>108</td><td>109</td><td>110</td><td>111</td><td>112</td><td>113</td><td>114</td><td>115</td><td>116</td><td>117</td><td>118</td><td>119</td><td>120</td><td>121</td><td>122</td><td>123</td><td>124</td><td>125</td><td>126</td><td>127</td><td>128</td><td>129</td><td>130</td><td>131</td><td>132</td><td>133</td><td>134</td><td>135</td><td>136</td><td>137</td><td>138</td><td>139</td><td>140</td><td>141</td><td>142</td><td>143</td><td>144</td><td>145</td><td>146</td><td>147</td><td>148</td><td>149</td><td>150</td><td>151</td><td>152</td><td>153</td><td>154</td><td>155</td><td>156</td><td>157</td><td>158</td><td>159</td><td>160</td><td>161</td><td>162</td><td>163</td><td>164</td><td>165</td><td>166</td><td>167</td><td>168</td><td>169</td><td>170</td><td>171</td><td>172</td><td>173</td><td>174</td><td>175</td><td>176</td><td>177</td><td>178</td><td>179</td><td>180</td><td>181</td><td>182</td><td>183</td><td>184</td><td>185</td><td>186</td><td>187</td><td>188</td><td>189</td><td>190</td><td>191</td><td>192</td><td>193</td></tr><tr><td>194</td><td>291</td><td>388</td><td>485</td><td>582</td><td>679</td><td>776</td><td>873</td><td>970</td><td>1067</td><td>1164</td><td>1261</td><td>1358</td><td>1455</td><td>1552</td><td>1649</td><td>1746</td><td>1843</td><td>1940</td><td>2037</td><td>2134</td><td>2231</td><td>2328</td><td>2425</td><td>2522</td><td>2619</td><td>2716</td><td>2813</td><td>2910</td><td>3007</td><td>3104</td><td>3201</td><td>3298</td><td>3395</td><td>3492</td><td>3589</td><td>3686</td><td>3783</td><td>3880</td><td>3977</td><td>4074</td><td>4171</td><td>4268</td><td>4365</td><td>4462</td><td>4559</td><td>4656</td><td>4753</td><td>4850</td><td>4947</td><td>5044</td><td>5141</td><td>5238</td><td>5335</td><td>5432</td><td>5529</td><td>5626</td><td>5723</td><td>5820</td><td>5917</td><td>6014</td><td>6111</td><td>6208</td><td>6305</td><td>6402</td><td>6499</td><td>6596</td><td>6693</td><td>6790</td><td>6887</td><td>6984</td><td>7081</td><td>7178</td><td>7275</td><td>7372</td><td>7469</td><td>7566</td><td>7663</td><td>7760</td><td>7857</td><td>7954</td><td>8051</td><td>8148</td><td>8245</td><td>8342</td><td>8439</td><td>8536</td><td>8633</td><td>8730</td><td>8827</td><td>8924</td><td>9021</td><td>9118</td><td>9215</td><td>9312</td><td>9409</td><td>9506</td><td>9603</td><td>9700</td><td>9797</td><td>9894</td><td>9991</td><td>10088</td><td>10185</td><td>10282</td><td>10379</td><td>10476</td><td>10573</td><td>10670</td><td>10767</td><td>10864</td><td>10961</td><td>11058</td><td>11155</td><td>11252</td><td>11349</td><td>11446</td><td>11543</td><td>11640</td><td>11737</td><td>11834</td><td>11931</td><td>12028</td><td>12125</td><td>12222</td><td>12319</td><td>12416</td><td>12513</td><td>12610</td><td>12707</td><td>12804</td><td>12901</td><td>12998</td><td>13095</td><td>13192</td><td>13289</td><td>13386</td><td>13483</td><td>13580</td><td>13677</td><td>13774</td><td>13871</td><td>13968</td><td>14065</td><td>14162</td><td>14259</td><td>14356</td><td>14453</td><td>14550</td><td>14647</td><td>14744</td><td>14841</td><td>14938</td><td>15035</td><td>15132</td><td>15229</td><td>15326</td><td>15423</td><td>15520</td><td>15617</td><td>15714</td><td>15811</td><td>15908</td><td>16005</td><td>16102</td><td>16199</td><td>16296</td><td>16393</td><td>16490</td><td>16587</td><td>16684</td><td>16781</td><td>16878</td><td>16975</td><td>17072</td><td>17169</td><td>17266</td><td>17363</td><td>17460</td><td>17557</td><td>17654</td><td>17751</td><td>17848</td><td>17945</td><td>18042</td><td>18139</td><td>18236</td><td>18333</td><td>18430</td><td>18527</td><td>18624</td><td>18721</td></tr><tr><td>192</td><td>95</td><td>191</td><td>94</td><td>190</td><td>93</td><td>189</td><td>92</td><td>188</td><td>91</td><td>187</td><td>90</td><td>186</td><td>89</td><td>185</td><td>88</td><td>184</td><td>87</td><td>183</td><td>86</td><td>182</td><td>85</td><td>181</td><td>84</td><td>180</td><td>83</td><td>179</td><td>82</td><td>178</td><td>81</td><td>177</td><td>80</td><td>176</td><td>79</td><td>175</td><td>78</td><td>174</td><td>77</td><td>173</td><td>76</td><td>172</td><td>75</td><td>171</td><td>74</td><td>170</td><td>73</td><td>169</td><td>72</td><td>168</td><td>71</td><td>167</td><td>70</td><td>166</td><td>69</td><td>165</td><td>68</td><td>164</td><td>67</td><td>163</td><td>66</td><td>162</td><td>65</td><td>161</td><td>64</td><td>160</td><td>63</td><td>159</td><td>62</td><td>158</td><td>61</td><td>157</td><td>60</td><td>156</td><td>59</td><td>155</td><td>58</td><td>154</td><td>57</td><td>153</td><td>56</td><td>152</td><td>55</td><td>151</td><td>54</td><td>150</td><td>53</td><td>149</td><td>52</td><td>148</td><td>51</td><td>147</td><td>50</td><td>146</td><td>49</td><td>145</td><td>48</td><td>144</td><td>47</td><td>143</td><td>46</td><td>142</td><td>45</td><td>141</td><td>44</td><td>140</td><td>43</td><td>139</td><td>42</td><td>138</td><td>41</td><td>137</td><td>40</td><td>136</td><td>39</td><td>135</td><td>38</td><td>134</td><td>37</td><td>133</td><td>36</td><td>132</td><td>35</td><td>131</td><td>34</td><td>130</td><td>33</td><td>129</td><td>32</td><td>128</td><td>31</td><td>127</td><td>30</td><td>126</td><td>29</td><td>125</td><td>28</td><td>124</td><td>27</td><td>123</td><td>26</td><td>122</td><td>25</td><td>121</td><td>24</td><td>120</td><td>23</td><td>119</td><td>22</td><td>118</td><td>21</td><td>117</td><td>20</td><td>116</td><td>19</td><td>115</td><td>18</td><td>114</td><td>17</td><td>113</td><td>16</td><td>112</td><td>15</td><td>111</td><td>14</td><td>110</td><td>13</td><td>109</td><td>12</td><td>108</td><td>11</td><td>107</td><td>10</td><td>106</td><td>9</td><td>105</td><td>8</td><td>104</td><td>7</td><td>103</td><td>6</td><td>102</td><td>5</td><td>101</td><td>4</td><td>100</td><td>3</td><td>99</td><td>2</td><td>98</td><td>1</td><td>97</td><td>0</td></tr></table>"
      ],
      "text/plain": [
       "<IPython.core.display.HTML object>"
      ]
     },
     "metadata": {},
     "output_type": "display_data"
    },
    {
     "name": "stdout",
     "output_type": "stream",
     "text": [
      "When p = 195 triangular = 19110 and partial triangular = 98\n"
     ]
    },
    {
     "data": {
      "text/html": [
       "<table><tr><td>2</td><td>2</td><td>3</td><td>3</td><td>4</td><td>4</td><td>5</td><td>5</td><td>6</td><td>6</td><td>7</td><td>7</td><td>8</td><td>8</td><td>9</td><td>9</td><td>10</td><td>10</td><td>11</td><td>11</td><td>12</td><td>12</td><td>13</td><td>13</td><td>14</td><td>14</td><td>15</td><td>15</td><td>16</td><td>16</td><td>17</td><td>17</td><td>18</td><td>18</td><td>19</td><td>19</td><td>20</td><td>20</td><td>21</td><td>21</td><td>22</td><td>22</td><td>23</td><td>23</td><td>24</td><td>24</td><td>25</td><td>25</td><td>26</td><td>26</td><td>27</td><td>27</td><td>28</td><td>28</td><td>29</td><td>29</td><td>30</td><td>30</td><td>31</td><td>31</td><td>32</td><td>32</td><td>33</td><td>33</td><td>34</td><td>34</td><td>35</td><td>35</td><td>36</td><td>36</td><td>37</td><td>37</td><td>38</td><td>38</td><td>39</td><td>39</td><td>40</td><td>40</td><td>41</td><td>41</td><td>42</td><td>42</td><td>43</td><td>43</td><td>44</td><td>44</td><td>45</td><td>45</td><td>46</td><td>46</td><td>47</td><td>47</td><td>48</td><td>48</td><td>49</td><td>49</td><td>50</td><td>50</td><td>51</td><td>51</td><td>52</td><td>52</td><td>53</td><td>53</td><td>54</td><td>54</td><td>55</td><td>55</td><td>56</td><td>56</td><td>57</td><td>57</td><td>58</td><td>58</td><td>59</td><td>59</td><td>60</td><td>60</td><td>61</td><td>61</td><td>62</td><td>62</td><td>63</td><td>63</td><td>64</td><td>64</td><td>65</td><td>65</td><td>66</td><td>66</td><td>67</td><td>67</td><td>68</td><td>68</td><td>69</td><td>69</td><td>70</td><td>70</td><td>71</td><td>71</td><td>72</td><td>72</td><td>73</td><td>73</td><td>74</td><td>74</td><td>75</td><td>75</td><td>76</td><td>76</td><td>77</td><td>77</td><td>78</td><td>78</td><td>79</td><td>79</td><td>80</td><td>80</td><td>81</td><td>81</td><td>82</td><td>82</td><td>83</td><td>83</td><td>84</td><td>84</td><td>85</td><td>85</td><td>86</td><td>86</td><td>87</td><td>87</td><td>88</td><td>88</td><td>89</td><td>89</td><td>90</td><td>90</td><td>91</td><td>91</td><td>92</td><td>92</td><td>93</td><td>93</td><td>94</td><td>94</td><td>95</td><td>95</td><td>96</td><td>96</td><td>97</td><td>97</td><td>98</td><td>98</td></tr><tr><td>390</td><td>390</td><td>585</td><td>585</td><td>780</td><td>780</td><td>975</td><td>975</td><td>1170</td><td>1170</td><td>1365</td><td>1365</td><td>1560</td><td>1560</td><td>1755</td><td>1755</td><td>1950</td><td>1950</td><td>2145</td><td>2145</td><td>2340</td><td>2340</td><td>2535</td><td>2535</td><td>2730</td><td>2730</td><td>2925</td><td>2925</td><td>3120</td><td>3120</td><td>3315</td><td>3315</td><td>3510</td><td>3510</td><td>3705</td><td>3705</td><td>3900</td><td>3900</td><td>4095</td><td>4095</td><td>4290</td><td>4290</td><td>4485</td><td>4485</td><td>4680</td><td>4680</td><td>4875</td><td>4875</td><td>5070</td><td>5070</td><td>5265</td><td>5265</td><td>5460</td><td>5460</td><td>5655</td><td>5655</td><td>5850</td><td>5850</td><td>6045</td><td>6045</td><td>6240</td><td>6240</td><td>6435</td><td>6435</td><td>6630</td><td>6630</td><td>6825</td><td>6825</td><td>7020</td><td>7020</td><td>7215</td><td>7215</td><td>7410</td><td>7410</td><td>7605</td><td>7605</td><td>7800</td><td>7800</td><td>7995</td><td>7995</td><td>8190</td><td>8190</td><td>8385</td><td>8385</td><td>8580</td><td>8580</td><td>8775</td><td>8775</td><td>8970</td><td>8970</td><td>9165</td><td>9165</td><td>9360</td><td>9360</td><td>9555</td><td>9555</td><td>9750</td><td>9750</td><td>9945</td><td>9945</td><td>10140</td><td>10140</td><td>10335</td><td>10335</td><td>10530</td><td>10530</td><td>10725</td><td>10725</td><td>10920</td><td>10920</td><td>11115</td><td>11115</td><td>11310</td><td>11310</td><td>11505</td><td>11505</td><td>11700</td><td>11700</td><td>11895</td><td>11895</td><td>12090</td><td>12090</td><td>12285</td><td>12285</td><td>12480</td><td>12480</td><td>12675</td><td>12675</td><td>12870</td><td>12870</td><td>13065</td><td>13065</td><td>13260</td><td>13260</td><td>13455</td><td>13455</td><td>13650</td><td>13650</td><td>13845</td><td>13845</td><td>14040</td><td>14040</td><td>14235</td><td>14235</td><td>14430</td><td>14430</td><td>14625</td><td>14625</td><td>14820</td><td>14820</td><td>15015</td><td>15015</td><td>15210</td><td>15210</td><td>15405</td><td>15405</td><td>15600</td><td>15600</td><td>15795</td><td>15795</td><td>15990</td><td>15990</td><td>16185</td><td>16185</td><td>16380</td><td>16380</td><td>16575</td><td>16575</td><td>16770</td><td>16770</td><td>16965</td><td>16965</td><td>17160</td><td>17160</td><td>17355</td><td>17355</td><td>17550</td><td>17550</td><td>17745</td><td>17745</td><td>17940</td><td>17940</td><td>18135</td><td>18135</td><td>18330</td><td>18330</td><td>18525</td><td>18525</td><td>18720</td><td>18720</td><td>18915</td><td>18915</td><td>19110</td><td>19110</td></tr><tr><td>2</td><td>3</td><td>4</td><td>5</td><td>6</td><td>7</td><td>8</td><td>9</td><td>10</td><td>11</td><td>12</td><td>13</td><td>14</td><td>15</td><td>16</td><td>17</td><td>18</td><td>19</td><td>20</td><td>21</td><td>22</td><td>23</td><td>24</td><td>25</td><td>26</td><td>27</td><td>28</td><td>29</td><td>30</td><td>31</td><td>32</td><td>33</td><td>34</td><td>35</td><td>36</td><td>37</td><td>38</td><td>39</td><td>40</td><td>41</td><td>42</td><td>43</td><td>44</td><td>45</td><td>46</td><td>47</td><td>48</td><td>49</td><td>50</td><td>51</td><td>52</td><td>53</td><td>54</td><td>55</td><td>56</td><td>57</td><td>58</td><td>59</td><td>60</td><td>61</td><td>62</td><td>63</td><td>64</td><td>65</td><td>66</td><td>67</td><td>68</td><td>69</td><td>70</td><td>71</td><td>72</td><td>73</td><td>74</td><td>75</td><td>76</td><td>77</td><td>78</td><td>79</td><td>80</td><td>81</td><td>82</td><td>83</td><td>84</td><td>85</td><td>86</td><td>87</td><td>88</td><td>89</td><td>90</td><td>91</td><td>92</td><td>93</td><td>94</td><td>95</td><td>96</td><td>97</td><td>98</td><td>99</td><td>100</td><td>101</td><td>102</td><td>103</td><td>104</td><td>105</td><td>106</td><td>107</td><td>108</td><td>109</td><td>110</td><td>111</td><td>112</td><td>113</td><td>114</td><td>115</td><td>116</td><td>117</td><td>118</td><td>119</td><td>120</td><td>121</td><td>122</td><td>123</td><td>124</td><td>125</td><td>126</td><td>127</td><td>128</td><td>129</td><td>130</td><td>131</td><td>132</td><td>133</td><td>134</td><td>135</td><td>136</td><td>137</td><td>138</td><td>139</td><td>140</td><td>141</td><td>142</td><td>143</td><td>144</td><td>145</td><td>146</td><td>147</td><td>148</td><td>149</td><td>150</td><td>151</td><td>152</td><td>153</td><td>154</td><td>155</td><td>156</td><td>157</td><td>158</td><td>159</td><td>160</td><td>161</td><td>162</td><td>163</td><td>164</td><td>165</td><td>166</td><td>167</td><td>168</td><td>169</td><td>170</td><td>171</td><td>172</td><td>173</td><td>174</td><td>175</td><td>176</td><td>177</td><td>178</td><td>179</td><td>180</td><td>181</td><td>182</td><td>183</td><td>184</td><td>185</td><td>186</td><td>187</td><td>188</td><td>189</td><td>190</td><td>191</td><td>192</td><td>193</td><td>194</td><td>195</td></tr><tr><td>196</td><td>294</td><td>392</td><td>490</td><td>588</td><td>686</td><td>784</td><td>882</td><td>980</td><td>1078</td><td>1176</td><td>1274</td><td>1372</td><td>1470</td><td>1568</td><td>1666</td><td>1764</td><td>1862</td><td>1960</td><td>2058</td><td>2156</td><td>2254</td><td>2352</td><td>2450</td><td>2548</td><td>2646</td><td>2744</td><td>2842</td><td>2940</td><td>3038</td><td>3136</td><td>3234</td><td>3332</td><td>3430</td><td>3528</td><td>3626</td><td>3724</td><td>3822</td><td>3920</td><td>4018</td><td>4116</td><td>4214</td><td>4312</td><td>4410</td><td>4508</td><td>4606</td><td>4704</td><td>4802</td><td>4900</td><td>4998</td><td>5096</td><td>5194</td><td>5292</td><td>5390</td><td>5488</td><td>5586</td><td>5684</td><td>5782</td><td>5880</td><td>5978</td><td>6076</td><td>6174</td><td>6272</td><td>6370</td><td>6468</td><td>6566</td><td>6664</td><td>6762</td><td>6860</td><td>6958</td><td>7056</td><td>7154</td><td>7252</td><td>7350</td><td>7448</td><td>7546</td><td>7644</td><td>7742</td><td>7840</td><td>7938</td><td>8036</td><td>8134</td><td>8232</td><td>8330</td><td>8428</td><td>8526</td><td>8624</td><td>8722</td><td>8820</td><td>8918</td><td>9016</td><td>9114</td><td>9212</td><td>9310</td><td>9408</td><td>9506</td><td>9604</td><td>9702</td><td>9800</td><td>9898</td><td>9996</td><td>10094</td><td>10192</td><td>10290</td><td>10388</td><td>10486</td><td>10584</td><td>10682</td><td>10780</td><td>10878</td><td>10976</td><td>11074</td><td>11172</td><td>11270</td><td>11368</td><td>11466</td><td>11564</td><td>11662</td><td>11760</td><td>11858</td><td>11956</td><td>12054</td><td>12152</td><td>12250</td><td>12348</td><td>12446</td><td>12544</td><td>12642</td><td>12740</td><td>12838</td><td>12936</td><td>13034</td><td>13132</td><td>13230</td><td>13328</td><td>13426</td><td>13524</td><td>13622</td><td>13720</td><td>13818</td><td>13916</td><td>14014</td><td>14112</td><td>14210</td><td>14308</td><td>14406</td><td>14504</td><td>14602</td><td>14700</td><td>14798</td><td>14896</td><td>14994</td><td>15092</td><td>15190</td><td>15288</td><td>15386</td><td>15484</td><td>15582</td><td>15680</td><td>15778</td><td>15876</td><td>15974</td><td>16072</td><td>16170</td><td>16268</td><td>16366</td><td>16464</td><td>16562</td><td>16660</td><td>16758</td><td>16856</td><td>16954</td><td>17052</td><td>17150</td><td>17248</td><td>17346</td><td>17444</td><td>17542</td><td>17640</td><td>17738</td><td>17836</td><td>17934</td><td>18032</td><td>18130</td><td>18228</td><td>18326</td><td>18424</td><td>18522</td><td>18620</td><td>18718</td><td>18816</td><td>18914</td><td>19012</td><td>19110</td></tr><tr><td>194</td><td>96</td><td>193</td><td>95</td><td>192</td><td>94</td><td>191</td><td>93</td><td>190</td><td>92</td><td>189</td><td>91</td><td>188</td><td>90</td><td>187</td><td>89</td><td>186</td><td>88</td><td>185</td><td>87</td><td>184</td><td>86</td><td>183</td><td>85</td><td>182</td><td>84</td><td>181</td><td>83</td><td>180</td><td>82</td><td>179</td><td>81</td><td>178</td><td>80</td><td>177</td><td>79</td><td>176</td><td>78</td><td>175</td><td>77</td><td>174</td><td>76</td><td>173</td><td>75</td><td>172</td><td>74</td><td>171</td><td>73</td><td>170</td><td>72</td><td>169</td><td>71</td><td>168</td><td>70</td><td>167</td><td>69</td><td>166</td><td>68</td><td>165</td><td>67</td><td>164</td><td>66</td><td>163</td><td>65</td><td>162</td><td>64</td><td>161</td><td>63</td><td>160</td><td>62</td><td>159</td><td>61</td><td>158</td><td>60</td><td>157</td><td>59</td><td>156</td><td>58</td><td>155</td><td>57</td><td>154</td><td>56</td><td>153</td><td>55</td><td>152</td><td>54</td><td>151</td><td>53</td><td>150</td><td>52</td><td>149</td><td>51</td><td>148</td><td>50</td><td>147</td><td>49</td><td>146</td><td>48</td><td>145</td><td>47</td><td>144</td><td>46</td><td>143</td><td>45</td><td>142</td><td>44</td><td>141</td><td>43</td><td>140</td><td>42</td><td>139</td><td>41</td><td>138</td><td>40</td><td>137</td><td>39</td><td>136</td><td>38</td><td>135</td><td>37</td><td>134</td><td>36</td><td>133</td><td>35</td><td>132</td><td>34</td><td>131</td><td>33</td><td>130</td><td>32</td><td>129</td><td>31</td><td>128</td><td>30</td><td>127</td><td>29</td><td>126</td><td>28</td><td>125</td><td>27</td><td>124</td><td>26</td><td>123</td><td>25</td><td>122</td><td>24</td><td>121</td><td>23</td><td>120</td><td>22</td><td>119</td><td>21</td><td>118</td><td>20</td><td>117</td><td>19</td><td>116</td><td>18</td><td>115</td><td>17</td><td>114</td><td>16</td><td>113</td><td>15</td><td>112</td><td>14</td><td>111</td><td>13</td><td>110</td><td>12</td><td>109</td><td>11</td><td>108</td><td>10</td><td>107</td><td>9</td><td>106</td><td>8</td><td>105</td><td>7</td><td>104</td><td>6</td><td>103</td><td>5</td><td>102</td><td>4</td><td>101</td><td>3</td><td>100</td><td>2</td><td>99</td><td>1</td><td>98</td><td>0</td></tr></table>"
      ],
      "text/plain": [
       "<IPython.core.display.HTML object>"
      ]
     },
     "metadata": {},
     "output_type": "display_data"
    }
   ],
   "source": [
    "for p in range(145, 196, 2):\n",
    "    t = triangular(p)\n",
    "    partialt = partial_triangular(p)\n",
    "    \n",
    "    sequences = [[],[],[],[],[]]\n",
    "    \n",
    "    for x1 in range (2, partialt + 1):\n",
    "        sequences[0].append(x1)\n",
    "        #for sake of matching with second sequence will append x1 twice\n",
    "        sequences[0].append(x1)\n",
    "    for x2 in sequences[0]:\n",
    "        sequences[1].append(p * x2)\n",
    "    for x3 in range (2, p +1):\n",
    "        sequences[2].append(x3)\n",
    "    for x4 in sequences[2]:\n",
    "        sequences[3].append(x4 * partialt)\n",
    "    for x5 in range(0, len(sequences[0])):\n",
    "        sequences[4].append(sequences[1][x5] % sequences[3][x5])\n",
    "    \n",
    "    print(\"When p = {} triangular = {} and partial triangular = {}\".format(p, t, partialt))\n",
    "    \n",
    "    display(HTML(\n",
    "        '<table><tr>{}</tr></table>'.format(\n",
    "            '</tr><tr>'.join(\n",
    "                '<td>{}</td>'.format('</td><td>'.join(str(_) for _ in row)) for row in sequences)\n",
    "            )\n",
    "     ))"
   ]
  },
  {
   "cell_type": "markdown",
   "metadata": {},
   "source": [
    "Observe that the modulo row is composed by 2 parts, where partial triangular row is pair the first modulo of the sequence is equal to p-1 and keep up decrementing by 1 until it reach partial triangular value at the end of the table.\n",
    "\n",
    "Where partial triangular row is odd the first modulo of the sequence is equal to pt - 2 and keeps decrementing by 1 until reach 0 at the end of the table.\n",
    "\n",
    "For the scope of this particular document will only focus on the odd part of the sequence which will also reduce greately the complexity of generating the sequence, so next table will only include the partial triangular row when value is odd and the modulo sequence row."
   ]
  },
  {
   "cell_type": "code",
   "execution_count": 6,
   "metadata": {
    "scrolled": false
   },
   "outputs": [
    {
     "name": "stdout",
     "output_type": "stream",
     "text": [
      "When p = 145 triangular = 19110 and partial triangular = 73\n"
     ]
    },
    {
     "data": {
      "text/html": [
       "<table><tr><td>3</td><td>5</td><td>7</td><td>9</td><td>11</td><td>13</td><td>15</td><td>17</td><td>19</td><td>21</td><td>23</td><td>25</td><td>27</td><td>29</td><td>31</td><td>33</td><td>35</td><td>37</td><td>39</td><td>41</td><td>43</td><td>45</td><td>47</td><td>49</td><td>51</td><td>53</td><td>55</td><td>57</td><td>59</td><td>61</td><td>63</td><td>65</td><td>67</td><td>69</td><td>71</td><td>73</td><td>75</td><td>77</td><td>79</td><td>81</td><td>83</td><td>85</td><td>87</td><td>89</td><td>91</td><td>93</td><td>95</td><td>97</td><td>99</td><td>101</td><td>103</td><td>105</td><td>107</td><td>109</td><td>111</td><td>113</td><td>115</td><td>117</td><td>119</td><td>121</td><td>123</td><td>125</td><td>127</td><td>129</td><td>131</td><td>133</td><td>135</td><td>137</td><td>139</td><td>141</td><td>143</td><td>145</td></tr><tr><td>71</td><td>70</td><td>69</td><td>68</td><td>67</td><td>66</td><td>65</td><td>64</td><td>63</td><td>62</td><td>61</td><td>60</td><td>59</td><td>58</td><td>57</td><td>56</td><td>55</td><td>54</td><td>53</td><td>52</td><td>51</td><td>50</td><td>49</td><td>48</td><td>47</td><td>46</td><td>45</td><td>44</td><td>43</td><td>42</td><td>41</td><td>40</td><td>39</td><td>38</td><td>37</td><td>36</td><td>35</td><td>34</td><td>33</td><td>32</td><td>31</td><td>30</td><td>29</td><td>28</td><td>27</td><td>26</td><td>25</td><td>24</td><td>23</td><td>22</td><td>21</td><td>20</td><td>19</td><td>18</td><td>17</td><td>16</td><td>15</td><td>14</td><td>13</td><td>12</td><td>11</td><td>10</td><td>9</td><td>8</td><td>7</td><td>6</td><td>5</td><td>4</td><td>3</td><td>2</td><td>1</td><td>0</td></tr></table>"
      ],
      "text/plain": [
       "<IPython.core.display.HTML object>"
      ]
     },
     "metadata": {},
     "output_type": "display_data"
    },
    {
     "name": "stdout",
     "output_type": "stream",
     "text": [
      "When p = 147 triangular = 19110 and partial triangular = 74\n"
     ]
    },
    {
     "data": {
      "text/html": [
       "<table><tr><td>3</td><td>5</td><td>7</td><td>9</td><td>11</td><td>13</td><td>15</td><td>17</td><td>19</td><td>21</td><td>23</td><td>25</td><td>27</td><td>29</td><td>31</td><td>33</td><td>35</td><td>37</td><td>39</td><td>41</td><td>43</td><td>45</td><td>47</td><td>49</td><td>51</td><td>53</td><td>55</td><td>57</td><td>59</td><td>61</td><td>63</td><td>65</td><td>67</td><td>69</td><td>71</td><td>73</td><td>75</td><td>77</td><td>79</td><td>81</td><td>83</td><td>85</td><td>87</td><td>89</td><td>91</td><td>93</td><td>95</td><td>97</td><td>99</td><td>101</td><td>103</td><td>105</td><td>107</td><td>109</td><td>111</td><td>113</td><td>115</td><td>117</td><td>119</td><td>121</td><td>123</td><td>125</td><td>127</td><td>129</td><td>131</td><td>133</td><td>135</td><td>137</td><td>139</td><td>141</td><td>143</td><td>145</td><td>147</td></tr><tr><td>72</td><td>71</td><td>70</td><td>69</td><td>68</td><td>67</td><td>66</td><td>65</td><td>64</td><td>63</td><td>62</td><td>61</td><td>60</td><td>59</td><td>58</td><td>57</td><td>56</td><td>55</td><td>54</td><td>53</td><td>52</td><td>51</td><td>50</td><td>49</td><td>48</td><td>47</td><td>46</td><td>45</td><td>44</td><td>43</td><td>42</td><td>41</td><td>40</td><td>39</td><td>38</td><td>37</td><td>36</td><td>35</td><td>34</td><td>33</td><td>32</td><td>31</td><td>30</td><td>29</td><td>28</td><td>27</td><td>26</td><td>25</td><td>24</td><td>23</td><td>22</td><td>21</td><td>20</td><td>19</td><td>18</td><td>17</td><td>16</td><td>15</td><td>14</td><td>13</td><td>12</td><td>11</td><td>10</td><td>9</td><td>8</td><td>7</td><td>6</td><td>5</td><td>4</td><td>3</td><td>2</td><td>1</td><td>0</td></tr></table>"
      ],
      "text/plain": [
       "<IPython.core.display.HTML object>"
      ]
     },
     "metadata": {},
     "output_type": "display_data"
    },
    {
     "name": "stdout",
     "output_type": "stream",
     "text": [
      "When p = 149 triangular = 19110 and partial triangular = 75\n"
     ]
    },
    {
     "data": {
      "text/html": [
       "<table><tr><td>3</td><td>5</td><td>7</td><td>9</td><td>11</td><td>13</td><td>15</td><td>17</td><td>19</td><td>21</td><td>23</td><td>25</td><td>27</td><td>29</td><td>31</td><td>33</td><td>35</td><td>37</td><td>39</td><td>41</td><td>43</td><td>45</td><td>47</td><td>49</td><td>51</td><td>53</td><td>55</td><td>57</td><td>59</td><td>61</td><td>63</td><td>65</td><td>67</td><td>69</td><td>71</td><td>73</td><td>75</td><td>77</td><td>79</td><td>81</td><td>83</td><td>85</td><td>87</td><td>89</td><td>91</td><td>93</td><td>95</td><td>97</td><td>99</td><td>101</td><td>103</td><td>105</td><td>107</td><td>109</td><td>111</td><td>113</td><td>115</td><td>117</td><td>119</td><td>121</td><td>123</td><td>125</td><td>127</td><td>129</td><td>131</td><td>133</td><td>135</td><td>137</td><td>139</td><td>141</td><td>143</td><td>145</td><td>147</td><td>149</td></tr><tr><td>73</td><td>72</td><td>71</td><td>70</td><td>69</td><td>68</td><td>67</td><td>66</td><td>65</td><td>64</td><td>63</td><td>62</td><td>61</td><td>60</td><td>59</td><td>58</td><td>57</td><td>56</td><td>55</td><td>54</td><td>53</td><td>52</td><td>51</td><td>50</td><td>49</td><td>48</td><td>47</td><td>46</td><td>45</td><td>44</td><td>43</td><td>42</td><td>41</td><td>40</td><td>39</td><td>38</td><td>37</td><td>36</td><td>35</td><td>34</td><td>33</td><td>32</td><td>31</td><td>30</td><td>29</td><td>28</td><td>27</td><td>26</td><td>25</td><td>24</td><td>23</td><td>22</td><td>21</td><td>20</td><td>19</td><td>18</td><td>17</td><td>16</td><td>15</td><td>14</td><td>13</td><td>12</td><td>11</td><td>10</td><td>9</td><td>8</td><td>7</td><td>6</td><td>5</td><td>4</td><td>3</td><td>2</td><td>1</td><td>0</td></tr></table>"
      ],
      "text/plain": [
       "<IPython.core.display.HTML object>"
      ]
     },
     "metadata": {},
     "output_type": "display_data"
    },
    {
     "name": "stdout",
     "output_type": "stream",
     "text": [
      "When p = 151 triangular = 19110 and partial triangular = 76\n"
     ]
    },
    {
     "data": {
      "text/html": [
       "<table><tr><td>3</td><td>5</td><td>7</td><td>9</td><td>11</td><td>13</td><td>15</td><td>17</td><td>19</td><td>21</td><td>23</td><td>25</td><td>27</td><td>29</td><td>31</td><td>33</td><td>35</td><td>37</td><td>39</td><td>41</td><td>43</td><td>45</td><td>47</td><td>49</td><td>51</td><td>53</td><td>55</td><td>57</td><td>59</td><td>61</td><td>63</td><td>65</td><td>67</td><td>69</td><td>71</td><td>73</td><td>75</td><td>77</td><td>79</td><td>81</td><td>83</td><td>85</td><td>87</td><td>89</td><td>91</td><td>93</td><td>95</td><td>97</td><td>99</td><td>101</td><td>103</td><td>105</td><td>107</td><td>109</td><td>111</td><td>113</td><td>115</td><td>117</td><td>119</td><td>121</td><td>123</td><td>125</td><td>127</td><td>129</td><td>131</td><td>133</td><td>135</td><td>137</td><td>139</td><td>141</td><td>143</td><td>145</td><td>147</td><td>149</td><td>151</td></tr><tr><td>74</td><td>73</td><td>72</td><td>71</td><td>70</td><td>69</td><td>68</td><td>67</td><td>66</td><td>65</td><td>64</td><td>63</td><td>62</td><td>61</td><td>60</td><td>59</td><td>58</td><td>57</td><td>56</td><td>55</td><td>54</td><td>53</td><td>52</td><td>51</td><td>50</td><td>49</td><td>48</td><td>47</td><td>46</td><td>45</td><td>44</td><td>43</td><td>42</td><td>41</td><td>40</td><td>39</td><td>38</td><td>37</td><td>36</td><td>35</td><td>34</td><td>33</td><td>32</td><td>31</td><td>30</td><td>29</td><td>28</td><td>27</td><td>26</td><td>25</td><td>24</td><td>23</td><td>22</td><td>21</td><td>20</td><td>19</td><td>18</td><td>17</td><td>16</td><td>15</td><td>14</td><td>13</td><td>12</td><td>11</td><td>10</td><td>9</td><td>8</td><td>7</td><td>6</td><td>5</td><td>4</td><td>3</td><td>2</td><td>1</td><td>0</td></tr></table>"
      ],
      "text/plain": [
       "<IPython.core.display.HTML object>"
      ]
     },
     "metadata": {},
     "output_type": "display_data"
    },
    {
     "name": "stdout",
     "output_type": "stream",
     "text": [
      "When p = 153 triangular = 19110 and partial triangular = 77\n"
     ]
    },
    {
     "data": {
      "text/html": [
       "<table><tr><td>3</td><td>5</td><td>7</td><td>9</td><td>11</td><td>13</td><td>15</td><td>17</td><td>19</td><td>21</td><td>23</td><td>25</td><td>27</td><td>29</td><td>31</td><td>33</td><td>35</td><td>37</td><td>39</td><td>41</td><td>43</td><td>45</td><td>47</td><td>49</td><td>51</td><td>53</td><td>55</td><td>57</td><td>59</td><td>61</td><td>63</td><td>65</td><td>67</td><td>69</td><td>71</td><td>73</td><td>75</td><td>77</td><td>79</td><td>81</td><td>83</td><td>85</td><td>87</td><td>89</td><td>91</td><td>93</td><td>95</td><td>97</td><td>99</td><td>101</td><td>103</td><td>105</td><td>107</td><td>109</td><td>111</td><td>113</td><td>115</td><td>117</td><td>119</td><td>121</td><td>123</td><td>125</td><td>127</td><td>129</td><td>131</td><td>133</td><td>135</td><td>137</td><td>139</td><td>141</td><td>143</td><td>145</td><td>147</td><td>149</td><td>151</td><td>153</td></tr><tr><td>75</td><td>74</td><td>73</td><td>72</td><td>71</td><td>70</td><td>69</td><td>68</td><td>67</td><td>66</td><td>65</td><td>64</td><td>63</td><td>62</td><td>61</td><td>60</td><td>59</td><td>58</td><td>57</td><td>56</td><td>55</td><td>54</td><td>53</td><td>52</td><td>51</td><td>50</td><td>49</td><td>48</td><td>47</td><td>46</td><td>45</td><td>44</td><td>43</td><td>42</td><td>41</td><td>40</td><td>39</td><td>38</td><td>37</td><td>36</td><td>35</td><td>34</td><td>33</td><td>32</td><td>31</td><td>30</td><td>29</td><td>28</td><td>27</td><td>26</td><td>25</td><td>24</td><td>23</td><td>22</td><td>21</td><td>20</td><td>19</td><td>18</td><td>17</td><td>16</td><td>15</td><td>14</td><td>13</td><td>12</td><td>11</td><td>10</td><td>9</td><td>8</td><td>7</td><td>6</td><td>5</td><td>4</td><td>3</td><td>2</td><td>1</td><td>0</td></tr></table>"
      ],
      "text/plain": [
       "<IPython.core.display.HTML object>"
      ]
     },
     "metadata": {},
     "output_type": "display_data"
    },
    {
     "name": "stdout",
     "output_type": "stream",
     "text": [
      "When p = 155 triangular = 19110 and partial triangular = 78\n"
     ]
    },
    {
     "data": {
      "text/html": [
       "<table><tr><td>3</td><td>5</td><td>7</td><td>9</td><td>11</td><td>13</td><td>15</td><td>17</td><td>19</td><td>21</td><td>23</td><td>25</td><td>27</td><td>29</td><td>31</td><td>33</td><td>35</td><td>37</td><td>39</td><td>41</td><td>43</td><td>45</td><td>47</td><td>49</td><td>51</td><td>53</td><td>55</td><td>57</td><td>59</td><td>61</td><td>63</td><td>65</td><td>67</td><td>69</td><td>71</td><td>73</td><td>75</td><td>77</td><td>79</td><td>81</td><td>83</td><td>85</td><td>87</td><td>89</td><td>91</td><td>93</td><td>95</td><td>97</td><td>99</td><td>101</td><td>103</td><td>105</td><td>107</td><td>109</td><td>111</td><td>113</td><td>115</td><td>117</td><td>119</td><td>121</td><td>123</td><td>125</td><td>127</td><td>129</td><td>131</td><td>133</td><td>135</td><td>137</td><td>139</td><td>141</td><td>143</td><td>145</td><td>147</td><td>149</td><td>151</td><td>153</td><td>155</td></tr><tr><td>76</td><td>75</td><td>74</td><td>73</td><td>72</td><td>71</td><td>70</td><td>69</td><td>68</td><td>67</td><td>66</td><td>65</td><td>64</td><td>63</td><td>62</td><td>61</td><td>60</td><td>59</td><td>58</td><td>57</td><td>56</td><td>55</td><td>54</td><td>53</td><td>52</td><td>51</td><td>50</td><td>49</td><td>48</td><td>47</td><td>46</td><td>45</td><td>44</td><td>43</td><td>42</td><td>41</td><td>40</td><td>39</td><td>38</td><td>37</td><td>36</td><td>35</td><td>34</td><td>33</td><td>32</td><td>31</td><td>30</td><td>29</td><td>28</td><td>27</td><td>26</td><td>25</td><td>24</td><td>23</td><td>22</td><td>21</td><td>20</td><td>19</td><td>18</td><td>17</td><td>16</td><td>15</td><td>14</td><td>13</td><td>12</td><td>11</td><td>10</td><td>9</td><td>8</td><td>7</td><td>6</td><td>5</td><td>4</td><td>3</td><td>2</td><td>1</td><td>0</td></tr></table>"
      ],
      "text/plain": [
       "<IPython.core.display.HTML object>"
      ]
     },
     "metadata": {},
     "output_type": "display_data"
    },
    {
     "name": "stdout",
     "output_type": "stream",
     "text": [
      "When p = 157 triangular = 19110 and partial triangular = 79\n"
     ]
    },
    {
     "data": {
      "text/html": [
       "<table><tr><td>3</td><td>5</td><td>7</td><td>9</td><td>11</td><td>13</td><td>15</td><td>17</td><td>19</td><td>21</td><td>23</td><td>25</td><td>27</td><td>29</td><td>31</td><td>33</td><td>35</td><td>37</td><td>39</td><td>41</td><td>43</td><td>45</td><td>47</td><td>49</td><td>51</td><td>53</td><td>55</td><td>57</td><td>59</td><td>61</td><td>63</td><td>65</td><td>67</td><td>69</td><td>71</td><td>73</td><td>75</td><td>77</td><td>79</td><td>81</td><td>83</td><td>85</td><td>87</td><td>89</td><td>91</td><td>93</td><td>95</td><td>97</td><td>99</td><td>101</td><td>103</td><td>105</td><td>107</td><td>109</td><td>111</td><td>113</td><td>115</td><td>117</td><td>119</td><td>121</td><td>123</td><td>125</td><td>127</td><td>129</td><td>131</td><td>133</td><td>135</td><td>137</td><td>139</td><td>141</td><td>143</td><td>145</td><td>147</td><td>149</td><td>151</td><td>153</td><td>155</td><td>157</td></tr><tr><td>77</td><td>76</td><td>75</td><td>74</td><td>73</td><td>72</td><td>71</td><td>70</td><td>69</td><td>68</td><td>67</td><td>66</td><td>65</td><td>64</td><td>63</td><td>62</td><td>61</td><td>60</td><td>59</td><td>58</td><td>57</td><td>56</td><td>55</td><td>54</td><td>53</td><td>52</td><td>51</td><td>50</td><td>49</td><td>48</td><td>47</td><td>46</td><td>45</td><td>44</td><td>43</td><td>42</td><td>41</td><td>40</td><td>39</td><td>38</td><td>37</td><td>36</td><td>35</td><td>34</td><td>33</td><td>32</td><td>31</td><td>30</td><td>29</td><td>28</td><td>27</td><td>26</td><td>25</td><td>24</td><td>23</td><td>22</td><td>21</td><td>20</td><td>19</td><td>18</td><td>17</td><td>16</td><td>15</td><td>14</td><td>13</td><td>12</td><td>11</td><td>10</td><td>9</td><td>8</td><td>7</td><td>6</td><td>5</td><td>4</td><td>3</td><td>2</td><td>1</td><td>0</td></tr></table>"
      ],
      "text/plain": [
       "<IPython.core.display.HTML object>"
      ]
     },
     "metadata": {},
     "output_type": "display_data"
    },
    {
     "name": "stdout",
     "output_type": "stream",
     "text": [
      "When p = 159 triangular = 19110 and partial triangular = 80\n"
     ]
    },
    {
     "data": {
      "text/html": [
       "<table><tr><td>3</td><td>5</td><td>7</td><td>9</td><td>11</td><td>13</td><td>15</td><td>17</td><td>19</td><td>21</td><td>23</td><td>25</td><td>27</td><td>29</td><td>31</td><td>33</td><td>35</td><td>37</td><td>39</td><td>41</td><td>43</td><td>45</td><td>47</td><td>49</td><td>51</td><td>53</td><td>55</td><td>57</td><td>59</td><td>61</td><td>63</td><td>65</td><td>67</td><td>69</td><td>71</td><td>73</td><td>75</td><td>77</td><td>79</td><td>81</td><td>83</td><td>85</td><td>87</td><td>89</td><td>91</td><td>93</td><td>95</td><td>97</td><td>99</td><td>101</td><td>103</td><td>105</td><td>107</td><td>109</td><td>111</td><td>113</td><td>115</td><td>117</td><td>119</td><td>121</td><td>123</td><td>125</td><td>127</td><td>129</td><td>131</td><td>133</td><td>135</td><td>137</td><td>139</td><td>141</td><td>143</td><td>145</td><td>147</td><td>149</td><td>151</td><td>153</td><td>155</td><td>157</td><td>159</td></tr><tr><td>78</td><td>77</td><td>76</td><td>75</td><td>74</td><td>73</td><td>72</td><td>71</td><td>70</td><td>69</td><td>68</td><td>67</td><td>66</td><td>65</td><td>64</td><td>63</td><td>62</td><td>61</td><td>60</td><td>59</td><td>58</td><td>57</td><td>56</td><td>55</td><td>54</td><td>53</td><td>52</td><td>51</td><td>50</td><td>49</td><td>48</td><td>47</td><td>46</td><td>45</td><td>44</td><td>43</td><td>42</td><td>41</td><td>40</td><td>39</td><td>38</td><td>37</td><td>36</td><td>35</td><td>34</td><td>33</td><td>32</td><td>31</td><td>30</td><td>29</td><td>28</td><td>27</td><td>26</td><td>25</td><td>24</td><td>23</td><td>22</td><td>21</td><td>20</td><td>19</td><td>18</td><td>17</td><td>16</td><td>15</td><td>14</td><td>13</td><td>12</td><td>11</td><td>10</td><td>9</td><td>8</td><td>7</td><td>6</td><td>5</td><td>4</td><td>3</td><td>2</td><td>1</td><td>0</td></tr></table>"
      ],
      "text/plain": [
       "<IPython.core.display.HTML object>"
      ]
     },
     "metadata": {},
     "output_type": "display_data"
    },
    {
     "name": "stdout",
     "output_type": "stream",
     "text": [
      "When p = 161 triangular = 19110 and partial triangular = 81\n"
     ]
    },
    {
     "data": {
      "text/html": [
       "<table><tr><td>3</td><td>5</td><td>7</td><td>9</td><td>11</td><td>13</td><td>15</td><td>17</td><td>19</td><td>21</td><td>23</td><td>25</td><td>27</td><td>29</td><td>31</td><td>33</td><td>35</td><td>37</td><td>39</td><td>41</td><td>43</td><td>45</td><td>47</td><td>49</td><td>51</td><td>53</td><td>55</td><td>57</td><td>59</td><td>61</td><td>63</td><td>65</td><td>67</td><td>69</td><td>71</td><td>73</td><td>75</td><td>77</td><td>79</td><td>81</td><td>83</td><td>85</td><td>87</td><td>89</td><td>91</td><td>93</td><td>95</td><td>97</td><td>99</td><td>101</td><td>103</td><td>105</td><td>107</td><td>109</td><td>111</td><td>113</td><td>115</td><td>117</td><td>119</td><td>121</td><td>123</td><td>125</td><td>127</td><td>129</td><td>131</td><td>133</td><td>135</td><td>137</td><td>139</td><td>141</td><td>143</td><td>145</td><td>147</td><td>149</td><td>151</td><td>153</td><td>155</td><td>157</td><td>159</td><td>161</td></tr><tr><td>79</td><td>78</td><td>77</td><td>76</td><td>75</td><td>74</td><td>73</td><td>72</td><td>71</td><td>70</td><td>69</td><td>68</td><td>67</td><td>66</td><td>65</td><td>64</td><td>63</td><td>62</td><td>61</td><td>60</td><td>59</td><td>58</td><td>57</td><td>56</td><td>55</td><td>54</td><td>53</td><td>52</td><td>51</td><td>50</td><td>49</td><td>48</td><td>47</td><td>46</td><td>45</td><td>44</td><td>43</td><td>42</td><td>41</td><td>40</td><td>39</td><td>38</td><td>37</td><td>36</td><td>35</td><td>34</td><td>33</td><td>32</td><td>31</td><td>30</td><td>29</td><td>28</td><td>27</td><td>26</td><td>25</td><td>24</td><td>23</td><td>22</td><td>21</td><td>20</td><td>19</td><td>18</td><td>17</td><td>16</td><td>15</td><td>14</td><td>13</td><td>12</td><td>11</td><td>10</td><td>9</td><td>8</td><td>7</td><td>6</td><td>5</td><td>4</td><td>3</td><td>2</td><td>1</td><td>0</td></tr></table>"
      ],
      "text/plain": [
       "<IPython.core.display.HTML object>"
      ]
     },
     "metadata": {},
     "output_type": "display_data"
    },
    {
     "name": "stdout",
     "output_type": "stream",
     "text": [
      "When p = 163 triangular = 19110 and partial triangular = 82\n"
     ]
    },
    {
     "data": {
      "text/html": [
       "<table><tr><td>3</td><td>5</td><td>7</td><td>9</td><td>11</td><td>13</td><td>15</td><td>17</td><td>19</td><td>21</td><td>23</td><td>25</td><td>27</td><td>29</td><td>31</td><td>33</td><td>35</td><td>37</td><td>39</td><td>41</td><td>43</td><td>45</td><td>47</td><td>49</td><td>51</td><td>53</td><td>55</td><td>57</td><td>59</td><td>61</td><td>63</td><td>65</td><td>67</td><td>69</td><td>71</td><td>73</td><td>75</td><td>77</td><td>79</td><td>81</td><td>83</td><td>85</td><td>87</td><td>89</td><td>91</td><td>93</td><td>95</td><td>97</td><td>99</td><td>101</td><td>103</td><td>105</td><td>107</td><td>109</td><td>111</td><td>113</td><td>115</td><td>117</td><td>119</td><td>121</td><td>123</td><td>125</td><td>127</td><td>129</td><td>131</td><td>133</td><td>135</td><td>137</td><td>139</td><td>141</td><td>143</td><td>145</td><td>147</td><td>149</td><td>151</td><td>153</td><td>155</td><td>157</td><td>159</td><td>161</td><td>163</td></tr><tr><td>80</td><td>79</td><td>78</td><td>77</td><td>76</td><td>75</td><td>74</td><td>73</td><td>72</td><td>71</td><td>70</td><td>69</td><td>68</td><td>67</td><td>66</td><td>65</td><td>64</td><td>63</td><td>62</td><td>61</td><td>60</td><td>59</td><td>58</td><td>57</td><td>56</td><td>55</td><td>54</td><td>53</td><td>52</td><td>51</td><td>50</td><td>49</td><td>48</td><td>47</td><td>46</td><td>45</td><td>44</td><td>43</td><td>42</td><td>41</td><td>40</td><td>39</td><td>38</td><td>37</td><td>36</td><td>35</td><td>34</td><td>33</td><td>32</td><td>31</td><td>30</td><td>29</td><td>28</td><td>27</td><td>26</td><td>25</td><td>24</td><td>23</td><td>22</td><td>21</td><td>20</td><td>19</td><td>18</td><td>17</td><td>16</td><td>15</td><td>14</td><td>13</td><td>12</td><td>11</td><td>10</td><td>9</td><td>8</td><td>7</td><td>6</td><td>5</td><td>4</td><td>3</td><td>2</td><td>1</td><td>0</td></tr></table>"
      ],
      "text/plain": [
       "<IPython.core.display.HTML object>"
      ]
     },
     "metadata": {},
     "output_type": "display_data"
    },
    {
     "name": "stdout",
     "output_type": "stream",
     "text": [
      "When p = 165 triangular = 19110 and partial triangular = 83\n"
     ]
    },
    {
     "data": {
      "text/html": [
       "<table><tr><td>3</td><td>5</td><td>7</td><td>9</td><td>11</td><td>13</td><td>15</td><td>17</td><td>19</td><td>21</td><td>23</td><td>25</td><td>27</td><td>29</td><td>31</td><td>33</td><td>35</td><td>37</td><td>39</td><td>41</td><td>43</td><td>45</td><td>47</td><td>49</td><td>51</td><td>53</td><td>55</td><td>57</td><td>59</td><td>61</td><td>63</td><td>65</td><td>67</td><td>69</td><td>71</td><td>73</td><td>75</td><td>77</td><td>79</td><td>81</td><td>83</td><td>85</td><td>87</td><td>89</td><td>91</td><td>93</td><td>95</td><td>97</td><td>99</td><td>101</td><td>103</td><td>105</td><td>107</td><td>109</td><td>111</td><td>113</td><td>115</td><td>117</td><td>119</td><td>121</td><td>123</td><td>125</td><td>127</td><td>129</td><td>131</td><td>133</td><td>135</td><td>137</td><td>139</td><td>141</td><td>143</td><td>145</td><td>147</td><td>149</td><td>151</td><td>153</td><td>155</td><td>157</td><td>159</td><td>161</td><td>163</td><td>165</td></tr><tr><td>81</td><td>80</td><td>79</td><td>78</td><td>77</td><td>76</td><td>75</td><td>74</td><td>73</td><td>72</td><td>71</td><td>70</td><td>69</td><td>68</td><td>67</td><td>66</td><td>65</td><td>64</td><td>63</td><td>62</td><td>61</td><td>60</td><td>59</td><td>58</td><td>57</td><td>56</td><td>55</td><td>54</td><td>53</td><td>52</td><td>51</td><td>50</td><td>49</td><td>48</td><td>47</td><td>46</td><td>45</td><td>44</td><td>43</td><td>42</td><td>41</td><td>40</td><td>39</td><td>38</td><td>37</td><td>36</td><td>35</td><td>34</td><td>33</td><td>32</td><td>31</td><td>30</td><td>29</td><td>28</td><td>27</td><td>26</td><td>25</td><td>24</td><td>23</td><td>22</td><td>21</td><td>20</td><td>19</td><td>18</td><td>17</td><td>16</td><td>15</td><td>14</td><td>13</td><td>12</td><td>11</td><td>10</td><td>9</td><td>8</td><td>7</td><td>6</td><td>5</td><td>4</td><td>3</td><td>2</td><td>1</td><td>0</td></tr></table>"
      ],
      "text/plain": [
       "<IPython.core.display.HTML object>"
      ]
     },
     "metadata": {},
     "output_type": "display_data"
    },
    {
     "name": "stdout",
     "output_type": "stream",
     "text": [
      "When p = 167 triangular = 19110 and partial triangular = 84\n"
     ]
    },
    {
     "data": {
      "text/html": [
       "<table><tr><td>3</td><td>5</td><td>7</td><td>9</td><td>11</td><td>13</td><td>15</td><td>17</td><td>19</td><td>21</td><td>23</td><td>25</td><td>27</td><td>29</td><td>31</td><td>33</td><td>35</td><td>37</td><td>39</td><td>41</td><td>43</td><td>45</td><td>47</td><td>49</td><td>51</td><td>53</td><td>55</td><td>57</td><td>59</td><td>61</td><td>63</td><td>65</td><td>67</td><td>69</td><td>71</td><td>73</td><td>75</td><td>77</td><td>79</td><td>81</td><td>83</td><td>85</td><td>87</td><td>89</td><td>91</td><td>93</td><td>95</td><td>97</td><td>99</td><td>101</td><td>103</td><td>105</td><td>107</td><td>109</td><td>111</td><td>113</td><td>115</td><td>117</td><td>119</td><td>121</td><td>123</td><td>125</td><td>127</td><td>129</td><td>131</td><td>133</td><td>135</td><td>137</td><td>139</td><td>141</td><td>143</td><td>145</td><td>147</td><td>149</td><td>151</td><td>153</td><td>155</td><td>157</td><td>159</td><td>161</td><td>163</td><td>165</td><td>167</td></tr><tr><td>82</td><td>81</td><td>80</td><td>79</td><td>78</td><td>77</td><td>76</td><td>75</td><td>74</td><td>73</td><td>72</td><td>71</td><td>70</td><td>69</td><td>68</td><td>67</td><td>66</td><td>65</td><td>64</td><td>63</td><td>62</td><td>61</td><td>60</td><td>59</td><td>58</td><td>57</td><td>56</td><td>55</td><td>54</td><td>53</td><td>52</td><td>51</td><td>50</td><td>49</td><td>48</td><td>47</td><td>46</td><td>45</td><td>44</td><td>43</td><td>42</td><td>41</td><td>40</td><td>39</td><td>38</td><td>37</td><td>36</td><td>35</td><td>34</td><td>33</td><td>32</td><td>31</td><td>30</td><td>29</td><td>28</td><td>27</td><td>26</td><td>25</td><td>24</td><td>23</td><td>22</td><td>21</td><td>20</td><td>19</td><td>18</td><td>17</td><td>16</td><td>15</td><td>14</td><td>13</td><td>12</td><td>11</td><td>10</td><td>9</td><td>8</td><td>7</td><td>6</td><td>5</td><td>4</td><td>3</td><td>2</td><td>1</td><td>0</td></tr></table>"
      ],
      "text/plain": [
       "<IPython.core.display.HTML object>"
      ]
     },
     "metadata": {},
     "output_type": "display_data"
    },
    {
     "name": "stdout",
     "output_type": "stream",
     "text": [
      "When p = 169 triangular = 19110 and partial triangular = 85\n"
     ]
    },
    {
     "data": {
      "text/html": [
       "<table><tr><td>3</td><td>5</td><td>7</td><td>9</td><td>11</td><td>13</td><td>15</td><td>17</td><td>19</td><td>21</td><td>23</td><td>25</td><td>27</td><td>29</td><td>31</td><td>33</td><td>35</td><td>37</td><td>39</td><td>41</td><td>43</td><td>45</td><td>47</td><td>49</td><td>51</td><td>53</td><td>55</td><td>57</td><td>59</td><td>61</td><td>63</td><td>65</td><td>67</td><td>69</td><td>71</td><td>73</td><td>75</td><td>77</td><td>79</td><td>81</td><td>83</td><td>85</td><td>87</td><td>89</td><td>91</td><td>93</td><td>95</td><td>97</td><td>99</td><td>101</td><td>103</td><td>105</td><td>107</td><td>109</td><td>111</td><td>113</td><td>115</td><td>117</td><td>119</td><td>121</td><td>123</td><td>125</td><td>127</td><td>129</td><td>131</td><td>133</td><td>135</td><td>137</td><td>139</td><td>141</td><td>143</td><td>145</td><td>147</td><td>149</td><td>151</td><td>153</td><td>155</td><td>157</td><td>159</td><td>161</td><td>163</td><td>165</td><td>167</td><td>169</td></tr><tr><td>83</td><td>82</td><td>81</td><td>80</td><td>79</td><td>78</td><td>77</td><td>76</td><td>75</td><td>74</td><td>73</td><td>72</td><td>71</td><td>70</td><td>69</td><td>68</td><td>67</td><td>66</td><td>65</td><td>64</td><td>63</td><td>62</td><td>61</td><td>60</td><td>59</td><td>58</td><td>57</td><td>56</td><td>55</td><td>54</td><td>53</td><td>52</td><td>51</td><td>50</td><td>49</td><td>48</td><td>47</td><td>46</td><td>45</td><td>44</td><td>43</td><td>42</td><td>41</td><td>40</td><td>39</td><td>38</td><td>37</td><td>36</td><td>35</td><td>34</td><td>33</td><td>32</td><td>31</td><td>30</td><td>29</td><td>28</td><td>27</td><td>26</td><td>25</td><td>24</td><td>23</td><td>22</td><td>21</td><td>20</td><td>19</td><td>18</td><td>17</td><td>16</td><td>15</td><td>14</td><td>13</td><td>12</td><td>11</td><td>10</td><td>9</td><td>8</td><td>7</td><td>6</td><td>5</td><td>4</td><td>3</td><td>2</td><td>1</td><td>0</td></tr></table>"
      ],
      "text/plain": [
       "<IPython.core.display.HTML object>"
      ]
     },
     "metadata": {},
     "output_type": "display_data"
    },
    {
     "name": "stdout",
     "output_type": "stream",
     "text": [
      "When p = 171 triangular = 19110 and partial triangular = 86\n"
     ]
    },
    {
     "data": {
      "text/html": [
       "<table><tr><td>3</td><td>5</td><td>7</td><td>9</td><td>11</td><td>13</td><td>15</td><td>17</td><td>19</td><td>21</td><td>23</td><td>25</td><td>27</td><td>29</td><td>31</td><td>33</td><td>35</td><td>37</td><td>39</td><td>41</td><td>43</td><td>45</td><td>47</td><td>49</td><td>51</td><td>53</td><td>55</td><td>57</td><td>59</td><td>61</td><td>63</td><td>65</td><td>67</td><td>69</td><td>71</td><td>73</td><td>75</td><td>77</td><td>79</td><td>81</td><td>83</td><td>85</td><td>87</td><td>89</td><td>91</td><td>93</td><td>95</td><td>97</td><td>99</td><td>101</td><td>103</td><td>105</td><td>107</td><td>109</td><td>111</td><td>113</td><td>115</td><td>117</td><td>119</td><td>121</td><td>123</td><td>125</td><td>127</td><td>129</td><td>131</td><td>133</td><td>135</td><td>137</td><td>139</td><td>141</td><td>143</td><td>145</td><td>147</td><td>149</td><td>151</td><td>153</td><td>155</td><td>157</td><td>159</td><td>161</td><td>163</td><td>165</td><td>167</td><td>169</td><td>171</td></tr><tr><td>84</td><td>83</td><td>82</td><td>81</td><td>80</td><td>79</td><td>78</td><td>77</td><td>76</td><td>75</td><td>74</td><td>73</td><td>72</td><td>71</td><td>70</td><td>69</td><td>68</td><td>67</td><td>66</td><td>65</td><td>64</td><td>63</td><td>62</td><td>61</td><td>60</td><td>59</td><td>58</td><td>57</td><td>56</td><td>55</td><td>54</td><td>53</td><td>52</td><td>51</td><td>50</td><td>49</td><td>48</td><td>47</td><td>46</td><td>45</td><td>44</td><td>43</td><td>42</td><td>41</td><td>40</td><td>39</td><td>38</td><td>37</td><td>36</td><td>35</td><td>34</td><td>33</td><td>32</td><td>31</td><td>30</td><td>29</td><td>28</td><td>27</td><td>26</td><td>25</td><td>24</td><td>23</td><td>22</td><td>21</td><td>20</td><td>19</td><td>18</td><td>17</td><td>16</td><td>15</td><td>14</td><td>13</td><td>12</td><td>11</td><td>10</td><td>9</td><td>8</td><td>7</td><td>6</td><td>5</td><td>4</td><td>3</td><td>2</td><td>1</td><td>0</td></tr></table>"
      ],
      "text/plain": [
       "<IPython.core.display.HTML object>"
      ]
     },
     "metadata": {},
     "output_type": "display_data"
    },
    {
     "name": "stdout",
     "output_type": "stream",
     "text": [
      "When p = 173 triangular = 19110 and partial triangular = 87\n"
     ]
    },
    {
     "data": {
      "text/html": [
       "<table><tr><td>3</td><td>5</td><td>7</td><td>9</td><td>11</td><td>13</td><td>15</td><td>17</td><td>19</td><td>21</td><td>23</td><td>25</td><td>27</td><td>29</td><td>31</td><td>33</td><td>35</td><td>37</td><td>39</td><td>41</td><td>43</td><td>45</td><td>47</td><td>49</td><td>51</td><td>53</td><td>55</td><td>57</td><td>59</td><td>61</td><td>63</td><td>65</td><td>67</td><td>69</td><td>71</td><td>73</td><td>75</td><td>77</td><td>79</td><td>81</td><td>83</td><td>85</td><td>87</td><td>89</td><td>91</td><td>93</td><td>95</td><td>97</td><td>99</td><td>101</td><td>103</td><td>105</td><td>107</td><td>109</td><td>111</td><td>113</td><td>115</td><td>117</td><td>119</td><td>121</td><td>123</td><td>125</td><td>127</td><td>129</td><td>131</td><td>133</td><td>135</td><td>137</td><td>139</td><td>141</td><td>143</td><td>145</td><td>147</td><td>149</td><td>151</td><td>153</td><td>155</td><td>157</td><td>159</td><td>161</td><td>163</td><td>165</td><td>167</td><td>169</td><td>171</td><td>173</td></tr><tr><td>85</td><td>84</td><td>83</td><td>82</td><td>81</td><td>80</td><td>79</td><td>78</td><td>77</td><td>76</td><td>75</td><td>74</td><td>73</td><td>72</td><td>71</td><td>70</td><td>69</td><td>68</td><td>67</td><td>66</td><td>65</td><td>64</td><td>63</td><td>62</td><td>61</td><td>60</td><td>59</td><td>58</td><td>57</td><td>56</td><td>55</td><td>54</td><td>53</td><td>52</td><td>51</td><td>50</td><td>49</td><td>48</td><td>47</td><td>46</td><td>45</td><td>44</td><td>43</td><td>42</td><td>41</td><td>40</td><td>39</td><td>38</td><td>37</td><td>36</td><td>35</td><td>34</td><td>33</td><td>32</td><td>31</td><td>30</td><td>29</td><td>28</td><td>27</td><td>26</td><td>25</td><td>24</td><td>23</td><td>22</td><td>21</td><td>20</td><td>19</td><td>18</td><td>17</td><td>16</td><td>15</td><td>14</td><td>13</td><td>12</td><td>11</td><td>10</td><td>9</td><td>8</td><td>7</td><td>6</td><td>5</td><td>4</td><td>3</td><td>2</td><td>1</td><td>0</td></tr></table>"
      ],
      "text/plain": [
       "<IPython.core.display.HTML object>"
      ]
     },
     "metadata": {},
     "output_type": "display_data"
    },
    {
     "name": "stdout",
     "output_type": "stream",
     "text": [
      "When p = 175 triangular = 19110 and partial triangular = 88\n"
     ]
    },
    {
     "data": {
      "text/html": [
       "<table><tr><td>3</td><td>5</td><td>7</td><td>9</td><td>11</td><td>13</td><td>15</td><td>17</td><td>19</td><td>21</td><td>23</td><td>25</td><td>27</td><td>29</td><td>31</td><td>33</td><td>35</td><td>37</td><td>39</td><td>41</td><td>43</td><td>45</td><td>47</td><td>49</td><td>51</td><td>53</td><td>55</td><td>57</td><td>59</td><td>61</td><td>63</td><td>65</td><td>67</td><td>69</td><td>71</td><td>73</td><td>75</td><td>77</td><td>79</td><td>81</td><td>83</td><td>85</td><td>87</td><td>89</td><td>91</td><td>93</td><td>95</td><td>97</td><td>99</td><td>101</td><td>103</td><td>105</td><td>107</td><td>109</td><td>111</td><td>113</td><td>115</td><td>117</td><td>119</td><td>121</td><td>123</td><td>125</td><td>127</td><td>129</td><td>131</td><td>133</td><td>135</td><td>137</td><td>139</td><td>141</td><td>143</td><td>145</td><td>147</td><td>149</td><td>151</td><td>153</td><td>155</td><td>157</td><td>159</td><td>161</td><td>163</td><td>165</td><td>167</td><td>169</td><td>171</td><td>173</td><td>175</td></tr><tr><td>86</td><td>85</td><td>84</td><td>83</td><td>82</td><td>81</td><td>80</td><td>79</td><td>78</td><td>77</td><td>76</td><td>75</td><td>74</td><td>73</td><td>72</td><td>71</td><td>70</td><td>69</td><td>68</td><td>67</td><td>66</td><td>65</td><td>64</td><td>63</td><td>62</td><td>61</td><td>60</td><td>59</td><td>58</td><td>57</td><td>56</td><td>55</td><td>54</td><td>53</td><td>52</td><td>51</td><td>50</td><td>49</td><td>48</td><td>47</td><td>46</td><td>45</td><td>44</td><td>43</td><td>42</td><td>41</td><td>40</td><td>39</td><td>38</td><td>37</td><td>36</td><td>35</td><td>34</td><td>33</td><td>32</td><td>31</td><td>30</td><td>29</td><td>28</td><td>27</td><td>26</td><td>25</td><td>24</td><td>23</td><td>22</td><td>21</td><td>20</td><td>19</td><td>18</td><td>17</td><td>16</td><td>15</td><td>14</td><td>13</td><td>12</td><td>11</td><td>10</td><td>9</td><td>8</td><td>7</td><td>6</td><td>5</td><td>4</td><td>3</td><td>2</td><td>1</td><td>0</td></tr></table>"
      ],
      "text/plain": [
       "<IPython.core.display.HTML object>"
      ]
     },
     "metadata": {},
     "output_type": "display_data"
    },
    {
     "name": "stdout",
     "output_type": "stream",
     "text": [
      "When p = 177 triangular = 19110 and partial triangular = 89\n"
     ]
    },
    {
     "data": {
      "text/html": [
       "<table><tr><td>3</td><td>5</td><td>7</td><td>9</td><td>11</td><td>13</td><td>15</td><td>17</td><td>19</td><td>21</td><td>23</td><td>25</td><td>27</td><td>29</td><td>31</td><td>33</td><td>35</td><td>37</td><td>39</td><td>41</td><td>43</td><td>45</td><td>47</td><td>49</td><td>51</td><td>53</td><td>55</td><td>57</td><td>59</td><td>61</td><td>63</td><td>65</td><td>67</td><td>69</td><td>71</td><td>73</td><td>75</td><td>77</td><td>79</td><td>81</td><td>83</td><td>85</td><td>87</td><td>89</td><td>91</td><td>93</td><td>95</td><td>97</td><td>99</td><td>101</td><td>103</td><td>105</td><td>107</td><td>109</td><td>111</td><td>113</td><td>115</td><td>117</td><td>119</td><td>121</td><td>123</td><td>125</td><td>127</td><td>129</td><td>131</td><td>133</td><td>135</td><td>137</td><td>139</td><td>141</td><td>143</td><td>145</td><td>147</td><td>149</td><td>151</td><td>153</td><td>155</td><td>157</td><td>159</td><td>161</td><td>163</td><td>165</td><td>167</td><td>169</td><td>171</td><td>173</td><td>175</td><td>177</td></tr><tr><td>87</td><td>86</td><td>85</td><td>84</td><td>83</td><td>82</td><td>81</td><td>80</td><td>79</td><td>78</td><td>77</td><td>76</td><td>75</td><td>74</td><td>73</td><td>72</td><td>71</td><td>70</td><td>69</td><td>68</td><td>67</td><td>66</td><td>65</td><td>64</td><td>63</td><td>62</td><td>61</td><td>60</td><td>59</td><td>58</td><td>57</td><td>56</td><td>55</td><td>54</td><td>53</td><td>52</td><td>51</td><td>50</td><td>49</td><td>48</td><td>47</td><td>46</td><td>45</td><td>44</td><td>43</td><td>42</td><td>41</td><td>40</td><td>39</td><td>38</td><td>37</td><td>36</td><td>35</td><td>34</td><td>33</td><td>32</td><td>31</td><td>30</td><td>29</td><td>28</td><td>27</td><td>26</td><td>25</td><td>24</td><td>23</td><td>22</td><td>21</td><td>20</td><td>19</td><td>18</td><td>17</td><td>16</td><td>15</td><td>14</td><td>13</td><td>12</td><td>11</td><td>10</td><td>9</td><td>8</td><td>7</td><td>6</td><td>5</td><td>4</td><td>3</td><td>2</td><td>1</td><td>0</td></tr></table>"
      ],
      "text/plain": [
       "<IPython.core.display.HTML object>"
      ]
     },
     "metadata": {},
     "output_type": "display_data"
    },
    {
     "name": "stdout",
     "output_type": "stream",
     "text": [
      "When p = 179 triangular = 19110 and partial triangular = 90\n"
     ]
    },
    {
     "data": {
      "text/html": [
       "<table><tr><td>3</td><td>5</td><td>7</td><td>9</td><td>11</td><td>13</td><td>15</td><td>17</td><td>19</td><td>21</td><td>23</td><td>25</td><td>27</td><td>29</td><td>31</td><td>33</td><td>35</td><td>37</td><td>39</td><td>41</td><td>43</td><td>45</td><td>47</td><td>49</td><td>51</td><td>53</td><td>55</td><td>57</td><td>59</td><td>61</td><td>63</td><td>65</td><td>67</td><td>69</td><td>71</td><td>73</td><td>75</td><td>77</td><td>79</td><td>81</td><td>83</td><td>85</td><td>87</td><td>89</td><td>91</td><td>93</td><td>95</td><td>97</td><td>99</td><td>101</td><td>103</td><td>105</td><td>107</td><td>109</td><td>111</td><td>113</td><td>115</td><td>117</td><td>119</td><td>121</td><td>123</td><td>125</td><td>127</td><td>129</td><td>131</td><td>133</td><td>135</td><td>137</td><td>139</td><td>141</td><td>143</td><td>145</td><td>147</td><td>149</td><td>151</td><td>153</td><td>155</td><td>157</td><td>159</td><td>161</td><td>163</td><td>165</td><td>167</td><td>169</td><td>171</td><td>173</td><td>175</td><td>177</td><td>179</td></tr><tr><td>88</td><td>87</td><td>86</td><td>85</td><td>84</td><td>83</td><td>82</td><td>81</td><td>80</td><td>79</td><td>78</td><td>77</td><td>76</td><td>75</td><td>74</td><td>73</td><td>72</td><td>71</td><td>70</td><td>69</td><td>68</td><td>67</td><td>66</td><td>65</td><td>64</td><td>63</td><td>62</td><td>61</td><td>60</td><td>59</td><td>58</td><td>57</td><td>56</td><td>55</td><td>54</td><td>53</td><td>52</td><td>51</td><td>50</td><td>49</td><td>48</td><td>47</td><td>46</td><td>45</td><td>44</td><td>43</td><td>42</td><td>41</td><td>40</td><td>39</td><td>38</td><td>37</td><td>36</td><td>35</td><td>34</td><td>33</td><td>32</td><td>31</td><td>30</td><td>29</td><td>28</td><td>27</td><td>26</td><td>25</td><td>24</td><td>23</td><td>22</td><td>21</td><td>20</td><td>19</td><td>18</td><td>17</td><td>16</td><td>15</td><td>14</td><td>13</td><td>12</td><td>11</td><td>10</td><td>9</td><td>8</td><td>7</td><td>6</td><td>5</td><td>4</td><td>3</td><td>2</td><td>1</td><td>0</td></tr></table>"
      ],
      "text/plain": [
       "<IPython.core.display.HTML object>"
      ]
     },
     "metadata": {},
     "output_type": "display_data"
    },
    {
     "name": "stdout",
     "output_type": "stream",
     "text": [
      "When p = 181 triangular = 19110 and partial triangular = 91\n"
     ]
    },
    {
     "data": {
      "text/html": [
       "<table><tr><td>3</td><td>5</td><td>7</td><td>9</td><td>11</td><td>13</td><td>15</td><td>17</td><td>19</td><td>21</td><td>23</td><td>25</td><td>27</td><td>29</td><td>31</td><td>33</td><td>35</td><td>37</td><td>39</td><td>41</td><td>43</td><td>45</td><td>47</td><td>49</td><td>51</td><td>53</td><td>55</td><td>57</td><td>59</td><td>61</td><td>63</td><td>65</td><td>67</td><td>69</td><td>71</td><td>73</td><td>75</td><td>77</td><td>79</td><td>81</td><td>83</td><td>85</td><td>87</td><td>89</td><td>91</td><td>93</td><td>95</td><td>97</td><td>99</td><td>101</td><td>103</td><td>105</td><td>107</td><td>109</td><td>111</td><td>113</td><td>115</td><td>117</td><td>119</td><td>121</td><td>123</td><td>125</td><td>127</td><td>129</td><td>131</td><td>133</td><td>135</td><td>137</td><td>139</td><td>141</td><td>143</td><td>145</td><td>147</td><td>149</td><td>151</td><td>153</td><td>155</td><td>157</td><td>159</td><td>161</td><td>163</td><td>165</td><td>167</td><td>169</td><td>171</td><td>173</td><td>175</td><td>177</td><td>179</td><td>181</td></tr><tr><td>89</td><td>88</td><td>87</td><td>86</td><td>85</td><td>84</td><td>83</td><td>82</td><td>81</td><td>80</td><td>79</td><td>78</td><td>77</td><td>76</td><td>75</td><td>74</td><td>73</td><td>72</td><td>71</td><td>70</td><td>69</td><td>68</td><td>67</td><td>66</td><td>65</td><td>64</td><td>63</td><td>62</td><td>61</td><td>60</td><td>59</td><td>58</td><td>57</td><td>56</td><td>55</td><td>54</td><td>53</td><td>52</td><td>51</td><td>50</td><td>49</td><td>48</td><td>47</td><td>46</td><td>45</td><td>44</td><td>43</td><td>42</td><td>41</td><td>40</td><td>39</td><td>38</td><td>37</td><td>36</td><td>35</td><td>34</td><td>33</td><td>32</td><td>31</td><td>30</td><td>29</td><td>28</td><td>27</td><td>26</td><td>25</td><td>24</td><td>23</td><td>22</td><td>21</td><td>20</td><td>19</td><td>18</td><td>17</td><td>16</td><td>15</td><td>14</td><td>13</td><td>12</td><td>11</td><td>10</td><td>9</td><td>8</td><td>7</td><td>6</td><td>5</td><td>4</td><td>3</td><td>2</td><td>1</td><td>0</td></tr></table>"
      ],
      "text/plain": [
       "<IPython.core.display.HTML object>"
      ]
     },
     "metadata": {},
     "output_type": "display_data"
    },
    {
     "name": "stdout",
     "output_type": "stream",
     "text": [
      "When p = 183 triangular = 19110 and partial triangular = 92\n"
     ]
    },
    {
     "data": {
      "text/html": [
       "<table><tr><td>3</td><td>5</td><td>7</td><td>9</td><td>11</td><td>13</td><td>15</td><td>17</td><td>19</td><td>21</td><td>23</td><td>25</td><td>27</td><td>29</td><td>31</td><td>33</td><td>35</td><td>37</td><td>39</td><td>41</td><td>43</td><td>45</td><td>47</td><td>49</td><td>51</td><td>53</td><td>55</td><td>57</td><td>59</td><td>61</td><td>63</td><td>65</td><td>67</td><td>69</td><td>71</td><td>73</td><td>75</td><td>77</td><td>79</td><td>81</td><td>83</td><td>85</td><td>87</td><td>89</td><td>91</td><td>93</td><td>95</td><td>97</td><td>99</td><td>101</td><td>103</td><td>105</td><td>107</td><td>109</td><td>111</td><td>113</td><td>115</td><td>117</td><td>119</td><td>121</td><td>123</td><td>125</td><td>127</td><td>129</td><td>131</td><td>133</td><td>135</td><td>137</td><td>139</td><td>141</td><td>143</td><td>145</td><td>147</td><td>149</td><td>151</td><td>153</td><td>155</td><td>157</td><td>159</td><td>161</td><td>163</td><td>165</td><td>167</td><td>169</td><td>171</td><td>173</td><td>175</td><td>177</td><td>179</td><td>181</td><td>183</td></tr><tr><td>90</td><td>89</td><td>88</td><td>87</td><td>86</td><td>85</td><td>84</td><td>83</td><td>82</td><td>81</td><td>80</td><td>79</td><td>78</td><td>77</td><td>76</td><td>75</td><td>74</td><td>73</td><td>72</td><td>71</td><td>70</td><td>69</td><td>68</td><td>67</td><td>66</td><td>65</td><td>64</td><td>63</td><td>62</td><td>61</td><td>60</td><td>59</td><td>58</td><td>57</td><td>56</td><td>55</td><td>54</td><td>53</td><td>52</td><td>51</td><td>50</td><td>49</td><td>48</td><td>47</td><td>46</td><td>45</td><td>44</td><td>43</td><td>42</td><td>41</td><td>40</td><td>39</td><td>38</td><td>37</td><td>36</td><td>35</td><td>34</td><td>33</td><td>32</td><td>31</td><td>30</td><td>29</td><td>28</td><td>27</td><td>26</td><td>25</td><td>24</td><td>23</td><td>22</td><td>21</td><td>20</td><td>19</td><td>18</td><td>17</td><td>16</td><td>15</td><td>14</td><td>13</td><td>12</td><td>11</td><td>10</td><td>9</td><td>8</td><td>7</td><td>6</td><td>5</td><td>4</td><td>3</td><td>2</td><td>1</td><td>0</td></tr></table>"
      ],
      "text/plain": [
       "<IPython.core.display.HTML object>"
      ]
     },
     "metadata": {},
     "output_type": "display_data"
    },
    {
     "name": "stdout",
     "output_type": "stream",
     "text": [
      "When p = 185 triangular = 19110 and partial triangular = 93\n"
     ]
    },
    {
     "data": {
      "text/html": [
       "<table><tr><td>3</td><td>5</td><td>7</td><td>9</td><td>11</td><td>13</td><td>15</td><td>17</td><td>19</td><td>21</td><td>23</td><td>25</td><td>27</td><td>29</td><td>31</td><td>33</td><td>35</td><td>37</td><td>39</td><td>41</td><td>43</td><td>45</td><td>47</td><td>49</td><td>51</td><td>53</td><td>55</td><td>57</td><td>59</td><td>61</td><td>63</td><td>65</td><td>67</td><td>69</td><td>71</td><td>73</td><td>75</td><td>77</td><td>79</td><td>81</td><td>83</td><td>85</td><td>87</td><td>89</td><td>91</td><td>93</td><td>95</td><td>97</td><td>99</td><td>101</td><td>103</td><td>105</td><td>107</td><td>109</td><td>111</td><td>113</td><td>115</td><td>117</td><td>119</td><td>121</td><td>123</td><td>125</td><td>127</td><td>129</td><td>131</td><td>133</td><td>135</td><td>137</td><td>139</td><td>141</td><td>143</td><td>145</td><td>147</td><td>149</td><td>151</td><td>153</td><td>155</td><td>157</td><td>159</td><td>161</td><td>163</td><td>165</td><td>167</td><td>169</td><td>171</td><td>173</td><td>175</td><td>177</td><td>179</td><td>181</td><td>183</td><td>185</td></tr><tr><td>91</td><td>90</td><td>89</td><td>88</td><td>87</td><td>86</td><td>85</td><td>84</td><td>83</td><td>82</td><td>81</td><td>80</td><td>79</td><td>78</td><td>77</td><td>76</td><td>75</td><td>74</td><td>73</td><td>72</td><td>71</td><td>70</td><td>69</td><td>68</td><td>67</td><td>66</td><td>65</td><td>64</td><td>63</td><td>62</td><td>61</td><td>60</td><td>59</td><td>58</td><td>57</td><td>56</td><td>55</td><td>54</td><td>53</td><td>52</td><td>51</td><td>50</td><td>49</td><td>48</td><td>47</td><td>46</td><td>45</td><td>44</td><td>43</td><td>42</td><td>41</td><td>40</td><td>39</td><td>38</td><td>37</td><td>36</td><td>35</td><td>34</td><td>33</td><td>32</td><td>31</td><td>30</td><td>29</td><td>28</td><td>27</td><td>26</td><td>25</td><td>24</td><td>23</td><td>22</td><td>21</td><td>20</td><td>19</td><td>18</td><td>17</td><td>16</td><td>15</td><td>14</td><td>13</td><td>12</td><td>11</td><td>10</td><td>9</td><td>8</td><td>7</td><td>6</td><td>5</td><td>4</td><td>3</td><td>2</td><td>1</td><td>0</td></tr></table>"
      ],
      "text/plain": [
       "<IPython.core.display.HTML object>"
      ]
     },
     "metadata": {},
     "output_type": "display_data"
    },
    {
     "name": "stdout",
     "output_type": "stream",
     "text": [
      "When p = 187 triangular = 19110 and partial triangular = 94\n"
     ]
    },
    {
     "data": {
      "text/html": [
       "<table><tr><td>3</td><td>5</td><td>7</td><td>9</td><td>11</td><td>13</td><td>15</td><td>17</td><td>19</td><td>21</td><td>23</td><td>25</td><td>27</td><td>29</td><td>31</td><td>33</td><td>35</td><td>37</td><td>39</td><td>41</td><td>43</td><td>45</td><td>47</td><td>49</td><td>51</td><td>53</td><td>55</td><td>57</td><td>59</td><td>61</td><td>63</td><td>65</td><td>67</td><td>69</td><td>71</td><td>73</td><td>75</td><td>77</td><td>79</td><td>81</td><td>83</td><td>85</td><td>87</td><td>89</td><td>91</td><td>93</td><td>95</td><td>97</td><td>99</td><td>101</td><td>103</td><td>105</td><td>107</td><td>109</td><td>111</td><td>113</td><td>115</td><td>117</td><td>119</td><td>121</td><td>123</td><td>125</td><td>127</td><td>129</td><td>131</td><td>133</td><td>135</td><td>137</td><td>139</td><td>141</td><td>143</td><td>145</td><td>147</td><td>149</td><td>151</td><td>153</td><td>155</td><td>157</td><td>159</td><td>161</td><td>163</td><td>165</td><td>167</td><td>169</td><td>171</td><td>173</td><td>175</td><td>177</td><td>179</td><td>181</td><td>183</td><td>185</td><td>187</td></tr><tr><td>92</td><td>91</td><td>90</td><td>89</td><td>88</td><td>87</td><td>86</td><td>85</td><td>84</td><td>83</td><td>82</td><td>81</td><td>80</td><td>79</td><td>78</td><td>77</td><td>76</td><td>75</td><td>74</td><td>73</td><td>72</td><td>71</td><td>70</td><td>69</td><td>68</td><td>67</td><td>66</td><td>65</td><td>64</td><td>63</td><td>62</td><td>61</td><td>60</td><td>59</td><td>58</td><td>57</td><td>56</td><td>55</td><td>54</td><td>53</td><td>52</td><td>51</td><td>50</td><td>49</td><td>48</td><td>47</td><td>46</td><td>45</td><td>44</td><td>43</td><td>42</td><td>41</td><td>40</td><td>39</td><td>38</td><td>37</td><td>36</td><td>35</td><td>34</td><td>33</td><td>32</td><td>31</td><td>30</td><td>29</td><td>28</td><td>27</td><td>26</td><td>25</td><td>24</td><td>23</td><td>22</td><td>21</td><td>20</td><td>19</td><td>18</td><td>17</td><td>16</td><td>15</td><td>14</td><td>13</td><td>12</td><td>11</td><td>10</td><td>9</td><td>8</td><td>7</td><td>6</td><td>5</td><td>4</td><td>3</td><td>2</td><td>1</td><td>0</td></tr></table>"
      ],
      "text/plain": [
       "<IPython.core.display.HTML object>"
      ]
     },
     "metadata": {},
     "output_type": "display_data"
    },
    {
     "name": "stdout",
     "output_type": "stream",
     "text": [
      "When p = 189 triangular = 19110 and partial triangular = 95\n"
     ]
    },
    {
     "data": {
      "text/html": [
       "<table><tr><td>3</td><td>5</td><td>7</td><td>9</td><td>11</td><td>13</td><td>15</td><td>17</td><td>19</td><td>21</td><td>23</td><td>25</td><td>27</td><td>29</td><td>31</td><td>33</td><td>35</td><td>37</td><td>39</td><td>41</td><td>43</td><td>45</td><td>47</td><td>49</td><td>51</td><td>53</td><td>55</td><td>57</td><td>59</td><td>61</td><td>63</td><td>65</td><td>67</td><td>69</td><td>71</td><td>73</td><td>75</td><td>77</td><td>79</td><td>81</td><td>83</td><td>85</td><td>87</td><td>89</td><td>91</td><td>93</td><td>95</td><td>97</td><td>99</td><td>101</td><td>103</td><td>105</td><td>107</td><td>109</td><td>111</td><td>113</td><td>115</td><td>117</td><td>119</td><td>121</td><td>123</td><td>125</td><td>127</td><td>129</td><td>131</td><td>133</td><td>135</td><td>137</td><td>139</td><td>141</td><td>143</td><td>145</td><td>147</td><td>149</td><td>151</td><td>153</td><td>155</td><td>157</td><td>159</td><td>161</td><td>163</td><td>165</td><td>167</td><td>169</td><td>171</td><td>173</td><td>175</td><td>177</td><td>179</td><td>181</td><td>183</td><td>185</td><td>187</td><td>189</td></tr><tr><td>93</td><td>92</td><td>91</td><td>90</td><td>89</td><td>88</td><td>87</td><td>86</td><td>85</td><td>84</td><td>83</td><td>82</td><td>81</td><td>80</td><td>79</td><td>78</td><td>77</td><td>76</td><td>75</td><td>74</td><td>73</td><td>72</td><td>71</td><td>70</td><td>69</td><td>68</td><td>67</td><td>66</td><td>65</td><td>64</td><td>63</td><td>62</td><td>61</td><td>60</td><td>59</td><td>58</td><td>57</td><td>56</td><td>55</td><td>54</td><td>53</td><td>52</td><td>51</td><td>50</td><td>49</td><td>48</td><td>47</td><td>46</td><td>45</td><td>44</td><td>43</td><td>42</td><td>41</td><td>40</td><td>39</td><td>38</td><td>37</td><td>36</td><td>35</td><td>34</td><td>33</td><td>32</td><td>31</td><td>30</td><td>29</td><td>28</td><td>27</td><td>26</td><td>25</td><td>24</td><td>23</td><td>22</td><td>21</td><td>20</td><td>19</td><td>18</td><td>17</td><td>16</td><td>15</td><td>14</td><td>13</td><td>12</td><td>11</td><td>10</td><td>9</td><td>8</td><td>7</td><td>6</td><td>5</td><td>4</td><td>3</td><td>2</td><td>1</td><td>0</td></tr></table>"
      ],
      "text/plain": [
       "<IPython.core.display.HTML object>"
      ]
     },
     "metadata": {},
     "output_type": "display_data"
    },
    {
     "name": "stdout",
     "output_type": "stream",
     "text": [
      "When p = 191 triangular = 19110 and partial triangular = 96\n"
     ]
    },
    {
     "data": {
      "text/html": [
       "<table><tr><td>3</td><td>5</td><td>7</td><td>9</td><td>11</td><td>13</td><td>15</td><td>17</td><td>19</td><td>21</td><td>23</td><td>25</td><td>27</td><td>29</td><td>31</td><td>33</td><td>35</td><td>37</td><td>39</td><td>41</td><td>43</td><td>45</td><td>47</td><td>49</td><td>51</td><td>53</td><td>55</td><td>57</td><td>59</td><td>61</td><td>63</td><td>65</td><td>67</td><td>69</td><td>71</td><td>73</td><td>75</td><td>77</td><td>79</td><td>81</td><td>83</td><td>85</td><td>87</td><td>89</td><td>91</td><td>93</td><td>95</td><td>97</td><td>99</td><td>101</td><td>103</td><td>105</td><td>107</td><td>109</td><td>111</td><td>113</td><td>115</td><td>117</td><td>119</td><td>121</td><td>123</td><td>125</td><td>127</td><td>129</td><td>131</td><td>133</td><td>135</td><td>137</td><td>139</td><td>141</td><td>143</td><td>145</td><td>147</td><td>149</td><td>151</td><td>153</td><td>155</td><td>157</td><td>159</td><td>161</td><td>163</td><td>165</td><td>167</td><td>169</td><td>171</td><td>173</td><td>175</td><td>177</td><td>179</td><td>181</td><td>183</td><td>185</td><td>187</td><td>189</td><td>191</td></tr><tr><td>94</td><td>93</td><td>92</td><td>91</td><td>90</td><td>89</td><td>88</td><td>87</td><td>86</td><td>85</td><td>84</td><td>83</td><td>82</td><td>81</td><td>80</td><td>79</td><td>78</td><td>77</td><td>76</td><td>75</td><td>74</td><td>73</td><td>72</td><td>71</td><td>70</td><td>69</td><td>68</td><td>67</td><td>66</td><td>65</td><td>64</td><td>63</td><td>62</td><td>61</td><td>60</td><td>59</td><td>58</td><td>57</td><td>56</td><td>55</td><td>54</td><td>53</td><td>52</td><td>51</td><td>50</td><td>49</td><td>48</td><td>47</td><td>46</td><td>45</td><td>44</td><td>43</td><td>42</td><td>41</td><td>40</td><td>39</td><td>38</td><td>37</td><td>36</td><td>35</td><td>34</td><td>33</td><td>32</td><td>31</td><td>30</td><td>29</td><td>28</td><td>27</td><td>26</td><td>25</td><td>24</td><td>23</td><td>22</td><td>21</td><td>20</td><td>19</td><td>18</td><td>17</td><td>16</td><td>15</td><td>14</td><td>13</td><td>12</td><td>11</td><td>10</td><td>9</td><td>8</td><td>7</td><td>6</td><td>5</td><td>4</td><td>3</td><td>2</td><td>1</td><td>0</td></tr></table>"
      ],
      "text/plain": [
       "<IPython.core.display.HTML object>"
      ]
     },
     "metadata": {},
     "output_type": "display_data"
    },
    {
     "name": "stdout",
     "output_type": "stream",
     "text": [
      "When p = 193 triangular = 19110 and partial triangular = 97\n"
     ]
    },
    {
     "data": {
      "text/html": [
       "<table><tr><td>3</td><td>5</td><td>7</td><td>9</td><td>11</td><td>13</td><td>15</td><td>17</td><td>19</td><td>21</td><td>23</td><td>25</td><td>27</td><td>29</td><td>31</td><td>33</td><td>35</td><td>37</td><td>39</td><td>41</td><td>43</td><td>45</td><td>47</td><td>49</td><td>51</td><td>53</td><td>55</td><td>57</td><td>59</td><td>61</td><td>63</td><td>65</td><td>67</td><td>69</td><td>71</td><td>73</td><td>75</td><td>77</td><td>79</td><td>81</td><td>83</td><td>85</td><td>87</td><td>89</td><td>91</td><td>93</td><td>95</td><td>97</td><td>99</td><td>101</td><td>103</td><td>105</td><td>107</td><td>109</td><td>111</td><td>113</td><td>115</td><td>117</td><td>119</td><td>121</td><td>123</td><td>125</td><td>127</td><td>129</td><td>131</td><td>133</td><td>135</td><td>137</td><td>139</td><td>141</td><td>143</td><td>145</td><td>147</td><td>149</td><td>151</td><td>153</td><td>155</td><td>157</td><td>159</td><td>161</td><td>163</td><td>165</td><td>167</td><td>169</td><td>171</td><td>173</td><td>175</td><td>177</td><td>179</td><td>181</td><td>183</td><td>185</td><td>187</td><td>189</td><td>191</td><td>193</td></tr><tr><td>95</td><td>94</td><td>93</td><td>92</td><td>91</td><td>90</td><td>89</td><td>88</td><td>87</td><td>86</td><td>85</td><td>84</td><td>83</td><td>82</td><td>81</td><td>80</td><td>79</td><td>78</td><td>77</td><td>76</td><td>75</td><td>74</td><td>73</td><td>72</td><td>71</td><td>70</td><td>69</td><td>68</td><td>67</td><td>66</td><td>65</td><td>64</td><td>63</td><td>62</td><td>61</td><td>60</td><td>59</td><td>58</td><td>57</td><td>56</td><td>55</td><td>54</td><td>53</td><td>52</td><td>51</td><td>50</td><td>49</td><td>48</td><td>47</td><td>46</td><td>45</td><td>44</td><td>43</td><td>42</td><td>41</td><td>40</td><td>39</td><td>38</td><td>37</td><td>36</td><td>35</td><td>34</td><td>33</td><td>32</td><td>31</td><td>30</td><td>29</td><td>28</td><td>27</td><td>26</td><td>25</td><td>24</td><td>23</td><td>22</td><td>21</td><td>20</td><td>19</td><td>18</td><td>17</td><td>16</td><td>15</td><td>14</td><td>13</td><td>12</td><td>11</td><td>10</td><td>9</td><td>8</td><td>7</td><td>6</td><td>5</td><td>4</td><td>3</td><td>2</td><td>1</td><td>0</td></tr></table>"
      ],
      "text/plain": [
       "<IPython.core.display.HTML object>"
      ]
     },
     "metadata": {},
     "output_type": "display_data"
    },
    {
     "name": "stdout",
     "output_type": "stream",
     "text": [
      "When p = 195 triangular = 19110 and partial triangular = 98\n"
     ]
    },
    {
     "data": {
      "text/html": [
       "<table><tr><td>3</td><td>5</td><td>7</td><td>9</td><td>11</td><td>13</td><td>15</td><td>17</td><td>19</td><td>21</td><td>23</td><td>25</td><td>27</td><td>29</td><td>31</td><td>33</td><td>35</td><td>37</td><td>39</td><td>41</td><td>43</td><td>45</td><td>47</td><td>49</td><td>51</td><td>53</td><td>55</td><td>57</td><td>59</td><td>61</td><td>63</td><td>65</td><td>67</td><td>69</td><td>71</td><td>73</td><td>75</td><td>77</td><td>79</td><td>81</td><td>83</td><td>85</td><td>87</td><td>89</td><td>91</td><td>93</td><td>95</td><td>97</td><td>99</td><td>101</td><td>103</td><td>105</td><td>107</td><td>109</td><td>111</td><td>113</td><td>115</td><td>117</td><td>119</td><td>121</td><td>123</td><td>125</td><td>127</td><td>129</td><td>131</td><td>133</td><td>135</td><td>137</td><td>139</td><td>141</td><td>143</td><td>145</td><td>147</td><td>149</td><td>151</td><td>153</td><td>155</td><td>157</td><td>159</td><td>161</td><td>163</td><td>165</td><td>167</td><td>169</td><td>171</td><td>173</td><td>175</td><td>177</td><td>179</td><td>181</td><td>183</td><td>185</td><td>187</td><td>189</td><td>191</td><td>193</td><td>195</td></tr><tr><td>96</td><td>95</td><td>94</td><td>93</td><td>92</td><td>91</td><td>90</td><td>89</td><td>88</td><td>87</td><td>86</td><td>85</td><td>84</td><td>83</td><td>82</td><td>81</td><td>80</td><td>79</td><td>78</td><td>77</td><td>76</td><td>75</td><td>74</td><td>73</td><td>72</td><td>71</td><td>70</td><td>69</td><td>68</td><td>67</td><td>66</td><td>65</td><td>64</td><td>63</td><td>62</td><td>61</td><td>60</td><td>59</td><td>58</td><td>57</td><td>56</td><td>55</td><td>54</td><td>53</td><td>52</td><td>51</td><td>50</td><td>49</td><td>48</td><td>47</td><td>46</td><td>45</td><td>44</td><td>43</td><td>42</td><td>41</td><td>40</td><td>39</td><td>38</td><td>37</td><td>36</td><td>35</td><td>34</td><td>33</td><td>32</td><td>31</td><td>30</td><td>29</td><td>28</td><td>27</td><td>26</td><td>25</td><td>24</td><td>23</td><td>22</td><td>21</td><td>20</td><td>19</td><td>18</td><td>17</td><td>16</td><td>15</td><td>14</td><td>13</td><td>12</td><td>11</td><td>10</td><td>9</td><td>8</td><td>7</td><td>6</td><td>5</td><td>4</td><td>3</td><td>2</td><td>1</td><td>0</td></tr></table>"
      ],
      "text/plain": [
       "<IPython.core.display.HTML object>"
      ]
     },
     "metadata": {},
     "output_type": "display_data"
    }
   ],
   "source": [
    "for p in range(145, 196, 2):\n",
    "    partialt = partial_triangular(p)\n",
    "    \n",
    "    sequences = [[],[]]\n",
    "    \n",
    "    for x1 in range (3, p + 1, 2):\n",
    "        sequences[0].append(x1)\n",
    "    for x2 in range (partialt - 2, -1, -1):\n",
    "        sequences[1].append(x2)\n",
    "    \n",
    "    print(\"When p = {} triangular = {} and partial triangular = {}\".format(p, t, partialt))\n",
    "    \n",
    "    display(HTML(\n",
    "        '<table><tr>{}</tr></table>'.format(\n",
    "            '</tr><tr>'.join(\n",
    "                '<td>{}</td>'.format('</td><td>'.join(str(_) for _ in row)) for row in sequences)\n",
    "            )\n",
    "     ))"
   ]
  },
  {
   "cell_type": "markdown",
   "metadata": {},
   "source": [
    "Having this 2 set of values now is possible to find if number p have divisors and determine if is prime.\n",
    "\n",
    "Notice that top row is ascending until reach p and bottom row desend from pt - 2 to 0 there's a point where they intersect."
   ]
  },
  {
   "cell_type": "code",
   "execution_count": 7,
   "metadata": {
    "scrolled": true
   },
   "outputs": [
    {
     "name": "stdout",
     "output_type": "stream",
     "text": [
      "When p = 145 triangular = 19110 and partial triangular = 73\n"
     ]
    },
    {
     "data": {
      "text/html": [
       "<table><tr><td>3</td><td>5</td><td>7</td><td>9</td><td>11</td><td>13</td><td>15</td><td>17</td><td>19</td><td>21</td><td>23</td><td>25</td><td>27</td><td>29</td><td>31</td><td>33</td><td>35</td><td>37</td><td>39</td><td>41</td><td>43</td><td>45</td><td>47</td></tr><tr><td>71</td><td>70</td><td>69</td><td>68</td><td>67</td><td>66</td><td>65</td><td>64</td><td>63</td><td>62</td><td>61</td><td>60</td><td>59</td><td>58</td><td>57</td><td>56</td><td>55</td><td>54</td><td>53</td><td>52</td><td>51</td><td>50</td><td>49</td></tr></table>"
      ],
      "text/plain": [
       "<IPython.core.display.HTML object>"
      ]
     },
     "metadata": {},
     "output_type": "display_data"
    },
    {
     "name": "stdout",
     "output_type": "stream",
     "text": [
      "When p = 147 triangular = 19110 and partial triangular = 74\n"
     ]
    },
    {
     "data": {
      "text/html": [
       "<table><tr><td>3</td><td>5</td><td>7</td><td>9</td><td>11</td><td>13</td><td>15</td><td>17</td><td>19</td><td>21</td><td>23</td><td>25</td><td>27</td><td>29</td><td>31</td><td>33</td><td>35</td><td>37</td><td>39</td><td>41</td><td>43</td><td>45</td><td>47</td><td>49</td></tr><tr><td>72</td><td>71</td><td>70</td><td>69</td><td>68</td><td>67</td><td>66</td><td>65</td><td>64</td><td>63</td><td>62</td><td>61</td><td>60</td><td>59</td><td>58</td><td>57</td><td>56</td><td>55</td><td>54</td><td>53</td><td>52</td><td>51</td><td>50</td><td>49</td></tr></table>"
      ],
      "text/plain": [
       "<IPython.core.display.HTML object>"
      ]
     },
     "metadata": {},
     "output_type": "display_data"
    },
    {
     "name": "stdout",
     "output_type": "stream",
     "text": [
      "When p = 149 triangular = 19110 and partial triangular = 75\n"
     ]
    },
    {
     "data": {
      "text/html": [
       "<table><tr><td>3</td><td>5</td><td>7</td><td>9</td><td>11</td><td>13</td><td>15</td><td>17</td><td>19</td><td>21</td><td>23</td><td>25</td><td>27</td><td>29</td><td>31</td><td>33</td><td>35</td><td>37</td><td>39</td><td>41</td><td>43</td><td>45</td><td>47</td><td>49</td></tr><tr><td>73</td><td>72</td><td>71</td><td>70</td><td>69</td><td>68</td><td>67</td><td>66</td><td>65</td><td>64</td><td>63</td><td>62</td><td>61</td><td>60</td><td>59</td><td>58</td><td>57</td><td>56</td><td>55</td><td>54</td><td>53</td><td>52</td><td>51</td><td>50</td></tr></table>"
      ],
      "text/plain": [
       "<IPython.core.display.HTML object>"
      ]
     },
     "metadata": {},
     "output_type": "display_data"
    },
    {
     "name": "stdout",
     "output_type": "stream",
     "text": [
      "When p = 151 triangular = 19110 and partial triangular = 76\n"
     ]
    },
    {
     "data": {
      "text/html": [
       "<table><tr><td>3</td><td>5</td><td>7</td><td>9</td><td>11</td><td>13</td><td>15</td><td>17</td><td>19</td><td>21</td><td>23</td><td>25</td><td>27</td><td>29</td><td>31</td><td>33</td><td>35</td><td>37</td><td>39</td><td>41</td><td>43</td><td>45</td><td>47</td><td>49</td></tr><tr><td>74</td><td>73</td><td>72</td><td>71</td><td>70</td><td>69</td><td>68</td><td>67</td><td>66</td><td>65</td><td>64</td><td>63</td><td>62</td><td>61</td><td>60</td><td>59</td><td>58</td><td>57</td><td>56</td><td>55</td><td>54</td><td>53</td><td>52</td><td>51</td></tr></table>"
      ],
      "text/plain": [
       "<IPython.core.display.HTML object>"
      ]
     },
     "metadata": {},
     "output_type": "display_data"
    },
    {
     "name": "stdout",
     "output_type": "stream",
     "text": [
      "When p = 153 triangular = 19110 and partial triangular = 77\n"
     ]
    },
    {
     "data": {
      "text/html": [
       "<table><tr><td>3</td><td>5</td><td>7</td><td>9</td><td>11</td><td>13</td><td>15</td><td>17</td><td>19</td><td>21</td><td>23</td><td>25</td><td>27</td><td>29</td><td>31</td><td>33</td><td>35</td><td>37</td><td>39</td><td>41</td><td>43</td><td>45</td><td>47</td><td>49</td><td>51</td></tr><tr><td>75</td><td>74</td><td>73</td><td>72</td><td>71</td><td>70</td><td>69</td><td>68</td><td>67</td><td>66</td><td>65</td><td>64</td><td>63</td><td>62</td><td>61</td><td>60</td><td>59</td><td>58</td><td>57</td><td>56</td><td>55</td><td>54</td><td>53</td><td>52</td><td>51</td></tr></table>"
      ],
      "text/plain": [
       "<IPython.core.display.HTML object>"
      ]
     },
     "metadata": {},
     "output_type": "display_data"
    },
    {
     "name": "stdout",
     "output_type": "stream",
     "text": [
      "When p = 155 triangular = 19110 and partial triangular = 78\n"
     ]
    },
    {
     "data": {
      "text/html": [
       "<table><tr><td>3</td><td>5</td><td>7</td><td>9</td><td>11</td><td>13</td><td>15</td><td>17</td><td>19</td><td>21</td><td>23</td><td>25</td><td>27</td><td>29</td><td>31</td><td>33</td><td>35</td><td>37</td><td>39</td><td>41</td><td>43</td><td>45</td><td>47</td><td>49</td><td>51</td></tr><tr><td>76</td><td>75</td><td>74</td><td>73</td><td>72</td><td>71</td><td>70</td><td>69</td><td>68</td><td>67</td><td>66</td><td>65</td><td>64</td><td>63</td><td>62</td><td>61</td><td>60</td><td>59</td><td>58</td><td>57</td><td>56</td><td>55</td><td>54</td><td>53</td><td>52</td></tr></table>"
      ],
      "text/plain": [
       "<IPython.core.display.HTML object>"
      ]
     },
     "metadata": {},
     "output_type": "display_data"
    },
    {
     "name": "stdout",
     "output_type": "stream",
     "text": [
      "When p = 157 triangular = 19110 and partial triangular = 79\n"
     ]
    },
    {
     "data": {
      "text/html": [
       "<table><tr><td>3</td><td>5</td><td>7</td><td>9</td><td>11</td><td>13</td><td>15</td><td>17</td><td>19</td><td>21</td><td>23</td><td>25</td><td>27</td><td>29</td><td>31</td><td>33</td><td>35</td><td>37</td><td>39</td><td>41</td><td>43</td><td>45</td><td>47</td><td>49</td><td>51</td></tr><tr><td>77</td><td>76</td><td>75</td><td>74</td><td>73</td><td>72</td><td>71</td><td>70</td><td>69</td><td>68</td><td>67</td><td>66</td><td>65</td><td>64</td><td>63</td><td>62</td><td>61</td><td>60</td><td>59</td><td>58</td><td>57</td><td>56</td><td>55</td><td>54</td><td>53</td></tr></table>"
      ],
      "text/plain": [
       "<IPython.core.display.HTML object>"
      ]
     },
     "metadata": {},
     "output_type": "display_data"
    },
    {
     "name": "stdout",
     "output_type": "stream",
     "text": [
      "When p = 159 triangular = 19110 and partial triangular = 80\n"
     ]
    },
    {
     "data": {
      "text/html": [
       "<table><tr><td>3</td><td>5</td><td>7</td><td>9</td><td>11</td><td>13</td><td>15</td><td>17</td><td>19</td><td>21</td><td>23</td><td>25</td><td>27</td><td>29</td><td>31</td><td>33</td><td>35</td><td>37</td><td>39</td><td>41</td><td>43</td><td>45</td><td>47</td><td>49</td><td>51</td><td>53</td></tr><tr><td>78</td><td>77</td><td>76</td><td>75</td><td>74</td><td>73</td><td>72</td><td>71</td><td>70</td><td>69</td><td>68</td><td>67</td><td>66</td><td>65</td><td>64</td><td>63</td><td>62</td><td>61</td><td>60</td><td>59</td><td>58</td><td>57</td><td>56</td><td>55</td><td>54</td><td>53</td></tr></table>"
      ],
      "text/plain": [
       "<IPython.core.display.HTML object>"
      ]
     },
     "metadata": {},
     "output_type": "display_data"
    },
    {
     "name": "stdout",
     "output_type": "stream",
     "text": [
      "When p = 161 triangular = 19110 and partial triangular = 81\n"
     ]
    },
    {
     "data": {
      "text/html": [
       "<table><tr><td>3</td><td>5</td><td>7</td><td>9</td><td>11</td><td>13</td><td>15</td><td>17</td><td>19</td><td>21</td><td>23</td><td>25</td><td>27</td><td>29</td><td>31</td><td>33</td><td>35</td><td>37</td><td>39</td><td>41</td><td>43</td><td>45</td><td>47</td><td>49</td><td>51</td><td>53</td></tr><tr><td>79</td><td>78</td><td>77</td><td>76</td><td>75</td><td>74</td><td>73</td><td>72</td><td>71</td><td>70</td><td>69</td><td>68</td><td>67</td><td>66</td><td>65</td><td>64</td><td>63</td><td>62</td><td>61</td><td>60</td><td>59</td><td>58</td><td>57</td><td>56</td><td>55</td><td>54</td></tr></table>"
      ],
      "text/plain": [
       "<IPython.core.display.HTML object>"
      ]
     },
     "metadata": {},
     "output_type": "display_data"
    },
    {
     "name": "stdout",
     "output_type": "stream",
     "text": [
      "When p = 163 triangular = 19110 and partial triangular = 82\n"
     ]
    },
    {
     "data": {
      "text/html": [
       "<table><tr><td>3</td><td>5</td><td>7</td><td>9</td><td>11</td><td>13</td><td>15</td><td>17</td><td>19</td><td>21</td><td>23</td><td>25</td><td>27</td><td>29</td><td>31</td><td>33</td><td>35</td><td>37</td><td>39</td><td>41</td><td>43</td><td>45</td><td>47</td><td>49</td><td>51</td><td>53</td></tr><tr><td>80</td><td>79</td><td>78</td><td>77</td><td>76</td><td>75</td><td>74</td><td>73</td><td>72</td><td>71</td><td>70</td><td>69</td><td>68</td><td>67</td><td>66</td><td>65</td><td>64</td><td>63</td><td>62</td><td>61</td><td>60</td><td>59</td><td>58</td><td>57</td><td>56</td><td>55</td></tr></table>"
      ],
      "text/plain": [
       "<IPython.core.display.HTML object>"
      ]
     },
     "metadata": {},
     "output_type": "display_data"
    },
    {
     "name": "stdout",
     "output_type": "stream",
     "text": [
      "When p = 165 triangular = 19110 and partial triangular = 83\n"
     ]
    },
    {
     "data": {
      "text/html": [
       "<table><tr><td>3</td><td>5</td><td>7</td><td>9</td><td>11</td><td>13</td><td>15</td><td>17</td><td>19</td><td>21</td><td>23</td><td>25</td><td>27</td><td>29</td><td>31</td><td>33</td><td>35</td><td>37</td><td>39</td><td>41</td><td>43</td><td>45</td><td>47</td><td>49</td><td>51</td><td>53</td><td>55</td></tr><tr><td>81</td><td>80</td><td>79</td><td>78</td><td>77</td><td>76</td><td>75</td><td>74</td><td>73</td><td>72</td><td>71</td><td>70</td><td>69</td><td>68</td><td>67</td><td>66</td><td>65</td><td>64</td><td>63</td><td>62</td><td>61</td><td>60</td><td>59</td><td>58</td><td>57</td><td>56</td><td>55</td></tr></table>"
      ],
      "text/plain": [
       "<IPython.core.display.HTML object>"
      ]
     },
     "metadata": {},
     "output_type": "display_data"
    },
    {
     "name": "stdout",
     "output_type": "stream",
     "text": [
      "When p = 167 triangular = 19110 and partial triangular = 84\n"
     ]
    },
    {
     "data": {
      "text/html": [
       "<table><tr><td>3</td><td>5</td><td>7</td><td>9</td><td>11</td><td>13</td><td>15</td><td>17</td><td>19</td><td>21</td><td>23</td><td>25</td><td>27</td><td>29</td><td>31</td><td>33</td><td>35</td><td>37</td><td>39</td><td>41</td><td>43</td><td>45</td><td>47</td><td>49</td><td>51</td><td>53</td><td>55</td></tr><tr><td>82</td><td>81</td><td>80</td><td>79</td><td>78</td><td>77</td><td>76</td><td>75</td><td>74</td><td>73</td><td>72</td><td>71</td><td>70</td><td>69</td><td>68</td><td>67</td><td>66</td><td>65</td><td>64</td><td>63</td><td>62</td><td>61</td><td>60</td><td>59</td><td>58</td><td>57</td><td>56</td></tr></table>"
      ],
      "text/plain": [
       "<IPython.core.display.HTML object>"
      ]
     },
     "metadata": {},
     "output_type": "display_data"
    },
    {
     "name": "stdout",
     "output_type": "stream",
     "text": [
      "When p = 169 triangular = 19110 and partial triangular = 85\n"
     ]
    },
    {
     "data": {
      "text/html": [
       "<table><tr><td>3</td><td>5</td><td>7</td><td>9</td><td>11</td><td>13</td><td>15</td><td>17</td><td>19</td><td>21</td><td>23</td><td>25</td><td>27</td><td>29</td><td>31</td><td>33</td><td>35</td><td>37</td><td>39</td><td>41</td><td>43</td><td>45</td><td>47</td><td>49</td><td>51</td><td>53</td><td>55</td></tr><tr><td>83</td><td>82</td><td>81</td><td>80</td><td>79</td><td>78</td><td>77</td><td>76</td><td>75</td><td>74</td><td>73</td><td>72</td><td>71</td><td>70</td><td>69</td><td>68</td><td>67</td><td>66</td><td>65</td><td>64</td><td>63</td><td>62</td><td>61</td><td>60</td><td>59</td><td>58</td><td>57</td></tr></table>"
      ],
      "text/plain": [
       "<IPython.core.display.HTML object>"
      ]
     },
     "metadata": {},
     "output_type": "display_data"
    },
    {
     "name": "stdout",
     "output_type": "stream",
     "text": [
      "When p = 171 triangular = 19110 and partial triangular = 86\n"
     ]
    },
    {
     "data": {
      "text/html": [
       "<table><tr><td>3</td><td>5</td><td>7</td><td>9</td><td>11</td><td>13</td><td>15</td><td>17</td><td>19</td><td>21</td><td>23</td><td>25</td><td>27</td><td>29</td><td>31</td><td>33</td><td>35</td><td>37</td><td>39</td><td>41</td><td>43</td><td>45</td><td>47</td><td>49</td><td>51</td><td>53</td><td>55</td><td>57</td></tr><tr><td>84</td><td>83</td><td>82</td><td>81</td><td>80</td><td>79</td><td>78</td><td>77</td><td>76</td><td>75</td><td>74</td><td>73</td><td>72</td><td>71</td><td>70</td><td>69</td><td>68</td><td>67</td><td>66</td><td>65</td><td>64</td><td>63</td><td>62</td><td>61</td><td>60</td><td>59</td><td>58</td><td>57</td></tr></table>"
      ],
      "text/plain": [
       "<IPython.core.display.HTML object>"
      ]
     },
     "metadata": {},
     "output_type": "display_data"
    },
    {
     "name": "stdout",
     "output_type": "stream",
     "text": [
      "When p = 173 triangular = 19110 and partial triangular = 87\n"
     ]
    },
    {
     "data": {
      "text/html": [
       "<table><tr><td>3</td><td>5</td><td>7</td><td>9</td><td>11</td><td>13</td><td>15</td><td>17</td><td>19</td><td>21</td><td>23</td><td>25</td><td>27</td><td>29</td><td>31</td><td>33</td><td>35</td><td>37</td><td>39</td><td>41</td><td>43</td><td>45</td><td>47</td><td>49</td><td>51</td><td>53</td><td>55</td><td>57</td></tr><tr><td>85</td><td>84</td><td>83</td><td>82</td><td>81</td><td>80</td><td>79</td><td>78</td><td>77</td><td>76</td><td>75</td><td>74</td><td>73</td><td>72</td><td>71</td><td>70</td><td>69</td><td>68</td><td>67</td><td>66</td><td>65</td><td>64</td><td>63</td><td>62</td><td>61</td><td>60</td><td>59</td><td>58</td></tr></table>"
      ],
      "text/plain": [
       "<IPython.core.display.HTML object>"
      ]
     },
     "metadata": {},
     "output_type": "display_data"
    },
    {
     "name": "stdout",
     "output_type": "stream",
     "text": [
      "When p = 175 triangular = 19110 and partial triangular = 88\n"
     ]
    },
    {
     "data": {
      "text/html": [
       "<table><tr><td>3</td><td>5</td><td>7</td><td>9</td><td>11</td><td>13</td><td>15</td><td>17</td><td>19</td><td>21</td><td>23</td><td>25</td><td>27</td><td>29</td><td>31</td><td>33</td><td>35</td><td>37</td><td>39</td><td>41</td><td>43</td><td>45</td><td>47</td><td>49</td><td>51</td><td>53</td><td>55</td><td>57</td></tr><tr><td>86</td><td>85</td><td>84</td><td>83</td><td>82</td><td>81</td><td>80</td><td>79</td><td>78</td><td>77</td><td>76</td><td>75</td><td>74</td><td>73</td><td>72</td><td>71</td><td>70</td><td>69</td><td>68</td><td>67</td><td>66</td><td>65</td><td>64</td><td>63</td><td>62</td><td>61</td><td>60</td><td>59</td></tr></table>"
      ],
      "text/plain": [
       "<IPython.core.display.HTML object>"
      ]
     },
     "metadata": {},
     "output_type": "display_data"
    },
    {
     "name": "stdout",
     "output_type": "stream",
     "text": [
      "When p = 177 triangular = 19110 and partial triangular = 89\n"
     ]
    },
    {
     "data": {
      "text/html": [
       "<table><tr><td>3</td><td>5</td><td>7</td><td>9</td><td>11</td><td>13</td><td>15</td><td>17</td><td>19</td><td>21</td><td>23</td><td>25</td><td>27</td><td>29</td><td>31</td><td>33</td><td>35</td><td>37</td><td>39</td><td>41</td><td>43</td><td>45</td><td>47</td><td>49</td><td>51</td><td>53</td><td>55</td><td>57</td><td>59</td></tr><tr><td>87</td><td>86</td><td>85</td><td>84</td><td>83</td><td>82</td><td>81</td><td>80</td><td>79</td><td>78</td><td>77</td><td>76</td><td>75</td><td>74</td><td>73</td><td>72</td><td>71</td><td>70</td><td>69</td><td>68</td><td>67</td><td>66</td><td>65</td><td>64</td><td>63</td><td>62</td><td>61</td><td>60</td><td>59</td></tr></table>"
      ],
      "text/plain": [
       "<IPython.core.display.HTML object>"
      ]
     },
     "metadata": {},
     "output_type": "display_data"
    },
    {
     "name": "stdout",
     "output_type": "stream",
     "text": [
      "When p = 179 triangular = 19110 and partial triangular = 90\n"
     ]
    },
    {
     "data": {
      "text/html": [
       "<table><tr><td>3</td><td>5</td><td>7</td><td>9</td><td>11</td><td>13</td><td>15</td><td>17</td><td>19</td><td>21</td><td>23</td><td>25</td><td>27</td><td>29</td><td>31</td><td>33</td><td>35</td><td>37</td><td>39</td><td>41</td><td>43</td><td>45</td><td>47</td><td>49</td><td>51</td><td>53</td><td>55</td><td>57</td><td>59</td></tr><tr><td>88</td><td>87</td><td>86</td><td>85</td><td>84</td><td>83</td><td>82</td><td>81</td><td>80</td><td>79</td><td>78</td><td>77</td><td>76</td><td>75</td><td>74</td><td>73</td><td>72</td><td>71</td><td>70</td><td>69</td><td>68</td><td>67</td><td>66</td><td>65</td><td>64</td><td>63</td><td>62</td><td>61</td><td>60</td></tr></table>"
      ],
      "text/plain": [
       "<IPython.core.display.HTML object>"
      ]
     },
     "metadata": {},
     "output_type": "display_data"
    },
    {
     "name": "stdout",
     "output_type": "stream",
     "text": [
      "When p = 181 triangular = 19110 and partial triangular = 91\n"
     ]
    },
    {
     "data": {
      "text/html": [
       "<table><tr><td>3</td><td>5</td><td>7</td><td>9</td><td>11</td><td>13</td><td>15</td><td>17</td><td>19</td><td>21</td><td>23</td><td>25</td><td>27</td><td>29</td><td>31</td><td>33</td><td>35</td><td>37</td><td>39</td><td>41</td><td>43</td><td>45</td><td>47</td><td>49</td><td>51</td><td>53</td><td>55</td><td>57</td><td>59</td></tr><tr><td>89</td><td>88</td><td>87</td><td>86</td><td>85</td><td>84</td><td>83</td><td>82</td><td>81</td><td>80</td><td>79</td><td>78</td><td>77</td><td>76</td><td>75</td><td>74</td><td>73</td><td>72</td><td>71</td><td>70</td><td>69</td><td>68</td><td>67</td><td>66</td><td>65</td><td>64</td><td>63</td><td>62</td><td>61</td></tr></table>"
      ],
      "text/plain": [
       "<IPython.core.display.HTML object>"
      ]
     },
     "metadata": {},
     "output_type": "display_data"
    },
    {
     "name": "stdout",
     "output_type": "stream",
     "text": [
      "When p = 183 triangular = 19110 and partial triangular = 92\n"
     ]
    },
    {
     "data": {
      "text/html": [
       "<table><tr><td>3</td><td>5</td><td>7</td><td>9</td><td>11</td><td>13</td><td>15</td><td>17</td><td>19</td><td>21</td><td>23</td><td>25</td><td>27</td><td>29</td><td>31</td><td>33</td><td>35</td><td>37</td><td>39</td><td>41</td><td>43</td><td>45</td><td>47</td><td>49</td><td>51</td><td>53</td><td>55</td><td>57</td><td>59</td><td>61</td></tr><tr><td>90</td><td>89</td><td>88</td><td>87</td><td>86</td><td>85</td><td>84</td><td>83</td><td>82</td><td>81</td><td>80</td><td>79</td><td>78</td><td>77</td><td>76</td><td>75</td><td>74</td><td>73</td><td>72</td><td>71</td><td>70</td><td>69</td><td>68</td><td>67</td><td>66</td><td>65</td><td>64</td><td>63</td><td>62</td><td>61</td></tr></table>"
      ],
      "text/plain": [
       "<IPython.core.display.HTML object>"
      ]
     },
     "metadata": {},
     "output_type": "display_data"
    },
    {
     "name": "stdout",
     "output_type": "stream",
     "text": [
      "When p = 185 triangular = 19110 and partial triangular = 93\n"
     ]
    },
    {
     "data": {
      "text/html": [
       "<table><tr><td>3</td><td>5</td><td>7</td><td>9</td><td>11</td><td>13</td><td>15</td><td>17</td><td>19</td><td>21</td><td>23</td><td>25</td><td>27</td><td>29</td><td>31</td><td>33</td><td>35</td><td>37</td><td>39</td><td>41</td><td>43</td><td>45</td><td>47</td><td>49</td><td>51</td><td>53</td><td>55</td><td>57</td><td>59</td><td>61</td></tr><tr><td>91</td><td>90</td><td>89</td><td>88</td><td>87</td><td>86</td><td>85</td><td>84</td><td>83</td><td>82</td><td>81</td><td>80</td><td>79</td><td>78</td><td>77</td><td>76</td><td>75</td><td>74</td><td>73</td><td>72</td><td>71</td><td>70</td><td>69</td><td>68</td><td>67</td><td>66</td><td>65</td><td>64</td><td>63</td><td>62</td></tr></table>"
      ],
      "text/plain": [
       "<IPython.core.display.HTML object>"
      ]
     },
     "metadata": {},
     "output_type": "display_data"
    },
    {
     "name": "stdout",
     "output_type": "stream",
     "text": [
      "When p = 187 triangular = 19110 and partial triangular = 94\n"
     ]
    },
    {
     "data": {
      "text/html": [
       "<table><tr><td>3</td><td>5</td><td>7</td><td>9</td><td>11</td><td>13</td><td>15</td><td>17</td><td>19</td><td>21</td><td>23</td><td>25</td><td>27</td><td>29</td><td>31</td><td>33</td><td>35</td><td>37</td><td>39</td><td>41</td><td>43</td><td>45</td><td>47</td><td>49</td><td>51</td><td>53</td><td>55</td><td>57</td><td>59</td><td>61</td></tr><tr><td>92</td><td>91</td><td>90</td><td>89</td><td>88</td><td>87</td><td>86</td><td>85</td><td>84</td><td>83</td><td>82</td><td>81</td><td>80</td><td>79</td><td>78</td><td>77</td><td>76</td><td>75</td><td>74</td><td>73</td><td>72</td><td>71</td><td>70</td><td>69</td><td>68</td><td>67</td><td>66</td><td>65</td><td>64</td><td>63</td></tr></table>"
      ],
      "text/plain": [
       "<IPython.core.display.HTML object>"
      ]
     },
     "metadata": {},
     "output_type": "display_data"
    },
    {
     "name": "stdout",
     "output_type": "stream",
     "text": [
      "When p = 189 triangular = 19110 and partial triangular = 95\n"
     ]
    },
    {
     "data": {
      "text/html": [
       "<table><tr><td>3</td><td>5</td><td>7</td><td>9</td><td>11</td><td>13</td><td>15</td><td>17</td><td>19</td><td>21</td><td>23</td><td>25</td><td>27</td><td>29</td><td>31</td><td>33</td><td>35</td><td>37</td><td>39</td><td>41</td><td>43</td><td>45</td><td>47</td><td>49</td><td>51</td><td>53</td><td>55</td><td>57</td><td>59</td><td>61</td><td>63</td></tr><tr><td>93</td><td>92</td><td>91</td><td>90</td><td>89</td><td>88</td><td>87</td><td>86</td><td>85</td><td>84</td><td>83</td><td>82</td><td>81</td><td>80</td><td>79</td><td>78</td><td>77</td><td>76</td><td>75</td><td>74</td><td>73</td><td>72</td><td>71</td><td>70</td><td>69</td><td>68</td><td>67</td><td>66</td><td>65</td><td>64</td><td>63</td></tr></table>"
      ],
      "text/plain": [
       "<IPython.core.display.HTML object>"
      ]
     },
     "metadata": {},
     "output_type": "display_data"
    },
    {
     "name": "stdout",
     "output_type": "stream",
     "text": [
      "When p = 191 triangular = 19110 and partial triangular = 96\n"
     ]
    },
    {
     "data": {
      "text/html": [
       "<table><tr><td>3</td><td>5</td><td>7</td><td>9</td><td>11</td><td>13</td><td>15</td><td>17</td><td>19</td><td>21</td><td>23</td><td>25</td><td>27</td><td>29</td><td>31</td><td>33</td><td>35</td><td>37</td><td>39</td><td>41</td><td>43</td><td>45</td><td>47</td><td>49</td><td>51</td><td>53</td><td>55</td><td>57</td><td>59</td><td>61</td><td>63</td></tr><tr><td>94</td><td>93</td><td>92</td><td>91</td><td>90</td><td>89</td><td>88</td><td>87</td><td>86</td><td>85</td><td>84</td><td>83</td><td>82</td><td>81</td><td>80</td><td>79</td><td>78</td><td>77</td><td>76</td><td>75</td><td>74</td><td>73</td><td>72</td><td>71</td><td>70</td><td>69</td><td>68</td><td>67</td><td>66</td><td>65</td><td>64</td></tr></table>"
      ],
      "text/plain": [
       "<IPython.core.display.HTML object>"
      ]
     },
     "metadata": {},
     "output_type": "display_data"
    },
    {
     "name": "stdout",
     "output_type": "stream",
     "text": [
      "When p = 193 triangular = 19110 and partial triangular = 97\n"
     ]
    },
    {
     "data": {
      "text/html": [
       "<table><tr><td>3</td><td>5</td><td>7</td><td>9</td><td>11</td><td>13</td><td>15</td><td>17</td><td>19</td><td>21</td><td>23</td><td>25</td><td>27</td><td>29</td><td>31</td><td>33</td><td>35</td><td>37</td><td>39</td><td>41</td><td>43</td><td>45</td><td>47</td><td>49</td><td>51</td><td>53</td><td>55</td><td>57</td><td>59</td><td>61</td><td>63</td></tr><tr><td>95</td><td>94</td><td>93</td><td>92</td><td>91</td><td>90</td><td>89</td><td>88</td><td>87</td><td>86</td><td>85</td><td>84</td><td>83</td><td>82</td><td>81</td><td>80</td><td>79</td><td>78</td><td>77</td><td>76</td><td>75</td><td>74</td><td>73</td><td>72</td><td>71</td><td>70</td><td>69</td><td>68</td><td>67</td><td>66</td><td>65</td></tr></table>"
      ],
      "text/plain": [
       "<IPython.core.display.HTML object>"
      ]
     },
     "metadata": {},
     "output_type": "display_data"
    },
    {
     "name": "stdout",
     "output_type": "stream",
     "text": [
      "When p = 195 triangular = 19110 and partial triangular = 98\n"
     ]
    },
    {
     "data": {
      "text/html": [
       "<table><tr><td>3</td><td>5</td><td>7</td><td>9</td><td>11</td><td>13</td><td>15</td><td>17</td><td>19</td><td>21</td><td>23</td><td>25</td><td>27</td><td>29</td><td>31</td><td>33</td><td>35</td><td>37</td><td>39</td><td>41</td><td>43</td><td>45</td><td>47</td><td>49</td><td>51</td><td>53</td><td>55</td><td>57</td><td>59</td><td>61</td><td>63</td><td>65</td></tr><tr><td>96</td><td>95</td><td>94</td><td>93</td><td>92</td><td>91</td><td>90</td><td>89</td><td>88</td><td>87</td><td>86</td><td>85</td><td>84</td><td>83</td><td>82</td><td>81</td><td>80</td><td>79</td><td>78</td><td>77</td><td>76</td><td>75</td><td>74</td><td>73</td><td>72</td><td>71</td><td>70</td><td>69</td><td>68</td><td>67</td><td>66</td><td>65</td></tr></table>"
      ],
      "text/plain": [
       "<IPython.core.display.HTML object>"
      ]
     },
     "metadata": {},
     "output_type": "display_data"
    }
   ],
   "source": [
    "for p in range(145, 196, 2):\n",
    "    partialt = partial_triangular(p)\n",
    "    #temporal variable to generate the secuence value\n",
    "    partialt_temp = partialt - 1\n",
    "    \n",
    "    sequences = [[],[]]\n",
    "    \n",
    "    for x1 in range (3, int(p / 3 + 1), 2):\n",
    "        sequences[0].append(x1)\n",
    "    #   sequences[1].append(partialt_temp - 1)\n",
    "    for x2 in sequences[0]:\n",
    "        partialt_temp = partialt_temp -1\n",
    "        sequences[1].append(partialt_temp)\n",
    "    \n",
    "    print(\"When p = {} triangular = {} and partial triangular = {}\".format(p, t, partialt))\n",
    "    \n",
    "    display(HTML(\n",
    "        '<table><tr>{}</tr></table>'.format(\n",
    "            '</tr><tr>'.join(\n",
    "                '<td>{}</td>'.format('</td><td>'.join(str(_) for _ in row)) for row in sequences)\n",
    "            )\n",
    "     ))"
   ]
  },
  {
   "cell_type": "markdown",
   "metadata": {},
   "source": [
    "Being shortened the sequence is easier to notice that there's a relationship between both rows, where both sequences perfectly matches p is divisible by 3 and so the first colum of the sequence, now will apply modulo operator to see it clearly."
   ]
  },
  {
   "cell_type": "code",
   "execution_count": 8,
   "metadata": {
    "scrolled": false
   },
   "outputs": [
    {
     "name": "stdout",
     "output_type": "stream",
     "text": [
      "When p = 145 triangular = 19110 and partial triangular = 73 Is p prime? = False\n"
     ]
    },
    {
     "data": {
      "text/html": [
       "<table><tr><td>3</td><td>5</td><td>7</td><td>9</td><td>11</td><td>13</td><td>15</td><td>17</td><td>19</td><td>21</td><td>23</td><td>25</td><td>27</td><td>29</td><td>31</td><td>33</td><td>35</td><td>37</td><td>39</td><td>41</td><td>43</td><td>45</td><td>47</td></tr><tr><td>71</td><td>70</td><td>69</td><td>68</td><td>67</td><td>66</td><td>65</td><td>64</td><td>63</td><td>62</td><td>61</td><td>60</td><td>59</td><td>58</td><td>57</td><td>56</td><td>55</td><td>54</td><td>53</td><td>52</td><td>51</td><td>50</td><td>49</td></tr><tr><td>2</td><td>0</td><td>6</td><td>5</td><td>1</td><td>1</td><td>5</td><td>13</td><td>6</td><td>20</td><td>15</td><td>10</td><td>5</td><td>0</td><td>26</td><td>23</td><td>20</td><td>17</td><td>14</td><td>11</td><td>8</td><td>5</td><td>2</td></tr></table>"
      ],
      "text/plain": [
       "<IPython.core.display.HTML object>"
      ]
     },
     "metadata": {},
     "output_type": "display_data"
    },
    {
     "name": "stdout",
     "output_type": "stream",
     "text": [
      "When p = 147 triangular = 19110 and partial triangular = 74 Is p prime? = False\n"
     ]
    },
    {
     "data": {
      "text/html": [
       "<table><tr><td>3</td><td>5</td><td>7</td><td>9</td><td>11</td><td>13</td><td>15</td><td>17</td><td>19</td><td>21</td><td>23</td><td>25</td><td>27</td><td>29</td><td>31</td><td>33</td><td>35</td><td>37</td><td>39</td><td>41</td><td>43</td><td>45</td><td>47</td><td>49</td></tr><tr><td>72</td><td>71</td><td>70</td><td>69</td><td>68</td><td>67</td><td>66</td><td>65</td><td>64</td><td>63</td><td>62</td><td>61</td><td>60</td><td>59</td><td>58</td><td>57</td><td>56</td><td>55</td><td>54</td><td>53</td><td>52</td><td>51</td><td>50</td><td>49</td></tr><tr><td>0</td><td>1</td><td>0</td><td>6</td><td>2</td><td>2</td><td>6</td><td>14</td><td>7</td><td>0</td><td>16</td><td>11</td><td>6</td><td>1</td><td>27</td><td>24</td><td>21</td><td>18</td><td>15</td><td>12</td><td>9</td><td>6</td><td>3</td><td>0</td></tr></table>"
      ],
      "text/plain": [
       "<IPython.core.display.HTML object>"
      ]
     },
     "metadata": {},
     "output_type": "display_data"
    },
    {
     "name": "stdout",
     "output_type": "stream",
     "text": [
      "When p = 149 triangular = 19110 and partial triangular = 75 Is p prime? = True\n"
     ]
    },
    {
     "data": {
      "text/html": [
       "<table><tr><td>3</td><td>5</td><td>7</td><td>9</td><td>11</td><td>13</td><td>15</td><td>17</td><td>19</td><td>21</td><td>23</td><td>25</td><td>27</td><td>29</td><td>31</td><td>33</td><td>35</td><td>37</td><td>39</td><td>41</td><td>43</td><td>45</td><td>47</td><td>49</td></tr><tr><td>73</td><td>72</td><td>71</td><td>70</td><td>69</td><td>68</td><td>67</td><td>66</td><td>65</td><td>64</td><td>63</td><td>62</td><td>61</td><td>60</td><td>59</td><td>58</td><td>57</td><td>56</td><td>55</td><td>54</td><td>53</td><td>52</td><td>51</td><td>50</td></tr><tr><td>1</td><td>2</td><td>1</td><td>7</td><td>3</td><td>3</td><td>7</td><td>15</td><td>8</td><td>1</td><td>17</td><td>12</td><td>7</td><td>2</td><td>28</td><td>25</td><td>22</td><td>19</td><td>16</td><td>13</td><td>10</td><td>7</td><td>4</td><td>1</td></tr></table>"
      ],
      "text/plain": [
       "<IPython.core.display.HTML object>"
      ]
     },
     "metadata": {},
     "output_type": "display_data"
    },
    {
     "name": "stdout",
     "output_type": "stream",
     "text": [
      "When p = 151 triangular = 19110 and partial triangular = 76 Is p prime? = True\n"
     ]
    },
    {
     "data": {
      "text/html": [
       "<table><tr><td>3</td><td>5</td><td>7</td><td>9</td><td>11</td><td>13</td><td>15</td><td>17</td><td>19</td><td>21</td><td>23</td><td>25</td><td>27</td><td>29</td><td>31</td><td>33</td><td>35</td><td>37</td><td>39</td><td>41</td><td>43</td><td>45</td><td>47</td><td>49</td></tr><tr><td>74</td><td>73</td><td>72</td><td>71</td><td>70</td><td>69</td><td>68</td><td>67</td><td>66</td><td>65</td><td>64</td><td>63</td><td>62</td><td>61</td><td>60</td><td>59</td><td>58</td><td>57</td><td>56</td><td>55</td><td>54</td><td>53</td><td>52</td><td>51</td></tr><tr><td>2</td><td>3</td><td>2</td><td>8</td><td>4</td><td>4</td><td>8</td><td>16</td><td>9</td><td>2</td><td>18</td><td>13</td><td>8</td><td>3</td><td>29</td><td>26</td><td>23</td><td>20</td><td>17</td><td>14</td><td>11</td><td>8</td><td>5</td><td>2</td></tr></table>"
      ],
      "text/plain": [
       "<IPython.core.display.HTML object>"
      ]
     },
     "metadata": {},
     "output_type": "display_data"
    },
    {
     "name": "stdout",
     "output_type": "stream",
     "text": [
      "When p = 153 triangular = 19110 and partial triangular = 77 Is p prime? = False\n"
     ]
    },
    {
     "data": {
      "text/html": [
       "<table><tr><td>3</td><td>5</td><td>7</td><td>9</td><td>11</td><td>13</td><td>15</td><td>17</td><td>19</td><td>21</td><td>23</td><td>25</td><td>27</td><td>29</td><td>31</td><td>33</td><td>35</td><td>37</td><td>39</td><td>41</td><td>43</td><td>45</td><td>47</td><td>49</td><td>51</td></tr><tr><td>75</td><td>74</td><td>73</td><td>72</td><td>71</td><td>70</td><td>69</td><td>68</td><td>67</td><td>66</td><td>65</td><td>64</td><td>63</td><td>62</td><td>61</td><td>60</td><td>59</td><td>58</td><td>57</td><td>56</td><td>55</td><td>54</td><td>53</td><td>52</td><td>51</td></tr><tr><td>0</td><td>4</td><td>3</td><td>0</td><td>5</td><td>5</td><td>9</td><td>0</td><td>10</td><td>3</td><td>19</td><td>14</td><td>9</td><td>4</td><td>30</td><td>27</td><td>24</td><td>21</td><td>18</td><td>15</td><td>12</td><td>9</td><td>6</td><td>3</td><td>0</td></tr></table>"
      ],
      "text/plain": [
       "<IPython.core.display.HTML object>"
      ]
     },
     "metadata": {},
     "output_type": "display_data"
    },
    {
     "name": "stdout",
     "output_type": "stream",
     "text": [
      "When p = 155 triangular = 19110 and partial triangular = 78 Is p prime? = False\n"
     ]
    },
    {
     "data": {
      "text/html": [
       "<table><tr><td>3</td><td>5</td><td>7</td><td>9</td><td>11</td><td>13</td><td>15</td><td>17</td><td>19</td><td>21</td><td>23</td><td>25</td><td>27</td><td>29</td><td>31</td><td>33</td><td>35</td><td>37</td><td>39</td><td>41</td><td>43</td><td>45</td><td>47</td><td>49</td><td>51</td></tr><tr><td>76</td><td>75</td><td>74</td><td>73</td><td>72</td><td>71</td><td>70</td><td>69</td><td>68</td><td>67</td><td>66</td><td>65</td><td>64</td><td>63</td><td>62</td><td>61</td><td>60</td><td>59</td><td>58</td><td>57</td><td>56</td><td>55</td><td>54</td><td>53</td><td>52</td></tr><tr><td>1</td><td>0</td><td>4</td><td>1</td><td>6</td><td>6</td><td>10</td><td>1</td><td>11</td><td>4</td><td>20</td><td>15</td><td>10</td><td>5</td><td>0</td><td>28</td><td>25</td><td>22</td><td>19</td><td>16</td><td>13</td><td>10</td><td>7</td><td>4</td><td>1</td></tr></table>"
      ],
      "text/plain": [
       "<IPython.core.display.HTML object>"
      ]
     },
     "metadata": {},
     "output_type": "display_data"
    },
    {
     "name": "stdout",
     "output_type": "stream",
     "text": [
      "When p = 157 triangular = 19110 and partial triangular = 79 Is p prime? = True\n"
     ]
    },
    {
     "data": {
      "text/html": [
       "<table><tr><td>3</td><td>5</td><td>7</td><td>9</td><td>11</td><td>13</td><td>15</td><td>17</td><td>19</td><td>21</td><td>23</td><td>25</td><td>27</td><td>29</td><td>31</td><td>33</td><td>35</td><td>37</td><td>39</td><td>41</td><td>43</td><td>45</td><td>47</td><td>49</td><td>51</td></tr><tr><td>77</td><td>76</td><td>75</td><td>74</td><td>73</td><td>72</td><td>71</td><td>70</td><td>69</td><td>68</td><td>67</td><td>66</td><td>65</td><td>64</td><td>63</td><td>62</td><td>61</td><td>60</td><td>59</td><td>58</td><td>57</td><td>56</td><td>55</td><td>54</td><td>53</td></tr><tr><td>2</td><td>1</td><td>5</td><td>2</td><td>7</td><td>7</td><td>11</td><td>2</td><td>12</td><td>5</td><td>21</td><td>16</td><td>11</td><td>6</td><td>1</td><td>29</td><td>26</td><td>23</td><td>20</td><td>17</td><td>14</td><td>11</td><td>8</td><td>5</td><td>2</td></tr></table>"
      ],
      "text/plain": [
       "<IPython.core.display.HTML object>"
      ]
     },
     "metadata": {},
     "output_type": "display_data"
    },
    {
     "name": "stdout",
     "output_type": "stream",
     "text": [
      "When p = 159 triangular = 19110 and partial triangular = 80 Is p prime? = False\n"
     ]
    },
    {
     "data": {
      "text/html": [
       "<table><tr><td>3</td><td>5</td><td>7</td><td>9</td><td>11</td><td>13</td><td>15</td><td>17</td><td>19</td><td>21</td><td>23</td><td>25</td><td>27</td><td>29</td><td>31</td><td>33</td><td>35</td><td>37</td><td>39</td><td>41</td><td>43</td><td>45</td><td>47</td><td>49</td><td>51</td><td>53</td></tr><tr><td>78</td><td>77</td><td>76</td><td>75</td><td>74</td><td>73</td><td>72</td><td>71</td><td>70</td><td>69</td><td>68</td><td>67</td><td>66</td><td>65</td><td>64</td><td>63</td><td>62</td><td>61</td><td>60</td><td>59</td><td>58</td><td>57</td><td>56</td><td>55</td><td>54</td><td>53</td></tr><tr><td>0</td><td>2</td><td>6</td><td>3</td><td>8</td><td>8</td><td>12</td><td>3</td><td>13</td><td>6</td><td>22</td><td>17</td><td>12</td><td>7</td><td>2</td><td>30</td><td>27</td><td>24</td><td>21</td><td>18</td><td>15</td><td>12</td><td>9</td><td>6</td><td>3</td><td>0</td></tr></table>"
      ],
      "text/plain": [
       "<IPython.core.display.HTML object>"
      ]
     },
     "metadata": {},
     "output_type": "display_data"
    },
    {
     "name": "stdout",
     "output_type": "stream",
     "text": [
      "When p = 161 triangular = 19110 and partial triangular = 81 Is p prime? = False\n"
     ]
    },
    {
     "data": {
      "text/html": [
       "<table><tr><td>3</td><td>5</td><td>7</td><td>9</td><td>11</td><td>13</td><td>15</td><td>17</td><td>19</td><td>21</td><td>23</td><td>25</td><td>27</td><td>29</td><td>31</td><td>33</td><td>35</td><td>37</td><td>39</td><td>41</td><td>43</td><td>45</td><td>47</td><td>49</td><td>51</td><td>53</td></tr><tr><td>79</td><td>78</td><td>77</td><td>76</td><td>75</td><td>74</td><td>73</td><td>72</td><td>71</td><td>70</td><td>69</td><td>68</td><td>67</td><td>66</td><td>65</td><td>64</td><td>63</td><td>62</td><td>61</td><td>60</td><td>59</td><td>58</td><td>57</td><td>56</td><td>55</td><td>54</td></tr><tr><td>1</td><td>3</td><td>0</td><td>4</td><td>9</td><td>9</td><td>13</td><td>4</td><td>14</td><td>7</td><td>0</td><td>18</td><td>13</td><td>8</td><td>3</td><td>31</td><td>28</td><td>25</td><td>22</td><td>19</td><td>16</td><td>13</td><td>10</td><td>7</td><td>4</td><td>1</td></tr></table>"
      ],
      "text/plain": [
       "<IPython.core.display.HTML object>"
      ]
     },
     "metadata": {},
     "output_type": "display_data"
    },
    {
     "name": "stdout",
     "output_type": "stream",
     "text": [
      "When p = 163 triangular = 19110 and partial triangular = 82 Is p prime? = True\n"
     ]
    },
    {
     "data": {
      "text/html": [
       "<table><tr><td>3</td><td>5</td><td>7</td><td>9</td><td>11</td><td>13</td><td>15</td><td>17</td><td>19</td><td>21</td><td>23</td><td>25</td><td>27</td><td>29</td><td>31</td><td>33</td><td>35</td><td>37</td><td>39</td><td>41</td><td>43</td><td>45</td><td>47</td><td>49</td><td>51</td><td>53</td></tr><tr><td>80</td><td>79</td><td>78</td><td>77</td><td>76</td><td>75</td><td>74</td><td>73</td><td>72</td><td>71</td><td>70</td><td>69</td><td>68</td><td>67</td><td>66</td><td>65</td><td>64</td><td>63</td><td>62</td><td>61</td><td>60</td><td>59</td><td>58</td><td>57</td><td>56</td><td>55</td></tr><tr><td>2</td><td>4</td><td>1</td><td>5</td><td>10</td><td>10</td><td>14</td><td>5</td><td>15</td><td>8</td><td>1</td><td>19</td><td>14</td><td>9</td><td>4</td><td>32</td><td>29</td><td>26</td><td>23</td><td>20</td><td>17</td><td>14</td><td>11</td><td>8</td><td>5</td><td>2</td></tr></table>"
      ],
      "text/plain": [
       "<IPython.core.display.HTML object>"
      ]
     },
     "metadata": {},
     "output_type": "display_data"
    },
    {
     "name": "stdout",
     "output_type": "stream",
     "text": [
      "When p = 165 triangular = 19110 and partial triangular = 83 Is p prime? = False\n"
     ]
    },
    {
     "data": {
      "text/html": [
       "<table><tr><td>3</td><td>5</td><td>7</td><td>9</td><td>11</td><td>13</td><td>15</td><td>17</td><td>19</td><td>21</td><td>23</td><td>25</td><td>27</td><td>29</td><td>31</td><td>33</td><td>35</td><td>37</td><td>39</td><td>41</td><td>43</td><td>45</td><td>47</td><td>49</td><td>51</td><td>53</td><td>55</td></tr><tr><td>81</td><td>80</td><td>79</td><td>78</td><td>77</td><td>76</td><td>75</td><td>74</td><td>73</td><td>72</td><td>71</td><td>70</td><td>69</td><td>68</td><td>67</td><td>66</td><td>65</td><td>64</td><td>63</td><td>62</td><td>61</td><td>60</td><td>59</td><td>58</td><td>57</td><td>56</td><td>55</td></tr><tr><td>0</td><td>0</td><td>2</td><td>6</td><td>0</td><td>11</td><td>0</td><td>6</td><td>16</td><td>9</td><td>2</td><td>20</td><td>15</td><td>10</td><td>5</td><td>0</td><td>30</td><td>27</td><td>24</td><td>21</td><td>18</td><td>15</td><td>12</td><td>9</td><td>6</td><td>3</td><td>0</td></tr></table>"
      ],
      "text/plain": [
       "<IPython.core.display.HTML object>"
      ]
     },
     "metadata": {},
     "output_type": "display_data"
    },
    {
     "name": "stdout",
     "output_type": "stream",
     "text": [
      "When p = 167 triangular = 19110 and partial triangular = 84 Is p prime? = True\n"
     ]
    },
    {
     "data": {
      "text/html": [
       "<table><tr><td>3</td><td>5</td><td>7</td><td>9</td><td>11</td><td>13</td><td>15</td><td>17</td><td>19</td><td>21</td><td>23</td><td>25</td><td>27</td><td>29</td><td>31</td><td>33</td><td>35</td><td>37</td><td>39</td><td>41</td><td>43</td><td>45</td><td>47</td><td>49</td><td>51</td><td>53</td><td>55</td></tr><tr><td>82</td><td>81</td><td>80</td><td>79</td><td>78</td><td>77</td><td>76</td><td>75</td><td>74</td><td>73</td><td>72</td><td>71</td><td>70</td><td>69</td><td>68</td><td>67</td><td>66</td><td>65</td><td>64</td><td>63</td><td>62</td><td>61</td><td>60</td><td>59</td><td>58</td><td>57</td><td>56</td></tr><tr><td>1</td><td>1</td><td>3</td><td>7</td><td>1</td><td>12</td><td>1</td><td>7</td><td>17</td><td>10</td><td>3</td><td>21</td><td>16</td><td>11</td><td>6</td><td>1</td><td>31</td><td>28</td><td>25</td><td>22</td><td>19</td><td>16</td><td>13</td><td>10</td><td>7</td><td>4</td><td>1</td></tr></table>"
      ],
      "text/plain": [
       "<IPython.core.display.HTML object>"
      ]
     },
     "metadata": {},
     "output_type": "display_data"
    },
    {
     "name": "stdout",
     "output_type": "stream",
     "text": [
      "When p = 169 triangular = 19110 and partial triangular = 85 Is p prime? = False\n"
     ]
    },
    {
     "data": {
      "text/html": [
       "<table><tr><td>3</td><td>5</td><td>7</td><td>9</td><td>11</td><td>13</td><td>15</td><td>17</td><td>19</td><td>21</td><td>23</td><td>25</td><td>27</td><td>29</td><td>31</td><td>33</td><td>35</td><td>37</td><td>39</td><td>41</td><td>43</td><td>45</td><td>47</td><td>49</td><td>51</td><td>53</td><td>55</td></tr><tr><td>83</td><td>82</td><td>81</td><td>80</td><td>79</td><td>78</td><td>77</td><td>76</td><td>75</td><td>74</td><td>73</td><td>72</td><td>71</td><td>70</td><td>69</td><td>68</td><td>67</td><td>66</td><td>65</td><td>64</td><td>63</td><td>62</td><td>61</td><td>60</td><td>59</td><td>58</td><td>57</td></tr><tr><td>2</td><td>2</td><td>4</td><td>8</td><td>2</td><td>0</td><td>2</td><td>8</td><td>18</td><td>11</td><td>4</td><td>22</td><td>17</td><td>12</td><td>7</td><td>2</td><td>32</td><td>29</td><td>26</td><td>23</td><td>20</td><td>17</td><td>14</td><td>11</td><td>8</td><td>5</td><td>2</td></tr></table>"
      ],
      "text/plain": [
       "<IPython.core.display.HTML object>"
      ]
     },
     "metadata": {},
     "output_type": "display_data"
    },
    {
     "name": "stdout",
     "output_type": "stream",
     "text": [
      "When p = 171 triangular = 19110 and partial triangular = 86 Is p prime? = False\n"
     ]
    },
    {
     "data": {
      "text/html": [
       "<table><tr><td>3</td><td>5</td><td>7</td><td>9</td><td>11</td><td>13</td><td>15</td><td>17</td><td>19</td><td>21</td><td>23</td><td>25</td><td>27</td><td>29</td><td>31</td><td>33</td><td>35</td><td>37</td><td>39</td><td>41</td><td>43</td><td>45</td><td>47</td><td>49</td><td>51</td><td>53</td><td>55</td><td>57</td></tr><tr><td>84</td><td>83</td><td>82</td><td>81</td><td>80</td><td>79</td><td>78</td><td>77</td><td>76</td><td>75</td><td>74</td><td>73</td><td>72</td><td>71</td><td>70</td><td>69</td><td>68</td><td>67</td><td>66</td><td>65</td><td>64</td><td>63</td><td>62</td><td>61</td><td>60</td><td>59</td><td>58</td><td>57</td></tr><tr><td>0</td><td>3</td><td>5</td><td>0</td><td>3</td><td>1</td><td>3</td><td>9</td><td>0</td><td>12</td><td>5</td><td>23</td><td>18</td><td>13</td><td>8</td><td>3</td><td>33</td><td>30</td><td>27</td><td>24</td><td>21</td><td>18</td><td>15</td><td>12</td><td>9</td><td>6</td><td>3</td><td>0</td></tr></table>"
      ],
      "text/plain": [
       "<IPython.core.display.HTML object>"
      ]
     },
     "metadata": {},
     "output_type": "display_data"
    },
    {
     "name": "stdout",
     "output_type": "stream",
     "text": [
      "When p = 173 triangular = 19110 and partial triangular = 87 Is p prime? = True\n"
     ]
    },
    {
     "data": {
      "text/html": [
       "<table><tr><td>3</td><td>5</td><td>7</td><td>9</td><td>11</td><td>13</td><td>15</td><td>17</td><td>19</td><td>21</td><td>23</td><td>25</td><td>27</td><td>29</td><td>31</td><td>33</td><td>35</td><td>37</td><td>39</td><td>41</td><td>43</td><td>45</td><td>47</td><td>49</td><td>51</td><td>53</td><td>55</td><td>57</td></tr><tr><td>85</td><td>84</td><td>83</td><td>82</td><td>81</td><td>80</td><td>79</td><td>78</td><td>77</td><td>76</td><td>75</td><td>74</td><td>73</td><td>72</td><td>71</td><td>70</td><td>69</td><td>68</td><td>67</td><td>66</td><td>65</td><td>64</td><td>63</td><td>62</td><td>61</td><td>60</td><td>59</td><td>58</td></tr><tr><td>1</td><td>4</td><td>6</td><td>1</td><td>4</td><td>2</td><td>4</td><td>10</td><td>1</td><td>13</td><td>6</td><td>24</td><td>19</td><td>14</td><td>9</td><td>4</td><td>34</td><td>31</td><td>28</td><td>25</td><td>22</td><td>19</td><td>16</td><td>13</td><td>10</td><td>7</td><td>4</td><td>1</td></tr></table>"
      ],
      "text/plain": [
       "<IPython.core.display.HTML object>"
      ]
     },
     "metadata": {},
     "output_type": "display_data"
    },
    {
     "name": "stdout",
     "output_type": "stream",
     "text": [
      "When p = 175 triangular = 19110 and partial triangular = 88 Is p prime? = False\n"
     ]
    },
    {
     "data": {
      "text/html": [
       "<table><tr><td>3</td><td>5</td><td>7</td><td>9</td><td>11</td><td>13</td><td>15</td><td>17</td><td>19</td><td>21</td><td>23</td><td>25</td><td>27</td><td>29</td><td>31</td><td>33</td><td>35</td><td>37</td><td>39</td><td>41</td><td>43</td><td>45</td><td>47</td><td>49</td><td>51</td><td>53</td><td>55</td><td>57</td></tr><tr><td>86</td><td>85</td><td>84</td><td>83</td><td>82</td><td>81</td><td>80</td><td>79</td><td>78</td><td>77</td><td>76</td><td>75</td><td>74</td><td>73</td><td>72</td><td>71</td><td>70</td><td>69</td><td>68</td><td>67</td><td>66</td><td>65</td><td>64</td><td>63</td><td>62</td><td>61</td><td>60</td><td>59</td></tr><tr><td>2</td><td>0</td><td>0</td><td>2</td><td>5</td><td>3</td><td>5</td><td>11</td><td>2</td><td>14</td><td>7</td><td>0</td><td>20</td><td>15</td><td>10</td><td>5</td><td>0</td><td>32</td><td>29</td><td>26</td><td>23</td><td>20</td><td>17</td><td>14</td><td>11</td><td>8</td><td>5</td><td>2</td></tr></table>"
      ],
      "text/plain": [
       "<IPython.core.display.HTML object>"
      ]
     },
     "metadata": {},
     "output_type": "display_data"
    },
    {
     "name": "stdout",
     "output_type": "stream",
     "text": [
      "When p = 177 triangular = 19110 and partial triangular = 89 Is p prime? = False\n"
     ]
    },
    {
     "data": {
      "text/html": [
       "<table><tr><td>3</td><td>5</td><td>7</td><td>9</td><td>11</td><td>13</td><td>15</td><td>17</td><td>19</td><td>21</td><td>23</td><td>25</td><td>27</td><td>29</td><td>31</td><td>33</td><td>35</td><td>37</td><td>39</td><td>41</td><td>43</td><td>45</td><td>47</td><td>49</td><td>51</td><td>53</td><td>55</td><td>57</td><td>59</td></tr><tr><td>87</td><td>86</td><td>85</td><td>84</td><td>83</td><td>82</td><td>81</td><td>80</td><td>79</td><td>78</td><td>77</td><td>76</td><td>75</td><td>74</td><td>73</td><td>72</td><td>71</td><td>70</td><td>69</td><td>68</td><td>67</td><td>66</td><td>65</td><td>64</td><td>63</td><td>62</td><td>61</td><td>60</td><td>59</td></tr><tr><td>0</td><td>1</td><td>1</td><td>3</td><td>6</td><td>4</td><td>6</td><td>12</td><td>3</td><td>15</td><td>8</td><td>1</td><td>21</td><td>16</td><td>11</td><td>6</td><td>1</td><td>33</td><td>30</td><td>27</td><td>24</td><td>21</td><td>18</td><td>15</td><td>12</td><td>9</td><td>6</td><td>3</td><td>0</td></tr></table>"
      ],
      "text/plain": [
       "<IPython.core.display.HTML object>"
      ]
     },
     "metadata": {},
     "output_type": "display_data"
    },
    {
     "name": "stdout",
     "output_type": "stream",
     "text": [
      "When p = 179 triangular = 19110 and partial triangular = 90 Is p prime? = True\n"
     ]
    },
    {
     "data": {
      "text/html": [
       "<table><tr><td>3</td><td>5</td><td>7</td><td>9</td><td>11</td><td>13</td><td>15</td><td>17</td><td>19</td><td>21</td><td>23</td><td>25</td><td>27</td><td>29</td><td>31</td><td>33</td><td>35</td><td>37</td><td>39</td><td>41</td><td>43</td><td>45</td><td>47</td><td>49</td><td>51</td><td>53</td><td>55</td><td>57</td><td>59</td></tr><tr><td>88</td><td>87</td><td>86</td><td>85</td><td>84</td><td>83</td><td>82</td><td>81</td><td>80</td><td>79</td><td>78</td><td>77</td><td>76</td><td>75</td><td>74</td><td>73</td><td>72</td><td>71</td><td>70</td><td>69</td><td>68</td><td>67</td><td>66</td><td>65</td><td>64</td><td>63</td><td>62</td><td>61</td><td>60</td></tr><tr><td>1</td><td>2</td><td>2</td><td>4</td><td>7</td><td>5</td><td>7</td><td>13</td><td>4</td><td>16</td><td>9</td><td>2</td><td>22</td><td>17</td><td>12</td><td>7</td><td>2</td><td>34</td><td>31</td><td>28</td><td>25</td><td>22</td><td>19</td><td>16</td><td>13</td><td>10</td><td>7</td><td>4</td><td>1</td></tr></table>"
      ],
      "text/plain": [
       "<IPython.core.display.HTML object>"
      ]
     },
     "metadata": {},
     "output_type": "display_data"
    },
    {
     "name": "stdout",
     "output_type": "stream",
     "text": [
      "When p = 181 triangular = 19110 and partial triangular = 91 Is p prime? = True\n"
     ]
    },
    {
     "data": {
      "text/html": [
       "<table><tr><td>3</td><td>5</td><td>7</td><td>9</td><td>11</td><td>13</td><td>15</td><td>17</td><td>19</td><td>21</td><td>23</td><td>25</td><td>27</td><td>29</td><td>31</td><td>33</td><td>35</td><td>37</td><td>39</td><td>41</td><td>43</td><td>45</td><td>47</td><td>49</td><td>51</td><td>53</td><td>55</td><td>57</td><td>59</td></tr><tr><td>89</td><td>88</td><td>87</td><td>86</td><td>85</td><td>84</td><td>83</td><td>82</td><td>81</td><td>80</td><td>79</td><td>78</td><td>77</td><td>76</td><td>75</td><td>74</td><td>73</td><td>72</td><td>71</td><td>70</td><td>69</td><td>68</td><td>67</td><td>66</td><td>65</td><td>64</td><td>63</td><td>62</td><td>61</td></tr><tr><td>2</td><td>3</td><td>3</td><td>5</td><td>8</td><td>6</td><td>8</td><td>14</td><td>5</td><td>17</td><td>10</td><td>3</td><td>23</td><td>18</td><td>13</td><td>8</td><td>3</td><td>35</td><td>32</td><td>29</td><td>26</td><td>23</td><td>20</td><td>17</td><td>14</td><td>11</td><td>8</td><td>5</td><td>2</td></tr></table>"
      ],
      "text/plain": [
       "<IPython.core.display.HTML object>"
      ]
     },
     "metadata": {},
     "output_type": "display_data"
    },
    {
     "name": "stdout",
     "output_type": "stream",
     "text": [
      "When p = 183 triangular = 19110 and partial triangular = 92 Is p prime? = False\n"
     ]
    },
    {
     "data": {
      "text/html": [
       "<table><tr><td>3</td><td>5</td><td>7</td><td>9</td><td>11</td><td>13</td><td>15</td><td>17</td><td>19</td><td>21</td><td>23</td><td>25</td><td>27</td><td>29</td><td>31</td><td>33</td><td>35</td><td>37</td><td>39</td><td>41</td><td>43</td><td>45</td><td>47</td><td>49</td><td>51</td><td>53</td><td>55</td><td>57</td><td>59</td><td>61</td></tr><tr><td>90</td><td>89</td><td>88</td><td>87</td><td>86</td><td>85</td><td>84</td><td>83</td><td>82</td><td>81</td><td>80</td><td>79</td><td>78</td><td>77</td><td>76</td><td>75</td><td>74</td><td>73</td><td>72</td><td>71</td><td>70</td><td>69</td><td>68</td><td>67</td><td>66</td><td>65</td><td>64</td><td>63</td><td>62</td><td>61</td></tr><tr><td>0</td><td>4</td><td>4</td><td>6</td><td>9</td><td>7</td><td>9</td><td>15</td><td>6</td><td>18</td><td>11</td><td>4</td><td>24</td><td>19</td><td>14</td><td>9</td><td>4</td><td>36</td><td>33</td><td>30</td><td>27</td><td>24</td><td>21</td><td>18</td><td>15</td><td>12</td><td>9</td><td>6</td><td>3</td><td>0</td></tr></table>"
      ],
      "text/plain": [
       "<IPython.core.display.HTML object>"
      ]
     },
     "metadata": {},
     "output_type": "display_data"
    },
    {
     "name": "stdout",
     "output_type": "stream",
     "text": [
      "When p = 185 triangular = 19110 and partial triangular = 93 Is p prime? = False\n"
     ]
    },
    {
     "data": {
      "text/html": [
       "<table><tr><td>3</td><td>5</td><td>7</td><td>9</td><td>11</td><td>13</td><td>15</td><td>17</td><td>19</td><td>21</td><td>23</td><td>25</td><td>27</td><td>29</td><td>31</td><td>33</td><td>35</td><td>37</td><td>39</td><td>41</td><td>43</td><td>45</td><td>47</td><td>49</td><td>51</td><td>53</td><td>55</td><td>57</td><td>59</td><td>61</td></tr><tr><td>91</td><td>90</td><td>89</td><td>88</td><td>87</td><td>86</td><td>85</td><td>84</td><td>83</td><td>82</td><td>81</td><td>80</td><td>79</td><td>78</td><td>77</td><td>76</td><td>75</td><td>74</td><td>73</td><td>72</td><td>71</td><td>70</td><td>69</td><td>68</td><td>67</td><td>66</td><td>65</td><td>64</td><td>63</td><td>62</td></tr><tr><td>1</td><td>0</td><td>5</td><td>7</td><td>10</td><td>8</td><td>10</td><td>16</td><td>7</td><td>19</td><td>12</td><td>5</td><td>25</td><td>20</td><td>15</td><td>10</td><td>5</td><td>0</td><td>34</td><td>31</td><td>28</td><td>25</td><td>22</td><td>19</td><td>16</td><td>13</td><td>10</td><td>7</td><td>4</td><td>1</td></tr></table>"
      ],
      "text/plain": [
       "<IPython.core.display.HTML object>"
      ]
     },
     "metadata": {},
     "output_type": "display_data"
    },
    {
     "name": "stdout",
     "output_type": "stream",
     "text": [
      "When p = 187 triangular = 19110 and partial triangular = 94 Is p prime? = False\n"
     ]
    },
    {
     "data": {
      "text/html": [
       "<table><tr><td>3</td><td>5</td><td>7</td><td>9</td><td>11</td><td>13</td><td>15</td><td>17</td><td>19</td><td>21</td><td>23</td><td>25</td><td>27</td><td>29</td><td>31</td><td>33</td><td>35</td><td>37</td><td>39</td><td>41</td><td>43</td><td>45</td><td>47</td><td>49</td><td>51</td><td>53</td><td>55</td><td>57</td><td>59</td><td>61</td></tr><tr><td>92</td><td>91</td><td>90</td><td>89</td><td>88</td><td>87</td><td>86</td><td>85</td><td>84</td><td>83</td><td>82</td><td>81</td><td>80</td><td>79</td><td>78</td><td>77</td><td>76</td><td>75</td><td>74</td><td>73</td><td>72</td><td>71</td><td>70</td><td>69</td><td>68</td><td>67</td><td>66</td><td>65</td><td>64</td><td>63</td></tr><tr><td>2</td><td>1</td><td>6</td><td>8</td><td>0</td><td>9</td><td>11</td><td>0</td><td>8</td><td>20</td><td>13</td><td>6</td><td>26</td><td>21</td><td>16</td><td>11</td><td>6</td><td>1</td><td>35</td><td>32</td><td>29</td><td>26</td><td>23</td><td>20</td><td>17</td><td>14</td><td>11</td><td>8</td><td>5</td><td>2</td></tr></table>"
      ],
      "text/plain": [
       "<IPython.core.display.HTML object>"
      ]
     },
     "metadata": {},
     "output_type": "display_data"
    },
    {
     "name": "stdout",
     "output_type": "stream",
     "text": [
      "When p = 189 triangular = 19110 and partial triangular = 95 Is p prime? = False\n"
     ]
    },
    {
     "data": {
      "text/html": [
       "<table><tr><td>3</td><td>5</td><td>7</td><td>9</td><td>11</td><td>13</td><td>15</td><td>17</td><td>19</td><td>21</td><td>23</td><td>25</td><td>27</td><td>29</td><td>31</td><td>33</td><td>35</td><td>37</td><td>39</td><td>41</td><td>43</td><td>45</td><td>47</td><td>49</td><td>51</td><td>53</td><td>55</td><td>57</td><td>59</td><td>61</td><td>63</td></tr><tr><td>93</td><td>92</td><td>91</td><td>90</td><td>89</td><td>88</td><td>87</td><td>86</td><td>85</td><td>84</td><td>83</td><td>82</td><td>81</td><td>80</td><td>79</td><td>78</td><td>77</td><td>76</td><td>75</td><td>74</td><td>73</td><td>72</td><td>71</td><td>70</td><td>69</td><td>68</td><td>67</td><td>66</td><td>65</td><td>64</td><td>63</td></tr><tr><td>0</td><td>2</td><td>0</td><td>0</td><td>1</td><td>10</td><td>12</td><td>1</td><td>9</td><td>0</td><td>14</td><td>7</td><td>0</td><td>22</td><td>17</td><td>12</td><td>7</td><td>2</td><td>36</td><td>33</td><td>30</td><td>27</td><td>24</td><td>21</td><td>18</td><td>15</td><td>12</td><td>9</td><td>6</td><td>3</td><td>0</td></tr></table>"
      ],
      "text/plain": [
       "<IPython.core.display.HTML object>"
      ]
     },
     "metadata": {},
     "output_type": "display_data"
    },
    {
     "name": "stdout",
     "output_type": "stream",
     "text": [
      "When p = 191 triangular = 19110 and partial triangular = 96 Is p prime? = True\n"
     ]
    },
    {
     "data": {
      "text/html": [
       "<table><tr><td>3</td><td>5</td><td>7</td><td>9</td><td>11</td><td>13</td><td>15</td><td>17</td><td>19</td><td>21</td><td>23</td><td>25</td><td>27</td><td>29</td><td>31</td><td>33</td><td>35</td><td>37</td><td>39</td><td>41</td><td>43</td><td>45</td><td>47</td><td>49</td><td>51</td><td>53</td><td>55</td><td>57</td><td>59</td><td>61</td><td>63</td></tr><tr><td>94</td><td>93</td><td>92</td><td>91</td><td>90</td><td>89</td><td>88</td><td>87</td><td>86</td><td>85</td><td>84</td><td>83</td><td>82</td><td>81</td><td>80</td><td>79</td><td>78</td><td>77</td><td>76</td><td>75</td><td>74</td><td>73</td><td>72</td><td>71</td><td>70</td><td>69</td><td>68</td><td>67</td><td>66</td><td>65</td><td>64</td></tr><tr><td>1</td><td>3</td><td>1</td><td>1</td><td>2</td><td>11</td><td>13</td><td>2</td><td>10</td><td>1</td><td>15</td><td>8</td><td>1</td><td>23</td><td>18</td><td>13</td><td>8</td><td>3</td><td>37</td><td>34</td><td>31</td><td>28</td><td>25</td><td>22</td><td>19</td><td>16</td><td>13</td><td>10</td><td>7</td><td>4</td><td>1</td></tr></table>"
      ],
      "text/plain": [
       "<IPython.core.display.HTML object>"
      ]
     },
     "metadata": {},
     "output_type": "display_data"
    },
    {
     "name": "stdout",
     "output_type": "stream",
     "text": [
      "When p = 193 triangular = 19110 and partial triangular = 97 Is p prime? = True\n"
     ]
    },
    {
     "data": {
      "text/html": [
       "<table><tr><td>3</td><td>5</td><td>7</td><td>9</td><td>11</td><td>13</td><td>15</td><td>17</td><td>19</td><td>21</td><td>23</td><td>25</td><td>27</td><td>29</td><td>31</td><td>33</td><td>35</td><td>37</td><td>39</td><td>41</td><td>43</td><td>45</td><td>47</td><td>49</td><td>51</td><td>53</td><td>55</td><td>57</td><td>59</td><td>61</td><td>63</td></tr><tr><td>95</td><td>94</td><td>93</td><td>92</td><td>91</td><td>90</td><td>89</td><td>88</td><td>87</td><td>86</td><td>85</td><td>84</td><td>83</td><td>82</td><td>81</td><td>80</td><td>79</td><td>78</td><td>77</td><td>76</td><td>75</td><td>74</td><td>73</td><td>72</td><td>71</td><td>70</td><td>69</td><td>68</td><td>67</td><td>66</td><td>65</td></tr><tr><td>2</td><td>4</td><td>2</td><td>2</td><td>3</td><td>12</td><td>14</td><td>3</td><td>11</td><td>2</td><td>16</td><td>9</td><td>2</td><td>24</td><td>19</td><td>14</td><td>9</td><td>4</td><td>38</td><td>35</td><td>32</td><td>29</td><td>26</td><td>23</td><td>20</td><td>17</td><td>14</td><td>11</td><td>8</td><td>5</td><td>2</td></tr></table>"
      ],
      "text/plain": [
       "<IPython.core.display.HTML object>"
      ]
     },
     "metadata": {},
     "output_type": "display_data"
    },
    {
     "name": "stdout",
     "output_type": "stream",
     "text": [
      "When p = 195 triangular = 19110 and partial triangular = 98 Is p prime? = False\n"
     ]
    },
    {
     "data": {
      "text/html": [
       "<table><tr><td>3</td><td>5</td><td>7</td><td>9</td><td>11</td><td>13</td><td>15</td><td>17</td><td>19</td><td>21</td><td>23</td><td>25</td><td>27</td><td>29</td><td>31</td><td>33</td><td>35</td><td>37</td><td>39</td><td>41</td><td>43</td><td>45</td><td>47</td><td>49</td><td>51</td><td>53</td><td>55</td><td>57</td><td>59</td><td>61</td><td>63</td><td>65</td></tr><tr><td>96</td><td>95</td><td>94</td><td>93</td><td>92</td><td>91</td><td>90</td><td>89</td><td>88</td><td>87</td><td>86</td><td>85</td><td>84</td><td>83</td><td>82</td><td>81</td><td>80</td><td>79</td><td>78</td><td>77</td><td>76</td><td>75</td><td>74</td><td>73</td><td>72</td><td>71</td><td>70</td><td>69</td><td>68</td><td>67</td><td>66</td><td>65</td></tr><tr><td>0</td><td>0</td><td>3</td><td>3</td><td>4</td><td>0</td><td>0</td><td>4</td><td>12</td><td>3</td><td>17</td><td>10</td><td>3</td><td>25</td><td>20</td><td>15</td><td>10</td><td>5</td><td>0</td><td>36</td><td>33</td><td>30</td><td>27</td><td>24</td><td>21</td><td>18</td><td>15</td><td>12</td><td>9</td><td>6</td><td>3</td><td>0</td></tr></table>"
      ],
      "text/plain": [
       "<IPython.core.display.HTML object>"
      ]
     },
     "metadata": {},
     "output_type": "display_data"
    }
   ],
   "source": [
    "for p in range(145, 196, 2):\n",
    "    partialt = partial_triangular(p)\n",
    "    #temporal variable to generate the secuence value\n",
    "    partialt_temp = partialt - 1\n",
    "    \n",
    "    sequences = [[],[],[]]\n",
    "    \n",
    "    for x1 in range (3, int(p / 3 + 1), 2):\n",
    "        sequences[0].append(x1)\n",
    "    #   sequences[1].append(partialt_temp - 1)\n",
    "    for x2 in sequences[0]:\n",
    "        partialt_temp = partialt_temp -1\n",
    "        sequences[1].append(partialt_temp)\n",
    "    for i in range(len(sequences[0])):\n",
    "        sequences[2].append(sequences[1][i] % sequences[0][i])\n",
    "    \n",
    "    prime = True\n",
    "    if 0 in sequences[2]:\n",
    "        prime = False\n",
    "    \n",
    "    print(\"When p = {} triangular = {} and partial triangular = {} Is p prime? = {}\".format(p, t, partialt, prime))\n",
    "    \n",
    "    display(HTML(\n",
    "        '<table><tr>{}</tr></table>'.format(\n",
    "            '</tr><tr>'.join(\n",
    "                '<td>{}</td>'.format('</td><td>'.join(str(_) for _ in row)) for row in sequences)\n",
    "            )\n",
    "     ))"
   ]
  },
  {
   "cell_type": "markdown",
   "metadata": {},
   "source": [
    "After apply modulo operator notice that not only first and last column are related, within a range of columns generated from p and it's triangular using this method, divisors of p can be found anywhere if the bottom row have a 0 the number in ascending row is a divisor of p, so if no 0 is found in the modulo row means p is a prime."
   ]
  },
  {
   "cell_type": "markdown",
   "metadata": {},
   "source": [
    "# Insights\n",
    "\n",
    "Now the reason why this particular range was chosen is contains enough examples to demonstrate some other procedures that derives from the method above, Have to mention the way of zero values are placed are symmetrical and comes in pairs unless p is a perfect square in which case zero values can be odd or 1.\n",
    "\n",
    "Some factors that affects further optimization and relationships between the rows within the method are determined by the square root of p, so will start with particularities when square root of p is even."
   ]
  },
  {
   "cell_type": "code",
   "execution_count": 9,
   "metadata": {},
   "outputs": [
    {
     "name": "stdout",
     "output_type": "stream",
     "text": [
      "When p = 145 triangular = 19110 and partial triangular = 73 Is p prime? = False\n",
      "square root = 12, square root reminder = 1\n",
      "middle = 13, reminder of middle = 1\n"
     ]
    },
    {
     "data": {
      "text/html": [
       "<table><tr><td>3</td><td>5</td><td>7</td><td>9</td><td>11</td><td>13</td><td>15</td><td>17</td><td>19</td><td>21</td><td>23</td><td>25</td><td>27</td><td>29</td><td>31</td><td>33</td><td>35</td><td>37</td><td>39</td><td>41</td><td>43</td><td>45</td><td>47</td></tr><tr><td>71</td><td>70</td><td>69</td><td>68</td><td>67</td><td>66</td><td>65</td><td>64</td><td>63</td><td>62</td><td>61</td><td>60</td><td>59</td><td>58</td><td>57</td><td>56</td><td>55</td><td>54</td><td>53</td><td>52</td><td>51</td><td>50</td><td>49</td></tr><tr><td>2</td><td>0</td><td>6</td><td>5</td><td>1</td><td>1</td><td>5</td><td>13</td><td>6</td><td>20</td><td>15</td><td>10</td><td>5</td><td>0</td><td>26</td><td>23</td><td>20</td><td>17</td><td>14</td><td>11</td><td>8</td><td>5</td><td>2</td></tr></table>"
      ],
      "text/plain": [
       "<IPython.core.display.HTML object>"
      ]
     },
     "metadata": {},
     "output_type": "display_data"
    },
    {
     "name": "stdout",
     "output_type": "stream",
     "text": [
      "When p = 147 triangular = 19110 and partial triangular = 74 Is p prime? = False\n",
      "square root = 12, square root reminder = 3\n",
      "middle = 13, reminder of middle = 2\n"
     ]
    },
    {
     "data": {
      "text/html": [
       "<table><tr><td>3</td><td>5</td><td>7</td><td>9</td><td>11</td><td>13</td><td>15</td><td>17</td><td>19</td><td>21</td><td>23</td><td>25</td><td>27</td><td>29</td><td>31</td><td>33</td><td>35</td><td>37</td><td>39</td><td>41</td><td>43</td><td>45</td><td>47</td><td>49</td></tr><tr><td>72</td><td>71</td><td>70</td><td>69</td><td>68</td><td>67</td><td>66</td><td>65</td><td>64</td><td>63</td><td>62</td><td>61</td><td>60</td><td>59</td><td>58</td><td>57</td><td>56</td><td>55</td><td>54</td><td>53</td><td>52</td><td>51</td><td>50</td><td>49</td></tr><tr><td>0</td><td>1</td><td>0</td><td>6</td><td>2</td><td>2</td><td>6</td><td>14</td><td>7</td><td>0</td><td>16</td><td>11</td><td>6</td><td>1</td><td>27</td><td>24</td><td>21</td><td>18</td><td>15</td><td>12</td><td>9</td><td>6</td><td>3</td><td>0</td></tr></table>"
      ],
      "text/plain": [
       "<IPython.core.display.HTML object>"
      ]
     },
     "metadata": {},
     "output_type": "display_data"
    },
    {
     "name": "stdout",
     "output_type": "stream",
     "text": [
      "When p = 149 triangular = 19110 and partial triangular = 75 Is p prime? = True\n",
      "square root = 12, square root reminder = 5\n",
      "middle = 13, reminder of middle = 3\n"
     ]
    },
    {
     "data": {
      "text/html": [
       "<table><tr><td>3</td><td>5</td><td>7</td><td>9</td><td>11</td><td>13</td><td>15</td><td>17</td><td>19</td><td>21</td><td>23</td><td>25</td><td>27</td><td>29</td><td>31</td><td>33</td><td>35</td><td>37</td><td>39</td><td>41</td><td>43</td><td>45</td><td>47</td><td>49</td></tr><tr><td>73</td><td>72</td><td>71</td><td>70</td><td>69</td><td>68</td><td>67</td><td>66</td><td>65</td><td>64</td><td>63</td><td>62</td><td>61</td><td>60</td><td>59</td><td>58</td><td>57</td><td>56</td><td>55</td><td>54</td><td>53</td><td>52</td><td>51</td><td>50</td></tr><tr><td>1</td><td>2</td><td>1</td><td>7</td><td>3</td><td>3</td><td>7</td><td>15</td><td>8</td><td>1</td><td>17</td><td>12</td><td>7</td><td>2</td><td>28</td><td>25</td><td>22</td><td>19</td><td>16</td><td>13</td><td>10</td><td>7</td><td>4</td><td>1</td></tr></table>"
      ],
      "text/plain": [
       "<IPython.core.display.HTML object>"
      ]
     },
     "metadata": {},
     "output_type": "display_data"
    },
    {
     "name": "stdout",
     "output_type": "stream",
     "text": [
      "When p = 151 triangular = 19110 and partial triangular = 76 Is p prime? = True\n",
      "square root = 12, square root reminder = 7\n",
      "middle = 13, reminder of middle = 4\n"
     ]
    },
    {
     "data": {
      "text/html": [
       "<table><tr><td>3</td><td>5</td><td>7</td><td>9</td><td>11</td><td>13</td><td>15</td><td>17</td><td>19</td><td>21</td><td>23</td><td>25</td><td>27</td><td>29</td><td>31</td><td>33</td><td>35</td><td>37</td><td>39</td><td>41</td><td>43</td><td>45</td><td>47</td><td>49</td></tr><tr><td>74</td><td>73</td><td>72</td><td>71</td><td>70</td><td>69</td><td>68</td><td>67</td><td>66</td><td>65</td><td>64</td><td>63</td><td>62</td><td>61</td><td>60</td><td>59</td><td>58</td><td>57</td><td>56</td><td>55</td><td>54</td><td>53</td><td>52</td><td>51</td></tr><tr><td>2</td><td>3</td><td>2</td><td>8</td><td>4</td><td>4</td><td>8</td><td>16</td><td>9</td><td>2</td><td>18</td><td>13</td><td>8</td><td>3</td><td>29</td><td>26</td><td>23</td><td>20</td><td>17</td><td>14</td><td>11</td><td>8</td><td>5</td><td>2</td></tr></table>"
      ],
      "text/plain": [
       "<IPython.core.display.HTML object>"
      ]
     },
     "metadata": {},
     "output_type": "display_data"
    },
    {
     "name": "stdout",
     "output_type": "stream",
     "text": [
      "When p = 153 triangular = 19110 and partial triangular = 77 Is p prime? = False\n",
      "square root = 12, square root reminder = 9\n",
      "middle = 13, reminder of middle = 5\n"
     ]
    },
    {
     "data": {
      "text/html": [
       "<table><tr><td>3</td><td>5</td><td>7</td><td>9</td><td>11</td><td>13</td><td>15</td><td>17</td><td>19</td><td>21</td><td>23</td><td>25</td><td>27</td><td>29</td><td>31</td><td>33</td><td>35</td><td>37</td><td>39</td><td>41</td><td>43</td><td>45</td><td>47</td><td>49</td><td>51</td></tr><tr><td>75</td><td>74</td><td>73</td><td>72</td><td>71</td><td>70</td><td>69</td><td>68</td><td>67</td><td>66</td><td>65</td><td>64</td><td>63</td><td>62</td><td>61</td><td>60</td><td>59</td><td>58</td><td>57</td><td>56</td><td>55</td><td>54</td><td>53</td><td>52</td><td>51</td></tr><tr><td>0</td><td>4</td><td>3</td><td>0</td><td>5</td><td>5</td><td>9</td><td>0</td><td>10</td><td>3</td><td>19</td><td>14</td><td>9</td><td>4</td><td>30</td><td>27</td><td>24</td><td>21</td><td>18</td><td>15</td><td>12</td><td>9</td><td>6</td><td>3</td><td>0</td></tr></table>"
      ],
      "text/plain": [
       "<IPython.core.display.HTML object>"
      ]
     },
     "metadata": {},
     "output_type": "display_data"
    },
    {
     "name": "stdout",
     "output_type": "stream",
     "text": [
      "When p = 155 triangular = 19110 and partial triangular = 78 Is p prime? = False\n",
      "square root = 12, square root reminder = 11\n",
      "middle = 13, reminder of middle = 6\n"
     ]
    },
    {
     "data": {
      "text/html": [
       "<table><tr><td>3</td><td>5</td><td>7</td><td>9</td><td>11</td><td>13</td><td>15</td><td>17</td><td>19</td><td>21</td><td>23</td><td>25</td><td>27</td><td>29</td><td>31</td><td>33</td><td>35</td><td>37</td><td>39</td><td>41</td><td>43</td><td>45</td><td>47</td><td>49</td><td>51</td></tr><tr><td>76</td><td>75</td><td>74</td><td>73</td><td>72</td><td>71</td><td>70</td><td>69</td><td>68</td><td>67</td><td>66</td><td>65</td><td>64</td><td>63</td><td>62</td><td>61</td><td>60</td><td>59</td><td>58</td><td>57</td><td>56</td><td>55</td><td>54</td><td>53</td><td>52</td></tr><tr><td>1</td><td>0</td><td>4</td><td>1</td><td>6</td><td>6</td><td>10</td><td>1</td><td>11</td><td>4</td><td>20</td><td>15</td><td>10</td><td>5</td><td>0</td><td>28</td><td>25</td><td>22</td><td>19</td><td>16</td><td>13</td><td>10</td><td>7</td><td>4</td><td>1</td></tr></table>"
      ],
      "text/plain": [
       "<IPython.core.display.HTML object>"
      ]
     },
     "metadata": {},
     "output_type": "display_data"
    },
    {
     "name": "stdout",
     "output_type": "stream",
     "text": [
      "When p = 157 triangular = 19110 and partial triangular = 79 Is p prime? = True\n",
      "square root = 12, square root reminder = 13\n",
      "middle = 13, reminder of middle = 7\n"
     ]
    },
    {
     "data": {
      "text/html": [
       "<table><tr><td>3</td><td>5</td><td>7</td><td>9</td><td>11</td><td>13</td><td>15</td><td>17</td><td>19</td><td>21</td><td>23</td><td>25</td><td>27</td><td>29</td><td>31</td><td>33</td><td>35</td><td>37</td><td>39</td><td>41</td><td>43</td><td>45</td><td>47</td><td>49</td><td>51</td></tr><tr><td>77</td><td>76</td><td>75</td><td>74</td><td>73</td><td>72</td><td>71</td><td>70</td><td>69</td><td>68</td><td>67</td><td>66</td><td>65</td><td>64</td><td>63</td><td>62</td><td>61</td><td>60</td><td>59</td><td>58</td><td>57</td><td>56</td><td>55</td><td>54</td><td>53</td></tr><tr><td>2</td><td>1</td><td>5</td><td>2</td><td>7</td><td>7</td><td>11</td><td>2</td><td>12</td><td>5</td><td>21</td><td>16</td><td>11</td><td>6</td><td>1</td><td>29</td><td>26</td><td>23</td><td>20</td><td>17</td><td>14</td><td>11</td><td>8</td><td>5</td><td>2</td></tr></table>"
      ],
      "text/plain": [
       "<IPython.core.display.HTML object>"
      ]
     },
     "metadata": {},
     "output_type": "display_data"
    },
    {
     "name": "stdout",
     "output_type": "stream",
     "text": [
      "When p = 159 triangular = 19110 and partial triangular = 80 Is p prime? = False\n",
      "square root = 12, square root reminder = 15\n",
      "middle = 13, reminder of middle = 8\n"
     ]
    },
    {
     "data": {
      "text/html": [
       "<table><tr><td>3</td><td>5</td><td>7</td><td>9</td><td>11</td><td>13</td><td>15</td><td>17</td><td>19</td><td>21</td><td>23</td><td>25</td><td>27</td><td>29</td><td>31</td><td>33</td><td>35</td><td>37</td><td>39</td><td>41</td><td>43</td><td>45</td><td>47</td><td>49</td><td>51</td><td>53</td></tr><tr><td>78</td><td>77</td><td>76</td><td>75</td><td>74</td><td>73</td><td>72</td><td>71</td><td>70</td><td>69</td><td>68</td><td>67</td><td>66</td><td>65</td><td>64</td><td>63</td><td>62</td><td>61</td><td>60</td><td>59</td><td>58</td><td>57</td><td>56</td><td>55</td><td>54</td><td>53</td></tr><tr><td>0</td><td>2</td><td>6</td><td>3</td><td>8</td><td>8</td><td>12</td><td>3</td><td>13</td><td>6</td><td>22</td><td>17</td><td>12</td><td>7</td><td>2</td><td>30</td><td>27</td><td>24</td><td>21</td><td>18</td><td>15</td><td>12</td><td>9</td><td>6</td><td>3</td><td>0</td></tr></table>"
      ],
      "text/plain": [
       "<IPython.core.display.HTML object>"
      ]
     },
     "metadata": {},
     "output_type": "display_data"
    },
    {
     "name": "stdout",
     "output_type": "stream",
     "text": [
      "When p = 161 triangular = 19110 and partial triangular = 81 Is p prime? = False\n",
      "square root = 12, square root reminder = 17\n",
      "middle = 13, reminder of middle = 9\n"
     ]
    },
    {
     "data": {
      "text/html": [
       "<table><tr><td>3</td><td>5</td><td>7</td><td>9</td><td>11</td><td>13</td><td>15</td><td>17</td><td>19</td><td>21</td><td>23</td><td>25</td><td>27</td><td>29</td><td>31</td><td>33</td><td>35</td><td>37</td><td>39</td><td>41</td><td>43</td><td>45</td><td>47</td><td>49</td><td>51</td><td>53</td></tr><tr><td>79</td><td>78</td><td>77</td><td>76</td><td>75</td><td>74</td><td>73</td><td>72</td><td>71</td><td>70</td><td>69</td><td>68</td><td>67</td><td>66</td><td>65</td><td>64</td><td>63</td><td>62</td><td>61</td><td>60</td><td>59</td><td>58</td><td>57</td><td>56</td><td>55</td><td>54</td></tr><tr><td>1</td><td>3</td><td>0</td><td>4</td><td>9</td><td>9</td><td>13</td><td>4</td><td>14</td><td>7</td><td>0</td><td>18</td><td>13</td><td>8</td><td>3</td><td>31</td><td>28</td><td>25</td><td>22</td><td>19</td><td>16</td><td>13</td><td>10</td><td>7</td><td>4</td><td>1</td></tr></table>"
      ],
      "text/plain": [
       "<IPython.core.display.HTML object>"
      ]
     },
     "metadata": {},
     "output_type": "display_data"
    },
    {
     "name": "stdout",
     "output_type": "stream",
     "text": [
      "When p = 163 triangular = 19110 and partial triangular = 82 Is p prime? = True\n",
      "square root = 12, square root reminder = 19\n",
      "middle = 13, reminder of middle = 10\n"
     ]
    },
    {
     "data": {
      "text/html": [
       "<table><tr><td>3</td><td>5</td><td>7</td><td>9</td><td>11</td><td>13</td><td>15</td><td>17</td><td>19</td><td>21</td><td>23</td><td>25</td><td>27</td><td>29</td><td>31</td><td>33</td><td>35</td><td>37</td><td>39</td><td>41</td><td>43</td><td>45</td><td>47</td><td>49</td><td>51</td><td>53</td></tr><tr><td>80</td><td>79</td><td>78</td><td>77</td><td>76</td><td>75</td><td>74</td><td>73</td><td>72</td><td>71</td><td>70</td><td>69</td><td>68</td><td>67</td><td>66</td><td>65</td><td>64</td><td>63</td><td>62</td><td>61</td><td>60</td><td>59</td><td>58</td><td>57</td><td>56</td><td>55</td></tr><tr><td>2</td><td>4</td><td>1</td><td>5</td><td>10</td><td>10</td><td>14</td><td>5</td><td>15</td><td>8</td><td>1</td><td>19</td><td>14</td><td>9</td><td>4</td><td>32</td><td>29</td><td>26</td><td>23</td><td>20</td><td>17</td><td>14</td><td>11</td><td>8</td><td>5</td><td>2</td></tr></table>"
      ],
      "text/plain": [
       "<IPython.core.display.HTML object>"
      ]
     },
     "metadata": {},
     "output_type": "display_data"
    },
    {
     "name": "stdout",
     "output_type": "stream",
     "text": [
      "When p = 165 triangular = 19110 and partial triangular = 83 Is p prime? = False\n",
      "square root = 12, square root reminder = 21\n",
      "middle = 13, reminder of middle = 11\n"
     ]
    },
    {
     "data": {
      "text/html": [
       "<table><tr><td>3</td><td>5</td><td>7</td><td>9</td><td>11</td><td>13</td><td>15</td><td>17</td><td>19</td><td>21</td><td>23</td><td>25</td><td>27</td><td>29</td><td>31</td><td>33</td><td>35</td><td>37</td><td>39</td><td>41</td><td>43</td><td>45</td><td>47</td><td>49</td><td>51</td><td>53</td><td>55</td></tr><tr><td>81</td><td>80</td><td>79</td><td>78</td><td>77</td><td>76</td><td>75</td><td>74</td><td>73</td><td>72</td><td>71</td><td>70</td><td>69</td><td>68</td><td>67</td><td>66</td><td>65</td><td>64</td><td>63</td><td>62</td><td>61</td><td>60</td><td>59</td><td>58</td><td>57</td><td>56</td><td>55</td></tr><tr><td>0</td><td>0</td><td>2</td><td>6</td><td>0</td><td>11</td><td>0</td><td>6</td><td>16</td><td>9</td><td>2</td><td>20</td><td>15</td><td>10</td><td>5</td><td>0</td><td>30</td><td>27</td><td>24</td><td>21</td><td>18</td><td>15</td><td>12</td><td>9</td><td>6</td><td>3</td><td>0</td></tr></table>"
      ],
      "text/plain": [
       "<IPython.core.display.HTML object>"
      ]
     },
     "metadata": {},
     "output_type": "display_data"
    },
    {
     "name": "stdout",
     "output_type": "stream",
     "text": [
      "When p = 167 triangular = 19110 and partial triangular = 84 Is p prime? = True\n",
      "square root = 12, square root reminder = 23\n",
      "middle = 13, reminder of middle = 12\n"
     ]
    },
    {
     "data": {
      "text/html": [
       "<table><tr><td>3</td><td>5</td><td>7</td><td>9</td><td>11</td><td>13</td><td>15</td><td>17</td><td>19</td><td>21</td><td>23</td><td>25</td><td>27</td><td>29</td><td>31</td><td>33</td><td>35</td><td>37</td><td>39</td><td>41</td><td>43</td><td>45</td><td>47</td><td>49</td><td>51</td><td>53</td><td>55</td></tr><tr><td>82</td><td>81</td><td>80</td><td>79</td><td>78</td><td>77</td><td>76</td><td>75</td><td>74</td><td>73</td><td>72</td><td>71</td><td>70</td><td>69</td><td>68</td><td>67</td><td>66</td><td>65</td><td>64</td><td>63</td><td>62</td><td>61</td><td>60</td><td>59</td><td>58</td><td>57</td><td>56</td></tr><tr><td>1</td><td>1</td><td>3</td><td>7</td><td>1</td><td>12</td><td>1</td><td>7</td><td>17</td><td>10</td><td>3</td><td>21</td><td>16</td><td>11</td><td>6</td><td>1</td><td>31</td><td>28</td><td>25</td><td>22</td><td>19</td><td>16</td><td>13</td><td>10</td><td>7</td><td>4</td><td>1</td></tr></table>"
      ],
      "text/plain": [
       "<IPython.core.display.HTML object>"
      ]
     },
     "metadata": {},
     "output_type": "display_data"
    }
   ],
   "source": [
    "for p in range(145, 168, 2):\n",
    "    partialt = partial_triangular(p)\n",
    "    #temporal variable to generate the secuence value\n",
    "    partialt_temp = partialt - 1\n",
    "    square_root = int(sqrt(p))\n",
    "    sqroot_rem = p - square_root ** 2\n",
    "    middle = square_root + 1\n",
    "    middle_rem = int((sqroot_rem + 1) / 2)\n",
    "    \n",
    "    sequences = [[],[],[]]\n",
    "    \n",
    "    for x1 in range (3, int(p / 3 + 1), 2):\n",
    "        sequences[0].append(x1)\n",
    "    #   sequences[1].append(partialt_temp - 1)\n",
    "    for x2 in sequences[0]:\n",
    "        partialt_temp = partialt_temp -1\n",
    "        sequences[1].append(partialt_temp)\n",
    "    for i in range(len(sequences[0])):\n",
    "        sequences[2].append(sequences[1][i] % sequences[0][i])\n",
    "    \n",
    "    prime = True\n",
    "    if 0 in sequences[2]:\n",
    "        prime = False\n",
    "    \n",
    "    print(\"When p = {} triangular = {} and partial triangular = {} Is p prime? = {}\".format(p, t, partialt, prime))\n",
    "    print(\"square root = {}, square root reminder = {}\".format(square_root, sqroot_rem))\n",
    "    print(\"middle = {}, reminder of middle = {}\".format(middle, middle_rem))\n",
    "    display(HTML(\n",
    "        '<table><tr>{}</tr></table>'.format(\n",
    "            '</tr><tr>'.join(\n",
    "                '<td>{}</td>'.format('</td><td>'.join(str(_) for _ in row)) for row in sequences)\n",
    "            )\n",
    "     ))"
   ]
  },
  {
   "cell_type": "markdown",
   "metadata": {},
   "source": [
    "Notice that a couple of variables has been added, the square root of p and it's reminded and what is called middle and it's reminder which i'll explain shortly.\n",
    "\n",
    "Before continue have to mention some generalities related to middle value. As mentioned before, the set of modules is symmetrical so a middle has to be found which in this set of numbers is pair, the way to find it is the square root of p + 1 and it's modulo value is obtained as the square root reminder + 1 divided by 2, as general rule all the colums on the left of middle are half of the possible odd divisors of p in case of the number of divisors is pair.\n",
    "\n",
    "The right part of middle have more columns but the possible divisors that can be found are the same as the right and is done this way, starting from the last column of the series to the left ending at middle column, observe that the top row decreases by 2 and modulo row increases up to some point and then starts agan to increase but at different rate, the increments starts from 3 each column while the bottom value is less than top row, when the value is bigger or equal then should substract from the bottom value the top value, the result will be the module of that particular column which in case to be 0 then p is divisible by that number and it's counterpart on the left side of middle, if there's columns left to the right to reach middle then the bottom row continues to increment but this time by the previous increment value + 2 this process is repeated untill again the bottom value is again bigger or equal to the top one and so on until middle is reached, if is requested a table illustrating this will be included at the end of the document.\n",
    "\n",
    "Now that this 2 generalities that apply to both, odd and even squares will continue with even square of p particularities.\n",
    "\n",
    "The first to mention will be, for any odd number p bigger than 15 when square root of p is even and modulo of the middle column is equal to middle - 2 the number p is not prime and will be always divisible by middle - 2 and and middle + 2.\n",
    "\n",
    "Next is for any odd number p bigger than 15 when square root of p is even and modulo of middle column is less than middle - 2, both middle and middle - 2 columns modules are equal."
   ]
  },
  {
   "cell_type": "code",
   "execution_count": 10,
   "metadata": {},
   "outputs": [
    {
     "name": "stdout",
     "output_type": "stream",
     "text": [
      "When p = 169 triangular = 19110 and partial triangular = 85 Is p prime? = False\n",
      "square root = 13, square root reminder = 0\n",
      "middle = 13, reminder of middle = 0\n"
     ]
    },
    {
     "data": {
      "text/html": [
       "<table><tr><td>3</td><td>5</td><td>7</td><td>9</td><td>11</td><td>13</td><td>15</td><td>17</td><td>19</td><td>21</td><td>23</td><td>25</td><td>27</td><td>29</td><td>31</td><td>33</td><td>35</td><td>37</td><td>39</td><td>41</td><td>43</td><td>45</td><td>47</td><td>49</td><td>51</td><td>53</td><td>55</td></tr><tr><td>83</td><td>82</td><td>81</td><td>80</td><td>79</td><td>78</td><td>77</td><td>76</td><td>75</td><td>74</td><td>73</td><td>72</td><td>71</td><td>70</td><td>69</td><td>68</td><td>67</td><td>66</td><td>65</td><td>64</td><td>63</td><td>62</td><td>61</td><td>60</td><td>59</td><td>58</td><td>57</td></tr><tr><td>2</td><td>2</td><td>4</td><td>8</td><td>2</td><td>0</td><td>2</td><td>8</td><td>18</td><td>11</td><td>4</td><td>22</td><td>17</td><td>12</td><td>7</td><td>2</td><td>32</td><td>29</td><td>26</td><td>23</td><td>20</td><td>17</td><td>14</td><td>11</td><td>8</td><td>5</td><td>2</td></tr></table>"
      ],
      "text/plain": [
       "<IPython.core.display.HTML object>"
      ]
     },
     "metadata": {},
     "output_type": "display_data"
    },
    {
     "name": "stdout",
     "output_type": "stream",
     "text": [
      "When p = 171 triangular = 19110 and partial triangular = 86 Is p prime? = False\n",
      "square root = 13, square root reminder = 2\n",
      "middle = 13, reminder of middle = 1\n"
     ]
    },
    {
     "data": {
      "text/html": [
       "<table><tr><td>3</td><td>5</td><td>7</td><td>9</td><td>11</td><td>13</td><td>15</td><td>17</td><td>19</td><td>21</td><td>23</td><td>25</td><td>27</td><td>29</td><td>31</td><td>33</td><td>35</td><td>37</td><td>39</td><td>41</td><td>43</td><td>45</td><td>47</td><td>49</td><td>51</td><td>53</td><td>55</td><td>57</td></tr><tr><td>84</td><td>83</td><td>82</td><td>81</td><td>80</td><td>79</td><td>78</td><td>77</td><td>76</td><td>75</td><td>74</td><td>73</td><td>72</td><td>71</td><td>70</td><td>69</td><td>68</td><td>67</td><td>66</td><td>65</td><td>64</td><td>63</td><td>62</td><td>61</td><td>60</td><td>59</td><td>58</td><td>57</td></tr><tr><td>0</td><td>3</td><td>5</td><td>0</td><td>3</td><td>1</td><td>3</td><td>9</td><td>0</td><td>12</td><td>5</td><td>23</td><td>18</td><td>13</td><td>8</td><td>3</td><td>33</td><td>30</td><td>27</td><td>24</td><td>21</td><td>18</td><td>15</td><td>12</td><td>9</td><td>6</td><td>3</td><td>0</td></tr></table>"
      ],
      "text/plain": [
       "<IPython.core.display.HTML object>"
      ]
     },
     "metadata": {},
     "output_type": "display_data"
    },
    {
     "name": "stdout",
     "output_type": "stream",
     "text": [
      "When p = 173 triangular = 19110 and partial triangular = 87 Is p prime? = True\n",
      "square root = 13, square root reminder = 4\n",
      "middle = 13, reminder of middle = 2\n"
     ]
    },
    {
     "data": {
      "text/html": [
       "<table><tr><td>3</td><td>5</td><td>7</td><td>9</td><td>11</td><td>13</td><td>15</td><td>17</td><td>19</td><td>21</td><td>23</td><td>25</td><td>27</td><td>29</td><td>31</td><td>33</td><td>35</td><td>37</td><td>39</td><td>41</td><td>43</td><td>45</td><td>47</td><td>49</td><td>51</td><td>53</td><td>55</td><td>57</td></tr><tr><td>85</td><td>84</td><td>83</td><td>82</td><td>81</td><td>80</td><td>79</td><td>78</td><td>77</td><td>76</td><td>75</td><td>74</td><td>73</td><td>72</td><td>71</td><td>70</td><td>69</td><td>68</td><td>67</td><td>66</td><td>65</td><td>64</td><td>63</td><td>62</td><td>61</td><td>60</td><td>59</td><td>58</td></tr><tr><td>1</td><td>4</td><td>6</td><td>1</td><td>4</td><td>2</td><td>4</td><td>10</td><td>1</td><td>13</td><td>6</td><td>24</td><td>19</td><td>14</td><td>9</td><td>4</td><td>34</td><td>31</td><td>28</td><td>25</td><td>22</td><td>19</td><td>16</td><td>13</td><td>10</td><td>7</td><td>4</td><td>1</td></tr></table>"
      ],
      "text/plain": [
       "<IPython.core.display.HTML object>"
      ]
     },
     "metadata": {},
     "output_type": "display_data"
    },
    {
     "name": "stdout",
     "output_type": "stream",
     "text": [
      "When p = 175 triangular = 19110 and partial triangular = 88 Is p prime? = False\n",
      "square root = 13, square root reminder = 6\n",
      "middle = 13, reminder of middle = 3\n"
     ]
    },
    {
     "data": {
      "text/html": [
       "<table><tr><td>3</td><td>5</td><td>7</td><td>9</td><td>11</td><td>13</td><td>15</td><td>17</td><td>19</td><td>21</td><td>23</td><td>25</td><td>27</td><td>29</td><td>31</td><td>33</td><td>35</td><td>37</td><td>39</td><td>41</td><td>43</td><td>45</td><td>47</td><td>49</td><td>51</td><td>53</td><td>55</td><td>57</td></tr><tr><td>86</td><td>85</td><td>84</td><td>83</td><td>82</td><td>81</td><td>80</td><td>79</td><td>78</td><td>77</td><td>76</td><td>75</td><td>74</td><td>73</td><td>72</td><td>71</td><td>70</td><td>69</td><td>68</td><td>67</td><td>66</td><td>65</td><td>64</td><td>63</td><td>62</td><td>61</td><td>60</td><td>59</td></tr><tr><td>2</td><td>0</td><td>0</td><td>2</td><td>5</td><td>3</td><td>5</td><td>11</td><td>2</td><td>14</td><td>7</td><td>0</td><td>20</td><td>15</td><td>10</td><td>5</td><td>0</td><td>32</td><td>29</td><td>26</td><td>23</td><td>20</td><td>17</td><td>14</td><td>11</td><td>8</td><td>5</td><td>2</td></tr></table>"
      ],
      "text/plain": [
       "<IPython.core.display.HTML object>"
      ]
     },
     "metadata": {},
     "output_type": "display_data"
    },
    {
     "name": "stdout",
     "output_type": "stream",
     "text": [
      "When p = 177 triangular = 19110 and partial triangular = 89 Is p prime? = False\n",
      "square root = 13, square root reminder = 8\n",
      "middle = 13, reminder of middle = 4\n"
     ]
    },
    {
     "data": {
      "text/html": [
       "<table><tr><td>3</td><td>5</td><td>7</td><td>9</td><td>11</td><td>13</td><td>15</td><td>17</td><td>19</td><td>21</td><td>23</td><td>25</td><td>27</td><td>29</td><td>31</td><td>33</td><td>35</td><td>37</td><td>39</td><td>41</td><td>43</td><td>45</td><td>47</td><td>49</td><td>51</td><td>53</td><td>55</td><td>57</td><td>59</td></tr><tr><td>87</td><td>86</td><td>85</td><td>84</td><td>83</td><td>82</td><td>81</td><td>80</td><td>79</td><td>78</td><td>77</td><td>76</td><td>75</td><td>74</td><td>73</td><td>72</td><td>71</td><td>70</td><td>69</td><td>68</td><td>67</td><td>66</td><td>65</td><td>64</td><td>63</td><td>62</td><td>61</td><td>60</td><td>59</td></tr><tr><td>0</td><td>1</td><td>1</td><td>3</td><td>6</td><td>4</td><td>6</td><td>12</td><td>3</td><td>15</td><td>8</td><td>1</td><td>21</td><td>16</td><td>11</td><td>6</td><td>1</td><td>33</td><td>30</td><td>27</td><td>24</td><td>21</td><td>18</td><td>15</td><td>12</td><td>9</td><td>6</td><td>3</td><td>0</td></tr></table>"
      ],
      "text/plain": [
       "<IPython.core.display.HTML object>"
      ]
     },
     "metadata": {},
     "output_type": "display_data"
    },
    {
     "name": "stdout",
     "output_type": "stream",
     "text": [
      "When p = 179 triangular = 19110 and partial triangular = 90 Is p prime? = True\n",
      "square root = 13, square root reminder = 10\n",
      "middle = 13, reminder of middle = 5\n"
     ]
    },
    {
     "data": {
      "text/html": [
       "<table><tr><td>3</td><td>5</td><td>7</td><td>9</td><td>11</td><td>13</td><td>15</td><td>17</td><td>19</td><td>21</td><td>23</td><td>25</td><td>27</td><td>29</td><td>31</td><td>33</td><td>35</td><td>37</td><td>39</td><td>41</td><td>43</td><td>45</td><td>47</td><td>49</td><td>51</td><td>53</td><td>55</td><td>57</td><td>59</td></tr><tr><td>88</td><td>87</td><td>86</td><td>85</td><td>84</td><td>83</td><td>82</td><td>81</td><td>80</td><td>79</td><td>78</td><td>77</td><td>76</td><td>75</td><td>74</td><td>73</td><td>72</td><td>71</td><td>70</td><td>69</td><td>68</td><td>67</td><td>66</td><td>65</td><td>64</td><td>63</td><td>62</td><td>61</td><td>60</td></tr><tr><td>1</td><td>2</td><td>2</td><td>4</td><td>7</td><td>5</td><td>7</td><td>13</td><td>4</td><td>16</td><td>9</td><td>2</td><td>22</td><td>17</td><td>12</td><td>7</td><td>2</td><td>34</td><td>31</td><td>28</td><td>25</td><td>22</td><td>19</td><td>16</td><td>13</td><td>10</td><td>7</td><td>4</td><td>1</td></tr></table>"
      ],
      "text/plain": [
       "<IPython.core.display.HTML object>"
      ]
     },
     "metadata": {},
     "output_type": "display_data"
    },
    {
     "name": "stdout",
     "output_type": "stream",
     "text": [
      "When p = 181 triangular = 19110 and partial triangular = 91 Is p prime? = True\n",
      "square root = 13, square root reminder = 12\n",
      "middle = 13, reminder of middle = 6\n"
     ]
    },
    {
     "data": {
      "text/html": [
       "<table><tr><td>3</td><td>5</td><td>7</td><td>9</td><td>11</td><td>13</td><td>15</td><td>17</td><td>19</td><td>21</td><td>23</td><td>25</td><td>27</td><td>29</td><td>31</td><td>33</td><td>35</td><td>37</td><td>39</td><td>41</td><td>43</td><td>45</td><td>47</td><td>49</td><td>51</td><td>53</td><td>55</td><td>57</td><td>59</td></tr><tr><td>89</td><td>88</td><td>87</td><td>86</td><td>85</td><td>84</td><td>83</td><td>82</td><td>81</td><td>80</td><td>79</td><td>78</td><td>77</td><td>76</td><td>75</td><td>74</td><td>73</td><td>72</td><td>71</td><td>70</td><td>69</td><td>68</td><td>67</td><td>66</td><td>65</td><td>64</td><td>63</td><td>62</td><td>61</td></tr><tr><td>2</td><td>3</td><td>3</td><td>5</td><td>8</td><td>6</td><td>8</td><td>14</td><td>5</td><td>17</td><td>10</td><td>3</td><td>23</td><td>18</td><td>13</td><td>8</td><td>3</td><td>35</td><td>32</td><td>29</td><td>26</td><td>23</td><td>20</td><td>17</td><td>14</td><td>11</td><td>8</td><td>5</td><td>2</td></tr></table>"
      ],
      "text/plain": [
       "<IPython.core.display.HTML object>"
      ]
     },
     "metadata": {},
     "output_type": "display_data"
    },
    {
     "name": "stdout",
     "output_type": "stream",
     "text": [
      "When p = 183 triangular = 19110 and partial triangular = 92 Is p prime? = False\n",
      "square root = 13, square root reminder = 14\n",
      "middle = 13, reminder of middle = 7\n"
     ]
    },
    {
     "data": {
      "text/html": [
       "<table><tr><td>3</td><td>5</td><td>7</td><td>9</td><td>11</td><td>13</td><td>15</td><td>17</td><td>19</td><td>21</td><td>23</td><td>25</td><td>27</td><td>29</td><td>31</td><td>33</td><td>35</td><td>37</td><td>39</td><td>41</td><td>43</td><td>45</td><td>47</td><td>49</td><td>51</td><td>53</td><td>55</td><td>57</td><td>59</td><td>61</td></tr><tr><td>90</td><td>89</td><td>88</td><td>87</td><td>86</td><td>85</td><td>84</td><td>83</td><td>82</td><td>81</td><td>80</td><td>79</td><td>78</td><td>77</td><td>76</td><td>75</td><td>74</td><td>73</td><td>72</td><td>71</td><td>70</td><td>69</td><td>68</td><td>67</td><td>66</td><td>65</td><td>64</td><td>63</td><td>62</td><td>61</td></tr><tr><td>0</td><td>4</td><td>4</td><td>6</td><td>9</td><td>7</td><td>9</td><td>15</td><td>6</td><td>18</td><td>11</td><td>4</td><td>24</td><td>19</td><td>14</td><td>9</td><td>4</td><td>36</td><td>33</td><td>30</td><td>27</td><td>24</td><td>21</td><td>18</td><td>15</td><td>12</td><td>9</td><td>6</td><td>3</td><td>0</td></tr></table>"
      ],
      "text/plain": [
       "<IPython.core.display.HTML object>"
      ]
     },
     "metadata": {},
     "output_type": "display_data"
    },
    {
     "name": "stdout",
     "output_type": "stream",
     "text": [
      "When p = 185 triangular = 19110 and partial triangular = 93 Is p prime? = False\n",
      "square root = 13, square root reminder = 16\n",
      "middle = 13, reminder of middle = 8\n"
     ]
    },
    {
     "data": {
      "text/html": [
       "<table><tr><td>3</td><td>5</td><td>7</td><td>9</td><td>11</td><td>13</td><td>15</td><td>17</td><td>19</td><td>21</td><td>23</td><td>25</td><td>27</td><td>29</td><td>31</td><td>33</td><td>35</td><td>37</td><td>39</td><td>41</td><td>43</td><td>45</td><td>47</td><td>49</td><td>51</td><td>53</td><td>55</td><td>57</td><td>59</td><td>61</td></tr><tr><td>91</td><td>90</td><td>89</td><td>88</td><td>87</td><td>86</td><td>85</td><td>84</td><td>83</td><td>82</td><td>81</td><td>80</td><td>79</td><td>78</td><td>77</td><td>76</td><td>75</td><td>74</td><td>73</td><td>72</td><td>71</td><td>70</td><td>69</td><td>68</td><td>67</td><td>66</td><td>65</td><td>64</td><td>63</td><td>62</td></tr><tr><td>1</td><td>0</td><td>5</td><td>7</td><td>10</td><td>8</td><td>10</td><td>16</td><td>7</td><td>19</td><td>12</td><td>5</td><td>25</td><td>20</td><td>15</td><td>10</td><td>5</td><td>0</td><td>34</td><td>31</td><td>28</td><td>25</td><td>22</td><td>19</td><td>16</td><td>13</td><td>10</td><td>7</td><td>4</td><td>1</td></tr></table>"
      ],
      "text/plain": [
       "<IPython.core.display.HTML object>"
      ]
     },
     "metadata": {},
     "output_type": "display_data"
    },
    {
     "name": "stdout",
     "output_type": "stream",
     "text": [
      "When p = 187 triangular = 19110 and partial triangular = 94 Is p prime? = False\n",
      "square root = 13, square root reminder = 18\n",
      "middle = 13, reminder of middle = 9\n"
     ]
    },
    {
     "data": {
      "text/html": [
       "<table><tr><td>3</td><td>5</td><td>7</td><td>9</td><td>11</td><td>13</td><td>15</td><td>17</td><td>19</td><td>21</td><td>23</td><td>25</td><td>27</td><td>29</td><td>31</td><td>33</td><td>35</td><td>37</td><td>39</td><td>41</td><td>43</td><td>45</td><td>47</td><td>49</td><td>51</td><td>53</td><td>55</td><td>57</td><td>59</td><td>61</td></tr><tr><td>92</td><td>91</td><td>90</td><td>89</td><td>88</td><td>87</td><td>86</td><td>85</td><td>84</td><td>83</td><td>82</td><td>81</td><td>80</td><td>79</td><td>78</td><td>77</td><td>76</td><td>75</td><td>74</td><td>73</td><td>72</td><td>71</td><td>70</td><td>69</td><td>68</td><td>67</td><td>66</td><td>65</td><td>64</td><td>63</td></tr><tr><td>2</td><td>1</td><td>6</td><td>8</td><td>0</td><td>9</td><td>11</td><td>0</td><td>8</td><td>20</td><td>13</td><td>6</td><td>26</td><td>21</td><td>16</td><td>11</td><td>6</td><td>1</td><td>35</td><td>32</td><td>29</td><td>26</td><td>23</td><td>20</td><td>17</td><td>14</td><td>11</td><td>8</td><td>5</td><td>2</td></tr></table>"
      ],
      "text/plain": [
       "<IPython.core.display.HTML object>"
      ]
     },
     "metadata": {},
     "output_type": "display_data"
    },
    {
     "name": "stdout",
     "output_type": "stream",
     "text": [
      "When p = 189 triangular = 19110 and partial triangular = 95 Is p prime? = False\n",
      "square root = 13, square root reminder = 20\n",
      "middle = 13, reminder of middle = 10\n"
     ]
    },
    {
     "data": {
      "text/html": [
       "<table><tr><td>3</td><td>5</td><td>7</td><td>9</td><td>11</td><td>13</td><td>15</td><td>17</td><td>19</td><td>21</td><td>23</td><td>25</td><td>27</td><td>29</td><td>31</td><td>33</td><td>35</td><td>37</td><td>39</td><td>41</td><td>43</td><td>45</td><td>47</td><td>49</td><td>51</td><td>53</td><td>55</td><td>57</td><td>59</td><td>61</td><td>63</td></tr><tr><td>93</td><td>92</td><td>91</td><td>90</td><td>89</td><td>88</td><td>87</td><td>86</td><td>85</td><td>84</td><td>83</td><td>82</td><td>81</td><td>80</td><td>79</td><td>78</td><td>77</td><td>76</td><td>75</td><td>74</td><td>73</td><td>72</td><td>71</td><td>70</td><td>69</td><td>68</td><td>67</td><td>66</td><td>65</td><td>64</td><td>63</td></tr><tr><td>0</td><td>2</td><td>0</td><td>0</td><td>1</td><td>10</td><td>12</td><td>1</td><td>9</td><td>0</td><td>14</td><td>7</td><td>0</td><td>22</td><td>17</td><td>12</td><td>7</td><td>2</td><td>36</td><td>33</td><td>30</td><td>27</td><td>24</td><td>21</td><td>18</td><td>15</td><td>12</td><td>9</td><td>6</td><td>3</td><td>0</td></tr></table>"
      ],
      "text/plain": [
       "<IPython.core.display.HTML object>"
      ]
     },
     "metadata": {},
     "output_type": "display_data"
    },
    {
     "name": "stdout",
     "output_type": "stream",
     "text": [
      "When p = 191 triangular = 19110 and partial triangular = 96 Is p prime? = True\n",
      "square root = 13, square root reminder = 22\n",
      "middle = 13, reminder of middle = 11\n"
     ]
    },
    {
     "data": {
      "text/html": [
       "<table><tr><td>3</td><td>5</td><td>7</td><td>9</td><td>11</td><td>13</td><td>15</td><td>17</td><td>19</td><td>21</td><td>23</td><td>25</td><td>27</td><td>29</td><td>31</td><td>33</td><td>35</td><td>37</td><td>39</td><td>41</td><td>43</td><td>45</td><td>47</td><td>49</td><td>51</td><td>53</td><td>55</td><td>57</td><td>59</td><td>61</td><td>63</td></tr><tr><td>94</td><td>93</td><td>92</td><td>91</td><td>90</td><td>89</td><td>88</td><td>87</td><td>86</td><td>85</td><td>84</td><td>83</td><td>82</td><td>81</td><td>80</td><td>79</td><td>78</td><td>77</td><td>76</td><td>75</td><td>74</td><td>73</td><td>72</td><td>71</td><td>70</td><td>69</td><td>68</td><td>67</td><td>66</td><td>65</td><td>64</td></tr><tr><td>1</td><td>3</td><td>1</td><td>1</td><td>2</td><td>11</td><td>13</td><td>2</td><td>10</td><td>1</td><td>15</td><td>8</td><td>1</td><td>23</td><td>18</td><td>13</td><td>8</td><td>3</td><td>37</td><td>34</td><td>31</td><td>28</td><td>25</td><td>22</td><td>19</td><td>16</td><td>13</td><td>10</td><td>7</td><td>4</td><td>1</td></tr></table>"
      ],
      "text/plain": [
       "<IPython.core.display.HTML object>"
      ]
     },
     "metadata": {},
     "output_type": "display_data"
    },
    {
     "name": "stdout",
     "output_type": "stream",
     "text": [
      "When p = 193 triangular = 19110 and partial triangular = 97 Is p prime? = True\n",
      "square root = 13, square root reminder = 24\n",
      "middle = 13, reminder of middle = 12\n"
     ]
    },
    {
     "data": {
      "text/html": [
       "<table><tr><td>3</td><td>5</td><td>7</td><td>9</td><td>11</td><td>13</td><td>15</td><td>17</td><td>19</td><td>21</td><td>23</td><td>25</td><td>27</td><td>29</td><td>31</td><td>33</td><td>35</td><td>37</td><td>39</td><td>41</td><td>43</td><td>45</td><td>47</td><td>49</td><td>51</td><td>53</td><td>55</td><td>57</td><td>59</td><td>61</td><td>63</td></tr><tr><td>95</td><td>94</td><td>93</td><td>92</td><td>91</td><td>90</td><td>89</td><td>88</td><td>87</td><td>86</td><td>85</td><td>84</td><td>83</td><td>82</td><td>81</td><td>80</td><td>79</td><td>78</td><td>77</td><td>76</td><td>75</td><td>74</td><td>73</td><td>72</td><td>71</td><td>70</td><td>69</td><td>68</td><td>67</td><td>66</td><td>65</td></tr><tr><td>2</td><td>4</td><td>2</td><td>2</td><td>3</td><td>12</td><td>14</td><td>3</td><td>11</td><td>2</td><td>16</td><td>9</td><td>2</td><td>24</td><td>19</td><td>14</td><td>9</td><td>4</td><td>38</td><td>35</td><td>32</td><td>29</td><td>26</td><td>23</td><td>20</td><td>17</td><td>14</td><td>11</td><td>8</td><td>5</td><td>2</td></tr></table>"
      ],
      "text/plain": [
       "<IPython.core.display.HTML object>"
      ]
     },
     "metadata": {},
     "output_type": "display_data"
    },
    {
     "name": "stdout",
     "output_type": "stream",
     "text": [
      "When p = 195 triangular = 19110 and partial triangular = 98 Is p prime? = False\n",
      "square root = 13, square root reminder = 26\n",
      "middle = 13, reminder of middle = 13\n"
     ]
    },
    {
     "data": {
      "text/html": [
       "<table><tr><td>3</td><td>5</td><td>7</td><td>9</td><td>11</td><td>13</td><td>15</td><td>17</td><td>19</td><td>21</td><td>23</td><td>25</td><td>27</td><td>29</td><td>31</td><td>33</td><td>35</td><td>37</td><td>39</td><td>41</td><td>43</td><td>45</td><td>47</td><td>49</td><td>51</td><td>53</td><td>55</td><td>57</td><td>59</td><td>61</td><td>63</td><td>65</td></tr><tr><td>96</td><td>95</td><td>94</td><td>93</td><td>92</td><td>91</td><td>90</td><td>89</td><td>88</td><td>87</td><td>86</td><td>85</td><td>84</td><td>83</td><td>82</td><td>81</td><td>80</td><td>79</td><td>78</td><td>77</td><td>76</td><td>75</td><td>74</td><td>73</td><td>72</td><td>71</td><td>70</td><td>69</td><td>68</td><td>67</td><td>66</td><td>65</td></tr><tr><td>0</td><td>0</td><td>3</td><td>3</td><td>4</td><td>0</td><td>0</td><td>4</td><td>12</td><td>3</td><td>17</td><td>10</td><td>3</td><td>25</td><td>20</td><td>15</td><td>10</td><td>5</td><td>0</td><td>36</td><td>33</td><td>30</td><td>27</td><td>24</td><td>21</td><td>18</td><td>15</td><td>12</td><td>9</td><td>6</td><td>3</td><td>0</td></tr></table>"
      ],
      "text/plain": [
       "<IPython.core.display.HTML object>"
      ]
     },
     "metadata": {},
     "output_type": "display_data"
    }
   ],
   "source": [
    "for p in range(169, 196, 2):\n",
    "    partialt = partial_triangular(p)\n",
    "    #temporal variable to generate the secuence value\n",
    "    partialt_temp = partialt - 1\n",
    "    square_root = int(sqrt(p))\n",
    "    sqroot_rem = p - square_root ** 2\n",
    "    middle = square_root\n",
    "    \n",
    "    if sqroot_rem == 0:\n",
    "        middle_rem = 0\n",
    "    else:\n",
    "        middle_rem = int(sqroot_rem / 2)\n",
    "    \n",
    "    sequences = [[],[],[]]\n",
    "    \n",
    "    for x1 in range (3, int(p / 3 + 1), 2):\n",
    "        sequences[0].append(x1)\n",
    "    #   sequences[1].append(partialt_temp - 1)\n",
    "    for x2 in sequences[0]:\n",
    "        partialt_temp = partialt_temp -1\n",
    "        sequences[1].append(partialt_temp)\n",
    "    for i in range(len(sequences[0])):\n",
    "        sequences[2].append(sequences[1][i] % sequences[0][i])\n",
    "    \n",
    "    prime = True\n",
    "    if 0 in sequences[2]:\n",
    "        prime = False\n",
    "    \n",
    "    print(\"When p = {} triangular = {} and partial triangular = {} Is p prime? = {}\".format(p, t, partialt, prime))\n",
    "    print(\"square root = {}, square root reminder = {}\".format(square_root, sqroot_rem))\n",
    "    print(\"middle = {}, reminder of middle = {}\".format(middle, middle_rem))\n",
    "    display(HTML(\n",
    "        '<table><tr>{}</tr></table>'.format(\n",
    "            '</tr><tr>'.join(\n",
    "                '<td>{}</td>'.format('</td><td>'.join(str(_) for _ in row)) for row in sequences)\n",
    "            )\n",
    "     ))"
   ]
  },
  {
   "cell_type": "markdown",
   "metadata": {},
   "source": [
    "in case of obtain values for p when it's square root is odd is quite straight forward since all are odd, middle is directly equal to square root of p and reminder of middle is simply obtained by dividing square root reminder by 2 since it's always pair.\n",
    "\n",
    "Observe on this set of numbers generalities mentioned before also apply.\n",
    "\n",
    "The first to notice is the first and last p when square root of p is odd are always not prime, first on the set because is perfect square and last of the set notice middle and reminder of middle are the same and also notice that middle column and middle + 2 column are the same, which is related with the even square root less than middle remainder - 2 particulatrity.\n",
    "\n",
    "Second is for any odd number p bigger than 15 when square root of p is odd and modulo of the middle column is equal to middle - 4 the number p is not prime and will be always divisible by middle - 2 and and middle + 4.\n",
    "\n",
    "With both of sets differences mentioned the algorithm can be \"simplified/optimized\" even more as will show on next tables and will exclude of the sets the nunbers that are certainly not prime"
   ]
  },
  {
   "cell_type": "code",
   "execution_count": 11,
   "metadata": {},
   "outputs": [
    {
     "name": "stdout",
     "output_type": "stream",
     "text": [
      "When p = 145 triangular = 19110 and partial triangular = 73 Is p prime? = False\n",
      "square root = 12, square root reminder = 1\n",
      "middle = 13, reminder of middle = 1\n"
     ]
    },
    {
     "data": {
      "text/html": [
       "<table><tr><td>13</td><td>15</td><td>19</td><td>29</td></tr><tr><td>1</td><td>5</td><td>6</td><td>0</td></tr><tr><td>9</td><td>7</td><td>5</td><td>3</td></tr></table>"
      ],
      "text/plain": [
       "<IPython.core.display.HTML object>"
      ]
     },
     "metadata": {},
     "output_type": "display_data"
    },
    {
     "name": "stdout",
     "output_type": "stream",
     "text": [
      "When p = 147 triangular = 19110 and partial triangular = 74 Is p prime? = False\n",
      "square root = 12, square root reminder = 3\n",
      "middle = 13, reminder of middle = 2\n"
     ]
    },
    {
     "data": {
      "text/html": [
       "<table><tr><td>13</td><td>15</td><td>21</td></tr><tr><td>2</td><td>6</td><td>0</td></tr><tr><td>9</td><td>7</td><td>5</td></tr></table>"
      ],
      "text/plain": [
       "<IPython.core.display.HTML object>"
      ]
     },
     "metadata": {},
     "output_type": "display_data"
    },
    {
     "name": "stdout",
     "output_type": "stream",
     "text": [
      "When p = 149 triangular = 19110 and partial triangular = 75 Is p prime? = True\n",
      "square root = 12, square root reminder = 5\n",
      "middle = 13, reminder of middle = 3\n"
     ]
    },
    {
     "data": {
      "text/html": [
       "<table><tr><td>13</td><td>15</td><td>21</td><td>29</td><td>49</td></tr><tr><td>3</td><td>7</td><td>1</td><td>2</td><td>1</td></tr><tr><td>9</td><td>7</td><td>5</td><td>3</td><td>1</td></tr></table>"
      ],
      "text/plain": [
       "<IPython.core.display.HTML object>"
      ]
     },
     "metadata": {},
     "output_type": "display_data"
    },
    {
     "name": "stdout",
     "output_type": "stream",
     "text": [
      "When p = 151 triangular = 19110 and partial triangular = 76 Is p prime? = True\n",
      "square root = 12, square root reminder = 7\n",
      "middle = 13, reminder of middle = 4\n"
     ]
    },
    {
     "data": {
      "text/html": [
       "<table><tr><td>13</td><td>15</td><td>21</td><td>29</td><td>49</td></tr><tr><td>4</td><td>8</td><td>2</td><td>3</td><td>2</td></tr><tr><td>9</td><td>7</td><td>5</td><td>3</td><td>1</td></tr></table>"
      ],
      "text/plain": [
       "<IPython.core.display.HTML object>"
      ]
     },
     "metadata": {},
     "output_type": "display_data"
    },
    {
     "name": "stdout",
     "output_type": "stream",
     "text": [
      "When p = 153 triangular = 19110 and partial triangular = 77 Is p prime? = False\n",
      "square root = 12, square root reminder = 9\n",
      "middle = 13, reminder of middle = 5\n"
     ]
    },
    {
     "data": {
      "text/html": [
       "<table><tr><td>13</td><td>17</td></tr><tr><td>5</td><td>0</td></tr><tr><td>9</td><td>7</td></tr></table>"
      ],
      "text/plain": [
       "<IPython.core.display.HTML object>"
      ]
     },
     "metadata": {},
     "output_type": "display_data"
    },
    {
     "name": "stdout",
     "output_type": "stream",
     "text": [
      "When p = 155 triangular = 19110 and partial triangular = 78 Is p prime? = False\n",
      "square root = 12, square root reminder = 11\n",
      "middle = 13, reminder of middle = 6\n"
     ]
    },
    {
     "data": {
      "text/html": [
       "<table><tr><td>13</td><td>17</td><td>21</td><td>31</td></tr><tr><td>6</td><td>1</td><td>4</td><td>0</td></tr><tr><td>9</td><td>7</td><td>5</td><td>3</td></tr></table>"
      ],
      "text/plain": [
       "<IPython.core.display.HTML object>"
      ]
     },
     "metadata": {},
     "output_type": "display_data"
    },
    {
     "name": "stdout",
     "output_type": "stream",
     "text": [
      "When p = 157 triangular = 19110 and partial triangular = 79 Is p prime? = True\n",
      "square root = 12, square root reminder = 13\n",
      "middle = 13, reminder of middle = 7\n"
     ]
    },
    {
     "data": {
      "text/html": [
       "<table><tr><td>13</td><td>17</td><td>21</td><td>31</td><td>51</td></tr><tr><td>7</td><td>2</td><td>5</td><td>1</td><td>2</td></tr><tr><td>9</td><td>7</td><td>5</td><td>3</td><td>1</td></tr></table>"
      ],
      "text/plain": [
       "<IPython.core.display.HTML object>"
      ]
     },
     "metadata": {},
     "output_type": "display_data"
    },
    {
     "name": "stdout",
     "output_type": "stream",
     "text": [
      "When p = 159 triangular = 19110 and partial triangular = 80 Is p prime? = False\n",
      "square root = 12, square root reminder = 15\n",
      "middle = 13, reminder of middle = 8\n"
     ]
    },
    {
     "data": {
      "text/html": [
       "<table><tr><td>13</td><td>17</td><td>21</td><td>31</td><td>53</td></tr><tr><td>8</td><td>3</td><td>6</td><td>2</td><td>0</td></tr><tr><td>9</td><td>7</td><td>5</td><td>3</td><td>1</td></tr></table>"
      ],
      "text/plain": [
       "<IPython.core.display.HTML object>"
      ]
     },
     "metadata": {},
     "output_type": "display_data"
    },
    {
     "name": "stdout",
     "output_type": "stream",
     "text": [
      "When p = 161 triangular = 19110 and partial triangular = 81 Is p prime? = False\n",
      "square root = 12, square root reminder = 17\n",
      "middle = 13, reminder of middle = 9\n"
     ]
    },
    {
     "data": {
      "text/html": [
       "<table><tr><td>13</td><td>17</td><td>23</td></tr><tr><td>9</td><td>4</td><td>0</td></tr><tr><td>9</td><td>7</td><td>5</td></tr></table>"
      ],
      "text/plain": [
       "<IPython.core.display.HTML object>"
      ]
     },
     "metadata": {},
     "output_type": "display_data"
    },
    {
     "name": "stdout",
     "output_type": "stream",
     "text": [
      "When p = 163 triangular = 19110 and partial triangular = 82 Is p prime? = True\n",
      "square root = 12, square root reminder = 19\n",
      "middle = 13, reminder of middle = 10\n"
     ]
    },
    {
     "data": {
      "text/html": [
       "<table><tr><td>13</td><td>17</td><td>23</td><td>31</td><td>53</td></tr><tr><td>10</td><td>5</td><td>1</td><td>4</td><td>2</td></tr><tr><td>9</td><td>7</td><td>5</td><td>3</td><td>1</td></tr></table>"
      ],
      "text/plain": [
       "<IPython.core.display.HTML object>"
      ]
     },
     "metadata": {},
     "output_type": "display_data"
    }
   ],
   "source": [
    "for p in range(145, 164, 2):\n",
    "    partialt = partial_triangular(p)\n",
    "    #temporal variable to generate the secuence value\n",
    "    partialt_temp = partialt - 1\n",
    "    square_root = int(sqrt(p))\n",
    "    sqroot_rem = p - square_root ** 2\n",
    "    middle = square_root + 1\n",
    "    middle_rem = int((sqroot_rem + 1) / 2)\n",
    "    #variable that will hold the current divisor\n",
    "    current = middle - 4\n",
    "    #temporal variables to generate new table...\n",
    "    top = middle\n",
    "    bottom = middle_rem\n",
    "    #yet another temporal variable to hold the steps\n",
    "    step = 1\n",
    "    \n",
    "    sequences = [[],[],[]]    \n",
    "    \n",
    "    while current > 0:\n",
    "        sequences[0].append(top)\n",
    "        sequences[1].append(bottom)\n",
    "        sequences[2].append(current)\n",
    "        \n",
    "        if bottom == 0:\n",
    "            current = 0\n",
    "            break\n",
    "        \n",
    "        step = int((top + bottom) / current)\n",
    "        bottom = int((top + bottom) % current)\n",
    "        top = top + (step * 2)\n",
    "        current = current - 2\n",
    "    \n",
    "    \n",
    "    #for x1 in range (3, int(p / 3 + 1), 2):\n",
    "    #    sequences[0].append(x1)\n",
    "    ##   sequences[1].append(partialt_temp - 1)\n",
    "    #for x2 in sequences[0]:\n",
    "    #    partialt_temp = partialt_temp -1\n",
    "    #    sequences[1].append(partialt_temp)\n",
    "    #for i in range(len(sequences[0])):\n",
    "    #    sequences[2].append(sequences[1][i] % sequences[0][i])\n",
    "    \n",
    "    prime = True\n",
    "    if 0 in sequences[1]:\n",
    "        prime = False\n",
    "    \n",
    "    print(\"When p = {} triangular = {} and partial triangular = {} Is p prime? = {}\".format(p, t, partialt, prime))\n",
    "    print(\"square root = {}, square root reminder = {}\".format(square_root, sqroot_rem))\n",
    "    print(\"middle = {}, reminder of middle = {}\".format(middle, middle_rem))\n",
    "    display(HTML(\n",
    "        '<table><tr>{}</tr></table>'.format(\n",
    "            '</tr><tr>'.join(\n",
    "                '<td>{}</td>'.format('</td><td>'.join(str(_) for _ in row)) for row in sequences)\n",
    "            )\n",
    "     ))"
   ]
  },
  {
   "cell_type": "code",
   "execution_count": 12,
   "metadata": {},
   "outputs": [
    {
     "name": "stdout",
     "output_type": "stream",
     "text": [
      "When p = 167 triangular = 19110 and partial triangular = 84 Is p prime? = True\n",
      "square root = 12, square root reminder = 23\n",
      "middle = 13, reminder of middle = 12\n"
     ]
    },
    {
     "data": {
      "text/html": [
       "<table><tr><td>13</td><td>17</td><td>23</td><td>33</td><td>55</td></tr><tr><td>12</td><td>7</td><td>3</td><td>1</td><td>1</td></tr><tr><td>9</td><td>7</td><td>5</td><td>3</td><td>1</td></tr></table>"
      ],
      "text/plain": [
       "<IPython.core.display.HTML object>"
      ]
     },
     "metadata": {},
     "output_type": "display_data"
    }
   ],
   "source": [
    "for p in range(167, 168, 2):\n",
    "    partialt = partial_triangular(p)\n",
    "    #temporal variable to generate the secuence value\n",
    "    partialt_temp = partialt - 1\n",
    "    square_root = int(sqrt(p))\n",
    "    sqroot_rem = p - square_root ** 2\n",
    "    middle = square_root + 1\n",
    "    middle_rem = int((sqroot_rem + 1) / 2)\n",
    "    \n",
    "    #variable that will hold the current divisor\n",
    "    current = middle - 4\n",
    "    #temporal variables to generate new table...\n",
    "    top = middle\n",
    "    bottom = middle_rem\n",
    "    #yet another temporal variable to hold the steps\n",
    "    step = 1\n",
    "\n",
    "    \n",
    "    sequences = [[],[],[]]\n",
    "    \n",
    "    while current > 0:\n",
    "        sequences[0].append(top)\n",
    "        sequences[1].append(bottom)\n",
    "        sequences[2].append(current)\n",
    "        \n",
    "        if bottom == 0:\n",
    "            current = 0\n",
    "            break\n",
    "        \n",
    "        step = int((top + bottom) / current)\n",
    "        bottom = int((top + bottom) % current)\n",
    "        top = top + (step * 2)\n",
    "        current = current - 2\n",
    "    \n",
    "    #for x1 in range (3, int(p / 3 + 1), 2):\n",
    "    #    sequences[0].append(x1)\n",
    "    ##   sequences[1].append(partialt_temp - 1)\n",
    "    #for x2 in sequences[0]:\n",
    "    #    partialt_temp = partialt_temp -1\n",
    "    #    sequences[1].append(partialt_temp)\n",
    "    #for i in range(len(sequences[0])):\n",
    "    #    sequences[2].append(sequences[1][i] % sequences[0][i])\n",
    "    \n",
    "    prime = True\n",
    "    if 0 in sequences[2]:\n",
    "        prime = False\n",
    "    \n",
    "    print(\"When p = {} triangular = {} and partial triangular = {} Is p prime? = {}\".format(p, t, partialt, prime))\n",
    "    print(\"square root = {}, square root reminder = {}\".format(square_root, sqroot_rem))\n",
    "    print(\"middle = {}, reminder of middle = {}\".format(middle, middle_rem))\n",
    "    display(HTML(\n",
    "        '<table><tr>{}</tr></table>'.format(\n",
    "            '</tr><tr>'.join(\n",
    "                '<td>{}</td>'.format('</td><td>'.join(str(_) for _ in row)) for row in sequences)\n",
    "            )\n",
    "     ))"
   ]
  },
  {
   "cell_type": "markdown",
   "metadata": {},
   "source": [
    "This part could look a little bit confusing but is actually based on a general property already mentioned, when from last column the modulo sequence increments by a rate of 3 until reach a value bigger or equal, this tables was generated using the same principle but backwards starting from middle towards the last column, where top is the increasing odd sequence the middle row corresponds to the module and the last row corresponds to the divisor corresponding to each part of the sequence, which is used to generate the next column, first divisor when the square root is even is determined by middle - 4 and next modulo is determined by the modulo of the sum of first and second row by the current divisor and next top row item is determined by getting the qutient of the sum of top and middle row divided by current divisor multiplied by 2 and added to previous step value, for convenience on the last set of sequences the known not primes and also the loop set to stop when is found by the algorithm that p number is not prime."
   ]
  },
  {
   "cell_type": "code",
   "execution_count": 13,
   "metadata": {},
   "outputs": [
    {
     "name": "stdout",
     "output_type": "stream",
     "text": [
      "When p = 171 triangular = 19110 and partial triangular = 86 Is p prime? = False\n",
      "square root = 13, square root reminder = 2\n",
      "middle = 13, reminder of middle = 1\n"
     ]
    },
    {
     "data": {
      "text/html": [
       "<table><tr><td>13</td><td>15</td><td>19</td></tr><tr><td>1</td><td>3</td><td>0</td></tr><tr><td>11</td><td>9</td><td>7</td></tr></table>"
      ],
      "text/plain": [
       "<IPython.core.display.HTML object>"
      ]
     },
     "metadata": {},
     "output_type": "display_data"
    },
    {
     "name": "stdout",
     "output_type": "stream",
     "text": [
      "When p = 173 triangular = 19110 and partial triangular = 87 Is p prime? = True\n",
      "square root = 13, square root reminder = 4\n",
      "middle = 13, reminder of middle = 2\n"
     ]
    },
    {
     "data": {
      "text/html": [
       "<table><tr><td>13</td><td>15</td><td>19</td><td>23</td><td>33</td><td>57</td></tr><tr><td>2</td><td>4</td><td>1</td><td>6</td><td>4</td><td>1</td></tr><tr><td>11</td><td>9</td><td>7</td><td>5</td><td>3</td><td>1</td></tr></table>"
      ],
      "text/plain": [
       "<IPython.core.display.HTML object>"
      ]
     },
     "metadata": {},
     "output_type": "display_data"
    },
    {
     "name": "stdout",
     "output_type": "stream",
     "text": [
      "When p = 175 triangular = 19110 and partial triangular = 88 Is p prime? = False\n",
      "square root = 13, square root reminder = 6\n",
      "middle = 13, reminder of middle = 3\n"
     ]
    },
    {
     "data": {
      "text/html": [
       "<table><tr><td>13</td><td>15</td><td>19</td><td>25</td></tr><tr><td>3</td><td>5</td><td>2</td><td>0</td></tr><tr><td>11</td><td>9</td><td>7</td><td>5</td></tr></table>"
      ],
      "text/plain": [
       "<IPython.core.display.HTML object>"
      ]
     },
     "metadata": {},
     "output_type": "display_data"
    },
    {
     "name": "stdout",
     "output_type": "stream",
     "text": [
      "When p = 177 triangular = 19110 and partial triangular = 89 Is p prime? = False\n",
      "square root = 13, square root reminder = 8\n",
      "middle = 13, reminder of middle = 4\n"
     ]
    },
    {
     "data": {
      "text/html": [
       "<table><tr><td>13</td><td>15</td><td>19</td><td>25</td><td>35</td><td>59</td></tr><tr><td>4</td><td>6</td><td>3</td><td>1</td><td>1</td><td>0</td></tr><tr><td>11</td><td>9</td><td>7</td><td>5</td><td>3</td><td>1</td></tr></table>"
      ],
      "text/plain": [
       "<IPython.core.display.HTML object>"
      ]
     },
     "metadata": {},
     "output_type": "display_data"
    },
    {
     "name": "stdout",
     "output_type": "stream",
     "text": [
      "When p = 179 triangular = 19110 and partial triangular = 90 Is p prime? = True\n",
      "square root = 13, square root reminder = 10\n",
      "middle = 13, reminder of middle = 5\n"
     ]
    },
    {
     "data": {
      "text/html": [
       "<table><tr><td>13</td><td>15</td><td>19</td><td>25</td><td>35</td><td>59</td></tr><tr><td>5</td><td>7</td><td>4</td><td>2</td><td>2</td><td>1</td></tr><tr><td>11</td><td>9</td><td>7</td><td>5</td><td>3</td><td>1</td></tr></table>"
      ],
      "text/plain": [
       "<IPython.core.display.HTML object>"
      ]
     },
     "metadata": {},
     "output_type": "display_data"
    },
    {
     "name": "stdout",
     "output_type": "stream",
     "text": [
      "When p = 181 triangular = 19110 and partial triangular = 91 Is p prime? = True\n",
      "square root = 13, square root reminder = 12\n",
      "middle = 13, reminder of middle = 6\n"
     ]
    },
    {
     "data": {
      "text/html": [
       "<table><tr><td>13</td><td>15</td><td>19</td><td>25</td><td>35</td><td>59</td></tr><tr><td>6</td><td>8</td><td>5</td><td>3</td><td>3</td><td>2</td></tr><tr><td>11</td><td>9</td><td>7</td><td>5</td><td>3</td><td>1</td></tr></table>"
      ],
      "text/plain": [
       "<IPython.core.display.HTML object>"
      ]
     },
     "metadata": {},
     "output_type": "display_data"
    },
    {
     "name": "stdout",
     "output_type": "stream",
     "text": [
      "When p = 183 triangular = 19110 and partial triangular = 92 Is p prime? = False\n",
      "square root = 13, square root reminder = 14\n",
      "middle = 13, reminder of middle = 7\n"
     ]
    },
    {
     "data": {
      "text/html": [
       "<table><tr><td>13</td><td>15</td><td>19</td><td>25</td><td>35</td><td>61</td></tr><tr><td>7</td><td>9</td><td>6</td><td>4</td><td>4</td><td>0</td></tr><tr><td>11</td><td>9</td><td>7</td><td>5</td><td>3</td><td>1</td></tr></table>"
      ],
      "text/plain": [
       "<IPython.core.display.HTML object>"
      ]
     },
     "metadata": {},
     "output_type": "display_data"
    },
    {
     "name": "stdout",
     "output_type": "stream",
     "text": [
      "When p = 185 triangular = 19110 and partial triangular = 93 Is p prime? = False\n",
      "square root = 13, square root reminder = 16\n",
      "middle = 13, reminder of middle = 8\n"
     ]
    },
    {
     "data": {
      "text/html": [
       "<table><tr><td>13</td><td>15</td><td>19</td><td>25</td><td>37</td></tr><tr><td>8</td><td>10</td><td>7</td><td>5</td><td>0</td></tr><tr><td>11</td><td>9</td><td>7</td><td>5</td><td>3</td></tr></table>"
      ],
      "text/plain": [
       "<IPython.core.display.HTML object>"
      ]
     },
     "metadata": {},
     "output_type": "display_data"
    }
   ],
   "source": [
    "for p in range(171, 186, 2):\n",
    "    partialt = partial_triangular(p)\n",
    "    #temporal variable to generate the secuence value\n",
    "    partialt_temp = partialt - 1\n",
    "    square_root = int(sqrt(p))\n",
    "    sqroot_rem = p - square_root ** 2\n",
    "    middle = square_root\n",
    "    \n",
    "    if sqroot_rem == 0:\n",
    "        middle_rem = 0\n",
    "    else:\n",
    "        middle_rem = int(sqroot_rem / 2)\n",
    "    \n",
    "    #variable that will hold the current divisor\n",
    "    current = middle - 2\n",
    "    #temporal variables to generate new table...\n",
    "    top = middle\n",
    "    bottom = middle_rem\n",
    "    #yet another temporal variable to hold the steps\n",
    "    step = 1\n",
    "\n",
    "    \n",
    "    sequences = [[],[],[]]\n",
    "    \n",
    "    while current > 0:\n",
    "        sequences[0].append(top)\n",
    "        sequences[1].append(bottom)\n",
    "        sequences[2].append(current)\n",
    "        \n",
    "        if bottom == 0:\n",
    "            current = 0\n",
    "            break\n",
    "        \n",
    "        step = int((top + bottom) / current)\n",
    "        bottom = int((top + bottom) % current)\n",
    "        top = top + (step * 2)\n",
    "        current = current - 2\n",
    "    \n",
    "    #for x1 in range (3, int(p / 3 + 1), 2):\n",
    "    #    sequences[0].append(x1)\n",
    "    #   sequences[1].append(partialt_temp - 1)\n",
    "    #for x2 in sequences[0]:\n",
    "    #    partialt_temp = partialt_temp -1\n",
    "    #   sequences[1].append(partialt_temp)\n",
    "    #for i in range(len(sequences[0])):\n",
    "    #    sequences[2].append(sequences[1][i] % sequences[0][i])\n",
    "    \n",
    "    prime = True\n",
    "    if 0 in sequences[1]:\n",
    "        prime = False\n",
    "    \n",
    "    print(\"When p = {} triangular = {} and partial triangular = {} Is p prime? = {}\".format(p, t, partialt, prime))\n",
    "    print(\"square root = {}, square root reminder = {}\".format(square_root, sqroot_rem))\n",
    "    print(\"middle = {}, reminder of middle = {}\".format(middle, middle_rem))\n",
    "    display(HTML(\n",
    "        '<table><tr>{}</tr></table>'.format(\n",
    "            '</tr><tr>'.join(\n",
    "                '<td>{}</td>'.format('</td><td>'.join(str(_) for _ in row)) for row in sequences)\n",
    "            )\n",
    "     ))"
   ]
  },
  {
   "cell_type": "code",
   "execution_count": 14,
   "metadata": {},
   "outputs": [
    {
     "name": "stdout",
     "output_type": "stream",
     "text": [
      "When p = 189 triangular = 19110 and partial triangular = 95 Is p prime? = False\n",
      "square root = 13, square root reminder = 20\n",
      "middle = 13, reminder of middle = 10\n"
     ]
    },
    {
     "data": {
      "text/html": [
       "<table><tr><td>13</td><td>17</td><td>21</td></tr><tr><td>10</td><td>1</td><td>0</td></tr><tr><td>11</td><td>9</td><td>7</td></tr></table>"
      ],
      "text/plain": [
       "<IPython.core.display.HTML object>"
      ]
     },
     "metadata": {},
     "output_type": "display_data"
    },
    {
     "name": "stdout",
     "output_type": "stream",
     "text": [
      "When p = 191 triangular = 19110 and partial triangular = 96 Is p prime? = True\n",
      "square root = 13, square root reminder = 22\n",
      "middle = 13, reminder of middle = 11\n"
     ]
    },
    {
     "data": {
      "text/html": [
       "<table><tr><td>13</td><td>17</td><td>21</td><td>27</td><td>37</td><td>63</td></tr><tr><td>11</td><td>2</td><td>1</td><td>1</td><td>3</td><td>1</td></tr><tr><td>11</td><td>9</td><td>7</td><td>5</td><td>3</td><td>1</td></tr></table>"
      ],
      "text/plain": [
       "<IPython.core.display.HTML object>"
      ]
     },
     "metadata": {},
     "output_type": "display_data"
    },
    {
     "name": "stdout",
     "output_type": "stream",
     "text": [
      "When p = 193 triangular = 19110 and partial triangular = 97 Is p prime? = True\n",
      "square root = 13, square root reminder = 24\n",
      "middle = 13, reminder of middle = 12\n"
     ]
    },
    {
     "data": {
      "text/html": [
       "<table><tr><td>13</td><td>17</td><td>21</td><td>27</td><td>37</td><td>63</td></tr><tr><td>12</td><td>3</td><td>2</td><td>2</td><td>4</td><td>2</td></tr><tr><td>11</td><td>9</td><td>7</td><td>5</td><td>3</td><td>1</td></tr></table>"
      ],
      "text/plain": [
       "<IPython.core.display.HTML object>"
      ]
     },
     "metadata": {},
     "output_type": "display_data"
    }
   ],
   "source": [
    "for p in range(189, 194, 2):\n",
    "    partialt = partial_triangular(p)\n",
    "    #temporal variable to generate the secuence value\n",
    "    partialt_temp = partialt - 1\n",
    "    square_root = int(sqrt(p))\n",
    "    sqroot_rem = p - square_root ** 2\n",
    "    middle = square_root\n",
    "    \n",
    "    if sqroot_rem == 0:\n",
    "        middle_rem = 0\n",
    "    else:\n",
    "        middle_rem = int(sqroot_rem / 2)\n",
    "    \n",
    "    #variable that will hold the current divisor\n",
    "    current = middle - 2\n",
    "    #temporal variables to generate new table...\n",
    "    top = middle\n",
    "    bottom = middle_rem\n",
    "    #yet another temporal variable to hold the steps\n",
    "    step = 1\n",
    "\n",
    "    \n",
    "    sequences = [[],[],[]]\n",
    "    \n",
    "    while current > 0:\n",
    "        sequences[0].append(top)\n",
    "        sequences[1].append(bottom)\n",
    "        sequences[2].append(current)\n",
    "        \n",
    "        if bottom == 0:\n",
    "            current = 0\n",
    "            break\n",
    "        \n",
    "        step = int((top + bottom) / current)\n",
    "        bottom = int((top + bottom) % current)\n",
    "        top = top + (step * 2)\n",
    "        current = current - 2\n",
    "    \n",
    "    #for x1 in range (3, int(p / 3 + 1), 2):\n",
    "    #    sequences[0].append(x1)\n",
    "    #   sequences[1].append(partialt_temp - 1)\n",
    "    #for x2 in sequences[0]:\n",
    "    #    partialt_temp = partialt_temp -1\n",
    "    #   sequences[1].append(partialt_temp)\n",
    "    #for i in range(len(sequences[0])):\n",
    "    #    sequences[2].append(sequences[1][i] % sequences[0][i])\n",
    "    \n",
    "    prime = True\n",
    "    if 0 in sequences[1]:\n",
    "        prime = False\n",
    "    \n",
    "    print(\"When p = {} triangular = {} and partial triangular = {} Is p prime? = {}\".format(p, t, partialt, prime))\n",
    "    print(\"square root = {}, square root reminder = {}\".format(square_root, sqroot_rem))\n",
    "    print(\"middle = {}, reminder of middle = {}\".format(middle, middle_rem))\n",
    "    display(HTML(\n",
    "        '<table><tr>{}</tr></table>'.format(\n",
    "            '</tr><tr>'.join(\n",
    "                '<td>{}</td>'.format('</td><td>'.join(str(_) for _ in row)) for row in sequences)\n",
    "            )\n",
    "     ))"
   ]
  },
  {
   "cell_type": "markdown",
   "metadata": {},
   "source": [
    "The odd part of square of p behaves like the even one with the difference that current divisor starts at middle - 2. So in conclusion at least to the date of creation/last update, throug analysis of triangular numbers sequence and the derivative partial triangular was able to find it's relationship with prime numbers and able to determine by modulo of the sequences if the number have divisors, being the last step and the most efficent in my humble opinion based on my current knowledge by only needeng the square root of p to find middle and it's reminder to be enough to start up a sequence that effectively can find divisors for any odd number."
   ]
  },
  {
   "cell_type": "markdown",
   "metadata": {},
   "source": [
    "## Update\n",
    "## Using method descripted above to generate primes."
   ]
  },
  {
   "cell_type": "markdown",
   "metadata": {},
   "source": [
    "Since one of the possible ways to determine primality of the method above relly on the square root of p number should be also possible to generate a primes from a p number squared.\n",
    "\n",
    "The method should work using the rules mentioned above, first defining if p is even or odd, then lets obtain a starting sequence, for this implementation as first value will pick as reminder 1, now the first sequence can be generated just as finding if p is prime through it's square root.\n",
    "\n",
    "So as first step adding the reminder to p and obtaining next modulo by the divisor determined by the next in sequence from middle depending on if p is pair of even.\n",
    "\n",
    "For example, lets take first the last example ranges, so will start with the even part"
   ]
  },
  {
   "cell_type": "code",
   "execution_count": 15,
   "metadata": {},
   "outputs": [
    {
     "data": {
      "text/html": [
       "<table><tr><td>when seed 12, and reminder 1, generated is 145</td></tr><tr><td>13</td><td>15</td><td>19</td><td>29</td><td>47</td></tr><tr><td>1</td><td>5</td><td>6</td><td>0</td><td>2</td></tr><tr><td>11</td><td>9</td><td>7</td><td>5</td><td>3</td></tr></table>"
      ],
      "text/plain": [
       "<IPython.core.display.HTML object>"
      ]
     },
     "metadata": {},
     "output_type": "display_data"
    },
    {
     "data": {
      "text/html": [
       "<table><tr><td>when seed 12, and reminder 2, generated is 147</td></tr><tr><td>13</td></tr><tr><td>2</td></tr><tr><td>11</td></tr></table>"
      ],
      "text/plain": [
       "<IPython.core.display.HTML object>"
      ]
     },
     "metadata": {},
     "output_type": "display_data"
    },
    {
     "data": {
      "text/html": [
       "<table><tr><td>when seed 12, and reminder 3, generated is 149</td></tr><tr><td>13</td></tr><tr><td>3</td></tr><tr><td>11</td></tr></table>"
      ],
      "text/plain": [
       "<IPython.core.display.HTML object>"
      ]
     },
     "metadata": {},
     "output_type": "display_data"
    },
    {
     "data": {
      "text/html": [
       "<table><tr><td>when seed 12, and reminder 4, generated is 151</td></tr><tr><td>13</td></tr><tr><td>4</td></tr><tr><td>11</td></tr></table>"
      ],
      "text/plain": [
       "<IPython.core.display.HTML object>"
      ]
     },
     "metadata": {},
     "output_type": "display_data"
    },
    {
     "data": {
      "text/html": [
       "<table><tr><td>when seed 12, and reminder 5, generated is 153</td></tr><tr><td>13</td></tr><tr><td>5</td></tr><tr><td>11</td></tr></table>"
      ],
      "text/plain": [
       "<IPython.core.display.HTML object>"
      ]
     },
     "metadata": {},
     "output_type": "display_data"
    },
    {
     "data": {
      "text/html": [
       "<table><tr><td>when seed 12, and reminder 6, generated is 155</td></tr><tr><td>13</td></tr><tr><td>6</td></tr><tr><td>11</td></tr></table>"
      ],
      "text/plain": [
       "<IPython.core.display.HTML object>"
      ]
     },
     "metadata": {},
     "output_type": "display_data"
    },
    {
     "data": {
      "text/html": [
       "<table><tr><td>when seed 12, and reminder 7, generated is 157</td></tr><tr><td>13</td></tr><tr><td>7</td></tr><tr><td>11</td></tr></table>"
      ],
      "text/plain": [
       "<IPython.core.display.HTML object>"
      ]
     },
     "metadata": {},
     "output_type": "display_data"
    },
    {
     "data": {
      "text/html": [
       "<table><tr><td>when seed 12, and reminder 8, generated is 159</td></tr><tr><td>13</td></tr><tr><td>8</td></tr><tr><td>11</td></tr></table>"
      ],
      "text/plain": [
       "<IPython.core.display.HTML object>"
      ]
     },
     "metadata": {},
     "output_type": "display_data"
    },
    {
     "data": {
      "text/html": [
       "<table><tr><td>when seed 12, and reminder 9, generated is 161</td></tr><tr><td>13</td></tr><tr><td>9</td></tr><tr><td>11</td></tr></table>"
      ],
      "text/plain": [
       "<IPython.core.display.HTML object>"
      ]
     },
     "metadata": {},
     "output_type": "display_data"
    },
    {
     "data": {
      "text/html": [
       "<table><tr><td>when seed 12, and reminder 10, generated is 163</td></tr><tr><td>13</td></tr><tr><td>10</td></tr><tr><td>11</td></tr></table>"
      ],
      "text/plain": [
       "<IPython.core.display.HTML object>"
      ]
     },
     "metadata": {},
     "output_type": "display_data"
    },
    {
     "data": {
      "text/html": [
       "<table><tr><td>when seed 12, and reminder 11, generated is 165</td></tr><tr><td>13</td></tr><tr><td>11</td></tr><tr><td>11</td></tr></table>"
      ],
      "text/plain": [
       "<IPython.core.display.HTML object>"
      ]
     },
     "metadata": {},
     "output_type": "display_data"
    }
   ],
   "source": [
    "seed = 12\n",
    "middle = seed + 1\n",
    "middle_rem = 1\n",
    "\n",
    "generated = 0\n",
    "\n",
    "current = middle - 2\n",
    "\n",
    "temp_current = current\n",
    "\n",
    "sequences = []\n",
    "\n",
    "while middle_rem < seed:\n",
    "    \n",
    "    generated = \"when seed {}, and reminder {}, generated is {}\".format(seed, middle_rem, (seed ** 2) + ((middle_rem * 2) - 1))\n",
    "\n",
    "    \n",
    "    sequences.append([[generated], [middle], [middle_rem],[current]])\n",
    "    \n",
    "     \n",
    "    \n",
    "    middle_rem = middle_rem +1\n",
    "    \n",
    "while sequences[0][3][-1] > 3:\n",
    "    \n",
    "    #sequences[0][3][-1] = sequences[0][3][-1] - 2\n",
    "    \n",
    "    new_control = sequences[0][3][-1] - 2\n",
    "    new_top = (int((sequences[0][1][-1] + sequences[0][2][-1]) / new_control) * 2) + sequences[0][1][-1]\n",
    "    new_bottom = ((sequences[0][1][-1] + sequences[0][2][-1]) % new_control)\n",
    "    \n",
    "    sequences[0][1].append(new_top)\n",
    "    sequences[0][2].append(new_bottom)\n",
    "    sequences[0][3].append(new_control)\n",
    "    \n",
    "\n",
    "    \n",
    "#for p in range(189, 194, 2):    \n",
    "    \n",
    "    #prime = True\n",
    "    #if 0 in sequences[2]:\n",
    "    #    prime = False\n",
    "    \n",
    "    #print(\"When p = {} triangular = {} and partial triangular = {} Is p prime? = {}\".format(p, t, partialt, prime))\n",
    "    #print(\"square root = {}, square root reminder = {}\".format(square_root, sqroot_rem))\n",
    "    #print(\"middle = {}, reminder of middle = {}\".format(middle, middle_rem))\n",
    "\n",
    "\n",
    "for table in sequences:\n",
    "    \n",
    "    display(HTML(\n",
    "        '<table><tr>{}</tr></table>'.format(\n",
    "            '</tr><tr>'.join(\n",
    "                '<td>{}</td>'.format('</td><td>'.join(str(_) for _ in row)) for row in table)\n",
    "            )\n",
    "     ))"
   ]
  },
  {
   "cell_type": "markdown",
   "metadata": {},
   "source": [
    "Now generated a set of tables that represents the the inverse form of the theorem where p square + (reminder * 2) - 1 give us a number, the middle p behaves as expected for all numbers and on the first number was generated the full right side which behaved also as expected, so can continue to generate the rest of the values for other tables but instead of generating them using the formula will take advange of the simmetry property and ingrementing each value by one until reach a control value which will be zero as will demonstrate next"
   ]
  },
  {
   "cell_type": "code",
   "execution_count": 57,
   "metadata": {},
   "outputs": [
    {
     "data": {
      "text/html": [
       "<table><tr><td>when seed 12, and reminder 1, generated is 145</td></tr><tr><td>13</td><td>15</td><td>19</td><td>29</td><td>47</td></tr><tr><td>1</td><td>5</td><td>6</td><td>0</td><td>2</td></tr><tr><td>11</td><td>9</td><td>7</td><td>5</td><td>3</td></tr></table>"
      ],
      "text/plain": [
       "<IPython.core.display.HTML object>"
      ]
     },
     "metadata": {},
     "output_type": "display_data"
    },
    {
     "name": "stdout",
     "output_type": "stream",
     "text": [
      "not prime\n"
     ]
    },
    {
     "data": {
      "text/html": [
       "<table><tr><td>when seed 12, and reminder 2, generated is 147</td></tr><tr><td>13</td></tr><tr><td>2</td><td>6</td><td>0</td><td>1</td><td>0</td></tr><tr><td>11</td></tr></table>"
      ],
      "text/plain": [
       "<IPython.core.display.HTML object>"
      ]
     },
     "metadata": {},
     "output_type": "display_data"
    },
    {
     "name": "stdout",
     "output_type": "stream",
     "text": [
      "not prime\n"
     ]
    },
    {
     "data": {
      "text/html": [
       "<table><tr><td>when seed 12, and reminder 3, generated is 149</td></tr><tr><td>13</td></tr><tr><td>3</td><td>7</td><td>1</td><td>2</td><td>1</td></tr><tr><td>11</td></tr></table>"
      ],
      "text/plain": [
       "<IPython.core.display.HTML object>"
      ]
     },
     "metadata": {},
     "output_type": "display_data"
    },
    {
     "name": "stdout",
     "output_type": "stream",
     "text": [
      "prime\n"
     ]
    },
    {
     "data": {
      "text/html": [
       "<table><tr><td>when seed 12, and reminder 4, generated is 151</td></tr><tr><td>13</td></tr><tr><td>4</td><td>8</td><td>2</td><td>3</td><td>2</td></tr><tr><td>11</td></tr></table>"
      ],
      "text/plain": [
       "<IPython.core.display.HTML object>"
      ]
     },
     "metadata": {},
     "output_type": "display_data"
    },
    {
     "name": "stdout",
     "output_type": "stream",
     "text": [
      "prime\n"
     ]
    },
    {
     "data": {
      "text/html": [
       "<table><tr><td>when seed 12, and reminder 5, generated is 153</td></tr><tr><td>13</td></tr><tr><td>5</td><td>0</td><td>3</td><td>4</td><td>0</td></tr><tr><td>11</td></tr></table>"
      ],
      "text/plain": [
       "<IPython.core.display.HTML object>"
      ]
     },
     "metadata": {},
     "output_type": "display_data"
    },
    {
     "name": "stdout",
     "output_type": "stream",
     "text": [
      "not prime\n"
     ]
    },
    {
     "data": {
      "text/html": [
       "<table><tr><td>when seed 12, and reminder 6, generated is 155</td></tr><tr><td>13</td></tr><tr><td>6</td><td>1</td><td>4</td><td>0</td><td>1</td></tr><tr><td>11</td></tr></table>"
      ],
      "text/plain": [
       "<IPython.core.display.HTML object>"
      ]
     },
     "metadata": {},
     "output_type": "display_data"
    },
    {
     "name": "stdout",
     "output_type": "stream",
     "text": [
      "not prime\n"
     ]
    },
    {
     "data": {
      "text/html": [
       "<table><tr><td>when seed 12, and reminder 7, generated is 157</td></tr><tr><td>13</td></tr><tr><td>7</td><td>2</td><td>5</td><td>1</td><td>2</td></tr><tr><td>11</td></tr></table>"
      ],
      "text/plain": [
       "<IPython.core.display.HTML object>"
      ]
     },
     "metadata": {},
     "output_type": "display_data"
    },
    {
     "name": "stdout",
     "output_type": "stream",
     "text": [
      "prime\n"
     ]
    },
    {
     "data": {
      "text/html": [
       "<table><tr><td>when seed 12, and reminder 8, generated is 159</td></tr><tr><td>13</td></tr><tr><td>8</td><td>3</td><td>6</td><td>2</td><td>0</td></tr><tr><td>11</td></tr></table>"
      ],
      "text/plain": [
       "<IPython.core.display.HTML object>"
      ]
     },
     "metadata": {},
     "output_type": "display_data"
    },
    {
     "name": "stdout",
     "output_type": "stream",
     "text": [
      "not prime\n"
     ]
    },
    {
     "data": {
      "text/html": [
       "<table><tr><td>when seed 12, and reminder 9, generated is 161</td></tr><tr><td>13</td></tr><tr><td>9</td><td>4</td><td>0</td><td>3</td><td>1</td></tr><tr><td>11</td></tr></table>"
      ],
      "text/plain": [
       "<IPython.core.display.HTML object>"
      ]
     },
     "metadata": {},
     "output_type": "display_data"
    },
    {
     "name": "stdout",
     "output_type": "stream",
     "text": [
      "not prime\n"
     ]
    },
    {
     "data": {
      "text/html": [
       "<table><tr><td>when seed 12, and reminder 10, generated is 163</td></tr><tr><td>13</td></tr><tr><td>10</td><td>5</td><td>1</td><td>4</td><td>2</td></tr><tr><td>11</td></tr></table>"
      ],
      "text/plain": [
       "<IPython.core.display.HTML object>"
      ]
     },
     "metadata": {},
     "output_type": "display_data"
    },
    {
     "name": "stdout",
     "output_type": "stream",
     "text": [
      "prime\n"
     ]
    },
    {
     "data": {
      "text/html": [
       "<table><tr><td>when seed 12, and reminder 11, generated is 165</td></tr><tr><td>13</td></tr><tr><td>0</td><td>6</td><td>2</td><td>0</td><td>0</td></tr><tr><td>11</td></tr></table>"
      ],
      "text/plain": [
       "<IPython.core.display.HTML object>"
      ]
     },
     "metadata": {},
     "output_type": "display_data"
    },
    {
     "name": "stdout",
     "output_type": "stream",
     "text": [
      "not prime\n"
     ]
    },
    {
     "data": {
      "text/html": [
       "<table><tr><td>when seed 12, and reminder 12, generated is 167</td></tr><tr><td>13</td></tr><tr><td>1</td><td>7</td><td>3</td><td>1</td><td>1</td></tr><tr><td>11</td></tr></table>"
      ],
      "text/plain": [
       "<IPython.core.display.HTML object>"
      ]
     },
     "metadata": {},
     "output_type": "display_data"
    },
    {
     "name": "stdout",
     "output_type": "stream",
     "text": [
      "prime\n"
     ]
    }
   ],
   "source": [
    "seed = 12\n",
    "middle = seed + 1\n",
    "middle_rem = 1\n",
    "\n",
    "generated = 0\n",
    "\n",
    "current = middle - 2\n",
    "\n",
    "temp_current = current\n",
    "\n",
    "sequences = []\n",
    "\n",
    "iext = 0\n",
    "jext = 0\n",
    "\n",
    "while middle_rem < seed + 1:\n",
    "    \n",
    "    generated = \"when seed {}, and reminder {}, generated is {}\".format(seed, middle_rem, (seed ** 2) + ((middle_rem * 2) - 1))\n",
    "    \n",
    "\n",
    "    if middle_rem == seed - 1:\n",
    "        \n",
    "        sequences.append([[generated], [middle], [0],[current]])\n",
    "        \n",
    "    elif middle_rem == seed:\n",
    "        \n",
    "        sequences.append([[generated], [middle], [1],[current]])\n",
    "        \n",
    "    else:\n",
    "    \n",
    "        sequences.append([[generated], [middle], [middle_rem],[current]])\n",
    "    \n",
    "\n",
    "    \n",
    "    middle_rem = middle_rem +1\n",
    "    \n",
    "while sequences[0][3][-1] > 3:\n",
    "    \n",
    "    #sequences[0][3][-1] = sequences[0][3][-1] - 2\n",
    "    \n",
    "    new_control = sequences[0][3][-1] - 2\n",
    "    new_top = (int((sequences[0][1][-1] + sequences[0][2][-1]) / new_control) * 2) + sequences[0][1][-1]\n",
    "    new_bottom = ((sequences[0][1][-1] + sequences[0][2][-1]) % new_control)\n",
    "    \n",
    "    sequences[0][1].append(new_top)\n",
    "    sequences[0][2].append(new_bottom)\n",
    "    sequences[0][3].append(new_control)\n",
    "    \n",
    "for i in range(1, len(sequences)):\n",
    "    iext = i\n",
    "    #print(iext)\n",
    "    #print(sequences[iext])\n",
    "    for j in range(1, len(sequences[0][2])):\n",
    "        jext = j\n",
    "        #print(jext)\n",
    "        lastindex = iext -1\n",
    "        \n",
    "        next_in_sequence = sequences[lastindex][2][jext] + 1\n",
    "        \n",
    "        if next_in_sequence < sequences[0][3][jext]:\n",
    "        \n",
    "            sequences[iext][2].append(next_in_sequence)\n",
    "        else:\n",
    "            sequences[iext][2].append(0)\n",
    "    \n",
    "        #sequences[i][j].append(int(sequences[iext-1]) + 1)\n",
    "    \n",
    "#for p in range(189, 194, 2):    \n",
    "    \n",
    "    #prime = True\n",
    "    #if 0 in sequences[2]:\n",
    "    #    prime = False\n",
    "    \n",
    "    #print(\"When p = {} triangular = {} and partial triangular = {} Is p prime? = {}\".format(p, t, partialt, prime))\n",
    "    #print(\"square root = {}, square root reminder = {}\".format(square_root, sqroot_rem))\n",
    "    #print(\"middle = {}, reminder of middle = {}\".format(middle, middle_rem))\n",
    "\n",
    "\n",
    "for table in sequences:\n",
    "    \n",
    "    display(HTML(\n",
    "        '<table><tr>{}</tr></table>'.format(\n",
    "            '</tr><tr>'.join(\n",
    "                '<td>{}</td>'.format('</td><td>'.join(str(_) for _ in row)) for row in table)\n",
    "            )\n",
    "     ))\n",
    "    \n",
    "    i = 0\n",
    "    if 0 in table[2]:\n",
    "        print(\"not prime\")\n",
    "    else:\n",
    "        print(\"prime\")\n",
    "    \n",
    "    i = i+1"
   ]
  },
  {
   "cell_type": "code",
   "execution_count": 64,
   "metadata": {},
   "outputs": [
    {
     "data": {
      "text/html": [
       "<table><tr><td>when seed 13, and reminder 0, generated is 169</td></tr><tr><td>13</td><td>15</td><td>17</td><td>23</td><td>33</td><td>55</td></tr><tr><td>0</td><td>2</td><td>8</td><td>4</td><td>2</td><td>2</td></tr><tr><td>13</td><td>11</td><td>9</td><td>7</td><td>5</td><td>3</td></tr></table>"
      ],
      "text/plain": [
       "<IPython.core.display.HTML object>"
      ]
     },
     "metadata": {},
     "output_type": "display_data"
    },
    {
     "name": "stdout",
     "output_type": "stream",
     "text": [
      "not prime\n"
     ]
    },
    {
     "data": {
      "text/html": [
       "<table><tr><td>when seed 13, and reminder 1, generated is 171</td></tr><tr><td>13</td></tr><tr><td>1</td><td>3</td><td>0</td><td>5</td><td>3</td><td>0</td></tr><tr><td>13</td></tr></table>"
      ],
      "text/plain": [
       "<IPython.core.display.HTML object>"
      ]
     },
     "metadata": {},
     "output_type": "display_data"
    },
    {
     "name": "stdout",
     "output_type": "stream",
     "text": [
      "not prime\n"
     ]
    },
    {
     "data": {
      "text/html": [
       "<table><tr><td>when seed 13, and reminder 2, generated is 173</td></tr><tr><td>13</td></tr><tr><td>2</td><td>4</td><td>1</td><td>6</td><td>4</td><td>1</td></tr><tr><td>13</td></tr></table>"
      ],
      "text/plain": [
       "<IPython.core.display.HTML object>"
      ]
     },
     "metadata": {},
     "output_type": "display_data"
    },
    {
     "name": "stdout",
     "output_type": "stream",
     "text": [
      "prime\n"
     ]
    },
    {
     "data": {
      "text/html": [
       "<table><tr><td>when seed 13, and reminder 3, generated is 175</td></tr><tr><td>13</td></tr><tr><td>3</td><td>5</td><td>2</td><td>0</td><td>0</td><td>2</td></tr><tr><td>13</td></tr></table>"
      ],
      "text/plain": [
       "<IPython.core.display.HTML object>"
      ]
     },
     "metadata": {},
     "output_type": "display_data"
    },
    {
     "name": "stdout",
     "output_type": "stream",
     "text": [
      "not prime\n"
     ]
    },
    {
     "data": {
      "text/html": [
       "<table><tr><td>when seed 13, and reminder 4, generated is 177</td></tr><tr><td>13</td></tr><tr><td>4</td><td>6</td><td>3</td><td>1</td><td>1</td><td>0</td></tr><tr><td>13</td></tr></table>"
      ],
      "text/plain": [
       "<IPython.core.display.HTML object>"
      ]
     },
     "metadata": {},
     "output_type": "display_data"
    },
    {
     "name": "stdout",
     "output_type": "stream",
     "text": [
      "not prime\n"
     ]
    },
    {
     "data": {
      "text/html": [
       "<table><tr><td>when seed 13, and reminder 5, generated is 179</td></tr><tr><td>13</td></tr><tr><td>5</td><td>7</td><td>4</td><td>2</td><td>2</td><td>1</td></tr><tr><td>13</td></tr></table>"
      ],
      "text/plain": [
       "<IPython.core.display.HTML object>"
      ]
     },
     "metadata": {},
     "output_type": "display_data"
    },
    {
     "name": "stdout",
     "output_type": "stream",
     "text": [
      "prime\n"
     ]
    },
    {
     "data": {
      "text/html": [
       "<table><tr><td>when seed 13, and reminder 6, generated is 181</td></tr><tr><td>13</td></tr><tr><td>6</td><td>8</td><td>5</td><td>3</td><td>3</td><td>2</td></tr><tr><td>13</td></tr></table>"
      ],
      "text/plain": [
       "<IPython.core.display.HTML object>"
      ]
     },
     "metadata": {},
     "output_type": "display_data"
    },
    {
     "name": "stdout",
     "output_type": "stream",
     "text": [
      "prime\n"
     ]
    },
    {
     "data": {
      "text/html": [
       "<table><tr><td>when seed 13, and reminder 7, generated is 183</td></tr><tr><td>13</td></tr><tr><td>7</td><td>9</td><td>6</td><td>4</td><td>4</td><td>0</td></tr><tr><td>13</td></tr></table>"
      ],
      "text/plain": [
       "<IPython.core.display.HTML object>"
      ]
     },
     "metadata": {},
     "output_type": "display_data"
    },
    {
     "name": "stdout",
     "output_type": "stream",
     "text": [
      "not prime\n"
     ]
    },
    {
     "data": {
      "text/html": [
       "<table><tr><td>when seed 13, and reminder 8, generated is 185</td></tr><tr><td>13</td></tr><tr><td>8</td><td>10</td><td>7</td><td>5</td><td>0</td><td>1</td></tr><tr><td>13</td></tr></table>"
      ],
      "text/plain": [
       "<IPython.core.display.HTML object>"
      ]
     },
     "metadata": {},
     "output_type": "display_data"
    },
    {
     "name": "stdout",
     "output_type": "stream",
     "text": [
      "not prime\n"
     ]
    },
    {
     "data": {
      "text/html": [
       "<table><tr><td>when seed 13, and reminder 9, generated is 187</td></tr><tr><td>13</td></tr><tr><td>9</td><td>0</td><td>8</td><td>6</td><td>1</td><td>2</td></tr><tr><td>13</td></tr></table>"
      ],
      "text/plain": [
       "<IPython.core.display.HTML object>"
      ]
     },
     "metadata": {},
     "output_type": "display_data"
    },
    {
     "name": "stdout",
     "output_type": "stream",
     "text": [
      "not prime\n"
     ]
    },
    {
     "data": {
      "text/html": [
       "<table><tr><td>when seed 13, and reminder 10, generated is 189</td></tr><tr><td>13</td></tr><tr><td>10</td><td>1</td><td>0</td><td>0</td><td>2</td><td>0</td></tr><tr><td>13</td></tr></table>"
      ],
      "text/plain": [
       "<IPython.core.display.HTML object>"
      ]
     },
     "metadata": {},
     "output_type": "display_data"
    },
    {
     "name": "stdout",
     "output_type": "stream",
     "text": [
      "not prime\n"
     ]
    },
    {
     "data": {
      "text/html": [
       "<table><tr><td>when seed 13, and reminder 11, generated is 191</td></tr><tr><td>13</td></tr><tr><td>11</td><td>2</td><td>1</td><td>1</td><td>3</td><td>1</td></tr><tr><td>13</td></tr></table>"
      ],
      "text/plain": [
       "<IPython.core.display.HTML object>"
      ]
     },
     "metadata": {},
     "output_type": "display_data"
    },
    {
     "name": "stdout",
     "output_type": "stream",
     "text": [
      "prime\n"
     ]
    },
    {
     "data": {
      "text/html": [
       "<table><tr><td>when seed 13, and reminder 12, generated is 193</td></tr><tr><td>13</td></tr><tr><td>12</td><td>3</td><td>2</td><td>2</td><td>4</td><td>2</td></tr><tr><td>13</td></tr></table>"
      ],
      "text/plain": [
       "<IPython.core.display.HTML object>"
      ]
     },
     "metadata": {},
     "output_type": "display_data"
    },
    {
     "name": "stdout",
     "output_type": "stream",
     "text": [
      "prime\n"
     ]
    },
    {
     "data": {
      "text/html": [
       "<table><tr><td>when seed 13, and reminder 13, generated is 195</td></tr><tr><td>13</td></tr><tr><td>0</td><td>4</td><td>3</td><td>3</td><td>0</td><td>0</td></tr><tr><td>13</td></tr></table>"
      ],
      "text/plain": [
       "<IPython.core.display.HTML object>"
      ]
     },
     "metadata": {},
     "output_type": "display_data"
    },
    {
     "name": "stdout",
     "output_type": "stream",
     "text": [
      "not prime\n"
     ]
    }
   ],
   "source": [
    "seed = 13\n",
    "middle = seed\n",
    "middle_rem = 0\n",
    "\n",
    "generated = 0\n",
    "\n",
    "current = middle\n",
    "\n",
    "temp_current = current\n",
    "\n",
    "sequences = []\n",
    "\n",
    "iext = 0\n",
    "jext = 0\n",
    "\n",
    "while middle_rem < seed + 1:\n",
    "    \n",
    "    generated = \"when seed {}, and reminder {}, generated is {}\".format(seed, middle_rem, ((seed ** 2) + (middle_rem * 2)))\n",
    "    \n",
    "\n",
    "    #if middle_rem == seed - 1:\n",
    "        \n",
    "    #    sequences.append([[generated], [middle], [0],[current]])\n",
    "        \n",
    "    if middle_rem == seed:\n",
    "        \n",
    "        sequences.append([[generated], [middle], [0],[current]])\n",
    "        \n",
    "    else:\n",
    "    \n",
    "        sequences.append([[generated], [middle], [middle_rem],[current]])\n",
    "    \n",
    "\n",
    "    \n",
    "    middle_rem = middle_rem +1\n",
    "    \n",
    "while sequences[0][3][-1] > 3:\n",
    "    \n",
    "    #sequences[0][3][-1] = sequences[0][3][-1] - 2\n",
    "    \n",
    "    new_control = sequences[0][3][-1] - 2\n",
    "    new_top = (int((sequences[0][1][-1] + sequences[0][2][-1]) / new_control) * 2) + sequences[0][1][-1]\n",
    "    new_bottom = ((sequences[0][1][-1] + sequences[0][2][-1]) % new_control)\n",
    "    \n",
    "    sequences[0][1].append(new_top)\n",
    "    sequences[0][2].append(new_bottom)\n",
    "    sequences[0][3].append(new_control)\n",
    "    \n",
    "for i in range(1, len(sequences)):\n",
    "    iext = i\n",
    "    #print(iext)\n",
    "    #print(sequences[iext])\n",
    "    for j in range(1, len(sequences[0][2])):\n",
    "        jext = j\n",
    "        #print(jext)\n",
    "        lastindex = iext -1\n",
    "        \n",
    "        next_in_sequence = sequences[lastindex][2][jext] + 1\n",
    "        \n",
    "        if next_in_sequence < sequences[0][3][jext]:\n",
    "        \n",
    "            sequences[iext][2].append(next_in_sequence)\n",
    "        else:\n",
    "            sequences[iext][2].append(0)\n",
    "    \n",
    "        #sequences[i][j].append(int(sequences[iext-1]) + 1)\n",
    "    \n",
    "#for p in range(189, 194, 2):    \n",
    "    \n",
    "    #prime = True\n",
    "    #if 0 in sequences[2]:\n",
    "    #    prime = False\n",
    "    \n",
    "    #print(\"When p = {} triangular = {} and partial triangular = {} Is p prime? = {}\".format(p, t, partialt, prime))\n",
    "    #print(\"square root = {}, square root reminder = {}\".format(square_root, sqroot_rem))\n",
    "    #print(\"middle = {}, reminder of middle = {}\".format(middle, middle_rem))\n",
    "\n",
    "\n",
    "for table in sequences:\n",
    "    \n",
    "    display(HTML(\n",
    "        '<table><tr>{}</tr></table>'.format(\n",
    "            '</tr><tr>'.join(\n",
    "                '<td>{}</td>'.format('</td><td>'.join(str(_) for _ in row)) for row in table)\n",
    "            )\n",
    "     ))\n",
    "    \n",
    "    i = 0\n",
    "    if 0 in table[2]:\n",
    "        print(\"not prime\")\n",
    "    else:\n",
    "        print(\"prime\")\n",
    "    \n",
    "    i = i+1"
   ]
  },
  {
   "cell_type": "markdown",
   "metadata": {},
   "source": [
    "Above generated numbers for both if seed is even and odd and filling the rest of the numbers just by keep up adding 1 to each row until reach the limit of the row which is the corresponding divisor on the left of middle we get the same result and successfully generate a prime or primes from the seed squared + it's seed * 2 or (seed * 2) - 1 deppending if seed is even or odd"
   ]
  },
  {
   "cell_type": "markdown",
   "metadata": {},
   "source": [
    "With that last tables reached the end of the document with what i have observed about this method so far, so first of all. Thank you for reading and your attention, and second sorry if abused a bit on the use of tables and copy paste code, i only know enough python to do simple things and show the concepts, as can be seen is maybe a simple algorithm but have enough conditions and variants to confuse me when i try to make a function that handles the tests and the correct output to be shown.\n",
    "\n",
    "I hope this document to be useful and contribute in some way to a bigger purpose and if as reader feel like contributing with this method further development will be very welcome to do so.\n",
    "\n",
    "About this document and the code on it licence, since is a jupyter notebook that can be expored on non interactive forms of digital media, decided to licence it as Creative Commons, as code as it's meant to be the repository is under MIT licence, both choices being made because the freedom they give for distribution, use and contribution.\n",
    "\n",
    "I'm not a pro developer and new to Github and how it works so if handling contributions if any at first takes a bit of time please understand.\n",
    "\n",
    "Thank you.\n",
    "\n",
    "https://github.com/PandaLz/PrimeRT-Lz"
   ]
  },
  {
   "cell_type": "markdown",
   "metadata": {},
   "source": [
    "<a rel=\"license\" href=\"http://creativecommons.org/licenses/by-sa/4.0/\"><img alt=\"Creative Commons License\" style=\"border-width:0\" src=\"https://i.creativecommons.org/l/by-sa/4.0/88x31.png\" /></a><br />This work is licensed under a <a rel=\"license\" href=\"http://creativecommons.org/licenses/by-sa/4.0/\">Creative Commons Attribution-ShareAlike 4.0 International License</a>."
   ]
  },
  {
   "cell_type": "code",
   "execution_count": null,
   "metadata": {},
   "outputs": [],
   "source": []
  }
 ],
 "metadata": {
  "kernelspec": {
   "display_name": "Python 3",
   "language": "python",
   "name": "python3"
  },
  "language_info": {
   "codemirror_mode": {
    "name": "ipython",
    "version": 3
   },
   "file_extension": ".py",
   "mimetype": "text/x-python",
   "name": "python",
   "nbconvert_exporter": "python",
   "pygments_lexer": "ipython3",
   "version": "3.6.5"
  }
 },
 "nbformat": 4,
 "nbformat_minor": 2
}
